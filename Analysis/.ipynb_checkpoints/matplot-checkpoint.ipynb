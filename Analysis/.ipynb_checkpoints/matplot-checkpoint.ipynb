{
 "cells": [
  {
   "cell_type": "code",
   "execution_count": 1,
   "id": "2fed9f51",
   "metadata": {},
   "outputs": [],
   "source": [
    "import matplotlib.pyplot as plt\n",
    "import numpy as np\n",
    "from matplotlib import colors\n",
    "from matplotlib.ticker import PercentFormatter\n"
   ]
  },
  {
   "cell_type": "code",
   "execution_count": 2,
   "id": "2929eb39",
   "metadata": {
    "scrolled": true
   },
   "outputs": [
    {
     "ename": "NameError",
     "evalue": "name 'Chem' is not defined",
     "output_type": "error",
     "traceback": [
      "\u001b[0;31m---------------------------------------------------------------------------\u001b[0m",
      "\u001b[0;31mNameError\u001b[0m                                 Traceback (most recent call last)",
      "Input \u001b[0;32mIn [2]\u001b[0m, in \u001b[0;36m<cell line: 24>\u001b[0;34m()\u001b[0m\n\u001b[1;32m     34\u001b[0m bestligandinput \u001b[38;5;241m=\u001b[39m \u001b[38;5;124m\"\u001b[39m\u001b[38;5;124m/home/louis/SBVS/results/BEST/\u001b[39m\u001b[38;5;124m\"\u001b[39m\u001b[38;5;241m+\u001b[39mnomligand\u001b[38;5;241m+\u001b[39m\u001b[38;5;124m\"\u001b[39m\u001b[38;5;124m.pdbqt\u001b[39m\u001b[38;5;124m\"\u001b[39m\n\u001b[1;32m     35\u001b[0m bestligandoutput \u001b[38;5;241m=\u001b[39m \u001b[38;5;124m\"\u001b[39m\u001b[38;5;124m/home/louis/SBVS/Analysis/temp/\u001b[39m\u001b[38;5;124m\"\u001b[39m\u001b[38;5;241m+\u001b[39mnomligand\u001b[38;5;241m+\u001b[39m\u001b[38;5;124m\"\u001b[39m\u001b[38;5;124m.pdb\u001b[39m\u001b[38;5;124m\"\u001b[39m      \n\u001b[0;32m---> 36\u001b[0m m \u001b[38;5;241m=\u001b[39m \u001b[43mChem\u001b[49m\u001b[38;5;241m.\u001b[39mMolFromPDBFile(\u001b[38;5;124m\"\u001b[39m\u001b[38;5;124m/home/louis/SBVS/Analysis/smartp/test.mol\u001b[39m\u001b[38;5;124m\"\u001b[39m,sanitize\u001b[38;5;241m=\u001b[39m\u001b[38;5;28;01mFalse\u001b[39;00m)\n\u001b[1;32m     37\u001b[0m logp \u001b[38;5;241m=\u001b[39m Chem\u001b[38;5;241m.\u001b[39mCrippen\u001b[38;5;241m.\u001b[39mMolLogP(m)\n\u001b[1;32m     38\u001b[0m kmeanarray \u001b[38;5;241m=\u001b[39m numpy\u001b[38;5;241m.\u001b[39mappend(kmeanarray, [[value, vardist,logp]], axis \u001b[38;5;241m=\u001b[39m \u001b[38;5;241m0\u001b[39m)\n",
      "\u001b[0;31mNameError\u001b[0m: name 'Chem' is not defined"
     ]
    }
   ],
   "source": [
    "import matplotlib.pyplot as plt\n",
    "import numpy as np\n",
    "from matplotlib import colors\n",
    "from matplotlib.ticker import PercentFormatter\n",
    "import os,shutil,math,statistics\n",
    "from lxml import etree\n",
    "root = etree.parse(\"/home/louis/SBVS/results/XML/output.xml\")\n",
    "good = []\n",
    "distrib1 = []\n",
    "distrib2 = []\n",
    "distancetotal = []\n",
    "kmeanarray = np.array([[0, 0, 0], [0, 0, 0]])\n",
    "\n",
    "coordxfmn = 269.807\n",
    "coordyfmn = 257.777\n",
    "coordzfmn = 280.718\n",
    "distancecalc = []\n",
    "def distance(x1,y1,z1,x2,y2,z2):\n",
    "    d = math.sqrt(pow(x2 - x1, 2) +\n",
    "                pow(y2 - y1, 2) +\n",
    "                pow(z2 - z1, 2) * 1.0);\n",
    "    return d\n",
    " \n",
    "for x in range(1,1000):\n",
    "    name = \"outputfile\"+str(x)\n",
    "    #try:\n",
    "    count = 0\n",
    "    for a in root.findall(name):\n",
    "        \n",
    "        value = float(a.find('energy').text)\n",
    "        distrib1.append(value)\n",
    "        vardist = distance(coordxfmn,coordyfmn,coordzfmn,float(a.find('coordx').text),float(a.find('coordy').text),float(a.find('coordz').text))\n",
    "        nomligand = a.find('nomligand').text\n",
    "        bestligandinput = \"/home/louis/SBVS/results/BEST/\"+nomligand+\".pdbqt\"\n",
    "        bestligandoutput = \"/home/louis/SBVS/Analysis/temp/\"+nomligand+\".pdb\"      \n",
    "        m = Chem.MolFromPDBFile(\"/home/louis/SBVS/Analysis/smartp/test.mol\",sanitize=False)\n",
    "        logp = Chem.Crippen.MolLogP(m)\n",
    "        kmeanarray = numpy.append(kmeanarray, [[value, vardist,logp]], axis = 0)\n",
    "        count = count + 1\n",
    "        distancetotal.append(vardist)\n",
    "        if value > -9:\n",
    "            good.append(nomligand)\n",
    "            obabel = \"obabel -ipdbqt \"+bestligandinput+\" -opdbqt -O\"+bestligandoutput\n",
    "            os.system(obabel)\n",
    "            distancecalc.append(vardist)\n",
    "print(kmeanarray)\n",
    "print(distancetotal)\n",
    "print(statistics.mean(distancecalc))"
   ]
  },
  {
   "cell_type": "code",
   "execution_count": 38,
   "id": "7448635c",
   "metadata": {},
   "outputs": [
    {
     "data": {
      "text/plain": [
       "(array([  2.,   5.,   7.,  17.,  48.,  87., 137., 150., 131., 137.,  87.,\n",
       "         52.,  41.,  28.,  13.,   4.,   3.,   3.,   0.,   1.]),\n",
       " array([-8.37 , -8.127, -7.884, -7.641, -7.398, -7.155, -6.912, -6.669,\n",
       "        -6.426, -6.183, -5.94 , -5.697, -5.454, -5.211, -4.968, -4.725,\n",
       "        -4.482, -4.239, -3.996, -3.753, -3.51 ]),\n",
       " <BarContainer object of 20 artists>)"
      ]
     },
     "execution_count": 38,
     "metadata": {},
     "output_type": "execute_result"
    },
    {
     "data": {
      "image/png": "[encoded data removed]",
      "text/plain": [
       "<Figure size 432x288 with 1 Axes>"
      ]
     },
     "metadata": {
      "needs_background": "light"
     },
     "output_type": "display_data"
    }
   ],
   "source": [
    "plt.figure(1)\n",
    "plt.hist(distrib1, bins=20)"
   ]
  },
  {
   "cell_type": "code",
   "execution_count": 39,
   "id": "d8eecf05",
   "metadata": {},
   "outputs": [
    {
     "data": {
      "text/plain": [
       "(array([ 64.,  84.,  14., 190., 307.,  24.,   0.,   0.,   0.,   0.,   2.,\n",
       "          1.,   0.,   0.,   3.,   3.,   1.,   7., 126., 127.]),\n",
       " array([ 4.70061027,  5.66372397,  6.62683767,  7.58995137,  8.55306507,\n",
       "         9.51617877, 10.47929248, 11.44240618, 12.40551988, 13.36863358,\n",
       "        14.33174728, 15.29486098, 16.25797469, 17.22108839, 18.18420209,\n",
       "        19.14731579, 20.11042949, 21.07354319, 22.03665689, 22.9997706 ,\n",
       "        23.9628843 ]),\n",
       " <BarContainer object of 20 artists>)"
      ]
     },
     "execution_count": 39,
     "metadata": {},
     "output_type": "execute_result"
    },
    {
     "data": {
      "image/png": "[encoded data removed]",
      "text/plain": [
       "<Figure size 432x288 with 1 Axes>"
      ]
     },
     "metadata": {
      "needs_background": "light"
     },
     "output_type": "display_data"
    }
   ],
   "source": [
    "plt.figure(2)\n",
    "plt.hist(distancetotal, bins=20)"
   ]
  },
  {
   "cell_type": "code",
   "execution_count": 40,
   "id": "9d8c775f",
   "metadata": {},
   "outputs": [
    {
     "data": {
      "text/plain": [
       "<matplotlib.collections.PathCollection at 0x7fe1159ea6a0>"
      ]
     },
     "execution_count": 40,
     "metadata": {},
     "output_type": "execute_result"
    },
    {
     "data": {
      "image/png": "[encoded data removed]",
      "text/plain": [
       "<Figure size 432x288 with 1 Axes>"
      ]
     },
     "metadata": {
      "needs_background": "light"
     },
     "output_type": "display_data"
    }
   ],
   "source": [
    "plt.figure(3)\n",
    "plt.scatter(distancetotal, distrib1)"
   ]
  },
  {
   "cell_type": "code",
   "execution_count": 7,
   "id": "21ebf4d7",
   "metadata": {},
   "outputs": [
    {
     "name": "stderr",
     "output_type": "stream",
     "text": [
      "1 molecule converted\n",
      "1 molecule converted\n",
      "1 molecule converted\n",
      "1 molecule converted\n",
      "1 molecule converted\n",
      "1 molecule converted\n",
      "1 molecule converted\n",
      "1 molecule converted\n",
      "1 molecule converted\n",
      "1 molecule converted\n",
      "1 molecule converted\n",
      "1 molecule converted\n",
      "1 molecule converted\n",
      "1 molecule converted\n",
      "1 molecule converted\n",
      "1 molecule converted\n",
      "1 molecule converted\n",
      "1 molecule converted\n",
      "1 molecule converted\n"
     ]
    },
    {
     "name": "stdout",
     "output_type": "stream",
     "text": [
      "6.854243424162559\n"
     ]
    },
    {
     "name": "stderr",
     "output_type": "stream",
     "text": [
      "1 molecule converted\n",
      "1 molecule converted\n",
      "1 molecule converted\n",
      "1 molecule converted\n",
      "1 molecule converted\n"
     ]
    },
    {
     "data": {
      "image/png": "[encoded data removed]",
      "text/plain": [
       "<Figure size 432x288 with 1 Axes>"
      ]
     },
     "metadata": {
      "needs_background": "light"
     },
     "output_type": "display_data"
    }
   ],
   "source": [
    "import os,shutil,math,statistics\n",
    "from lxml import etree\n",
    "root = etree.parse(\"/home/louis/SBVS/results/XML/output2.xml\")\n",
    "good = []\n",
    "distrib1 = []\n",
    "distrib2 = []\n",
    "\n",
    "coordxfmn = 269.807\n",
    "coordyfmn = 257.777\n",
    "coordzfmn = 280.718\n",
    "distancecalc = []\n",
    "def distance(x1,y1,z1,x2,y2,z2):\n",
    "    d = math.sqrt(pow(x2 - x1, 2) +\n",
    "                pow(y2 - y1, 2) +\n",
    "                pow(z2 - z1, 2) * 1.0);\n",
    "    return d\n",
    " \n",
    "for x in range(2,2000):\n",
    "    name = \"outputfile\"+str(x)\n",
    "    #try:\n",
    "    for a in root.findall(name):\n",
    "        value = float(a.find('energy').text)\n",
    "        distrib1.append(value)\n",
    "        if value < -8:\n",
    "            nomligand = a.find('nomligand').text\n",
    "            good.append(nomligand)\n",
    "            bestligandinput = \"/home/louis/SBVS/results/BEST/\"+nomligand+\".pdbqt\"\n",
    "            bestligandoutput = \"/home/louis/SBVS/Analysis/temp/\"+nomligand+\".pdb\"\n",
    "            obabel = \"obabel -ipdbqt \"+bestligandinput+\" -opdbqt -O\"+bestligandoutput\n",
    "            os.system(obabel)\n",
    "            distancecalc.append(distance(coordxfmn,coordyfmn,coordzfmn,float(a.find('coordx').text),float(a.find('coordy').text),float(a.find('coordz').text)))\n",
    "\n",
    "plt.hist(distrib1, bins=20)\n",
    "print(statistics.mean(distancecalc))"
   ]
  },
  {
   "cell_type": "code",
   "execution_count": 8,
   "id": "277e0fcf",
   "metadata": {},
   "outputs": [
    {
     "name": "stderr",
     "output_type": "stream",
     "text": [
      "1 molecule converted\n",
      "1 molecule converted\n",
      "1 molecule converted\n",
      "1 molecule converted\n",
      "1 molecule converted\n",
      "1 molecule converted\n",
      "1 molecule converted\n",
      "1 molecule converted\n",
      "1 molecule converted\n",
      "1 molecule converted\n",
      "1 molecule converted\n",
      "1 molecule converted\n",
      "1 molecule converted\n",
      "1 molecule converted\n",
      "1 molecule converted\n",
      "1 molecule converted\n",
      "1 molecule converted\n",
      "1 molecule converted\n",
      "1 molecule converted\n",
      "1 molecule converted\n",
      "1 molecule converted\n",
      "1 molecule converted\n",
      "1 molecule converted\n",
      "1 molecule converted\n",
      "1 molecule converted\n"
     ]
    },
    {
     "name": "stdout",
     "output_type": "stream",
     "text": [
      "15.184412021594628\n"
     ]
    },
    {
     "data": {
      "image/png": "[encoded data removed]",
      "text/plain": [
       "<Figure size 432x288 with 1 Axes>"
      ]
     },
     "metadata": {
      "needs_background": "light"
     },
     "output_type": "display_data"
    }
   ],
   "source": [
    "import os,shutil,math,statistics\n",
    "from lxml import etree\n",
    "root = etree.parse(\"/home/louis/SBVS/results/XML/output2.xml\")\n",
    "good = []\n",
    "distrib1 = []\n",
    "distrib2 = []\n",
    "\n",
    "coordxfmn = 269.807\n",
    "coordyfmn = 257.777\n",
    "coordzfmn = 280.718\n",
    "distancecalc = []\n",
    "def distance(x1,y1,z1,x2,y2,z2):\n",
    "    d = math.sqrt(pow(x2 - x1, 2) +\n",
    "                pow(y2 - y1, 2) +\n",
    "                pow(z2 - z1, 2) * 1.0);\n",
    "    return d\n",
    " \n",
    "for x in range(2,2000):\n",
    "    name = \"outputfile\"+str(x)\n",
    "    #try:\n",
    "    for a in root.findall(name):\n",
    "        value = float(a.find('energy').text)\n",
    "        distrib1.append(value)\n",
    "        if value > -5:\n",
    "            nomligand = a.find('nomligand').text\n",
    "            good.append(nomligand)\n",
    "            bestligandinput = \"/home/louis/SBVS/results/BEST/\"+nomligand+\".pdbqt\"\n",
    "            bestligandoutput = \"/home/louis/SBVS/Analysis/smartn/\"+nomligand+\".mol2\"\n",
    "            obabel = \"obabel -ipdbqt \"+bestligandinput+\" -omol2 -O\"+bestligandoutput\n",
    "            os.system(obabel)\n",
    "            distancecalc.append(distance(coordxfmn,coordyfmn,coordzfmn,float(a.find('coordx').text),float(a.find('coordy').text),float(a.find('coordz').text)))\n",
    "\n",
    "plt.hist(distrib1, bins=20)\n",
    "print(statistics.mean(distancecalc))"
   ]
  },
  {
   "cell_type": "code",
   "execution_count": 21,
   "id": "b4f563d5",
   "metadata": {},
   "outputs": [
    {
     "name": "stderr",
     "output_type": "stream",
     "text": [
      "1 molecule converted\n",
      "==============================\n",
      "*** Open Babel Warning  in PerceiveBondOrders\n",
      "  Failed to kekulize aromatic bonds in OBMol::PerceiveBondOrders (title is outputfile6789.pdb)\n",
      "\n",
      "1 molecule converted\n",
      "1 molecule converted\n",
      "1 molecule converted\n",
      "1 molecule converted\n",
      "1 molecule converted\n",
      "1 molecule converted\n",
      "1 molecule converted\n",
      "1 molecule converted\n",
      "1 molecule converted\n",
      "1 molecule converted\n",
      "1 molecule converted\n",
      "1 molecule converted\n",
      "1 molecule converted\n",
      "1 molecule converted\n",
      "1 molecule converted\n",
      "1 molecule converted\n",
      "1 molecule converted\n",
      "1 molecule converted\n",
      "1 molecule converted\n"
     ]
    },
    {
     "name": "stdout",
     "output_type": "stream",
     "text": [
      "6.080444848011682\n"
     ]
    },
    {
     "data": {
      "image/png": "[encoded data removed]",
      "text/plain": [
       "<Figure size 432x288 with 1 Axes>"
      ]
     },
     "metadata": {
      "needs_background": "light"
     },
     "output_type": "display_data"
    }
   ],
   "source": [
    "import os,shutil,math,statistics\n",
    "from lxml import etree\n",
    "root = etree.parse(\"/home/louis/SBVS/results/XML/output.xml\")\n",
    "good = []\n",
    "distrib1 = []\n",
    "distrib2 = []\n",
    "\n",
    "coordxfmn = 269.807\n",
    "coordyfmn = 257.777\n",
    "coordzfmn = 280.718\n",
    "distancecalc = []\n",
    "def distance(x1,y1,z1,x2,y2,z2):\n",
    "    d = math.sqrt(pow(x2 - x1, 2) +\n",
    "                pow(y2 - y1, 2) +\n",
    "                pow(z2 - z1, 2) * 1.0);\n",
    "    return d\n",
    " \n",
    "for x in range(2000,12000):\n",
    "    name = \"outputfile\"+str(x)\n",
    "    #try:\n",
    "    for a in root.findall(name):\n",
    "        value = float(a.find('energy').text)\n",
    "        distrib1.append(value)\n",
    "        if value < -10:\n",
    "            nomligand = a.find('nomligand').text\n",
    "            good.append(nomligand)\n",
    "            bestligandinput = \"/home/louis/SBVS/results/BEST/\"+nomligand+\".pdbqt\"\n",
    "            bestligandoutput = \"/home/louis/SBVS/Analysis/smartp/\"+nomligand+\".mol\"\n",
    "            obabel = \"obabel -ipdbqt \"+bestligandinput+\" -omol -O\"+bestligandoutput\n",
    "            os.system(obabel)\n",
    "            distancecalc.append(distance(coordxfmn,coordyfmn,coordzfmn,float(a.find('coordx').text),float(a.find('coordy').text),float(a.find('coordz').text)))\n",
    "\n",
    "plt.hist(distrib1, bins=20)\n",
    "print(statistics.mean(distancecalc))"
   ]
  },
  {
   "cell_type": "code",
   "execution_count": 14,
   "id": "394b2291",
   "metadata": {
    "scrolled": true
   },
   "outputs": [],
   "source": [
    "from rdkit.Chem import rdFMCS\n",
    "from rdkit import Chem"
   ]
  },
  {
   "cell_type": "code",
   "execution_count": 23,
   "id": "4e332b54",
   "metadata": {
    "scrolled": false
   },
   "outputs": [
    {
     "ename": "OSError",
     "evalue": "Bad input file outputfile9059.pdb.mol",
     "output_type": "error",
     "traceback": [
      "\u001b[0;31m---------------------------------------------------------------------------\u001b[0m",
      "\u001b[0;31mOSError\u001b[0m                                   Traceback (most recent call last)",
      "Input \u001b[0;32mIn [23]\u001b[0m, in \u001b[0;36m<cell line: 5>\u001b[0;34m()\u001b[0m\n\u001b[1;32m      4\u001b[0m file_names \u001b[38;5;241m=\u001b[39m [fn \u001b[38;5;28;01mfor\u001b[39;00m fn \u001b[38;5;129;01min\u001b[39;00m os\u001b[38;5;241m.\u001b[39mlistdir(\u001b[38;5;124m\"\u001b[39m\u001b[38;5;124m/home/louis/SBVS/Analysis/smartp/\u001b[39m\u001b[38;5;124m\"\u001b[39m) \u001b[38;5;28;01mif\u001b[39;00m fn\u001b[38;5;241m.\u001b[39mendswith(\u001b[38;5;124m\"\u001b[39m\u001b[38;5;124m.mol\u001b[39m\u001b[38;5;124m\"\u001b[39m)]\n\u001b[1;32m      5\u001b[0m \u001b[38;5;28;01mfor\u001b[39;00m x \u001b[38;5;129;01min\u001b[39;00m \u001b[38;5;28mrange\u001b[39m(\u001b[38;5;28mlen\u001b[39m(file_names)):\n\u001b[0;32m----> 6\u001b[0m     mols\u001b[38;5;241m.\u001b[39mappend(\u001b[43mChem\u001b[49m\u001b[38;5;241;43m.\u001b[39;49m\u001b[43mMolFromMolFile\u001b[49m\u001b[43m(\u001b[49m\u001b[43mfile_names\u001b[49m\u001b[43m[\u001b[49m\u001b[43mx\u001b[49m\u001b[43m]\u001b[49m\u001b[43m)\u001b[49m)\n\u001b[1;32m      7\u001b[0m     \u001b[38;5;28mprint\u001b[39m(\u001b[38;5;124m\"\u001b[39m\u001b[38;5;124mok\u001b[39m\u001b[38;5;124m\"\u001b[39m)\n\u001b[1;32m      8\u001b[0m res\u001b[38;5;241m=\u001b[39mrdFMCS\u001b[38;5;241m.\u001b[39mFindMCS(mols)\n",
      "\u001b[0;31mOSError\u001b[0m: Bad input file outputfile9059.pdb.mol"
     ]
    }
   ],
   "source": [
    "from rdkit.Chem import rdFMCS\n",
    "\n",
    "#mol1 = Chem.MolFromMolFile('data/input.mol')\n",
    "file_names = [fn for fn in os.listdir(\"/home/louis/SBVS/Analysis/smartp/\") if fn.endswith(\".mol\")]\n",
    "for x in range(len(file_names)):\n",
    "    mols.append(Chem.MolFromMolFile(file_names[x]))\n",
    "    print(\"ok\")\n",
    "res=rdFMCS.FindMCS(mols)\n",
    "print(res.smartsString)\n",
    "res.canceled"
   ]
  },
  {
   "cell_type": "code",
   "execution_count": 68,
   "id": "547b632b",
   "metadata": {},
   "outputs": [
    {
     "ename": "ValueError",
     "evalue": "all the input array dimensions for the concatenation axis must match exactly, but along dimension 1, the array at index 0 has size 0 and the array at index 1 has size 2",
     "output_type": "error",
     "traceback": [
      "\u001b[0;31m---------------------------------------------------------------------------\u001b[0m",
      "\u001b[0;31mValueError\u001b[0m                                Traceback (most recent call last)",
      "Input \u001b[0;32mIn [68]\u001b[0m, in \u001b[0;36m<cell line: 5>\u001b[0;34m()\u001b[0m\n\u001b[1;32m      1\u001b[0m \u001b[38;5;28;01mimport\u001b[39;00m \u001b[38;5;21;01mnumpy\u001b[39;00m\n\u001b[1;32m      3\u001b[0m a \u001b[38;5;241m=\u001b[39m numpy\u001b[38;5;241m.\u001b[39marray([[], []])\n\u001b[0;32m----> 5\u001b[0m newArray \u001b[38;5;241m=\u001b[39m \u001b[43mnumpy\u001b[49m\u001b[38;5;241;43m.\u001b[39;49m\u001b[43mappend\u001b[49m\u001b[43m(\u001b[49m\u001b[43ma\u001b[49m\u001b[43m,\u001b[49m\u001b[43m \u001b[49m\u001b[43m[\u001b[49m\u001b[43m[\u001b[49m\u001b[43mvalue\u001b[49m\u001b[43m,\u001b[49m\u001b[43m \u001b[49m\u001b[43mvardist\u001b[49m\u001b[43m]\u001b[49m\u001b[43m]\u001b[49m\u001b[43m,\u001b[49m\u001b[43m \u001b[49m\u001b[43maxis\u001b[49m\u001b[43m \u001b[49m\u001b[38;5;241;43m=\u001b[39;49m\u001b[43m \u001b[49m\u001b[38;5;241;43m0\u001b[39;49m\u001b[43m)\u001b[49m\n\u001b[1;32m      7\u001b[0m \u001b[38;5;28mprint\u001b[39m(newArray)\n",
      "File \u001b[0;32m<__array_function__ internals>:180\u001b[0m, in \u001b[0;36mappend\u001b[0;34m(*args, **kwargs)\u001b[0m\n",
      "File \u001b[0;32m~/pythonenv/env/lib/python3.9/site-packages/numpy/lib/function_base.py:5392\u001b[0m, in \u001b[0;36mappend\u001b[0;34m(arr, values, axis)\u001b[0m\n\u001b[1;32m   5390\u001b[0m     values \u001b[38;5;241m=\u001b[39m ravel(values)\n\u001b[1;32m   5391\u001b[0m     axis \u001b[38;5;241m=\u001b[39m arr\u001b[38;5;241m.\u001b[39mndim\u001b[38;5;241m-\u001b[39m\u001b[38;5;241m1\u001b[39m\n\u001b[0;32m-> 5392\u001b[0m \u001b[38;5;28;01mreturn\u001b[39;00m \u001b[43mconcatenate\u001b[49m\u001b[43m(\u001b[49m\u001b[43m(\u001b[49m\u001b[43marr\u001b[49m\u001b[43m,\u001b[49m\u001b[43m \u001b[49m\u001b[43mvalues\u001b[49m\u001b[43m)\u001b[49m\u001b[43m,\u001b[49m\u001b[43m \u001b[49m\u001b[43maxis\u001b[49m\u001b[38;5;241;43m=\u001b[39;49m\u001b[43maxis\u001b[49m\u001b[43m)\u001b[49m\n",
      "File \u001b[0;32m<__array_function__ internals>:180\u001b[0m, in \u001b[0;36mconcatenate\u001b[0;34m(*args, **kwargs)\u001b[0m\n",
      "\u001b[0;31mValueError\u001b[0m: all the input array dimensions for the concatenation axis must match exactly, but along dimension 1, the array at index 0 has size 0 and the array at index 1 has size 2"
     ]
    }
   ],
   "source": [
    "import numpy\n",
    "\n",
    "a = numpy.array([[0, 0], [0, 0]])\n",
    "\n",
    "newArray = numpy.append(a, [[value, vardist]], axis = 0)\n",
    "\n",
    "print(newArray)"
   ]
  },
  {
   "cell_type": "code",
   "execution_count": null,
   "id": "a1e6145e",
   "metadata": {},
   "outputs": [],
   "source": []
  }
 ],
 "metadata": {
  "kernelspec": {
   "display_name": "Python 3 (ipykernel)",
   "language": "python",
   "name": "python3"
  },
  "language_info": {
   "codemirror_mode": {
    "name": "ipython",
    "version": 3
   },
   "file_extension": ".py",
   "mimetype": "text/x-python",
   "name": "python",
   "nbconvert_exporter": "python",
   "pygments_lexer": "ipython3",
   "version": "3.9.2"
  }
 },
 "nbformat": 4,
 "nbformat_minor": 5
}
