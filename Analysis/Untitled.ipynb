{
 "cells": [
  {
   "cell_type": "code",
   "execution_count": 9,
   "id": "01463f6d",
   "metadata": {},
   "outputs": [
    {
     "name": "stdout",
     "output_type": "stream",
     "text": [
      "<rdkit.Chem.rdchem.Mol object at 0x7efec2f591c0>\n",
      "-2.2120999999999986\n"
     ]
    }
   ],
   "source": [
    "from rdkit.Chem import Descriptors\n",
    "from rdkit import Chem\n",
    "file_names = \"/home/louis/SBVS/Analysis/smartp/test.mol2\"\n",
    "m = Chem.MolFromPDBFile(\"/home/louis/SBVS/Analysis/smartp/outputfile5203.pdb.pdbqt\",sanitize=False)\n",
    "print(m)\n",
    "print(Chem.Crippen.MolLogP(m))"
   ]
  },
  {
   "cell_type": "code",
   "execution_count": null,
   "id": "b3e2db09",
   "metadata": {},
   "outputs": [],
   "source": []
  },
  {
   "cell_type": "code",
   "execution_count": null,
   "id": "83cd8576",
   "metadata": {},
   "outputs": [],
   "source": []
  }
 ],
 "metadata": {
  "kernelspec": {
   "display_name": "Python 3 (ipykernel)",
   "language": "python",
   "name": "python3"
  },
  "language_info": {
   "codemirror_mode": {
    "name": "ipython",
    "version": 3
   },
   "file_extension": ".py",
   "mimetype": "text/x-python",
   "name": "python",
   "nbconvert_exporter": "python",
   "pygments_lexer": "ipython3",
   "version": "3.9.2"
  }
 },
 "nbformat": 4,
 "nbformat_minor": 5
}
