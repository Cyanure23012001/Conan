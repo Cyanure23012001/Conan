{
 "cells": [
  {
   "cell_type": "code",
   "execution_count": null,
   "id": "b5e6129a",
   "metadata": {},
   "outputs": [],
   "source": [
    "from lxml import etree\n",
    "energy={}\n",
    "free_energy=[]\n",
    "tree = etree.parse(\"DOCKING.ligand.xml\")\n",
    "for user in tree.xpath(\"/autodock_gpu/runs/run/free_NRG_binding\"):\n",
    "    free_energy.append(float(user.text))\n",
    "    #energy[test[count]] = float(user.text) \n",
    "highest = free_energy[0]\n",
    "print(highest)\n",
    "x = 5\n",
    "y = 9\n",
    "\n",
    "zinc15 = etree.SubElement(root, \"zinc15\")\n",
    "energy = etree.SubElement(zinc15, \"energy\")\n",
    "energy.text = str(x)\n",
    "zinc16 = etree.SubElement(root, \"zinc16\")\n",
    "energy = etree.SubElement(zinc16, \"energy\")\n",
    "energy.text = str(y)\n",
    "print(etree.tostring(root, pretty_print=False))\n",
    "etree.ElementTree(root).write('output.xml')\n"
   ]
  },
  {
   "cell_type": "code",
   "execution_count": 52,
   "id": "4f9ca1b4",
   "metadata": {},
   "outputs": [
    {
     "ename": "IndexError",
     "evalue": "list index out of range",
     "output_type": "error",
     "traceback": [
      "\u001b[0;31m---------------------------------------------------------------------------\u001b[0m",
      "\u001b[0;31mIndexError\u001b[0m                                Traceback (most recent call last)",
      "Input \u001b[0;32mIn [52]\u001b[0m, in \u001b[0;36m<cell line: 1>\u001b[0;34m()\u001b[0m\n\u001b[0;32m----> 1\u001b[0m \u001b[38;5;28mprint\u001b[39m(\u001b[43menergy\u001b[49m\u001b[43m[\u001b[49m\u001b[38;5;241;43m1\u001b[39;49m\u001b[43m]\u001b[49m\u001b[38;5;241m.\u001b[39mtext)\n",
      "File \u001b[0;32msrc/lxml/etree.pyx:1178\u001b[0m, in \u001b[0;36mlxml.etree._Element.__getitem__\u001b[0;34m()\u001b[0m\n",
      "\u001b[0;31mIndexError\u001b[0m: list index out of range"
     ]
    }
   ],
   "source": [
    "print(energy[1].text)"
   ]
  },
  {
   "cell_type": "code",
   "execution_count": 61,
   "id": "9da499dd",
   "metadata": {
    "scrolled": false
   },
   "outputs": [
    {
     "name": "stdout",
     "output_type": "stream",
     "text": [
      "9\n"
     ]
    }
   ],
   "source": [
    "print(zinc16[0].text)"
   ]
  },
  {
   "cell_type": "code",
   "execution_count": 43,
   "id": "c79ef65d",
   "metadata": {},
   "outputs": [
    {
     "name": "stdout",
     "output_type": "stream",
     "text": [
      "{'value': '2'}\n"
     ]
    }
   ],
   "source": [
    "d = dict(energy.attrib)\n",
    "print(d)"
   ]
  },
  {
   "cell_type": "code",
   "execution_count": 63,
   "id": "7251b84b",
   "metadata": {},
   "outputs": [
    {
     "name": "stdout",
     "output_type": "stream",
     "text": [
      "Untitled.ipynb  xml.py\r\n"
     ]
    }
   ],
   "source": [
    "ls"
   ]
  },
  {
   "cell_type": "code",
   "execution_count": 64,
   "id": "1d49c1f4",
   "metadata": {},
   "outputs": [
    {
     "data": {
      "text/plain": [
       "'/home/louis/testenv/parametres/xml'"
      ]
     },
     "execution_count": 64,
     "metadata": {},
     "output_type": "execute_result"
    }
   ],
   "source": [
    "pwd"
   ]
  },
  {
   "cell_type": "code",
   "execution_count": null,
   "id": "fa298fb0",
   "metadata": {},
   "outputs": [],
   "source": []
  },
  {
   "cell_type": "code",
   "execution_count": null,
   "id": "23854b28",
   "metadata": {},
   "outputs": [],
   "source": []
  }
 ],
 "metadata": {
  "kernelspec": {
   "display_name": "Python 3 (ipykernel)",
   "language": "python",
   "name": "python3"
  },
  "language_info": {
   "codemirror_mode": {
    "name": "ipython",
    "version": 3
   },
   "file_extension": ".py",
   "mimetype": "text/x-python",
   "name": "python",
   "nbconvert_exporter": "python",
   "pygments_lexer": "ipython3",
   "version": "3.9.2"
  }
 },
 "nbformat": 4,
 "nbformat_minor": 5
}
