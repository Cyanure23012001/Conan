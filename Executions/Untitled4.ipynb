{
 "cells": [
  {
   "cell_type": "code",
   "execution_count": 2,
   "id": "7d178bc3-62b5-47f0-bd72-a63e92b95ed7",
   "metadata": {},
   "outputs": [
    {
     "name": "stdout",
     "output_type": "stream",
     "text": [
      "          a         b         c         d         e\n",
      "0  0.435447  0.751492  0.919112  0.485555  0.214092\n",
      "1  0.399780  0.421688  0.486705  0.988165  0.759532\n",
      "2  0.786568  0.992546  0.941457  0.131853  0.184234\n",
      "3  0.423965  0.565356  0.097326  0.765130  0.714268\n",
      "4  0.955072  0.584286  0.358737  0.829988  0.772823\n"
     ]
    },
    {
     "data": {
      "image/png": "[encoded data removed]",
      "text/plain": [
       "<Figure size 432x288 with 2 Axes>"
      ]
     },
     "metadata": {
      "needs_background": "light"
     },
     "output_type": "display_data"
    }
   ],
   "source": [
    "import seaborn as sns\n",
    "import pandas as pd\n",
    "import numpy as np\n",
    "\n",
    "# Create a dataset\n",
    "df = pd.DataFrame(np.random.random((5,5)), columns=[\"a\",\"b\",\"c\",\"d\",\"e\"])\n",
    "print(df)\n",
    "# Default heatmap\n",
    "p1 = sns.heatmap(df)"
   ]
  },
  {
   "cell_type": "code",
   "execution_count": 1,
   "id": "253e2bab-779b-4f21-bfdc-bfa7c794bc23",
   "metadata": {},
   "outputs": [
    {
     "ename": "ModuleNotFoundError",
     "evalue": "No module named 'html2image'",
     "output_type": "error",
     "traceback": [
      "\u001b[0;31m---------------------------------------------------------------------------\u001b[0m",
      "\u001b[0;31mModuleNotFoundError\u001b[0m                       Traceback (most recent call last)",
      "\u001b[0;32m/tmp/ipykernel_9027/3705772869.py\u001b[0m in \u001b[0;36m<module>\u001b[0;34m\u001b[0m\n\u001b[0;32m----> 1\u001b[0;31m \u001b[0;32mfrom\u001b[0m \u001b[0mhtml2image\u001b[0m \u001b[0;32mimport\u001b[0m \u001b[0mHtml2Image\u001b[0m\u001b[0;34m\u001b[0m\u001b[0;34m\u001b[0m\u001b[0m\n\u001b[0m\u001b[1;32m      2\u001b[0m \u001b[0mhti\u001b[0m \u001b[0;34m=\u001b[0m \u001b[0mHtml2Image\u001b[0m\u001b[0;34m(\u001b[0m\u001b[0;34m)\u001b[0m\u001b[0;34m\u001b[0m\u001b[0;34m\u001b[0m\u001b[0m\n",
      "\u001b[0;31mModuleNotFoundError\u001b[0m: No module named 'html2image'"
     ]
    }
   ],
   "source": [
    "from html2image import Html2Image\n",
    "hti = Html2Image()"
   ]
  },
  {
   "cell_type": "code",
   "execution_count": 2,
   "id": "c4cbbe5b-f6c4-4869-9e6b-62a8514a877e",
   "metadata": {},
   "outputs": [],
   "source": [
    "import dearpygui.dearpygui as dpg\n",
    "\n",
    "dpg.create_context()\n",
    "dpg.create_viewport()\n",
    "dpg.setup_dearpygui()\n",
    "\n",
    "def sort_callback(sender, sort_specs):\n",
    "\n",
    "    # sort_specs scenarios:\n",
    "    #   1. no sorting -> sort_specs == None\n",
    "    #   2. single sorting -> sort_specs == [[column_id, direction]]\n",
    "    #   3. multi sorting -> sort_specs == [[column_id, direction], [column_id, direction], ...]\n",
    "    #\n",
    "    # notes:\n",
    "    #   1. direction is ascending if == 1\n",
    "    #   2. direction is ascending if == -1\n",
    "\n",
    "    # no sorting case\n",
    "    if sort_specs is None: return\n",
    "\n",
    "    rows = dpg.get_item_children(sender, 1)\n",
    "\n",
    "    # create a list that can be sorted based on first cell\n",
    "    # value, keeping track of row and value used to sort\n",
    "    sortable_list = []\n",
    "    for row in rows:\n",
    "        first_cell = dpg.get_item_children(row, 1)[0]\n",
    "        sortable_list.append([row, dpg.get_value(first_cell)])\n",
    "\n",
    "    def _sorter(e):\n",
    "        return e[1]\n",
    "\n",
    "    sortable_list.sort(key=_sorter, reverse=sort_specs[0][1] < 0)\n",
    "\n",
    "    # create list of just sorted row ids\n",
    "    new_order = []\n",
    "    for pair in sortable_list:\n",
    "        new_order.append(pair[0])\n",
    "\n",
    "    dpg.reorder_items(sender, 1, new_order)\n",
    "\n",
    "with dpg.window(label=\"Tutorial\", width=500):\n",
    "\n",
    "    with dpg.table(header_row=True, borders_innerH=True, borders_outerH=True,\n",
    "                   borders_innerV=True, borders_outerV=True, row_background=True,\n",
    "                   sortable=True, callback=sort_callback):\n",
    "\n",
    "        dpg.add_table_column(label=\"One\")\n",
    "        dpg.add_table_column(label=\"Two\", no_sort=True)\n",
    "\n",
    "        for i in range(25):\n",
    "            with dpg.table_row():\n",
    "                dpg.add_input_int(label=\" \", step=0, default_value=i)\n",
    "                dpg.add_text(f\"Cell {i}, 1\")\n",
    "\n",
    "# main loop\n",
    "dpg.show_viewport()\n",
    "dpg.start_dearpygui()\n",
    "dpg.destroy_context()"
   ]
  },
  {
   "cell_type": "code",
   "execution_count": null,
   "id": "6344b98b-64ec-4a66-ab08-41519ed0df6e",
   "metadata": {},
   "outputs": [],
   "source": []
  }
 ],
 "metadata": {
  "kernelspec": {
   "display_name": "Python 3 (ipykernel)",
   "language": "python",
   "name": "python3"
  },
  "language_info": {
   "codemirror_mode": {
    "name": "ipython",
    "version": 3
   },
   "file_extension": ".py",
   "mimetype": "text/x-python",
   "name": "python",
   "nbconvert_exporter": "python",
   "pygments_lexer": "ipython3",
   "version": "3.9.7"
  }
 },
 "nbformat": 4,
 "nbformat_minor": 5
}
