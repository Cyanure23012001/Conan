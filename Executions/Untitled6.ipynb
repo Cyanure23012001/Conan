{
 "cells": [
  {
   "cell_type": "code",
   "execution_count": 1,
   "id": "2b84c147",
   "metadata": {},
   "outputs": [],
   "source": [
    "import glob\n",
    "import os\n",
    "def find_best_pdbqt_files(directory):\n",
    "    pattern = os.path.join(directory, '**', 'best.pdbqt')\n",
    "    return glob.glob(pattern, recursive=True)\n",
    "\n",
    "# Example usage:\n",
    "directory_path = '/media/lmeuret/Seagate Portable Drive/result_docking/DOCKING_project/Conan-main/results_SMINA'\n",
    "#all_best_pdbqt_files = find_best_pdbqt_files(directory_path)\n",
    "\n",
    "#print(all_best_pdbqt_files)"
   ]
  },
  {
   "cell_type": "code",
   "execution_count": 2,
   "id": "402c032d",
   "metadata": {},
   "outputs": [],
   "source": [
    "import os\n",
    "import pandas as pd\n",
    "from rdkit import Chem\n",
    "import prolif\n",
    "from tqdm import tqdm \n",
    "\n",
    "def pdbqtreader(path):\n",
    "    blockdata = \"\"\n",
    "    print(path)\n",
    "    with open(path, \"r+\") as pdbqt:\n",
    "        pdbqtcontenu = pdbqt.readlines()\n",
    "\n",
    "    for x in range(len(pdbqtcontenu)):\n",
    "        if pdbqtcontenu[x][:4] == \"ATOM\" or pdbqtcontenu[x][:6] == \"HETATM\":\n",
    "            templine = pdbqtcontenu[x].split()\n",
    "            pdbqtcontenu[x] = pdbqtcontenu[x][:-3]\n",
    "            pdbqtcontenu[x] = pdbqtcontenu[x] + templine[2][:1] + \"\\n\"\n",
    "            blockdata = blockdata + pdbqtcontenu[x]\n",
    "        if pdbqtcontenu[x][:6] == \"ENDMDL\":\n",
    "            break\n",
    "\n",
    "    mol = Chem.rdmolfiles.MolFromPDBBlock(blockdata, sanitize=False, removeHs=False)\n",
    "    return mol\n",
    "\n",
    "def get_interaction_count(ligand_path, receptor_path):\n",
    "    lig = pdbqtreader(ligand_path)\n",
    "    rec = pdbqtreader(receptor_path)\n",
    "\n",
    "    ligtemp = prolif.Molecule(lig)\n",
    "    rectemp = prolif.Molecule(rec)\n",
    "\n",
    "    fp = prolif.Fingerprint(count=True)\n",
    "    fp.run_from_iterable([ligtemp], rectemp)\n",
    "\n",
    "    return fp.to_dataframe()\n",
    "\n",
    "receptor_path = \"/media/lmeuret/Seagate Portable Drive/result_docking/DOCKING_project/Conan-main/receptors/output44.pdbqt\"\n",
    "ligand_list0 = find_best_pdbqt_files(\"/media/lmeuret/Seagate Portable Drive/result_docking/DOCKING_project/Conan-main/results_SMINA\")\n",
    "ligand_list = [item for item in ligand_list0 if \"output44\" in item]\n"
   ]
  },
  {
   "cell_type": "code",
   "execution_count": 3,
   "id": "5350eb6e",
   "metadata": {},
   "outputs": [
    {
     "name": "stderr",
     "output_type": "stream",
     "text": [
      "\r",
      "Processing ligands: 0it [00:00, ?it/s]"
     ]
    },
    {
     "name": "stdout",
     "output_type": "stream",
     "text": [
      "/media/lmeuret/Seagate Portable Drive/result_docking/DOCKING_project/Conan-main/results_SMINA/DOCKED/ligand1/output44_ligand1_2023-11-22-15_52/best.pdbqt\n",
      "/media/lmeuret/Seagate Portable Drive/result_docking/DOCKING_project/Conan-main/receptors/output44.pdbqt\n"
     ]
    },
    {
     "data": {
      "application/vnd.jupyter.widget-view+json": {
       "model_id": "d458ac23c2a242f283109dc4f6a77bfb",
       "version_major": 2,
       "version_minor": 0
      },
      "text/plain": [
       "  0%|          | 0/1 [00:00<?, ?it/s]"
      ]
     },
     "metadata": {},
     "output_type": "display_data"
    },
    {
     "name": "stderr",
     "output_type": "stream",
     "text": [
      "\r",
      "Processing ligands: 1it [00:01,  1.26s/it]"
     ]
    },
    {
     "name": "stdout",
     "output_type": "stream",
     "text": [
      "/media/lmeuret/Seagate Portable Drive/result_docking/DOCKING_project/Conan-main/results_SMINA/DOCKED/ligand10/output44_ligand10_2023-11-22-15_52/best.pdbqt\n",
      "/media/lmeuret/Seagate Portable Drive/result_docking/DOCKING_project/Conan-main/receptors/output44.pdbqt\n"
     ]
    },
    {
     "data": {
      "application/vnd.jupyter.widget-view+json": {
       "model_id": "c61422e9ba3340ceb33ed64e77ea7a3a",
       "version_major": 2,
       "version_minor": 0
      },
      "text/plain": [
       "  0%|          | 0/1 [00:00<?, ?it/s]"
      ]
     },
     "metadata": {},
     "output_type": "display_data"
    },
    {
     "name": "stderr",
     "output_type": "stream",
     "text": [
      "\r",
      "Processing ligands: 2it [00:01,  1.32it/s]"
     ]
    },
    {
     "name": "stdout",
     "output_type": "stream",
     "text": [
      "/media/lmeuret/Seagate Portable Drive/result_docking/DOCKING_project/Conan-main/results_SMINA/DOCKED/ligand100/output44_ligand100_2023-11-22-15_52/best.pdbqt\n",
      "/media/lmeuret/Seagate Portable Drive/result_docking/DOCKING_project/Conan-main/receptors/output44.pdbqt\n"
     ]
    },
    {
     "data": {
      "application/vnd.jupyter.widget-view+json": {
       "model_id": "e0382d349c6a4473b8d007f1785a1a00",
       "version_major": 2,
       "version_minor": 0
      },
      "text/plain": [
       "  0%|          | 0/1 [00:00<?, ?it/s]"
      ]
     },
     "metadata": {},
     "output_type": "display_data"
    },
    {
     "name": "stderr",
     "output_type": "stream",
     "text": [
      "\r",
      "Processing ligands: 3it [00:01,  1.84it/s]"
     ]
    },
    {
     "name": "stdout",
     "output_type": "stream",
     "text": [
      "/media/lmeuret/Seagate Portable Drive/result_docking/DOCKING_project/Conan-main/results_SMINA/DOCKED/ligand1000/output44_ligand1000_2023-11-22-15_52/best.pdbqt\n",
      "/media/lmeuret/Seagate Portable Drive/result_docking/DOCKING_project/Conan-main/receptors/output44.pdbqt\n"
     ]
    },
    {
     "data": {
      "application/vnd.jupyter.widget-view+json": {
       "model_id": "0d8e6105096740ba8a17f880de536b4f",
       "version_major": 2,
       "version_minor": 0
      },
      "text/plain": [
       "  0%|          | 0/1 [00:00<?, ?it/s]"
      ]
     },
     "metadata": {},
     "output_type": "display_data"
    },
    {
     "name": "stderr",
     "output_type": "stream",
     "text": [
      "\r",
      "Processing ligands: 4it [00:02,  2.45it/s]"
     ]
    },
    {
     "name": "stdout",
     "output_type": "stream",
     "text": [
      "/media/lmeuret/Seagate Portable Drive/result_docking/DOCKING_project/Conan-main/results_SMINA/DOCKED/ligand101/output44_ligand101_2023-11-22-15_52/best.pdbqt\n",
      "/media/lmeuret/Seagate Portable Drive/result_docking/DOCKING_project/Conan-main/receptors/output44.pdbqt\n"
     ]
    },
    {
     "data": {
      "application/vnd.jupyter.widget-view+json": {
       "model_id": "8fc3e49a910d44feb5091ad7e1203369",
       "version_major": 2,
       "version_minor": 0
      },
      "text/plain": [
       "  0%|          | 0/1 [00:00<?, ?it/s]"
      ]
     },
     "metadata": {},
     "output_type": "display_data"
    },
    {
     "name": "stderr",
     "output_type": "stream",
     "text": [
      "\r",
      "Processing ligands: 5it [00:02,  2.94it/s]"
     ]
    },
    {
     "name": "stdout",
     "output_type": "stream",
     "text": [
      "/media/lmeuret/Seagate Portable Drive/result_docking/DOCKING_project/Conan-main/results_SMINA/DOCKED/ligand102/output44_ligand102_2023-11-22-15_52/best.pdbqt\n",
      "/media/lmeuret/Seagate Portable Drive/result_docking/DOCKING_project/Conan-main/receptors/output44.pdbqt\n"
     ]
    },
    {
     "data": {
      "application/vnd.jupyter.widget-view+json": {
       "model_id": "c062a5d78da44c7a812ff9fc88964451",
       "version_major": 2,
       "version_minor": 0
      },
      "text/plain": [
       "  0%|          | 0/1 [00:00<?, ?it/s]"
      ]
     },
     "metadata": {},
     "output_type": "display_data"
    },
    {
     "name": "stderr",
     "output_type": "stream",
     "text": [
      "\r",
      "Processing ligands: 6it [00:02,  3.35it/s]"
     ]
    },
    {
     "name": "stdout",
     "output_type": "stream",
     "text": [
      "/media/lmeuret/Seagate Portable Drive/result_docking/DOCKING_project/Conan-main/results_SMINA/DOCKED/ligand103/output44_ligand103_2023-11-22-15_52/best.pdbqt\n",
      "/media/lmeuret/Seagate Portable Drive/result_docking/DOCKING_project/Conan-main/receptors/output44.pdbqt\n"
     ]
    },
    {
     "data": {
      "application/vnd.jupyter.widget-view+json": {
       "model_id": "2c6bea768c9d4625bf086d0cc409df40",
       "version_major": 2,
       "version_minor": 0
      },
      "text/plain": [
       "  0%|          | 0/1 [00:00<?, ?it/s]"
      ]
     },
     "metadata": {},
     "output_type": "display_data"
    },
    {
     "name": "stderr",
     "output_type": "stream",
     "text": [
      "\r",
      "Processing ligands: 7it [00:02,  3.73it/s]"
     ]
    },
    {
     "name": "stdout",
     "output_type": "stream",
     "text": [
      "/media/lmeuret/Seagate Portable Drive/result_docking/DOCKING_project/Conan-main/results_SMINA/DOCKED/ligand104/output44_ligand104_2023-11-22-15_52/best.pdbqt\n",
      "/media/lmeuret/Seagate Portable Drive/result_docking/DOCKING_project/Conan-main/receptors/output44.pdbqt\n"
     ]
    },
    {
     "data": {
      "application/vnd.jupyter.widget-view+json": {
       "model_id": "1ef4d8a51ef24955a62471ce88be6a4e",
       "version_major": 2,
       "version_minor": 0
      },
      "text/plain": [
       "  0%|          | 0/1 [00:00<?, ?it/s]"
      ]
     },
     "metadata": {},
     "output_type": "display_data"
    },
    {
     "name": "stderr",
     "output_type": "stream",
     "text": [
      "\r",
      "Processing ligands: 8it [00:03,  3.95it/s]"
     ]
    },
    {
     "name": "stdout",
     "output_type": "stream",
     "text": [
      "/media/lmeuret/Seagate Portable Drive/result_docking/DOCKING_project/Conan-main/results_SMINA/DOCKED/ligand105/output44_ligand105_2023-11-22-15_52/best.pdbqt\n",
      "/media/lmeuret/Seagate Portable Drive/result_docking/DOCKING_project/Conan-main/receptors/output44.pdbqt\n"
     ]
    },
    {
     "data": {
      "application/vnd.jupyter.widget-view+json": {
       "model_id": "8cd4277a62b649bb978cefad0fe41fea",
       "version_major": 2,
       "version_minor": 0
      },
      "text/plain": [
       "  0%|          | 0/1 [00:00<?, ?it/s]"
      ]
     },
     "metadata": {},
     "output_type": "display_data"
    },
    {
     "name": "stderr",
     "output_type": "stream",
     "text": [
      "\r",
      "Processing ligands: 9it [00:03,  4.22it/s]"
     ]
    },
    {
     "name": "stdout",
     "output_type": "stream",
     "text": [
      "/media/lmeuret/Seagate Portable Drive/result_docking/DOCKING_project/Conan-main/results_SMINA/DOCKED/ligand106/output44_ligand106_2023-11-22-15_52/best.pdbqt\n",
      "/media/lmeuret/Seagate Portable Drive/result_docking/DOCKING_project/Conan-main/receptors/output44.pdbqt\n"
     ]
    },
    {
     "data": {
      "application/vnd.jupyter.widget-view+json": {
       "model_id": "2110c6d8aaac4dfabc5ca59b64460d8b",
       "version_major": 2,
       "version_minor": 0
      },
      "text/plain": [
       "  0%|          | 0/1 [00:00<?, ?it/s]"
      ]
     },
     "metadata": {},
     "output_type": "display_data"
    },
    {
     "name": "stderr",
     "output_type": "stream",
     "text": [
      "\r",
      "Processing ligands: 10it [00:03,  4.31it/s]"
     ]
    },
    {
     "name": "stdout",
     "output_type": "stream",
     "text": [
      "/media/lmeuret/Seagate Portable Drive/result_docking/DOCKING_project/Conan-main/results_SMINA/DOCKED/ligand107/output44_ligand107_2023-11-22-15_52/best.pdbqt\n",
      "/media/lmeuret/Seagate Portable Drive/result_docking/DOCKING_project/Conan-main/receptors/output44.pdbqt\n"
     ]
    },
    {
     "data": {
      "application/vnd.jupyter.widget-view+json": {
       "model_id": "fe09a7ac3588444fa2f81c38b9e785eb",
       "version_major": 2,
       "version_minor": 0
      },
      "text/plain": [
       "  0%|          | 0/1 [00:00<?, ?it/s]"
      ]
     },
     "metadata": {},
     "output_type": "display_data"
    },
    {
     "name": "stderr",
     "output_type": "stream",
     "text": [
      "\r",
      "Processing ligands: 11it [00:03,  4.46it/s]"
     ]
    },
    {
     "name": "stdout",
     "output_type": "stream",
     "text": [
      "/media/lmeuret/Seagate Portable Drive/result_docking/DOCKING_project/Conan-main/results_SMINA/DOCKED/ligand108/output44_ligand108_2023-11-22-15_52/best.pdbqt\n",
      "/media/lmeuret/Seagate Portable Drive/result_docking/DOCKING_project/Conan-main/receptors/output44.pdbqt\n"
     ]
    },
    {
     "data": {
      "application/vnd.jupyter.widget-view+json": {
       "model_id": "24de4428f90544a4a8e69687fc88f3be",
       "version_major": 2,
       "version_minor": 0
      },
      "text/plain": [
       "  0%|          | 0/1 [00:00<?, ?it/s]"
      ]
     },
     "metadata": {},
     "output_type": "display_data"
    },
    {
     "name": "stderr",
     "output_type": "stream",
     "text": [
      "\r",
      "Processing ligands: 12it [00:03,  4.59it/s]"
     ]
    },
    {
     "name": "stdout",
     "output_type": "stream",
     "text": [
      "/media/lmeuret/Seagate Portable Drive/result_docking/DOCKING_project/Conan-main/results_SMINA/DOCKED/ligand109/output44_ligand109_2023-11-22-15_52/best.pdbqt\n",
      "/media/lmeuret/Seagate Portable Drive/result_docking/DOCKING_project/Conan-main/receptors/output44.pdbqt\n"
     ]
    },
    {
     "data": {
      "application/vnd.jupyter.widget-view+json": {
       "model_id": "1df1bb2cb3c742a1b6ab3ee2aace9acb",
       "version_major": 2,
       "version_minor": 0
      },
      "text/plain": [
       "  0%|          | 0/1 [00:00<?, ?it/s]"
      ]
     },
     "metadata": {},
     "output_type": "display_data"
    },
    {
     "name": "stderr",
     "output_type": "stream",
     "text": [
      "\r",
      "Processing ligands: 13it [00:04,  4.69it/s]"
     ]
    },
    {
     "name": "stdout",
     "output_type": "stream",
     "text": [
      "/media/lmeuret/Seagate Portable Drive/result_docking/DOCKING_project/Conan-main/results_SMINA/DOCKED/ligand11/output44_ligand11_2023-11-22-15_52/best.pdbqt\n",
      "/media/lmeuret/Seagate Portable Drive/result_docking/DOCKING_project/Conan-main/receptors/output44.pdbqt\n"
     ]
    },
    {
     "data": {
      "application/vnd.jupyter.widget-view+json": {
       "model_id": "c87ef3d3d93c4a7db663d631cd6bfef5",
       "version_major": 2,
       "version_minor": 0
      },
      "text/plain": [
       "  0%|          | 0/1 [00:00<?, ?it/s]"
      ]
     },
     "metadata": {},
     "output_type": "display_data"
    },
    {
     "name": "stderr",
     "output_type": "stream",
     "text": [
      "\r",
      "Processing ligands: 14it [00:04,  4.70it/s]"
     ]
    },
    {
     "name": "stdout",
     "output_type": "stream",
     "text": [
      "/media/lmeuret/Seagate Portable Drive/result_docking/DOCKING_project/Conan-main/results_SMINA/DOCKED/ligand110/output44_ligand110_2023-11-22-15_52/best.pdbqt\n",
      "/media/lmeuret/Seagate Portable Drive/result_docking/DOCKING_project/Conan-main/receptors/output44.pdbqt\n"
     ]
    },
    {
     "data": {
      "application/vnd.jupyter.widget-view+json": {
       "model_id": "ff0bca7261f04585be1339f75d0d3b28",
       "version_major": 2,
       "version_minor": 0
      },
      "text/plain": [
       "  0%|          | 0/1 [00:00<?, ?it/s]"
      ]
     },
     "metadata": {},
     "output_type": "display_data"
    },
    {
     "name": "stderr",
     "output_type": "stream",
     "text": [
      "\r",
      "Processing ligands: 15it [00:04,  4.75it/s]"
     ]
    },
    {
     "name": "stdout",
     "output_type": "stream",
     "text": [
      "/media/lmeuret/Seagate Portable Drive/result_docking/DOCKING_project/Conan-main/results_SMINA/DOCKED/ligand111/output44_ligand111_2023-11-22-15_52/best.pdbqt\n",
      "/media/lmeuret/Seagate Portable Drive/result_docking/DOCKING_project/Conan-main/receptors/output44.pdbqt\n"
     ]
    },
    {
     "data": {
      "application/vnd.jupyter.widget-view+json": {
       "model_id": "ee3e262b0ed248f7a7936c7a29ba295c",
       "version_major": 2,
       "version_minor": 0
      },
      "text/plain": [
       "  0%|          | 0/1 [00:00<?, ?it/s]"
      ]
     },
     "metadata": {},
     "output_type": "display_data"
    },
    {
     "name": "stderr",
     "output_type": "stream",
     "text": [
      "\r",
      "Processing ligands: 16it [00:04,  4.79it/s]"
     ]
    },
    {
     "name": "stdout",
     "output_type": "stream",
     "text": [
      "/media/lmeuret/Seagate Portable Drive/result_docking/DOCKING_project/Conan-main/results_SMINA/DOCKED/ligand112/output44_ligand112_2023-11-22-15_52/best.pdbqt\n",
      "/media/lmeuret/Seagate Portable Drive/result_docking/DOCKING_project/Conan-main/receptors/output44.pdbqt\n"
     ]
    },
    {
     "data": {
      "application/vnd.jupyter.widget-view+json": {
       "model_id": "6f7e041c309342f7997be3e93978c1ad",
       "version_major": 2,
       "version_minor": 0
      },
      "text/plain": [
       "  0%|          | 0/1 [00:00<?, ?it/s]"
      ]
     },
     "metadata": {},
     "output_type": "display_data"
    },
    {
     "name": "stderr",
     "output_type": "stream",
     "text": [
      "\r",
      "Processing ligands: 17it [00:04,  4.80it/s]"
     ]
    },
    {
     "name": "stdout",
     "output_type": "stream",
     "text": [
      "/media/lmeuret/Seagate Portable Drive/result_docking/DOCKING_project/Conan-main/results_SMINA/DOCKED/ligand113/output44_ligand113_2023-11-22-15_52/best.pdbqt\n",
      "/media/lmeuret/Seagate Portable Drive/result_docking/DOCKING_project/Conan-main/receptors/output44.pdbqt\n"
     ]
    },
    {
     "data": {
      "application/vnd.jupyter.widget-view+json": {
       "model_id": "6db9af9cb3fc40e896914eb9a2b2ba63",
       "version_major": 2,
       "version_minor": 0
      },
      "text/plain": [
       "  0%|          | 0/1 [00:00<?, ?it/s]"
      ]
     },
     "metadata": {},
     "output_type": "display_data"
    },
    {
     "name": "stderr",
     "output_type": "stream",
     "text": [
      "\r",
      "Processing ligands: 18it [00:05,  4.81it/s]"
     ]
    },
    {
     "name": "stdout",
     "output_type": "stream",
     "text": [
      "/media/lmeuret/Seagate Portable Drive/result_docking/DOCKING_project/Conan-main/results_SMINA/DOCKED/ligand114/output44_ligand114_2023-11-22-15_52/best.pdbqt\n",
      "/media/lmeuret/Seagate Portable Drive/result_docking/DOCKING_project/Conan-main/receptors/output44.pdbqt\n"
     ]
    },
    {
     "data": {
      "application/vnd.jupyter.widget-view+json": {
       "model_id": "84f47b18225c4cd79694014171c94137",
       "version_major": 2,
       "version_minor": 0
      },
      "text/plain": [
       "  0%|          | 0/1 [00:00<?, ?it/s]"
      ]
     },
     "metadata": {},
     "output_type": "display_data"
    },
    {
     "name": "stderr",
     "output_type": "stream",
     "text": [
      "\r",
      "Processing ligands: 19it [00:05,  4.81it/s]"
     ]
    },
    {
     "name": "stdout",
     "output_type": "stream",
     "text": [
      "/media/lmeuret/Seagate Portable Drive/result_docking/DOCKING_project/Conan-main/results_SMINA/DOCKED/ligand115/output44_ligand115_2023-11-22-15_52/best.pdbqt\n",
      "/media/lmeuret/Seagate Portable Drive/result_docking/DOCKING_project/Conan-main/receptors/output44.pdbqt\n"
     ]
    },
    {
     "data": {
      "application/vnd.jupyter.widget-view+json": {
       "model_id": "957c279d4c7d42c28215d0ba308191f8",
       "version_major": 2,
       "version_minor": 0
      },
      "text/plain": [
       "  0%|          | 0/1 [00:00<?, ?it/s]"
      ]
     },
     "metadata": {},
     "output_type": "display_data"
    },
    {
     "name": "stderr",
     "output_type": "stream",
     "text": [
      "\r",
      "Processing ligands: 20it [00:05,  4.88it/s]"
     ]
    },
    {
     "name": "stdout",
     "output_type": "stream",
     "text": [
      "/media/lmeuret/Seagate Portable Drive/result_docking/DOCKING_project/Conan-main/results_SMINA/DOCKED/ligand116/output44_ligand116_2023-11-22-15_52/best.pdbqt\n",
      "/media/lmeuret/Seagate Portable Drive/result_docking/DOCKING_project/Conan-main/receptors/output44.pdbqt\n"
     ]
    },
    {
     "data": {
      "application/vnd.jupyter.widget-view+json": {
       "model_id": "43ed3f4c54f048c5a086fbe2f043f6d2",
       "version_major": 2,
       "version_minor": 0
      },
      "text/plain": [
       "  0%|          | 0/1 [00:00<?, ?it/s]"
      ]
     },
     "metadata": {},
     "output_type": "display_data"
    },
    {
     "name": "stderr",
     "output_type": "stream",
     "text": [
      "\r",
      "Processing ligands: 21it [00:05,  4.87it/s]"
     ]
    },
    {
     "name": "stdout",
     "output_type": "stream",
     "text": [
      "/media/lmeuret/Seagate Portable Drive/result_docking/DOCKING_project/Conan-main/results_SMINA/DOCKED/ligand117/output44_ligand117_2023-11-22-15_52/best.pdbqt\n",
      "/media/lmeuret/Seagate Portable Drive/result_docking/DOCKING_project/Conan-main/receptors/output44.pdbqt\n"
     ]
    },
    {
     "data": {
      "application/vnd.jupyter.widget-view+json": {
       "model_id": "abb63c2f0eba4841ba9e8b43e7c8d142",
       "version_major": 2,
       "version_minor": 0
      },
      "text/plain": [
       "  0%|          | 0/1 [00:00<?, ?it/s]"
      ]
     },
     "metadata": {},
     "output_type": "display_data"
    },
    {
     "name": "stderr",
     "output_type": "stream",
     "text": [
      "\r",
      "Processing ligands: 22it [00:05,  4.90it/s]"
     ]
    },
    {
     "name": "stdout",
     "output_type": "stream",
     "text": [
      "/media/lmeuret/Seagate Portable Drive/result_docking/DOCKING_project/Conan-main/results_SMINA/DOCKED/ligand118/output44_ligand118_2023-11-22-15_52/best.pdbqt\n",
      "/media/lmeuret/Seagate Portable Drive/result_docking/DOCKING_project/Conan-main/receptors/output44.pdbqt\n"
     ]
    },
    {
     "data": {
      "application/vnd.jupyter.widget-view+json": {
       "model_id": "9ca104bc9b7f456ca31e8b24fd8f166b",
       "version_major": 2,
       "version_minor": 0
      },
      "text/plain": [
       "  0%|          | 0/1 [00:00<?, ?it/s]"
      ]
     },
     "metadata": {},
     "output_type": "display_data"
    },
    {
     "name": "stderr",
     "output_type": "stream",
     "text": [
      "\r",
      "Processing ligands: 23it [00:06,  5.01it/s]"
     ]
    },
    {
     "name": "stdout",
     "output_type": "stream",
     "text": [
      "/media/lmeuret/Seagate Portable Drive/result_docking/DOCKING_project/Conan-main/results_SMINA/DOCKED/ligand641/output44_ligand641_2023-11-22-15_52/best.pdbqt\n",
      "/media/lmeuret/Seagate Portable Drive/result_docking/DOCKING_project/Conan-main/receptors/output44.pdbqt\n"
     ]
    },
    {
     "data": {
      "application/vnd.jupyter.widget-view+json": {
       "model_id": "5cdf3910fab5449e98a4fc760324c781",
       "version_major": 2,
       "version_minor": 0
      },
      "text/plain": [
       "  0%|          | 0/1 [00:00<?, ?it/s]"
      ]
     },
     "metadata": {},
     "output_type": "display_data"
    },
    {
     "name": "stderr",
     "output_type": "stream",
     "text": [
      "\r",
      "Processing ligands: 24it [00:06,  4.92it/s]"
     ]
    },
    {
     "name": "stdout",
     "output_type": "stream",
     "text": [
      "/media/lmeuret/Seagate Portable Drive/result_docking/DOCKING_project/Conan-main/results_SMINA/DOCKED/ligand642/output44_ligand642_2023-11-22-15_52/best.pdbqt\n",
      "/media/lmeuret/Seagate Portable Drive/result_docking/DOCKING_project/Conan-main/receptors/output44.pdbqt\n"
     ]
    },
    {
     "data": {
      "application/vnd.jupyter.widget-view+json": {
       "model_id": "7078f3038a734b9ea5b05232b5e21ffd",
       "version_major": 2,
       "version_minor": 0
      },
      "text/plain": [
       "  0%|          | 0/1 [00:00<?, ?it/s]"
      ]
     },
     "metadata": {},
     "output_type": "display_data"
    },
    {
     "name": "stderr",
     "output_type": "stream",
     "text": [
      "\r",
      "Processing ligands: 25it [00:06,  5.04it/s]"
     ]
    },
    {
     "name": "stdout",
     "output_type": "stream",
     "text": [
      "/media/lmeuret/Seagate Portable Drive/result_docking/DOCKING_project/Conan-main/results_SMINA/DOCKED/ligand643/output44_ligand643_2023-11-22-15_52/best.pdbqt\n",
      "/media/lmeuret/Seagate Portable Drive/result_docking/DOCKING_project/Conan-main/receptors/output44.pdbqt\n"
     ]
    },
    {
     "data": {
      "application/vnd.jupyter.widget-view+json": {
       "model_id": "3b46cde88e1340e6a47ba66924a215e8",
       "version_major": 2,
       "version_minor": 0
      },
      "text/plain": [
       "  0%|          | 0/1 [00:00<?, ?it/s]"
      ]
     },
     "metadata": {},
     "output_type": "display_data"
    },
    {
     "name": "stderr",
     "output_type": "stream",
     "text": [
      "\r",
      "Processing ligands: 26it [00:06,  4.86it/s]"
     ]
    },
    {
     "name": "stdout",
     "output_type": "stream",
     "text": [
      "/media/lmeuret/Seagate Portable Drive/result_docking/DOCKING_project/Conan-main/results_SMINA/DOCKED/ligand644/output44_ligand644_2023-11-22-15_52/best.pdbqt\n",
      "/media/lmeuret/Seagate Portable Drive/result_docking/DOCKING_project/Conan-main/receptors/output44.pdbqt\n"
     ]
    },
    {
     "data": {
      "application/vnd.jupyter.widget-view+json": {
       "model_id": "0301a07aa1024a84b5349d6914eaf30c",
       "version_major": 2,
       "version_minor": 0
      },
      "text/plain": [
       "  0%|          | 0/1 [00:00<?, ?it/s]"
      ]
     },
     "metadata": {},
     "output_type": "display_data"
    },
    {
     "name": "stderr",
     "output_type": "stream",
     "text": [
      "\r",
      "Processing ligands: 27it [00:06,  4.75it/s]"
     ]
    },
    {
     "name": "stdout",
     "output_type": "stream",
     "text": [
      "/media/lmeuret/Seagate Portable Drive/result_docking/DOCKING_project/Conan-main/results_SMINA/DOCKED/ligand645/output44_ligand645_2023-11-22-15_52/best.pdbqt\n",
      "/media/lmeuret/Seagate Portable Drive/result_docking/DOCKING_project/Conan-main/receptors/output44.pdbqt\n"
     ]
    },
    {
     "data": {
      "application/vnd.jupyter.widget-view+json": {
       "model_id": "ec5ed494be594e4b8321ee5784803c4b",
       "version_major": 2,
       "version_minor": 0
      },
      "text/plain": [
       "  0%|          | 0/1 [00:00<?, ?it/s]"
      ]
     },
     "metadata": {},
     "output_type": "display_data"
    },
    {
     "name": "stderr",
     "output_type": "stream",
     "text": [
      "\r",
      "Processing ligands: 28it [00:07,  4.76it/s]"
     ]
    },
    {
     "name": "stdout",
     "output_type": "stream",
     "text": [
      "/media/lmeuret/Seagate Portable Drive/result_docking/DOCKING_project/Conan-main/results_SMINA/DOCKED/ligand646/output44_ligand646_2023-11-22-15_52/best.pdbqt\n",
      "/media/lmeuret/Seagate Portable Drive/result_docking/DOCKING_project/Conan-main/receptors/output44.pdbqt\n"
     ]
    },
    {
     "data": {
      "application/vnd.jupyter.widget-view+json": {
       "model_id": "13d81f8a255f47cbabd106ba08dbfbd2",
       "version_major": 2,
       "version_minor": 0
      },
      "text/plain": [
       "  0%|          | 0/1 [00:00<?, ?it/s]"
      ]
     },
     "metadata": {},
     "output_type": "display_data"
    },
    {
     "name": "stderr",
     "output_type": "stream",
     "text": [
      "\r",
      "Processing ligands: 29it [00:07,  4.56it/s]"
     ]
    },
    {
     "name": "stdout",
     "output_type": "stream",
     "text": [
      "/media/lmeuret/Seagate Portable Drive/result_docking/DOCKING_project/Conan-main/results_SMINA/DOCKED/ligand647/output44_ligand647_2023-11-22-15_52/best.pdbqt\n",
      "/media/lmeuret/Seagate Portable Drive/result_docking/DOCKING_project/Conan-main/receptors/output44.pdbqt\n"
     ]
    },
    {
     "data": {
      "application/vnd.jupyter.widget-view+json": {
       "model_id": "661c7153b0714977b56c0ec7c2bb4d57",
       "version_major": 2,
       "version_minor": 0
      },
      "text/plain": [
       "  0%|          | 0/1 [00:00<?, ?it/s]"
      ]
     },
     "metadata": {},
     "output_type": "display_data"
    },
    {
     "name": "stderr",
     "output_type": "stream",
     "text": [
      "\r",
      "Processing ligands: 30it [00:07,  4.62it/s]"
     ]
    },
    {
     "name": "stdout",
     "output_type": "stream",
     "text": [
      "/media/lmeuret/Seagate Portable Drive/result_docking/DOCKING_project/Conan-main/results_SMINA/DOCKED/ligand648/output44_ligand648_2023-11-22-15_52/best.pdbqt\n",
      "/media/lmeuret/Seagate Portable Drive/result_docking/DOCKING_project/Conan-main/receptors/output44.pdbqt\n"
     ]
    },
    {
     "data": {
      "application/vnd.jupyter.widget-view+json": {
       "model_id": "07e789128b644de794d5616c4a55c7b3",
       "version_major": 2,
       "version_minor": 0
      },
      "text/plain": [
       "  0%|          | 0/1 [00:00<?, ?it/s]"
      ]
     },
     "metadata": {},
     "output_type": "display_data"
    },
    {
     "name": "stderr",
     "output_type": "stream",
     "text": [
      "\r",
      "Processing ligands: 31it [00:07,  4.79it/s]"
     ]
    },
    {
     "name": "stdout",
     "output_type": "stream",
     "text": [
      "/media/lmeuret/Seagate Portable Drive/result_docking/DOCKING_project/Conan-main/results_SMINA/DOCKED/ligand649/output44_ligand649_2023-11-22-15_52/best.pdbqt\n",
      "/media/lmeuret/Seagate Portable Drive/result_docking/DOCKING_project/Conan-main/receptors/output44.pdbqt\n"
     ]
    },
    {
     "data": {
      "application/vnd.jupyter.widget-view+json": {
       "model_id": "15c901832f4442c7b451b6e1887e032a",
       "version_major": 2,
       "version_minor": 0
      },
      "text/plain": [
       "  0%|          | 0/1 [00:00<?, ?it/s]"
      ]
     },
     "metadata": {},
     "output_type": "display_data"
    },
    {
     "name": "stderr",
     "output_type": "stream",
     "text": [
      "\r",
      "Processing ligands: 32it [00:07,  4.87it/s]"
     ]
    },
    {
     "name": "stdout",
     "output_type": "stream",
     "text": [
      "/media/lmeuret/Seagate Portable Drive/result_docking/DOCKING_project/Conan-main/results_SMINA/DOCKED/ligand65/output44_ligand65_2023-11-22-15_52/best.pdbqt\n",
      "/media/lmeuret/Seagate Portable Drive/result_docking/DOCKING_project/Conan-main/receptors/output44.pdbqt\n"
     ]
    },
    {
     "data": {
      "application/vnd.jupyter.widget-view+json": {
       "model_id": "86ad06f2aaed407889f0614c1f5266fb",
       "version_major": 2,
       "version_minor": 0
      },
      "text/plain": [
       "  0%|          | 0/1 [00:00<?, ?it/s]"
      ]
     },
     "metadata": {},
     "output_type": "display_data"
    },
    {
     "name": "stderr",
     "output_type": "stream",
     "text": [
      "\r",
      "Processing ligands: 33it [00:08,  4.88it/s]"
     ]
    },
    {
     "name": "stdout",
     "output_type": "stream",
     "text": [
      "/media/lmeuret/Seagate Portable Drive/result_docking/DOCKING_project/Conan-main/results_SMINA/DOCKED/ligand650/output44_ligand650_2023-11-22-15_52/best.pdbqt\n",
      "/media/lmeuret/Seagate Portable Drive/result_docking/DOCKING_project/Conan-main/receptors/output44.pdbqt\n"
     ]
    },
    {
     "data": {
      "application/vnd.jupyter.widget-view+json": {
       "model_id": "646076720124459da37ad04155965943",
       "version_major": 2,
       "version_minor": 0
      },
      "text/plain": [
       "  0%|          | 0/1 [00:00<?, ?it/s]"
      ]
     },
     "metadata": {},
     "output_type": "display_data"
    },
    {
     "name": "stderr",
     "output_type": "stream",
     "text": [
      "\r",
      "Processing ligands: 34it [00:08,  4.98it/s]"
     ]
    },
    {
     "name": "stdout",
     "output_type": "stream",
     "text": [
      "/media/lmeuret/Seagate Portable Drive/result_docking/DOCKING_project/Conan-main/results_SMINA/DOCKED/ligand651/output44_ligand651_2023-11-22-15_52/best.pdbqt\n",
      "/media/lmeuret/Seagate Portable Drive/result_docking/DOCKING_project/Conan-main/receptors/output44.pdbqt\n"
     ]
    },
    {
     "data": {
      "application/vnd.jupyter.widget-view+json": {
       "model_id": "51a1d208cae7403c8a9106448d698924",
       "version_major": 2,
       "version_minor": 0
      },
      "text/plain": [
       "  0%|          | 0/1 [00:00<?, ?it/s]"
      ]
     },
     "metadata": {},
     "output_type": "display_data"
    },
    {
     "name": "stderr",
     "output_type": "stream",
     "text": [
      "\r",
      "Processing ligands: 35it [00:08,  5.12it/s]"
     ]
    },
    {
     "name": "stdout",
     "output_type": "stream",
     "text": [
      "/media/lmeuret/Seagate Portable Drive/result_docking/DOCKING_project/Conan-main/results_SMINA/DOCKED/ligand652/output44_ligand652_2023-11-22-15_52/best.pdbqt\n",
      "/media/lmeuret/Seagate Portable Drive/result_docking/DOCKING_project/Conan-main/receptors/output44.pdbqt\n"
     ]
    },
    {
     "data": {
      "application/vnd.jupyter.widget-view+json": {
       "model_id": "e0ff07b60b0a4e75a4784cea7c3fa3b7",
       "version_major": 2,
       "version_minor": 0
      },
      "text/plain": [
       "  0%|          | 0/1 [00:00<?, ?it/s]"
      ]
     },
     "metadata": {},
     "output_type": "display_data"
    },
    {
     "name": "stderr",
     "output_type": "stream",
     "text": [
      "\r",
      "Processing ligands: 36it [00:08,  5.03it/s]"
     ]
    },
    {
     "name": "stdout",
     "output_type": "stream",
     "text": [
      "/media/lmeuret/Seagate Portable Drive/result_docking/DOCKING_project/Conan-main/results_SMINA/DOCKED/ligand653/output44_ligand653_2023-11-22-15_52/best.pdbqt\n",
      "/media/lmeuret/Seagate Portable Drive/result_docking/DOCKING_project/Conan-main/receptors/output44.pdbqt\n"
     ]
    },
    {
     "data": {
      "application/vnd.jupyter.widget-view+json": {
       "model_id": "fe4b2ce6042c46a98a37f6ccb8f04c70",
       "version_major": 2,
       "version_minor": 0
      },
      "text/plain": [
       "  0%|          | 0/1 [00:00<?, ?it/s]"
      ]
     },
     "metadata": {},
     "output_type": "display_data"
    },
    {
     "name": "stderr",
     "output_type": "stream",
     "text": [
      "\r",
      "Processing ligands: 37it [00:08,  5.03it/s]"
     ]
    },
    {
     "name": "stdout",
     "output_type": "stream",
     "text": [
      "/media/lmeuret/Seagate Portable Drive/result_docking/DOCKING_project/Conan-main/results_SMINA/DOCKED/ligand655/output44_ligand655_2023-11-22-15_52/best.pdbqt\n",
      "/media/lmeuret/Seagate Portable Drive/result_docking/DOCKING_project/Conan-main/receptors/output44.pdbqt\n"
     ]
    },
    {
     "data": {
      "application/vnd.jupyter.widget-view+json": {
       "model_id": "b1ed7f9d5e41497582633160d7ac35dc",
       "version_major": 2,
       "version_minor": 0
      },
      "text/plain": [
       "  0%|          | 0/1 [00:00<?, ?it/s]"
      ]
     },
     "metadata": {},
     "output_type": "display_data"
    },
    {
     "name": "stderr",
     "output_type": "stream",
     "text": [
      "\r",
      "Processing ligands: 38it [00:09,  5.17it/s]"
     ]
    },
    {
     "name": "stdout",
     "output_type": "stream",
     "text": [
      "/media/lmeuret/Seagate Portable Drive/result_docking/DOCKING_project/Conan-main/results_SMINA/DOCKED/ligand656/output44_ligand656_2023-11-22-15_52/best.pdbqt\n",
      "/media/lmeuret/Seagate Portable Drive/result_docking/DOCKING_project/Conan-main/receptors/output44.pdbqt\n"
     ]
    },
    {
     "data": {
      "application/vnd.jupyter.widget-view+json": {
       "model_id": "1b911a94749848358ac548919f6a6145",
       "version_major": 2,
       "version_minor": 0
      },
      "text/plain": [
       "  0%|          | 0/1 [00:00<?, ?it/s]"
      ]
     },
     "metadata": {},
     "output_type": "display_data"
    },
    {
     "name": "stderr",
     "output_type": "stream",
     "text": [
      "\r",
      "Processing ligands: 39it [00:09,  5.09it/s]"
     ]
    },
    {
     "name": "stdout",
     "output_type": "stream",
     "text": [
      "/media/lmeuret/Seagate Portable Drive/result_docking/DOCKING_project/Conan-main/results_SMINA/DOCKED/ligand657/output44_ligand657_2023-11-22-15_52/best.pdbqt\n",
      "/media/lmeuret/Seagate Portable Drive/result_docking/DOCKING_project/Conan-main/receptors/output44.pdbqt\n"
     ]
    },
    {
     "data": {
      "application/vnd.jupyter.widget-view+json": {
       "model_id": "26aae9bf18904df791d86a0c2603d198",
       "version_major": 2,
       "version_minor": 0
      },
      "text/plain": [
       "  0%|          | 0/1 [00:00<?, ?it/s]"
      ]
     },
     "metadata": {},
     "output_type": "display_data"
    },
    {
     "name": "stderr",
     "output_type": "stream",
     "text": [
      "\r",
      "Processing ligands: 40it [00:09,  5.08it/s]"
     ]
    },
    {
     "name": "stdout",
     "output_type": "stream",
     "text": [
      "/media/lmeuret/Seagate Portable Drive/result_docking/DOCKING_project/Conan-main/results_SMINA/DOCKED/ligand658/output44_ligand658_2023-11-22-15_52/best.pdbqt\n",
      "/media/lmeuret/Seagate Portable Drive/result_docking/DOCKING_project/Conan-main/receptors/output44.pdbqt\n"
     ]
    },
    {
     "data": {
      "application/vnd.jupyter.widget-view+json": {
       "model_id": "a15dbb1328eb4a7eb4efa4253b14e771",
       "version_major": 2,
       "version_minor": 0
      },
      "text/plain": [
       "  0%|          | 0/1 [00:00<?, ?it/s]"
      ]
     },
     "metadata": {},
     "output_type": "display_data"
    },
    {
     "name": "stderr",
     "output_type": "stream",
     "text": [
      "\r",
      "Processing ligands: 41it [00:09,  5.13it/s]"
     ]
    },
    {
     "name": "stdout",
     "output_type": "stream",
     "text": [
      "/media/lmeuret/Seagate Portable Drive/result_docking/DOCKING_project/Conan-main/results_SMINA/DOCKED/ligand659/output44_ligand659_2023-11-22-15_52/best.pdbqt\n",
      "/media/lmeuret/Seagate Portable Drive/result_docking/DOCKING_project/Conan-main/receptors/output44.pdbqt\n"
     ]
    },
    {
     "data": {
      "application/vnd.jupyter.widget-view+json": {
       "model_id": "cdeb391c414443d5a33d84ac96c60f99",
       "version_major": 2,
       "version_minor": 0
      },
      "text/plain": [
       "  0%|          | 0/1 [00:00<?, ?it/s]"
      ]
     },
     "metadata": {},
     "output_type": "display_data"
    },
    {
     "name": "stderr",
     "output_type": "stream",
     "text": [
      "\r",
      "Processing ligands: 42it [00:09,  5.03it/s]"
     ]
    },
    {
     "name": "stdout",
     "output_type": "stream",
     "text": [
      "/media/lmeuret/Seagate Portable Drive/result_docking/DOCKING_project/Conan-main/results_SMINA/DOCKED/ligand66/output44_ligand66_2023-11-22-15_52/best.pdbqt\n",
      "/media/lmeuret/Seagate Portable Drive/result_docking/DOCKING_project/Conan-main/receptors/output44.pdbqt\n"
     ]
    },
    {
     "data": {
      "application/vnd.jupyter.widget-view+json": {
       "model_id": "6b5c2d5a123a4fe8966b1e724781eb68",
       "version_major": 2,
       "version_minor": 0
      },
      "text/plain": [
       "  0%|          | 0/1 [00:00<?, ?it/s]"
      ]
     },
     "metadata": {},
     "output_type": "display_data"
    },
    {
     "name": "stderr",
     "output_type": "stream",
     "text": [
      "\r",
      "Processing ligands: 43it [00:10,  4.63it/s]"
     ]
    },
    {
     "name": "stdout",
     "output_type": "stream",
     "text": [
      "/media/lmeuret/Seagate Portable Drive/result_docking/DOCKING_project/Conan-main/results_SMINA/DOCKED/ligand660/output44_ligand660_2023-11-22-15_52/best.pdbqt\n",
      "/media/lmeuret/Seagate Portable Drive/result_docking/DOCKING_project/Conan-main/receptors/output44.pdbqt\n"
     ]
    },
    {
     "data": {
      "application/vnd.jupyter.widget-view+json": {
       "model_id": "7c9ddf9e742a46bfaffd14d32dae19c7",
       "version_major": 2,
       "version_minor": 0
      },
      "text/plain": [
       "  0%|          | 0/1 [00:00<?, ?it/s]"
      ]
     },
     "metadata": {},
     "output_type": "display_data"
    },
    {
     "name": "stderr",
     "output_type": "stream",
     "text": [
      "\r",
      "Processing ligands: 44it [00:10,  4.54it/s]"
     ]
    },
    {
     "name": "stdout",
     "output_type": "stream",
     "text": [
      "/media/lmeuret/Seagate Portable Drive/result_docking/DOCKING_project/Conan-main/results_SMINA/DOCKED/ligand356/output44_ligand356_2023-11-22-15_52/best.pdbqt\n",
      "/media/lmeuret/Seagate Portable Drive/result_docking/DOCKING_project/Conan-main/receptors/output44.pdbqt\n"
     ]
    },
    {
     "data": {
      "application/vnd.jupyter.widget-view+json": {
       "model_id": "53039e4fd16643a2a3fb276ca254e498",
       "version_major": 2,
       "version_minor": 0
      },
      "text/plain": [
       "  0%|          | 0/1 [00:00<?, ?it/s]"
      ]
     },
     "metadata": {},
     "output_type": "display_data"
    },
    {
     "name": "stderr",
     "output_type": "stream",
     "text": [
      "\r",
      "Processing ligands: 45it [00:10,  4.44it/s]"
     ]
    },
    {
     "name": "stdout",
     "output_type": "stream",
     "text": [
      "/media/lmeuret/Seagate Portable Drive/result_docking/DOCKING_project/Conan-main/results_SMINA/DOCKED/ligand357/output44_ligand357_2023-11-22-15_52/best.pdbqt\n",
      "/media/lmeuret/Seagate Portable Drive/result_docking/DOCKING_project/Conan-main/receptors/output44.pdbqt\n"
     ]
    },
    {
     "data": {
      "application/vnd.jupyter.widget-view+json": {
       "model_id": "77bbbcd7cd0a4a95bc5ebe62c7b7e548",
       "version_major": 2,
       "version_minor": 0
      },
      "text/plain": [
       "  0%|          | 0/1 [00:00<?, ?it/s]"
      ]
     },
     "metadata": {},
     "output_type": "display_data"
    },
    {
     "name": "stderr",
     "output_type": "stream",
     "text": [
      "\r",
      "Processing ligands: 46it [00:10,  4.52it/s]"
     ]
    },
    {
     "name": "stdout",
     "output_type": "stream",
     "text": [
      "/media/lmeuret/Seagate Portable Drive/result_docking/DOCKING_project/Conan-main/results_SMINA/DOCKED/ligand358/output44_ligand358_2023-11-22-15_52/best.pdbqt\n",
      "/media/lmeuret/Seagate Portable Drive/result_docking/DOCKING_project/Conan-main/receptors/output44.pdbqt\n"
     ]
    },
    {
     "data": {
      "application/vnd.jupyter.widget-view+json": {
       "model_id": "096a25e5a2124424ae2443660221b548",
       "version_major": 2,
       "version_minor": 0
      },
      "text/plain": [
       "  0%|          | 0/1 [00:00<?, ?it/s]"
      ]
     },
     "metadata": {},
     "output_type": "display_data"
    },
    {
     "name": "stderr",
     "output_type": "stream",
     "text": [
      "\r",
      "Processing ligands: 47it [00:11,  4.51it/s]"
     ]
    },
    {
     "name": "stdout",
     "output_type": "stream",
     "text": [
      "/media/lmeuret/Seagate Portable Drive/result_docking/DOCKING_project/Conan-main/results_SMINA/DOCKED/ligand359/output44_ligand359_2023-11-22-15_52/best.pdbqt\n",
      "/media/lmeuret/Seagate Portable Drive/result_docking/DOCKING_project/Conan-main/receptors/output44.pdbqt\n"
     ]
    },
    {
     "data": {
      "application/vnd.jupyter.widget-view+json": {
       "model_id": "b1e61426015d4aa3b1aa5828ce965d6b",
       "version_major": 2,
       "version_minor": 0
      },
      "text/plain": [
       "  0%|          | 0/1 [00:00<?, ?it/s]"
      ]
     },
     "metadata": {},
     "output_type": "display_data"
    },
    {
     "name": "stderr",
     "output_type": "stream",
     "text": [
      "\r",
      "Processing ligands: 48it [00:11,  4.67it/s]"
     ]
    },
    {
     "name": "stdout",
     "output_type": "stream",
     "text": [
      "/media/lmeuret/Seagate Portable Drive/result_docking/DOCKING_project/Conan-main/results_SMINA/DOCKED/ligand36/output44_ligand36_2023-11-22-15_52/best.pdbqt\n",
      "/media/lmeuret/Seagate Portable Drive/result_docking/DOCKING_project/Conan-main/receptors/output44.pdbqt\n"
     ]
    },
    {
     "data": {
      "application/vnd.jupyter.widget-view+json": {
       "model_id": "9f0df2d28adb44d78a4673799354dea4",
       "version_major": 2,
       "version_minor": 0
      },
      "text/plain": [
       "  0%|          | 0/1 [00:00<?, ?it/s]"
      ]
     },
     "metadata": {},
     "output_type": "display_data"
    },
    {
     "name": "stderr",
     "output_type": "stream",
     "text": [
      "\r",
      "Processing ligands: 49it [00:11,  4.74it/s]"
     ]
    },
    {
     "name": "stdout",
     "output_type": "stream",
     "text": [
      "/media/lmeuret/Seagate Portable Drive/result_docking/DOCKING_project/Conan-main/results_SMINA/DOCKED/ligand360/output44_ligand360_2023-11-22-15_52/best.pdbqt\n",
      "/media/lmeuret/Seagate Portable Drive/result_docking/DOCKING_project/Conan-main/receptors/output44.pdbqt\n"
     ]
    },
    {
     "data": {
      "application/vnd.jupyter.widget-view+json": {
       "model_id": "c5c3e3e247944984acf6356674d1a3e2",
       "version_major": 2,
       "version_minor": 0
      },
      "text/plain": [
       "  0%|          | 0/1 [00:00<?, ?it/s]"
      ]
     },
     "metadata": {},
     "output_type": "display_data"
    },
    {
     "name": "stderr",
     "output_type": "stream",
     "text": [
      "\r",
      "Processing ligands: 50it [00:11,  4.79it/s]"
     ]
    },
    {
     "name": "stdout",
     "output_type": "stream",
     "text": [
      "/media/lmeuret/Seagate Portable Drive/result_docking/DOCKING_project/Conan-main/results_SMINA/DOCKED/ligand361/output44_ligand361_2023-11-22-15_52/best.pdbqt\n",
      "/media/lmeuret/Seagate Portable Drive/result_docking/DOCKING_project/Conan-main/receptors/output44.pdbqt\n"
     ]
    },
    {
     "data": {
      "application/vnd.jupyter.widget-view+json": {
       "model_id": "1723854c263b4122b27b1df66e1fc6d8",
       "version_major": 2,
       "version_minor": 0
      },
      "text/plain": [
       "  0%|          | 0/1 [00:00<?, ?it/s]"
      ]
     },
     "metadata": {},
     "output_type": "display_data"
    },
    {
     "name": "stderr",
     "output_type": "stream",
     "text": [
      "\r",
      "Processing ligands: 51it [00:11,  4.76it/s]"
     ]
    },
    {
     "name": "stdout",
     "output_type": "stream",
     "text": [
      "/media/lmeuret/Seagate Portable Drive/result_docking/DOCKING_project/Conan-main/results_SMINA/DOCKED/ligand362/output44_ligand362_2023-11-22-15_52/best.pdbqt\n",
      "/media/lmeuret/Seagate Portable Drive/result_docking/DOCKING_project/Conan-main/receptors/output44.pdbqt\n"
     ]
    },
    {
     "data": {
      "application/vnd.jupyter.widget-view+json": {
       "model_id": "cfaecb5718bc4aeca06d25b1047f6235",
       "version_major": 2,
       "version_minor": 0
      },
      "text/plain": [
       "  0%|          | 0/1 [00:00<?, ?it/s]"
      ]
     },
     "metadata": {},
     "output_type": "display_data"
    },
    {
     "name": "stderr",
     "output_type": "stream",
     "text": [
      "\r",
      "Processing ligands: 52it [00:12,  4.61it/s]"
     ]
    },
    {
     "name": "stdout",
     "output_type": "stream",
     "text": [
      "/media/lmeuret/Seagate Portable Drive/result_docking/DOCKING_project/Conan-main/results_SMINA/DOCKED/ligand363/output44_ligand363_2023-11-22-15_52/best.pdbqt\n",
      "/media/lmeuret/Seagate Portable Drive/result_docking/DOCKING_project/Conan-main/receptors/output44.pdbqt\n"
     ]
    },
    {
     "data": {
      "application/vnd.jupyter.widget-view+json": {
       "model_id": "3f1c1eb0ffa441f7ac1caa56fb673f86",
       "version_major": 2,
       "version_minor": 0
      },
      "text/plain": [
       "  0%|          | 0/1 [00:00<?, ?it/s]"
      ]
     },
     "metadata": {},
     "output_type": "display_data"
    },
    {
     "name": "stderr",
     "output_type": "stream",
     "text": [
      "\r",
      "Processing ligands: 53it [00:12,  4.56it/s]"
     ]
    },
    {
     "name": "stdout",
     "output_type": "stream",
     "text": [
      "/media/lmeuret/Seagate Portable Drive/result_docking/DOCKING_project/Conan-main/results_SMINA/DOCKED/ligand364/output44_ligand364_2023-11-22-15_52/best.pdbqt\n",
      "/media/lmeuret/Seagate Portable Drive/result_docking/DOCKING_project/Conan-main/receptors/output44.pdbqt\n"
     ]
    },
    {
     "data": {
      "application/vnd.jupyter.widget-view+json": {
       "model_id": "4013b1611bca4e01af8fc59cf19506bb",
       "version_major": 2,
       "version_minor": 0
      },
      "text/plain": [
       "  0%|          | 0/1 [00:00<?, ?it/s]"
      ]
     },
     "metadata": {},
     "output_type": "display_data"
    },
    {
     "name": "stderr",
     "output_type": "stream",
     "text": [
      "\r",
      "Processing ligands: 54it [00:12,  4.06it/s]"
     ]
    },
    {
     "name": "stdout",
     "output_type": "stream",
     "text": [
      "/media/lmeuret/Seagate Portable Drive/result_docking/DOCKING_project/Conan-main/results_SMINA/DOCKED/ligand365/output44_ligand365_2023-11-22-15_52/best.pdbqt\n",
      "/media/lmeuret/Seagate Portable Drive/result_docking/DOCKING_project/Conan-main/receptors/output44.pdbqt\n"
     ]
    },
    {
     "data": {
      "application/vnd.jupyter.widget-view+json": {
       "model_id": "9aaa85370c884b7b905377560163e092",
       "version_major": 2,
       "version_minor": 0
      },
      "text/plain": [
       "  0%|          | 0/1 [00:00<?, ?it/s]"
      ]
     },
     "metadata": {},
     "output_type": "display_data"
    },
    {
     "name": "stderr",
     "output_type": "stream",
     "text": [
      "\r",
      "Processing ligands: 55it [00:12,  4.23it/s]"
     ]
    },
    {
     "name": "stdout",
     "output_type": "stream",
     "text": [
      "/media/lmeuret/Seagate Portable Drive/result_docking/DOCKING_project/Conan-main/results_SMINA/DOCKED/ligand366/output44_ligand366_2023-11-22-15_52/best.pdbqt\n",
      "/media/lmeuret/Seagate Portable Drive/result_docking/DOCKING_project/Conan-main/receptors/output44.pdbqt\n"
     ]
    },
    {
     "data": {
      "application/vnd.jupyter.widget-view+json": {
       "model_id": "e96dd51f0c4646a9a61c0e5cd1ca3569",
       "version_major": 2,
       "version_minor": 0
      },
      "text/plain": [
       "  0%|          | 0/1 [00:00<?, ?it/s]"
      ]
     },
     "metadata": {},
     "output_type": "display_data"
    },
    {
     "name": "stderr",
     "output_type": "stream",
     "text": [
      "\r",
      "Processing ligands: 56it [00:13,  4.45it/s]"
     ]
    },
    {
     "name": "stdout",
     "output_type": "stream",
     "text": [
      "/media/lmeuret/Seagate Portable Drive/result_docking/DOCKING_project/Conan-main/results_SMINA/DOCKED/ligand367/output44_ligand367_2023-11-22-15_52/best.pdbqt\n",
      "/media/lmeuret/Seagate Portable Drive/result_docking/DOCKING_project/Conan-main/receptors/output44.pdbqt\n"
     ]
    },
    {
     "data": {
      "application/vnd.jupyter.widget-view+json": {
       "model_id": "a61a3ace6d554484b76a12bef5d0bd2e",
       "version_major": 2,
       "version_minor": 0
      },
      "text/plain": [
       "  0%|          | 0/1 [00:00<?, ?it/s]"
      ]
     },
     "metadata": {},
     "output_type": "display_data"
    },
    {
     "name": "stderr",
     "output_type": "stream",
     "text": [
      "\r",
      "Processing ligands: 57it [00:13,  4.58it/s]"
     ]
    },
    {
     "name": "stdout",
     "output_type": "stream",
     "text": [
      "/media/lmeuret/Seagate Portable Drive/result_docking/DOCKING_project/Conan-main/results_SMINA/DOCKED/ligand368/output44_ligand368_2023-11-22-15_52/best.pdbqt\n",
      "/media/lmeuret/Seagate Portable Drive/result_docking/DOCKING_project/Conan-main/receptors/output44.pdbqt\n"
     ]
    },
    {
     "data": {
      "application/vnd.jupyter.widget-view+json": {
       "model_id": "cef969a49952477daf5dc9a0d4d73519",
       "version_major": 2,
       "version_minor": 0
      },
      "text/plain": [
       "  0%|          | 0/1 [00:00<?, ?it/s]"
      ]
     },
     "metadata": {},
     "output_type": "display_data"
    },
    {
     "name": "stderr",
     "output_type": "stream",
     "text": [
      "\r",
      "Processing ligands: 58it [00:13,  4.46it/s]"
     ]
    },
    {
     "name": "stdout",
     "output_type": "stream",
     "text": [
      "/media/lmeuret/Seagate Portable Drive/result_docking/DOCKING_project/Conan-main/results_SMINA/DOCKED/ligand369/output44_ligand369_2023-11-22-15_52/best.pdbqt\n",
      "/media/lmeuret/Seagate Portable Drive/result_docking/DOCKING_project/Conan-main/receptors/output44.pdbqt\n"
     ]
    },
    {
     "data": {
      "application/vnd.jupyter.widget-view+json": {
       "model_id": "a6dc1efe4fb443d7816f3efd5963fa22",
       "version_major": 2,
       "version_minor": 0
      },
      "text/plain": [
       "  0%|          | 0/1 [00:00<?, ?it/s]"
      ]
     },
     "metadata": {},
     "output_type": "display_data"
    },
    {
     "name": "stderr",
     "output_type": "stream",
     "text": [
      "\r",
      "Processing ligands: 59it [00:13,  4.32it/s]"
     ]
    },
    {
     "name": "stdout",
     "output_type": "stream",
     "text": [
      "/media/lmeuret/Seagate Portable Drive/result_docking/DOCKING_project/Conan-main/results_SMINA/DOCKED/ligand37/output44_ligand37_2023-11-22-15_52/best.pdbqt\n",
      "/media/lmeuret/Seagate Portable Drive/result_docking/DOCKING_project/Conan-main/receptors/output44.pdbqt\n"
     ]
    },
    {
     "data": {
      "application/vnd.jupyter.widget-view+json": {
       "model_id": "98d8acebbd364854909860d8d9ae30c4",
       "version_major": 2,
       "version_minor": 0
      },
      "text/plain": [
       "  0%|          | 0/1 [00:00<?, ?it/s]"
      ]
     },
     "metadata": {},
     "output_type": "display_data"
    },
    {
     "name": "stderr",
     "output_type": "stream",
     "text": [
      "\r",
      "Processing ligands: 60it [00:13,  4.54it/s]"
     ]
    },
    {
     "name": "stdout",
     "output_type": "stream",
     "text": [
      "/media/lmeuret/Seagate Portable Drive/result_docking/DOCKING_project/Conan-main/results_SMINA/DOCKED/ligand370/output44_ligand370_2023-11-22-15_52/best.pdbqt\n",
      "/media/lmeuret/Seagate Portable Drive/result_docking/DOCKING_project/Conan-main/receptors/output44.pdbqt\n"
     ]
    },
    {
     "data": {
      "application/vnd.jupyter.widget-view+json": {
       "model_id": "c36debb2adb04287b14883c8365c1381",
       "version_major": 2,
       "version_minor": 0
      },
      "text/plain": [
       "  0%|          | 0/1 [00:00<?, ?it/s]"
      ]
     },
     "metadata": {},
     "output_type": "display_data"
    },
    {
     "name": "stderr",
     "output_type": "stream",
     "text": [
      "\r",
      "Processing ligands: 61it [00:14,  4.61it/s]"
     ]
    },
    {
     "name": "stdout",
     "output_type": "stream",
     "text": [
      "/media/lmeuret/Seagate Portable Drive/result_docking/DOCKING_project/Conan-main/results_SMINA/DOCKED/ligand371/output44_ligand371_2023-11-22-15_52/best.pdbqt\n",
      "/media/lmeuret/Seagate Portable Drive/result_docking/DOCKING_project/Conan-main/receptors/output44.pdbqt\n"
     ]
    },
    {
     "data": {
      "application/vnd.jupyter.widget-view+json": {
       "model_id": "71d95e6bdbdf47b3b8269f204c7c2ba4",
       "version_major": 2,
       "version_minor": 0
      },
      "text/plain": [
       "  0%|          | 0/1 [00:00<?, ?it/s]"
      ]
     },
     "metadata": {},
     "output_type": "display_data"
    },
    {
     "name": "stderr",
     "output_type": "stream",
     "text": [
      "\r",
      "Processing ligands: 62it [00:14,  4.49it/s]"
     ]
    },
    {
     "name": "stdout",
     "output_type": "stream",
     "text": [
      "/media/lmeuret/Seagate Portable Drive/result_docking/DOCKING_project/Conan-main/results_SMINA/DOCKED/ligand372/output44_ligand372_2023-11-22-15_52/best.pdbqt\n",
      "/media/lmeuret/Seagate Portable Drive/result_docking/DOCKING_project/Conan-main/receptors/output44.pdbqt\n"
     ]
    },
    {
     "data": {
      "application/vnd.jupyter.widget-view+json": {
       "model_id": "8b04203e50eb418bb1061918c5cd28c0",
       "version_major": 2,
       "version_minor": 0
      },
      "text/plain": [
       "  0%|          | 0/1 [00:00<?, ?it/s]"
      ]
     },
     "metadata": {},
     "output_type": "display_data"
    },
    {
     "name": "stderr",
     "output_type": "stream",
     "text": [
      "\r",
      "Processing ligands: 63it [00:14,  4.37it/s]"
     ]
    },
    {
     "name": "stdout",
     "output_type": "stream",
     "text": [
      "/media/lmeuret/Seagate Portable Drive/result_docking/DOCKING_project/Conan-main/results_SMINA/DOCKED/ligand373/output44_ligand373_2023-11-22-15_52/best.pdbqt\n",
      "/media/lmeuret/Seagate Portable Drive/result_docking/DOCKING_project/Conan-main/receptors/output44.pdbqt\n"
     ]
    },
    {
     "data": {
      "application/vnd.jupyter.widget-view+json": {
       "model_id": "77b58f9df3924bb2be2efdfe398f25c8",
       "version_major": 2,
       "version_minor": 0
      },
      "text/plain": [
       "  0%|          | 0/1 [00:00<?, ?it/s]"
      ]
     },
     "metadata": {},
     "output_type": "display_data"
    },
    {
     "name": "stderr",
     "output_type": "stream",
     "text": [
      "\r",
      "Processing ligands: 64it [00:14,  4.58it/s]"
     ]
    },
    {
     "name": "stdout",
     "output_type": "stream",
     "text": [
      "/media/lmeuret/Seagate Portable Drive/result_docking/DOCKING_project/Conan-main/results_SMINA/DOCKED/ligand374/output44_ligand374_2023-11-22-15_52/best.pdbqt\n",
      "/media/lmeuret/Seagate Portable Drive/result_docking/DOCKING_project/Conan-main/receptors/output44.pdbqt\n"
     ]
    },
    {
     "data": {
      "application/vnd.jupyter.widget-view+json": {
       "model_id": "ab1cfdeabcbd40a2a17fd1adf2ded33e",
       "version_major": 2,
       "version_minor": 0
      },
      "text/plain": [
       "  0%|          | 0/1 [00:00<?, ?it/s]"
      ]
     },
     "metadata": {},
     "output_type": "display_data"
    },
    {
     "name": "stderr",
     "output_type": "stream",
     "text": [
      "\r",
      "Processing ligands: 65it [00:15,  4.63it/s]"
     ]
    },
    {
     "name": "stdout",
     "output_type": "stream",
     "text": [
      "/media/lmeuret/Seagate Portable Drive/result_docking/DOCKING_project/Conan-main/results_SMINA/DOCKED/ligand375/output44_ligand375_2023-11-22-15_52/best.pdbqt\n",
      "/media/lmeuret/Seagate Portable Drive/result_docking/DOCKING_project/Conan-main/receptors/output44.pdbqt\n"
     ]
    },
    {
     "data": {
      "application/vnd.jupyter.widget-view+json": {
       "model_id": "e93638b997674ab1956c3769dd06e755",
       "version_major": 2,
       "version_minor": 0
      },
      "text/plain": [
       "  0%|          | 0/1 [00:00<?, ?it/s]"
      ]
     },
     "metadata": {},
     "output_type": "display_data"
    },
    {
     "name": "stderr",
     "output_type": "stream",
     "text": [
      "\r",
      "Processing ligands: 66it [00:15,  4.55it/s]"
     ]
    },
    {
     "name": "stdout",
     "output_type": "stream",
     "text": [
      "/media/lmeuret/Seagate Portable Drive/result_docking/DOCKING_project/Conan-main/results_SMINA/DOCKED/ligand376/output44_ligand376_2023-11-22-15_52/best.pdbqt\n",
      "/media/lmeuret/Seagate Portable Drive/result_docking/DOCKING_project/Conan-main/receptors/output44.pdbqt\n"
     ]
    },
    {
     "data": {
      "application/vnd.jupyter.widget-view+json": {
       "model_id": "e3e2f7309296425e800dbc80a78ceada",
       "version_major": 2,
       "version_minor": 0
      },
      "text/plain": [
       "  0%|          | 0/1 [00:00<?, ?it/s]"
      ]
     },
     "metadata": {},
     "output_type": "display_data"
    },
    {
     "name": "stderr",
     "output_type": "stream",
     "text": [
      "\r",
      "Processing ligands: 67it [00:15,  4.52it/s]"
     ]
    },
    {
     "name": "stdout",
     "output_type": "stream",
     "text": [
      "/media/lmeuret/Seagate Portable Drive/result_docking/DOCKING_project/Conan-main/results_SMINA/DOCKED/ligand377/output44_ligand377_2023-11-22-15_52/best.pdbqt\n",
      "/media/lmeuret/Seagate Portable Drive/result_docking/DOCKING_project/Conan-main/receptors/output44.pdbqt\n"
     ]
    },
    {
     "data": {
      "application/vnd.jupyter.widget-view+json": {
       "model_id": "def3e8cc1be540b5b2f50d10312fa7b9",
       "version_major": 2,
       "version_minor": 0
      },
      "text/plain": [
       "  0%|          | 0/1 [00:00<?, ?it/s]"
      ]
     },
     "metadata": {},
     "output_type": "display_data"
    },
    {
     "name": "stderr",
     "output_type": "stream",
     "text": [
      "\r",
      "Processing ligands: 68it [00:15,  4.56it/s]"
     ]
    },
    {
     "name": "stdout",
     "output_type": "stream",
     "text": [
      "/media/lmeuret/Seagate Portable Drive/result_docking/DOCKING_project/Conan-main/results_SMINA/DOCKED/ligand378/output44_ligand378_2023-11-22-15_52/best.pdbqt\n",
      "/media/lmeuret/Seagate Portable Drive/result_docking/DOCKING_project/Conan-main/receptors/output44.pdbqt\n"
     ]
    },
    {
     "data": {
      "application/vnd.jupyter.widget-view+json": {
       "model_id": "d7e823b79e344c0ea8177eeb9b1813fe",
       "version_major": 2,
       "version_minor": 0
      },
      "text/plain": [
       "  0%|          | 0/1 [00:00<?, ?it/s]"
      ]
     },
     "metadata": {},
     "output_type": "display_data"
    },
    {
     "name": "stderr",
     "output_type": "stream",
     "text": [
      "\r",
      "Processing ligands: 69it [00:15,  4.68it/s]"
     ]
    },
    {
     "name": "stdout",
     "output_type": "stream",
     "text": [
      "/media/lmeuret/Seagate Portable Drive/result_docking/DOCKING_project/Conan-main/results_SMINA/DOCKED/ligand379/output44_ligand379_2023-11-22-15_52/best.pdbqt\n",
      "/media/lmeuret/Seagate Portable Drive/result_docking/DOCKING_project/Conan-main/receptors/output44.pdbqt\n"
     ]
    },
    {
     "data": {
      "application/vnd.jupyter.widget-view+json": {
       "model_id": "984efa10f7644c2497f5784e6dc63ec1",
       "version_major": 2,
       "version_minor": 0
      },
      "text/plain": [
       "  0%|          | 0/1 [00:00<?, ?it/s]"
      ]
     },
     "metadata": {},
     "output_type": "display_data"
    },
    {
     "name": "stderr",
     "output_type": "stream",
     "text": [
      "\r",
      "Processing ligands: 70it [00:16,  4.43it/s]"
     ]
    },
    {
     "name": "stdout",
     "output_type": "stream",
     "text": [
      "/media/lmeuret/Seagate Portable Drive/result_docking/DOCKING_project/Conan-main/results_SMINA/DOCKED/ligand38/output44_ligand38_2023-11-22-15_52/best.pdbqt\n",
      "/media/lmeuret/Seagate Portable Drive/result_docking/DOCKING_project/Conan-main/receptors/output44.pdbqt\n"
     ]
    },
    {
     "data": {
      "application/vnd.jupyter.widget-view+json": {
       "model_id": "91926296206d42d9a02dc0fcdf1b5a0e",
       "version_major": 2,
       "version_minor": 0
      },
      "text/plain": [
       "  0%|          | 0/1 [00:00<?, ?it/s]"
      ]
     },
     "metadata": {},
     "output_type": "display_data"
    },
    {
     "name": "stderr",
     "output_type": "stream",
     "text": [
      "\r",
      "Processing ligands: 71it [00:16,  4.49it/s]"
     ]
    },
    {
     "name": "stdout",
     "output_type": "stream",
     "text": [
      "/media/lmeuret/Seagate Portable Drive/result_docking/DOCKING_project/Conan-main/results_SMINA/DOCKED/ligand380/output44_ligand380_2023-11-22-15_52/best.pdbqt\n",
      "/media/lmeuret/Seagate Portable Drive/result_docking/DOCKING_project/Conan-main/receptors/output44.pdbqt\n"
     ]
    },
    {
     "data": {
      "application/vnd.jupyter.widget-view+json": {
       "model_id": "81585d568716475fa25a6fec00422314",
       "version_major": 2,
       "version_minor": 0
      },
      "text/plain": [
       "  0%|          | 0/1 [00:00<?, ?it/s]"
      ]
     },
     "metadata": {},
     "output_type": "display_data"
    },
    {
     "name": "stderr",
     "output_type": "stream",
     "text": [
      "\r",
      "Processing ligands: 72it [00:16,  4.43it/s]"
     ]
    },
    {
     "name": "stdout",
     "output_type": "stream",
     "text": [
      "/media/lmeuret/Seagate Portable Drive/result_docking/DOCKING_project/Conan-main/results_SMINA/DOCKED/ligand381/output44_ligand381_2023-11-22-15_52/best.pdbqt\n",
      "/media/lmeuret/Seagate Portable Drive/result_docking/DOCKING_project/Conan-main/receptors/output44.pdbqt\n"
     ]
    },
    {
     "data": {
      "application/vnd.jupyter.widget-view+json": {
       "model_id": "3cf1aae4daf640d29b73e33f470536c4",
       "version_major": 2,
       "version_minor": 0
      },
      "text/plain": [
       "  0%|          | 0/1 [00:00<?, ?it/s]"
      ]
     },
     "metadata": {},
     "output_type": "display_data"
    },
    {
     "name": "stderr",
     "output_type": "stream",
     "text": [
      "\r",
      "Processing ligands: 73it [00:16,  4.48it/s]"
     ]
    },
    {
     "name": "stdout",
     "output_type": "stream",
     "text": [
      "/media/lmeuret/Seagate Portable Drive/result_docking/DOCKING_project/Conan-main/results_SMINA/DOCKED/ligand382/output44_ligand382_2023-11-22-15_52/best.pdbqt\n",
      "/media/lmeuret/Seagate Portable Drive/result_docking/DOCKING_project/Conan-main/receptors/output44.pdbqt\n"
     ]
    },
    {
     "data": {
      "application/vnd.jupyter.widget-view+json": {
       "model_id": "08b9729b828348af913eeb177b0252c3",
       "version_major": 2,
       "version_minor": 0
      },
      "text/plain": [
       "  0%|          | 0/1 [00:00<?, ?it/s]"
      ]
     },
     "metadata": {},
     "output_type": "display_data"
    },
    {
     "name": "stderr",
     "output_type": "stream",
     "text": [
      "\r",
      "Processing ligands: 74it [00:17,  4.58it/s]"
     ]
    },
    {
     "name": "stdout",
     "output_type": "stream",
     "text": [
      "/media/lmeuret/Seagate Portable Drive/result_docking/DOCKING_project/Conan-main/results_SMINA/DOCKED/ligand383/output44_ligand383_2023-11-22-15_52/best.pdbqt\n",
      "/media/lmeuret/Seagate Portable Drive/result_docking/DOCKING_project/Conan-main/receptors/output44.pdbqt\n"
     ]
    },
    {
     "data": {
      "application/vnd.jupyter.widget-view+json": {
       "model_id": "7e88ab44acd74c1ca0723ddbfaa6afb5",
       "version_major": 2,
       "version_minor": 0
      },
      "text/plain": [
       "  0%|          | 0/1 [00:00<?, ?it/s]"
      ]
     },
     "metadata": {},
     "output_type": "display_data"
    },
    {
     "name": "stderr",
     "output_type": "stream",
     "text": [
      "\r",
      "Processing ligands: 75it [00:17,  4.65it/s]"
     ]
    },
    {
     "name": "stdout",
     "output_type": "stream",
     "text": [
      "/media/lmeuret/Seagate Portable Drive/result_docking/DOCKING_project/Conan-main/results_SMINA/DOCKED/ligand384/output44_ligand384_2023-11-22-15_52/best.pdbqt\n",
      "/media/lmeuret/Seagate Portable Drive/result_docking/DOCKING_project/Conan-main/receptors/output44.pdbqt\n"
     ]
    },
    {
     "data": {
      "application/vnd.jupyter.widget-view+json": {
       "model_id": "369ca98c7cd5436ba93dd444353b50ac",
       "version_major": 2,
       "version_minor": 0
      },
      "text/plain": [
       "  0%|          | 0/1 [00:00<?, ?it/s]"
      ]
     },
     "metadata": {},
     "output_type": "display_data"
    },
    {
     "name": "stderr",
     "output_type": "stream",
     "text": [
      "\r",
      "Processing ligands: 76it [00:17,  4.74it/s]"
     ]
    },
    {
     "name": "stdout",
     "output_type": "stream",
     "text": [
      "/media/lmeuret/Seagate Portable Drive/result_docking/DOCKING_project/Conan-main/results_SMINA/DOCKED/ligand385/output44_ligand385_2023-11-22-15_52/best.pdbqt\n",
      "/media/lmeuret/Seagate Portable Drive/result_docking/DOCKING_project/Conan-main/receptors/output44.pdbqt\n"
     ]
    },
    {
     "data": {
      "application/vnd.jupyter.widget-view+json": {
       "model_id": "a9c3e79bc3704767bf5833d402deac4a",
       "version_major": 2,
       "version_minor": 0
      },
      "text/plain": [
       "  0%|          | 0/1 [00:00<?, ?it/s]"
      ]
     },
     "metadata": {},
     "output_type": "display_data"
    },
    {
     "name": "stderr",
     "output_type": "stream",
     "text": [
      "\r",
      "Processing ligands: 77it [00:17,  4.83it/s]"
     ]
    },
    {
     "name": "stdout",
     "output_type": "stream",
     "text": [
      "/media/lmeuret/Seagate Portable Drive/result_docking/DOCKING_project/Conan-main/results_SMINA/DOCKED/ligand386/output44_ligand386_2023-11-22-15_52/best.pdbqt\n",
      "/media/lmeuret/Seagate Portable Drive/result_docking/DOCKING_project/Conan-main/receptors/output44.pdbqt\n"
     ]
    },
    {
     "data": {
      "application/vnd.jupyter.widget-view+json": {
       "model_id": "cc9154a3fe7344b0b09cb7eff68d0f57",
       "version_major": 2,
       "version_minor": 0
      },
      "text/plain": [
       "  0%|          | 0/1 [00:00<?, ?it/s]"
      ]
     },
     "metadata": {},
     "output_type": "display_data"
    },
    {
     "name": "stderr",
     "output_type": "stream",
     "text": [
      "\r",
      "Processing ligands: 78it [00:17,  4.83it/s]"
     ]
    },
    {
     "name": "stdout",
     "output_type": "stream",
     "text": [
      "/media/lmeuret/Seagate Portable Drive/result_docking/DOCKING_project/Conan-main/results_SMINA/DOCKED/ligand843/output44_ligand843_2023-11-22-15_52/best.pdbqt\n",
      "/media/lmeuret/Seagate Portable Drive/result_docking/DOCKING_project/Conan-main/receptors/output44.pdbqt\n"
     ]
    },
    {
     "data": {
      "application/vnd.jupyter.widget-view+json": {
       "model_id": "dd534ea242064308994e5d8b1cb2c4c1",
       "version_major": 2,
       "version_minor": 0
      },
      "text/plain": [
       "  0%|          | 0/1 [00:00<?, ?it/s]"
      ]
     },
     "metadata": {},
     "output_type": "display_data"
    },
    {
     "name": "stderr",
     "output_type": "stream",
     "text": [
      "\r",
      "Processing ligands: 79it [00:18,  4.81it/s]"
     ]
    },
    {
     "name": "stdout",
     "output_type": "stream",
     "text": [
      "/media/lmeuret/Seagate Portable Drive/result_docking/DOCKING_project/Conan-main/results_SMINA/DOCKED/ligand844/output44_ligand844_2023-11-22-15_52/best.pdbqt\n",
      "/media/lmeuret/Seagate Portable Drive/result_docking/DOCKING_project/Conan-main/receptors/output44.pdbqt\n"
     ]
    },
    {
     "data": {
      "application/vnd.jupyter.widget-view+json": {
       "model_id": "669b7763276847a7877871e162a130a5",
       "version_major": 2,
       "version_minor": 0
      },
      "text/plain": [
       "  0%|          | 0/1 [00:00<?, ?it/s]"
      ]
     },
     "metadata": {},
     "output_type": "display_data"
    },
    {
     "name": "stderr",
     "output_type": "stream",
     "text": [
      "\r",
      "Processing ligands: 80it [00:18,  4.75it/s]"
     ]
    },
    {
     "name": "stdout",
     "output_type": "stream",
     "text": [
      "/media/lmeuret/Seagate Portable Drive/result_docking/DOCKING_project/Conan-main/results_SMINA/DOCKED/ligand845/output44_ligand845_2023-11-22-15_52/best.pdbqt\n",
      "/media/lmeuret/Seagate Portable Drive/result_docking/DOCKING_project/Conan-main/receptors/output44.pdbqt\n"
     ]
    },
    {
     "data": {
      "application/vnd.jupyter.widget-view+json": {
       "model_id": "537643be58dd4074ae86f98cf001b547",
       "version_major": 2,
       "version_minor": 0
      },
      "text/plain": [
       "  0%|          | 0/1 [00:00<?, ?it/s]"
      ]
     },
     "metadata": {},
     "output_type": "display_data"
    },
    {
     "name": "stderr",
     "output_type": "stream",
     "text": [
      "\r",
      "Processing ligands: 81it [00:18,  4.68it/s]"
     ]
    },
    {
     "name": "stdout",
     "output_type": "stream",
     "text": [
      "/media/lmeuret/Seagate Portable Drive/result_docking/DOCKING_project/Conan-main/results_SMINA/DOCKED/ligand846/output44_ligand846_2023-11-22-15_52/best.pdbqt\n",
      "/media/lmeuret/Seagate Portable Drive/result_docking/DOCKING_project/Conan-main/receptors/output44.pdbqt\n"
     ]
    },
    {
     "data": {
      "application/vnd.jupyter.widget-view+json": {
       "model_id": "8a809fa389524138a52088f092ff53d1",
       "version_major": 2,
       "version_minor": 0
      },
      "text/plain": [
       "  0%|          | 0/1 [00:00<?, ?it/s]"
      ]
     },
     "metadata": {},
     "output_type": "display_data"
    },
    {
     "name": "stderr",
     "output_type": "stream",
     "text": [
      "\r",
      "Processing ligands: 82it [00:18,  4.70it/s]"
     ]
    },
    {
     "name": "stdout",
     "output_type": "stream",
     "text": [
      "/media/lmeuret/Seagate Portable Drive/result_docking/DOCKING_project/Conan-main/results_SMINA/DOCKED/ligand847/output44_ligand847_2023-11-22-15_52/best.pdbqt\n",
      "/media/lmeuret/Seagate Portable Drive/result_docking/DOCKING_project/Conan-main/receptors/output44.pdbqt\n"
     ]
    },
    {
     "data": {
      "application/vnd.jupyter.widget-view+json": {
       "model_id": "f58f16e3da0448e5918d6fa6390e6258",
       "version_major": 2,
       "version_minor": 0
      },
      "text/plain": [
       "  0%|          | 0/1 [00:00<?, ?it/s]"
      ]
     },
     "metadata": {},
     "output_type": "display_data"
    },
    {
     "name": "stderr",
     "output_type": "stream",
     "text": [
      "\r",
      "Processing ligands: 83it [00:18,  4.78it/s]"
     ]
    },
    {
     "name": "stdout",
     "output_type": "stream",
     "text": [
      "/media/lmeuret/Seagate Portable Drive/result_docking/DOCKING_project/Conan-main/results_SMINA/DOCKED/ligand848/output44_ligand848_2023-11-22-15_52/best.pdbqt\n",
      "/media/lmeuret/Seagate Portable Drive/result_docking/DOCKING_project/Conan-main/receptors/output44.pdbqt\n"
     ]
    },
    {
     "data": {
      "application/vnd.jupyter.widget-view+json": {
       "model_id": "30acdac3ba5b457a9fbb7f84682c3c03",
       "version_major": 2,
       "version_minor": 0
      },
      "text/plain": [
       "  0%|          | 0/1 [00:00<?, ?it/s]"
      ]
     },
     "metadata": {},
     "output_type": "display_data"
    },
    {
     "name": "stderr",
     "output_type": "stream",
     "text": [
      "\r",
      "Processing ligands: 84it [00:19,  4.62it/s]"
     ]
    },
    {
     "name": "stdout",
     "output_type": "stream",
     "text": [
      "/media/lmeuret/Seagate Portable Drive/result_docking/DOCKING_project/Conan-main/results_SMINA/DOCKED/ligand849/output44_ligand849_2023-11-22-15_52/best.pdbqt\n",
      "/media/lmeuret/Seagate Portable Drive/result_docking/DOCKING_project/Conan-main/receptors/output44.pdbqt\n"
     ]
    },
    {
     "data": {
      "application/vnd.jupyter.widget-view+json": {
       "model_id": "526ccc1f0e924317baa2127ff3b01919",
       "version_major": 2,
       "version_minor": 0
      },
      "text/plain": [
       "  0%|          | 0/1 [00:00<?, ?it/s]"
      ]
     },
     "metadata": {},
     "output_type": "display_data"
    },
    {
     "name": "stderr",
     "output_type": "stream",
     "text": [
      "\r",
      "Processing ligands: 85it [00:19,  4.57it/s]"
     ]
    },
    {
     "name": "stdout",
     "output_type": "stream",
     "text": [
      "/media/lmeuret/Seagate Portable Drive/result_docking/DOCKING_project/Conan-main/results_SMINA/DOCKED/ligand85/output44_ligand85_2023-11-22-15_52/best.pdbqt\n",
      "/media/lmeuret/Seagate Portable Drive/result_docking/DOCKING_project/Conan-main/receptors/output44.pdbqt\n"
     ]
    },
    {
     "data": {
      "application/vnd.jupyter.widget-view+json": {
       "model_id": "940e5d0e94bc42d5b012b455cf8fa01d",
       "version_major": 2,
       "version_minor": 0
      },
      "text/plain": [
       "  0%|          | 0/1 [00:00<?, ?it/s]"
      ]
     },
     "metadata": {},
     "output_type": "display_data"
    },
    {
     "name": "stderr",
     "output_type": "stream",
     "text": [
      "\r",
      "Processing ligands: 86it [00:19,  4.48it/s]"
     ]
    },
    {
     "name": "stdout",
     "output_type": "stream",
     "text": [
      "/media/lmeuret/Seagate Portable Drive/result_docking/DOCKING_project/Conan-main/results_SMINA/DOCKED/ligand850/output44_ligand850_2023-11-22-15_52/best.pdbqt\n",
      "/media/lmeuret/Seagate Portable Drive/result_docking/DOCKING_project/Conan-main/receptors/output44.pdbqt\n"
     ]
    },
    {
     "data": {
      "application/vnd.jupyter.widget-view+json": {
       "model_id": "2c57987d4ecb485fbeec83f51551a616",
       "version_major": 2,
       "version_minor": 0
      },
      "text/plain": [
       "  0%|          | 0/1 [00:00<?, ?it/s]"
      ]
     },
     "metadata": {},
     "output_type": "display_data"
    },
    {
     "name": "stderr",
     "output_type": "stream",
     "text": [
      "\r",
      "Processing ligands: 87it [00:19,  4.65it/s]"
     ]
    },
    {
     "name": "stdout",
     "output_type": "stream",
     "text": [
      "/media/lmeuret/Seagate Portable Drive/result_docking/DOCKING_project/Conan-main/results_SMINA/DOCKED/ligand851/output44_ligand851_2023-11-22-15_52/best.pdbqt\n",
      "/media/lmeuret/Seagate Portable Drive/result_docking/DOCKING_project/Conan-main/receptors/output44.pdbqt\n"
     ]
    },
    {
     "data": {
      "application/vnd.jupyter.widget-view+json": {
       "model_id": "432569a449b442059fdd4b2e97b39fcd",
       "version_major": 2,
       "version_minor": 0
      },
      "text/plain": [
       "  0%|          | 0/1 [00:00<?, ?it/s]"
      ]
     },
     "metadata": {},
     "output_type": "display_data"
    },
    {
     "name": "stderr",
     "output_type": "stream",
     "text": [
      "\r",
      "Processing ligands: 88it [00:20,  4.74it/s]"
     ]
    },
    {
     "name": "stdout",
     "output_type": "stream",
     "text": [
      "/media/lmeuret/Seagate Portable Drive/result_docking/DOCKING_project/Conan-main/results_SMINA/DOCKED/ligand852/output44_ligand852_2023-11-22-15_52/best.pdbqt\n",
      "/media/lmeuret/Seagate Portable Drive/result_docking/DOCKING_project/Conan-main/receptors/output44.pdbqt\n"
     ]
    },
    {
     "data": {
      "application/vnd.jupyter.widget-view+json": {
       "model_id": "bfe2e5ebde284cd79124e70baf8d7982",
       "version_major": 2,
       "version_minor": 0
      },
      "text/plain": [
       "  0%|          | 0/1 [00:00<?, ?it/s]"
      ]
     },
     "metadata": {},
     "output_type": "display_data"
    },
    {
     "name": "stderr",
     "output_type": "stream",
     "text": [
      "\r",
      "Processing ligands: 89it [00:20,  4.64it/s]"
     ]
    },
    {
     "name": "stdout",
     "output_type": "stream",
     "text": [
      "/media/lmeuret/Seagate Portable Drive/result_docking/DOCKING_project/Conan-main/results_SMINA/DOCKED/ligand853/output44_ligand853_2023-11-22-15_52/best.pdbqt\n",
      "/media/lmeuret/Seagate Portable Drive/result_docking/DOCKING_project/Conan-main/receptors/output44.pdbqt\n"
     ]
    },
    {
     "data": {
      "application/vnd.jupyter.widget-view+json": {
       "model_id": "6f7bf10866324cd1a7e541f318cd8fca",
       "version_major": 2,
       "version_minor": 0
      },
      "text/plain": [
       "  0%|          | 0/1 [00:00<?, ?it/s]"
      ]
     },
     "metadata": {},
     "output_type": "display_data"
    },
    {
     "name": "stderr",
     "output_type": "stream",
     "text": [
      "\r",
      "Processing ligands: 90it [00:20,  4.49it/s]"
     ]
    },
    {
     "name": "stdout",
     "output_type": "stream",
     "text": [
      "/media/lmeuret/Seagate Portable Drive/result_docking/DOCKING_project/Conan-main/results_SMINA/DOCKED/ligand854/output44_ligand854_2023-11-22-15_52/best.pdbqt\n",
      "/media/lmeuret/Seagate Portable Drive/result_docking/DOCKING_project/Conan-main/receptors/output44.pdbqt\n"
     ]
    },
    {
     "data": {
      "application/vnd.jupyter.widget-view+json": {
       "model_id": "9d5a41f7bdc1403680dd13c0c8c3d118",
       "version_major": 2,
       "version_minor": 0
      },
      "text/plain": [
       "  0%|          | 0/1 [00:00<?, ?it/s]"
      ]
     },
     "metadata": {},
     "output_type": "display_data"
    },
    {
     "name": "stderr",
     "output_type": "stream",
     "text": [
      "\r",
      "Processing ligands: 91it [00:20,  4.51it/s]"
     ]
    },
    {
     "name": "stdout",
     "output_type": "stream",
     "text": [
      "/media/lmeuret/Seagate Portable Drive/result_docking/DOCKING_project/Conan-main/results_SMINA/DOCKED/ligand855/output44_ligand855_2023-11-22-15_52/best.pdbqt\n",
      "/media/lmeuret/Seagate Portable Drive/result_docking/DOCKING_project/Conan-main/receptors/output44.pdbqt\n"
     ]
    },
    {
     "data": {
      "application/vnd.jupyter.widget-view+json": {
       "model_id": "1c0590eb30f54c4da16227421905cdd6",
       "version_major": 2,
       "version_minor": 0
      },
      "text/plain": [
       "  0%|          | 0/1 [00:00<?, ?it/s]"
      ]
     },
     "metadata": {},
     "output_type": "display_data"
    },
    {
     "name": "stderr",
     "output_type": "stream",
     "text": [
      "\r",
      "Processing ligands: 92it [00:20,  4.70it/s]"
     ]
    },
    {
     "name": "stdout",
     "output_type": "stream",
     "text": [
      "/media/lmeuret/Seagate Portable Drive/result_docking/DOCKING_project/Conan-main/results_SMINA/DOCKED/ligand856/output44_ligand856_2023-11-22-15_52/best.pdbqt\n",
      "/media/lmeuret/Seagate Portable Drive/result_docking/DOCKING_project/Conan-main/receptors/output44.pdbqt\n"
     ]
    },
    {
     "data": {
      "application/vnd.jupyter.widget-view+json": {
       "model_id": "c73150f29f4f4c8fa6b1acb63d7fe4a3",
       "version_major": 2,
       "version_minor": 0
      },
      "text/plain": [
       "  0%|          | 0/1 [00:00<?, ?it/s]"
      ]
     },
     "metadata": {},
     "output_type": "display_data"
    },
    {
     "name": "stderr",
     "output_type": "stream",
     "text": [
      "\r",
      "Processing ligands: 93it [00:21,  4.79it/s]"
     ]
    },
    {
     "name": "stdout",
     "output_type": "stream",
     "text": [
      "/media/lmeuret/Seagate Portable Drive/result_docking/DOCKING_project/Conan-main/results_SMINA/DOCKED/ligand857/output44_ligand857_2023-11-22-15_52/best.pdbqt\n",
      "/media/lmeuret/Seagate Portable Drive/result_docking/DOCKING_project/Conan-main/receptors/output44.pdbqt\n"
     ]
    },
    {
     "data": {
      "application/vnd.jupyter.widget-view+json": {
       "model_id": "e1a28bcb952848c895268ca6394a6cb7",
       "version_major": 2,
       "version_minor": 0
      },
      "text/plain": [
       "  0%|          | 0/1 [00:00<?, ?it/s]"
      ]
     },
     "metadata": {},
     "output_type": "display_data"
    },
    {
     "name": "stderr",
     "output_type": "stream",
     "text": [
      "\r",
      "Processing ligands: 94it [00:21,  4.81it/s]"
     ]
    },
    {
     "name": "stdout",
     "output_type": "stream",
     "text": [
      "/media/lmeuret/Seagate Portable Drive/result_docking/DOCKING_project/Conan-main/results_SMINA/DOCKED/ligand858/output44_ligand858_2023-11-22-15_52/best.pdbqt\n",
      "/media/lmeuret/Seagate Portable Drive/result_docking/DOCKING_project/Conan-main/receptors/output44.pdbqt\n"
     ]
    },
    {
     "data": {
      "application/vnd.jupyter.widget-view+json": {
       "model_id": "f941b736d516406f9858512069f534d3",
       "version_major": 2,
       "version_minor": 0
      },
      "text/plain": [
       "  0%|          | 0/1 [00:00<?, ?it/s]"
      ]
     },
     "metadata": {},
     "output_type": "display_data"
    },
    {
     "name": "stderr",
     "output_type": "stream",
     "text": [
      "\r",
      "Processing ligands: 95it [00:21,  4.83it/s]"
     ]
    },
    {
     "name": "stdout",
     "output_type": "stream",
     "text": [
      "/media/lmeuret/Seagate Portable Drive/result_docking/DOCKING_project/Conan-main/results_SMINA/DOCKED/ligand859/output44_ligand859_2023-11-22-15_52/best.pdbqt\n",
      "/media/lmeuret/Seagate Portable Drive/result_docking/DOCKING_project/Conan-main/receptors/output44.pdbqt\n"
     ]
    },
    {
     "data": {
      "application/vnd.jupyter.widget-view+json": {
       "model_id": "bd26e8bfd1b04af4842e71a6dfe9cb79",
       "version_major": 2,
       "version_minor": 0
      },
      "text/plain": [
       "  0%|          | 0/1 [00:00<?, ?it/s]"
      ]
     },
     "metadata": {},
     "output_type": "display_data"
    },
    {
     "name": "stderr",
     "output_type": "stream",
     "text": [
      "\r",
      "Processing ligands: 96it [00:21,  4.85it/s]"
     ]
    },
    {
     "name": "stdout",
     "output_type": "stream",
     "text": [
      "/media/lmeuret/Seagate Portable Drive/result_docking/DOCKING_project/Conan-main/results_SMINA/DOCKED/ligand86/output44_ligand86_2023-11-22-15_52/best.pdbqt\n",
      "/media/lmeuret/Seagate Portable Drive/result_docking/DOCKING_project/Conan-main/receptors/output44.pdbqt\n"
     ]
    },
    {
     "data": {
      "application/vnd.jupyter.widget-view+json": {
       "model_id": "654f20859f954bd9bcef6e635c8c4a21",
       "version_major": 2,
       "version_minor": 0
      },
      "text/plain": [
       "  0%|          | 0/1 [00:00<?, ?it/s]"
      ]
     },
     "metadata": {},
     "output_type": "display_data"
    },
    {
     "name": "stderr",
     "output_type": "stream",
     "text": [
      "\r",
      "Processing ligands: 97it [00:21,  4.71it/s]"
     ]
    },
    {
     "name": "stdout",
     "output_type": "stream",
     "text": [
      "/media/lmeuret/Seagate Portable Drive/result_docking/DOCKING_project/Conan-main/results_SMINA/DOCKED/ligand860/output44_ligand860_2023-11-22-15_52/best.pdbqt\n",
      "/media/lmeuret/Seagate Portable Drive/result_docking/DOCKING_project/Conan-main/receptors/output44.pdbqt\n"
     ]
    },
    {
     "data": {
      "application/vnd.jupyter.widget-view+json": {
       "model_id": "6841880bd18a4010a9b2db04b8530ab7",
       "version_major": 2,
       "version_minor": 0
      },
      "text/plain": [
       "  0%|          | 0/1 [00:00<?, ?it/s]"
      ]
     },
     "metadata": {},
     "output_type": "display_data"
    },
    {
     "name": "stderr",
     "output_type": "stream",
     "text": [
      "\r",
      "Processing ligands: 98it [00:22,  4.56it/s]"
     ]
    },
    {
     "name": "stdout",
     "output_type": "stream",
     "text": [
      "/media/lmeuret/Seagate Portable Drive/result_docking/DOCKING_project/Conan-main/results_SMINA/DOCKED/ligand861/output44_ligand861_2023-11-22-15_52/best.pdbqt\n",
      "/media/lmeuret/Seagate Portable Drive/result_docking/DOCKING_project/Conan-main/receptors/output44.pdbqt\n"
     ]
    },
    {
     "data": {
      "application/vnd.jupyter.widget-view+json": {
       "model_id": "bae097e9ca3e477fae624f44f97ffe8e",
       "version_major": 2,
       "version_minor": 0
      },
      "text/plain": [
       "  0%|          | 0/1 [00:00<?, ?it/s]"
      ]
     },
     "metadata": {},
     "output_type": "display_data"
    },
    {
     "name": "stderr",
     "output_type": "stream",
     "text": [
      "\r",
      "Processing ligands: 99it [00:22,  4.61it/s]"
     ]
    },
    {
     "name": "stdout",
     "output_type": "stream",
     "text": [
      "/media/lmeuret/Seagate Portable Drive/result_docking/DOCKING_project/Conan-main/results_SMINA/DOCKED/ligand506/output44_ligand506_2023-11-22-15_52/best.pdbqt\n",
      "/media/lmeuret/Seagate Portable Drive/result_docking/DOCKING_project/Conan-main/receptors/output44.pdbqt\n"
     ]
    },
    {
     "data": {
      "application/vnd.jupyter.widget-view+json": {
       "model_id": "cd0482202cb9491e920938ad397b5586",
       "version_major": 2,
       "version_minor": 0
      },
      "text/plain": [
       "  0%|          | 0/1 [00:00<?, ?it/s]"
      ]
     },
     "metadata": {},
     "output_type": "display_data"
    },
    {
     "name": "stderr",
     "output_type": "stream",
     "text": [
      "\r",
      "Processing ligands: 100it [00:22,  4.77it/s]"
     ]
    },
    {
     "name": "stdout",
     "output_type": "stream",
     "text": [
      "/media/lmeuret/Seagate Portable Drive/result_docking/DOCKING_project/Conan-main/results_SMINA/DOCKED/ligand507/output44_ligand507_2023-11-22-15_52/best.pdbqt\n",
      "/media/lmeuret/Seagate Portable Drive/result_docking/DOCKING_project/Conan-main/receptors/output44.pdbqt\n"
     ]
    },
    {
     "data": {
      "application/vnd.jupyter.widget-view+json": {
       "model_id": "f2af60b84772486d874eb632b12a3877",
       "version_major": 2,
       "version_minor": 0
      },
      "text/plain": [
       "  0%|          | 0/1 [00:00<?, ?it/s]"
      ]
     },
     "metadata": {},
     "output_type": "display_data"
    },
    {
     "name": "stderr",
     "output_type": "stream",
     "text": [
      "\r",
      "Processing ligands: 101it [00:22,  4.79it/s]"
     ]
    },
    {
     "name": "stdout",
     "output_type": "stream",
     "text": [
      "/media/lmeuret/Seagate Portable Drive/result_docking/DOCKING_project/Conan-main/results_SMINA/DOCKED/ligand508/output44_ligand508_2023-11-22-15_52/best.pdbqt\n",
      "/media/lmeuret/Seagate Portable Drive/result_docking/DOCKING_project/Conan-main/receptors/output44.pdbqt\n"
     ]
    },
    {
     "data": {
      "application/vnd.jupyter.widget-view+json": {
       "model_id": "68a5a316d28f4c3ab3e8c41642804ff5",
       "version_major": 2,
       "version_minor": 0
      },
      "text/plain": [
       "  0%|          | 0/1 [00:00<?, ?it/s]"
      ]
     },
     "metadata": {},
     "output_type": "display_data"
    },
    {
     "name": "stderr",
     "output_type": "stream",
     "text": [
      "\r",
      "Processing ligands: 102it [00:22,  4.86it/s]"
     ]
    },
    {
     "name": "stdout",
     "output_type": "stream",
     "text": [
      "/media/lmeuret/Seagate Portable Drive/result_docking/DOCKING_project/Conan-main/results_SMINA/DOCKED/ligand509/output44_ligand509_2023-11-22-15_52/best.pdbqt\n",
      "/media/lmeuret/Seagate Portable Drive/result_docking/DOCKING_project/Conan-main/receptors/output44.pdbqt\n"
     ]
    },
    {
     "data": {
      "application/vnd.jupyter.widget-view+json": {
       "model_id": "41bd206a1d91414eb4cca5086c53cce2",
       "version_major": 2,
       "version_minor": 0
      },
      "text/plain": [
       "  0%|          | 0/1 [00:00<?, ?it/s]"
      ]
     },
     "metadata": {},
     "output_type": "display_data"
    },
    {
     "name": "stderr",
     "output_type": "stream",
     "text": [
      "\r",
      "Processing ligands: 103it [00:23,  4.89it/s]"
     ]
    },
    {
     "name": "stdout",
     "output_type": "stream",
     "text": [
      "/media/lmeuret/Seagate Portable Drive/result_docking/DOCKING_project/Conan-main/results_SMINA/DOCKED/ligand51/output44_ligand51_2023-11-22-15_52/best.pdbqt\n",
      "/media/lmeuret/Seagate Portable Drive/result_docking/DOCKING_project/Conan-main/receptors/output44.pdbqt\n"
     ]
    },
    {
     "data": {
      "application/vnd.jupyter.widget-view+json": {
       "model_id": "16b91530e47e424ea6cd3bf2b6ae5244",
       "version_major": 2,
       "version_minor": 0
      },
      "text/plain": [
       "  0%|          | 0/1 [00:00<?, ?it/s]"
      ]
     },
     "metadata": {},
     "output_type": "display_data"
    },
    {
     "name": "stderr",
     "output_type": "stream",
     "text": [
      "\r",
      "Processing ligands: 104it [00:23,  4.76it/s]"
     ]
    },
    {
     "name": "stdout",
     "output_type": "stream",
     "text": [
      "/media/lmeuret/Seagate Portable Drive/result_docking/DOCKING_project/Conan-main/results_SMINA/DOCKED/ligand510/output44_ligand510_2023-11-22-15_52/best.pdbqt\n",
      "/media/lmeuret/Seagate Portable Drive/result_docking/DOCKING_project/Conan-main/receptors/output44.pdbqt\n"
     ]
    },
    {
     "data": {
      "application/vnd.jupyter.widget-view+json": {
       "model_id": "ff45c1353bf2426c8938c1f2eeaba5a5",
       "version_major": 2,
       "version_minor": 0
      },
      "text/plain": [
       "  0%|          | 0/1 [00:00<?, ?it/s]"
      ]
     },
     "metadata": {},
     "output_type": "display_data"
    },
    {
     "name": "stderr",
     "output_type": "stream",
     "text": [
      "\r",
      "Processing ligands: 105it [00:23,  4.77it/s]"
     ]
    },
    {
     "name": "stdout",
     "output_type": "stream",
     "text": [
      "/media/lmeuret/Seagate Portable Drive/result_docking/DOCKING_project/Conan-main/results_SMINA/DOCKED/ligand511/output44_ligand511_2023-11-22-15_52/best.pdbqt\n",
      "/media/lmeuret/Seagate Portable Drive/result_docking/DOCKING_project/Conan-main/receptors/output44.pdbqt\n"
     ]
    },
    {
     "data": {
      "application/vnd.jupyter.widget-view+json": {
       "model_id": "76f279dea0274e52af109d847a77d026",
       "version_major": 2,
       "version_minor": 0
      },
      "text/plain": [
       "  0%|          | 0/1 [00:00<?, ?it/s]"
      ]
     },
     "metadata": {},
     "output_type": "display_data"
    },
    {
     "name": "stderr",
     "output_type": "stream",
     "text": [
      "\r",
      "Processing ligands: 106it [00:23,  4.53it/s]"
     ]
    },
    {
     "name": "stdout",
     "output_type": "stream",
     "text": [
      "/media/lmeuret/Seagate Portable Drive/result_docking/DOCKING_project/Conan-main/results_SMINA/DOCKED/ligand512/output44_ligand512_2023-11-22-15_52/best.pdbqt\n",
      "/media/lmeuret/Seagate Portable Drive/result_docking/DOCKING_project/Conan-main/receptors/output44.pdbqt\n"
     ]
    },
    {
     "data": {
      "application/vnd.jupyter.widget-view+json": {
       "model_id": "d86b59da3ca041c5b450a364e0f3a33d",
       "version_major": 2,
       "version_minor": 0
      },
      "text/plain": [
       "  0%|          | 0/1 [00:00<?, ?it/s]"
      ]
     },
     "metadata": {},
     "output_type": "display_data"
    },
    {
     "name": "stderr",
     "output_type": "stream",
     "text": [
      "\r",
      "Processing ligands: 107it [00:24,  4.58it/s]"
     ]
    },
    {
     "name": "stdout",
     "output_type": "stream",
     "text": [
      "/media/lmeuret/Seagate Portable Drive/result_docking/DOCKING_project/Conan-main/results_SMINA/DOCKED/ligand513/output44_ligand513_2023-11-22-15_52/best.pdbqt\n",
      "/media/lmeuret/Seagate Portable Drive/result_docking/DOCKING_project/Conan-main/receptors/output44.pdbqt\n"
     ]
    },
    {
     "data": {
      "application/vnd.jupyter.widget-view+json": {
       "model_id": "7232296612804523ac850726cfadf89b",
       "version_major": 2,
       "version_minor": 0
      },
      "text/plain": [
       "  0%|          | 0/1 [00:00<?, ?it/s]"
      ]
     },
     "metadata": {},
     "output_type": "display_data"
    },
    {
     "name": "stderr",
     "output_type": "stream",
     "text": [
      "\r",
      "Processing ligands: 108it [00:24,  4.60it/s]"
     ]
    },
    {
     "name": "stdout",
     "output_type": "stream",
     "text": [
      "/media/lmeuret/Seagate Portable Drive/result_docking/DOCKING_project/Conan-main/results_SMINA/DOCKED/ligand514/output44_ligand514_2023-11-22-15_52/best.pdbqt\n",
      "/media/lmeuret/Seagate Portable Drive/result_docking/DOCKING_project/Conan-main/receptors/output44.pdbqt\n"
     ]
    },
    {
     "data": {
      "application/vnd.jupyter.widget-view+json": {
       "model_id": "4680adbbb17947459d1f3f8f015f21a6",
       "version_major": 2,
       "version_minor": 0
      },
      "text/plain": [
       "  0%|          | 0/1 [00:00<?, ?it/s]"
      ]
     },
     "metadata": {},
     "output_type": "display_data"
    },
    {
     "name": "stderr",
     "output_type": "stream",
     "text": [
      "\r",
      "Processing ligands: 109it [00:24,  4.65it/s]"
     ]
    },
    {
     "name": "stdout",
     "output_type": "stream",
     "text": [
      "/media/lmeuret/Seagate Portable Drive/result_docking/DOCKING_project/Conan-main/results_SMINA/DOCKED/ligand515/output44_ligand515_2023-11-22-15_52/best.pdbqt\n",
      "/media/lmeuret/Seagate Portable Drive/result_docking/DOCKING_project/Conan-main/receptors/output44.pdbqt\n"
     ]
    },
    {
     "data": {
      "application/vnd.jupyter.widget-view+json": {
       "model_id": "3478357114ec4a019439c28246e3fec1",
       "version_major": 2,
       "version_minor": 0
      },
      "text/plain": [
       "  0%|          | 0/1 [00:00<?, ?it/s]"
      ]
     },
     "metadata": {},
     "output_type": "display_data"
    },
    {
     "name": "stderr",
     "output_type": "stream",
     "text": [
      "\r",
      "Processing ligands: 110it [00:24,  4.74it/s]"
     ]
    },
    {
     "name": "stdout",
     "output_type": "stream",
     "text": [
      "/media/lmeuret/Seagate Portable Drive/result_docking/DOCKING_project/Conan-main/results_SMINA/DOCKED/ligand516/output44_ligand516_2023-11-22-15_52/best.pdbqt\n",
      "/media/lmeuret/Seagate Portable Drive/result_docking/DOCKING_project/Conan-main/receptors/output44.pdbqt\n"
     ]
    },
    {
     "data": {
      "application/vnd.jupyter.widget-view+json": {
       "model_id": "3188c38f1b5344659d8f38d2805f3898",
       "version_major": 2,
       "version_minor": 0
      },
      "text/plain": [
       "  0%|          | 0/1 [00:00<?, ?it/s]"
      ]
     },
     "metadata": {},
     "output_type": "display_data"
    },
    {
     "name": "stderr",
     "output_type": "stream",
     "text": [
      "\r",
      "Processing ligands: 111it [00:24,  4.82it/s]"
     ]
    },
    {
     "name": "stdout",
     "output_type": "stream",
     "text": [
      "/media/lmeuret/Seagate Portable Drive/result_docking/DOCKING_project/Conan-main/results_SMINA/DOCKED/ligand517/output44_ligand517_2023-11-22-15_52/best.pdbqt\n",
      "/media/lmeuret/Seagate Portable Drive/result_docking/DOCKING_project/Conan-main/receptors/output44.pdbqt\n"
     ]
    },
    {
     "data": {
      "application/vnd.jupyter.widget-view+json": {
       "model_id": "8d5bff61fee44172a5277265342df9d5",
       "version_major": 2,
       "version_minor": 0
      },
      "text/plain": [
       "  0%|          | 0/1 [00:00<?, ?it/s]"
      ]
     },
     "metadata": {},
     "output_type": "display_data"
    },
    {
     "name": "stderr",
     "output_type": "stream",
     "text": [
      "\r",
      "Processing ligands: 112it [00:25,  4.85it/s]"
     ]
    },
    {
     "name": "stdout",
     "output_type": "stream",
     "text": [
      "/media/lmeuret/Seagate Portable Drive/result_docking/DOCKING_project/Conan-main/results_SMINA/DOCKED/ligand518/output44_ligand518_2023-11-22-15_52/best.pdbqt\n",
      "/media/lmeuret/Seagate Portable Drive/result_docking/DOCKING_project/Conan-main/receptors/output44.pdbqt\n"
     ]
    },
    {
     "data": {
      "application/vnd.jupyter.widget-view+json": {
       "model_id": "1fffdbe3e8c74573a084d5f4e13e697d",
       "version_major": 2,
       "version_minor": 0
      },
      "text/plain": [
       "  0%|          | 0/1 [00:00<?, ?it/s]"
      ]
     },
     "metadata": {},
     "output_type": "display_data"
    },
    {
     "name": "stderr",
     "output_type": "stream",
     "text": [
      "\r",
      "Processing ligands: 113it [00:25,  4.68it/s]"
     ]
    },
    {
     "name": "stdout",
     "output_type": "stream",
     "text": [
      "/media/lmeuret/Seagate Portable Drive/result_docking/DOCKING_project/Conan-main/results_SMINA/DOCKED/ligand519/output44_ligand519_2023-11-22-15_52/best.pdbqt\n",
      "/media/lmeuret/Seagate Portable Drive/result_docking/DOCKING_project/Conan-main/receptors/output44.pdbqt\n"
     ]
    },
    {
     "data": {
      "application/vnd.jupyter.widget-view+json": {
       "model_id": "e7deb6da01454eea8f513e51357a47b4",
       "version_major": 2,
       "version_minor": 0
      },
      "text/plain": [
       "  0%|          | 0/1 [00:00<?, ?it/s]"
      ]
     },
     "metadata": {},
     "output_type": "display_data"
    },
    {
     "name": "stderr",
     "output_type": "stream",
     "text": [
      "\r",
      "Processing ligands: 114it [00:25,  4.71it/s]"
     ]
    },
    {
     "name": "stdout",
     "output_type": "stream",
     "text": [
      "/media/lmeuret/Seagate Portable Drive/result_docking/DOCKING_project/Conan-main/results_SMINA/DOCKED/ligand52/output44_ligand52_2023-11-22-15_52/best.pdbqt\n",
      "/media/lmeuret/Seagate Portable Drive/result_docking/DOCKING_project/Conan-main/receptors/output44.pdbqt\n"
     ]
    },
    {
     "data": {
      "application/vnd.jupyter.widget-view+json": {
       "model_id": "90dad915dd6e492fb5b8297f92162b69",
       "version_major": 2,
       "version_minor": 0
      },
      "text/plain": [
       "  0%|          | 0/1 [00:00<?, ?it/s]"
      ]
     },
     "metadata": {},
     "output_type": "display_data"
    },
    {
     "name": "stderr",
     "output_type": "stream",
     "text": [
      "\r",
      "Processing ligands: 115it [00:25,  4.60it/s]"
     ]
    },
    {
     "name": "stdout",
     "output_type": "stream",
     "text": [
      "/media/lmeuret/Seagate Portable Drive/result_docking/DOCKING_project/Conan-main/results_SMINA/DOCKED/ligand520/output44_ligand520_2023-11-22-15_52/best.pdbqt\n",
      "/media/lmeuret/Seagate Portable Drive/result_docking/DOCKING_project/Conan-main/receptors/output44.pdbqt\n"
     ]
    },
    {
     "data": {
      "application/vnd.jupyter.widget-view+json": {
       "model_id": "b99d318f9dbf47ac95723f3b2964bef6",
       "version_major": 2,
       "version_minor": 0
      },
      "text/plain": [
       "  0%|          | 0/1 [00:00<?, ?it/s]"
      ]
     },
     "metadata": {},
     "output_type": "display_data"
    },
    {
     "name": "stderr",
     "output_type": "stream",
     "text": [
      "\r",
      "Processing ligands: 116it [00:26,  4.42it/s]"
     ]
    },
    {
     "name": "stdout",
     "output_type": "stream",
     "text": [
      "/media/lmeuret/Seagate Portable Drive/result_docking/DOCKING_project/Conan-main/results_SMINA/DOCKED/ligand521/output44_ligand521_2023-11-22-15_52/best.pdbqt\n",
      "/media/lmeuret/Seagate Portable Drive/result_docking/DOCKING_project/Conan-main/receptors/output44.pdbqt\n"
     ]
    },
    {
     "data": {
      "application/vnd.jupyter.widget-view+json": {
       "model_id": "467b9918da8a4cdabb40850d35081c3c",
       "version_major": 2,
       "version_minor": 0
      },
      "text/plain": [
       "  0%|          | 0/1 [00:00<?, ?it/s]"
      ]
     },
     "metadata": {},
     "output_type": "display_data"
    },
    {
     "name": "stderr",
     "output_type": "stream",
     "text": [
      "\r",
      "Processing ligands: 117it [00:26,  4.51it/s]"
     ]
    },
    {
     "name": "stdout",
     "output_type": "stream",
     "text": [
      "/media/lmeuret/Seagate Portable Drive/result_docking/DOCKING_project/Conan-main/results_SMINA/DOCKED/ligand522/output44_ligand522_2023-11-22-15_52/best.pdbqt\n",
      "/media/lmeuret/Seagate Portable Drive/result_docking/DOCKING_project/Conan-main/receptors/output44.pdbqt\n"
     ]
    },
    {
     "data": {
      "application/vnd.jupyter.widget-view+json": {
       "model_id": "ed79076d27d4451089ce5785d63e6612",
       "version_major": 2,
       "version_minor": 0
      },
      "text/plain": [
       "  0%|          | 0/1 [00:00<?, ?it/s]"
      ]
     },
     "metadata": {},
     "output_type": "display_data"
    },
    {
     "name": "stderr",
     "output_type": "stream",
     "text": [
      "\r",
      "Processing ligands: 118it [00:26,  4.71it/s]"
     ]
    },
    {
     "name": "stdout",
     "output_type": "stream",
     "text": [
      "/media/lmeuret/Seagate Portable Drive/result_docking/DOCKING_project/Conan-main/results_SMINA/DOCKED/ligand523/output44_ligand523_2023-11-22-15_52/best.pdbqt\n",
      "/media/lmeuret/Seagate Portable Drive/result_docking/DOCKING_project/Conan-main/receptors/output44.pdbqt\n"
     ]
    },
    {
     "data": {
      "application/vnd.jupyter.widget-view+json": {
       "model_id": "50902dd0c0db46ccb28f2411c421d245",
       "version_major": 2,
       "version_minor": 0
      },
      "text/plain": [
       "  0%|          | 0/1 [00:00<?, ?it/s]"
      ]
     },
     "metadata": {},
     "output_type": "display_data"
    },
    {
     "name": "stderr",
     "output_type": "stream",
     "text": [
      "\r",
      "Processing ligands: 119it [00:26,  4.66it/s]"
     ]
    },
    {
     "name": "stdout",
     "output_type": "stream",
     "text": [
      "/media/lmeuret/Seagate Portable Drive/result_docking/DOCKING_project/Conan-main/results_SMINA/DOCKED/ligand524/output44_ligand524_2023-11-22-15_52/best.pdbqt\n",
      "/media/lmeuret/Seagate Portable Drive/result_docking/DOCKING_project/Conan-main/receptors/output44.pdbqt\n"
     ]
    },
    {
     "data": {
      "application/vnd.jupyter.widget-view+json": {
       "model_id": "7dc6151cd749420b92f4ce60b5ba0ccb",
       "version_major": 2,
       "version_minor": 0
      },
      "text/plain": [
       "  0%|          | 0/1 [00:00<?, ?it/s]"
      ]
     },
     "metadata": {},
     "output_type": "display_data"
    },
    {
     "name": "stderr",
     "output_type": "stream",
     "text": [
      "\r",
      "Processing ligands: 120it [00:26,  4.46it/s]"
     ]
    },
    {
     "name": "stdout",
     "output_type": "stream",
     "text": [
      "/media/lmeuret/Seagate Portable Drive/result_docking/DOCKING_project/Conan-main/results_SMINA/DOCKED/ligand525/output44_ligand525_2023-11-22-15_52/best.pdbqt\n",
      "/media/lmeuret/Seagate Portable Drive/result_docking/DOCKING_project/Conan-main/receptors/output44.pdbqt\n"
     ]
    },
    {
     "data": {
      "application/vnd.jupyter.widget-view+json": {
       "model_id": "b5fb162b65c44cb6999a2dcf501a71e7",
       "version_major": 2,
       "version_minor": 0
      },
      "text/plain": [
       "  0%|          | 0/1 [00:00<?, ?it/s]"
      ]
     },
     "metadata": {},
     "output_type": "display_data"
    },
    {
     "name": "stderr",
     "output_type": "stream",
     "text": [
      "\r",
      "Processing ligands: 121it [00:27,  4.60it/s]"
     ]
    },
    {
     "name": "stdout",
     "output_type": "stream",
     "text": [
      "/media/lmeuret/Seagate Portable Drive/result_docking/DOCKING_project/Conan-main/results_SMINA/DOCKED/ligand526/output44_ligand526_2023-11-22-15_52/best.pdbqt\n",
      "/media/lmeuret/Seagate Portable Drive/result_docking/DOCKING_project/Conan-main/receptors/output44.pdbqt\n"
     ]
    },
    {
     "data": {
      "application/vnd.jupyter.widget-view+json": {
       "model_id": "5ec1c5c8ee28427589f464d4f4c677da",
       "version_major": 2,
       "version_minor": 0
      },
      "text/plain": [
       "  0%|          | 0/1 [00:00<?, ?it/s]"
      ]
     },
     "metadata": {},
     "output_type": "display_data"
    },
    {
     "name": "stderr",
     "output_type": "stream",
     "text": [
      "\r",
      "Processing ligands: 122it [00:27,  4.68it/s]"
     ]
    },
    {
     "name": "stdout",
     "output_type": "stream",
     "text": [
      "/media/lmeuret/Seagate Portable Drive/result_docking/DOCKING_project/Conan-main/results_SMINA/DOCKED/ligand527/output44_ligand527_2023-11-22-15_52/best.pdbqt\n",
      "/media/lmeuret/Seagate Portable Drive/result_docking/DOCKING_project/Conan-main/receptors/output44.pdbqt\n"
     ]
    },
    {
     "data": {
      "application/vnd.jupyter.widget-view+json": {
       "model_id": "35191b96a065428692ac62aa8cdf5c2d",
       "version_major": 2,
       "version_minor": 0
      },
      "text/plain": [
       "  0%|          | 0/1 [00:00<?, ?it/s]"
      ]
     },
     "metadata": {},
     "output_type": "display_data"
    },
    {
     "name": "stderr",
     "output_type": "stream",
     "text": [
      "\r",
      "Processing ligands: 123it [00:27,  4.75it/s]"
     ]
    },
    {
     "name": "stdout",
     "output_type": "stream",
     "text": [
      "/media/lmeuret/Seagate Portable Drive/result_docking/DOCKING_project/Conan-main/results_SMINA/DOCKED/ligand528/output44_ligand528_2023-11-22-15_52/best.pdbqt\n",
      "/media/lmeuret/Seagate Portable Drive/result_docking/DOCKING_project/Conan-main/receptors/output44.pdbqt\n"
     ]
    },
    {
     "data": {
      "application/vnd.jupyter.widget-view+json": {
       "model_id": "d805e2a544094f3bbb296acf348622a3",
       "version_major": 2,
       "version_minor": 0
      },
      "text/plain": [
       "  0%|          | 0/1 [00:00<?, ?it/s]"
      ]
     },
     "metadata": {},
     "output_type": "display_data"
    },
    {
     "name": "stderr",
     "output_type": "stream",
     "text": [
      "\r",
      "Processing ligands: 124it [00:27,  4.85it/s]"
     ]
    },
    {
     "name": "stdout",
     "output_type": "stream",
     "text": [
      "/media/lmeuret/Seagate Portable Drive/result_docking/DOCKING_project/Conan-main/results_SMINA/DOCKED/ligand529/output44_ligand529_2023-11-22-15_52/best.pdbqt\n",
      "/media/lmeuret/Seagate Portable Drive/result_docking/DOCKING_project/Conan-main/receptors/output44.pdbqt\n"
     ]
    },
    {
     "data": {
      "application/vnd.jupyter.widget-view+json": {
       "model_id": "9c21a6d145a14db3a69c14be2e2e416a",
       "version_major": 2,
       "version_minor": 0
      },
      "text/plain": [
       "  0%|          | 0/1 [00:00<?, ?it/s]"
      ]
     },
     "metadata": {},
     "output_type": "display_data"
    },
    {
     "name": "stderr",
     "output_type": "stream",
     "text": [
      "\r",
      "Processing ligands: 125it [00:27,  4.90it/s]"
     ]
    },
    {
     "name": "stdout",
     "output_type": "stream",
     "text": [
      "/media/lmeuret/Seagate Portable Drive/result_docking/DOCKING_project/Conan-main/results_SMINA/DOCKED/ligand53/output44_ligand53_2023-11-22-15_52/best.pdbqt\n",
      "/media/lmeuret/Seagate Portable Drive/result_docking/DOCKING_project/Conan-main/receptors/output44.pdbqt\n"
     ]
    },
    {
     "data": {
      "application/vnd.jupyter.widget-view+json": {
       "model_id": "08b1884c53ca4bb1a00a34d4fd907ea0",
       "version_major": 2,
       "version_minor": 0
      },
      "text/plain": [
       "  0%|          | 0/1 [00:00<?, ?it/s]"
      ]
     },
     "metadata": {},
     "output_type": "display_data"
    },
    {
     "name": "stderr",
     "output_type": "stream",
     "text": [
      "\r",
      "Processing ligands: 126it [00:28,  4.84it/s]"
     ]
    },
    {
     "name": "stdout",
     "output_type": "stream",
     "text": [
      "/media/lmeuret/Seagate Portable Drive/result_docking/DOCKING_project/Conan-main/results_SMINA/DOCKED/ligand530/output44_ligand530_2023-11-22-15_52/best.pdbqt\n",
      "/media/lmeuret/Seagate Portable Drive/result_docking/DOCKING_project/Conan-main/receptors/output44.pdbqt\n"
     ]
    },
    {
     "data": {
      "application/vnd.jupyter.widget-view+json": {
       "model_id": "e657bdcee70b42daabc2480b477ea590",
       "version_major": 2,
       "version_minor": 0
      },
      "text/plain": [
       "  0%|          | 0/1 [00:00<?, ?it/s]"
      ]
     },
     "metadata": {},
     "output_type": "display_data"
    },
    {
     "name": "stderr",
     "output_type": "stream",
     "text": [
      "\r",
      "Processing ligands: 127it [00:28,  4.84it/s]"
     ]
    },
    {
     "name": "stdout",
     "output_type": "stream",
     "text": [
      "/media/lmeuret/Seagate Portable Drive/result_docking/DOCKING_project/Conan-main/results_SMINA/DOCKED/ligand531/output44_ligand531_2023-11-22-15_52/best.pdbqt\n",
      "/media/lmeuret/Seagate Portable Drive/result_docking/DOCKING_project/Conan-main/receptors/output44.pdbqt\n"
     ]
    },
    {
     "data": {
      "application/vnd.jupyter.widget-view+json": {
       "model_id": "5f0206131db84e76b7178ff19bbed8ff",
       "version_major": 2,
       "version_minor": 0
      },
      "text/plain": [
       "  0%|          | 0/1 [00:00<?, ?it/s]"
      ]
     },
     "metadata": {},
     "output_type": "display_data"
    },
    {
     "name": "stderr",
     "output_type": "stream",
     "text": [
      "\r",
      "Processing ligands: 128it [00:28,  4.62it/s]"
     ]
    },
    {
     "name": "stdout",
     "output_type": "stream",
     "text": [
      "/media/lmeuret/Seagate Portable Drive/result_docking/DOCKING_project/Conan-main/results_SMINA/DOCKED/ligand532/output44_ligand532_2023-11-22-15_52/best.pdbqt\n",
      "/media/lmeuret/Seagate Portable Drive/result_docking/DOCKING_project/Conan-main/receptors/output44.pdbqt\n"
     ]
    },
    {
     "data": {
      "application/vnd.jupyter.widget-view+json": {
       "model_id": "5b649a61959244e8a3384e63bced4b48",
       "version_major": 2,
       "version_minor": 0
      },
      "text/plain": [
       "  0%|          | 0/1 [00:00<?, ?it/s]"
      ]
     },
     "metadata": {},
     "output_type": "display_data"
    },
    {
     "name": "stderr",
     "output_type": "stream",
     "text": [
      "\r",
      "Processing ligands: 129it [00:28,  4.52it/s]"
     ]
    },
    {
     "name": "stdout",
     "output_type": "stream",
     "text": [
      "/media/lmeuret/Seagate Portable Drive/result_docking/DOCKING_project/Conan-main/results_SMINA/DOCKED/ligand533/output44_ligand533_2023-11-22-15_52/best.pdbqt\n",
      "/media/lmeuret/Seagate Portable Drive/result_docking/DOCKING_project/Conan-main/receptors/output44.pdbqt\n"
     ]
    },
    {
     "data": {
      "application/vnd.jupyter.widget-view+json": {
       "model_id": "089ae163c8b741a08ab60234ab3d4980",
       "version_major": 2,
       "version_minor": 0
      },
      "text/plain": [
       "  0%|          | 0/1 [00:00<?, ?it/s]"
      ]
     },
     "metadata": {},
     "output_type": "display_data"
    },
    {
     "name": "stderr",
     "output_type": "stream",
     "text": [
      "\r",
      "Processing ligands: 130it [00:29,  4.61it/s]"
     ]
    },
    {
     "name": "stdout",
     "output_type": "stream",
     "text": [
      "/media/lmeuret/Seagate Portable Drive/result_docking/DOCKING_project/Conan-main/results_SMINA/DOCKED/ligand534/output44_ligand534_2023-11-22-15_52/best.pdbqt\n",
      "/media/lmeuret/Seagate Portable Drive/result_docking/DOCKING_project/Conan-main/receptors/output44.pdbqt\n"
     ]
    },
    {
     "data": {
      "application/vnd.jupyter.widget-view+json": {
       "model_id": "be8299ed119245b8903f70e82e37525e",
       "version_major": 2,
       "version_minor": 0
      },
      "text/plain": [
       "  0%|          | 0/1 [00:00<?, ?it/s]"
      ]
     },
     "metadata": {},
     "output_type": "display_data"
    },
    {
     "name": "stderr",
     "output_type": "stream",
     "text": [
      "\r",
      "Processing ligands: 131it [00:29,  4.56it/s]"
     ]
    },
    {
     "name": "stdout",
     "output_type": "stream",
     "text": [
      "/media/lmeuret/Seagate Portable Drive/result_docking/DOCKING_project/Conan-main/results_SMINA/DOCKED/ligand535/output44_ligand535_2023-11-22-15_52/best.pdbqt\n",
      "/media/lmeuret/Seagate Portable Drive/result_docking/DOCKING_project/Conan-main/receptors/output44.pdbqt\n"
     ]
    },
    {
     "data": {
      "application/vnd.jupyter.widget-view+json": {
       "model_id": "6c102358f896456d89a52a85af386c10",
       "version_major": 2,
       "version_minor": 0
      },
      "text/plain": [
       "  0%|          | 0/1 [00:00<?, ?it/s]"
      ]
     },
     "metadata": {},
     "output_type": "display_data"
    },
    {
     "name": "stderr",
     "output_type": "stream",
     "text": [
      "\r",
      "Processing ligands: 132it [00:29,  4.58it/s]"
     ]
    },
    {
     "name": "stdout",
     "output_type": "stream",
     "text": [
      "/media/lmeuret/Seagate Portable Drive/result_docking/DOCKING_project/Conan-main/results_SMINA/DOCKED/ligand536/output44_ligand536_2023-11-22-15_52/best.pdbqt\n",
      "/media/lmeuret/Seagate Portable Drive/result_docking/DOCKING_project/Conan-main/receptors/output44.pdbqt\n"
     ]
    },
    {
     "data": {
      "application/vnd.jupyter.widget-view+json": {
       "model_id": "99707a48f6704d5f9119895b00d4660a",
       "version_major": 2,
       "version_minor": 0
      },
      "text/plain": [
       "  0%|          | 0/1 [00:00<?, ?it/s]"
      ]
     },
     "metadata": {},
     "output_type": "display_data"
    },
    {
     "name": "stderr",
     "output_type": "stream",
     "text": [
      "\r",
      "Processing ligands: 133it [00:29,  4.68it/s]"
     ]
    },
    {
     "name": "stdout",
     "output_type": "stream",
     "text": [
      "/media/lmeuret/Seagate Portable Drive/result_docking/DOCKING_project/Conan-main/results_SMINA/DOCKED/ligand119/output44_ligand119_2023-11-22-15_52/best.pdbqt\n",
      "/media/lmeuret/Seagate Portable Drive/result_docking/DOCKING_project/Conan-main/receptors/output44.pdbqt\n"
     ]
    },
    {
     "data": {
      "application/vnd.jupyter.widget-view+json": {
       "model_id": "6eaf593a08494e09b74c991376d94809",
       "version_major": 2,
       "version_minor": 0
      },
      "text/plain": [
       "  0%|          | 0/1 [00:00<?, ?it/s]"
      ]
     },
     "metadata": {},
     "output_type": "display_data"
    },
    {
     "name": "stderr",
     "output_type": "stream",
     "text": [
      "\r",
      "Processing ligands: 134it [00:29,  4.49it/s]"
     ]
    },
    {
     "name": "stdout",
     "output_type": "stream",
     "text": [
      "/media/lmeuret/Seagate Portable Drive/result_docking/DOCKING_project/Conan-main/results_SMINA/DOCKED/ligand137/output44_ligand137_2023-11-22-15_52/best.pdbqt\n",
      "/media/lmeuret/Seagate Portable Drive/result_docking/DOCKING_project/Conan-main/receptors/output44.pdbqt\n"
     ]
    },
    {
     "data": {
      "application/vnd.jupyter.widget-view+json": {
       "model_id": "8e1c2e6f57634c9489fc4557f0fa3cbb",
       "version_major": 2,
       "version_minor": 0
      },
      "text/plain": [
       "  0%|          | 0/1 [00:00<?, ?it/s]"
      ]
     },
     "metadata": {},
     "output_type": "display_data"
    },
    {
     "name": "stderr",
     "output_type": "stream",
     "text": [
      "\r",
      "Processing ligands: 135it [00:30,  4.60it/s]"
     ]
    },
    {
     "name": "stdout",
     "output_type": "stream",
     "text": [
      "/media/lmeuret/Seagate Portable Drive/result_docking/DOCKING_project/Conan-main/results_SMINA/DOCKED/ligand161/output44_ligand161_2023-11-22-15_52/best.pdbqt\n",
      "/media/lmeuret/Seagate Portable Drive/result_docking/DOCKING_project/Conan-main/receptors/output44.pdbqt\n"
     ]
    },
    {
     "data": {
      "application/vnd.jupyter.widget-view+json": {
       "model_id": "cc871d8228d14027af6eced47228227e",
       "version_major": 2,
       "version_minor": 0
      },
      "text/plain": [
       "  0%|          | 0/1 [00:00<?, ?it/s]"
      ]
     },
     "metadata": {},
     "output_type": "display_data"
    },
    {
     "name": "stderr",
     "output_type": "stream",
     "text": [
      "\r",
      "Processing ligands: 136it [00:30,  4.55it/s]"
     ]
    },
    {
     "name": "stdout",
     "output_type": "stream",
     "text": [
      "/media/lmeuret/Seagate Portable Drive/result_docking/DOCKING_project/Conan-main/results_SMINA/DOCKED/ligand182/output44_ligand182_2023-11-22-15_52/best.pdbqt\n",
      "/media/lmeuret/Seagate Portable Drive/result_docking/DOCKING_project/Conan-main/receptors/output44.pdbqt\n"
     ]
    },
    {
     "data": {
      "application/vnd.jupyter.widget-view+json": {
       "model_id": "76a7b9b2f063401da07e6de4856c2de8",
       "version_major": 2,
       "version_minor": 0
      },
      "text/plain": [
       "  0%|          | 0/1 [00:00<?, ?it/s]"
      ]
     },
     "metadata": {},
     "output_type": "display_data"
    },
    {
     "name": "stderr",
     "output_type": "stream",
     "text": [
      "\r",
      "Processing ligands: 137it [00:30,  4.48it/s]"
     ]
    },
    {
     "name": "stdout",
     "output_type": "stream",
     "text": [
      "/media/lmeuret/Seagate Portable Drive/result_docking/DOCKING_project/Conan-main/results_SMINA/DOCKED/ligand205/output44_ligand205_2023-11-22-15_52/best.pdbqt\n",
      "/media/lmeuret/Seagate Portable Drive/result_docking/DOCKING_project/Conan-main/receptors/output44.pdbqt\n"
     ]
    },
    {
     "data": {
      "application/vnd.jupyter.widget-view+json": {
       "model_id": "4bf14bec6a414940bd296edcb9664500",
       "version_major": 2,
       "version_minor": 0
      },
      "text/plain": [
       "  0%|          | 0/1 [00:00<?, ?it/s]"
      ]
     },
     "metadata": {},
     "output_type": "display_data"
    },
    {
     "name": "stderr",
     "output_type": "stream",
     "text": [
      "\r",
      "Processing ligands: 138it [00:30,  4.62it/s]"
     ]
    },
    {
     "name": "stdout",
     "output_type": "stream",
     "text": [
      "/media/lmeuret/Seagate Portable Drive/result_docking/DOCKING_project/Conan-main/results_SMINA/DOCKED/ligand228/output44_ligand228_2023-11-22-15_52/best.pdbqt\n",
      "/media/lmeuret/Seagate Portable Drive/result_docking/DOCKING_project/Conan-main/receptors/output44.pdbqt\n"
     ]
    },
    {
     "data": {
      "application/vnd.jupyter.widget-view+json": {
       "model_id": "2fa308613c214d6f9e2d6e78ae663d2d",
       "version_major": 2,
       "version_minor": 0
      },
      "text/plain": [
       "  0%|          | 0/1 [00:00<?, ?it/s]"
      ]
     },
     "metadata": {},
     "output_type": "display_data"
    },
    {
     "name": "stderr",
     "output_type": "stream",
     "text": [
      "\r",
      "Processing ligands: 139it [00:30,  4.48it/s]"
     ]
    },
    {
     "name": "stdout",
     "output_type": "stream",
     "text": [
      "/media/lmeuret/Seagate Portable Drive/result_docking/DOCKING_project/Conan-main/results_SMINA/DOCKED/ligand249/output44_ligand249_2023-11-22-15_52/best.pdbqt\n",
      "/media/lmeuret/Seagate Portable Drive/result_docking/DOCKING_project/Conan-main/receptors/output44.pdbqt\n"
     ]
    },
    {
     "data": {
      "application/vnd.jupyter.widget-view+json": {
       "model_id": "45144c37eabd40f7a50ea4047b5f92e6",
       "version_major": 2,
       "version_minor": 0
      },
      "text/plain": [
       "  0%|          | 0/1 [00:00<?, ?it/s]"
      ]
     },
     "metadata": {},
     "output_type": "display_data"
    },
    {
     "name": "stderr",
     "output_type": "stream",
     "text": [
      "\r",
      "Processing ligands: 140it [00:31,  4.50it/s]"
     ]
    },
    {
     "name": "stdout",
     "output_type": "stream",
     "text": [
      "/media/lmeuret/Seagate Portable Drive/result_docking/DOCKING_project/Conan-main/results_SMINA/DOCKED/ligand268/output44_ligand268_2023-11-22-15_52/best.pdbqt\n",
      "/media/lmeuret/Seagate Portable Drive/result_docking/DOCKING_project/Conan-main/receptors/output44.pdbqt\n"
     ]
    },
    {
     "data": {
      "application/vnd.jupyter.widget-view+json": {
       "model_id": "feb2f0089a53405bac97f13465b81c51",
       "version_major": 2,
       "version_minor": 0
      },
      "text/plain": [
       "  0%|          | 0/1 [00:00<?, ?it/s]"
      ]
     },
     "metadata": {},
     "output_type": "display_data"
    },
    {
     "name": "stderr",
     "output_type": "stream",
     "text": [
      "\r",
      "Processing ligands: 141it [00:31,  4.54it/s]"
     ]
    },
    {
     "name": "stdout",
     "output_type": "stream",
     "text": [
      "/media/lmeuret/Seagate Portable Drive/result_docking/DOCKING_project/Conan-main/results_SMINA/DOCKED/ligand291/output44_ligand291_2023-11-22-15_52/best.pdbqt\n",
      "/media/lmeuret/Seagate Portable Drive/result_docking/DOCKING_project/Conan-main/receptors/output44.pdbqt\n"
     ]
    },
    {
     "data": {
      "application/vnd.jupyter.widget-view+json": {
       "model_id": "2cd11992b22045abb7dd70964e75eede",
       "version_major": 2,
       "version_minor": 0
      },
      "text/plain": [
       "  0%|          | 0/1 [00:00<?, ?it/s]"
      ]
     },
     "metadata": {},
     "output_type": "display_data"
    },
    {
     "name": "stderr",
     "output_type": "stream",
     "text": [
      "\r",
      "Processing ligands: 142it [00:31,  4.57it/s]"
     ]
    },
    {
     "name": "stdout",
     "output_type": "stream",
     "text": [
      "/media/lmeuret/Seagate Portable Drive/result_docking/DOCKING_project/Conan-main/results_SMINA/DOCKED/ligand313/output44_ligand313_2023-11-22-15_52/best.pdbqt\n",
      "/media/lmeuret/Seagate Portable Drive/result_docking/DOCKING_project/Conan-main/receptors/output44.pdbqt\n"
     ]
    },
    {
     "data": {
      "application/vnd.jupyter.widget-view+json": {
       "model_id": "ea2b6091f47941e59a02d528b8bf6af5",
       "version_major": 2,
       "version_minor": 0
      },
      "text/plain": [
       "  0%|          | 0/1 [00:00<?, ?it/s]"
      ]
     },
     "metadata": {},
     "output_type": "display_data"
    },
    {
     "name": "stderr",
     "output_type": "stream",
     "text": [
      "\r",
      "Processing ligands: 143it [00:31,  4.66it/s]"
     ]
    },
    {
     "name": "stdout",
     "output_type": "stream",
     "text": [
      "/media/lmeuret/Seagate Portable Drive/result_docking/DOCKING_project/Conan-main/results_SMINA/DOCKED/ligand335/output44_ligand335_2023-11-22-15_52/best.pdbqt\n",
      "/media/lmeuret/Seagate Portable Drive/result_docking/DOCKING_project/Conan-main/receptors/output44.pdbqt\n"
     ]
    },
    {
     "data": {
      "application/vnd.jupyter.widget-view+json": {
       "model_id": "a71478aadacb4086a09ac68b0038c386",
       "version_major": 2,
       "version_minor": 0
      },
      "text/plain": [
       "  0%|          | 0/1 [00:00<?, ?it/s]"
      ]
     },
     "metadata": {},
     "output_type": "display_data"
    },
    {
     "name": "stderr",
     "output_type": "stream",
     "text": [
      "\r",
      "Processing ligands: 144it [00:32,  4.76it/s]"
     ]
    },
    {
     "name": "stdout",
     "output_type": "stream",
     "text": [
      "/media/lmeuret/Seagate Portable Drive/result_docking/DOCKING_project/Conan-main/results_SMINA/DOCKED/ligand355/output44_ligand355_2023-11-22-15_52/best.pdbqt\n",
      "/media/lmeuret/Seagate Portable Drive/result_docking/DOCKING_project/Conan-main/receptors/output44.pdbqt\n"
     ]
    },
    {
     "data": {
      "application/vnd.jupyter.widget-view+json": {
       "model_id": "4607b66e45ae4ba8be9377f9348f6490",
       "version_major": 2,
       "version_minor": 0
      },
      "text/plain": [
       "  0%|          | 0/1 [00:00<?, ?it/s]"
      ]
     },
     "metadata": {},
     "output_type": "display_data"
    },
    {
     "name": "stderr",
     "output_type": "stream",
     "text": [
      "\r",
      "Processing ligands: 145it [00:32,  4.74it/s]"
     ]
    },
    {
     "name": "stdout",
     "output_type": "stream",
     "text": [
      "/media/lmeuret/Seagate Portable Drive/result_docking/DOCKING_project/Conan-main/results_SMINA/DOCKED/ligand387/output44_ligand387_2023-11-22-15_52/best.pdbqt\n",
      "/media/lmeuret/Seagate Portable Drive/result_docking/DOCKING_project/Conan-main/receptors/output44.pdbqt\n"
     ]
    },
    {
     "data": {
      "application/vnd.jupyter.widget-view+json": {
       "model_id": "b6193b9684954b5a8ef3d5000343f73e",
       "version_major": 2,
       "version_minor": 0
      },
      "text/plain": [
       "  0%|          | 0/1 [00:00<?, ?it/s]"
      ]
     },
     "metadata": {},
     "output_type": "display_data"
    },
    {
     "name": "stderr",
     "output_type": "stream",
     "text": [
      "\r",
      "Processing ligands: 146it [00:32,  3.34it/s]"
     ]
    },
    {
     "name": "stdout",
     "output_type": "stream",
     "text": [
      "/media/lmeuret/Seagate Portable Drive/result_docking/DOCKING_project/Conan-main/results_SMINA/DOCKED/ligand412/output44_ligand412_2023-11-22-15_52/best.pdbqt\n",
      "/media/lmeuret/Seagate Portable Drive/result_docking/DOCKING_project/Conan-main/receptors/output44.pdbqt\n"
     ]
    },
    {
     "data": {
      "application/vnd.jupyter.widget-view+json": {
       "model_id": "46c0f2a86a8a48e3a2308a9b86349894",
       "version_major": 2,
       "version_minor": 0
      },
      "text/plain": [
       "  0%|          | 0/1 [00:00<?, ?it/s]"
      ]
     },
     "metadata": {},
     "output_type": "display_data"
    },
    {
     "name": "stderr",
     "output_type": "stream",
     "text": [
      "\r",
      "Processing ligands: 147it [00:32,  3.70it/s]"
     ]
    },
    {
     "name": "stdout",
     "output_type": "stream",
     "text": [
      "/media/lmeuret/Seagate Portable Drive/result_docking/DOCKING_project/Conan-main/results_SMINA/DOCKED/ligand443/output44_ligand443_2023-11-22-15_52/best.pdbqt\n",
      "/media/lmeuret/Seagate Portable Drive/result_docking/DOCKING_project/Conan-main/receptors/output44.pdbqt\n"
     ]
    },
    {
     "data": {
      "application/vnd.jupyter.widget-view+json": {
       "model_id": "fc33af5a064c40068389434c29f43ad3",
       "version_major": 2,
       "version_minor": 0
      },
      "text/plain": [
       "  0%|          | 0/1 [00:00<?, ?it/s]"
      ]
     },
     "metadata": {},
     "output_type": "display_data"
    },
    {
     "name": "stderr",
     "output_type": "stream",
     "text": [
      "\r",
      "Processing ligands: 148it [00:33,  3.94it/s]"
     ]
    },
    {
     "name": "stdout",
     "output_type": "stream",
     "text": [
      "/media/lmeuret/Seagate Portable Drive/result_docking/DOCKING_project/Conan-main/results_SMINA/DOCKED/ligand479/output44_ligand479_2023-11-22-15_52/best.pdbqt\n",
      "/media/lmeuret/Seagate Portable Drive/result_docking/DOCKING_project/Conan-main/receptors/output44.pdbqt\n"
     ]
    },
    {
     "data": {
      "application/vnd.jupyter.widget-view+json": {
       "model_id": "16baf3996ac3405cbb84d6d9b436eaef",
       "version_major": 2,
       "version_minor": 0
      },
      "text/plain": [
       "  0%|          | 0/1 [00:00<?, ?it/s]"
      ]
     },
     "metadata": {},
     "output_type": "display_data"
    },
    {
     "name": "stderr",
     "output_type": "stream",
     "text": [
      "\r",
      "Processing ligands: 149it [00:33,  4.12it/s]"
     ]
    },
    {
     "name": "stdout",
     "output_type": "stream",
     "text": [
      "/media/lmeuret/Seagate Portable Drive/result_docking/DOCKING_project/Conan-main/results_SMINA/DOCKED/ligand505/output44_ligand505_2023-11-22-15_52/best.pdbqt\n",
      "/media/lmeuret/Seagate Portable Drive/result_docking/DOCKING_project/Conan-main/receptors/output44.pdbqt\n"
     ]
    },
    {
     "data": {
      "application/vnd.jupyter.widget-view+json": {
       "model_id": "394d734f03cf41de97a9ee2d1f6fcc0d",
       "version_major": 2,
       "version_minor": 0
      },
      "text/plain": [
       "  0%|          | 0/1 [00:00<?, ?it/s]"
      ]
     },
     "metadata": {},
     "output_type": "display_data"
    },
    {
     "name": "stderr",
     "output_type": "stream",
     "text": [
      "\r",
      "Processing ligands: 150it [00:33,  4.06it/s]"
     ]
    },
    {
     "name": "stdout",
     "output_type": "stream",
     "text": [
      "/media/lmeuret/Seagate Portable Drive/result_docking/DOCKING_project/Conan-main/results_SMINA/DOCKED/ligand537/output44_ligand537_2023-11-22-15_52/best.pdbqt\n",
      "/media/lmeuret/Seagate Portable Drive/result_docking/DOCKING_project/Conan-main/receptors/output44.pdbqt\n"
     ]
    },
    {
     "data": {
      "application/vnd.jupyter.widget-view+json": {
       "model_id": "8f9a5ca2ce2c46d79c2fa26ca8469bfe",
       "version_major": 2,
       "version_minor": 0
      },
      "text/plain": [
       "  0%|          | 0/1 [00:00<?, ?it/s]"
      ]
     },
     "metadata": {},
     "output_type": "display_data"
    },
    {
     "name": "stderr",
     "output_type": "stream",
     "text": [
      "\r",
      "Processing ligands: 151it [00:33,  4.08it/s]"
     ]
    },
    {
     "name": "stdout",
     "output_type": "stream",
     "text": [
      "/media/lmeuret/Seagate Portable Drive/result_docking/DOCKING_project/Conan-main/results_SMINA/DOCKED/ligand57/output44_ligand57_2023-11-22-15_52/best.pdbqt\n",
      "/media/lmeuret/Seagate Portable Drive/result_docking/DOCKING_project/Conan-main/receptors/output44.pdbqt\n"
     ]
    },
    {
     "data": {
      "application/vnd.jupyter.widget-view+json": {
       "model_id": "f83e4d7265f14147ac5ffa6d84228e85",
       "version_major": 2,
       "version_minor": 0
      },
      "text/plain": [
       "  0%|          | 0/1 [00:00<?, ?it/s]"
      ]
     },
     "metadata": {},
     "output_type": "display_data"
    },
    {
     "name": "stderr",
     "output_type": "stream",
     "text": [
      "\r",
      "Processing ligands: 152it [00:34,  4.32it/s]"
     ]
    },
    {
     "name": "stdout",
     "output_type": "stream",
     "text": [
      "/media/lmeuret/Seagate Portable Drive/result_docking/DOCKING_project/Conan-main/results_SMINA/DOCKED/ligand588/output44_ligand588_2023-11-22-15_52/best.pdbqt\n",
      "/media/lmeuret/Seagate Portable Drive/result_docking/DOCKING_project/Conan-main/receptors/output44.pdbqt\n"
     ]
    },
    {
     "data": {
      "application/vnd.jupyter.widget-view+json": {
       "model_id": "2db0adfddd1d422a856d75f4afd6a997",
       "version_major": 2,
       "version_minor": 0
      },
      "text/plain": [
       "  0%|          | 0/1 [00:00<?, ?it/s]"
      ]
     },
     "metadata": {},
     "output_type": "display_data"
    },
    {
     "name": "stderr",
     "output_type": "stream",
     "text": [
      "\r",
      "Processing ligands: 153it [00:34,  4.46it/s]"
     ]
    },
    {
     "name": "stdout",
     "output_type": "stream",
     "text": [
      "/media/lmeuret/Seagate Portable Drive/result_docking/DOCKING_project/Conan-main/results_SMINA/DOCKED/ligand606/output44_ligand606_2023-11-22-15_52/best.pdbqt\n",
      "/media/lmeuret/Seagate Portable Drive/result_docking/DOCKING_project/Conan-main/receptors/output44.pdbqt\n"
     ]
    },
    {
     "data": {
      "application/vnd.jupyter.widget-view+json": {
       "model_id": "e289f88ccaa9476b9bd1391eaafbca09",
       "version_major": 2,
       "version_minor": 0
      },
      "text/plain": [
       "  0%|          | 0/1 [00:00<?, ?it/s]"
      ]
     },
     "metadata": {},
     "output_type": "display_data"
    },
    {
     "name": "stderr",
     "output_type": "stream",
     "text": [
      "\r",
      "Processing ligands: 154it [00:34,  4.48it/s]"
     ]
    },
    {
     "name": "stdout",
     "output_type": "stream",
     "text": [
      "/media/lmeuret/Seagate Portable Drive/result_docking/DOCKING_project/Conan-main/results_SMINA/DOCKED/ligand640/output44_ligand640_2023-11-22-15_52/best.pdbqt\n",
      "/media/lmeuret/Seagate Portable Drive/result_docking/DOCKING_project/Conan-main/receptors/output44.pdbqt\n"
     ]
    },
    {
     "data": {
      "application/vnd.jupyter.widget-view+json": {
       "model_id": "2fd3d51718d14216aa6b1e3a0cd5dc8b",
       "version_major": 2,
       "version_minor": 0
      },
      "text/plain": [
       "  0%|          | 0/1 [00:00<?, ?it/s]"
      ]
     },
     "metadata": {},
     "output_type": "display_data"
    },
    {
     "name": "stderr",
     "output_type": "stream",
     "text": [
      "\r",
      "Processing ligands: 155it [00:34,  4.60it/s]"
     ]
    },
    {
     "name": "stdout",
     "output_type": "stream",
     "text": [
      "/media/lmeuret/Seagate Portable Drive/result_docking/DOCKING_project/Conan-main/results_SMINA/DOCKED/ligand661/output44_ligand661_2023-11-22-15_52/best.pdbqt\n",
      "/media/lmeuret/Seagate Portable Drive/result_docking/DOCKING_project/Conan-main/receptors/output44.pdbqt\n"
     ]
    },
    {
     "data": {
      "application/vnd.jupyter.widget-view+json": {
       "model_id": "01551e5dbe574520869d32fb2076bc54",
       "version_major": 2,
       "version_minor": 0
      },
      "text/plain": [
       "  0%|          | 0/1 [00:00<?, ?it/s]"
      ]
     },
     "metadata": {},
     "output_type": "display_data"
    },
    {
     "name": "stderr",
     "output_type": "stream",
     "text": [
      "\r",
      "Processing ligands: 156it [00:34,  4.64it/s]"
     ]
    },
    {
     "name": "stdout",
     "output_type": "stream",
     "text": [
      "/media/lmeuret/Seagate Portable Drive/result_docking/DOCKING_project/Conan-main/results_SMINA/DOCKED/ligand680/output44_ligand680_2023-11-22-15_52/best.pdbqt\n",
      "/media/lmeuret/Seagate Portable Drive/result_docking/DOCKING_project/Conan-main/receptors/output44.pdbqt\n"
     ]
    },
    {
     "data": {
      "application/vnd.jupyter.widget-view+json": {
       "model_id": "8d880b575e5d481a84b2c8c6b91f1e0e",
       "version_major": 2,
       "version_minor": 0
      },
      "text/plain": [
       "  0%|          | 0/1 [00:00<?, ?it/s]"
      ]
     },
     "metadata": {},
     "output_type": "display_data"
    },
    {
     "name": "stderr",
     "output_type": "stream",
     "text": [
      "\r",
      "Processing ligands: 157it [00:35,  4.59it/s]"
     ]
    },
    {
     "name": "stdout",
     "output_type": "stream",
     "text": [
      "/media/lmeuret/Seagate Portable Drive/result_docking/DOCKING_project/Conan-main/results_SMINA/DOCKED/ligand708/output44_ligand708_2023-11-22-15_52/best.pdbqt\n",
      "/media/lmeuret/Seagate Portable Drive/result_docking/DOCKING_project/Conan-main/receptors/output44.pdbqt\n"
     ]
    },
    {
     "data": {
      "application/vnd.jupyter.widget-view+json": {
       "model_id": "81fb1c2bfc97486d990e1b2149acb278",
       "version_major": 2,
       "version_minor": 0
      },
      "text/plain": [
       "  0%|          | 0/1 [00:00<?, ?it/s]"
      ]
     },
     "metadata": {},
     "output_type": "display_data"
    },
    {
     "name": "stderr",
     "output_type": "stream",
     "text": [
      "\r",
      "Processing ligands: 158it [00:35,  4.65it/s]"
     ]
    },
    {
     "name": "stdout",
     "output_type": "stream",
     "text": [
      "/media/lmeuret/Seagate Portable Drive/result_docking/DOCKING_project/Conan-main/results_SMINA/DOCKED/ligand745/output44_ligand745_2023-11-22-15_52/best.pdbqt\n",
      "/media/lmeuret/Seagate Portable Drive/result_docking/DOCKING_project/Conan-main/receptors/output44.pdbqt\n"
     ]
    },
    {
     "data": {
      "application/vnd.jupyter.widget-view+json": {
       "model_id": "71fe788cc80f47acb08590e34c84452c",
       "version_major": 2,
       "version_minor": 0
      },
      "text/plain": [
       "  0%|          | 0/1 [00:00<?, ?it/s]"
      ]
     },
     "metadata": {},
     "output_type": "display_data"
    },
    {
     "name": "stderr",
     "output_type": "stream",
     "text": [
      "\r",
      "Processing ligands: 159it [00:35,  4.69it/s]"
     ]
    },
    {
     "name": "stdout",
     "output_type": "stream",
     "text": [
      "/media/lmeuret/Seagate Portable Drive/result_docking/DOCKING_project/Conan-main/results_SMINA/DOCKED/ligand773/output44_ligand773_2023-11-22-15_52/best.pdbqt\n",
      "/media/lmeuret/Seagate Portable Drive/result_docking/DOCKING_project/Conan-main/receptors/output44.pdbqt\n"
     ]
    },
    {
     "data": {
      "application/vnd.jupyter.widget-view+json": {
       "model_id": "2d82d0195b54400993c7bd5aaff58864",
       "version_major": 2,
       "version_minor": 0
      },
      "text/plain": [
       "  0%|          | 0/1 [00:00<?, ?it/s]"
      ]
     },
     "metadata": {},
     "output_type": "display_data"
    },
    {
     "name": "stderr",
     "output_type": "stream",
     "text": [
      "\r",
      "Processing ligands: 160it [00:35,  4.79it/s]"
     ]
    },
    {
     "name": "stdout",
     "output_type": "stream",
     "text": [
      "/media/lmeuret/Seagate Portable Drive/result_docking/DOCKING_project/Conan-main/results_SMINA/DOCKED/ligand805/output44_ligand805_2023-11-22-15_52/best.pdbqt\n",
      "/media/lmeuret/Seagate Portable Drive/result_docking/DOCKING_project/Conan-main/receptors/output44.pdbqt\n"
     ]
    },
    {
     "data": {
      "application/vnd.jupyter.widget-view+json": {
       "model_id": "7629c53c0e204a21b5d8d961bcf95d4e",
       "version_major": 2,
       "version_minor": 0
      },
      "text/plain": [
       "  0%|          | 0/1 [00:00<?, ?it/s]"
      ]
     },
     "metadata": {},
     "output_type": "display_data"
    },
    {
     "name": "stderr",
     "output_type": "stream",
     "text": [
      "\r",
      "Processing ligands: 161it [00:35,  4.85it/s]"
     ]
    },
    {
     "name": "stdout",
     "output_type": "stream",
     "text": [
      "/media/lmeuret/Seagate Portable Drive/result_docking/DOCKING_project/Conan-main/results_SMINA/DOCKED/ligand842/output44_ligand842_2023-11-22-15_52/best.pdbqt\n",
      "/media/lmeuret/Seagate Portable Drive/result_docking/DOCKING_project/Conan-main/receptors/output44.pdbqt\n"
     ]
    },
    {
     "data": {
      "application/vnd.jupyter.widget-view+json": {
       "model_id": "58fe51c8faf845f99137abd2699495f5",
       "version_major": 2,
       "version_minor": 0
      },
      "text/plain": [
       "  0%|          | 0/1 [00:00<?, ?it/s]"
      ]
     },
     "metadata": {},
     "output_type": "display_data"
    },
    {
     "name": "stderr",
     "output_type": "stream",
     "text": [
      "\r",
      "Processing ligands: 162it [00:36,  4.80it/s]"
     ]
    },
    {
     "name": "stdout",
     "output_type": "stream",
     "text": [
      "/media/lmeuret/Seagate Portable Drive/result_docking/DOCKING_project/Conan-main/results_SMINA/DOCKED/ligand862/output44_ligand862_2023-11-22-15_52/best.pdbqt\n",
      "/media/lmeuret/Seagate Portable Drive/result_docking/DOCKING_project/Conan-main/receptors/output44.pdbqt\n"
     ]
    },
    {
     "data": {
      "application/vnd.jupyter.widget-view+json": {
       "model_id": "2d7f13726014453b9eb31dd33be686ad",
       "version_major": 2,
       "version_minor": 0
      },
      "text/plain": [
       "  0%|          | 0/1 [00:00<?, ?it/s]"
      ]
     },
     "metadata": {},
     "output_type": "display_data"
    },
    {
     "name": "stderr",
     "output_type": "stream",
     "text": [
      "\r",
      "Processing ligands: 163it [00:36,  4.62it/s]"
     ]
    },
    {
     "name": "stdout",
     "output_type": "stream",
     "text": [
      "/media/lmeuret/Seagate Portable Drive/result_docking/DOCKING_project/Conan-main/results_SMINA/DOCKED/ligand881/output44_ligand881_2023-11-22-15_52/best.pdbqt\n",
      "/media/lmeuret/Seagate Portable Drive/result_docking/DOCKING_project/Conan-main/receptors/output44.pdbqt\n"
     ]
    },
    {
     "data": {
      "application/vnd.jupyter.widget-view+json": {
       "model_id": "c79abf21ff8c453cbb8894cfb275c513",
       "version_major": 2,
       "version_minor": 0
      },
      "text/plain": [
       "  0%|          | 0/1 [00:00<?, ?it/s]"
      ]
     },
     "metadata": {},
     "output_type": "display_data"
    },
    {
     "name": "stderr",
     "output_type": "stream",
     "text": [
      "\r",
      "Processing ligands: 164it [00:36,  4.70it/s]"
     ]
    },
    {
     "name": "stdout",
     "output_type": "stream",
     "text": [
      "/media/lmeuret/Seagate Portable Drive/result_docking/DOCKING_project/Conan-main/results_SMINA/DOCKED/ligand906/output44_ligand906_2023-11-22-15_52/best.pdbqt\n",
      "/media/lmeuret/Seagate Portable Drive/result_docking/DOCKING_project/Conan-main/receptors/output44.pdbqt\n"
     ]
    },
    {
     "data": {
      "application/vnd.jupyter.widget-view+json": {
       "model_id": "45a5341cffbe467caf7c7de0f854b518",
       "version_major": 2,
       "version_minor": 0
      },
      "text/plain": [
       "  0%|          | 0/1 [00:00<?, ?it/s]"
      ]
     },
     "metadata": {},
     "output_type": "display_data"
    },
    {
     "name": "stderr",
     "output_type": "stream",
     "text": [
      "\r",
      "Processing ligands: 165it [00:36,  4.72it/s]"
     ]
    },
    {
     "name": "stdout",
     "output_type": "stream",
     "text": [
      "/media/lmeuret/Seagate Portable Drive/result_docking/DOCKING_project/Conan-main/results_SMINA/DOCKED/ligand926/output44_ligand926_2023-11-22-15_52/best.pdbqt\n",
      "/media/lmeuret/Seagate Portable Drive/result_docking/DOCKING_project/Conan-main/receptors/output44.pdbqt\n"
     ]
    },
    {
     "data": {
      "application/vnd.jupyter.widget-view+json": {
       "model_id": "41301e475c5844109d2ddf85f5b65cd6",
       "version_major": 2,
       "version_minor": 0
      },
      "text/plain": [
       "  0%|          | 0/1 [00:00<?, ?it/s]"
      ]
     },
     "metadata": {},
     "output_type": "display_data"
    },
    {
     "name": "stderr",
     "output_type": "stream",
     "text": [
      "\r",
      "Processing ligands: 166it [00:37,  4.78it/s]"
     ]
    },
    {
     "name": "stdout",
     "output_type": "stream",
     "text": [
      "/media/lmeuret/Seagate Portable Drive/result_docking/DOCKING_project/Conan-main/results_SMINA/DOCKED/ligand943/output44_ligand943_2023-11-22-15_52/best.pdbqt\n",
      "/media/lmeuret/Seagate Portable Drive/result_docking/DOCKING_project/Conan-main/receptors/output44.pdbqt\n"
     ]
    },
    {
     "data": {
      "application/vnd.jupyter.widget-view+json": {
       "model_id": "5bc94f45061d4aa9b5396e3aaa3df9ed",
       "version_major": 2,
       "version_minor": 0
      },
      "text/plain": [
       "  0%|          | 0/1 [00:00<?, ?it/s]"
      ]
     },
     "metadata": {},
     "output_type": "display_data"
    },
    {
     "name": "stderr",
     "output_type": "stream",
     "text": [
      "\r",
      "Processing ligands: 167it [00:37,  4.94it/s]"
     ]
    },
    {
     "name": "stdout",
     "output_type": "stream",
     "text": [
      "/media/lmeuret/Seagate Portable Drive/result_docking/DOCKING_project/Conan-main/results_SMINA/DOCKED/ligand971/output44_ligand971_2023-11-22-15_52/best.pdbqt\n",
      "/media/lmeuret/Seagate Portable Drive/result_docking/DOCKING_project/Conan-main/receptors/output44.pdbqt\n"
     ]
    },
    {
     "data": {
      "application/vnd.jupyter.widget-view+json": {
       "model_id": "be49460282c3432db1df05ca0f80f827",
       "version_major": 2,
       "version_minor": 0
      },
      "text/plain": [
       "  0%|          | 0/1 [00:00<?, ?it/s]"
      ]
     },
     "metadata": {},
     "output_type": "display_data"
    },
    {
     "name": "stderr",
     "output_type": "stream",
     "text": [
      "\r",
      "Processing ligands: 168it [00:37,  4.80it/s]"
     ]
    },
    {
     "name": "stdout",
     "output_type": "stream",
     "text": [
      "/media/lmeuret/Seagate Portable Drive/result_docking/DOCKING_project/Conan-main/results_SMINA/DOCKED/ligand183/output44_ligand183_2023-11-22-15_52/best.pdbqt\n",
      "/media/lmeuret/Seagate Portable Drive/result_docking/DOCKING_project/Conan-main/receptors/output44.pdbqt\n"
     ]
    },
    {
     "data": {
      "application/vnd.jupyter.widget-view+json": {
       "model_id": "4c245b16a46f40d896a0fbe86687fb36",
       "version_major": 2,
       "version_minor": 0
      },
      "text/plain": [
       "  0%|          | 0/1 [00:00<?, ?it/s]"
      ]
     },
     "metadata": {},
     "output_type": "display_data"
    },
    {
     "name": "stderr",
     "output_type": "stream",
     "text": [
      "\r",
      "Processing ligands: 169it [00:37,  4.79it/s]"
     ]
    },
    {
     "name": "stdout",
     "output_type": "stream",
     "text": [
      "/media/lmeuret/Seagate Portable Drive/result_docking/DOCKING_project/Conan-main/results_SMINA/DOCKED/ligand184/output44_ligand184_2023-11-22-15_52/best.pdbqt\n",
      "/media/lmeuret/Seagate Portable Drive/result_docking/DOCKING_project/Conan-main/receptors/output44.pdbqt\n"
     ]
    },
    {
     "data": {
      "application/vnd.jupyter.widget-view+json": {
       "model_id": "d397be91cc154f2086632ac0b60bee57",
       "version_major": 2,
       "version_minor": 0
      },
      "text/plain": [
       "  0%|          | 0/1 [00:00<?, ?it/s]"
      ]
     },
     "metadata": {},
     "output_type": "display_data"
    },
    {
     "name": "stderr",
     "output_type": "stream",
     "text": [
      "\r",
      "Processing ligands: 170it [00:37,  4.74it/s]"
     ]
    },
    {
     "name": "stdout",
     "output_type": "stream",
     "text": [
      "/media/lmeuret/Seagate Portable Drive/result_docking/DOCKING_project/Conan-main/results_SMINA/DOCKED/ligand185/output44_ligand185_2023-11-22-15_52/best.pdbqt\n",
      "/media/lmeuret/Seagate Portable Drive/result_docking/DOCKING_project/Conan-main/receptors/output44.pdbqt\n"
     ]
    },
    {
     "data": {
      "application/vnd.jupyter.widget-view+json": {
       "model_id": "fd208b9b59694137bd4fe26f1ceeb0cb",
       "version_major": 2,
       "version_minor": 0
      },
      "text/plain": [
       "  0%|          | 0/1 [00:00<?, ?it/s]"
      ]
     },
     "metadata": {},
     "output_type": "display_data"
    },
    {
     "name": "stderr",
     "output_type": "stream",
     "text": [
      "\r",
      "Processing ligands: 171it [00:38,  4.60it/s]"
     ]
    },
    {
     "name": "stdout",
     "output_type": "stream",
     "text": [
      "/media/lmeuret/Seagate Portable Drive/result_docking/DOCKING_project/Conan-main/results_SMINA/DOCKED/ligand186/output44_ligand186_2023-11-22-15_52/best.pdbqt\n",
      "/media/lmeuret/Seagate Portable Drive/result_docking/DOCKING_project/Conan-main/receptors/output44.pdbqt\n"
     ]
    },
    {
     "data": {
      "application/vnd.jupyter.widget-view+json": {
       "model_id": "0b8e922749a24d0fabf4771dead298a7",
       "version_major": 2,
       "version_minor": 0
      },
      "text/plain": [
       "  0%|          | 0/1 [00:00<?, ?it/s]"
      ]
     },
     "metadata": {},
     "output_type": "display_data"
    },
    {
     "name": "stderr",
     "output_type": "stream",
     "text": [
      "\r",
      "Processing ligands: 172it [00:38,  4.59it/s]"
     ]
    },
    {
     "name": "stdout",
     "output_type": "stream",
     "text": [
      "/media/lmeuret/Seagate Portable Drive/result_docking/DOCKING_project/Conan-main/results_SMINA/DOCKED/ligand187/output44_ligand187_2023-11-22-15_52/best.pdbqt\n",
      "/media/lmeuret/Seagate Portable Drive/result_docking/DOCKING_project/Conan-main/receptors/output44.pdbqt\n"
     ]
    },
    {
     "data": {
      "application/vnd.jupyter.widget-view+json": {
       "model_id": "fdf904fce77e45a88c705c7b95d15c45",
       "version_major": 2,
       "version_minor": 0
      },
      "text/plain": [
       "  0%|          | 0/1 [00:00<?, ?it/s]"
      ]
     },
     "metadata": {},
     "output_type": "display_data"
    },
    {
     "name": "stderr",
     "output_type": "stream",
     "text": [
      "\r",
      "Processing ligands: 173it [00:38,  4.59it/s]"
     ]
    },
    {
     "name": "stdout",
     "output_type": "stream",
     "text": [
      "/media/lmeuret/Seagate Portable Drive/result_docking/DOCKING_project/Conan-main/results_SMINA/DOCKED/ligand188/output44_ligand188_2023-11-22-15_52/best.pdbqt\n",
      "/media/lmeuret/Seagate Portable Drive/result_docking/DOCKING_project/Conan-main/receptors/output44.pdbqt\n"
     ]
    },
    {
     "data": {
      "application/vnd.jupyter.widget-view+json": {
       "model_id": "821dbde443bd4db68bee16e8ffa58676",
       "version_major": 2,
       "version_minor": 0
      },
      "text/plain": [
       "  0%|          | 0/1 [00:00<?, ?it/s]"
      ]
     },
     "metadata": {},
     "output_type": "display_data"
    },
    {
     "name": "stderr",
     "output_type": "stream",
     "text": [
      "\r",
      "Processing ligands: 174it [00:38,  4.56it/s]"
     ]
    },
    {
     "name": "stdout",
     "output_type": "stream",
     "text": [
      "/media/lmeuret/Seagate Portable Drive/result_docking/DOCKING_project/Conan-main/results_SMINA/DOCKED/ligand189/output44_ligand189_2023-11-22-15_52/best.pdbqt\n",
      "/media/lmeuret/Seagate Portable Drive/result_docking/DOCKING_project/Conan-main/receptors/output44.pdbqt\n"
     ]
    },
    {
     "data": {
      "application/vnd.jupyter.widget-view+json": {
       "model_id": "8b03a6c0d5184a5ea6f26cf09b1f2a1f",
       "version_major": 2,
       "version_minor": 0
      },
      "text/plain": [
       "  0%|          | 0/1 [00:00<?, ?it/s]"
      ]
     },
     "metadata": {},
     "output_type": "display_data"
    },
    {
     "name": "stderr",
     "output_type": "stream",
     "text": [
      "\r",
      "Processing ligands: 175it [00:39,  4.38it/s]"
     ]
    },
    {
     "name": "stdout",
     "output_type": "stream",
     "text": [
      "/media/lmeuret/Seagate Portable Drive/result_docking/DOCKING_project/Conan-main/results_SMINA/DOCKED/ligand19/output44_ligand19_2023-11-22-15_52/best.pdbqt\n",
      "/media/lmeuret/Seagate Portable Drive/result_docking/DOCKING_project/Conan-main/receptors/output44.pdbqt\n"
     ]
    },
    {
     "data": {
      "application/vnd.jupyter.widget-view+json": {
       "model_id": "a592ffee0b074d00a824939d7d04fd75",
       "version_major": 2,
       "version_minor": 0
      },
      "text/plain": [
       "  0%|          | 0/1 [00:00<?, ?it/s]"
      ]
     },
     "metadata": {},
     "output_type": "display_data"
    },
    {
     "name": "stderr",
     "output_type": "stream",
     "text": [
      "\r",
      "Processing ligands: 176it [00:39,  4.49it/s]"
     ]
    },
    {
     "name": "stdout",
     "output_type": "stream",
     "text": [
      "/media/lmeuret/Seagate Portable Drive/result_docking/DOCKING_project/Conan-main/results_SMINA/DOCKED/ligand190/output44_ligand190_2023-11-22-15_52/best.pdbqt\n",
      "/media/lmeuret/Seagate Portable Drive/result_docking/DOCKING_project/Conan-main/receptors/output44.pdbqt\n"
     ]
    },
    {
     "data": {
      "application/vnd.jupyter.widget-view+json": {
       "model_id": "ceb46f4a33094492aa410ba99b74401b",
       "version_major": 2,
       "version_minor": 0
      },
      "text/plain": [
       "  0%|          | 0/1 [00:00<?, ?it/s]"
      ]
     },
     "metadata": {},
     "output_type": "display_data"
    },
    {
     "name": "stderr",
     "output_type": "stream",
     "text": [
      "\r",
      "Processing ligands: 177it [00:39,  4.54it/s]"
     ]
    },
    {
     "name": "stdout",
     "output_type": "stream",
     "text": [
      "/media/lmeuret/Seagate Portable Drive/result_docking/DOCKING_project/Conan-main/results_SMINA/DOCKED/ligand191/output44_ligand191_2023-11-22-15_52/best.pdbqt\n",
      "/media/lmeuret/Seagate Portable Drive/result_docking/DOCKING_project/Conan-main/receptors/output44.pdbqt\n"
     ]
    },
    {
     "data": {
      "application/vnd.jupyter.widget-view+json": {
       "model_id": "86d709e3652f41e1b5a1334ae42bba2e",
       "version_major": 2,
       "version_minor": 0
      },
      "text/plain": [
       "  0%|          | 0/1 [00:00<?, ?it/s]"
      ]
     },
     "metadata": {},
     "output_type": "display_data"
    },
    {
     "name": "stderr",
     "output_type": "stream",
     "text": [
      "\r",
      "Processing ligands: 178it [00:39,  4.57it/s]"
     ]
    },
    {
     "name": "stdout",
     "output_type": "stream",
     "text": [
      "/media/lmeuret/Seagate Portable Drive/result_docking/DOCKING_project/Conan-main/results_SMINA/DOCKED/ligand192/output44_ligand192_2023-11-22-15_52/best.pdbqt\n",
      "/media/lmeuret/Seagate Portable Drive/result_docking/DOCKING_project/Conan-main/receptors/output44.pdbqt\n"
     ]
    },
    {
     "data": {
      "application/vnd.jupyter.widget-view+json": {
       "model_id": "43251322befd4b81a19973ad963118a6",
       "version_major": 2,
       "version_minor": 0
      },
      "text/plain": [
       "  0%|          | 0/1 [00:00<?, ?it/s]"
      ]
     },
     "metadata": {},
     "output_type": "display_data"
    },
    {
     "name": "stderr",
     "output_type": "stream",
     "text": [
      "\r",
      "Processing ligands: 179it [00:39,  4.55it/s]"
     ]
    },
    {
     "name": "stdout",
     "output_type": "stream",
     "text": [
      "/media/lmeuret/Seagate Portable Drive/result_docking/DOCKING_project/Conan-main/results_SMINA/DOCKED/ligand193/output44_ligand193_2023-11-22-15_52/best.pdbqt\n",
      "/media/lmeuret/Seagate Portable Drive/result_docking/DOCKING_project/Conan-main/receptors/output44.pdbqt\n"
     ]
    },
    {
     "data": {
      "application/vnd.jupyter.widget-view+json": {
       "model_id": "c5f42c33ffbc4cf19ec0df3239e9776c",
       "version_major": 2,
       "version_minor": 0
      },
      "text/plain": [
       "  0%|          | 0/1 [00:00<?, ?it/s]"
      ]
     },
     "metadata": {},
     "output_type": "display_data"
    },
    {
     "name": "stderr",
     "output_type": "stream",
     "text": [
      "\r",
      "Processing ligands: 180it [00:40,  4.61it/s]"
     ]
    },
    {
     "name": "stdout",
     "output_type": "stream",
     "text": [
      "/media/lmeuret/Seagate Portable Drive/result_docking/DOCKING_project/Conan-main/results_SMINA/DOCKED/ligand194/output44_ligand194_2023-11-22-15_52/best.pdbqt\n",
      "/media/lmeuret/Seagate Portable Drive/result_docking/DOCKING_project/Conan-main/receptors/output44.pdbqt\n"
     ]
    },
    {
     "data": {
      "application/vnd.jupyter.widget-view+json": {
       "model_id": "c24533ffe4ec47d4b3329d9a2ca3cf50",
       "version_major": 2,
       "version_minor": 0
      },
      "text/plain": [
       "  0%|          | 0/1 [00:00<?, ?it/s]"
      ]
     },
     "metadata": {},
     "output_type": "display_data"
    },
    {
     "name": "stderr",
     "output_type": "stream",
     "text": [
      "\r",
      "Processing ligands: 181it [00:40,  4.55it/s]"
     ]
    },
    {
     "name": "stdout",
     "output_type": "stream",
     "text": [
      "/media/lmeuret/Seagate Portable Drive/result_docking/DOCKING_project/Conan-main/results_SMINA/DOCKED/ligand195/output44_ligand195_2023-11-22-15_52/best.pdbqt\n",
      "/media/lmeuret/Seagate Portable Drive/result_docking/DOCKING_project/Conan-main/receptors/output44.pdbqt\n"
     ]
    },
    {
     "data": {
      "application/vnd.jupyter.widget-view+json": {
       "model_id": "68a8a46202614e42b3144d1734d30d4a",
       "version_major": 2,
       "version_minor": 0
      },
      "text/plain": [
       "  0%|          | 0/1 [00:00<?, ?it/s]"
      ]
     },
     "metadata": {},
     "output_type": "display_data"
    },
    {
     "name": "stderr",
     "output_type": "stream",
     "text": [
      "\r",
      "Processing ligands: 182it [00:40,  4.66it/s]"
     ]
    },
    {
     "name": "stdout",
     "output_type": "stream",
     "text": [
      "/media/lmeuret/Seagate Portable Drive/result_docking/DOCKING_project/Conan-main/results_SMINA/DOCKED/ligand196/output44_ligand196_2023-11-22-15_52/best.pdbqt\n",
      "/media/lmeuret/Seagate Portable Drive/result_docking/DOCKING_project/Conan-main/receptors/output44.pdbqt\n"
     ]
    },
    {
     "data": {
      "application/vnd.jupyter.widget-view+json": {
       "model_id": "f5ee651f8c7143038f2858610480e7f5",
       "version_major": 2,
       "version_minor": 0
      },
      "text/plain": [
       "  0%|          | 0/1 [00:00<?, ?it/s]"
      ]
     },
     "metadata": {},
     "output_type": "display_data"
    },
    {
     "name": "stderr",
     "output_type": "stream",
     "text": [
      "\r",
      "Processing ligands: 183it [00:40,  4.66it/s]"
     ]
    },
    {
     "name": "stdout",
     "output_type": "stream",
     "text": [
      "/media/lmeuret/Seagate Portable Drive/result_docking/DOCKING_project/Conan-main/results_SMINA/DOCKED/ligand197/output44_ligand197_2023-11-22-15_52/best.pdbqt\n",
      "/media/lmeuret/Seagate Portable Drive/result_docking/DOCKING_project/Conan-main/receptors/output44.pdbqt\n"
     ]
    },
    {
     "data": {
      "application/vnd.jupyter.widget-view+json": {
       "model_id": "aec0850bd3a943af81460bf4ed94b892",
       "version_major": 2,
       "version_minor": 0
      },
      "text/plain": [
       "  0%|          | 0/1 [00:00<?, ?it/s]"
      ]
     },
     "metadata": {},
     "output_type": "display_data"
    },
    {
     "name": "stderr",
     "output_type": "stream",
     "text": [
      "\r",
      "Processing ligands: 184it [00:40,  4.58it/s]"
     ]
    },
    {
     "name": "stdout",
     "output_type": "stream",
     "text": [
      "/media/lmeuret/Seagate Portable Drive/result_docking/DOCKING_project/Conan-main/results_SMINA/DOCKED/ligand198/output44_ligand198_2023-11-22-15_52/best.pdbqt\n",
      "/media/lmeuret/Seagate Portable Drive/result_docking/DOCKING_project/Conan-main/receptors/output44.pdbqt\n"
     ]
    },
    {
     "data": {
      "application/vnd.jupyter.widget-view+json": {
       "model_id": "ca0865fa6c0d47d4bc98dc144e873c8b",
       "version_major": 2,
       "version_minor": 0
      },
      "text/plain": [
       "  0%|          | 0/1 [00:00<?, ?it/s]"
      ]
     },
     "metadata": {},
     "output_type": "display_data"
    },
    {
     "name": "stderr",
     "output_type": "stream",
     "text": [
      "\r",
      "Processing ligands: 185it [00:41,  4.54it/s]"
     ]
    },
    {
     "name": "stdout",
     "output_type": "stream",
     "text": [
      "/media/lmeuret/Seagate Portable Drive/result_docking/DOCKING_project/Conan-main/results_SMINA/DOCKED/ligand199/output44_ligand199_2023-11-22-15_52/best.pdbqt\n",
      "/media/lmeuret/Seagate Portable Drive/result_docking/DOCKING_project/Conan-main/receptors/output44.pdbqt\n"
     ]
    },
    {
     "data": {
      "application/vnd.jupyter.widget-view+json": {
       "model_id": "7a59fe5867574902a9e87516467ee4f2",
       "version_major": 2,
       "version_minor": 0
      },
      "text/plain": [
       "  0%|          | 0/1 [00:00<?, ?it/s]"
      ]
     },
     "metadata": {},
     "output_type": "display_data"
    },
    {
     "name": "stderr",
     "output_type": "stream",
     "text": [
      "\r",
      "Processing ligands: 186it [00:41,  4.37it/s]"
     ]
    },
    {
     "name": "stdout",
     "output_type": "stream",
     "text": [
      "/media/lmeuret/Seagate Portable Drive/result_docking/DOCKING_project/Conan-main/results_SMINA/DOCKED/ligand2/output44_ligand2_2023-11-22-15_52/best.pdbqt\n",
      "/media/lmeuret/Seagate Portable Drive/result_docking/DOCKING_project/Conan-main/receptors/output44.pdbqt\n"
     ]
    },
    {
     "data": {
      "application/vnd.jupyter.widget-view+json": {
       "model_id": "2fa0e55bbbae4fb08a0253ac8b02e980",
       "version_major": 2,
       "version_minor": 0
      },
      "text/plain": [
       "  0%|          | 0/1 [00:00<?, ?it/s]"
      ]
     },
     "metadata": {},
     "output_type": "display_data"
    },
    {
     "name": "stderr",
     "output_type": "stream",
     "text": [
      "\r",
      "Processing ligands: 187it [00:41,  4.25it/s]"
     ]
    },
    {
     "name": "stdout",
     "output_type": "stream",
     "text": [
      "/media/lmeuret/Seagate Portable Drive/result_docking/DOCKING_project/Conan-main/results_SMINA/DOCKED/ligand20/output44_ligand20_2023-11-22-15_52/best.pdbqt\n",
      "/media/lmeuret/Seagate Portable Drive/result_docking/DOCKING_project/Conan-main/receptors/output44.pdbqt\n"
     ]
    },
    {
     "data": {
      "application/vnd.jupyter.widget-view+json": {
       "model_id": "8d19e918281b408bb13c3211cf2600bc",
       "version_major": 2,
       "version_minor": 0
      },
      "text/plain": [
       "  0%|          | 0/1 [00:00<?, ?it/s]"
      ]
     },
     "metadata": {},
     "output_type": "display_data"
    },
    {
     "name": "stderr",
     "output_type": "stream",
     "text": [
      "\r",
      "Processing ligands: 188it [00:41,  4.25it/s]"
     ]
    },
    {
     "name": "stdout",
     "output_type": "stream",
     "text": [
      "/media/lmeuret/Seagate Portable Drive/result_docking/DOCKING_project/Conan-main/results_SMINA/DOCKED/ligand200/output44_ligand200_2023-11-22-15_52/best.pdbqt\n",
      "/media/lmeuret/Seagate Portable Drive/result_docking/DOCKING_project/Conan-main/receptors/output44.pdbqt\n"
     ]
    },
    {
     "data": {
      "application/vnd.jupyter.widget-view+json": {
       "model_id": "adc53561f43c48dcaa5949c00ce34a9a",
       "version_major": 2,
       "version_minor": 0
      },
      "text/plain": [
       "  0%|          | 0/1 [00:00<?, ?it/s]"
      ]
     },
     "metadata": {},
     "output_type": "display_data"
    },
    {
     "name": "stderr",
     "output_type": "stream",
     "text": [
      "\r",
      "Processing ligands: 189it [00:42,  4.30it/s]"
     ]
    },
    {
     "name": "stdout",
     "output_type": "stream",
     "text": [
      "/media/lmeuret/Seagate Portable Drive/result_docking/DOCKING_project/Conan-main/results_SMINA/DOCKED/ligand201/output44_ligand201_2023-11-22-15_52/best.pdbqt\n",
      "/media/lmeuret/Seagate Portable Drive/result_docking/DOCKING_project/Conan-main/receptors/output44.pdbqt\n"
     ]
    },
    {
     "data": {
      "application/vnd.jupyter.widget-view+json": {
       "model_id": "6b0505a1b8cb41d6adf1863f0ae6ae90",
       "version_major": 2,
       "version_minor": 0
      },
      "text/plain": [
       "  0%|          | 0/1 [00:00<?, ?it/s]"
      ]
     },
     "metadata": {},
     "output_type": "display_data"
    },
    {
     "name": "stderr",
     "output_type": "stream",
     "text": [
      "\r",
      "Processing ligands: 190it [00:42,  4.35it/s]"
     ]
    },
    {
     "name": "stdout",
     "output_type": "stream",
     "text": [
      "/media/lmeuret/Seagate Portable Drive/result_docking/DOCKING_project/Conan-main/results_SMINA/DOCKED/ligand202/output44_ligand202_2023-11-22-15_52/best.pdbqt\n",
      "/media/lmeuret/Seagate Portable Drive/result_docking/DOCKING_project/Conan-main/receptors/output44.pdbqt\n"
     ]
    },
    {
     "data": {
      "application/vnd.jupyter.widget-view+json": {
       "model_id": "f5a99f9fb1a94f138a88718c18d68428",
       "version_major": 2,
       "version_minor": 0
      },
      "text/plain": [
       "  0%|          | 0/1 [00:00<?, ?it/s]"
      ]
     },
     "metadata": {},
     "output_type": "display_data"
    },
    {
     "name": "stderr",
     "output_type": "stream",
     "text": [
      "\r",
      "Processing ligands: 191it [00:42,  4.46it/s]"
     ]
    },
    {
     "name": "stdout",
     "output_type": "stream",
     "text": [
      "/media/lmeuret/Seagate Portable Drive/result_docking/DOCKING_project/Conan-main/results_SMINA/DOCKED/ligand203/output44_ligand203_2023-11-22-15_52/best.pdbqt\n",
      "/media/lmeuret/Seagate Portable Drive/result_docking/DOCKING_project/Conan-main/receptors/output44.pdbqt\n"
     ]
    },
    {
     "data": {
      "application/vnd.jupyter.widget-view+json": {
       "model_id": "b7c57fa46cb547bda9764673cbe3d895",
       "version_major": 2,
       "version_minor": 0
      },
      "text/plain": [
       "  0%|          | 0/1 [00:00<?, ?it/s]"
      ]
     },
     "metadata": {},
     "output_type": "display_data"
    },
    {
     "name": "stderr",
     "output_type": "stream",
     "text": [
      "\r",
      "Processing ligands: 192it [00:42,  4.47it/s]"
     ]
    },
    {
     "name": "stdout",
     "output_type": "stream",
     "text": [
      "/media/lmeuret/Seagate Portable Drive/result_docking/DOCKING_project/Conan-main/results_SMINA/DOCKED/ligand204/output44_ligand204_2023-11-22-15_52/best.pdbqt\n",
      "/media/lmeuret/Seagate Portable Drive/result_docking/DOCKING_project/Conan-main/receptors/output44.pdbqt\n"
     ]
    },
    {
     "data": {
      "application/vnd.jupyter.widget-view+json": {
       "model_id": "d17369b0d4dd4e0a8e0b7dd465ceb4f5",
       "version_major": 2,
       "version_minor": 0
      },
      "text/plain": [
       "  0%|          | 0/1 [00:00<?, ?it/s]"
      ]
     },
     "metadata": {},
     "output_type": "display_data"
    },
    {
     "name": "stderr",
     "output_type": "stream",
     "text": [
      "\r",
      "Processing ligands: 193it [00:43,  4.46it/s]"
     ]
    },
    {
     "name": "stdout",
     "output_type": "stream",
     "text": [
      "/media/lmeuret/Seagate Portable Drive/result_docking/DOCKING_project/Conan-main/results_SMINA/DOCKED/ligand774/output44_ligand774_2023-11-22-15_52/best.pdbqt\n",
      "/media/lmeuret/Seagate Portable Drive/result_docking/DOCKING_project/Conan-main/receptors/output44.pdbqt\n"
     ]
    },
    {
     "data": {
      "application/vnd.jupyter.widget-view+json": {
       "model_id": "6521f62404da47218662c757c908c5ba",
       "version_major": 2,
       "version_minor": 0
      },
      "text/plain": [
       "  0%|          | 0/1 [00:00<?, ?it/s]"
      ]
     },
     "metadata": {},
     "output_type": "display_data"
    },
    {
     "name": "stderr",
     "output_type": "stream",
     "text": [
      "\r",
      "Processing ligands: 194it [00:43,  4.63it/s]"
     ]
    },
    {
     "name": "stdout",
     "output_type": "stream",
     "text": [
      "/media/lmeuret/Seagate Portable Drive/result_docking/DOCKING_project/Conan-main/results_SMINA/DOCKED/ligand775/output44_ligand775_2023-11-22-15_52/best.pdbqt\n",
      "/media/lmeuret/Seagate Portable Drive/result_docking/DOCKING_project/Conan-main/receptors/output44.pdbqt\n"
     ]
    },
    {
     "data": {
      "application/vnd.jupyter.widget-view+json": {
       "model_id": "6293b531429e4c3891030512e892661a",
       "version_major": 2,
       "version_minor": 0
      },
      "text/plain": [
       "  0%|          | 0/1 [00:00<?, ?it/s]"
      ]
     },
     "metadata": {},
     "output_type": "display_data"
    },
    {
     "name": "stderr",
     "output_type": "stream",
     "text": [
      "\r",
      "Processing ligands: 195it [00:43,  4.68it/s]"
     ]
    },
    {
     "name": "stdout",
     "output_type": "stream",
     "text": [
      "/media/lmeuret/Seagate Portable Drive/result_docking/DOCKING_project/Conan-main/results_SMINA/DOCKED/ligand776/output44_ligand776_2023-11-22-15_52/best.pdbqt\n",
      "/media/lmeuret/Seagate Portable Drive/result_docking/DOCKING_project/Conan-main/receptors/output44.pdbqt\n"
     ]
    },
    {
     "data": {
      "application/vnd.jupyter.widget-view+json": {
       "model_id": "7412b4c9fc35473ca43ccbe4a321fa6c",
       "version_major": 2,
       "version_minor": 0
      },
      "text/plain": [
       "  0%|          | 0/1 [00:00<?, ?it/s]"
      ]
     },
     "metadata": {},
     "output_type": "display_data"
    },
    {
     "name": "stderr",
     "output_type": "stream",
     "text": [
      "\r",
      "Processing ligands: 196it [00:43,  4.51it/s]"
     ]
    },
    {
     "name": "stdout",
     "output_type": "stream",
     "text": [
      "/media/lmeuret/Seagate Portable Drive/result_docking/DOCKING_project/Conan-main/results_SMINA/DOCKED/ligand779/output44_ligand779_2023-11-22-15_52/best.pdbqt\n",
      "/media/lmeuret/Seagate Portable Drive/result_docking/DOCKING_project/Conan-main/receptors/output44.pdbqt\n"
     ]
    },
    {
     "data": {
      "application/vnd.jupyter.widget-view+json": {
       "model_id": "28ec573f646f4339bee2edda17bcee64",
       "version_major": 2,
       "version_minor": 0
      },
      "text/plain": [
       "  0%|          | 0/1 [00:00<?, ?it/s]"
      ]
     },
     "metadata": {},
     "output_type": "display_data"
    },
    {
     "name": "stderr",
     "output_type": "stream",
     "text": [
      "\r",
      "Processing ligands: 197it [00:43,  4.63it/s]"
     ]
    },
    {
     "name": "stdout",
     "output_type": "stream",
     "text": [
      "/media/lmeuret/Seagate Portable Drive/result_docking/DOCKING_project/Conan-main/results_SMINA/DOCKED/ligand78/output44_ligand78_2023-11-22-15_52/best.pdbqt\n",
      "/media/lmeuret/Seagate Portable Drive/result_docking/DOCKING_project/Conan-main/receptors/output44.pdbqt\n"
     ]
    },
    {
     "data": {
      "application/vnd.jupyter.widget-view+json": {
       "model_id": "5bb1491fd94a449983be03323c7835ac",
       "version_major": 2,
       "version_minor": 0
      },
      "text/plain": [
       "  0%|          | 0/1 [00:00<?, ?it/s]"
      ]
     },
     "metadata": {},
     "output_type": "display_data"
    },
    {
     "name": "stderr",
     "output_type": "stream",
     "text": [
      "\r",
      "Processing ligands: 198it [00:44,  4.44it/s]"
     ]
    },
    {
     "name": "stdout",
     "output_type": "stream",
     "text": [
      "/media/lmeuret/Seagate Portable Drive/result_docking/DOCKING_project/Conan-main/results_SMINA/DOCKED/ligand780/output44_ligand780_2023-11-22-15_52/best.pdbqt\n",
      "/media/lmeuret/Seagate Portable Drive/result_docking/DOCKING_project/Conan-main/receptors/output44.pdbqt\n"
     ]
    },
    {
     "data": {
      "application/vnd.jupyter.widget-view+json": {
       "model_id": "897b8a4c26914dac97f34c63ed678574",
       "version_major": 2,
       "version_minor": 0
      },
      "text/plain": [
       "  0%|          | 0/1 [00:00<?, ?it/s]"
      ]
     },
     "metadata": {},
     "output_type": "display_data"
    },
    {
     "name": "stderr",
     "output_type": "stream",
     "text": [
      "\r",
      "Processing ligands: 199it [00:44,  4.41it/s]"
     ]
    },
    {
     "name": "stdout",
     "output_type": "stream",
     "text": [
      "/media/lmeuret/Seagate Portable Drive/result_docking/DOCKING_project/Conan-main/results_SMINA/DOCKED/ligand781/output44_ligand781_2023-11-22-15_52/best.pdbqt\n",
      "/media/lmeuret/Seagate Portable Drive/result_docking/DOCKING_project/Conan-main/receptors/output44.pdbqt\n"
     ]
    },
    {
     "data": {
      "application/vnd.jupyter.widget-view+json": {
       "model_id": "f1d9dc853caa42988514872e26819129",
       "version_major": 2,
       "version_minor": 0
      },
      "text/plain": [
       "  0%|          | 0/1 [00:00<?, ?it/s]"
      ]
     },
     "metadata": {},
     "output_type": "display_data"
    },
    {
     "name": "stderr",
     "output_type": "stream",
     "text": [
      "\r",
      "Processing ligands: 200it [00:44,  4.51it/s]"
     ]
    },
    {
     "name": "stdout",
     "output_type": "stream",
     "text": [
      "/media/lmeuret/Seagate Portable Drive/result_docking/DOCKING_project/Conan-main/results_SMINA/DOCKED/ligand782/output44_ligand782_2023-11-22-15_52/best.pdbqt\n",
      "/media/lmeuret/Seagate Portable Drive/result_docking/DOCKING_project/Conan-main/receptors/output44.pdbqt\n"
     ]
    },
    {
     "data": {
      "application/vnd.jupyter.widget-view+json": {
       "model_id": "18bcdaea297244748aa5ee947a187dd7",
       "version_major": 2,
       "version_minor": 0
      },
      "text/plain": [
       "  0%|          | 0/1 [00:00<?, ?it/s]"
      ]
     },
     "metadata": {},
     "output_type": "display_data"
    },
    {
     "name": "stderr",
     "output_type": "stream",
     "text": [
      "\r",
      "Processing ligands: 201it [00:44,  4.62it/s]"
     ]
    },
    {
     "name": "stdout",
     "output_type": "stream",
     "text": [
      "/media/lmeuret/Seagate Portable Drive/result_docking/DOCKING_project/Conan-main/results_SMINA/DOCKED/ligand783/output44_ligand783_2023-11-22-15_52/best.pdbqt\n",
      "/media/lmeuret/Seagate Portable Drive/result_docking/DOCKING_project/Conan-main/receptors/output44.pdbqt\n"
     ]
    },
    {
     "data": {
      "application/vnd.jupyter.widget-view+json": {
       "model_id": "70484144632941c4b15810df4d59f614",
       "version_major": 2,
       "version_minor": 0
      },
      "text/plain": [
       "  0%|          | 0/1 [00:00<?, ?it/s]"
      ]
     },
     "metadata": {},
     "output_type": "display_data"
    },
    {
     "name": "stderr",
     "output_type": "stream",
     "text": [
      "\r",
      "Processing ligands: 202it [00:45,  4.56it/s]"
     ]
    },
    {
     "name": "stdout",
     "output_type": "stream",
     "text": [
      "/media/lmeuret/Seagate Portable Drive/result_docking/DOCKING_project/Conan-main/results_SMINA/DOCKED/ligand784/output44_ligand784_2023-11-22-15_52/best.pdbqt\n",
      "/media/lmeuret/Seagate Portable Drive/result_docking/DOCKING_project/Conan-main/receptors/output44.pdbqt\n"
     ]
    },
    {
     "data": {
      "application/vnd.jupyter.widget-view+json": {
       "model_id": "5484a2f989c147ad854025e4ef7b406b",
       "version_major": 2,
       "version_minor": 0
      },
      "text/plain": [
       "  0%|          | 0/1 [00:00<?, ?it/s]"
      ]
     },
     "metadata": {},
     "output_type": "display_data"
    },
    {
     "name": "stderr",
     "output_type": "stream",
     "text": [
      "\r",
      "Processing ligands: 203it [00:45,  4.57it/s]"
     ]
    },
    {
     "name": "stdout",
     "output_type": "stream",
     "text": [
      "/media/lmeuret/Seagate Portable Drive/result_docking/DOCKING_project/Conan-main/results_SMINA/DOCKED/ligand785/output44_ligand785_2023-11-22-15_52/best.pdbqt\n",
      "/media/lmeuret/Seagate Portable Drive/result_docking/DOCKING_project/Conan-main/receptors/output44.pdbqt\n"
     ]
    },
    {
     "data": {
      "application/vnd.jupyter.widget-view+json": {
       "model_id": "bcf260019b644059a26809fac571dcff",
       "version_major": 2,
       "version_minor": 0
      },
      "text/plain": [
       "  0%|          | 0/1 [00:00<?, ?it/s]"
      ]
     },
     "metadata": {},
     "output_type": "display_data"
    },
    {
     "name": "stderr",
     "output_type": "stream",
     "text": [
      "\r",
      "Processing ligands: 204it [00:45,  4.66it/s]"
     ]
    },
    {
     "name": "stdout",
     "output_type": "stream",
     "text": [
      "/media/lmeuret/Seagate Portable Drive/result_docking/DOCKING_project/Conan-main/results_SMINA/DOCKED/ligand786/output44_ligand786_2023-11-22-15_52/best.pdbqt\n",
      "/media/lmeuret/Seagate Portable Drive/result_docking/DOCKING_project/Conan-main/receptors/output44.pdbqt\n"
     ]
    },
    {
     "data": {
      "application/vnd.jupyter.widget-view+json": {
       "model_id": "1d752c983ad84ccc9b8cb63ac9595c8b",
       "version_major": 2,
       "version_minor": 0
      },
      "text/plain": [
       "  0%|          | 0/1 [00:00<?, ?it/s]"
      ]
     },
     "metadata": {},
     "output_type": "display_data"
    },
    {
     "name": "stderr",
     "output_type": "stream",
     "text": [
      "\r",
      "Processing ligands: 205it [00:45,  4.72it/s]"
     ]
    },
    {
     "name": "stdout",
     "output_type": "stream",
     "text": [
      "/media/lmeuret/Seagate Portable Drive/result_docking/DOCKING_project/Conan-main/results_SMINA/DOCKED/ligand787/output44_ligand787_2023-11-22-15_52/best.pdbqt\n",
      "/media/lmeuret/Seagate Portable Drive/result_docking/DOCKING_project/Conan-main/receptors/output44.pdbqt\n"
     ]
    },
    {
     "data": {
      "application/vnd.jupyter.widget-view+json": {
       "model_id": "5190ded55a4f45408222b898983088d3",
       "version_major": 2,
       "version_minor": 0
      },
      "text/plain": [
       "  0%|          | 0/1 [00:00<?, ?it/s]"
      ]
     },
     "metadata": {},
     "output_type": "display_data"
    },
    {
     "name": "stderr",
     "output_type": "stream",
     "text": [
      "\r",
      "Processing ligands: 206it [00:45,  4.72it/s]"
     ]
    },
    {
     "name": "stdout",
     "output_type": "stream",
     "text": [
      "/media/lmeuret/Seagate Portable Drive/result_docking/DOCKING_project/Conan-main/results_SMINA/DOCKED/ligand789/output44_ligand789_2023-11-22-15_52/best.pdbqt\n",
      "/media/lmeuret/Seagate Portable Drive/result_docking/DOCKING_project/Conan-main/receptors/output44.pdbqt\n"
     ]
    },
    {
     "data": {
      "application/vnd.jupyter.widget-view+json": {
       "model_id": "1fb079d9ca1946c5b1454edb0d21ce41",
       "version_major": 2,
       "version_minor": 0
      },
      "text/plain": [
       "  0%|          | 0/1 [00:00<?, ?it/s]"
      ]
     },
     "metadata": {},
     "output_type": "display_data"
    },
    {
     "name": "stderr",
     "output_type": "stream",
     "text": [
      "\r",
      "Processing ligands: 207it [00:46,  4.72it/s]"
     ]
    },
    {
     "name": "stdout",
     "output_type": "stream",
     "text": [
      "/media/lmeuret/Seagate Portable Drive/result_docking/DOCKING_project/Conan-main/results_SMINA/DOCKED/ligand79/output44_ligand79_2023-11-22-15_52/best.pdbqt\n",
      "/media/lmeuret/Seagate Portable Drive/result_docking/DOCKING_project/Conan-main/receptors/output44.pdbqt\n"
     ]
    },
    {
     "data": {
      "application/vnd.jupyter.widget-view+json": {
       "model_id": "3ef86507610b41009a41bb847760c459",
       "version_major": 2,
       "version_minor": 0
      },
      "text/plain": [
       "  0%|          | 0/1 [00:00<?, ?it/s]"
      ]
     },
     "metadata": {},
     "output_type": "display_data"
    },
    {
     "name": "stderr",
     "output_type": "stream",
     "text": [
      "\r",
      "Processing ligands: 208it [00:46,  4.78it/s]"
     ]
    },
    {
     "name": "stdout",
     "output_type": "stream",
     "text": [
      "/media/lmeuret/Seagate Portable Drive/result_docking/DOCKING_project/Conan-main/results_SMINA/DOCKED/ligand790/output44_ligand790_2023-11-22-15_52/best.pdbqt\n",
      "/media/lmeuret/Seagate Portable Drive/result_docking/DOCKING_project/Conan-main/receptors/output44.pdbqt\n"
     ]
    },
    {
     "data": {
      "application/vnd.jupyter.widget-view+json": {
       "model_id": "6fc7ad1c9c004a74b2051fee4ddf8f0c",
       "version_major": 2,
       "version_minor": 0
      },
      "text/plain": [
       "  0%|          | 0/1 [00:00<?, ?it/s]"
      ]
     },
     "metadata": {},
     "output_type": "display_data"
    },
    {
     "name": "stderr",
     "output_type": "stream",
     "text": [
      "\r",
      "Processing ligands: 209it [00:46,  4.63it/s]"
     ]
    },
    {
     "name": "stdout",
     "output_type": "stream",
     "text": [
      "/media/lmeuret/Seagate Portable Drive/result_docking/DOCKING_project/Conan-main/results_SMINA/DOCKED/ligand791/output44_ligand791_2023-11-22-15_52/best.pdbqt\n",
      "/media/lmeuret/Seagate Portable Drive/result_docking/DOCKING_project/Conan-main/receptors/output44.pdbqt\n"
     ]
    },
    {
     "data": {
      "application/vnd.jupyter.widget-view+json": {
       "model_id": "ff83543d8f064096b2b6b69f39c99e55",
       "version_major": 2,
       "version_minor": 0
      },
      "text/plain": [
       "  0%|          | 0/1 [00:00<?, ?it/s]"
      ]
     },
     "metadata": {},
     "output_type": "display_data"
    },
    {
     "name": "stderr",
     "output_type": "stream",
     "text": [
      "\r",
      "Processing ligands: 210it [00:46,  4.73it/s]"
     ]
    },
    {
     "name": "stdout",
     "output_type": "stream",
     "text": [
      "/media/lmeuret/Seagate Portable Drive/result_docking/DOCKING_project/Conan-main/results_SMINA/DOCKED/ligand792/output44_ligand792_2023-11-22-15_52/best.pdbqt\n",
      "/media/lmeuret/Seagate Portable Drive/result_docking/DOCKING_project/Conan-main/receptors/output44.pdbqt\n"
     ]
    },
    {
     "data": {
      "application/vnd.jupyter.widget-view+json": {
       "model_id": "0b4b149e7105468987c3656e9ce778a9",
       "version_major": 2,
       "version_minor": 0
      },
      "text/plain": [
       "  0%|          | 0/1 [00:00<?, ?it/s]"
      ]
     },
     "metadata": {},
     "output_type": "display_data"
    },
    {
     "name": "stderr",
     "output_type": "stream",
     "text": [
      "\r",
      "Processing ligands: 211it [00:46,  4.90it/s]"
     ]
    },
    {
     "name": "stdout",
     "output_type": "stream",
     "text": [
      "/media/lmeuret/Seagate Portable Drive/result_docking/DOCKING_project/Conan-main/results_SMINA/DOCKED/ligand793/output44_ligand793_2023-11-22-15_52/best.pdbqt\n",
      "/media/lmeuret/Seagate Portable Drive/result_docking/DOCKING_project/Conan-main/receptors/output44.pdbqt\n"
     ]
    },
    {
     "data": {
      "application/vnd.jupyter.widget-view+json": {
       "model_id": "c33e719c4c8a4af093a4c92da9ef317f",
       "version_major": 2,
       "version_minor": 0
      },
      "text/plain": [
       "  0%|          | 0/1 [00:00<?, ?it/s]"
      ]
     },
     "metadata": {},
     "output_type": "display_data"
    },
    {
     "name": "stderr",
     "output_type": "stream",
     "text": [
      "\r",
      "Processing ligands: 212it [00:47,  4.89it/s]"
     ]
    },
    {
     "name": "stdout",
     "output_type": "stream",
     "text": [
      "/media/lmeuret/Seagate Portable Drive/result_docking/DOCKING_project/Conan-main/results_SMINA/DOCKED/ligand794/output44_ligand794_2023-11-22-15_52/best.pdbqt\n",
      "/media/lmeuret/Seagate Portable Drive/result_docking/DOCKING_project/Conan-main/receptors/output44.pdbqt\n"
     ]
    },
    {
     "data": {
      "application/vnd.jupyter.widget-view+json": {
       "model_id": "5430f1237619410384a483da3a23d07e",
       "version_major": 2,
       "version_minor": 0
      },
      "text/plain": [
       "  0%|          | 0/1 [00:00<?, ?it/s]"
      ]
     },
     "metadata": {},
     "output_type": "display_data"
    },
    {
     "name": "stderr",
     "output_type": "stream",
     "text": [
      "\r",
      "Processing ligands: 213it [00:47,  4.71it/s]"
     ]
    },
    {
     "name": "stdout",
     "output_type": "stream",
     "text": [
      "/media/lmeuret/Seagate Portable Drive/result_docking/DOCKING_project/Conan-main/results_SMINA/DOCKED/ligand795/output44_ligand795_2023-11-22-15_52/best.pdbqt\n",
      "/media/lmeuret/Seagate Portable Drive/result_docking/DOCKING_project/Conan-main/receptors/output44.pdbqt\n"
     ]
    },
    {
     "data": {
      "application/vnd.jupyter.widget-view+json": {
       "model_id": "cd5b5bd23c2a40d6a67b89aaad3da397",
       "version_major": 2,
       "version_minor": 0
      },
      "text/plain": [
       "  0%|          | 0/1 [00:00<?, ?it/s]"
      ]
     },
     "metadata": {},
     "output_type": "display_data"
    },
    {
     "name": "stderr",
     "output_type": "stream",
     "text": [
      "\r",
      "Processing ligands: 214it [00:47,  4.65it/s]"
     ]
    },
    {
     "name": "stdout",
     "output_type": "stream",
     "text": [
      "/media/lmeuret/Seagate Portable Drive/result_docking/DOCKING_project/Conan-main/results_SMINA/DOCKED/ligand796/output44_ligand796_2023-11-22-15_52/best.pdbqt\n",
      "/media/lmeuret/Seagate Portable Drive/result_docking/DOCKING_project/Conan-main/receptors/output44.pdbqt\n"
     ]
    },
    {
     "data": {
      "application/vnd.jupyter.widget-view+json": {
       "model_id": "589658f35724423eab07b374d96e4481",
       "version_major": 2,
       "version_minor": 0
      },
      "text/plain": [
       "  0%|          | 0/1 [00:00<?, ?it/s]"
      ]
     },
     "metadata": {},
     "output_type": "display_data"
    },
    {
     "name": "stderr",
     "output_type": "stream",
     "text": [
      "\r",
      "Processing ligands: 215it [00:47,  4.66it/s]"
     ]
    },
    {
     "name": "stdout",
     "output_type": "stream",
     "text": [
      "/media/lmeuret/Seagate Portable Drive/result_docking/DOCKING_project/Conan-main/results_SMINA/DOCKED/ligand797/output44_ligand797_2023-11-22-15_52/best.pdbqt\n",
      "/media/lmeuret/Seagate Portable Drive/result_docking/DOCKING_project/Conan-main/receptors/output44.pdbqt\n"
     ]
    },
    {
     "data": {
      "application/vnd.jupyter.widget-view+json": {
       "model_id": "7c60bc61599d4590aa6dba31623c533c",
       "version_major": 2,
       "version_minor": 0
      },
      "text/plain": [
       "  0%|          | 0/1 [00:00<?, ?it/s]"
      ]
     },
     "metadata": {},
     "output_type": "display_data"
    },
    {
     "name": "stderr",
     "output_type": "stream",
     "text": [
      "\r",
      "Processing ligands: 216it [00:47,  4.71it/s]"
     ]
    },
    {
     "name": "stdout",
     "output_type": "stream",
     "text": [
      "/media/lmeuret/Seagate Portable Drive/result_docking/DOCKING_project/Conan-main/results_SMINA/DOCKED/ligand798/output44_ligand798_2023-11-22-15_52/best.pdbqt\n",
      "/media/lmeuret/Seagate Portable Drive/result_docking/DOCKING_project/Conan-main/receptors/output44.pdbqt\n"
     ]
    },
    {
     "data": {
      "application/vnd.jupyter.widget-view+json": {
       "model_id": "b02aade0e0d7489e913b0d30b8bcdb8f",
       "version_major": 2,
       "version_minor": 0
      },
      "text/plain": [
       "  0%|          | 0/1 [00:00<?, ?it/s]"
      ]
     },
     "metadata": {},
     "output_type": "display_data"
    },
    {
     "name": "stderr",
     "output_type": "stream",
     "text": [
      "\r",
      "Processing ligands: 217it [00:48,  4.83it/s]"
     ]
    },
    {
     "name": "stdout",
     "output_type": "stream",
     "text": [
      "/media/lmeuret/Seagate Portable Drive/result_docking/DOCKING_project/Conan-main/results_SMINA/DOCKED/ligand799/output44_ligand799_2023-11-22-15_52/best.pdbqt\n",
      "/media/lmeuret/Seagate Portable Drive/result_docking/DOCKING_project/Conan-main/receptors/output44.pdbqt\n"
     ]
    },
    {
     "data": {
      "application/vnd.jupyter.widget-view+json": {
       "model_id": "c73b85d86fff4d9bafcc060ee2632de6",
       "version_major": 2,
       "version_minor": 0
      },
      "text/plain": [
       "  0%|          | 0/1 [00:00<?, ?it/s]"
      ]
     },
     "metadata": {},
     "output_type": "display_data"
    },
    {
     "name": "stderr",
     "output_type": "stream",
     "text": [
      "\r",
      "Processing ligands: 218it [00:48,  4.80it/s]"
     ]
    },
    {
     "name": "stdout",
     "output_type": "stream",
     "text": [
      "/media/lmeuret/Seagate Portable Drive/result_docking/DOCKING_project/Conan-main/results_SMINA/DOCKED/ligand8/output44_ligand8_2023-11-22-15_52/best.pdbqt\n",
      "/media/lmeuret/Seagate Portable Drive/result_docking/DOCKING_project/Conan-main/receptors/output44.pdbqt\n"
     ]
    },
    {
     "data": {
      "application/vnd.jupyter.widget-view+json": {
       "model_id": "60b2be6e47b240bdb2d70c4ea2bb5258",
       "version_major": 2,
       "version_minor": 0
      },
      "text/plain": [
       "  0%|          | 0/1 [00:00<?, ?it/s]"
      ]
     },
     "metadata": {},
     "output_type": "display_data"
    },
    {
     "name": "stderr",
     "output_type": "stream",
     "text": [
      "\r",
      "Processing ligands: 219it [00:48,  4.76it/s]"
     ]
    },
    {
     "name": "stdout",
     "output_type": "stream",
     "text": [
      "/media/lmeuret/Seagate Portable Drive/result_docking/DOCKING_project/Conan-main/results_SMINA/DOCKED/ligand80/output44_ligand80_2023-11-22-15_52/best.pdbqt\n",
      "/media/lmeuret/Seagate Portable Drive/result_docking/DOCKING_project/Conan-main/receptors/output44.pdbqt\n"
     ]
    },
    {
     "data": {
      "application/vnd.jupyter.widget-view+json": {
       "model_id": "a069039da3d041bdacb4020ece170f04",
       "version_major": 2,
       "version_minor": 0
      },
      "text/plain": [
       "  0%|          | 0/1 [00:00<?, ?it/s]"
      ]
     },
     "metadata": {},
     "output_type": "display_data"
    },
    {
     "name": "stderr",
     "output_type": "stream",
     "text": [
      "\r",
      "Processing ligands: 220it [00:48,  4.74it/s]"
     ]
    },
    {
     "name": "stdout",
     "output_type": "stream",
     "text": [
      "/media/lmeuret/Seagate Portable Drive/result_docking/DOCKING_project/Conan-main/results_SMINA/DOCKED/ligand800/output44_ligand800_2023-11-22-15_52/best.pdbqt\n",
      "/media/lmeuret/Seagate Portable Drive/result_docking/DOCKING_project/Conan-main/receptors/output44.pdbqt\n"
     ]
    },
    {
     "data": {
      "application/vnd.jupyter.widget-view+json": {
       "model_id": "4fdd255a33924fd5a6dc0bd021cdd77a",
       "version_major": 2,
       "version_minor": 0
      },
      "text/plain": [
       "  0%|          | 0/1 [00:00<?, ?it/s]"
      ]
     },
     "metadata": {},
     "output_type": "display_data"
    },
    {
     "name": "stderr",
     "output_type": "stream",
     "text": [
      "\r",
      "Processing ligands: 221it [00:49,  4.59it/s]"
     ]
    },
    {
     "name": "stdout",
     "output_type": "stream",
     "text": [
      "/media/lmeuret/Seagate Portable Drive/result_docking/DOCKING_project/Conan-main/results_SMINA/DOCKED/ligand801/output44_ligand801_2023-11-22-15_52/best.pdbqt\n",
      "/media/lmeuret/Seagate Portable Drive/result_docking/DOCKING_project/Conan-main/receptors/output44.pdbqt\n"
     ]
    },
    {
     "data": {
      "application/vnd.jupyter.widget-view+json": {
       "model_id": "b5327ca1a26942a4ac96ffd4bf3beac8",
       "version_major": 2,
       "version_minor": 0
      },
      "text/plain": [
       "  0%|          | 0/1 [00:00<?, ?it/s]"
      ]
     },
     "metadata": {},
     "output_type": "display_data"
    },
    {
     "name": "stderr",
     "output_type": "stream",
     "text": [
      "\r",
      "Processing ligands: 222it [00:49,  4.63it/s]"
     ]
    },
    {
     "name": "stdout",
     "output_type": "stream",
     "text": [
      "/media/lmeuret/Seagate Portable Drive/result_docking/DOCKING_project/Conan-main/results_SMINA/DOCKED/ligand802/output44_ligand802_2023-11-22-15_52/best.pdbqt\n",
      "/media/lmeuret/Seagate Portable Drive/result_docking/DOCKING_project/Conan-main/receptors/output44.pdbqt\n"
     ]
    },
    {
     "data": {
      "application/vnd.jupyter.widget-view+json": {
       "model_id": "b083c0bcef4744e5a1acef04d76c362a",
       "version_major": 2,
       "version_minor": 0
      },
      "text/plain": [
       "  0%|          | 0/1 [00:00<?, ?it/s]"
      ]
     },
     "metadata": {},
     "output_type": "display_data"
    },
    {
     "name": "stderr",
     "output_type": "stream",
     "text": [
      "\r",
      "Processing ligands: 223it [00:49,  4.72it/s]"
     ]
    },
    {
     "name": "stdout",
     "output_type": "stream",
     "text": [
      "/media/lmeuret/Seagate Portable Drive/result_docking/DOCKING_project/Conan-main/results_SMINA/DOCKED/ligand803/output44_ligand803_2023-11-22-15_52/best.pdbqt\n",
      "/media/lmeuret/Seagate Portable Drive/result_docking/DOCKING_project/Conan-main/receptors/output44.pdbqt\n"
     ]
    },
    {
     "data": {
      "application/vnd.jupyter.widget-view+json": {
       "model_id": "14cf20e9f9d24b1cb12d06aa994b1989",
       "version_major": 2,
       "version_minor": 0
      },
      "text/plain": [
       "  0%|          | 0/1 [00:00<?, ?it/s]"
      ]
     },
     "metadata": {},
     "output_type": "display_data"
    },
    {
     "name": "stderr",
     "output_type": "stream",
     "text": [
      "\r",
      "Processing ligands: 224it [00:49,  4.87it/s]"
     ]
    },
    {
     "name": "stdout",
     "output_type": "stream",
     "text": [
      "/media/lmeuret/Seagate Portable Drive/result_docking/DOCKING_project/Conan-main/results_SMINA/DOCKED/ligand804/output44_ligand804_2023-11-22-15_52/best.pdbqt\n",
      "/media/lmeuret/Seagate Portable Drive/result_docking/DOCKING_project/Conan-main/receptors/output44.pdbqt\n"
     ]
    },
    {
     "data": {
      "application/vnd.jupyter.widget-view+json": {
       "model_id": "bd8b2942fed9440699dc953f68de81ef",
       "version_major": 2,
       "version_minor": 0
      },
      "text/plain": [
       "  0%|          | 0/1 [00:00<?, ?it/s]"
      ]
     },
     "metadata": {},
     "output_type": "display_data"
    },
    {
     "name": "stderr",
     "output_type": "stream",
     "text": [
      "\r",
      "Processing ligands: 225it [00:49,  4.83it/s]"
     ]
    },
    {
     "name": "stdout",
     "output_type": "stream",
     "text": [
      "/media/lmeuret/Seagate Portable Drive/result_docking/DOCKING_project/Conan-main/results_SMINA/DOCKED/ligand944/output44_ligand944_2023-11-22-15_52/best.pdbqt\n",
      "/media/lmeuret/Seagate Portable Drive/result_docking/DOCKING_project/Conan-main/receptors/output44.pdbqt\n"
     ]
    },
    {
     "data": {
      "application/vnd.jupyter.widget-view+json": {
       "model_id": "1a784254ea8e4fc892a31bfe3a08106a",
       "version_major": 2,
       "version_minor": 0
      },
      "text/plain": [
       "  0%|          | 0/1 [00:00<?, ?it/s]"
      ]
     },
     "metadata": {},
     "output_type": "display_data"
    },
    {
     "name": "stderr",
     "output_type": "stream",
     "text": [
      "\r",
      "Processing ligands: 226it [00:50,  4.91it/s]"
     ]
    },
    {
     "name": "stdout",
     "output_type": "stream",
     "text": [
      "/media/lmeuret/Seagate Portable Drive/result_docking/DOCKING_project/Conan-main/results_SMINA/DOCKED/ligand945/output44_ligand945_2023-11-22-15_52/best.pdbqt\n",
      "/media/lmeuret/Seagate Portable Drive/result_docking/DOCKING_project/Conan-main/receptors/output44.pdbqt\n"
     ]
    },
    {
     "data": {
      "application/vnd.jupyter.widget-view+json": {
       "model_id": "fa5a707eb9074cd5a12a1db570e850a6",
       "version_major": 2,
       "version_minor": 0
      },
      "text/plain": [
       "  0%|          | 0/1 [00:00<?, ?it/s]"
      ]
     },
     "metadata": {},
     "output_type": "display_data"
    },
    {
     "name": "stderr",
     "output_type": "stream",
     "text": [
      "\r",
      "Processing ligands: 227it [00:50,  4.95it/s]"
     ]
    },
    {
     "name": "stdout",
     "output_type": "stream",
     "text": [
      "/media/lmeuret/Seagate Portable Drive/result_docking/DOCKING_project/Conan-main/results_SMINA/DOCKED/ligand946/output44_ligand946_2023-11-22-15_52/best.pdbqt\n",
      "/media/lmeuret/Seagate Portable Drive/result_docking/DOCKING_project/Conan-main/receptors/output44.pdbqt\n"
     ]
    },
    {
     "data": {
      "application/vnd.jupyter.widget-view+json": {
       "model_id": "4438f5807a7043a8bbece7a2a0151ae3",
       "version_major": 2,
       "version_minor": 0
      },
      "text/plain": [
       "  0%|          | 0/1 [00:00<?, ?it/s]"
      ]
     },
     "metadata": {},
     "output_type": "display_data"
    },
    {
     "name": "stderr",
     "output_type": "stream",
     "text": [
      "\r",
      "Processing ligands: 228it [00:50,  4.98it/s]"
     ]
    },
    {
     "name": "stdout",
     "output_type": "stream",
     "text": [
      "/media/lmeuret/Seagate Portable Drive/result_docking/DOCKING_project/Conan-main/results_SMINA/DOCKED/ligand947/output44_ligand947_2023-11-22-15_52/best.pdbqt\n",
      "/media/lmeuret/Seagate Portable Drive/result_docking/DOCKING_project/Conan-main/receptors/output44.pdbqt\n"
     ]
    },
    {
     "data": {
      "application/vnd.jupyter.widget-view+json": {
       "model_id": "08d842cd86fb471b9283edf1a727f2bb",
       "version_major": 2,
       "version_minor": 0
      },
      "text/plain": [
       "  0%|          | 0/1 [00:00<?, ?it/s]"
      ]
     },
     "metadata": {},
     "output_type": "display_data"
    },
    {
     "name": "stderr",
     "output_type": "stream",
     "text": [
      "\r",
      "Processing ligands: 229it [00:50,  5.01it/s]"
     ]
    },
    {
     "name": "stdout",
     "output_type": "stream",
     "text": [
      "/media/lmeuret/Seagate Portable Drive/result_docking/DOCKING_project/Conan-main/results_SMINA/DOCKED/ligand948/output44_ligand948_2023-11-22-15_52/best.pdbqt\n",
      "/media/lmeuret/Seagate Portable Drive/result_docking/DOCKING_project/Conan-main/receptors/output44.pdbqt\n"
     ]
    },
    {
     "data": {
      "application/vnd.jupyter.widget-view+json": {
       "model_id": "5234dbc1949c40d6a9bcfefd48fd278d",
       "version_major": 2,
       "version_minor": 0
      },
      "text/plain": [
       "  0%|          | 0/1 [00:00<?, ?it/s]"
      ]
     },
     "metadata": {},
     "output_type": "display_data"
    },
    {
     "name": "stderr",
     "output_type": "stream",
     "text": [
      "\r",
      "Processing ligands: 230it [00:50,  5.06it/s]"
     ]
    },
    {
     "name": "stdout",
     "output_type": "stream",
     "text": [
      "/media/lmeuret/Seagate Portable Drive/result_docking/DOCKING_project/Conan-main/results_SMINA/DOCKED/ligand949/output44_ligand949_2023-11-22-15_52/best.pdbqt\n",
      "/media/lmeuret/Seagate Portable Drive/result_docking/DOCKING_project/Conan-main/receptors/output44.pdbqt\n"
     ]
    },
    {
     "data": {
      "application/vnd.jupyter.widget-view+json": {
       "model_id": "dcb8b44aa55948db90e15ceb423f5a8b",
       "version_major": 2,
       "version_minor": 0
      },
      "text/plain": [
       "  0%|          | 0/1 [00:00<?, ?it/s]"
      ]
     },
     "metadata": {},
     "output_type": "display_data"
    },
    {
     "name": "stderr",
     "output_type": "stream",
     "text": [
      "\r",
      "Processing ligands: 231it [00:51,  5.02it/s]"
     ]
    },
    {
     "name": "stdout",
     "output_type": "stream",
     "text": [
      "/media/lmeuret/Seagate Portable Drive/result_docking/DOCKING_project/Conan-main/results_SMINA/DOCKED/ligand95/output44_ligand95_2023-11-22-15_52/best.pdbqt\n",
      "/media/lmeuret/Seagate Portable Drive/result_docking/DOCKING_project/Conan-main/receptors/output44.pdbqt\n"
     ]
    },
    {
     "data": {
      "application/vnd.jupyter.widget-view+json": {
       "model_id": "58e51e96980c481b927607b4e1e24201",
       "version_major": 2,
       "version_minor": 0
      },
      "text/plain": [
       "  0%|          | 0/1 [00:00<?, ?it/s]"
      ]
     },
     "metadata": {},
     "output_type": "display_data"
    },
    {
     "name": "stderr",
     "output_type": "stream",
     "text": [
      "\r",
      "Processing ligands: 232it [00:51,  4.86it/s]"
     ]
    },
    {
     "name": "stdout",
     "output_type": "stream",
     "text": [
      "/media/lmeuret/Seagate Portable Drive/result_docking/DOCKING_project/Conan-main/results_SMINA/DOCKED/ligand950/output44_ligand950_2023-11-22-15_52/best.pdbqt\n",
      "/media/lmeuret/Seagate Portable Drive/result_docking/DOCKING_project/Conan-main/receptors/output44.pdbqt\n"
     ]
    },
    {
     "data": {
      "application/vnd.jupyter.widget-view+json": {
       "model_id": "4c2c1eec93084c3087b62053e5bd5cd0",
       "version_major": 2,
       "version_minor": 0
      },
      "text/plain": [
       "  0%|          | 0/1 [00:00<?, ?it/s]"
      ]
     },
     "metadata": {},
     "output_type": "display_data"
    },
    {
     "name": "stderr",
     "output_type": "stream",
     "text": [
      "\r",
      "Processing ligands: 233it [00:51,  4.65it/s]"
     ]
    },
    {
     "name": "stdout",
     "output_type": "stream",
     "text": [
      "/media/lmeuret/Seagate Portable Drive/result_docking/DOCKING_project/Conan-main/results_SMINA/DOCKED/ligand951/output44_ligand951_2023-11-22-15_52/best.pdbqt\n",
      "/media/lmeuret/Seagate Portable Drive/result_docking/DOCKING_project/Conan-main/receptors/output44.pdbqt\n"
     ]
    },
    {
     "data": {
      "application/vnd.jupyter.widget-view+json": {
       "model_id": "baf10c6667f6479c9ec9efc170a238e2",
       "version_major": 2,
       "version_minor": 0
      },
      "text/plain": [
       "  0%|          | 0/1 [00:00<?, ?it/s]"
      ]
     },
     "metadata": {},
     "output_type": "display_data"
    },
    {
     "name": "stderr",
     "output_type": "stream",
     "text": [
      "\r",
      "Processing ligands: 234it [00:51,  4.71it/s]"
     ]
    },
    {
     "name": "stdout",
     "output_type": "stream",
     "text": [
      "/media/lmeuret/Seagate Portable Drive/result_docking/DOCKING_project/Conan-main/results_SMINA/DOCKED/ligand952/output44_ligand952_2023-11-22-15_52/best.pdbqt\n",
      "/media/lmeuret/Seagate Portable Drive/result_docking/DOCKING_project/Conan-main/receptors/output44.pdbqt\n"
     ]
    },
    {
     "data": {
      "application/vnd.jupyter.widget-view+json": {
       "model_id": "da193292906b4f5396de741383b3192f",
       "version_major": 2,
       "version_minor": 0
      },
      "text/plain": [
       "  0%|          | 0/1 [00:00<?, ?it/s]"
      ]
     },
     "metadata": {},
     "output_type": "display_data"
    },
    {
     "name": "stderr",
     "output_type": "stream",
     "text": [
      "\r",
      "Processing ligands: 235it [00:51,  4.72it/s]"
     ]
    },
    {
     "name": "stdout",
     "output_type": "stream",
     "text": [
      "/media/lmeuret/Seagate Portable Drive/result_docking/DOCKING_project/Conan-main/results_SMINA/DOCKED/ligand953/output44_ligand953_2023-11-22-15_52/best.pdbqt\n",
      "/media/lmeuret/Seagate Portable Drive/result_docking/DOCKING_project/Conan-main/receptors/output44.pdbqt\n"
     ]
    },
    {
     "data": {
      "application/vnd.jupyter.widget-view+json": {
       "model_id": "7d14e19707264f858a57df33a234113a",
       "version_major": 2,
       "version_minor": 0
      },
      "text/plain": [
       "  0%|          | 0/1 [00:00<?, ?it/s]"
      ]
     },
     "metadata": {},
     "output_type": "display_data"
    },
    {
     "name": "stderr",
     "output_type": "stream",
     "text": [
      "\r",
      "Processing ligands: 236it [00:52,  4.75it/s]"
     ]
    },
    {
     "name": "stdout",
     "output_type": "stream",
     "text": [
      "/media/lmeuret/Seagate Portable Drive/result_docking/DOCKING_project/Conan-main/results_SMINA/DOCKED/ligand954/output44_ligand954_2023-11-22-15_52/best.pdbqt\n",
      "/media/lmeuret/Seagate Portable Drive/result_docking/DOCKING_project/Conan-main/receptors/output44.pdbqt\n"
     ]
    },
    {
     "data": {
      "application/vnd.jupyter.widget-view+json": {
       "model_id": "c60db9c500a148bfaf30bf5f1c7e7a8e",
       "version_major": 2,
       "version_minor": 0
      },
      "text/plain": [
       "  0%|          | 0/1 [00:00<?, ?it/s]"
      ]
     },
     "metadata": {},
     "output_type": "display_data"
    },
    {
     "name": "stderr",
     "output_type": "stream",
     "text": [
      "\r",
      "Processing ligands: 237it [00:52,  4.70it/s]"
     ]
    },
    {
     "name": "stdout",
     "output_type": "stream",
     "text": [
      "/media/lmeuret/Seagate Portable Drive/result_docking/DOCKING_project/Conan-main/results_SMINA/DOCKED/ligand955/output44_ligand955_2023-11-22-15_52/best.pdbqt\n",
      "/media/lmeuret/Seagate Portable Drive/result_docking/DOCKING_project/Conan-main/receptors/output44.pdbqt\n"
     ]
    },
    {
     "data": {
      "application/vnd.jupyter.widget-view+json": {
       "model_id": "1cb65a41e55f4e35ac8787952207c79b",
       "version_major": 2,
       "version_minor": 0
      },
      "text/plain": [
       "  0%|          | 0/1 [00:00<?, ?it/s]"
      ]
     },
     "metadata": {},
     "output_type": "display_data"
    },
    {
     "name": "stderr",
     "output_type": "stream",
     "text": [
      "\r",
      "Processing ligands: 238it [00:52,  4.80it/s]"
     ]
    },
    {
     "name": "stdout",
     "output_type": "stream",
     "text": [
      "/media/lmeuret/Seagate Portable Drive/result_docking/DOCKING_project/Conan-main/results_SMINA/DOCKED/ligand956/output44_ligand956_2023-11-22-15_52/best.pdbqt\n",
      "/media/lmeuret/Seagate Portable Drive/result_docking/DOCKING_project/Conan-main/receptors/output44.pdbqt\n"
     ]
    },
    {
     "data": {
      "application/vnd.jupyter.widget-view+json": {
       "model_id": "fe48b8001e5f4574b1fd50cdb5105865",
       "version_major": 2,
       "version_minor": 0
      },
      "text/plain": [
       "  0%|          | 0/1 [00:00<?, ?it/s]"
      ]
     },
     "metadata": {},
     "output_type": "display_data"
    },
    {
     "name": "stderr",
     "output_type": "stream",
     "text": [
      "\r",
      "Processing ligands: 239it [00:52,  4.86it/s]"
     ]
    },
    {
     "name": "stdout",
     "output_type": "stream",
     "text": [
      "/media/lmeuret/Seagate Portable Drive/result_docking/DOCKING_project/Conan-main/results_SMINA/DOCKED/ligand957/output44_ligand957_2023-11-22-15_52/best.pdbqt\n",
      "/media/lmeuret/Seagate Portable Drive/result_docking/DOCKING_project/Conan-main/receptors/output44.pdbqt\n"
     ]
    },
    {
     "data": {
      "application/vnd.jupyter.widget-view+json": {
       "model_id": "7d5e2f808bc64dab88c66b01da9b0d4b",
       "version_major": 2,
       "version_minor": 0
      },
      "text/plain": [
       "  0%|          | 0/1 [00:00<?, ?it/s]"
      ]
     },
     "metadata": {},
     "output_type": "display_data"
    },
    {
     "name": "stderr",
     "output_type": "stream",
     "text": [
      "\r",
      "Processing ligands: 240it [00:52,  4.81it/s]"
     ]
    },
    {
     "name": "stdout",
     "output_type": "stream",
     "text": [
      "/media/lmeuret/Seagate Portable Drive/result_docking/DOCKING_project/Conan-main/results_SMINA/DOCKED/ligand958/output44_ligand958_2023-11-22-15_52/best.pdbqt\n",
      "/media/lmeuret/Seagate Portable Drive/result_docking/DOCKING_project/Conan-main/receptors/output44.pdbqt\n"
     ]
    },
    {
     "data": {
      "application/vnd.jupyter.widget-view+json": {
       "model_id": "3fb2aaa65b15489b81e597604b85310f",
       "version_major": 2,
       "version_minor": 0
      },
      "text/plain": [
       "  0%|          | 0/1 [00:00<?, ?it/s]"
      ]
     },
     "metadata": {},
     "output_type": "display_data"
    },
    {
     "name": "stderr",
     "output_type": "stream",
     "text": [
      "\r",
      "Processing ligands: 241it [00:53,  4.74it/s]"
     ]
    },
    {
     "name": "stdout",
     "output_type": "stream",
     "text": [
      "/media/lmeuret/Seagate Portable Drive/result_docking/DOCKING_project/Conan-main/results_SMINA/DOCKED/ligand959/output44_ligand959_2023-11-22-15_52/best.pdbqt\n",
      "/media/lmeuret/Seagate Portable Drive/result_docking/DOCKING_project/Conan-main/receptors/output44.pdbqt\n"
     ]
    },
    {
     "data": {
      "application/vnd.jupyter.widget-view+json": {
       "model_id": "ddc9827c2cea4926b874672abee27e41",
       "version_major": 2,
       "version_minor": 0
      },
      "text/plain": [
       "  0%|          | 0/1 [00:00<?, ?it/s]"
      ]
     },
     "metadata": {},
     "output_type": "display_data"
    },
    {
     "name": "stderr",
     "output_type": "stream",
     "text": [
      "\r",
      "Processing ligands: 242it [00:53,  4.82it/s]"
     ]
    },
    {
     "name": "stdout",
     "output_type": "stream",
     "text": [
      "/media/lmeuret/Seagate Portable Drive/result_docking/DOCKING_project/Conan-main/results_SMINA/DOCKED/ligand96/output44_ligand96_2023-11-22-15_52/best.pdbqt\n",
      "/media/lmeuret/Seagate Portable Drive/result_docking/DOCKING_project/Conan-main/receptors/output44.pdbqt\n"
     ]
    },
    {
     "data": {
      "application/vnd.jupyter.widget-view+json": {
       "model_id": "84d28f17c4974eddacc4627988f099d0",
       "version_major": 2,
       "version_minor": 0
      },
      "text/plain": [
       "  0%|          | 0/1 [00:00<?, ?it/s]"
      ]
     },
     "metadata": {},
     "output_type": "display_data"
    },
    {
     "name": "stderr",
     "output_type": "stream",
     "text": [
      "\r",
      "Processing ligands: 243it [00:53,  4.86it/s]"
     ]
    },
    {
     "name": "stdout",
     "output_type": "stream",
     "text": [
      "/media/lmeuret/Seagate Portable Drive/result_docking/DOCKING_project/Conan-main/results_SMINA/DOCKED/ligand960/output44_ligand960_2023-11-22-15_52/best.pdbqt\n",
      "/media/lmeuret/Seagate Portable Drive/result_docking/DOCKING_project/Conan-main/receptors/output44.pdbqt\n"
     ]
    },
    {
     "data": {
      "application/vnd.jupyter.widget-view+json": {
       "model_id": "78941e25f047476da8b630b194240b0c",
       "version_major": 2,
       "version_minor": 0
      },
      "text/plain": [
       "  0%|          | 0/1 [00:00<?, ?it/s]"
      ]
     },
     "metadata": {},
     "output_type": "display_data"
    },
    {
     "name": "stderr",
     "output_type": "stream",
     "text": [
      "\r",
      "Processing ligands: 244it [00:53,  4.80it/s]"
     ]
    },
    {
     "name": "stdout",
     "output_type": "stream",
     "text": [
      "/media/lmeuret/Seagate Portable Drive/result_docking/DOCKING_project/Conan-main/results_SMINA/DOCKED/ligand961/output44_ligand961_2023-11-22-15_52/best.pdbqt\n",
      "/media/lmeuret/Seagate Portable Drive/result_docking/DOCKING_project/Conan-main/receptors/output44.pdbqt\n"
     ]
    },
    {
     "data": {
      "application/vnd.jupyter.widget-view+json": {
       "model_id": "95f27576a5384734847b5cfba86e1f5f",
       "version_major": 2,
       "version_minor": 0
      },
      "text/plain": [
       "  0%|          | 0/1 [00:00<?, ?it/s]"
      ]
     },
     "metadata": {},
     "output_type": "display_data"
    },
    {
     "name": "stderr",
     "output_type": "stream",
     "text": [
      "\r",
      "Processing ligands: 245it [00:53,  4.84it/s]"
     ]
    },
    {
     "name": "stdout",
     "output_type": "stream",
     "text": [
      "/media/lmeuret/Seagate Portable Drive/result_docking/DOCKING_project/Conan-main/results_SMINA/DOCKED/ligand962/output44_ligand962_2023-11-22-15_52/best.pdbqt\n",
      "/media/lmeuret/Seagate Portable Drive/result_docking/DOCKING_project/Conan-main/receptors/output44.pdbqt\n"
     ]
    },
    {
     "data": {
      "application/vnd.jupyter.widget-view+json": {
       "model_id": "4d191230df944a08846fc0739f3d0c67",
       "version_major": 2,
       "version_minor": 0
      },
      "text/plain": [
       "  0%|          | 0/1 [00:00<?, ?it/s]"
      ]
     },
     "metadata": {},
     "output_type": "display_data"
    },
    {
     "name": "stderr",
     "output_type": "stream",
     "text": [
      "\r",
      "Processing ligands: 246it [00:54,  4.77it/s]"
     ]
    },
    {
     "name": "stdout",
     "output_type": "stream",
     "text": [
      "/media/lmeuret/Seagate Portable Drive/result_docking/DOCKING_project/Conan-main/results_SMINA/DOCKED/ligand963/output44_ligand963_2023-11-22-15_52/best.pdbqt\n",
      "/media/lmeuret/Seagate Portable Drive/result_docking/DOCKING_project/Conan-main/receptors/output44.pdbqt\n"
     ]
    },
    {
     "data": {
      "application/vnd.jupyter.widget-view+json": {
       "model_id": "aaaa3a906c00449496004fb46c15e4c2",
       "version_major": 2,
       "version_minor": 0
      },
      "text/plain": [
       "  0%|          | 0/1 [00:00<?, ?it/s]"
      ]
     },
     "metadata": {},
     "output_type": "display_data"
    },
    {
     "name": "stderr",
     "output_type": "stream",
     "text": [
      "\r",
      "Processing ligands: 247it [00:54,  4.69it/s]"
     ]
    },
    {
     "name": "stdout",
     "output_type": "stream",
     "text": [
      "/media/lmeuret/Seagate Portable Drive/result_docking/DOCKING_project/Conan-main/results_SMINA/DOCKED/ligand964/output44_ligand964_2023-11-22-15_52/best.pdbqt\n",
      "/media/lmeuret/Seagate Portable Drive/result_docking/DOCKING_project/Conan-main/receptors/output44.pdbqt\n"
     ]
    },
    {
     "data": {
      "application/vnd.jupyter.widget-view+json": {
       "model_id": "54d9fe628e8146db8915b2aea5fcb984",
       "version_major": 2,
       "version_minor": 0
      },
      "text/plain": [
       "  0%|          | 0/1 [00:00<?, ?it/s]"
      ]
     },
     "metadata": {},
     "output_type": "display_data"
    },
    {
     "name": "stderr",
     "output_type": "stream",
     "text": [
      "\r",
      "Processing ligands: 248it [00:54,  4.55it/s]"
     ]
    },
    {
     "name": "stdout",
     "output_type": "stream",
     "text": [
      "/media/lmeuret/Seagate Portable Drive/result_docking/DOCKING_project/Conan-main/results_SMINA/DOCKED/ligand965/output44_ligand965_2023-11-22-15_52/best.pdbqt\n",
      "/media/lmeuret/Seagate Portable Drive/result_docking/DOCKING_project/Conan-main/receptors/output44.pdbqt\n"
     ]
    },
    {
     "data": {
      "application/vnd.jupyter.widget-view+json": {
       "model_id": "a613494294ad41cf943016750527ab6a",
       "version_major": 2,
       "version_minor": 0
      },
      "text/plain": [
       "  0%|          | 0/1 [00:00<?, ?it/s]"
      ]
     },
     "metadata": {},
     "output_type": "display_data"
    },
    {
     "name": "stderr",
     "output_type": "stream",
     "text": [
      "\r",
      "Processing ligands: 249it [00:54,  4.48it/s]"
     ]
    },
    {
     "name": "stdout",
     "output_type": "stream",
     "text": [
      "/media/lmeuret/Seagate Portable Drive/result_docking/DOCKING_project/Conan-main/results_SMINA/DOCKED/ligand966/output44_ligand966_2023-11-22-15_52/best.pdbqt\n",
      "/media/lmeuret/Seagate Portable Drive/result_docking/DOCKING_project/Conan-main/receptors/output44.pdbqt\n"
     ]
    },
    {
     "data": {
      "application/vnd.jupyter.widget-view+json": {
       "model_id": "5611c926234d4838a2e8edee83bbf21a",
       "version_major": 2,
       "version_minor": 0
      },
      "text/plain": [
       "  0%|          | 0/1 [00:00<?, ?it/s]"
      ]
     },
     "metadata": {},
     "output_type": "display_data"
    },
    {
     "name": "stderr",
     "output_type": "stream",
     "text": [
      "\r",
      "Processing ligands: 250it [00:55,  4.63it/s]"
     ]
    },
    {
     "name": "stdout",
     "output_type": "stream",
     "text": [
      "/media/lmeuret/Seagate Portable Drive/result_docking/DOCKING_project/Conan-main/results_SMINA/DOCKED/ligand967/output44_ligand967_2023-11-22-15_52/best.pdbqt\n",
      "/media/lmeuret/Seagate Portable Drive/result_docking/DOCKING_project/Conan-main/receptors/output44.pdbqt\n"
     ]
    },
    {
     "data": {
      "application/vnd.jupyter.widget-view+json": {
       "model_id": "05fcbf72828047bb984d550297c77cc4",
       "version_major": 2,
       "version_minor": 0
      },
      "text/plain": [
       "  0%|          | 0/1 [00:00<?, ?it/s]"
      ]
     },
     "metadata": {},
     "output_type": "display_data"
    },
    {
     "name": "stderr",
     "output_type": "stream",
     "text": [
      "\r",
      "Processing ligands: 251it [00:55,  4.73it/s]"
     ]
    },
    {
     "name": "stdout",
     "output_type": "stream",
     "text": [
      "/media/lmeuret/Seagate Portable Drive/result_docking/DOCKING_project/Conan-main/results_SMINA/DOCKED/ligand968/output44_ligand968_2023-11-22-15_52/best.pdbqt\n",
      "/media/lmeuret/Seagate Portable Drive/result_docking/DOCKING_project/Conan-main/receptors/output44.pdbqt\n"
     ]
    },
    {
     "data": {
      "application/vnd.jupyter.widget-view+json": {
       "model_id": "33b0508278ea4417b7951299b17c094f",
       "version_major": 2,
       "version_minor": 0
      },
      "text/plain": [
       "  0%|          | 0/1 [00:00<?, ?it/s]"
      ]
     },
     "metadata": {},
     "output_type": "display_data"
    },
    {
     "name": "stderr",
     "output_type": "stream",
     "text": [
      "\r",
      "Processing ligands: 252it [00:55,  4.80it/s]"
     ]
    },
    {
     "name": "stdout",
     "output_type": "stream",
     "text": [
      "/media/lmeuret/Seagate Portable Drive/result_docking/DOCKING_project/Conan-main/results_SMINA/DOCKED/ligand969/output44_ligand969_2023-11-22-15_52/best.pdbqt\n",
      "/media/lmeuret/Seagate Portable Drive/result_docking/DOCKING_project/Conan-main/receptors/output44.pdbqt\n"
     ]
    },
    {
     "data": {
      "application/vnd.jupyter.widget-view+json": {
       "model_id": "15c7aa5b6aa3466388e129bb0e9f1e4e",
       "version_major": 2,
       "version_minor": 0
      },
      "text/plain": [
       "  0%|          | 0/1 [00:00<?, ?it/s]"
      ]
     },
     "metadata": {},
     "output_type": "display_data"
    },
    {
     "name": "stderr",
     "output_type": "stream",
     "text": [
      "\r",
      "Processing ligands: 253it [00:55,  4.80it/s]"
     ]
    },
    {
     "name": "stdout",
     "output_type": "stream",
     "text": [
      "/media/lmeuret/Seagate Portable Drive/result_docking/DOCKING_project/Conan-main/results_SMINA/DOCKED/ligand97/output44_ligand97_2023-11-22-15_52/best.pdbqt\n",
      "/media/lmeuret/Seagate Portable Drive/result_docking/DOCKING_project/Conan-main/receptors/output44.pdbqt\n"
     ]
    },
    {
     "data": {
      "application/vnd.jupyter.widget-view+json": {
       "model_id": "a4f50071caea4d02ad3d977171186fdd",
       "version_major": 2,
       "version_minor": 0
      },
      "text/plain": [
       "  0%|          | 0/1 [00:00<?, ?it/s]"
      ]
     },
     "metadata": {},
     "output_type": "display_data"
    },
    {
     "name": "stderr",
     "output_type": "stream",
     "text": [
      "\r",
      "Processing ligands: 254it [00:55,  4.84it/s]"
     ]
    },
    {
     "name": "stdout",
     "output_type": "stream",
     "text": [
      "/media/lmeuret/Seagate Portable Drive/result_docking/DOCKING_project/Conan-main/results_SMINA/DOCKED/ligand970/output44_ligand970_2023-11-22-15_52/best.pdbqt\n",
      "/media/lmeuret/Seagate Portable Drive/result_docking/DOCKING_project/Conan-main/receptors/output44.pdbqt\n"
     ]
    },
    {
     "data": {
      "application/vnd.jupyter.widget-view+json": {
       "model_id": "8e326e9b3cab449595f8a03bd94eafb7",
       "version_major": 2,
       "version_minor": 0
      },
      "text/plain": [
       "  0%|          | 0/1 [00:00<?, ?it/s]"
      ]
     },
     "metadata": {},
     "output_type": "display_data"
    },
    {
     "name": "stderr",
     "output_type": "stream",
     "text": [
      "\r",
      "Processing ligands: 255it [00:56,  4.92it/s]"
     ]
    },
    {
     "name": "stdout",
     "output_type": "stream",
     "text": [
      "/media/lmeuret/Seagate Portable Drive/result_docking/DOCKING_project/Conan-main/results_SMINA/DOCKED/ligand570/output44_ligand570_2023-11-22-15_52/best.pdbqt\n",
      "/media/lmeuret/Seagate Portable Drive/result_docking/DOCKING_project/Conan-main/receptors/output44.pdbqt\n"
     ]
    },
    {
     "data": {
      "application/vnd.jupyter.widget-view+json": {
       "model_id": "e961ef8aa4d1484385a0dbdb348b948e",
       "version_major": 2,
       "version_minor": 0
      },
      "text/plain": [
       "  0%|          | 0/1 [00:00<?, ?it/s]"
      ]
     },
     "metadata": {},
     "output_type": "display_data"
    },
    {
     "name": "stderr",
     "output_type": "stream",
     "text": [
      "\r",
      "Processing ligands: 256it [00:56,  4.89it/s]"
     ]
    },
    {
     "name": "stdout",
     "output_type": "stream",
     "text": [
      "/media/lmeuret/Seagate Portable Drive/result_docking/DOCKING_project/Conan-main/results_SMINA/DOCKED/ligand571/output44_ligand571_2023-11-22-15_52/best.pdbqt\n",
      "/media/lmeuret/Seagate Portable Drive/result_docking/DOCKING_project/Conan-main/receptors/output44.pdbqt\n"
     ]
    },
    {
     "data": {
      "application/vnd.jupyter.widget-view+json": {
       "model_id": "2e694879dd294c09b45983aa88dc79c7",
       "version_major": 2,
       "version_minor": 0
      },
      "text/plain": [
       "  0%|          | 0/1 [00:00<?, ?it/s]"
      ]
     },
     "metadata": {},
     "output_type": "display_data"
    },
    {
     "name": "stderr",
     "output_type": "stream",
     "text": [
      "\r",
      "Processing ligands: 257it [00:56,  4.85it/s]"
     ]
    },
    {
     "name": "stdout",
     "output_type": "stream",
     "text": [
      "/media/lmeuret/Seagate Portable Drive/result_docking/DOCKING_project/Conan-main/results_SMINA/DOCKED/ligand572/output44_ligand572_2023-11-22-15_52/best.pdbqt\n",
      "/media/lmeuret/Seagate Portable Drive/result_docking/DOCKING_project/Conan-main/receptors/output44.pdbqt\n"
     ]
    },
    {
     "data": {
      "application/vnd.jupyter.widget-view+json": {
       "model_id": "cbd9a47622a9454292b568742e6f25b0",
       "version_major": 2,
       "version_minor": 0
      },
      "text/plain": [
       "  0%|          | 0/1 [00:00<?, ?it/s]"
      ]
     },
     "metadata": {},
     "output_type": "display_data"
    },
    {
     "name": "stderr",
     "output_type": "stream",
     "text": [
      "\r",
      "Processing ligands: 258it [00:56,  4.66it/s]"
     ]
    },
    {
     "name": "stdout",
     "output_type": "stream",
     "text": [
      "/media/lmeuret/Seagate Portable Drive/result_docking/DOCKING_project/Conan-main/results_SMINA/DOCKED/ligand573/output44_ligand573_2023-11-22-15_52/best.pdbqt\n",
      "/media/lmeuret/Seagate Portable Drive/result_docking/DOCKING_project/Conan-main/receptors/output44.pdbqt\n"
     ]
    },
    {
     "data": {
      "application/vnd.jupyter.widget-view+json": {
       "model_id": "683fac54acf84f44ade03229c2e5569f",
       "version_major": 2,
       "version_minor": 0
      },
      "text/plain": [
       "  0%|          | 0/1 [00:00<?, ?it/s]"
      ]
     },
     "metadata": {},
     "output_type": "display_data"
    },
    {
     "name": "stderr",
     "output_type": "stream",
     "text": [
      "\r",
      "Processing ligands: 259it [00:56,  4.63it/s]"
     ]
    },
    {
     "name": "stdout",
     "output_type": "stream",
     "text": [
      "/media/lmeuret/Seagate Portable Drive/result_docking/DOCKING_project/Conan-main/results_SMINA/DOCKED/ligand574/output44_ligand574_2023-11-22-15_52/best.pdbqt\n",
      "/media/lmeuret/Seagate Portable Drive/result_docking/DOCKING_project/Conan-main/receptors/output44.pdbqt\n"
     ]
    },
    {
     "data": {
      "application/vnd.jupyter.widget-view+json": {
       "model_id": "1d068d3edeee46a8bbddd3d343f21fac",
       "version_major": 2,
       "version_minor": 0
      },
      "text/plain": [
       "  0%|          | 0/1 [00:00<?, ?it/s]"
      ]
     },
     "metadata": {},
     "output_type": "display_data"
    },
    {
     "name": "stderr",
     "output_type": "stream",
     "text": [
      "\r",
      "Processing ligands: 260it [00:57,  4.62it/s]"
     ]
    },
    {
     "name": "stdout",
     "output_type": "stream",
     "text": [
      "/media/lmeuret/Seagate Portable Drive/result_docking/DOCKING_project/Conan-main/results_SMINA/DOCKED/ligand575/output44_ligand575_2023-11-22-15_52/best.pdbqt\n",
      "/media/lmeuret/Seagate Portable Drive/result_docking/DOCKING_project/Conan-main/receptors/output44.pdbqt\n"
     ]
    },
    {
     "data": {
      "application/vnd.jupyter.widget-view+json": {
       "model_id": "64f59722dfd9461fa95ec8b18dbb2f8d",
       "version_major": 2,
       "version_minor": 0
      },
      "text/plain": [
       "  0%|          | 0/1 [00:00<?, ?it/s]"
      ]
     },
     "metadata": {},
     "output_type": "display_data"
    },
    {
     "name": "stderr",
     "output_type": "stream",
     "text": [
      "\r",
      "Processing ligands: 261it [00:57,  4.72it/s]"
     ]
    },
    {
     "name": "stdout",
     "output_type": "stream",
     "text": [
      "/media/lmeuret/Seagate Portable Drive/result_docking/DOCKING_project/Conan-main/results_SMINA/DOCKED/ligand576/output44_ligand576_2023-11-22-15_52/best.pdbqt\n",
      "/media/lmeuret/Seagate Portable Drive/result_docking/DOCKING_project/Conan-main/receptors/output44.pdbqt\n"
     ]
    },
    {
     "data": {
      "application/vnd.jupyter.widget-view+json": {
       "model_id": "5c92a30e967c4d56968b00ecd8862c3d",
       "version_major": 2,
       "version_minor": 0
      },
      "text/plain": [
       "  0%|          | 0/1 [00:00<?, ?it/s]"
      ]
     },
     "metadata": {},
     "output_type": "display_data"
    },
    {
     "name": "stderr",
     "output_type": "stream",
     "text": [
      "\r",
      "Processing ligands: 262it [00:57,  4.40it/s]"
     ]
    },
    {
     "name": "stdout",
     "output_type": "stream",
     "text": [
      "/media/lmeuret/Seagate Portable Drive/result_docking/DOCKING_project/Conan-main/results_SMINA/DOCKED/ligand577/output44_ligand577_2023-11-22-15_52/best.pdbqt\n",
      "/media/lmeuret/Seagate Portable Drive/result_docking/DOCKING_project/Conan-main/receptors/output44.pdbqt\n"
     ]
    },
    {
     "data": {
      "application/vnd.jupyter.widget-view+json": {
       "model_id": "f5b231ffdf5f4a77baf463a714e00bd7",
       "version_major": 2,
       "version_minor": 0
      },
      "text/plain": [
       "  0%|          | 0/1 [00:00<?, ?it/s]"
      ]
     },
     "metadata": {},
     "output_type": "display_data"
    },
    {
     "name": "stderr",
     "output_type": "stream",
     "text": [
      "\r",
      "Processing ligands: 263it [00:57,  4.39it/s]"
     ]
    },
    {
     "name": "stdout",
     "output_type": "stream",
     "text": [
      "/media/lmeuret/Seagate Portable Drive/result_docking/DOCKING_project/Conan-main/results_SMINA/DOCKED/ligand578/output44_ligand578_2023-11-22-15_52/best.pdbqt\n",
      "/media/lmeuret/Seagate Portable Drive/result_docking/DOCKING_project/Conan-main/receptors/output44.pdbqt\n"
     ]
    },
    {
     "data": {
      "application/vnd.jupyter.widget-view+json": {
       "model_id": "66eb47fc64234113833ea8c6ba5cb86a",
       "version_major": 2,
       "version_minor": 0
      },
      "text/plain": [
       "  0%|          | 0/1 [00:00<?, ?it/s]"
      ]
     },
     "metadata": {},
     "output_type": "display_data"
    },
    {
     "name": "stderr",
     "output_type": "stream",
     "text": [
      "\r",
      "Processing ligands: 264it [00:58,  4.49it/s]"
     ]
    },
    {
     "name": "stdout",
     "output_type": "stream",
     "text": [
      "/media/lmeuret/Seagate Portable Drive/result_docking/DOCKING_project/Conan-main/results_SMINA/DOCKED/ligand579/output44_ligand579_2023-11-22-15_52/best.pdbqt\n",
      "/media/lmeuret/Seagate Portable Drive/result_docking/DOCKING_project/Conan-main/receptors/output44.pdbqt\n"
     ]
    },
    {
     "data": {
      "application/vnd.jupyter.widget-view+json": {
       "model_id": "bed4fc124fbc44efaadabc1d064aec3e",
       "version_major": 2,
       "version_minor": 0
      },
      "text/plain": [
       "  0%|          | 0/1 [00:00<?, ?it/s]"
      ]
     },
     "metadata": {},
     "output_type": "display_data"
    },
    {
     "name": "stderr",
     "output_type": "stream",
     "text": [
      "\r",
      "Processing ligands: 265it [00:58,  4.65it/s]"
     ]
    },
    {
     "name": "stdout",
     "output_type": "stream",
     "text": [
      "/media/lmeuret/Seagate Portable Drive/result_docking/DOCKING_project/Conan-main/results_SMINA/DOCKED/ligand58/output44_ligand58_2023-11-22-15_52/best.pdbqt\n",
      "/media/lmeuret/Seagate Portable Drive/result_docking/DOCKING_project/Conan-main/receptors/output44.pdbqt\n"
     ]
    },
    {
     "data": {
      "application/vnd.jupyter.widget-view+json": {
       "model_id": "3047871df8dd499d8ca2bd805fef46b0",
       "version_major": 2,
       "version_minor": 0
      },
      "text/plain": [
       "  0%|          | 0/1 [00:00<?, ?it/s]"
      ]
     },
     "metadata": {},
     "output_type": "display_data"
    },
    {
     "name": "stderr",
     "output_type": "stream",
     "text": [
      "\r",
      "Processing ligands: 266it [00:58,  4.66it/s]"
     ]
    },
    {
     "name": "stdout",
     "output_type": "stream",
     "text": [
      "/media/lmeuret/Seagate Portable Drive/result_docking/DOCKING_project/Conan-main/results_SMINA/DOCKED/ligand580/output44_ligand580_2023-11-22-15_52/best.pdbqt\n",
      "/media/lmeuret/Seagate Portable Drive/result_docking/DOCKING_project/Conan-main/receptors/output44.pdbqt\n"
     ]
    },
    {
     "data": {
      "application/vnd.jupyter.widget-view+json": {
       "model_id": "a10282090a1740aeb3610d686fffe4c4",
       "version_major": 2,
       "version_minor": 0
      },
      "text/plain": [
       "  0%|          | 0/1 [00:00<?, ?it/s]"
      ]
     },
     "metadata": {},
     "output_type": "display_data"
    },
    {
     "name": "stderr",
     "output_type": "stream",
     "text": [
      "\r",
      "Processing ligands: 267it [00:58,  4.72it/s]"
     ]
    },
    {
     "name": "stdout",
     "output_type": "stream",
     "text": [
      "/media/lmeuret/Seagate Portable Drive/result_docking/DOCKING_project/Conan-main/results_SMINA/DOCKED/ligand581/output44_ligand581_2023-11-22-15_52/best.pdbqt\n",
      "/media/lmeuret/Seagate Portable Drive/result_docking/DOCKING_project/Conan-main/receptors/output44.pdbqt\n"
     ]
    },
    {
     "data": {
      "application/vnd.jupyter.widget-view+json": {
       "model_id": "639be9e7a14a469fada26e4bd1da4819",
       "version_major": 2,
       "version_minor": 0
      },
      "text/plain": [
       "  0%|          | 0/1 [00:00<?, ?it/s]"
      ]
     },
     "metadata": {},
     "output_type": "display_data"
    },
    {
     "name": "stderr",
     "output_type": "stream",
     "text": [
      "\r",
      "Processing ligands: 268it [00:58,  4.75it/s]"
     ]
    },
    {
     "name": "stdout",
     "output_type": "stream",
     "text": [
      "/media/lmeuret/Seagate Portable Drive/result_docking/DOCKING_project/Conan-main/results_SMINA/DOCKED/ligand582/output44_ligand582_2023-11-22-15_52/best.pdbqt\n",
      "/media/lmeuret/Seagate Portable Drive/result_docking/DOCKING_project/Conan-main/receptors/output44.pdbqt\n"
     ]
    },
    {
     "data": {
      "application/vnd.jupyter.widget-view+json": {
       "model_id": "370b72e6e9d64feda46f86b2ea01d7a3",
       "version_major": 2,
       "version_minor": 0
      },
      "text/plain": [
       "  0%|          | 0/1 [00:00<?, ?it/s]"
      ]
     },
     "metadata": {},
     "output_type": "display_data"
    },
    {
     "name": "stderr",
     "output_type": "stream",
     "text": [
      "\r",
      "Processing ligands: 269it [00:59,  4.78it/s]"
     ]
    },
    {
     "name": "stdout",
     "output_type": "stream",
     "text": [
      "/media/lmeuret/Seagate Portable Drive/result_docking/DOCKING_project/Conan-main/results_SMINA/DOCKED/ligand583/output44_ligand583_2023-11-22-15_52/best.pdbqt\n",
      "/media/lmeuret/Seagate Portable Drive/result_docking/DOCKING_project/Conan-main/receptors/output44.pdbqt\n"
     ]
    },
    {
     "data": {
      "application/vnd.jupyter.widget-view+json": {
       "model_id": "bb2a6da7ea384c68add43653a131bf54",
       "version_major": 2,
       "version_minor": 0
      },
      "text/plain": [
       "  0%|          | 0/1 [00:00<?, ?it/s]"
      ]
     },
     "metadata": {},
     "output_type": "display_data"
    },
    {
     "name": "stderr",
     "output_type": "stream",
     "text": [
      "\r",
      "Processing ligands: 270it [00:59,  4.54it/s]"
     ]
    },
    {
     "name": "stdout",
     "output_type": "stream",
     "text": [
      "/media/lmeuret/Seagate Portable Drive/result_docking/DOCKING_project/Conan-main/results_SMINA/DOCKED/ligand584/output44_ligand584_2023-11-22-15_52/best.pdbqt\n",
      "/media/lmeuret/Seagate Portable Drive/result_docking/DOCKING_project/Conan-main/receptors/output44.pdbqt\n"
     ]
    },
    {
     "data": {
      "application/vnd.jupyter.widget-view+json": {
       "model_id": "6878fb6246a0446fa5985e3c5eac3cc6",
       "version_major": 2,
       "version_minor": 0
      },
      "text/plain": [
       "  0%|          | 0/1 [00:00<?, ?it/s]"
      ]
     },
     "metadata": {},
     "output_type": "display_data"
    },
    {
     "name": "stderr",
     "output_type": "stream",
     "text": [
      "\r",
      "Processing ligands: 271it [00:59,  4.64it/s]"
     ]
    },
    {
     "name": "stdout",
     "output_type": "stream",
     "text": [
      "/media/lmeuret/Seagate Portable Drive/result_docking/DOCKING_project/Conan-main/results_SMINA/DOCKED/ligand585/output44_ligand585_2023-11-22-15_52/best.pdbqt\n",
      "/media/lmeuret/Seagate Portable Drive/result_docking/DOCKING_project/Conan-main/receptors/output44.pdbqt\n"
     ]
    },
    {
     "data": {
      "application/vnd.jupyter.widget-view+json": {
       "model_id": "7d9c13eeb736463ba10969eedc957b85",
       "version_major": 2,
       "version_minor": 0
      },
      "text/plain": [
       "  0%|          | 0/1 [00:00<?, ?it/s]"
      ]
     },
     "metadata": {},
     "output_type": "display_data"
    },
    {
     "name": "stderr",
     "output_type": "stream",
     "text": [
      "\r",
      "Processing ligands: 272it [00:59,  4.60it/s]"
     ]
    },
    {
     "name": "stdout",
     "output_type": "stream",
     "text": [
      "/media/lmeuret/Seagate Portable Drive/result_docking/DOCKING_project/Conan-main/results_SMINA/DOCKED/ligand586/output44_ligand586_2023-11-22-15_52/best.pdbqt\n",
      "/media/lmeuret/Seagate Portable Drive/result_docking/DOCKING_project/Conan-main/receptors/output44.pdbqt\n"
     ]
    },
    {
     "data": {
      "application/vnd.jupyter.widget-view+json": {
       "model_id": "478984d914894fb3a61240010fbcac6a",
       "version_major": 2,
       "version_minor": 0
      },
      "text/plain": [
       "  0%|          | 0/1 [00:00<?, ?it/s]"
      ]
     },
     "metadata": {},
     "output_type": "display_data"
    },
    {
     "name": "stderr",
     "output_type": "stream",
     "text": [
      "\r",
      "Processing ligands: 273it [00:59,  4.74it/s]"
     ]
    },
    {
     "name": "stdout",
     "output_type": "stream",
     "text": [
      "/media/lmeuret/Seagate Portable Drive/result_docking/DOCKING_project/Conan-main/results_SMINA/DOCKED/ligand587/output44_ligand587_2023-11-22-15_52/best.pdbqt\n",
      "/media/lmeuret/Seagate Portable Drive/result_docking/DOCKING_project/Conan-main/receptors/output44.pdbqt\n"
     ]
    },
    {
     "data": {
      "application/vnd.jupyter.widget-view+json": {
       "model_id": "e48b9a1b45264101b23cb6ac5baea949",
       "version_major": 2,
       "version_minor": 0
      },
      "text/plain": [
       "  0%|          | 0/1 [00:00<?, ?it/s]"
      ]
     },
     "metadata": {},
     "output_type": "display_data"
    },
    {
     "name": "stderr",
     "output_type": "stream",
     "text": [
      "\r",
      "Processing ligands: 274it [01:00,  4.70it/s]"
     ]
    },
    {
     "name": "stdout",
     "output_type": "stream",
     "text": [
      "/media/lmeuret/Seagate Portable Drive/result_docking/DOCKING_project/Conan-main/results_SMINA/DOCKED/ligand269/output44_ligand269_2023-11-22-15_52/best.pdbqt\n",
      "/media/lmeuret/Seagate Portable Drive/result_docking/DOCKING_project/Conan-main/receptors/output44.pdbqt\n"
     ]
    },
    {
     "data": {
      "application/vnd.jupyter.widget-view+json": {
       "model_id": "02a268872697453089591796c2c194c8",
       "version_major": 2,
       "version_minor": 0
      },
      "text/plain": [
       "  0%|          | 0/1 [00:00<?, ?it/s]"
      ]
     },
     "metadata": {},
     "output_type": "display_data"
    },
    {
     "name": "stderr",
     "output_type": "stream",
     "text": [
      "\r",
      "Processing ligands: 275it [01:00,  4.65it/s]"
     ]
    },
    {
     "name": "stdout",
     "output_type": "stream",
     "text": [
      "/media/lmeuret/Seagate Portable Drive/result_docking/DOCKING_project/Conan-main/results_SMINA/DOCKED/ligand27/output44_ligand27_2023-11-22-15_52/best.pdbqt\n",
      "/media/lmeuret/Seagate Portable Drive/result_docking/DOCKING_project/Conan-main/receptors/output44.pdbqt\n"
     ]
    },
    {
     "data": {
      "application/vnd.jupyter.widget-view+json": {
       "model_id": "b44a0a328dd04e53b598238589a964ad",
       "version_major": 2,
       "version_minor": 0
      },
      "text/plain": [
       "  0%|          | 0/1 [00:00<?, ?it/s]"
      ]
     },
     "metadata": {},
     "output_type": "display_data"
    },
    {
     "name": "stderr",
     "output_type": "stream",
     "text": [
      "\r",
      "Processing ligands: 276it [01:00,  4.53it/s]"
     ]
    },
    {
     "name": "stdout",
     "output_type": "stream",
     "text": [
      "/media/lmeuret/Seagate Portable Drive/result_docking/DOCKING_project/Conan-main/results_SMINA/DOCKED/ligand270/output44_ligand270_2023-11-22-15_52/best.pdbqt\n",
      "/media/lmeuret/Seagate Portable Drive/result_docking/DOCKING_project/Conan-main/receptors/output44.pdbqt\n"
     ]
    },
    {
     "data": {
      "application/vnd.jupyter.widget-view+json": {
       "model_id": "ee3d2b8a053348678f5fa26f2b0dadec",
       "version_major": 2,
       "version_minor": 0
      },
      "text/plain": [
       "  0%|          | 0/1 [00:00<?, ?it/s]"
      ]
     },
     "metadata": {},
     "output_type": "display_data"
    },
    {
     "name": "stderr",
     "output_type": "stream",
     "text": [
      "\r",
      "Processing ligands: 277it [01:00,  4.39it/s]"
     ]
    },
    {
     "name": "stdout",
     "output_type": "stream",
     "text": [
      "/media/lmeuret/Seagate Portable Drive/result_docking/DOCKING_project/Conan-main/results_SMINA/DOCKED/ligand271/output44_ligand271_2023-11-22-15_52/best.pdbqt\n",
      "/media/lmeuret/Seagate Portable Drive/result_docking/DOCKING_project/Conan-main/receptors/output44.pdbqt\n"
     ]
    },
    {
     "data": {
      "application/vnd.jupyter.widget-view+json": {
       "model_id": "edf1ea109e2c4758b24231ad13db5126",
       "version_major": 2,
       "version_minor": 0
      },
      "text/plain": [
       "  0%|          | 0/1 [00:00<?, ?it/s]"
      ]
     },
     "metadata": {},
     "output_type": "display_data"
    },
    {
     "name": "stderr",
     "output_type": "stream",
     "text": [
      "\r",
      "Processing ligands: 278it [01:01,  4.38it/s]"
     ]
    },
    {
     "name": "stdout",
     "output_type": "stream",
     "text": [
      "/media/lmeuret/Seagate Portable Drive/result_docking/DOCKING_project/Conan-main/results_SMINA/DOCKED/ligand272/output44_ligand272_2023-11-22-15_52/best.pdbqt\n",
      "/media/lmeuret/Seagate Portable Drive/result_docking/DOCKING_project/Conan-main/receptors/output44.pdbqt\n"
     ]
    },
    {
     "data": {
      "application/vnd.jupyter.widget-view+json": {
       "model_id": "6bef80d4ab61442fa4c6f0d08c68eb98",
       "version_major": 2,
       "version_minor": 0
      },
      "text/plain": [
       "  0%|          | 0/1 [00:00<?, ?it/s]"
      ]
     },
     "metadata": {},
     "output_type": "display_data"
    },
    {
     "name": "stderr",
     "output_type": "stream",
     "text": [
      "\r",
      "Processing ligands: 279it [01:01,  4.44it/s]"
     ]
    },
    {
     "name": "stdout",
     "output_type": "stream",
     "text": [
      "/media/lmeuret/Seagate Portable Drive/result_docking/DOCKING_project/Conan-main/results_SMINA/DOCKED/ligand273/output44_ligand273_2023-11-22-15_52/best.pdbqt\n",
      "/media/lmeuret/Seagate Portable Drive/result_docking/DOCKING_project/Conan-main/receptors/output44.pdbqt\n"
     ]
    },
    {
     "data": {
      "application/vnd.jupyter.widget-view+json": {
       "model_id": "8f9e1ce677ea40d6af79a567dd117ed3",
       "version_major": 2,
       "version_minor": 0
      },
      "text/plain": [
       "  0%|          | 0/1 [00:00<?, ?it/s]"
      ]
     },
     "metadata": {},
     "output_type": "display_data"
    },
    {
     "name": "stderr",
     "output_type": "stream",
     "text": [
      "\r",
      "Processing ligands: 280it [01:01,  4.52it/s]"
     ]
    },
    {
     "name": "stdout",
     "output_type": "stream",
     "text": [
      "/media/lmeuret/Seagate Portable Drive/result_docking/DOCKING_project/Conan-main/results_SMINA/DOCKED/ligand274/output44_ligand274_2023-11-22-15_52/best.pdbqt\n",
      "/media/lmeuret/Seagate Portable Drive/result_docking/DOCKING_project/Conan-main/receptors/output44.pdbqt\n"
     ]
    },
    {
     "data": {
      "application/vnd.jupyter.widget-view+json": {
       "model_id": "f5152c58234c49e58c488e9d6f6c4ae8",
       "version_major": 2,
       "version_minor": 0
      },
      "text/plain": [
       "  0%|          | 0/1 [00:00<?, ?it/s]"
      ]
     },
     "metadata": {},
     "output_type": "display_data"
    },
    {
     "name": "stderr",
     "output_type": "stream",
     "text": [
      "\r",
      "Processing ligands: 281it [01:01,  4.51it/s]"
     ]
    },
    {
     "name": "stdout",
     "output_type": "stream",
     "text": [
      "/media/lmeuret/Seagate Portable Drive/result_docking/DOCKING_project/Conan-main/results_SMINA/DOCKED/ligand275/output44_ligand275_2023-11-22-15_52/best.pdbqt\n",
      "/media/lmeuret/Seagate Portable Drive/result_docking/DOCKING_project/Conan-main/receptors/output44.pdbqt\n"
     ]
    },
    {
     "data": {
      "application/vnd.jupyter.widget-view+json": {
       "model_id": "bbf47b4322364e9c85433bfbc2acd266",
       "version_major": 2,
       "version_minor": 0
      },
      "text/plain": [
       "  0%|          | 0/1 [00:00<?, ?it/s]"
      ]
     },
     "metadata": {},
     "output_type": "display_data"
    },
    {
     "name": "stderr",
     "output_type": "stream",
     "text": [
      "\r",
      "Processing ligands: 282it [01:01,  4.54it/s]"
     ]
    },
    {
     "name": "stdout",
     "output_type": "stream",
     "text": [
      "/media/lmeuret/Seagate Portable Drive/result_docking/DOCKING_project/Conan-main/results_SMINA/DOCKED/ligand276/output44_ligand276_2023-11-22-15_52/best.pdbqt\n",
      "/media/lmeuret/Seagate Portable Drive/result_docking/DOCKING_project/Conan-main/receptors/output44.pdbqt\n"
     ]
    },
    {
     "data": {
      "application/vnd.jupyter.widget-view+json": {
       "model_id": "67c0a442c03740b89534715e99ac0629",
       "version_major": 2,
       "version_minor": 0
      },
      "text/plain": [
       "  0%|          | 0/1 [00:00<?, ?it/s]"
      ]
     },
     "metadata": {},
     "output_type": "display_data"
    },
    {
     "name": "stderr",
     "output_type": "stream",
     "text": [
      "\r",
      "Processing ligands: 283it [01:02,  4.55it/s]"
     ]
    },
    {
     "name": "stdout",
     "output_type": "stream",
     "text": [
      "/media/lmeuret/Seagate Portable Drive/result_docking/DOCKING_project/Conan-main/results_SMINA/DOCKED/ligand277/output44_ligand277_2023-11-22-15_52/best.pdbqt\n",
      "/media/lmeuret/Seagate Portable Drive/result_docking/DOCKING_project/Conan-main/receptors/output44.pdbqt\n"
     ]
    },
    {
     "data": {
      "application/vnd.jupyter.widget-view+json": {
       "model_id": "3c6d115059ea4f908f68c961eaedc85c",
       "version_major": 2,
       "version_minor": 0
      },
      "text/plain": [
       "  0%|          | 0/1 [00:00<?, ?it/s]"
      ]
     },
     "metadata": {},
     "output_type": "display_data"
    },
    {
     "name": "stderr",
     "output_type": "stream",
     "text": [
      "\r",
      "Processing ligands: 284it [01:02,  4.59it/s]"
     ]
    },
    {
     "name": "stdout",
     "output_type": "stream",
     "text": [
      "/media/lmeuret/Seagate Portable Drive/result_docking/DOCKING_project/Conan-main/results_SMINA/DOCKED/ligand278/output44_ligand278_2023-11-22-15_52/best.pdbqt\n",
      "/media/lmeuret/Seagate Portable Drive/result_docking/DOCKING_project/Conan-main/receptors/output44.pdbqt\n"
     ]
    },
    {
     "data": {
      "application/vnd.jupyter.widget-view+json": {
       "model_id": "b37c266a7a1d4002af3bf9a02a7c7bd0",
       "version_major": 2,
       "version_minor": 0
      },
      "text/plain": [
       "  0%|          | 0/1 [00:00<?, ?it/s]"
      ]
     },
     "metadata": {},
     "output_type": "display_data"
    },
    {
     "name": "stderr",
     "output_type": "stream",
     "text": [
      "\r",
      "Processing ligands: 285it [01:02,  4.60it/s]"
     ]
    },
    {
     "name": "stdout",
     "output_type": "stream",
     "text": [
      "/media/lmeuret/Seagate Portable Drive/result_docking/DOCKING_project/Conan-main/results_SMINA/DOCKED/ligand279/output44_ligand279_2023-11-22-15_52/best.pdbqt\n",
      "/media/lmeuret/Seagate Portable Drive/result_docking/DOCKING_project/Conan-main/receptors/output44.pdbqt\n"
     ]
    },
    {
     "data": {
      "application/vnd.jupyter.widget-view+json": {
       "model_id": "7bf4652f5286442c92ee3b0eeac20691",
       "version_major": 2,
       "version_minor": 0
      },
      "text/plain": [
       "  0%|          | 0/1 [00:00<?, ?it/s]"
      ]
     },
     "metadata": {},
     "output_type": "display_data"
    },
    {
     "name": "stderr",
     "output_type": "stream",
     "text": [
      "\r",
      "Processing ligands: 286it [01:02,  4.70it/s]"
     ]
    },
    {
     "name": "stdout",
     "output_type": "stream",
     "text": [
      "/media/lmeuret/Seagate Portable Drive/result_docking/DOCKING_project/Conan-main/results_SMINA/DOCKED/ligand28/output44_ligand28_2023-11-22-15_52/best.pdbqt\n",
      "/media/lmeuret/Seagate Portable Drive/result_docking/DOCKING_project/Conan-main/receptors/output44.pdbqt\n"
     ]
    },
    {
     "data": {
      "application/vnd.jupyter.widget-view+json": {
       "model_id": "ea84cf61bd124ebcb5698ac1c54bf921",
       "version_major": 2,
       "version_minor": 0
      },
      "text/plain": [
       "  0%|          | 0/1 [00:00<?, ?it/s]"
      ]
     },
     "metadata": {},
     "output_type": "display_data"
    },
    {
     "name": "stderr",
     "output_type": "stream",
     "text": [
      "\r",
      "Processing ligands: 287it [01:03,  4.56it/s]"
     ]
    },
    {
     "name": "stdout",
     "output_type": "stream",
     "text": [
      "/media/lmeuret/Seagate Portable Drive/result_docking/DOCKING_project/Conan-main/results_SMINA/DOCKED/ligand280/output44_ligand280_2023-11-22-15_52/best.pdbqt\n",
      "/media/lmeuret/Seagate Portable Drive/result_docking/DOCKING_project/Conan-main/receptors/output44.pdbqt\n"
     ]
    },
    {
     "data": {
      "application/vnd.jupyter.widget-view+json": {
       "model_id": "b0b5448bb64b487f95d63bb651a12a8a",
       "version_major": 2,
       "version_minor": 0
      },
      "text/plain": [
       "  0%|          | 0/1 [00:00<?, ?it/s]"
      ]
     },
     "metadata": {},
     "output_type": "display_data"
    },
    {
     "name": "stderr",
     "output_type": "stream",
     "text": [
      "\r",
      "Processing ligands: 288it [01:03,  4.52it/s]"
     ]
    },
    {
     "name": "stdout",
     "output_type": "stream",
     "text": [
      "/media/lmeuret/Seagate Portable Drive/result_docking/DOCKING_project/Conan-main/results_SMINA/DOCKED/ligand281/output44_ligand281_2023-11-22-15_52/best.pdbqt\n",
      "/media/lmeuret/Seagate Portable Drive/result_docking/DOCKING_project/Conan-main/receptors/output44.pdbqt\n"
     ]
    },
    {
     "data": {
      "application/vnd.jupyter.widget-view+json": {
       "model_id": "1abb28d832dd44ea8056b00f1a07aff5",
       "version_major": 2,
       "version_minor": 0
      },
      "text/plain": [
       "  0%|          | 0/1 [00:00<?, ?it/s]"
      ]
     },
     "metadata": {},
     "output_type": "display_data"
    },
    {
     "name": "stderr",
     "output_type": "stream",
     "text": [
      "\r",
      "Processing ligands: 289it [01:03,  3.91it/s]"
     ]
    },
    {
     "name": "stdout",
     "output_type": "stream",
     "text": [
      "/media/lmeuret/Seagate Portable Drive/result_docking/DOCKING_project/Conan-main/results_SMINA/DOCKED/ligand282/output44_ligand282_2023-11-22-15_52/best.pdbqt\n",
      "/media/lmeuret/Seagate Portable Drive/result_docking/DOCKING_project/Conan-main/receptors/output44.pdbqt\n"
     ]
    },
    {
     "data": {
      "application/vnd.jupyter.widget-view+json": {
       "model_id": "183b61736be34b709ecd7760e37f2852",
       "version_major": 2,
       "version_minor": 0
      },
      "text/plain": [
       "  0%|          | 0/1 [00:00<?, ?it/s]"
      ]
     },
     "metadata": {},
     "output_type": "display_data"
    },
    {
     "name": "stderr",
     "output_type": "stream",
     "text": [
      "\r",
      "Processing ligands: 290it [01:03,  4.04it/s]"
     ]
    },
    {
     "name": "stdout",
     "output_type": "stream",
     "text": [
      "/media/lmeuret/Seagate Portable Drive/result_docking/DOCKING_project/Conan-main/results_SMINA/DOCKED/ligand283/output44_ligand283_2023-11-22-15_52/best.pdbqt\n",
      "/media/lmeuret/Seagate Portable Drive/result_docking/DOCKING_project/Conan-main/receptors/output44.pdbqt\n"
     ]
    },
    {
     "data": {
      "application/vnd.jupyter.widget-view+json": {
       "model_id": "25ae6fd4874e4d03931a912611f9875f",
       "version_major": 2,
       "version_minor": 0
      },
      "text/plain": [
       "  0%|          | 0/1 [00:00<?, ?it/s]"
      ]
     },
     "metadata": {},
     "output_type": "display_data"
    },
    {
     "name": "stderr",
     "output_type": "stream",
     "text": [
      "\r",
      "Processing ligands: 291it [01:04,  4.19it/s]"
     ]
    },
    {
     "name": "stdout",
     "output_type": "stream",
     "text": [
      "/media/lmeuret/Seagate Portable Drive/result_docking/DOCKING_project/Conan-main/results_SMINA/DOCKED/ligand284/output44_ligand284_2023-11-22-15_52/best.pdbqt\n",
      "/media/lmeuret/Seagate Portable Drive/result_docking/DOCKING_project/Conan-main/receptors/output44.pdbqt\n"
     ]
    },
    {
     "data": {
      "application/vnd.jupyter.widget-view+json": {
       "model_id": "4f3157c46a964293ab053bf72e5f84c6",
       "version_major": 2,
       "version_minor": 0
      },
      "text/plain": [
       "  0%|          | 0/1 [00:00<?, ?it/s]"
      ]
     },
     "metadata": {},
     "output_type": "display_data"
    },
    {
     "name": "stderr",
     "output_type": "stream",
     "text": [
      "\r",
      "Processing ligands: 292it [01:04,  4.31it/s]"
     ]
    },
    {
     "name": "stdout",
     "output_type": "stream",
     "text": [
      "/media/lmeuret/Seagate Portable Drive/result_docking/DOCKING_project/Conan-main/results_SMINA/DOCKED/ligand285/output44_ligand285_2023-11-22-15_52/best.pdbqt\n",
      "/media/lmeuret/Seagate Portable Drive/result_docking/DOCKING_project/Conan-main/receptors/output44.pdbqt\n"
     ]
    },
    {
     "data": {
      "application/vnd.jupyter.widget-view+json": {
       "model_id": "3dd101387fa041d08ddbfa41a967b518",
       "version_major": 2,
       "version_minor": 0
      },
      "text/plain": [
       "  0%|          | 0/1 [00:00<?, ?it/s]"
      ]
     },
     "metadata": {},
     "output_type": "display_data"
    },
    {
     "name": "stderr",
     "output_type": "stream",
     "text": [
      "\r",
      "Processing ligands: 293it [01:04,  4.43it/s]"
     ]
    },
    {
     "name": "stdout",
     "output_type": "stream",
     "text": [
      "/media/lmeuret/Seagate Portable Drive/result_docking/DOCKING_project/Conan-main/results_SMINA/DOCKED/ligand286/output44_ligand286_2023-11-22-15_52/best.pdbqt\n",
      "/media/lmeuret/Seagate Portable Drive/result_docking/DOCKING_project/Conan-main/receptors/output44.pdbqt\n"
     ]
    },
    {
     "data": {
      "application/vnd.jupyter.widget-view+json": {
       "model_id": "2c66f47e954043da880792047131d46b",
       "version_major": 2,
       "version_minor": 0
      },
      "text/plain": [
       "  0%|          | 0/1 [00:00<?, ?it/s]"
      ]
     },
     "metadata": {},
     "output_type": "display_data"
    },
    {
     "name": "stderr",
     "output_type": "stream",
     "text": [
      "\r",
      "Processing ligands: 294it [01:04,  4.39it/s]"
     ]
    },
    {
     "name": "stdout",
     "output_type": "stream",
     "text": [
      "/media/lmeuret/Seagate Portable Drive/result_docking/DOCKING_project/Conan-main/results_SMINA/DOCKED/ligand287/output44_ligand287_2023-11-22-15_52/best.pdbqt\n",
      "/media/lmeuret/Seagate Portable Drive/result_docking/DOCKING_project/Conan-main/receptors/output44.pdbqt\n"
     ]
    },
    {
     "data": {
      "application/vnd.jupyter.widget-view+json": {
       "model_id": "60e06108b7d74f29951e745fddbb6820",
       "version_major": 2,
       "version_minor": 0
      },
      "text/plain": [
       "  0%|          | 0/1 [00:00<?, ?it/s]"
      ]
     },
     "metadata": {},
     "output_type": "display_data"
    },
    {
     "name": "stderr",
     "output_type": "stream",
     "text": [
      "\r",
      "Processing ligands: 295it [01:04,  4.24it/s]"
     ]
    },
    {
     "name": "stdout",
     "output_type": "stream",
     "text": [
      "/media/lmeuret/Seagate Portable Drive/result_docking/DOCKING_project/Conan-main/results_SMINA/DOCKED/ligand288/output44_ligand288_2023-11-22-15_52/best.pdbqt\n",
      "/media/lmeuret/Seagate Portable Drive/result_docking/DOCKING_project/Conan-main/receptors/output44.pdbqt\n"
     ]
    },
    {
     "data": {
      "application/vnd.jupyter.widget-view+json": {
       "model_id": "aa7b10a7be3f4ee5a90e4443ce052f3b",
       "version_major": 2,
       "version_minor": 0
      },
      "text/plain": [
       "  0%|          | 0/1 [00:00<?, ?it/s]"
      ]
     },
     "metadata": {},
     "output_type": "display_data"
    },
    {
     "name": "stderr",
     "output_type": "stream",
     "text": [
      "\r",
      "Processing ligands: 296it [01:05,  4.32it/s]"
     ]
    },
    {
     "name": "stdout",
     "output_type": "stream",
     "text": [
      "/media/lmeuret/Seagate Portable Drive/result_docking/DOCKING_project/Conan-main/results_SMINA/DOCKED/ligand289/output44_ligand289_2023-11-22-15_52/best.pdbqt\n",
      "/media/lmeuret/Seagate Portable Drive/result_docking/DOCKING_project/Conan-main/receptors/output44.pdbqt\n"
     ]
    },
    {
     "data": {
      "application/vnd.jupyter.widget-view+json": {
       "model_id": "e3cf2b66efdb4d90ba47cf98d70de479",
       "version_major": 2,
       "version_minor": 0
      },
      "text/plain": [
       "  0%|          | 0/1 [00:00<?, ?it/s]"
      ]
     },
     "metadata": {},
     "output_type": "display_data"
    },
    {
     "name": "stderr",
     "output_type": "stream",
     "text": [
      "\r",
      "Processing ligands: 297it [01:05,  4.22it/s]"
     ]
    },
    {
     "name": "stdout",
     "output_type": "stream",
     "text": [
      "/media/lmeuret/Seagate Portable Drive/result_docking/DOCKING_project/Conan-main/results_SMINA/DOCKED/ligand29/output44_ligand29_2023-11-22-15_52/best.pdbqt\n",
      "/media/lmeuret/Seagate Portable Drive/result_docking/DOCKING_project/Conan-main/receptors/output44.pdbqt\n"
     ]
    },
    {
     "data": {
      "application/vnd.jupyter.widget-view+json": {
       "model_id": "f4f2d2c4aba94d4eb96f4f70a2c168f6",
       "version_major": 2,
       "version_minor": 0
      },
      "text/plain": [
       "  0%|          | 0/1 [00:00<?, ?it/s]"
      ]
     },
     "metadata": {},
     "output_type": "display_data"
    },
    {
     "name": "stderr",
     "output_type": "stream",
     "text": [
      "\r",
      "Processing ligands: 298it [01:05,  4.28it/s]"
     ]
    },
    {
     "name": "stdout",
     "output_type": "stream",
     "text": [
      "/media/lmeuret/Seagate Portable Drive/result_docking/DOCKING_project/Conan-main/results_SMINA/DOCKED/ligand290/output44_ligand290_2023-11-22-15_52/best.pdbqt\n",
      "/media/lmeuret/Seagate Portable Drive/result_docking/DOCKING_project/Conan-main/receptors/output44.pdbqt\n"
     ]
    },
    {
     "data": {
      "application/vnd.jupyter.widget-view+json": {
       "model_id": "eb0be5d8530b4a92b5579ee14a1233e9",
       "version_major": 2,
       "version_minor": 0
      },
      "text/plain": [
       "  0%|          | 0/1 [00:00<?, ?it/s]"
      ]
     },
     "metadata": {},
     "output_type": "display_data"
    },
    {
     "name": "stderr",
     "output_type": "stream",
     "text": [
      "\r",
      "Processing ligands: 299it [01:05,  4.31it/s]"
     ]
    },
    {
     "name": "stdout",
     "output_type": "stream",
     "text": [
      "/media/lmeuret/Seagate Portable Drive/result_docking/DOCKING_project/Conan-main/results_SMINA/DOCKED/ligand444/output44_ligand444_2023-11-22-15_52/best.pdbqt\n",
      "/media/lmeuret/Seagate Portable Drive/result_docking/DOCKING_project/Conan-main/receptors/output44.pdbqt\n"
     ]
    },
    {
     "data": {
      "application/vnd.jupyter.widget-view+json": {
       "model_id": "7946cfc01fdc413b97240faf1162032c",
       "version_major": 2,
       "version_minor": 0
      },
      "text/plain": [
       "  0%|          | 0/1 [00:00<?, ?it/s]"
      ]
     },
     "metadata": {},
     "output_type": "display_data"
    },
    {
     "name": "stderr",
     "output_type": "stream",
     "text": [
      "\r",
      "Processing ligands: 300it [01:06,  4.15it/s]"
     ]
    },
    {
     "name": "stdout",
     "output_type": "stream",
     "text": [
      "/media/lmeuret/Seagate Portable Drive/result_docking/DOCKING_project/Conan-main/results_SMINA/DOCKED/ligand445/output44_ligand445_2023-11-22-15_52/best.pdbqt\n",
      "/media/lmeuret/Seagate Portable Drive/result_docking/DOCKING_project/Conan-main/receptors/output44.pdbqt\n"
     ]
    },
    {
     "data": {
      "application/vnd.jupyter.widget-view+json": {
       "model_id": "2006ad937e454717aaa1aefff1de7688",
       "version_major": 2,
       "version_minor": 0
      },
      "text/plain": [
       "  0%|          | 0/1 [00:00<?, ?it/s]"
      ]
     },
     "metadata": {},
     "output_type": "display_data"
    },
    {
     "name": "stderr",
     "output_type": "stream",
     "text": [
      "\r",
      "Processing ligands: 301it [01:06,  4.12it/s]"
     ]
    },
    {
     "name": "stdout",
     "output_type": "stream",
     "text": [
      "/media/lmeuret/Seagate Portable Drive/result_docking/DOCKING_project/Conan-main/results_SMINA/DOCKED/ligand446/output44_ligand446_2023-11-22-15_52/best.pdbqt\n",
      "/media/lmeuret/Seagate Portable Drive/result_docking/DOCKING_project/Conan-main/receptors/output44.pdbqt\n"
     ]
    },
    {
     "data": {
      "application/vnd.jupyter.widget-view+json": {
       "model_id": "ced6d291701b4fa2a702b5d873b9ac2b",
       "version_major": 2,
       "version_minor": 0
      },
      "text/plain": [
       "  0%|          | 0/1 [00:00<?, ?it/s]"
      ]
     },
     "metadata": {},
     "output_type": "display_data"
    },
    {
     "name": "stderr",
     "output_type": "stream",
     "text": [
      "\r",
      "Processing ligands: 302it [01:06,  4.15it/s]"
     ]
    },
    {
     "name": "stdout",
     "output_type": "stream",
     "text": [
      "/media/lmeuret/Seagate Portable Drive/result_docking/DOCKING_project/Conan-main/results_SMINA/DOCKED/ligand447/output44_ligand447_2023-11-22-15_52/best.pdbqt\n",
      "/media/lmeuret/Seagate Portable Drive/result_docking/DOCKING_project/Conan-main/receptors/output44.pdbqt\n"
     ]
    },
    {
     "data": {
      "application/vnd.jupyter.widget-view+json": {
       "model_id": "252e86fa4d8c42209edc4211bdd46fab",
       "version_major": 2,
       "version_minor": 0
      },
      "text/plain": [
       "  0%|          | 0/1 [00:00<?, ?it/s]"
      ]
     },
     "metadata": {},
     "output_type": "display_data"
    },
    {
     "name": "stderr",
     "output_type": "stream",
     "text": [
      "\r",
      "Processing ligands: 303it [01:06,  4.31it/s]"
     ]
    },
    {
     "name": "stdout",
     "output_type": "stream",
     "text": [
      "/media/lmeuret/Seagate Portable Drive/result_docking/DOCKING_project/Conan-main/results_SMINA/DOCKED/ligand448/output44_ligand448_2023-11-22-15_52/best.pdbqt\n",
      "/media/lmeuret/Seagate Portable Drive/result_docking/DOCKING_project/Conan-main/receptors/output44.pdbqt\n"
     ]
    },
    {
     "data": {
      "application/vnd.jupyter.widget-view+json": {
       "model_id": "df1dbd0b1b4545009e7633c54af2ce87",
       "version_major": 2,
       "version_minor": 0
      },
      "text/plain": [
       "  0%|          | 0/1 [00:00<?, ?it/s]"
      ]
     },
     "metadata": {},
     "output_type": "display_data"
    },
    {
     "name": "stderr",
     "output_type": "stream",
     "text": [
      "\r",
      "Processing ligands: 304it [01:07,  4.45it/s]"
     ]
    },
    {
     "name": "stdout",
     "output_type": "stream",
     "text": [
      "/media/lmeuret/Seagate Portable Drive/result_docking/DOCKING_project/Conan-main/results_SMINA/DOCKED/ligand449/output44_ligand449_2023-11-22-15_52/best.pdbqt\n",
      "/media/lmeuret/Seagate Portable Drive/result_docking/DOCKING_project/Conan-main/receptors/output44.pdbqt\n"
     ]
    },
    {
     "data": {
      "application/vnd.jupyter.widget-view+json": {
       "model_id": "9fc00310f61e45dcbfda12cde7a07dab",
       "version_major": 2,
       "version_minor": 0
      },
      "text/plain": [
       "  0%|          | 0/1 [00:00<?, ?it/s]"
      ]
     },
     "metadata": {},
     "output_type": "display_data"
    },
    {
     "name": "stderr",
     "output_type": "stream",
     "text": [
      "\r",
      "Processing ligands: 305it [01:07,  4.42it/s]"
     ]
    },
    {
     "name": "stdout",
     "output_type": "stream",
     "text": [
      "/media/lmeuret/Seagate Portable Drive/result_docking/DOCKING_project/Conan-main/results_SMINA/DOCKED/ligand45/output44_ligand45_2023-11-22-15_52/best.pdbqt\n",
      "/media/lmeuret/Seagate Portable Drive/result_docking/DOCKING_project/Conan-main/receptors/output44.pdbqt\n"
     ]
    },
    {
     "data": {
      "application/vnd.jupyter.widget-view+json": {
       "model_id": "55d0e3f0b5fa4d51b54d0ff716e0f04f",
       "version_major": 2,
       "version_minor": 0
      },
      "text/plain": [
       "  0%|          | 0/1 [00:00<?, ?it/s]"
      ]
     },
     "metadata": {},
     "output_type": "display_data"
    },
    {
     "name": "stderr",
     "output_type": "stream",
     "text": [
      "\r",
      "Processing ligands: 306it [01:07,  4.41it/s]"
     ]
    },
    {
     "name": "stdout",
     "output_type": "stream",
     "text": [
      "/media/lmeuret/Seagate Portable Drive/result_docking/DOCKING_project/Conan-main/results_SMINA/DOCKED/ligand450/output44_ligand450_2023-11-22-15_52/best.pdbqt\n",
      "/media/lmeuret/Seagate Portable Drive/result_docking/DOCKING_project/Conan-main/receptors/output44.pdbqt\n"
     ]
    },
    {
     "data": {
      "application/vnd.jupyter.widget-view+json": {
       "model_id": "d6343ced72ff448f9c37c6b5ca8d1e18",
       "version_major": 2,
       "version_minor": 0
      },
      "text/plain": [
       "  0%|          | 0/1 [00:00<?, ?it/s]"
      ]
     },
     "metadata": {},
     "output_type": "display_data"
    },
    {
     "name": "stderr",
     "output_type": "stream",
     "text": [
      "\r",
      "Processing ligands: 307it [01:07,  4.29it/s]"
     ]
    },
    {
     "name": "stdout",
     "output_type": "stream",
     "text": [
      "/media/lmeuret/Seagate Portable Drive/result_docking/DOCKING_project/Conan-main/results_SMINA/DOCKED/ligand451/output44_ligand451_2023-11-22-15_52/best.pdbqt\n",
      "/media/lmeuret/Seagate Portable Drive/result_docking/DOCKING_project/Conan-main/receptors/output44.pdbqt\n"
     ]
    },
    {
     "data": {
      "application/vnd.jupyter.widget-view+json": {
       "model_id": "479896aa4db0407881369bf14188941a",
       "version_major": 2,
       "version_minor": 0
      },
      "text/plain": [
       "  0%|          | 0/1 [00:00<?, ?it/s]"
      ]
     },
     "metadata": {},
     "output_type": "display_data"
    },
    {
     "name": "stderr",
     "output_type": "stream",
     "text": [
      "\r",
      "Processing ligands: 308it [01:08,  4.21it/s]"
     ]
    },
    {
     "name": "stdout",
     "output_type": "stream",
     "text": [
      "/media/lmeuret/Seagate Portable Drive/result_docking/DOCKING_project/Conan-main/results_SMINA/DOCKED/ligand452/output44_ligand452_2023-11-22-15_52/best.pdbqt\n",
      "/media/lmeuret/Seagate Portable Drive/result_docking/DOCKING_project/Conan-main/receptors/output44.pdbqt\n"
     ]
    },
    {
     "data": {
      "application/vnd.jupyter.widget-view+json": {
       "model_id": "2e4e0e05547f4fbbbcefe1090aee6dac",
       "version_major": 2,
       "version_minor": 0
      },
      "text/plain": [
       "  0%|          | 0/1 [00:00<?, ?it/s]"
      ]
     },
     "metadata": {},
     "output_type": "display_data"
    },
    {
     "name": "stderr",
     "output_type": "stream",
     "text": [
      "\r",
      "Processing ligands: 309it [01:08,  4.25it/s]"
     ]
    },
    {
     "name": "stdout",
     "output_type": "stream",
     "text": [
      "/media/lmeuret/Seagate Portable Drive/result_docking/DOCKING_project/Conan-main/results_SMINA/DOCKED/ligand453/output44_ligand453_2023-11-22-15_52/best.pdbqt\n",
      "/media/lmeuret/Seagate Portable Drive/result_docking/DOCKING_project/Conan-main/receptors/output44.pdbqt\n"
     ]
    },
    {
     "data": {
      "application/vnd.jupyter.widget-view+json": {
       "model_id": "9038788e3ada4ac1bc86a075a5b714a4",
       "version_major": 2,
       "version_minor": 0
      },
      "text/plain": [
       "  0%|          | 0/1 [00:00<?, ?it/s]"
      ]
     },
     "metadata": {},
     "output_type": "display_data"
    },
    {
     "name": "stderr",
     "output_type": "stream",
     "text": [
      "\r",
      "Processing ligands: 310it [01:08,  4.34it/s]"
     ]
    },
    {
     "name": "stdout",
     "output_type": "stream",
     "text": [
      "/media/lmeuret/Seagate Portable Drive/result_docking/DOCKING_project/Conan-main/results_SMINA/DOCKED/ligand454/output44_ligand454_2023-11-22-15_52/best.pdbqt\n",
      "/media/lmeuret/Seagate Portable Drive/result_docking/DOCKING_project/Conan-main/receptors/output44.pdbqt\n"
     ]
    },
    {
     "data": {
      "application/vnd.jupyter.widget-view+json": {
       "model_id": "ad30b9499b584597935289d41a58b7ff",
       "version_major": 2,
       "version_minor": 0
      },
      "text/plain": [
       "  0%|          | 0/1 [00:00<?, ?it/s]"
      ]
     },
     "metadata": {},
     "output_type": "display_data"
    },
    {
     "name": "stderr",
     "output_type": "stream",
     "text": [
      "\r",
      "Processing ligands: 311it [01:08,  4.30it/s]"
     ]
    },
    {
     "name": "stdout",
     "output_type": "stream",
     "text": [
      "/media/lmeuret/Seagate Portable Drive/result_docking/DOCKING_project/Conan-main/results_SMINA/DOCKED/ligand455/output44_ligand455_2023-11-22-15_52/best.pdbqt\n",
      "/media/lmeuret/Seagate Portable Drive/result_docking/DOCKING_project/Conan-main/receptors/output44.pdbqt\n"
     ]
    },
    {
     "data": {
      "application/vnd.jupyter.widget-view+json": {
       "model_id": "ba5369f894f143fa9a4c672d0efb2aec",
       "version_major": 2,
       "version_minor": 0
      },
      "text/plain": [
       "  0%|          | 0/1 [00:00<?, ?it/s]"
      ]
     },
     "metadata": {},
     "output_type": "display_data"
    },
    {
     "name": "stderr",
     "output_type": "stream",
     "text": [
      "\r",
      "Processing ligands: 312it [01:08,  4.37it/s]"
     ]
    },
    {
     "name": "stdout",
     "output_type": "stream",
     "text": [
      "/media/lmeuret/Seagate Portable Drive/result_docking/DOCKING_project/Conan-main/results_SMINA/DOCKED/ligand456/output44_ligand456_2023-11-22-15_52/best.pdbqt\n",
      "/media/lmeuret/Seagate Portable Drive/result_docking/DOCKING_project/Conan-main/receptors/output44.pdbqt\n"
     ]
    },
    {
     "data": {
      "application/vnd.jupyter.widget-view+json": {
       "model_id": "cf5fbbaf2aa9479486aafafe76dfb318",
       "version_major": 2,
       "version_minor": 0
      },
      "text/plain": [
       "  0%|          | 0/1 [00:00<?, ?it/s]"
      ]
     },
     "metadata": {},
     "output_type": "display_data"
    },
    {
     "name": "stderr",
     "output_type": "stream",
     "text": [
      "\r",
      "Processing ligands: 313it [01:09,  4.37it/s]"
     ]
    },
    {
     "name": "stdout",
     "output_type": "stream",
     "text": [
      "/media/lmeuret/Seagate Portable Drive/result_docking/DOCKING_project/Conan-main/results_SMINA/DOCKED/ligand457/output44_ligand457_2023-11-22-15_52/best.pdbqt\n",
      "/media/lmeuret/Seagate Portable Drive/result_docking/DOCKING_project/Conan-main/receptors/output44.pdbqt\n"
     ]
    },
    {
     "data": {
      "application/vnd.jupyter.widget-view+json": {
       "model_id": "9f7a7d3eacfa45089479224f999a978d",
       "version_major": 2,
       "version_minor": 0
      },
      "text/plain": [
       "  0%|          | 0/1 [00:00<?, ?it/s]"
      ]
     },
     "metadata": {},
     "output_type": "display_data"
    },
    {
     "name": "stderr",
     "output_type": "stream",
     "text": [
      "\r",
      "Processing ligands: 314it [01:09,  4.38it/s]"
     ]
    },
    {
     "name": "stdout",
     "output_type": "stream",
     "text": [
      "/media/lmeuret/Seagate Portable Drive/result_docking/DOCKING_project/Conan-main/results_SMINA/DOCKED/ligand458/output44_ligand458_2023-11-22-15_52/best.pdbqt\n",
      "/media/lmeuret/Seagate Portable Drive/result_docking/DOCKING_project/Conan-main/receptors/output44.pdbqt\n"
     ]
    },
    {
     "data": {
      "application/vnd.jupyter.widget-view+json": {
       "model_id": "fc6f4bdc9ad64f8d870d70f91d2b6b81",
       "version_major": 2,
       "version_minor": 0
      },
      "text/plain": [
       "  0%|          | 0/1 [00:00<?, ?it/s]"
      ]
     },
     "metadata": {},
     "output_type": "display_data"
    },
    {
     "name": "stderr",
     "output_type": "stream",
     "text": [
      "\r",
      "Processing ligands: 315it [01:09,  4.45it/s]"
     ]
    },
    {
     "name": "stdout",
     "output_type": "stream",
     "text": [
      "/media/lmeuret/Seagate Portable Drive/result_docking/DOCKING_project/Conan-main/results_SMINA/DOCKED/ligand459/output44_ligand459_2023-11-22-15_52/best.pdbqt\n",
      "/media/lmeuret/Seagate Portable Drive/result_docking/DOCKING_project/Conan-main/receptors/output44.pdbqt\n"
     ]
    },
    {
     "data": {
      "application/vnd.jupyter.widget-view+json": {
       "model_id": "69ef1b8ad28a4596ab5f47ebdb09588f",
       "version_major": 2,
       "version_minor": 0
      },
      "text/plain": [
       "  0%|          | 0/1 [00:00<?, ?it/s]"
      ]
     },
     "metadata": {},
     "output_type": "display_data"
    },
    {
     "name": "stderr",
     "output_type": "stream",
     "text": [
      "\r",
      "Processing ligands: 316it [01:09,  4.41it/s]"
     ]
    },
    {
     "name": "stdout",
     "output_type": "stream",
     "text": [
      "/media/lmeuret/Seagate Portable Drive/result_docking/DOCKING_project/Conan-main/results_SMINA/DOCKED/ligand46/output44_ligand46_2023-11-22-15_52/best.pdbqt\n",
      "/media/lmeuret/Seagate Portable Drive/result_docking/DOCKING_project/Conan-main/receptors/output44.pdbqt\n"
     ]
    },
    {
     "data": {
      "application/vnd.jupyter.widget-view+json": {
       "model_id": "124baaf141bb4a14bddb8c14d5196f50",
       "version_major": 2,
       "version_minor": 0
      },
      "text/plain": [
       "  0%|          | 0/1 [00:00<?, ?it/s]"
      ]
     },
     "metadata": {},
     "output_type": "display_data"
    },
    {
     "name": "stderr",
     "output_type": "stream",
     "text": [
      "\r",
      "Processing ligands: 317it [01:10,  4.46it/s]"
     ]
    },
    {
     "name": "stdout",
     "output_type": "stream",
     "text": [
      "/media/lmeuret/Seagate Portable Drive/result_docking/DOCKING_project/Conan-main/results_SMINA/DOCKED/ligand460/output44_ligand460_2023-11-22-15_52/best.pdbqt\n",
      "/media/lmeuret/Seagate Portable Drive/result_docking/DOCKING_project/Conan-main/receptors/output44.pdbqt\n"
     ]
    },
    {
     "data": {
      "application/vnd.jupyter.widget-view+json": {
       "model_id": "a43718f40f434ef08dcd2ccb31a53146",
       "version_major": 2,
       "version_minor": 0
      },
      "text/plain": [
       "  0%|          | 0/1 [00:00<?, ?it/s]"
      ]
     },
     "metadata": {},
     "output_type": "display_data"
    },
    {
     "name": "stderr",
     "output_type": "stream",
     "text": [
      "\r",
      "Processing ligands: 318it [01:10,  4.42it/s]"
     ]
    },
    {
     "name": "stdout",
     "output_type": "stream",
     "text": [
      "/media/lmeuret/Seagate Portable Drive/result_docking/DOCKING_project/Conan-main/results_SMINA/DOCKED/ligand461/output44_ligand461_2023-11-22-15_52/best.pdbqt\n",
      "/media/lmeuret/Seagate Portable Drive/result_docking/DOCKING_project/Conan-main/receptors/output44.pdbqt\n"
     ]
    },
    {
     "data": {
      "application/vnd.jupyter.widget-view+json": {
       "model_id": "42a7928c7b644ed4b17992c4199c6b77",
       "version_major": 2,
       "version_minor": 0
      },
      "text/plain": [
       "  0%|          | 0/1 [00:00<?, ?it/s]"
      ]
     },
     "metadata": {},
     "output_type": "display_data"
    },
    {
     "name": "stderr",
     "output_type": "stream",
     "text": [
      "\r",
      "Processing ligands: 319it [01:10,  4.31it/s]"
     ]
    },
    {
     "name": "stdout",
     "output_type": "stream",
     "text": [
      "/media/lmeuret/Seagate Portable Drive/result_docking/DOCKING_project/Conan-main/results_SMINA/DOCKED/ligand462/output44_ligand462_2023-11-22-15_52/best.pdbqt\n",
      "/media/lmeuret/Seagate Portable Drive/result_docking/DOCKING_project/Conan-main/receptors/output44.pdbqt\n"
     ]
    },
    {
     "data": {
      "application/vnd.jupyter.widget-view+json": {
       "model_id": "2d9649e5a510409c8ca13bfa7f3b2fc7",
       "version_major": 2,
       "version_minor": 0
      },
      "text/plain": [
       "  0%|          | 0/1 [00:00<?, ?it/s]"
      ]
     },
     "metadata": {},
     "output_type": "display_data"
    },
    {
     "name": "stderr",
     "output_type": "stream",
     "text": [
      "\r",
      "Processing ligands: 320it [01:10,  4.21it/s]"
     ]
    },
    {
     "name": "stdout",
     "output_type": "stream",
     "text": [
      "/media/lmeuret/Seagate Portable Drive/result_docking/DOCKING_project/Conan-main/results_SMINA/DOCKED/ligand463/output44_ligand463_2023-11-22-15_52/best.pdbqt\n",
      "/media/lmeuret/Seagate Portable Drive/result_docking/DOCKING_project/Conan-main/receptors/output44.pdbqt\n"
     ]
    },
    {
     "data": {
      "application/vnd.jupyter.widget-view+json": {
       "model_id": "3e7bf8a842434dda872773e335cbccd1",
       "version_major": 2,
       "version_minor": 0
      },
      "text/plain": [
       "  0%|          | 0/1 [00:00<?, ?it/s]"
      ]
     },
     "metadata": {},
     "output_type": "display_data"
    },
    {
     "name": "stderr",
     "output_type": "stream",
     "text": [
      "\r",
      "Processing ligands: 321it [01:11,  4.17it/s]"
     ]
    },
    {
     "name": "stdout",
     "output_type": "stream",
     "text": [
      "/media/lmeuret/Seagate Portable Drive/result_docking/DOCKING_project/Conan-main/results_SMINA/DOCKED/ligand464/output44_ligand464_2023-11-22-15_52/best.pdbqt\n",
      "/media/lmeuret/Seagate Portable Drive/result_docking/DOCKING_project/Conan-main/receptors/output44.pdbqt\n"
     ]
    },
    {
     "data": {
      "application/vnd.jupyter.widget-view+json": {
       "model_id": "300dc9972411414198634d5e4a5b5df1",
       "version_major": 2,
       "version_minor": 0
      },
      "text/plain": [
       "  0%|          | 0/1 [00:00<?, ?it/s]"
      ]
     },
     "metadata": {},
     "output_type": "display_data"
    },
    {
     "name": "stderr",
     "output_type": "stream",
     "text": [
      "\r",
      "Processing ligands: 322it [01:11,  4.21it/s]"
     ]
    },
    {
     "name": "stdout",
     "output_type": "stream",
     "text": [
      "/media/lmeuret/Seagate Portable Drive/result_docking/DOCKING_project/Conan-main/results_SMINA/DOCKED/ligand465/output44_ligand465_2023-11-22-15_52/best.pdbqt\n",
      "/media/lmeuret/Seagate Portable Drive/result_docking/DOCKING_project/Conan-main/receptors/output44.pdbqt\n"
     ]
    },
    {
     "data": {
      "application/vnd.jupyter.widget-view+json": {
       "model_id": "5778eeaacdfa4fa5a8fe9f6091e14bc2",
       "version_major": 2,
       "version_minor": 0
      },
      "text/plain": [
       "  0%|          | 0/1 [00:00<?, ?it/s]"
      ]
     },
     "metadata": {},
     "output_type": "display_data"
    },
    {
     "name": "stderr",
     "output_type": "stream",
     "text": [
      "\r",
      "Processing ligands: 323it [01:11,  4.28it/s]"
     ]
    },
    {
     "name": "stdout",
     "output_type": "stream",
     "text": [
      "/media/lmeuret/Seagate Portable Drive/result_docking/DOCKING_project/Conan-main/results_SMINA/DOCKED/ligand466/output44_ligand466_2023-11-22-15_52/best.pdbqt\n",
      "/media/lmeuret/Seagate Portable Drive/result_docking/DOCKING_project/Conan-main/receptors/output44.pdbqt\n"
     ]
    },
    {
     "data": {
      "application/vnd.jupyter.widget-view+json": {
       "model_id": "10ebddd64ecf4f7c840f6952c081f56f",
       "version_major": 2,
       "version_minor": 0
      },
      "text/plain": [
       "  0%|          | 0/1 [00:00<?, ?it/s]"
      ]
     },
     "metadata": {},
     "output_type": "display_data"
    },
    {
     "name": "stderr",
     "output_type": "stream",
     "text": [
      "\r",
      "Processing ligands: 324it [01:11,  4.30it/s]"
     ]
    },
    {
     "name": "stdout",
     "output_type": "stream",
     "text": [
      "/media/lmeuret/Seagate Portable Drive/result_docking/DOCKING_project/Conan-main/results_SMINA/DOCKED/ligand467/output44_ligand467_2023-11-22-15_52/best.pdbqt\n",
      "/media/lmeuret/Seagate Portable Drive/result_docking/DOCKING_project/Conan-main/receptors/output44.pdbqt\n"
     ]
    },
    {
     "data": {
      "application/vnd.jupyter.widget-view+json": {
       "model_id": "1e446a21b2f845efa7b5dd21d8113cef",
       "version_major": 2,
       "version_minor": 0
      },
      "text/plain": [
       "  0%|          | 0/1 [00:00<?, ?it/s]"
      ]
     },
     "metadata": {},
     "output_type": "display_data"
    },
    {
     "name": "stderr",
     "output_type": "stream",
     "text": [
      "\r",
      "Processing ligands: 325it [01:11,  4.26it/s]"
     ]
    },
    {
     "name": "stdout",
     "output_type": "stream",
     "text": [
      "/media/lmeuret/Seagate Portable Drive/result_docking/DOCKING_project/Conan-main/results_SMINA/DOCKED/ligand468/output44_ligand468_2023-11-22-15_52/best.pdbqt\n",
      "/media/lmeuret/Seagate Portable Drive/result_docking/DOCKING_project/Conan-main/receptors/output44.pdbqt\n"
     ]
    },
    {
     "data": {
      "application/vnd.jupyter.widget-view+json": {
       "model_id": "f090149b30fa4b5eba14c00e02232588",
       "version_major": 2,
       "version_minor": 0
      },
      "text/plain": [
       "  0%|          | 0/1 [00:00<?, ?it/s]"
      ]
     },
     "metadata": {},
     "output_type": "display_data"
    },
    {
     "name": "stderr",
     "output_type": "stream",
     "text": [
      "\r",
      "Processing ligands: 326it [01:12,  4.31it/s]"
     ]
    },
    {
     "name": "stdout",
     "output_type": "stream",
     "text": [
      "/media/lmeuret/Seagate Portable Drive/result_docking/DOCKING_project/Conan-main/results_SMINA/DOCKED/ligand469/output44_ligand469_2023-11-22-15_52/best.pdbqt\n",
      "/media/lmeuret/Seagate Portable Drive/result_docking/DOCKING_project/Conan-main/receptors/output44.pdbqt\n"
     ]
    },
    {
     "data": {
      "application/vnd.jupyter.widget-view+json": {
       "model_id": "64303e121bf04639b25a676c3d480cbb",
       "version_major": 2,
       "version_minor": 0
      },
      "text/plain": [
       "  0%|          | 0/1 [00:00<?, ?it/s]"
      ]
     },
     "metadata": {},
     "output_type": "display_data"
    },
    {
     "name": "stderr",
     "output_type": "stream",
     "text": [
      "\r",
      "Processing ligands: 327it [01:12,  4.22it/s]"
     ]
    },
    {
     "name": "stdout",
     "output_type": "stream",
     "text": [
      "/media/lmeuret/Seagate Portable Drive/result_docking/DOCKING_project/Conan-main/results_SMINA/DOCKED/ligand47/output44_ligand47_2023-11-22-15_52/best.pdbqt\n",
      "/media/lmeuret/Seagate Portable Drive/result_docking/DOCKING_project/Conan-main/receptors/output44.pdbqt\n"
     ]
    },
    {
     "data": {
      "application/vnd.jupyter.widget-view+json": {
       "model_id": "7633a2d8161e484ea09bacfab3758ef5",
       "version_major": 2,
       "version_minor": 0
      },
      "text/plain": [
       "  0%|          | 0/1 [00:00<?, ?it/s]"
      ]
     },
     "metadata": {},
     "output_type": "display_data"
    },
    {
     "name": "stderr",
     "output_type": "stream",
     "text": [
      "\r",
      "Processing ligands: 328it [01:12,  4.18it/s]"
     ]
    },
    {
     "name": "stdout",
     "output_type": "stream",
     "text": [
      "/media/lmeuret/Seagate Portable Drive/result_docking/DOCKING_project/Conan-main/results_SMINA/DOCKED/ligand470/output44_ligand470_2023-11-22-15_52/best.pdbqt\n",
      "/media/lmeuret/Seagate Portable Drive/result_docking/DOCKING_project/Conan-main/receptors/output44.pdbqt\n"
     ]
    },
    {
     "data": {
      "application/vnd.jupyter.widget-view+json": {
       "model_id": "c944210eaa8a4876b1762de234f416bf",
       "version_major": 2,
       "version_minor": 0
      },
      "text/plain": [
       "  0%|          | 0/1 [00:00<?, ?it/s]"
      ]
     },
     "metadata": {},
     "output_type": "display_data"
    },
    {
     "name": "stderr",
     "output_type": "stream",
     "text": [
      "\r",
      "Processing ligands: 329it [01:12,  4.15it/s]"
     ]
    },
    {
     "name": "stdout",
     "output_type": "stream",
     "text": [
      "/media/lmeuret/Seagate Portable Drive/result_docking/DOCKING_project/Conan-main/results_SMINA/DOCKED/ligand471/output44_ligand471_2023-11-22-15_52/best.pdbqt\n",
      "/media/lmeuret/Seagate Portable Drive/result_docking/DOCKING_project/Conan-main/receptors/output44.pdbqt\n"
     ]
    },
    {
     "data": {
      "application/vnd.jupyter.widget-view+json": {
       "model_id": "b73457f2ae6440e18dff81fe96c5a970",
       "version_major": 2,
       "version_minor": 0
      },
      "text/plain": [
       "  0%|          | 0/1 [00:00<?, ?it/s]"
      ]
     },
     "metadata": {},
     "output_type": "display_data"
    },
    {
     "name": "stderr",
     "output_type": "stream",
     "text": [
      "\r",
      "Processing ligands: 330it [01:13,  4.28it/s]"
     ]
    },
    {
     "name": "stdout",
     "output_type": "stream",
     "text": [
      "/media/lmeuret/Seagate Portable Drive/result_docking/DOCKING_project/Conan-main/results_SMINA/DOCKED/ligand472/output44_ligand472_2023-11-22-15_52/best.pdbqt\n",
      "/media/lmeuret/Seagate Portable Drive/result_docking/DOCKING_project/Conan-main/receptors/output44.pdbqt\n"
     ]
    },
    {
     "data": {
      "application/vnd.jupyter.widget-view+json": {
       "model_id": "56b2441b33a245359454f37f9b3639c0",
       "version_major": 2,
       "version_minor": 0
      },
      "text/plain": [
       "  0%|          | 0/1 [00:00<?, ?it/s]"
      ]
     },
     "metadata": {},
     "output_type": "display_data"
    },
    {
     "name": "stderr",
     "output_type": "stream",
     "text": [
      "\r",
      "Processing ligands: 331it [01:13,  4.38it/s]"
     ]
    },
    {
     "name": "stdout",
     "output_type": "stream",
     "text": [
      "/media/lmeuret/Seagate Portable Drive/result_docking/DOCKING_project/Conan-main/results_SMINA/DOCKED/ligand473/output44_ligand473_2023-11-22-15_52/best.pdbqt\n",
      "/media/lmeuret/Seagate Portable Drive/result_docking/DOCKING_project/Conan-main/receptors/output44.pdbqt\n"
     ]
    },
    {
     "data": {
      "application/vnd.jupyter.widget-view+json": {
       "model_id": "ad88ebb4ce044466abb4b6517be8f394",
       "version_major": 2,
       "version_minor": 0
      },
      "text/plain": [
       "  0%|          | 0/1 [00:00<?, ?it/s]"
      ]
     },
     "metadata": {},
     "output_type": "display_data"
    },
    {
     "name": "stderr",
     "output_type": "stream",
     "text": [
      "\r",
      "Processing ligands: 332it [01:13,  4.37it/s]"
     ]
    },
    {
     "name": "stdout",
     "output_type": "stream",
     "text": [
      "/media/lmeuret/Seagate Portable Drive/result_docking/DOCKING_project/Conan-main/results_SMINA/DOCKED/ligand474/output44_ligand474_2023-11-22-15_52/best.pdbqt\n",
      "/media/lmeuret/Seagate Portable Drive/result_docking/DOCKING_project/Conan-main/receptors/output44.pdbqt\n"
     ]
    },
    {
     "data": {
      "application/vnd.jupyter.widget-view+json": {
       "model_id": "d92cee81914e40898fb820659b6bf60f",
       "version_major": 2,
       "version_minor": 0
      },
      "text/plain": [
       "  0%|          | 0/1 [00:00<?, ?it/s]"
      ]
     },
     "metadata": {},
     "output_type": "display_data"
    },
    {
     "name": "stderr",
     "output_type": "stream",
     "text": [
      "\r",
      "Processing ligands: 333it [01:13,  4.22it/s]"
     ]
    },
    {
     "name": "stdout",
     "output_type": "stream",
     "text": [
      "/media/lmeuret/Seagate Portable Drive/result_docking/DOCKING_project/Conan-main/results_SMINA/DOCKED/ligand475/output44_ligand475_2023-11-22-15_52/best.pdbqt\n",
      "/media/lmeuret/Seagate Portable Drive/result_docking/DOCKING_project/Conan-main/receptors/output44.pdbqt\n"
     ]
    },
    {
     "data": {
      "application/vnd.jupyter.widget-view+json": {
       "model_id": "8db9bd95cf1f4ce3b3efafc0b09bb72b",
       "version_major": 2,
       "version_minor": 0
      },
      "text/plain": [
       "  0%|          | 0/1 [00:00<?, ?it/s]"
      ]
     },
     "metadata": {},
     "output_type": "display_data"
    },
    {
     "name": "stderr",
     "output_type": "stream",
     "text": [
      "\r",
      "Processing ligands: 334it [01:14,  4.25it/s]"
     ]
    },
    {
     "name": "stdout",
     "output_type": "stream",
     "text": [
      "/media/lmeuret/Seagate Portable Drive/result_docking/DOCKING_project/Conan-main/results_SMINA/DOCKED/ligand476/output44_ligand476_2023-11-22-15_52/best.pdbqt\n",
      "/media/lmeuret/Seagate Portable Drive/result_docking/DOCKING_project/Conan-main/receptors/output44.pdbqt\n"
     ]
    },
    {
     "data": {
      "application/vnd.jupyter.widget-view+json": {
       "model_id": "b0303040b14347e0b99082752004479a",
       "version_major": 2,
       "version_minor": 0
      },
      "text/plain": [
       "  0%|          | 0/1 [00:00<?, ?it/s]"
      ]
     },
     "metadata": {},
     "output_type": "display_data"
    },
    {
     "name": "stderr",
     "output_type": "stream",
     "text": [
      "\r",
      "Processing ligands: 335it [01:14,  4.34it/s]"
     ]
    },
    {
     "name": "stdout",
     "output_type": "stream",
     "text": [
      "/media/lmeuret/Seagate Portable Drive/result_docking/DOCKING_project/Conan-main/results_SMINA/DOCKED/ligand477/output44_ligand477_2023-11-22-15_52/best.pdbqt\n",
      "/media/lmeuret/Seagate Portable Drive/result_docking/DOCKING_project/Conan-main/receptors/output44.pdbqt\n"
     ]
    },
    {
     "data": {
      "application/vnd.jupyter.widget-view+json": {
       "model_id": "625f0fe22658479698e3914c207b3ab0",
       "version_major": 2,
       "version_minor": 0
      },
      "text/plain": [
       "  0%|          | 0/1 [00:00<?, ?it/s]"
      ]
     },
     "metadata": {},
     "output_type": "display_data"
    },
    {
     "name": "stderr",
     "output_type": "stream",
     "text": [
      "\r",
      "Processing ligands: 336it [01:14,  4.29it/s]"
     ]
    },
    {
     "name": "stdout",
     "output_type": "stream",
     "text": [
      "/media/lmeuret/Seagate Portable Drive/result_docking/DOCKING_project/Conan-main/results_SMINA/DOCKED/ligand478/output44_ligand478_2023-11-22-15_52/best.pdbqt\n",
      "/media/lmeuret/Seagate Portable Drive/result_docking/DOCKING_project/Conan-main/receptors/output44.pdbqt\n"
     ]
    },
    {
     "data": {
      "application/vnd.jupyter.widget-view+json": {
       "model_id": "baae853facc14ef9880300f919a01aa1",
       "version_major": 2,
       "version_minor": 0
      },
      "text/plain": [
       "  0%|          | 0/1 [00:00<?, ?it/s]"
      ]
     },
     "metadata": {},
     "output_type": "display_data"
    },
    {
     "name": "stderr",
     "output_type": "stream",
     "text": [
      "\r",
      "Processing ligands: 337it [01:14,  4.20it/s]"
     ]
    },
    {
     "name": "stdout",
     "output_type": "stream",
     "text": [
      "/media/lmeuret/Seagate Portable Drive/result_docking/DOCKING_project/Conan-main/results_SMINA/DOCKED/ligand709/output44_ligand709_2023-11-22-15_52/best.pdbqt\n",
      "/media/lmeuret/Seagate Portable Drive/result_docking/DOCKING_project/Conan-main/receptors/output44.pdbqt\n"
     ]
    },
    {
     "data": {
      "application/vnd.jupyter.widget-view+json": {
       "model_id": "37b958096e9a43d3ae2699fa331bb413",
       "version_major": 2,
       "version_minor": 0
      },
      "text/plain": [
       "  0%|          | 0/1 [00:00<?, ?it/s]"
      ]
     },
     "metadata": {},
     "output_type": "display_data"
    },
    {
     "name": "stderr",
     "output_type": "stream",
     "text": [
      "\r",
      "Processing ligands: 338it [01:15,  4.12it/s]"
     ]
    },
    {
     "name": "stdout",
     "output_type": "stream",
     "text": [
      "/media/lmeuret/Seagate Portable Drive/result_docking/DOCKING_project/Conan-main/results_SMINA/DOCKED/ligand71/output44_ligand71_2023-11-22-15_52/best.pdbqt\n",
      "/media/lmeuret/Seagate Portable Drive/result_docking/DOCKING_project/Conan-main/receptors/output44.pdbqt\n"
     ]
    },
    {
     "data": {
      "application/vnd.jupyter.widget-view+json": {
       "model_id": "fc81e7139877415bb5c75483905e51c4",
       "version_major": 2,
       "version_minor": 0
      },
      "text/plain": [
       "  0%|          | 0/1 [00:00<?, ?it/s]"
      ]
     },
     "metadata": {},
     "output_type": "display_data"
    },
    {
     "name": "stderr",
     "output_type": "stream",
     "text": [
      "\r",
      "Processing ligands: 339it [01:15,  4.28it/s]"
     ]
    },
    {
     "name": "stdout",
     "output_type": "stream",
     "text": [
      "/media/lmeuret/Seagate Portable Drive/result_docking/DOCKING_project/Conan-main/results_SMINA/DOCKED/ligand710/output44_ligand710_2023-11-22-15_52/best.pdbqt\n",
      "/media/lmeuret/Seagate Portable Drive/result_docking/DOCKING_project/Conan-main/receptors/output44.pdbqt\n"
     ]
    },
    {
     "data": {
      "application/vnd.jupyter.widget-view+json": {
       "model_id": "04a041b006f7456592a123aa3bbf55e3",
       "version_major": 2,
       "version_minor": 0
      },
      "text/plain": [
       "  0%|          | 0/1 [00:00<?, ?it/s]"
      ]
     },
     "metadata": {},
     "output_type": "display_data"
    },
    {
     "name": "stderr",
     "output_type": "stream",
     "text": [
      "\r",
      "Processing ligands: 340it [01:15,  4.19it/s]"
     ]
    },
    {
     "name": "stdout",
     "output_type": "stream",
     "text": [
      "/media/lmeuret/Seagate Portable Drive/result_docking/DOCKING_project/Conan-main/results_SMINA/DOCKED/ligand711/output44_ligand711_2023-11-22-15_52/best.pdbqt\n",
      "/media/lmeuret/Seagate Portable Drive/result_docking/DOCKING_project/Conan-main/receptors/output44.pdbqt\n"
     ]
    },
    {
     "data": {
      "application/vnd.jupyter.widget-view+json": {
       "model_id": "736b1f94eaf64598a7c4156ecfb9e90c",
       "version_major": 2,
       "version_minor": 0
      },
      "text/plain": [
       "  0%|          | 0/1 [00:00<?, ?it/s]"
      ]
     },
     "metadata": {},
     "output_type": "display_data"
    },
    {
     "name": "stderr",
     "output_type": "stream",
     "text": [
      "\r",
      "Processing ligands: 341it [01:15,  4.07it/s]"
     ]
    },
    {
     "name": "stdout",
     "output_type": "stream",
     "text": [
      "/media/lmeuret/Seagate Portable Drive/result_docking/DOCKING_project/Conan-main/results_SMINA/DOCKED/ligand712/output44_ligand712_2023-11-22-15_52/best.pdbqt\n",
      "/media/lmeuret/Seagate Portable Drive/result_docking/DOCKING_project/Conan-main/receptors/output44.pdbqt\n"
     ]
    },
    {
     "data": {
      "application/vnd.jupyter.widget-view+json": {
       "model_id": "85f3db7119354e21b1b8700a761f1576",
       "version_major": 2,
       "version_minor": 0
      },
      "text/plain": [
       "  0%|          | 0/1 [00:00<?, ?it/s]"
      ]
     },
     "metadata": {},
     "output_type": "display_data"
    },
    {
     "name": "stderr",
     "output_type": "stream",
     "text": [
      "\r",
      "Processing ligands: 342it [01:16,  4.08it/s]"
     ]
    },
    {
     "name": "stdout",
     "output_type": "stream",
     "text": [
      "/media/lmeuret/Seagate Portable Drive/result_docking/DOCKING_project/Conan-main/results_SMINA/DOCKED/ligand713/output44_ligand713_2023-11-22-15_52/best.pdbqt\n",
      "/media/lmeuret/Seagate Portable Drive/result_docking/DOCKING_project/Conan-main/receptors/output44.pdbqt\n"
     ]
    },
    {
     "data": {
      "application/vnd.jupyter.widget-view+json": {
       "model_id": "b3ac67bfd03f41599407ce967d101610",
       "version_major": 2,
       "version_minor": 0
      },
      "text/plain": [
       "  0%|          | 0/1 [00:00<?, ?it/s]"
      ]
     },
     "metadata": {},
     "output_type": "display_data"
    },
    {
     "name": "stderr",
     "output_type": "stream",
     "text": [
      "\r",
      "Processing ligands: 343it [01:16,  4.05it/s]"
     ]
    },
    {
     "name": "stdout",
     "output_type": "stream",
     "text": [
      "/media/lmeuret/Seagate Portable Drive/result_docking/DOCKING_project/Conan-main/results_SMINA/DOCKED/ligand714/output44_ligand714_2023-11-22-15_52/best.pdbqt\n",
      "/media/lmeuret/Seagate Portable Drive/result_docking/DOCKING_project/Conan-main/receptors/output44.pdbqt\n"
     ]
    },
    {
     "data": {
      "application/vnd.jupyter.widget-view+json": {
       "model_id": "f80900f63eb0461f9ad09608c7f3efc9",
       "version_major": 2,
       "version_minor": 0
      },
      "text/plain": [
       "  0%|          | 0/1 [00:00<?, ?it/s]"
      ]
     },
     "metadata": {},
     "output_type": "display_data"
    },
    {
     "name": "stderr",
     "output_type": "stream",
     "text": [
      "\r",
      "Processing ligands: 344it [01:16,  4.20it/s]"
     ]
    },
    {
     "name": "stdout",
     "output_type": "stream",
     "text": [
      "/media/lmeuret/Seagate Portable Drive/result_docking/DOCKING_project/Conan-main/results_SMINA/DOCKED/ligand715/output44_ligand715_2023-11-22-15_52/best.pdbqt\n",
      "/media/lmeuret/Seagate Portable Drive/result_docking/DOCKING_project/Conan-main/receptors/output44.pdbqt\n"
     ]
    },
    {
     "data": {
      "application/vnd.jupyter.widget-view+json": {
       "model_id": "4ae5831906604cd398cac79c55eee62a",
       "version_major": 2,
       "version_minor": 0
      },
      "text/plain": [
       "  0%|          | 0/1 [00:00<?, ?it/s]"
      ]
     },
     "metadata": {},
     "output_type": "display_data"
    },
    {
     "name": "stderr",
     "output_type": "stream",
     "text": [
      "\r",
      "Processing ligands: 345it [01:16,  4.20it/s]"
     ]
    },
    {
     "name": "stdout",
     "output_type": "stream",
     "text": [
      "/media/lmeuret/Seagate Portable Drive/result_docking/DOCKING_project/Conan-main/results_SMINA/DOCKED/ligand716/output44_ligand716_2023-11-22-15_52/best.pdbqt\n",
      "/media/lmeuret/Seagate Portable Drive/result_docking/DOCKING_project/Conan-main/receptors/output44.pdbqt\n"
     ]
    },
    {
     "data": {
      "application/vnd.jupyter.widget-view+json": {
       "model_id": "c178f5333f5d48f2b8f3aa64a81a5810",
       "version_major": 2,
       "version_minor": 0
      },
      "text/plain": [
       "  0%|          | 0/1 [00:00<?, ?it/s]"
      ]
     },
     "metadata": {},
     "output_type": "display_data"
    },
    {
     "name": "stderr",
     "output_type": "stream",
     "text": [
      "\r",
      "Processing ligands: 346it [01:16,  4.17it/s]"
     ]
    },
    {
     "name": "stdout",
     "output_type": "stream",
     "text": [
      "/media/lmeuret/Seagate Portable Drive/result_docking/DOCKING_project/Conan-main/results_SMINA/DOCKED/ligand717/output44_ligand717_2023-11-22-15_52/best.pdbqt\n",
      "/media/lmeuret/Seagate Portable Drive/result_docking/DOCKING_project/Conan-main/receptors/output44.pdbqt\n"
     ]
    },
    {
     "data": {
      "application/vnd.jupyter.widget-view+json": {
       "model_id": "78c61b29b8b145fdb1e58a8e34c3703d",
       "version_major": 2,
       "version_minor": 0
      },
      "text/plain": [
       "  0%|          | 0/1 [00:00<?, ?it/s]"
      ]
     },
     "metadata": {},
     "output_type": "display_data"
    },
    {
     "name": "stderr",
     "output_type": "stream",
     "text": [
      "\r",
      "Processing ligands: 347it [01:17,  4.24it/s]"
     ]
    },
    {
     "name": "stdout",
     "output_type": "stream",
     "text": [
      "/media/lmeuret/Seagate Portable Drive/result_docking/DOCKING_project/Conan-main/results_SMINA/DOCKED/ligand719/output44_ligand719_2023-11-22-15_52/best.pdbqt\n",
      "/media/lmeuret/Seagate Portable Drive/result_docking/DOCKING_project/Conan-main/receptors/output44.pdbqt\n"
     ]
    },
    {
     "data": {
      "application/vnd.jupyter.widget-view+json": {
       "model_id": "e1376985b17649e7b26e9d5685f4f7d7",
       "version_major": 2,
       "version_minor": 0
      },
      "text/plain": [
       "  0%|          | 0/1 [00:00<?, ?it/s]"
      ]
     },
     "metadata": {},
     "output_type": "display_data"
    },
    {
     "name": "stderr",
     "output_type": "stream",
     "text": [
      "\r",
      "Processing ligands: 348it [01:17,  4.29it/s]"
     ]
    },
    {
     "name": "stdout",
     "output_type": "stream",
     "text": [
      "/media/lmeuret/Seagate Portable Drive/result_docking/DOCKING_project/Conan-main/results_SMINA/DOCKED/ligand72/output44_ligand72_2023-11-22-15_52/best.pdbqt\n",
      "/media/lmeuret/Seagate Portable Drive/result_docking/DOCKING_project/Conan-main/receptors/output44.pdbqt\n"
     ]
    },
    {
     "data": {
      "application/vnd.jupyter.widget-view+json": {
       "model_id": "ad289c65d24e4f72b71292d676d4176c",
       "version_major": 2,
       "version_minor": 0
      },
      "text/plain": [
       "  0%|          | 0/1 [00:00<?, ?it/s]"
      ]
     },
     "metadata": {},
     "output_type": "display_data"
    },
    {
     "name": "stderr",
     "output_type": "stream",
     "text": [
      "\r",
      "Processing ligands: 349it [01:17,  4.27it/s]"
     ]
    },
    {
     "name": "stdout",
     "output_type": "stream",
     "text": [
      "/media/lmeuret/Seagate Portable Drive/result_docking/DOCKING_project/Conan-main/results_SMINA/DOCKED/ligand720/output44_ligand720_2023-11-22-15_52/best.pdbqt\n",
      "/media/lmeuret/Seagate Portable Drive/result_docking/DOCKING_project/Conan-main/receptors/output44.pdbqt\n"
     ]
    },
    {
     "data": {
      "application/vnd.jupyter.widget-view+json": {
       "model_id": "49b382ef565a47719fbbf1a7dfc2adda",
       "version_major": 2,
       "version_minor": 0
      },
      "text/plain": [
       "  0%|          | 0/1 [00:00<?, ?it/s]"
      ]
     },
     "metadata": {},
     "output_type": "display_data"
    },
    {
     "name": "stderr",
     "output_type": "stream",
     "text": [
      "\r",
      "Processing ligands: 350it [01:17,  4.22it/s]"
     ]
    },
    {
     "name": "stdout",
     "output_type": "stream",
     "text": [
      "/media/lmeuret/Seagate Portable Drive/result_docking/DOCKING_project/Conan-main/results_SMINA/DOCKED/ligand721/output44_ligand721_2023-11-22-15_52/best.pdbqt\n",
      "/media/lmeuret/Seagate Portable Drive/result_docking/DOCKING_project/Conan-main/receptors/output44.pdbqt\n"
     ]
    },
    {
     "data": {
      "application/vnd.jupyter.widget-view+json": {
       "model_id": "2afb5f8da20b4e9d8a73096921a65afd",
       "version_major": 2,
       "version_minor": 0
      },
      "text/plain": [
       "  0%|          | 0/1 [00:00<?, ?it/s]"
      ]
     },
     "metadata": {},
     "output_type": "display_data"
    },
    {
     "name": "stderr",
     "output_type": "stream",
     "text": [
      "\r",
      "Processing ligands: 351it [01:18,  4.31it/s]"
     ]
    },
    {
     "name": "stdout",
     "output_type": "stream",
     "text": [
      "/media/lmeuret/Seagate Portable Drive/result_docking/DOCKING_project/Conan-main/results_SMINA/DOCKED/ligand722/output44_ligand722_2023-11-22-15_52/best.pdbqt\n",
      "/media/lmeuret/Seagate Portable Drive/result_docking/DOCKING_project/Conan-main/receptors/output44.pdbqt\n"
     ]
    },
    {
     "data": {
      "application/vnd.jupyter.widget-view+json": {
       "model_id": "73908b151ad34298bc276d18d04dc9b1",
       "version_major": 2,
       "version_minor": 0
      },
      "text/plain": [
       "  0%|          | 0/1 [00:00<?, ?it/s]"
      ]
     },
     "metadata": {},
     "output_type": "display_data"
    },
    {
     "name": "stderr",
     "output_type": "stream",
     "text": [
      "\r",
      "Processing ligands: 352it [01:18,  4.48it/s]"
     ]
    },
    {
     "name": "stdout",
     "output_type": "stream",
     "text": [
      "/media/lmeuret/Seagate Portable Drive/result_docking/DOCKING_project/Conan-main/results_SMINA/DOCKED/ligand723/output44_ligand723_2023-11-22-15_52/best.pdbqt\n",
      "/media/lmeuret/Seagate Portable Drive/result_docking/DOCKING_project/Conan-main/receptors/output44.pdbqt\n"
     ]
    },
    {
     "data": {
      "application/vnd.jupyter.widget-view+json": {
       "model_id": "91d8f4f988474b1ebfaec423ff5dd587",
       "version_major": 2,
       "version_minor": 0
      },
      "text/plain": [
       "  0%|          | 0/1 [00:00<?, ?it/s]"
      ]
     },
     "metadata": {},
     "output_type": "display_data"
    },
    {
     "name": "stderr",
     "output_type": "stream",
     "text": [
      "\r",
      "Processing ligands: 353it [01:18,  4.60it/s]"
     ]
    },
    {
     "name": "stdout",
     "output_type": "stream",
     "text": [
      "/media/lmeuret/Seagate Portable Drive/result_docking/DOCKING_project/Conan-main/results_SMINA/DOCKED/ligand724/output44_ligand724_2023-11-22-15_52/best.pdbqt\n",
      "/media/lmeuret/Seagate Portable Drive/result_docking/DOCKING_project/Conan-main/receptors/output44.pdbqt\n"
     ]
    },
    {
     "data": {
      "application/vnd.jupyter.widget-view+json": {
       "model_id": "000b62cc46e44bba83bd48a85457ce00",
       "version_major": 2,
       "version_minor": 0
      },
      "text/plain": [
       "  0%|          | 0/1 [00:00<?, ?it/s]"
      ]
     },
     "metadata": {},
     "output_type": "display_data"
    },
    {
     "name": "stderr",
     "output_type": "stream",
     "text": [
      "\r",
      "Processing ligands: 354it [01:18,  4.88it/s]"
     ]
    },
    {
     "name": "stdout",
     "output_type": "stream",
     "text": [
      "/media/lmeuret/Seagate Portable Drive/result_docking/DOCKING_project/Conan-main/results_SMINA/DOCKED/ligand725/output44_ligand725_2023-11-22-15_52/best.pdbqt\n",
      "/media/lmeuret/Seagate Portable Drive/result_docking/DOCKING_project/Conan-main/receptors/output44.pdbqt\n"
     ]
    },
    {
     "data": {
      "application/vnd.jupyter.widget-view+json": {
       "model_id": "c9864e406d594bd4bc815d2ec2d7378d",
       "version_major": 2,
       "version_minor": 0
      },
      "text/plain": [
       "  0%|          | 0/1 [00:00<?, ?it/s]"
      ]
     },
     "metadata": {},
     "output_type": "display_data"
    },
    {
     "name": "stderr",
     "output_type": "stream",
     "text": [
      "\r",
      "Processing ligands: 355it [01:18,  4.90it/s]"
     ]
    },
    {
     "name": "stdout",
     "output_type": "stream",
     "text": [
      "/media/lmeuret/Seagate Portable Drive/result_docking/DOCKING_project/Conan-main/results_SMINA/DOCKED/ligand726/output44_ligand726_2023-11-22-15_52/best.pdbqt\n",
      "/media/lmeuret/Seagate Portable Drive/result_docking/DOCKING_project/Conan-main/receptors/output44.pdbqt\n"
     ]
    },
    {
     "data": {
      "application/vnd.jupyter.widget-view+json": {
       "model_id": "09239cd9d1104c29b82a130b986db8f9",
       "version_major": 2,
       "version_minor": 0
      },
      "text/plain": [
       "  0%|          | 0/1 [00:00<?, ?it/s]"
      ]
     },
     "metadata": {},
     "output_type": "display_data"
    },
    {
     "name": "stderr",
     "output_type": "stream",
     "text": [
      "\r",
      "Processing ligands: 356it [01:19,  4.89it/s]"
     ]
    },
    {
     "name": "stdout",
     "output_type": "stream",
     "text": [
      "/media/lmeuret/Seagate Portable Drive/result_docking/DOCKING_project/Conan-main/results_SMINA/DOCKED/ligand727/output44_ligand727_2023-11-22-15_52/best.pdbqt\n",
      "/media/lmeuret/Seagate Portable Drive/result_docking/DOCKING_project/Conan-main/receptors/output44.pdbqt\n"
     ]
    },
    {
     "data": {
      "application/vnd.jupyter.widget-view+json": {
       "model_id": "61c84dcfe0274826bc938da4d4743804",
       "version_major": 2,
       "version_minor": 0
      },
      "text/plain": [
       "  0%|          | 0/1 [00:00<?, ?it/s]"
      ]
     },
     "metadata": {},
     "output_type": "display_data"
    },
    {
     "name": "stderr",
     "output_type": "stream",
     "text": [
      "\r",
      "Processing ligands: 357it [01:19,  4.56it/s]"
     ]
    },
    {
     "name": "stdout",
     "output_type": "stream",
     "text": [
      "/media/lmeuret/Seagate Portable Drive/result_docking/DOCKING_project/Conan-main/results_SMINA/DOCKED/ligand728/output44_ligand728_2023-11-22-15_52/best.pdbqt\n",
      "/media/lmeuret/Seagate Portable Drive/result_docking/DOCKING_project/Conan-main/receptors/output44.pdbqt\n"
     ]
    },
    {
     "data": {
      "application/vnd.jupyter.widget-view+json": {
       "model_id": "3a735100bf404fabb6164e3617a64e9c",
       "version_major": 2,
       "version_minor": 0
      },
      "text/plain": [
       "  0%|          | 0/1 [00:00<?, ?it/s]"
      ]
     },
     "metadata": {},
     "output_type": "display_data"
    },
    {
     "name": "stderr",
     "output_type": "stream",
     "text": [
      "\r",
      "Processing ligands: 358it [01:19,  4.39it/s]"
     ]
    },
    {
     "name": "stdout",
     "output_type": "stream",
     "text": [
      "/media/lmeuret/Seagate Portable Drive/result_docking/DOCKING_project/Conan-main/results_SMINA/DOCKED/ligand729/output44_ligand729_2023-11-22-15_52/best.pdbqt\n",
      "/media/lmeuret/Seagate Portable Drive/result_docking/DOCKING_project/Conan-main/receptors/output44.pdbqt\n"
     ]
    },
    {
     "data": {
      "application/vnd.jupyter.widget-view+json": {
       "model_id": "46036d8ee6e34c7b844c3a0d93a6c3ea",
       "version_major": 2,
       "version_minor": 0
      },
      "text/plain": [
       "  0%|          | 0/1 [00:00<?, ?it/s]"
      ]
     },
     "metadata": {},
     "output_type": "display_data"
    },
    {
     "name": "stderr",
     "output_type": "stream",
     "text": [
      "\r",
      "Processing ligands: 359it [01:19,  4.57it/s]"
     ]
    },
    {
     "name": "stdout",
     "output_type": "stream",
     "text": [
      "/media/lmeuret/Seagate Portable Drive/result_docking/DOCKING_project/Conan-main/results_SMINA/DOCKED/ligand73/output44_ligand73_2023-11-22-15_52/best.pdbqt\n",
      "/media/lmeuret/Seagate Portable Drive/result_docking/DOCKING_project/Conan-main/receptors/output44.pdbqt\n"
     ]
    },
    {
     "data": {
      "application/vnd.jupyter.widget-view+json": {
       "model_id": "01f791c0fdf64a0d8a1bcda9fbf66d6f",
       "version_major": 2,
       "version_minor": 0
      },
      "text/plain": [
       "  0%|          | 0/1 [00:00<?, ?it/s]"
      ]
     },
     "metadata": {},
     "output_type": "display_data"
    },
    {
     "name": "stderr",
     "output_type": "stream",
     "text": [
      "\r",
      "Processing ligands: 360it [01:20,  4.65it/s]"
     ]
    },
    {
     "name": "stdout",
     "output_type": "stream",
     "text": [
      "/media/lmeuret/Seagate Portable Drive/result_docking/DOCKING_project/Conan-main/results_SMINA/DOCKED/ligand730/output44_ligand730_2023-11-22-15_52/best.pdbqt\n",
      "/media/lmeuret/Seagate Portable Drive/result_docking/DOCKING_project/Conan-main/receptors/output44.pdbqt\n"
     ]
    },
    {
     "data": {
      "application/vnd.jupyter.widget-view+json": {
       "model_id": "7e2990f7da9f4360840126aa52049824",
       "version_major": 2,
       "version_minor": 0
      },
      "text/plain": [
       "  0%|          | 0/1 [00:00<?, ?it/s]"
      ]
     },
     "metadata": {},
     "output_type": "display_data"
    },
    {
     "name": "stderr",
     "output_type": "stream",
     "text": [
      "\r",
      "Processing ligands: 361it [01:20,  4.59it/s]"
     ]
    },
    {
     "name": "stdout",
     "output_type": "stream",
     "text": [
      "/media/lmeuret/Seagate Portable Drive/result_docking/DOCKING_project/Conan-main/results_SMINA/DOCKED/ligand731/output44_ligand731_2023-11-22-15_52/best.pdbqt\n",
      "/media/lmeuret/Seagate Portable Drive/result_docking/DOCKING_project/Conan-main/receptors/output44.pdbqt\n"
     ]
    },
    {
     "data": {
      "application/vnd.jupyter.widget-view+json": {
       "model_id": "4c2cf77ee03e4bc38121aa09cab5ca2a",
       "version_major": 2,
       "version_minor": 0
      },
      "text/plain": [
       "  0%|          | 0/1 [00:00<?, ?it/s]"
      ]
     },
     "metadata": {},
     "output_type": "display_data"
    },
    {
     "name": "stderr",
     "output_type": "stream",
     "text": [
      "\r",
      "Processing ligands: 362it [01:20,  4.49it/s]"
     ]
    },
    {
     "name": "stdout",
     "output_type": "stream",
     "text": [
      "/media/lmeuret/Seagate Portable Drive/result_docking/DOCKING_project/Conan-main/results_SMINA/DOCKED/ligand732/output44_ligand732_2023-11-22-15_52/best.pdbqt\n",
      "/media/lmeuret/Seagate Portable Drive/result_docking/DOCKING_project/Conan-main/receptors/output44.pdbqt\n"
     ]
    },
    {
     "data": {
      "application/vnd.jupyter.widget-view+json": {
       "model_id": "ca4c0ac9f996438f952a81381d03e09f",
       "version_major": 2,
       "version_minor": 0
      },
      "text/plain": [
       "  0%|          | 0/1 [00:00<?, ?it/s]"
      ]
     },
     "metadata": {},
     "output_type": "display_data"
    },
    {
     "name": "stderr",
     "output_type": "stream",
     "text": [
      "\r",
      "Processing ligands: 363it [01:20,  4.55it/s]"
     ]
    },
    {
     "name": "stdout",
     "output_type": "stream",
     "text": [
      "/media/lmeuret/Seagate Portable Drive/result_docking/DOCKING_project/Conan-main/results_SMINA/DOCKED/ligand733/output44_ligand733_2023-11-22-15_52/best.pdbqt\n",
      "/media/lmeuret/Seagate Portable Drive/result_docking/DOCKING_project/Conan-main/receptors/output44.pdbqt\n"
     ]
    },
    {
     "data": {
      "application/vnd.jupyter.widget-view+json": {
       "model_id": "9d9ecfd68d514beb81cb9016c1492af7",
       "version_major": 2,
       "version_minor": 0
      },
      "text/plain": [
       "  0%|          | 0/1 [00:00<?, ?it/s]"
      ]
     },
     "metadata": {},
     "output_type": "display_data"
    },
    {
     "name": "stderr",
     "output_type": "stream",
     "text": [
      "\r",
      "Processing ligands: 364it [01:20,  4.60it/s]"
     ]
    },
    {
     "name": "stdout",
     "output_type": "stream",
     "text": [
      "/media/lmeuret/Seagate Portable Drive/result_docking/DOCKING_project/Conan-main/results_SMINA/DOCKED/ligand734/output44_ligand734_2023-11-22-15_52/best.pdbqt\n",
      "/media/lmeuret/Seagate Portable Drive/result_docking/DOCKING_project/Conan-main/receptors/output44.pdbqt\n"
     ]
    },
    {
     "data": {
      "application/vnd.jupyter.widget-view+json": {
       "model_id": "ec78e8016fc346f7bddd368b47cd7af4",
       "version_major": 2,
       "version_minor": 0
      },
      "text/plain": [
       "  0%|          | 0/1 [00:00<?, ?it/s]"
      ]
     },
     "metadata": {},
     "output_type": "display_data"
    },
    {
     "name": "stderr",
     "output_type": "stream",
     "text": [
      "\r",
      "Processing ligands: 365it [01:21,  4.47it/s]"
     ]
    },
    {
     "name": "stdout",
     "output_type": "stream",
     "text": [
      "/media/lmeuret/Seagate Portable Drive/result_docking/DOCKING_project/Conan-main/results_SMINA/DOCKED/ligand735/output44_ligand735_2023-11-22-15_52/best.pdbqt\n",
      "/media/lmeuret/Seagate Portable Drive/result_docking/DOCKING_project/Conan-main/receptors/output44.pdbqt\n"
     ]
    },
    {
     "data": {
      "application/vnd.jupyter.widget-view+json": {
       "model_id": "cde76f7c0bbc4933884800107b028bbd",
       "version_major": 2,
       "version_minor": 0
      },
      "text/plain": [
       "  0%|          | 0/1 [00:00<?, ?it/s]"
      ]
     },
     "metadata": {},
     "output_type": "display_data"
    },
    {
     "name": "stderr",
     "output_type": "stream",
     "text": [
      "\r",
      "Processing ligands: 366it [01:21,  4.17it/s]"
     ]
    },
    {
     "name": "stdout",
     "output_type": "stream",
     "text": [
      "/media/lmeuret/Seagate Portable Drive/result_docking/DOCKING_project/Conan-main/results_SMINA/DOCKED/ligand736/output44_ligand736_2023-11-22-15_52/best.pdbqt\n",
      "/media/lmeuret/Seagate Portable Drive/result_docking/DOCKING_project/Conan-main/receptors/output44.pdbqt\n"
     ]
    },
    {
     "data": {
      "application/vnd.jupyter.widget-view+json": {
       "model_id": "5dc3d2388f18435fa388cf12c19cc536",
       "version_major": 2,
       "version_minor": 0
      },
      "text/plain": [
       "  0%|          | 0/1 [00:00<?, ?it/s]"
      ]
     },
     "metadata": {},
     "output_type": "display_data"
    },
    {
     "name": "stderr",
     "output_type": "stream",
     "text": [
      "\r",
      "Processing ligands: 367it [01:21,  4.09it/s]"
     ]
    },
    {
     "name": "stdout",
     "output_type": "stream",
     "text": [
      "/media/lmeuret/Seagate Portable Drive/result_docking/DOCKING_project/Conan-main/results_SMINA/DOCKED/ligand737/output44_ligand737_2023-11-22-15_52/best.pdbqt\n",
      "/media/lmeuret/Seagate Portable Drive/result_docking/DOCKING_project/Conan-main/receptors/output44.pdbqt\n"
     ]
    },
    {
     "data": {
      "application/vnd.jupyter.widget-view+json": {
       "model_id": "bfe24fb7b95143fd8cb6c65367955cf3",
       "version_major": 2,
       "version_minor": 0
      },
      "text/plain": [
       "  0%|          | 0/1 [00:00<?, ?it/s]"
      ]
     },
     "metadata": {},
     "output_type": "display_data"
    },
    {
     "name": "stderr",
     "output_type": "stream",
     "text": [
      "\r",
      "Processing ligands: 368it [01:21,  4.17it/s]"
     ]
    },
    {
     "name": "stdout",
     "output_type": "stream",
     "text": [
      "/media/lmeuret/Seagate Portable Drive/result_docking/DOCKING_project/Conan-main/results_SMINA/DOCKED/ligand738/output44_ligand738_2023-11-22-15_52/best.pdbqt\n",
      "/media/lmeuret/Seagate Portable Drive/result_docking/DOCKING_project/Conan-main/receptors/output44.pdbqt\n"
     ]
    },
    {
     "data": {
      "application/vnd.jupyter.widget-view+json": {
       "model_id": "0235e7f1ca4545da8bf601b42bb2f80f",
       "version_major": 2,
       "version_minor": 0
      },
      "text/plain": [
       "  0%|          | 0/1 [00:00<?, ?it/s]"
      ]
     },
     "metadata": {},
     "output_type": "display_data"
    },
    {
     "name": "stderr",
     "output_type": "stream",
     "text": [
      "\r",
      "Processing ligands: 369it [01:22,  4.04it/s]"
     ]
    },
    {
     "name": "stdout",
     "output_type": "stream",
     "text": [
      "/media/lmeuret/Seagate Portable Drive/result_docking/DOCKING_project/Conan-main/results_SMINA/DOCKED/ligand739/output44_ligand739_2023-11-22-15_52/best.pdbqt\n",
      "/media/lmeuret/Seagate Portable Drive/result_docking/DOCKING_project/Conan-main/receptors/output44.pdbqt\n"
     ]
    },
    {
     "data": {
      "application/vnd.jupyter.widget-view+json": {
       "model_id": "6f82e6d2467c41bab0b042bb223b2aeb",
       "version_major": 2,
       "version_minor": 0
      },
      "text/plain": [
       "  0%|          | 0/1 [00:00<?, ?it/s]"
      ]
     },
     "metadata": {},
     "output_type": "display_data"
    },
    {
     "name": "stderr",
     "output_type": "stream",
     "text": [
      "\r",
      "Processing ligands: 370it [01:22,  4.08it/s]"
     ]
    },
    {
     "name": "stdout",
     "output_type": "stream",
     "text": [
      "/media/lmeuret/Seagate Portable Drive/result_docking/DOCKING_project/Conan-main/results_SMINA/DOCKED/ligand74/output44_ligand74_2023-11-22-15_52/best.pdbqt\n",
      "/media/lmeuret/Seagate Portable Drive/result_docking/DOCKING_project/Conan-main/receptors/output44.pdbqt\n"
     ]
    },
    {
     "data": {
      "application/vnd.jupyter.widget-view+json": {
       "model_id": "27a5100889ac4106ad126222ea8c2efc",
       "version_major": 2,
       "version_minor": 0
      },
      "text/plain": [
       "  0%|          | 0/1 [00:00<?, ?it/s]"
      ]
     },
     "metadata": {},
     "output_type": "display_data"
    },
    {
     "name": "stderr",
     "output_type": "stream",
     "text": [
      "\r",
      "Processing ligands: 371it [01:22,  4.09it/s]"
     ]
    },
    {
     "name": "stdout",
     "output_type": "stream",
     "text": [
      "/media/lmeuret/Seagate Portable Drive/result_docking/DOCKING_project/Conan-main/results_SMINA/DOCKED/ligand740/output44_ligand740_2023-11-22-15_52/best.pdbqt\n",
      "/media/lmeuret/Seagate Portable Drive/result_docking/DOCKING_project/Conan-main/receptors/output44.pdbqt\n"
     ]
    },
    {
     "data": {
      "application/vnd.jupyter.widget-view+json": {
       "model_id": "6c8cb2f309c44c85b2751aac406808c2",
       "version_major": 2,
       "version_minor": 0
      },
      "text/plain": [
       "  0%|          | 0/1 [00:00<?, ?it/s]"
      ]
     },
     "metadata": {},
     "output_type": "display_data"
    },
    {
     "name": "stderr",
     "output_type": "stream",
     "text": [
      "\r",
      "Processing ligands: 372it [01:22,  4.15it/s]"
     ]
    },
    {
     "name": "stdout",
     "output_type": "stream",
     "text": [
      "/media/lmeuret/Seagate Portable Drive/result_docking/DOCKING_project/Conan-main/results_SMINA/DOCKED/ligand742/output44_ligand742_2023-11-22-15_52/best.pdbqt\n",
      "/media/lmeuret/Seagate Portable Drive/result_docking/DOCKING_project/Conan-main/receptors/output44.pdbqt\n"
     ]
    },
    {
     "data": {
      "application/vnd.jupyter.widget-view+json": {
       "model_id": "f78a444d545d4d73b998541b71f64bfd",
       "version_major": 2,
       "version_minor": 0
      },
      "text/plain": [
       "  0%|          | 0/1 [00:00<?, ?it/s]"
      ]
     },
     "metadata": {},
     "output_type": "display_data"
    },
    {
     "name": "stderr",
     "output_type": "stream",
     "text": [
      "\r",
      "Processing ligands: 373it [01:23,  4.00it/s]"
     ]
    },
    {
     "name": "stdout",
     "output_type": "stream",
     "text": [
      "/media/lmeuret/Seagate Portable Drive/result_docking/DOCKING_project/Conan-main/results_SMINA/DOCKED/ligand743/output44_ligand743_2023-11-22-15_52/best.pdbqt\n",
      "/media/lmeuret/Seagate Portable Drive/result_docking/DOCKING_project/Conan-main/receptors/output44.pdbqt\n"
     ]
    },
    {
     "data": {
      "application/vnd.jupyter.widget-view+json": {
       "model_id": "104a8c968fc64792bc140ddca961bee5",
       "version_major": 2,
       "version_minor": 0
      },
      "text/plain": [
       "  0%|          | 0/1 [00:00<?, ?it/s]"
      ]
     },
     "metadata": {},
     "output_type": "display_data"
    },
    {
     "name": "stderr",
     "output_type": "stream",
     "text": [
      "\r",
      "Processing ligands: 374it [01:23,  4.00it/s]"
     ]
    },
    {
     "name": "stdout",
     "output_type": "stream",
     "text": [
      "/media/lmeuret/Seagate Portable Drive/result_docking/DOCKING_project/Conan-main/results_SMINA/DOCKED/ligand744/output44_ligand744_2023-11-22-15_52/best.pdbqt\n",
      "/media/lmeuret/Seagate Portable Drive/result_docking/DOCKING_project/Conan-main/receptors/output44.pdbqt\n"
     ]
    },
    {
     "data": {
      "application/vnd.jupyter.widget-view+json": {
       "model_id": "e059e362ce574468984552478592e035",
       "version_major": 2,
       "version_minor": 0
      },
      "text/plain": [
       "  0%|          | 0/1 [00:00<?, ?it/s]"
      ]
     },
     "metadata": {},
     "output_type": "display_data"
    },
    {
     "name": "stderr",
     "output_type": "stream",
     "text": [
      "\r",
      "Processing ligands: 375it [01:23,  3.83it/s]"
     ]
    },
    {
     "name": "stdout",
     "output_type": "stream",
     "text": [
      "/media/lmeuret/Seagate Portable Drive/result_docking/DOCKING_project/Conan-main/results_SMINA/DOCKED/ligand138/output44_ligand138_2023-11-22-15_52/best.pdbqt\n",
      "/media/lmeuret/Seagate Portable Drive/result_docking/DOCKING_project/Conan-main/receptors/output44.pdbqt\n"
     ]
    },
    {
     "data": {
      "application/vnd.jupyter.widget-view+json": {
       "model_id": "9ef26087c34846538a0de295bda0a702",
       "version_major": 2,
       "version_minor": 0
      },
      "text/plain": [
       "  0%|          | 0/1 [00:00<?, ?it/s]"
      ]
     },
     "metadata": {},
     "output_type": "display_data"
    },
    {
     "name": "stderr",
     "output_type": "stream",
     "text": [
      "\r",
      "Processing ligands: 376it [01:23,  3.84it/s]"
     ]
    },
    {
     "name": "stdout",
     "output_type": "stream",
     "text": [
      "/media/lmeuret/Seagate Portable Drive/result_docking/DOCKING_project/Conan-main/results_SMINA/DOCKED/ligand139/output44_ligand139_2023-11-22-15_52/best.pdbqt\n",
      "/media/lmeuret/Seagate Portable Drive/result_docking/DOCKING_project/Conan-main/receptors/output44.pdbqt\n"
     ]
    },
    {
     "data": {
      "application/vnd.jupyter.widget-view+json": {
       "model_id": "e1f45c86b9eb4f00956027c004c8da72",
       "version_major": 2,
       "version_minor": 0
      },
      "text/plain": [
       "  0%|          | 0/1 [00:00<?, ?it/s]"
      ]
     },
     "metadata": {},
     "output_type": "display_data"
    },
    {
     "name": "stderr",
     "output_type": "stream",
     "text": [
      "\r",
      "Processing ligands: 377it [01:24,  3.87it/s]"
     ]
    },
    {
     "name": "stdout",
     "output_type": "stream",
     "text": [
      "/media/lmeuret/Seagate Portable Drive/result_docking/DOCKING_project/Conan-main/results_SMINA/DOCKED/ligand14/output44_ligand14_2023-11-22-15_52/best.pdbqt\n",
      "/media/lmeuret/Seagate Portable Drive/result_docking/DOCKING_project/Conan-main/receptors/output44.pdbqt\n"
     ]
    },
    {
     "data": {
      "application/vnd.jupyter.widget-view+json": {
       "model_id": "d2d52aa4aba442fd806e6d7ea22ad391",
       "version_major": 2,
       "version_minor": 0
      },
      "text/plain": [
       "  0%|          | 0/1 [00:00<?, ?it/s]"
      ]
     },
     "metadata": {},
     "output_type": "display_data"
    },
    {
     "name": "stderr",
     "output_type": "stream",
     "text": [
      "\r",
      "Processing ligands: 378it [01:24,  3.94it/s]"
     ]
    },
    {
     "name": "stdout",
     "output_type": "stream",
     "text": [
      "/media/lmeuret/Seagate Portable Drive/result_docking/DOCKING_project/Conan-main/results_SMINA/DOCKED/ligand140/output44_ligand140_2023-11-22-15_52/best.pdbqt\n",
      "/media/lmeuret/Seagate Portable Drive/result_docking/DOCKING_project/Conan-main/receptors/output44.pdbqt\n"
     ]
    },
    {
     "data": {
      "application/vnd.jupyter.widget-view+json": {
       "model_id": "16e2c868ebf54b96bec88c7576dc4575",
       "version_major": 2,
       "version_minor": 0
      },
      "text/plain": [
       "  0%|          | 0/1 [00:00<?, ?it/s]"
      ]
     },
     "metadata": {},
     "output_type": "display_data"
    },
    {
     "name": "stderr",
     "output_type": "stream",
     "text": [
      "\r",
      "Processing ligands: 379it [01:24,  3.88it/s]"
     ]
    },
    {
     "name": "stdout",
     "output_type": "stream",
     "text": [
      "/media/lmeuret/Seagate Portable Drive/result_docking/DOCKING_project/Conan-main/results_SMINA/DOCKED/ligand141/output44_ligand141_2023-11-22-15_52/best.pdbqt\n",
      "/media/lmeuret/Seagate Portable Drive/result_docking/DOCKING_project/Conan-main/receptors/output44.pdbqt\n"
     ]
    },
    {
     "data": {
      "application/vnd.jupyter.widget-view+json": {
       "model_id": "b5ba54f24d90436f808e0e0ec4f49988",
       "version_major": 2,
       "version_minor": 0
      },
      "text/plain": [
       "  0%|          | 0/1 [00:00<?, ?it/s]"
      ]
     },
     "metadata": {},
     "output_type": "display_data"
    },
    {
     "name": "stderr",
     "output_type": "stream",
     "text": [
      "\r",
      "Processing ligands: 380it [01:24,  3.87it/s]"
     ]
    },
    {
     "name": "stdout",
     "output_type": "stream",
     "text": [
      "/media/lmeuret/Seagate Portable Drive/result_docking/DOCKING_project/Conan-main/results_SMINA/DOCKED/ligand142/output44_ligand142_2023-11-22-15_52/best.pdbqt\n",
      "/media/lmeuret/Seagate Portable Drive/result_docking/DOCKING_project/Conan-main/receptors/output44.pdbqt\n"
     ]
    },
    {
     "data": {
      "application/vnd.jupyter.widget-view+json": {
       "model_id": "164dc0a35d0a43bc9f961a76ba66c011",
       "version_major": 2,
       "version_minor": 0
      },
      "text/plain": [
       "  0%|          | 0/1 [00:00<?, ?it/s]"
      ]
     },
     "metadata": {},
     "output_type": "display_data"
    },
    {
     "name": "stderr",
     "output_type": "stream",
     "text": [
      "\r",
      "Processing ligands: 381it [01:25,  4.03it/s]"
     ]
    },
    {
     "name": "stdout",
     "output_type": "stream",
     "text": [
      "/media/lmeuret/Seagate Portable Drive/result_docking/DOCKING_project/Conan-main/results_SMINA/DOCKED/ligand143/output44_ligand143_2023-11-22-15_52/best.pdbqt\n",
      "/media/lmeuret/Seagate Portable Drive/result_docking/DOCKING_project/Conan-main/receptors/output44.pdbqt\n"
     ]
    },
    {
     "data": {
      "application/vnd.jupyter.widget-view+json": {
       "model_id": "2d9747b2984d406fbc43dc17ac7fdcd3",
       "version_major": 2,
       "version_minor": 0
      },
      "text/plain": [
       "  0%|          | 0/1 [00:00<?, ?it/s]"
      ]
     },
     "metadata": {},
     "output_type": "display_data"
    },
    {
     "name": "stderr",
     "output_type": "stream",
     "text": [
      "\r",
      "Processing ligands: 382it [01:25,  3.98it/s]"
     ]
    },
    {
     "name": "stdout",
     "output_type": "stream",
     "text": [
      "/media/lmeuret/Seagate Portable Drive/result_docking/DOCKING_project/Conan-main/results_SMINA/DOCKED/ligand144/output44_ligand144_2023-11-22-15_52/best.pdbqt\n",
      "/media/lmeuret/Seagate Portable Drive/result_docking/DOCKING_project/Conan-main/receptors/output44.pdbqt\n"
     ]
    },
    {
     "data": {
      "application/vnd.jupyter.widget-view+json": {
       "model_id": "f912d8d996b14dda84514b5d9b28ff1b",
       "version_major": 2,
       "version_minor": 0
      },
      "text/plain": [
       "  0%|          | 0/1 [00:00<?, ?it/s]"
      ]
     },
     "metadata": {},
     "output_type": "display_data"
    },
    {
     "name": "stderr",
     "output_type": "stream",
     "text": [
      "\r",
      "Processing ligands: 383it [01:25,  3.94it/s]"
     ]
    },
    {
     "name": "stdout",
     "output_type": "stream",
     "text": [
      "/media/lmeuret/Seagate Portable Drive/result_docking/DOCKING_project/Conan-main/results_SMINA/DOCKED/ligand145/output44_ligand145_2023-11-22-15_52/best.pdbqt\n",
      "/media/lmeuret/Seagate Portable Drive/result_docking/DOCKING_project/Conan-main/receptors/output44.pdbqt\n"
     ]
    },
    {
     "data": {
      "application/vnd.jupyter.widget-view+json": {
       "model_id": "70ade69ffb9d45e6a146d91573469d14",
       "version_major": 2,
       "version_minor": 0
      },
      "text/plain": [
       "  0%|          | 0/1 [00:00<?, ?it/s]"
      ]
     },
     "metadata": {},
     "output_type": "display_data"
    },
    {
     "name": "stderr",
     "output_type": "stream",
     "text": [
      "\r",
      "Processing ligands: 384it [01:25,  3.85it/s]"
     ]
    },
    {
     "name": "stdout",
     "output_type": "stream",
     "text": [
      "/media/lmeuret/Seagate Portable Drive/result_docking/DOCKING_project/Conan-main/results_SMINA/DOCKED/ligand146/output44_ligand146_2023-11-22-15_52/best.pdbqt\n",
      "/media/lmeuret/Seagate Portable Drive/result_docking/DOCKING_project/Conan-main/receptors/output44.pdbqt\n"
     ]
    },
    {
     "data": {
      "application/vnd.jupyter.widget-view+json": {
       "model_id": "67804747c2af440b99fa97602a92e9a8",
       "version_major": 2,
       "version_minor": 0
      },
      "text/plain": [
       "  0%|          | 0/1 [00:00<?, ?it/s]"
      ]
     },
     "metadata": {},
     "output_type": "display_data"
    },
    {
     "name": "stderr",
     "output_type": "stream",
     "text": [
      "\r",
      "Processing ligands: 385it [01:26,  3.88it/s]"
     ]
    },
    {
     "name": "stdout",
     "output_type": "stream",
     "text": [
      "/media/lmeuret/Seagate Portable Drive/result_docking/DOCKING_project/Conan-main/results_SMINA/DOCKED/ligand147/output44_ligand147_2023-11-22-15_52/best.pdbqt\n",
      "/media/lmeuret/Seagate Portable Drive/result_docking/DOCKING_project/Conan-main/receptors/output44.pdbqt\n"
     ]
    },
    {
     "data": {
      "application/vnd.jupyter.widget-view+json": {
       "model_id": "ec37915eb19c47ce9ac69731f1c0094c",
       "version_major": 2,
       "version_minor": 0
      },
      "text/plain": [
       "  0%|          | 0/1 [00:00<?, ?it/s]"
      ]
     },
     "metadata": {},
     "output_type": "display_data"
    },
    {
     "name": "stderr",
     "output_type": "stream",
     "text": [
      "\r",
      "Processing ligands: 386it [01:26,  3.95it/s]"
     ]
    },
    {
     "name": "stdout",
     "output_type": "stream",
     "text": [
      "/media/lmeuret/Seagate Portable Drive/result_docking/DOCKING_project/Conan-main/results_SMINA/DOCKED/ligand148/output44_ligand148_2023-11-22-15_52/best.pdbqt\n",
      "/media/lmeuret/Seagate Portable Drive/result_docking/DOCKING_project/Conan-main/receptors/output44.pdbqt\n"
     ]
    },
    {
     "data": {
      "application/vnd.jupyter.widget-view+json": {
       "model_id": "7899c9ae5fbd44738bbaa17d87cc8824",
       "version_major": 2,
       "version_minor": 0
      },
      "text/plain": [
       "  0%|          | 0/1 [00:00<?, ?it/s]"
      ]
     },
     "metadata": {},
     "output_type": "display_data"
    },
    {
     "name": "stderr",
     "output_type": "stream",
     "text": [
      "\r",
      "Processing ligands: 387it [01:26,  3.92it/s]"
     ]
    },
    {
     "name": "stdout",
     "output_type": "stream",
     "text": [
      "/media/lmeuret/Seagate Portable Drive/result_docking/DOCKING_project/Conan-main/results_SMINA/DOCKED/ligand149/output44_ligand149_2023-11-22-15_52/best.pdbqt\n",
      "/media/lmeuret/Seagate Portable Drive/result_docking/DOCKING_project/Conan-main/receptors/output44.pdbqt\n"
     ]
    },
    {
     "data": {
      "application/vnd.jupyter.widget-view+json": {
       "model_id": "fdffe86a7f304207b9d4b452381660a9",
       "version_major": 2,
       "version_minor": 0
      },
      "text/plain": [
       "  0%|          | 0/1 [00:00<?, ?it/s]"
      ]
     },
     "metadata": {},
     "output_type": "display_data"
    },
    {
     "name": "stderr",
     "output_type": "stream",
     "text": [
      "\r",
      "Processing ligands: 388it [01:26,  4.00it/s]"
     ]
    },
    {
     "name": "stdout",
     "output_type": "stream",
     "text": [
      "/media/lmeuret/Seagate Portable Drive/result_docking/DOCKING_project/Conan-main/results_SMINA/DOCKED/ligand15/output44_ligand15_2023-11-22-15_52/best.pdbqt\n",
      "/media/lmeuret/Seagate Portable Drive/result_docking/DOCKING_project/Conan-main/receptors/output44.pdbqt\n"
     ]
    },
    {
     "data": {
      "application/vnd.jupyter.widget-view+json": {
       "model_id": "eb7276425dba4804a5af4327974d9af8",
       "version_major": 2,
       "version_minor": 0
      },
      "text/plain": [
       "  0%|          | 0/1 [00:00<?, ?it/s]"
      ]
     },
     "metadata": {},
     "output_type": "display_data"
    },
    {
     "name": "stderr",
     "output_type": "stream",
     "text": [
      "\r",
      "Processing ligands: 389it [01:27,  4.15it/s]"
     ]
    },
    {
     "name": "stdout",
     "output_type": "stream",
     "text": [
      "/media/lmeuret/Seagate Portable Drive/result_docking/DOCKING_project/Conan-main/results_SMINA/DOCKED/ligand150/output44_ligand150_2023-11-22-15_52/best.pdbqt\n",
      "/media/lmeuret/Seagate Portable Drive/result_docking/DOCKING_project/Conan-main/receptors/output44.pdbqt\n"
     ]
    },
    {
     "data": {
      "application/vnd.jupyter.widget-view+json": {
       "model_id": "ecb32d5c3eb24d2e9bafa8158cda2ff5",
       "version_major": 2,
       "version_minor": 0
      },
      "text/plain": [
       "  0%|          | 0/1 [00:00<?, ?it/s]"
      ]
     },
     "metadata": {},
     "output_type": "display_data"
    },
    {
     "name": "stderr",
     "output_type": "stream",
     "text": [
      "\r",
      "Processing ligands: 390it [01:27,  4.10it/s]"
     ]
    },
    {
     "name": "stdout",
     "output_type": "stream",
     "text": [
      "/media/lmeuret/Seagate Portable Drive/result_docking/DOCKING_project/Conan-main/results_SMINA/DOCKED/ligand151/output44_ligand151_2023-11-22-15_52/best.pdbqt\n",
      "/media/lmeuret/Seagate Portable Drive/result_docking/DOCKING_project/Conan-main/receptors/output44.pdbqt\n"
     ]
    },
    {
     "data": {
      "application/vnd.jupyter.widget-view+json": {
       "model_id": "8e274d4454c34accabaad4d557298747",
       "version_major": 2,
       "version_minor": 0
      },
      "text/plain": [
       "  0%|          | 0/1 [00:00<?, ?it/s]"
      ]
     },
     "metadata": {},
     "output_type": "display_data"
    },
    {
     "name": "stderr",
     "output_type": "stream",
     "text": [
      "\r",
      "Processing ligands: 391it [01:27,  4.25it/s]"
     ]
    },
    {
     "name": "stdout",
     "output_type": "stream",
     "text": [
      "/media/lmeuret/Seagate Portable Drive/result_docking/DOCKING_project/Conan-main/results_SMINA/DOCKED/ligand152/output44_ligand152_2023-11-22-15_52/best.pdbqt\n",
      "/media/lmeuret/Seagate Portable Drive/result_docking/DOCKING_project/Conan-main/receptors/output44.pdbqt\n"
     ]
    },
    {
     "data": {
      "application/vnd.jupyter.widget-view+json": {
       "model_id": "ba2ea292be1944ff93fa9f76bd7c9dca",
       "version_major": 2,
       "version_minor": 0
      },
      "text/plain": [
       "  0%|          | 0/1 [00:00<?, ?it/s]"
      ]
     },
     "metadata": {},
     "output_type": "display_data"
    },
    {
     "name": "stderr",
     "output_type": "stream",
     "text": [
      "\r",
      "Processing ligands: 392it [01:27,  4.30it/s]"
     ]
    },
    {
     "name": "stdout",
     "output_type": "stream",
     "text": [
      "/media/lmeuret/Seagate Portable Drive/result_docking/DOCKING_project/Conan-main/results_SMINA/DOCKED/ligand153/output44_ligand153_2023-11-22-15_52/best.pdbqt\n",
      "/media/lmeuret/Seagate Portable Drive/result_docking/DOCKING_project/Conan-main/receptors/output44.pdbqt\n"
     ]
    },
    {
     "data": {
      "application/vnd.jupyter.widget-view+json": {
       "model_id": "f7d44aaadbdb426098ccc59b3b13bb79",
       "version_major": 2,
       "version_minor": 0
      },
      "text/plain": [
       "  0%|          | 0/1 [00:00<?, ?it/s]"
      ]
     },
     "metadata": {},
     "output_type": "display_data"
    },
    {
     "name": "stderr",
     "output_type": "stream",
     "text": [
      "\r",
      "Processing ligands: 393it [01:28,  4.26it/s]"
     ]
    },
    {
     "name": "stdout",
     "output_type": "stream",
     "text": [
      "/media/lmeuret/Seagate Portable Drive/result_docking/DOCKING_project/Conan-main/results_SMINA/DOCKED/ligand154/output44_ligand154_2023-11-22-15_52/best.pdbqt\n",
      "/media/lmeuret/Seagate Portable Drive/result_docking/DOCKING_project/Conan-main/receptors/output44.pdbqt\n"
     ]
    },
    {
     "data": {
      "application/vnd.jupyter.widget-view+json": {
       "model_id": "28bbe99ec480414894fda874a60fa0a7",
       "version_major": 2,
       "version_minor": 0
      },
      "text/plain": [
       "  0%|          | 0/1 [00:00<?, ?it/s]"
      ]
     },
     "metadata": {},
     "output_type": "display_data"
    },
    {
     "name": "stderr",
     "output_type": "stream",
     "text": [
      "\r",
      "Processing ligands: 394it [01:28,  4.23it/s]"
     ]
    },
    {
     "name": "stdout",
     "output_type": "stream",
     "text": [
      "/media/lmeuret/Seagate Portable Drive/result_docking/DOCKING_project/Conan-main/results_SMINA/DOCKED/ligand155/output44_ligand155_2023-11-22-15_52/best.pdbqt\n",
      "/media/lmeuret/Seagate Portable Drive/result_docking/DOCKING_project/Conan-main/receptors/output44.pdbqt\n"
     ]
    },
    {
     "data": {
      "application/vnd.jupyter.widget-view+json": {
       "model_id": "977757588da74c9fa3d30bdce5826b66",
       "version_major": 2,
       "version_minor": 0
      },
      "text/plain": [
       "  0%|          | 0/1 [00:00<?, ?it/s]"
      ]
     },
     "metadata": {},
     "output_type": "display_data"
    },
    {
     "name": "stderr",
     "output_type": "stream",
     "text": [
      "\r",
      "Processing ligands: 395it [01:28,  3.99it/s]"
     ]
    },
    {
     "name": "stdout",
     "output_type": "stream",
     "text": [
      "/media/lmeuret/Seagate Portable Drive/result_docking/DOCKING_project/Conan-main/results_SMINA/DOCKED/ligand156/output44_ligand156_2023-11-22-15_52/best.pdbqt\n",
      "/media/lmeuret/Seagate Portable Drive/result_docking/DOCKING_project/Conan-main/receptors/output44.pdbqt\n"
     ]
    },
    {
     "data": {
      "application/vnd.jupyter.widget-view+json": {
       "model_id": "34a2b076b7a64c0b9da8a95825574167",
       "version_major": 2,
       "version_minor": 0
      },
      "text/plain": [
       "  0%|          | 0/1 [00:00<?, ?it/s]"
      ]
     },
     "metadata": {},
     "output_type": "display_data"
    },
    {
     "name": "stderr",
     "output_type": "stream",
     "text": [
      "\r",
      "Processing ligands: 396it [01:28,  3.93it/s]"
     ]
    },
    {
     "name": "stdout",
     "output_type": "stream",
     "text": [
      "/media/lmeuret/Seagate Portable Drive/result_docking/DOCKING_project/Conan-main/results_SMINA/DOCKED/ligand157/output44_ligand157_2023-11-22-15_52/best.pdbqt\n",
      "/media/lmeuret/Seagate Portable Drive/result_docking/DOCKING_project/Conan-main/receptors/output44.pdbqt\n"
     ]
    },
    {
     "data": {
      "application/vnd.jupyter.widget-view+json": {
       "model_id": "3063456d75034d788c27e51e90abc05c",
       "version_major": 2,
       "version_minor": 0
      },
      "text/plain": [
       "  0%|          | 0/1 [00:00<?, ?it/s]"
      ]
     },
     "metadata": {},
     "output_type": "display_data"
    },
    {
     "name": "stderr",
     "output_type": "stream",
     "text": [
      "\r",
      "Processing ligands: 397it [01:29,  3.92it/s]"
     ]
    },
    {
     "name": "stdout",
     "output_type": "stream",
     "text": [
      "/media/lmeuret/Seagate Portable Drive/result_docking/DOCKING_project/Conan-main/results_SMINA/DOCKED/ligand158/output44_ligand158_2023-11-22-15_52/best.pdbqt\n",
      "/media/lmeuret/Seagate Portable Drive/result_docking/DOCKING_project/Conan-main/receptors/output44.pdbqt\n"
     ]
    },
    {
     "data": {
      "application/vnd.jupyter.widget-view+json": {
       "model_id": "17b179aa060c4acabddd2ce4696332da",
       "version_major": 2,
       "version_minor": 0
      },
      "text/plain": [
       "  0%|          | 0/1 [00:00<?, ?it/s]"
      ]
     },
     "metadata": {},
     "output_type": "display_data"
    },
    {
     "name": "stderr",
     "output_type": "stream",
     "text": [
      "\r",
      "Processing ligands: 398it [01:29,  3.92it/s]"
     ]
    },
    {
     "name": "stdout",
     "output_type": "stream",
     "text": [
      "/media/lmeuret/Seagate Portable Drive/result_docking/DOCKING_project/Conan-main/results_SMINA/DOCKED/ligand159/output44_ligand159_2023-11-22-15_52/best.pdbqt\n",
      "/media/lmeuret/Seagate Portable Drive/result_docking/DOCKING_project/Conan-main/receptors/output44.pdbqt\n"
     ]
    },
    {
     "data": {
      "application/vnd.jupyter.widget-view+json": {
       "model_id": "1d2fbb1f9e4b475eb0accc64afbb2ca7",
       "version_major": 2,
       "version_minor": 0
      },
      "text/plain": [
       "  0%|          | 0/1 [00:00<?, ?it/s]"
      ]
     },
     "metadata": {},
     "output_type": "display_data"
    },
    {
     "name": "stderr",
     "output_type": "stream",
     "text": [
      "\r",
      "Processing ligands: 399it [01:29,  3.85it/s]"
     ]
    },
    {
     "name": "stdout",
     "output_type": "stream",
     "text": [
      "/media/lmeuret/Seagate Portable Drive/result_docking/DOCKING_project/Conan-main/results_SMINA/DOCKED/ligand16/output44_ligand16_2023-11-22-15_52/best.pdbqt\n",
      "/media/lmeuret/Seagate Portable Drive/result_docking/DOCKING_project/Conan-main/receptors/output44.pdbqt\n"
     ]
    },
    {
     "data": {
      "application/vnd.jupyter.widget-view+json": {
       "model_id": "d3064e1eb20940b5bdb3e95bf4c1e695",
       "version_major": 2,
       "version_minor": 0
      },
      "text/plain": [
       "  0%|          | 0/1 [00:00<?, ?it/s]"
      ]
     },
     "metadata": {},
     "output_type": "display_data"
    },
    {
     "name": "stderr",
     "output_type": "stream",
     "text": [
      "\r",
      "Processing ligands: 400it [01:29,  3.99it/s]"
     ]
    },
    {
     "name": "stdout",
     "output_type": "stream",
     "text": [
      "/media/lmeuret/Seagate Portable Drive/result_docking/DOCKING_project/Conan-main/results_SMINA/DOCKED/ligand160/output44_ligand160_2023-11-22-15_52/best.pdbqt\n",
      "/media/lmeuret/Seagate Portable Drive/result_docking/DOCKING_project/Conan-main/receptors/output44.pdbqt\n"
     ]
    },
    {
     "data": {
      "application/vnd.jupyter.widget-view+json": {
       "model_id": "eae4cbc21021412f9460b743ea93f942",
       "version_major": 2,
       "version_minor": 0
      },
      "text/plain": [
       "  0%|          | 0/1 [00:00<?, ?it/s]"
      ]
     },
     "metadata": {},
     "output_type": "display_data"
    },
    {
     "name": "stderr",
     "output_type": "stream",
     "text": [
      "\r",
      "Processing ligands: 401it [01:30,  4.03it/s]"
     ]
    },
    {
     "name": "stdout",
     "output_type": "stream",
     "text": [
      "/media/lmeuret/Seagate Portable Drive/result_docking/DOCKING_project/Conan-main/results_SMINA/DOCKED/ligand413/output44_ligand413_2023-11-22-15_52/best.pdbqt\n",
      "/media/lmeuret/Seagate Portable Drive/result_docking/DOCKING_project/Conan-main/receptors/output44.pdbqt\n"
     ]
    },
    {
     "data": {
      "application/vnd.jupyter.widget-view+json": {
       "model_id": "40a965d2e4c04f9eb4d3abfd84a3e222",
       "version_major": 2,
       "version_minor": 0
      },
      "text/plain": [
       "  0%|          | 0/1 [00:00<?, ?it/s]"
      ]
     },
     "metadata": {},
     "output_type": "display_data"
    },
    {
     "name": "stderr",
     "output_type": "stream",
     "text": [
      "\r",
      "Processing ligands: 402it [01:30,  4.14it/s]"
     ]
    },
    {
     "name": "stdout",
     "output_type": "stream",
     "text": [
      "/media/lmeuret/Seagate Portable Drive/result_docking/DOCKING_project/Conan-main/results_SMINA/DOCKED/ligand415/output44_ligand415_2023-11-22-15_52/best.pdbqt\n",
      "/media/lmeuret/Seagate Portable Drive/result_docking/DOCKING_project/Conan-main/receptors/output44.pdbqt\n"
     ]
    },
    {
     "data": {
      "application/vnd.jupyter.widget-view+json": {
       "model_id": "c36c7f5504f7438e87c35714ae17ea1f",
       "version_major": 2,
       "version_minor": 0
      },
      "text/plain": [
       "  0%|          | 0/1 [00:00<?, ?it/s]"
      ]
     },
     "metadata": {},
     "output_type": "display_data"
    },
    {
     "name": "stderr",
     "output_type": "stream",
     "text": [
      "\r",
      "Processing ligands: 403it [01:30,  4.29it/s]"
     ]
    },
    {
     "name": "stdout",
     "output_type": "stream",
     "text": [
      "/media/lmeuret/Seagate Portable Drive/result_docking/DOCKING_project/Conan-main/results_SMINA/DOCKED/ligand416/output44_ligand416_2023-11-22-15_52/best.pdbqt\n",
      "/media/lmeuret/Seagate Portable Drive/result_docking/DOCKING_project/Conan-main/receptors/output44.pdbqt\n"
     ]
    },
    {
     "data": {
      "application/vnd.jupyter.widget-view+json": {
       "model_id": "c33457ceb5264766a31389ef706b8c1f",
       "version_major": 2,
       "version_minor": 0
      },
      "text/plain": [
       "  0%|          | 0/1 [00:00<?, ?it/s]"
      ]
     },
     "metadata": {},
     "output_type": "display_data"
    },
    {
     "name": "stderr",
     "output_type": "stream",
     "text": [
      "\r",
      "Processing ligands: 404it [01:30,  4.31it/s]"
     ]
    },
    {
     "name": "stdout",
     "output_type": "stream",
     "text": [
      "/media/lmeuret/Seagate Portable Drive/result_docking/DOCKING_project/Conan-main/results_SMINA/DOCKED/ligand417/output44_ligand417_2023-11-22-15_52/best.pdbqt\n",
      "/media/lmeuret/Seagate Portable Drive/result_docking/DOCKING_project/Conan-main/receptors/output44.pdbqt\n"
     ]
    },
    {
     "data": {
      "application/vnd.jupyter.widget-view+json": {
       "model_id": "59650f04e91b42308c40957f632b99ef",
       "version_major": 2,
       "version_minor": 0
      },
      "text/plain": [
       "  0%|          | 0/1 [00:00<?, ?it/s]"
      ]
     },
     "metadata": {},
     "output_type": "display_data"
    },
    {
     "name": "stderr",
     "output_type": "stream",
     "text": [
      "\r",
      "Processing ligands: 405it [01:31,  4.32it/s]"
     ]
    },
    {
     "name": "stdout",
     "output_type": "stream",
     "text": [
      "/media/lmeuret/Seagate Portable Drive/result_docking/DOCKING_project/Conan-main/results_SMINA/DOCKED/ligand418/output44_ligand418_2023-11-22-15_52/best.pdbqt\n",
      "/media/lmeuret/Seagate Portable Drive/result_docking/DOCKING_project/Conan-main/receptors/output44.pdbqt\n"
     ]
    },
    {
     "data": {
      "application/vnd.jupyter.widget-view+json": {
       "model_id": "0bcbccc71d48457288c5a8ed8c8825b0",
       "version_major": 2,
       "version_minor": 0
      },
      "text/plain": [
       "  0%|          | 0/1 [00:00<?, ?it/s]"
      ]
     },
     "metadata": {},
     "output_type": "display_data"
    },
    {
     "name": "stderr",
     "output_type": "stream",
     "text": [
      "\r",
      "Processing ligands: 406it [01:31,  4.09it/s]"
     ]
    },
    {
     "name": "stdout",
     "output_type": "stream",
     "text": [
      "/media/lmeuret/Seagate Portable Drive/result_docking/DOCKING_project/Conan-main/results_SMINA/DOCKED/ligand419/output44_ligand419_2023-11-22-15_52/best.pdbqt\n",
      "/media/lmeuret/Seagate Portable Drive/result_docking/DOCKING_project/Conan-main/receptors/output44.pdbqt\n"
     ]
    },
    {
     "data": {
      "application/vnd.jupyter.widget-view+json": {
       "model_id": "91a2457f9a4145aa947bb01ee32cec4a",
       "version_major": 2,
       "version_minor": 0
      },
      "text/plain": [
       "  0%|          | 0/1 [00:00<?, ?it/s]"
      ]
     },
     "metadata": {},
     "output_type": "display_data"
    },
    {
     "name": "stderr",
     "output_type": "stream",
     "text": [
      "\r",
      "Processing ligands: 407it [01:31,  3.75it/s]"
     ]
    },
    {
     "name": "stdout",
     "output_type": "stream",
     "text": [
      "/media/lmeuret/Seagate Portable Drive/result_docking/DOCKING_project/Conan-main/results_SMINA/DOCKED/ligand42/output44_ligand42_2023-11-22-15_52/best.pdbqt\n",
      "/media/lmeuret/Seagate Portable Drive/result_docking/DOCKING_project/Conan-main/receptors/output44.pdbqt\n"
     ]
    },
    {
     "data": {
      "application/vnd.jupyter.widget-view+json": {
       "model_id": "93b81e246e2e4343a0491a46fa4c2046",
       "version_major": 2,
       "version_minor": 0
      },
      "text/plain": [
       "  0%|          | 0/1 [00:00<?, ?it/s]"
      ]
     },
     "metadata": {},
     "output_type": "display_data"
    },
    {
     "name": "stderr",
     "output_type": "stream",
     "text": [
      "\r",
      "Processing ligands: 408it [01:31,  3.93it/s]"
     ]
    },
    {
     "name": "stdout",
     "output_type": "stream",
     "text": [
      "/media/lmeuret/Seagate Portable Drive/result_docking/DOCKING_project/Conan-main/results_SMINA/DOCKED/ligand420/output44_ligand420_2023-11-22-15_52/best.pdbqt\n",
      "/media/lmeuret/Seagate Portable Drive/result_docking/DOCKING_project/Conan-main/receptors/output44.pdbqt\n"
     ]
    },
    {
     "data": {
      "application/vnd.jupyter.widget-view+json": {
       "model_id": "1516bb7caa554dbf8d197ab6b96a00a2",
       "version_major": 2,
       "version_minor": 0
      },
      "text/plain": [
       "  0%|          | 0/1 [00:00<?, ?it/s]"
      ]
     },
     "metadata": {},
     "output_type": "display_data"
    },
    {
     "name": "stderr",
     "output_type": "stream",
     "text": [
      "\r",
      "Processing ligands: 409it [01:32,  3.67it/s]"
     ]
    },
    {
     "name": "stdout",
     "output_type": "stream",
     "text": [
      "/media/lmeuret/Seagate Portable Drive/result_docking/DOCKING_project/Conan-main/results_SMINA/DOCKED/ligand421/output44_ligand421_2023-11-22-15_52/best.pdbqt\n",
      "/media/lmeuret/Seagate Portable Drive/result_docking/DOCKING_project/Conan-main/receptors/output44.pdbqt\n"
     ]
    },
    {
     "data": {
      "application/vnd.jupyter.widget-view+json": {
       "model_id": "ea2e68b5d2ef4286addc975e9134077e",
       "version_major": 2,
       "version_minor": 0
      },
      "text/plain": [
       "  0%|          | 0/1 [00:00<?, ?it/s]"
      ]
     },
     "metadata": {},
     "output_type": "display_data"
    },
    {
     "name": "stderr",
     "output_type": "stream",
     "text": [
      "\r",
      "Processing ligands: 410it [01:32,  3.63it/s]"
     ]
    },
    {
     "name": "stdout",
     "output_type": "stream",
     "text": [
      "/media/lmeuret/Seagate Portable Drive/result_docking/DOCKING_project/Conan-main/results_SMINA/DOCKED/ligand422/output44_ligand422_2023-11-22-15_52/best.pdbqt\n",
      "/media/lmeuret/Seagate Portable Drive/result_docking/DOCKING_project/Conan-main/receptors/output44.pdbqt\n"
     ]
    },
    {
     "data": {
      "application/vnd.jupyter.widget-view+json": {
       "model_id": "12b718f233a54f62a066baddf0be0252",
       "version_major": 2,
       "version_minor": 0
      },
      "text/plain": [
       "  0%|          | 0/1 [00:00<?, ?it/s]"
      ]
     },
     "metadata": {},
     "output_type": "display_data"
    },
    {
     "name": "stderr",
     "output_type": "stream",
     "text": [
      "\r",
      "Processing ligands: 411it [01:32,  3.64it/s]"
     ]
    },
    {
     "name": "stdout",
     "output_type": "stream",
     "text": [
      "/media/lmeuret/Seagate Portable Drive/result_docking/DOCKING_project/Conan-main/results_SMINA/DOCKED/ligand423/output44_ligand423_2023-11-22-15_52/best.pdbqt\n",
      "/media/lmeuret/Seagate Portable Drive/result_docking/DOCKING_project/Conan-main/receptors/output44.pdbqt\n"
     ]
    },
    {
     "data": {
      "application/vnd.jupyter.widget-view+json": {
       "model_id": "00a1ad8475474997a18e99ad4aba7d93",
       "version_major": 2,
       "version_minor": 0
      },
      "text/plain": [
       "  0%|          | 0/1 [00:00<?, ?it/s]"
      ]
     },
     "metadata": {},
     "output_type": "display_data"
    },
    {
     "name": "stderr",
     "output_type": "stream",
     "text": [
      "\r",
      "Processing ligands: 412it [01:33,  3.73it/s]"
     ]
    },
    {
     "name": "stdout",
     "output_type": "stream",
     "text": [
      "/media/lmeuret/Seagate Portable Drive/result_docking/DOCKING_project/Conan-main/results_SMINA/DOCKED/ligand424/output44_ligand424_2023-11-22-15_52/best.pdbqt\n",
      "/media/lmeuret/Seagate Portable Drive/result_docking/DOCKING_project/Conan-main/receptors/output44.pdbqt\n"
     ]
    },
    {
     "data": {
      "application/vnd.jupyter.widget-view+json": {
       "model_id": "911fe952d51246d6bd6406201034c1db",
       "version_major": 2,
       "version_minor": 0
      },
      "text/plain": [
       "  0%|          | 0/1 [00:00<?, ?it/s]"
      ]
     },
     "metadata": {},
     "output_type": "display_data"
    },
    {
     "name": "stderr",
     "output_type": "stream",
     "text": [
      "\r",
      "Processing ligands: 413it [01:33,  3.83it/s]"
     ]
    },
    {
     "name": "stdout",
     "output_type": "stream",
     "text": [
      "/media/lmeuret/Seagate Portable Drive/result_docking/DOCKING_project/Conan-main/results_SMINA/DOCKED/ligand425/output44_ligand425_2023-11-22-15_52/best.pdbqt\n",
      "/media/lmeuret/Seagate Portable Drive/result_docking/DOCKING_project/Conan-main/receptors/output44.pdbqt\n"
     ]
    },
    {
     "data": {
      "application/vnd.jupyter.widget-view+json": {
       "model_id": "521b252f8fd34ffeae8c2894d3463ec0",
       "version_major": 2,
       "version_minor": 0
      },
      "text/plain": [
       "  0%|          | 0/1 [00:00<?, ?it/s]"
      ]
     },
     "metadata": {},
     "output_type": "display_data"
    },
    {
     "name": "stderr",
     "output_type": "stream",
     "text": [
      "\r",
      "Processing ligands: 414it [01:33,  3.67it/s]"
     ]
    },
    {
     "name": "stdout",
     "output_type": "stream",
     "text": [
      "/media/lmeuret/Seagate Portable Drive/result_docking/DOCKING_project/Conan-main/results_SMINA/DOCKED/ligand426/output44_ligand426_2023-11-22-15_52/best.pdbqt\n",
      "/media/lmeuret/Seagate Portable Drive/result_docking/DOCKING_project/Conan-main/receptors/output44.pdbqt\n"
     ]
    },
    {
     "data": {
      "application/vnd.jupyter.widget-view+json": {
       "model_id": "4c1a1b6b2ab047dbab465812c5642789",
       "version_major": 2,
       "version_minor": 0
      },
      "text/plain": [
       "  0%|          | 0/1 [00:00<?, ?it/s]"
      ]
     },
     "metadata": {},
     "output_type": "display_data"
    },
    {
     "name": "stderr",
     "output_type": "stream",
     "text": [
      "\r",
      "Processing ligands: 415it [01:33,  3.86it/s]"
     ]
    },
    {
     "name": "stdout",
     "output_type": "stream",
     "text": [
      "/media/lmeuret/Seagate Portable Drive/result_docking/DOCKING_project/Conan-main/results_SMINA/DOCKED/ligand427/output44_ligand427_2023-11-22-15_52/best.pdbqt\n",
      "/media/lmeuret/Seagate Portable Drive/result_docking/DOCKING_project/Conan-main/receptors/output44.pdbqt\n"
     ]
    },
    {
     "data": {
      "application/vnd.jupyter.widget-view+json": {
       "model_id": "5cfd78e75d0540718c2e0d7c6e385516",
       "version_major": 2,
       "version_minor": 0
      },
      "text/plain": [
       "  0%|          | 0/1 [00:00<?, ?it/s]"
      ]
     },
     "metadata": {},
     "output_type": "display_data"
    },
    {
     "name": "stderr",
     "output_type": "stream",
     "text": [
      "\r",
      "Processing ligands: 416it [01:33,  4.05it/s]"
     ]
    },
    {
     "name": "stdout",
     "output_type": "stream",
     "text": [
      "/media/lmeuret/Seagate Portable Drive/result_docking/DOCKING_project/Conan-main/results_SMINA/DOCKED/ligand428/output44_ligand428_2023-11-22-15_52/best.pdbqt\n",
      "/media/lmeuret/Seagate Portable Drive/result_docking/DOCKING_project/Conan-main/receptors/output44.pdbqt\n"
     ]
    },
    {
     "data": {
      "application/vnd.jupyter.widget-view+json": {
       "model_id": "7d3d489dab8345ce9b3bd6faeb5203d3",
       "version_major": 2,
       "version_minor": 0
      },
      "text/plain": [
       "  0%|          | 0/1 [00:00<?, ?it/s]"
      ]
     },
     "metadata": {},
     "output_type": "display_data"
    },
    {
     "name": "stderr",
     "output_type": "stream",
     "text": [
      "\r",
      "Processing ligands: 417it [01:34,  4.05it/s]"
     ]
    },
    {
     "name": "stdout",
     "output_type": "stream",
     "text": [
      "/media/lmeuret/Seagate Portable Drive/result_docking/DOCKING_project/Conan-main/results_SMINA/DOCKED/ligand429/output44_ligand429_2023-11-22-15_52/best.pdbqt\n",
      "/media/lmeuret/Seagate Portable Drive/result_docking/DOCKING_project/Conan-main/receptors/output44.pdbqt\n"
     ]
    },
    {
     "data": {
      "application/vnd.jupyter.widget-view+json": {
       "model_id": "b3daa472b5124805822aef2543eb0c11",
       "version_major": 2,
       "version_minor": 0
      },
      "text/plain": [
       "  0%|          | 0/1 [00:00<?, ?it/s]"
      ]
     },
     "metadata": {},
     "output_type": "display_data"
    },
    {
     "name": "stderr",
     "output_type": "stream",
     "text": [
      "\r",
      "Processing ligands: 418it [01:34,  4.18it/s]"
     ]
    },
    {
     "name": "stdout",
     "output_type": "stream",
     "text": [
      "/media/lmeuret/Seagate Portable Drive/result_docking/DOCKING_project/Conan-main/results_SMINA/DOCKED/ligand43/output44_ligand43_2023-11-22-15_52/best.pdbqt\n",
      "/media/lmeuret/Seagate Portable Drive/result_docking/DOCKING_project/Conan-main/receptors/output44.pdbqt\n"
     ]
    },
    {
     "data": {
      "application/vnd.jupyter.widget-view+json": {
       "model_id": "db563b2342ed47e981f84449db32a2f4",
       "version_major": 2,
       "version_minor": 0
      },
      "text/plain": [
       "  0%|          | 0/1 [00:00<?, ?it/s]"
      ]
     },
     "metadata": {},
     "output_type": "display_data"
    },
    {
     "name": "stderr",
     "output_type": "stream",
     "text": [
      "\r",
      "Processing ligands: 419it [01:34,  4.26it/s]"
     ]
    },
    {
     "name": "stdout",
     "output_type": "stream",
     "text": [
      "/media/lmeuret/Seagate Portable Drive/result_docking/DOCKING_project/Conan-main/results_SMINA/DOCKED/ligand430/output44_ligand430_2023-11-22-15_52/best.pdbqt\n",
      "/media/lmeuret/Seagate Portable Drive/result_docking/DOCKING_project/Conan-main/receptors/output44.pdbqt\n"
     ]
    },
    {
     "data": {
      "application/vnd.jupyter.widget-view+json": {
       "model_id": "4f1eb5103eaa43cf94b78d49b9f2630f",
       "version_major": 2,
       "version_minor": 0
      },
      "text/plain": [
       "  0%|          | 0/1 [00:00<?, ?it/s]"
      ]
     },
     "metadata": {},
     "output_type": "display_data"
    },
    {
     "name": "stderr",
     "output_type": "stream",
     "text": [
      "\r",
      "Processing ligands: 420it [01:34,  4.34it/s]"
     ]
    },
    {
     "name": "stdout",
     "output_type": "stream",
     "text": [
      "/media/lmeuret/Seagate Portable Drive/result_docking/DOCKING_project/Conan-main/results_SMINA/DOCKED/ligand431/output44_ligand431_2023-11-22-15_52/best.pdbqt\n",
      "/media/lmeuret/Seagate Portable Drive/result_docking/DOCKING_project/Conan-main/receptors/output44.pdbqt\n"
     ]
    },
    {
     "data": {
      "application/vnd.jupyter.widget-view+json": {
       "model_id": "d2978fd2d4b5461d8d24e0e4d5a370e4",
       "version_major": 2,
       "version_minor": 0
      },
      "text/plain": [
       "  0%|          | 0/1 [00:00<?, ?it/s]"
      ]
     },
     "metadata": {},
     "output_type": "display_data"
    },
    {
     "name": "stderr",
     "output_type": "stream",
     "text": [
      "\r",
      "Processing ligands: 421it [01:35,  4.37it/s]"
     ]
    },
    {
     "name": "stdout",
     "output_type": "stream",
     "text": [
      "/media/lmeuret/Seagate Portable Drive/result_docking/DOCKING_project/Conan-main/results_SMINA/DOCKED/ligand432/output44_ligand432_2023-11-22-15_52/best.pdbqt\n",
      "/media/lmeuret/Seagate Portable Drive/result_docking/DOCKING_project/Conan-main/receptors/output44.pdbqt\n"
     ]
    },
    {
     "data": {
      "application/vnd.jupyter.widget-view+json": {
       "model_id": "888122fb997943de8234cd5dba422fc8",
       "version_major": 2,
       "version_minor": 0
      },
      "text/plain": [
       "  0%|          | 0/1 [00:00<?, ?it/s]"
      ]
     },
     "metadata": {},
     "output_type": "display_data"
    },
    {
     "name": "stderr",
     "output_type": "stream",
     "text": [
      "\r",
      "Processing ligands: 422it [01:35,  3.86it/s]"
     ]
    },
    {
     "name": "stdout",
     "output_type": "stream",
     "text": [
      "/media/lmeuret/Seagate Portable Drive/result_docking/DOCKING_project/Conan-main/results_SMINA/DOCKED/ligand433/output44_ligand433_2023-11-22-15_52/best.pdbqt\n",
      "/media/lmeuret/Seagate Portable Drive/result_docking/DOCKING_project/Conan-main/receptors/output44.pdbqt\n"
     ]
    },
    {
     "data": {
      "application/vnd.jupyter.widget-view+json": {
       "model_id": "2990e7ca07b3476490e604215e656d96",
       "version_major": 2,
       "version_minor": 0
      },
      "text/plain": [
       "  0%|          | 0/1 [00:00<?, ?it/s]"
      ]
     },
     "metadata": {},
     "output_type": "display_data"
    },
    {
     "name": "stderr",
     "output_type": "stream",
     "text": [
      "\r",
      "Processing ligands: 423it [01:35,  3.94it/s]"
     ]
    },
    {
     "name": "stdout",
     "output_type": "stream",
     "text": [
      "/media/lmeuret/Seagate Portable Drive/result_docking/DOCKING_project/Conan-main/results_SMINA/DOCKED/ligand434/output44_ligand434_2023-11-22-15_52/best.pdbqt\n",
      "/media/lmeuret/Seagate Portable Drive/result_docking/DOCKING_project/Conan-main/receptors/output44.pdbqt\n"
     ]
    },
    {
     "data": {
      "application/vnd.jupyter.widget-view+json": {
       "model_id": "4c46e1e5abc84c57a91999cff7cb645c",
       "version_major": 2,
       "version_minor": 0
      },
      "text/plain": [
       "  0%|          | 0/1 [00:00<?, ?it/s]"
      ]
     },
     "metadata": {},
     "output_type": "display_data"
    },
    {
     "name": "stderr",
     "output_type": "stream",
     "text": [
      "\r",
      "Processing ligands: 424it [01:35,  4.06it/s]"
     ]
    },
    {
     "name": "stdout",
     "output_type": "stream",
     "text": [
      "/media/lmeuret/Seagate Portable Drive/result_docking/DOCKING_project/Conan-main/results_SMINA/DOCKED/ligand435/output44_ligand435_2023-11-22-15_52/best.pdbqt\n",
      "/media/lmeuret/Seagate Portable Drive/result_docking/DOCKING_project/Conan-main/receptors/output44.pdbqt\n"
     ]
    },
    {
     "data": {
      "application/vnd.jupyter.widget-view+json": {
       "model_id": "589fedf06b6b4c05b0b100d6163cc169",
       "version_major": 2,
       "version_minor": 0
      },
      "text/plain": [
       "  0%|          | 0/1 [00:00<?, ?it/s]"
      ]
     },
     "metadata": {},
     "output_type": "display_data"
    },
    {
     "name": "stderr",
     "output_type": "stream",
     "text": [
      "\r",
      "Processing ligands: 425it [01:36,  4.09it/s]"
     ]
    },
    {
     "name": "stdout",
     "output_type": "stream",
     "text": [
      "/media/lmeuret/Seagate Portable Drive/result_docking/DOCKING_project/Conan-main/results_SMINA/DOCKED/ligand436/output44_ligand436_2023-11-22-15_52/best.pdbqt\n",
      "/media/lmeuret/Seagate Portable Drive/result_docking/DOCKING_project/Conan-main/receptors/output44.pdbqt\n"
     ]
    },
    {
     "data": {
      "application/vnd.jupyter.widget-view+json": {
       "model_id": "78899f63339947af8004b90c5692d8ea",
       "version_major": 2,
       "version_minor": 0
      },
      "text/plain": [
       "  0%|          | 0/1 [00:00<?, ?it/s]"
      ]
     },
     "metadata": {},
     "output_type": "display_data"
    },
    {
     "name": "stderr",
     "output_type": "stream",
     "text": [
      "\r",
      "Processing ligands: 426it [01:36,  4.22it/s]"
     ]
    },
    {
     "name": "stdout",
     "output_type": "stream",
     "text": [
      "/media/lmeuret/Seagate Portable Drive/result_docking/DOCKING_project/Conan-main/results_SMINA/DOCKED/ligand437/output44_ligand437_2023-11-22-15_52/best.pdbqt\n",
      "/media/lmeuret/Seagate Portable Drive/result_docking/DOCKING_project/Conan-main/receptors/output44.pdbqt\n"
     ]
    },
    {
     "data": {
      "application/vnd.jupyter.widget-view+json": {
       "model_id": "41d99b8057cc458d896c59415743a4df",
       "version_major": 2,
       "version_minor": 0
      },
      "text/plain": [
       "  0%|          | 0/1 [00:00<?, ?it/s]"
      ]
     },
     "metadata": {},
     "output_type": "display_data"
    },
    {
     "name": "stderr",
     "output_type": "stream",
     "text": [
      "\r",
      "Processing ligands: 427it [01:36,  4.22it/s]"
     ]
    },
    {
     "name": "stdout",
     "output_type": "stream",
     "text": [
      "/media/lmeuret/Seagate Portable Drive/result_docking/DOCKING_project/Conan-main/results_SMINA/DOCKED/ligand438/output44_ligand438_2023-11-22-15_52/best.pdbqt\n",
      "/media/lmeuret/Seagate Portable Drive/result_docking/DOCKING_project/Conan-main/receptors/output44.pdbqt\n"
     ]
    },
    {
     "data": {
      "application/vnd.jupyter.widget-view+json": {
       "model_id": "fc0d9b35bf1648daa87ce2bef2c9af7d",
       "version_major": 2,
       "version_minor": 0
      },
      "text/plain": [
       "  0%|          | 0/1 [00:00<?, ?it/s]"
      ]
     },
     "metadata": {},
     "output_type": "display_data"
    },
    {
     "name": "stderr",
     "output_type": "stream",
     "text": [
      "\r",
      "Processing ligands: 428it [01:36,  4.17it/s]"
     ]
    },
    {
     "name": "stdout",
     "output_type": "stream",
     "text": [
      "/media/lmeuret/Seagate Portable Drive/result_docking/DOCKING_project/Conan-main/results_SMINA/DOCKED/ligand439/output44_ligand439_2023-11-22-15_52/best.pdbqt\n",
      "/media/lmeuret/Seagate Portable Drive/result_docking/DOCKING_project/Conan-main/receptors/output44.pdbqt\n"
     ]
    },
    {
     "data": {
      "application/vnd.jupyter.widget-view+json": {
       "model_id": "baa74b09d17a423aa260a52d308fda64",
       "version_major": 2,
       "version_minor": 0
      },
      "text/plain": [
       "  0%|          | 0/1 [00:00<?, ?it/s]"
      ]
     },
     "metadata": {},
     "output_type": "display_data"
    },
    {
     "name": "stderr",
     "output_type": "stream",
     "text": [
      "\r",
      "Processing ligands: 429it [01:37,  4.19it/s]"
     ]
    },
    {
     "name": "stdout",
     "output_type": "stream",
     "text": [
      "/media/lmeuret/Seagate Portable Drive/result_docking/DOCKING_project/Conan-main/results_SMINA/DOCKED/ligand44/output44_ligand44_2023-11-22-15_52/best.pdbqt\n",
      "/media/lmeuret/Seagate Portable Drive/result_docking/DOCKING_project/Conan-main/receptors/output44.pdbqt\n"
     ]
    },
    {
     "data": {
      "application/vnd.jupyter.widget-view+json": {
       "model_id": "59398dfa37914ddeba6e269bfecca4a4",
       "version_major": 2,
       "version_minor": 0
      },
      "text/plain": [
       "  0%|          | 0/1 [00:00<?, ?it/s]"
      ]
     },
     "metadata": {},
     "output_type": "display_data"
    },
    {
     "name": "stderr",
     "output_type": "stream",
     "text": [
      "\r",
      "Processing ligands: 430it [01:37,  4.20it/s]"
     ]
    },
    {
     "name": "stdout",
     "output_type": "stream",
     "text": [
      "/media/lmeuret/Seagate Portable Drive/result_docking/DOCKING_project/Conan-main/results_SMINA/DOCKED/ligand440/output44_ligand440_2023-11-22-15_52/best.pdbqt\n",
      "/media/lmeuret/Seagate Portable Drive/result_docking/DOCKING_project/Conan-main/receptors/output44.pdbqt\n"
     ]
    },
    {
     "data": {
      "application/vnd.jupyter.widget-view+json": {
       "model_id": "810a437927054e12956ed84e7d981d9a",
       "version_major": 2,
       "version_minor": 0
      },
      "text/plain": [
       "  0%|          | 0/1 [00:00<?, ?it/s]"
      ]
     },
     "metadata": {},
     "output_type": "display_data"
    },
    {
     "name": "stderr",
     "output_type": "stream",
     "text": [
      "\r",
      "Processing ligands: 431it [01:37,  4.35it/s]"
     ]
    },
    {
     "name": "stdout",
     "output_type": "stream",
     "text": [
      "/media/lmeuret/Seagate Portable Drive/result_docking/DOCKING_project/Conan-main/results_SMINA/DOCKED/ligand441/output44_ligand441_2023-11-22-15_52/best.pdbqt\n",
      "/media/lmeuret/Seagate Portable Drive/result_docking/DOCKING_project/Conan-main/receptors/output44.pdbqt\n"
     ]
    },
    {
     "data": {
      "application/vnd.jupyter.widget-view+json": {
       "model_id": "8dcaa1ab15ce48b4a420bc74ad8e4cb0",
       "version_major": 2,
       "version_minor": 0
      },
      "text/plain": [
       "  0%|          | 0/1 [00:00<?, ?it/s]"
      ]
     },
     "metadata": {},
     "output_type": "display_data"
    },
    {
     "name": "stderr",
     "output_type": "stream",
     "text": [
      "\r",
      "Processing ligands: 432it [01:37,  4.33it/s]"
     ]
    },
    {
     "name": "stdout",
     "output_type": "stream",
     "text": [
      "/media/lmeuret/Seagate Portable Drive/result_docking/DOCKING_project/Conan-main/results_SMINA/DOCKED/ligand442/output44_ligand442_2023-11-22-15_52/best.pdbqt\n",
      "/media/lmeuret/Seagate Portable Drive/result_docking/DOCKING_project/Conan-main/receptors/output44.pdbqt\n"
     ]
    },
    {
     "data": {
      "application/vnd.jupyter.widget-view+json": {
       "model_id": "cc55cb53dc8e485d9f0b5f4ee59de604",
       "version_major": 2,
       "version_minor": 0
      },
      "text/plain": [
       "  0%|          | 0/1 [00:00<?, ?it/s]"
      ]
     },
     "metadata": {},
     "output_type": "display_data"
    },
    {
     "name": "stderr",
     "output_type": "stream",
     "text": [
      "\r",
      "Processing ligands: 433it [01:38,  4.31it/s]"
     ]
    },
    {
     "name": "stdout",
     "output_type": "stream",
     "text": [
      "/media/lmeuret/Seagate Portable Drive/result_docking/DOCKING_project/Conan-main/results_SMINA/DOCKED/ligand907/output44_ligand907_2023-11-22-15_52/best.pdbqt\n",
      "/media/lmeuret/Seagate Portable Drive/result_docking/DOCKING_project/Conan-main/receptors/output44.pdbqt\n"
     ]
    },
    {
     "data": {
      "application/vnd.jupyter.widget-view+json": {
       "model_id": "9fd941b42c264d5096f7d327a36b4cf7",
       "version_major": 2,
       "version_minor": 0
      },
      "text/plain": [
       "  0%|          | 0/1 [00:00<?, ?it/s]"
      ]
     },
     "metadata": {},
     "output_type": "display_data"
    },
    {
     "name": "stderr",
     "output_type": "stream",
     "text": [
      "\r",
      "Processing ligands: 434it [01:38,  4.60it/s]"
     ]
    },
    {
     "name": "stdout",
     "output_type": "stream",
     "text": [
      "/media/lmeuret/Seagate Portable Drive/result_docking/DOCKING_project/Conan-main/results_SMINA/DOCKED/ligand908/output44_ligand908_2023-11-22-15_52/best.pdbqt\n",
      "/media/lmeuret/Seagate Portable Drive/result_docking/DOCKING_project/Conan-main/receptors/output44.pdbqt\n"
     ]
    },
    {
     "data": {
      "application/vnd.jupyter.widget-view+json": {
       "model_id": "908b27996e9d4c199e5bd1bea12f7e20",
       "version_major": 2,
       "version_minor": 0
      },
      "text/plain": [
       "  0%|          | 0/1 [00:00<?, ?it/s]"
      ]
     },
     "metadata": {},
     "output_type": "display_data"
    },
    {
     "name": "stderr",
     "output_type": "stream",
     "text": [
      "\r",
      "Processing ligands: 435it [01:38,  4.62it/s]"
     ]
    },
    {
     "name": "stdout",
     "output_type": "stream",
     "text": [
      "/media/lmeuret/Seagate Portable Drive/result_docking/DOCKING_project/Conan-main/results_SMINA/DOCKED/ligand909/output44_ligand909_2023-11-22-15_52/best.pdbqt\n",
      "/media/lmeuret/Seagate Portable Drive/result_docking/DOCKING_project/Conan-main/receptors/output44.pdbqt\n"
     ]
    },
    {
     "data": {
      "application/vnd.jupyter.widget-view+json": {
       "model_id": "6f9165a02552450fbe6259b464b2b02d",
       "version_major": 2,
       "version_minor": 0
      },
      "text/plain": [
       "  0%|          | 0/1 [00:00<?, ?it/s]"
      ]
     },
     "metadata": {},
     "output_type": "display_data"
    },
    {
     "name": "stderr",
     "output_type": "stream",
     "text": [
      "\r",
      "Processing ligands: 436it [01:38,  4.55it/s]"
     ]
    },
    {
     "name": "stdout",
     "output_type": "stream",
     "text": [
      "/media/lmeuret/Seagate Portable Drive/result_docking/DOCKING_project/Conan-main/results_SMINA/DOCKED/ligand91/output44_ligand91_2023-11-22-15_52/best.pdbqt\n",
      "/media/lmeuret/Seagate Portable Drive/result_docking/DOCKING_project/Conan-main/receptors/output44.pdbqt\n"
     ]
    },
    {
     "data": {
      "application/vnd.jupyter.widget-view+json": {
       "model_id": "634a48f675b64ea48281b6e1543ee15b",
       "version_major": 2,
       "version_minor": 0
      },
      "text/plain": [
       "  0%|          | 0/1 [00:00<?, ?it/s]"
      ]
     },
     "metadata": {},
     "output_type": "display_data"
    },
    {
     "name": "stderr",
     "output_type": "stream",
     "text": [
      "\r",
      "Processing ligands: 437it [01:38,  4.44it/s]"
     ]
    },
    {
     "name": "stdout",
     "output_type": "stream",
     "text": [
      "/media/lmeuret/Seagate Portable Drive/result_docking/DOCKING_project/Conan-main/results_SMINA/DOCKED/ligand910/output44_ligand910_2023-11-22-15_52/best.pdbqt\n",
      "/media/lmeuret/Seagate Portable Drive/result_docking/DOCKING_project/Conan-main/receptors/output44.pdbqt\n"
     ]
    },
    {
     "data": {
      "application/vnd.jupyter.widget-view+json": {
       "model_id": "baa0da9b9e7840edaafab9961e05ad61",
       "version_major": 2,
       "version_minor": 0
      },
      "text/plain": [
       "  0%|          | 0/1 [00:00<?, ?it/s]"
      ]
     },
     "metadata": {},
     "output_type": "display_data"
    },
    {
     "name": "stderr",
     "output_type": "stream",
     "text": [
      "\r",
      "Processing ligands: 438it [01:39,  4.43it/s]"
     ]
    },
    {
     "name": "stdout",
     "output_type": "stream",
     "text": [
      "/media/lmeuret/Seagate Portable Drive/result_docking/DOCKING_project/Conan-main/results_SMINA/DOCKED/ligand911/output44_ligand911_2023-11-22-15_52/best.pdbqt\n",
      "/media/lmeuret/Seagate Portable Drive/result_docking/DOCKING_project/Conan-main/receptors/output44.pdbqt\n"
     ]
    },
    {
     "data": {
      "application/vnd.jupyter.widget-view+json": {
       "model_id": "03ad0b8df58644f7a0be8cc9ce571652",
       "version_major": 2,
       "version_minor": 0
      },
      "text/plain": [
       "  0%|          | 0/1 [00:00<?, ?it/s]"
      ]
     },
     "metadata": {},
     "output_type": "display_data"
    },
    {
     "name": "stderr",
     "output_type": "stream",
     "text": [
      "\r",
      "Processing ligands: 439it [01:39,  4.51it/s]"
     ]
    },
    {
     "name": "stdout",
     "output_type": "stream",
     "text": [
      "/media/lmeuret/Seagate Portable Drive/result_docking/DOCKING_project/Conan-main/results_SMINA/DOCKED/ligand912/output44_ligand912_2023-11-22-15_52/best.pdbqt\n",
      "/media/lmeuret/Seagate Portable Drive/result_docking/DOCKING_project/Conan-main/receptors/output44.pdbqt\n"
     ]
    },
    {
     "data": {
      "application/vnd.jupyter.widget-view+json": {
       "model_id": "8c3fb14511264c03b142935ffd9f5853",
       "version_major": 2,
       "version_minor": 0
      },
      "text/plain": [
       "  0%|          | 0/1 [00:00<?, ?it/s]"
      ]
     },
     "metadata": {},
     "output_type": "display_data"
    },
    {
     "name": "stderr",
     "output_type": "stream",
     "text": [
      "\r",
      "Processing ligands: 440it [01:39,  4.68it/s]"
     ]
    },
    {
     "name": "stdout",
     "output_type": "stream",
     "text": [
      "/media/lmeuret/Seagate Portable Drive/result_docking/DOCKING_project/Conan-main/results_SMINA/DOCKED/ligand913/output44_ligand913_2023-11-22-15_52/best.pdbqt\n",
      "/media/lmeuret/Seagate Portable Drive/result_docking/DOCKING_project/Conan-main/receptors/output44.pdbqt\n"
     ]
    },
    {
     "data": {
      "application/vnd.jupyter.widget-view+json": {
       "model_id": "71943357700e4339a205cde60cb96855",
       "version_major": 2,
       "version_minor": 0
      },
      "text/plain": [
       "  0%|          | 0/1 [00:00<?, ?it/s]"
      ]
     },
     "metadata": {},
     "output_type": "display_data"
    },
    {
     "name": "stderr",
     "output_type": "stream",
     "text": [
      "\r",
      "Processing ligands: 441it [01:39,  4.67it/s]"
     ]
    },
    {
     "name": "stdout",
     "output_type": "stream",
     "text": [
      "/media/lmeuret/Seagate Portable Drive/result_docking/DOCKING_project/Conan-main/results_SMINA/DOCKED/ligand914/output44_ligand914_2023-11-22-15_52/best.pdbqt\n",
      "/media/lmeuret/Seagate Portable Drive/result_docking/DOCKING_project/Conan-main/receptors/output44.pdbqt\n"
     ]
    },
    {
     "data": {
      "application/vnd.jupyter.widget-view+json": {
       "model_id": "ecbb11bae4d74375a8a31c77f81b2a3a",
       "version_major": 2,
       "version_minor": 0
      },
      "text/plain": [
       "  0%|          | 0/1 [00:00<?, ?it/s]"
      ]
     },
     "metadata": {},
     "output_type": "display_data"
    },
    {
     "name": "stderr",
     "output_type": "stream",
     "text": [
      "\r",
      "Processing ligands: 442it [01:39,  4.68it/s]"
     ]
    },
    {
     "name": "stdout",
     "output_type": "stream",
     "text": [
      "/media/lmeuret/Seagate Portable Drive/result_docking/DOCKING_project/Conan-main/results_SMINA/DOCKED/ligand915/output44_ligand915_2023-11-22-15_52/best.pdbqt\n",
      "/media/lmeuret/Seagate Portable Drive/result_docking/DOCKING_project/Conan-main/receptors/output44.pdbqt\n"
     ]
    },
    {
     "data": {
      "application/vnd.jupyter.widget-view+json": {
       "model_id": "9a8874634e464e14b0f1013df4f720b3",
       "version_major": 2,
       "version_minor": 0
      },
      "text/plain": [
       "  0%|          | 0/1 [00:00<?, ?it/s]"
      ]
     },
     "metadata": {},
     "output_type": "display_data"
    },
    {
     "name": "stderr",
     "output_type": "stream",
     "text": [
      "\r",
      "Processing ligands: 443it [01:40,  4.70it/s]"
     ]
    },
    {
     "name": "stdout",
     "output_type": "stream",
     "text": [
      "/media/lmeuret/Seagate Portable Drive/result_docking/DOCKING_project/Conan-main/results_SMINA/DOCKED/ligand916/output44_ligand916_2023-11-22-15_52/best.pdbqt\n",
      "/media/lmeuret/Seagate Portable Drive/result_docking/DOCKING_project/Conan-main/receptors/output44.pdbqt\n"
     ]
    },
    {
     "data": {
      "application/vnd.jupyter.widget-view+json": {
       "model_id": "50d86efe4baa4b5bab00d15788e0b519",
       "version_major": 2,
       "version_minor": 0
      },
      "text/plain": [
       "  0%|          | 0/1 [00:00<?, ?it/s]"
      ]
     },
     "metadata": {},
     "output_type": "display_data"
    },
    {
     "name": "stderr",
     "output_type": "stream",
     "text": [
      "\r",
      "Processing ligands: 444it [01:40,  4.71it/s]"
     ]
    },
    {
     "name": "stdout",
     "output_type": "stream",
     "text": [
      "/media/lmeuret/Seagate Portable Drive/result_docking/DOCKING_project/Conan-main/results_SMINA/DOCKED/ligand917/output44_ligand917_2023-11-22-15_52/best.pdbqt\n",
      "/media/lmeuret/Seagate Portable Drive/result_docking/DOCKING_project/Conan-main/receptors/output44.pdbqt\n"
     ]
    },
    {
     "data": {
      "application/vnd.jupyter.widget-view+json": {
       "model_id": "3de199289bf94373b50b5f6d59a2caea",
       "version_major": 2,
       "version_minor": 0
      },
      "text/plain": [
       "  0%|          | 0/1 [00:00<?, ?it/s]"
      ]
     },
     "metadata": {},
     "output_type": "display_data"
    },
    {
     "name": "stderr",
     "output_type": "stream",
     "text": [
      "\r",
      "Processing ligands: 445it [01:40,  4.64it/s]"
     ]
    },
    {
     "name": "stdout",
     "output_type": "stream",
     "text": [
      "/media/lmeuret/Seagate Portable Drive/result_docking/DOCKING_project/Conan-main/results_SMINA/DOCKED/ligand918/output44_ligand918_2023-11-22-15_52/best.pdbqt\n",
      "/media/lmeuret/Seagate Portable Drive/result_docking/DOCKING_project/Conan-main/receptors/output44.pdbqt\n"
     ]
    },
    {
     "data": {
      "application/vnd.jupyter.widget-view+json": {
       "model_id": "65b8debf70e0421294dcfa08f5c60c21",
       "version_major": 2,
       "version_minor": 0
      },
      "text/plain": [
       "  0%|          | 0/1 [00:00<?, ?it/s]"
      ]
     },
     "metadata": {},
     "output_type": "display_data"
    },
    {
     "name": "stderr",
     "output_type": "stream",
     "text": [
      "\r",
      "Processing ligands: 446it [01:40,  4.71it/s]"
     ]
    },
    {
     "name": "stdout",
     "output_type": "stream",
     "text": [
      "/media/lmeuret/Seagate Portable Drive/result_docking/DOCKING_project/Conan-main/results_SMINA/DOCKED/ligand919/output44_ligand919_2023-11-22-15_52/best.pdbqt\n",
      "/media/lmeuret/Seagate Portable Drive/result_docking/DOCKING_project/Conan-main/receptors/output44.pdbqt\n"
     ]
    },
    {
     "data": {
      "application/vnd.jupyter.widget-view+json": {
       "model_id": "1253b06e18be492f8ef2dc0f57e291cc",
       "version_major": 2,
       "version_minor": 0
      },
      "text/plain": [
       "  0%|          | 0/1 [00:00<?, ?it/s]"
      ]
     },
     "metadata": {},
     "output_type": "display_data"
    },
    {
     "name": "stderr",
     "output_type": "stream",
     "text": [
      "\r",
      "Processing ligands: 447it [01:41,  4.82it/s]"
     ]
    },
    {
     "name": "stdout",
     "output_type": "stream",
     "text": [
      "/media/lmeuret/Seagate Portable Drive/result_docking/DOCKING_project/Conan-main/results_SMINA/DOCKED/ligand92/output44_ligand92_2023-11-22-15_52/best.pdbqt\n",
      "/media/lmeuret/Seagate Portable Drive/result_docking/DOCKING_project/Conan-main/receptors/output44.pdbqt\n"
     ]
    },
    {
     "data": {
      "application/vnd.jupyter.widget-view+json": {
       "model_id": "c96cf7e7b2c84331be3c3539d89a6f7a",
       "version_major": 2,
       "version_minor": 0
      },
      "text/plain": [
       "  0%|          | 0/1 [00:00<?, ?it/s]"
      ]
     },
     "metadata": {},
     "output_type": "display_data"
    },
    {
     "name": "stderr",
     "output_type": "stream",
     "text": [
      "\r",
      "Processing ligands: 448it [01:41,  4.67it/s]"
     ]
    },
    {
     "name": "stdout",
     "output_type": "stream",
     "text": [
      "/media/lmeuret/Seagate Portable Drive/result_docking/DOCKING_project/Conan-main/results_SMINA/DOCKED/ligand920/output44_ligand920_2023-11-22-15_52/best.pdbqt\n",
      "/media/lmeuret/Seagate Portable Drive/result_docking/DOCKING_project/Conan-main/receptors/output44.pdbqt\n"
     ]
    },
    {
     "data": {
      "application/vnd.jupyter.widget-view+json": {
       "model_id": "0bbf1341232a44dea3b47aae73daecd6",
       "version_major": 2,
       "version_minor": 0
      },
      "text/plain": [
       "  0%|          | 0/1 [00:00<?, ?it/s]"
      ]
     },
     "metadata": {},
     "output_type": "display_data"
    },
    {
     "name": "stderr",
     "output_type": "stream",
     "text": [
      "\r",
      "Processing ligands: 449it [01:41,  4.58it/s]"
     ]
    },
    {
     "name": "stdout",
     "output_type": "stream",
     "text": [
      "/media/lmeuret/Seagate Portable Drive/result_docking/DOCKING_project/Conan-main/results_SMINA/DOCKED/ligand921/output44_ligand921_2023-11-22-15_52/best.pdbqt\n",
      "/media/lmeuret/Seagate Portable Drive/result_docking/DOCKING_project/Conan-main/receptors/output44.pdbqt\n"
     ]
    },
    {
     "data": {
      "application/vnd.jupyter.widget-view+json": {
       "model_id": "2a39f67c90fe4c1eb435df163a7e78ac",
       "version_major": 2,
       "version_minor": 0
      },
      "text/plain": [
       "  0%|          | 0/1 [00:00<?, ?it/s]"
      ]
     },
     "metadata": {},
     "output_type": "display_data"
    },
    {
     "name": "stderr",
     "output_type": "stream",
     "text": [
      "\r",
      "Processing ligands: 450it [01:41,  4.65it/s]"
     ]
    },
    {
     "name": "stdout",
     "output_type": "stream",
     "text": [
      "/media/lmeuret/Seagate Portable Drive/result_docking/DOCKING_project/Conan-main/results_SMINA/DOCKED/ligand922/output44_ligand922_2023-11-22-15_52/best.pdbqt\n",
      "/media/lmeuret/Seagate Portable Drive/result_docking/DOCKING_project/Conan-main/receptors/output44.pdbqt\n"
     ]
    },
    {
     "data": {
      "application/vnd.jupyter.widget-view+json": {
       "model_id": "5280b12ae3fa49cc86cdbc6132d08632",
       "version_major": 2,
       "version_minor": 0
      },
      "text/plain": [
       "  0%|          | 0/1 [00:00<?, ?it/s]"
      ]
     },
     "metadata": {},
     "output_type": "display_data"
    },
    {
     "name": "stderr",
     "output_type": "stream",
     "text": [
      "\r",
      "Processing ligands: 451it [01:41,  4.71it/s]"
     ]
    },
    {
     "name": "stdout",
     "output_type": "stream",
     "text": [
      "/media/lmeuret/Seagate Portable Drive/result_docking/DOCKING_project/Conan-main/results_SMINA/DOCKED/ligand923/output44_ligand923_2023-11-22-15_52/best.pdbqt\n",
      "/media/lmeuret/Seagate Portable Drive/result_docking/DOCKING_project/Conan-main/receptors/output44.pdbqt\n"
     ]
    },
    {
     "data": {
      "application/vnd.jupyter.widget-view+json": {
       "model_id": "0ede2cb01c5a46188ff1919a8314ee9e",
       "version_major": 2,
       "version_minor": 0
      },
      "text/plain": [
       "  0%|          | 0/1 [00:00<?, ?it/s]"
      ]
     },
     "metadata": {},
     "output_type": "display_data"
    },
    {
     "name": "stderr",
     "output_type": "stream",
     "text": [
      "\r",
      "Processing ligands: 452it [01:42,  4.78it/s]"
     ]
    },
    {
     "name": "stdout",
     "output_type": "stream",
     "text": [
      "/media/lmeuret/Seagate Portable Drive/result_docking/DOCKING_project/Conan-main/results_SMINA/DOCKED/ligand924/output44_ligand924_2023-11-22-15_52/best.pdbqt\n",
      "/media/lmeuret/Seagate Portable Drive/result_docking/DOCKING_project/Conan-main/receptors/output44.pdbqt\n"
     ]
    },
    {
     "data": {
      "application/vnd.jupyter.widget-view+json": {
       "model_id": "074baf66f77a45e28f64bdf71cb0a0fc",
       "version_major": 2,
       "version_minor": 0
      },
      "text/plain": [
       "  0%|          | 0/1 [00:00<?, ?it/s]"
      ]
     },
     "metadata": {},
     "output_type": "display_data"
    },
    {
     "name": "stderr",
     "output_type": "stream",
     "text": [
      "\r",
      "Processing ligands: 453it [01:42,  4.83it/s]"
     ]
    },
    {
     "name": "stdout",
     "output_type": "stream",
     "text": [
      "/media/lmeuret/Seagate Portable Drive/result_docking/DOCKING_project/Conan-main/results_SMINA/DOCKED/ligand925/output44_ligand925_2023-11-22-15_52/best.pdbqt\n",
      "/media/lmeuret/Seagate Portable Drive/result_docking/DOCKING_project/Conan-main/receptors/output44.pdbqt\n"
     ]
    },
    {
     "data": {
      "application/vnd.jupyter.widget-view+json": {
       "model_id": "c10b4dd6a8f342b7a4355d72310b7f7f",
       "version_major": 2,
       "version_minor": 0
      },
      "text/plain": [
       "  0%|          | 0/1 [00:00<?, ?it/s]"
      ]
     },
     "metadata": {},
     "output_type": "display_data"
    },
    {
     "name": "stderr",
     "output_type": "stream",
     "text": [
      "\r",
      "Processing ligands: 454it [01:42,  4.64it/s]"
     ]
    },
    {
     "name": "stdout",
     "output_type": "stream",
     "text": [
      "/media/lmeuret/Seagate Portable Drive/result_docking/DOCKING_project/Conan-main/results_SMINA/DOCKED/ligand314/output44_ligand314_2023-11-22-15_52/best.pdbqt\n",
      "/media/lmeuret/Seagate Portable Drive/result_docking/DOCKING_project/Conan-main/receptors/output44.pdbqt\n"
     ]
    },
    {
     "data": {
      "application/vnd.jupyter.widget-view+json": {
       "model_id": "f99f4a89c4f14d1d97a2c9003dcc9510",
       "version_major": 2,
       "version_minor": 0
      },
      "text/plain": [
       "  0%|          | 0/1 [00:00<?, ?it/s]"
      ]
     },
     "metadata": {},
     "output_type": "display_data"
    },
    {
     "name": "stderr",
     "output_type": "stream",
     "text": [
      "\r",
      "Processing ligands: 455it [01:42,  4.49it/s]"
     ]
    },
    {
     "name": "stdout",
     "output_type": "stream",
     "text": [
      "/media/lmeuret/Seagate Portable Drive/result_docking/DOCKING_project/Conan-main/results_SMINA/DOCKED/ligand315/output44_ligand315_2023-11-22-15_52/best.pdbqt\n",
      "/media/lmeuret/Seagate Portable Drive/result_docking/DOCKING_project/Conan-main/receptors/output44.pdbqt\n"
     ]
    },
    {
     "data": {
      "application/vnd.jupyter.widget-view+json": {
       "model_id": "be7eb868c6ff4f14998b3b00103d59b4",
       "version_major": 2,
       "version_minor": 0
      },
      "text/plain": [
       "  0%|          | 0/1 [00:00<?, ?it/s]"
      ]
     },
     "metadata": {},
     "output_type": "display_data"
    },
    {
     "name": "stderr",
     "output_type": "stream",
     "text": [
      "\r",
      "Processing ligands: 456it [01:42,  4.47it/s]"
     ]
    },
    {
     "name": "stdout",
     "output_type": "stream",
     "text": [
      "/media/lmeuret/Seagate Portable Drive/result_docking/DOCKING_project/Conan-main/results_SMINA/DOCKED/ligand316/output44_ligand316_2023-11-22-15_52/best.pdbqt\n",
      "/media/lmeuret/Seagate Portable Drive/result_docking/DOCKING_project/Conan-main/receptors/output44.pdbqt\n"
     ]
    },
    {
     "data": {
      "application/vnd.jupyter.widget-view+json": {
       "model_id": "e8aa68d478804520a72cb285772e6d3b",
       "version_major": 2,
       "version_minor": 0
      },
      "text/plain": [
       "  0%|          | 0/1 [00:00<?, ?it/s]"
      ]
     },
     "metadata": {},
     "output_type": "display_data"
    },
    {
     "name": "stderr",
     "output_type": "stream",
     "text": [
      "\r",
      "Processing ligands: 457it [01:43,  4.46it/s]"
     ]
    },
    {
     "name": "stdout",
     "output_type": "stream",
     "text": [
      "/media/lmeuret/Seagate Portable Drive/result_docking/DOCKING_project/Conan-main/results_SMINA/DOCKED/ligand317/output44_ligand317_2023-11-22-15_52/best.pdbqt\n",
      "/media/lmeuret/Seagate Portable Drive/result_docking/DOCKING_project/Conan-main/receptors/output44.pdbqt\n"
     ]
    },
    {
     "data": {
      "application/vnd.jupyter.widget-view+json": {
       "model_id": "669899b6655e46a4857cbae55adf2238",
       "version_major": 2,
       "version_minor": 0
      },
      "text/plain": [
       "  0%|          | 0/1 [00:00<?, ?it/s]"
      ]
     },
     "metadata": {},
     "output_type": "display_data"
    },
    {
     "name": "stderr",
     "output_type": "stream",
     "text": [
      "\r",
      "Processing ligands: 458it [01:43,  4.53it/s]"
     ]
    },
    {
     "name": "stdout",
     "output_type": "stream",
     "text": [
      "/media/lmeuret/Seagate Portable Drive/result_docking/DOCKING_project/Conan-main/results_SMINA/DOCKED/ligand318/output44_ligand318_2023-11-22-15_52/best.pdbqt\n",
      "/media/lmeuret/Seagate Portable Drive/result_docking/DOCKING_project/Conan-main/receptors/output44.pdbqt\n"
     ]
    },
    {
     "data": {
      "application/vnd.jupyter.widget-view+json": {
       "model_id": "12b31652192d4bf298b2c86d5b31b350",
       "version_major": 2,
       "version_minor": 0
      },
      "text/plain": [
       "  0%|          | 0/1 [00:00<?, ?it/s]"
      ]
     },
     "metadata": {},
     "output_type": "display_data"
    },
    {
     "name": "stderr",
     "output_type": "stream",
     "text": [
      "\r",
      "Processing ligands: 459it [01:43,  4.59it/s]"
     ]
    },
    {
     "name": "stdout",
     "output_type": "stream",
     "text": [
      "/media/lmeuret/Seagate Portable Drive/result_docking/DOCKING_project/Conan-main/results_SMINA/DOCKED/ligand319/output44_ligand319_2023-11-22-15_52/best.pdbqt\n",
      "/media/lmeuret/Seagate Portable Drive/result_docking/DOCKING_project/Conan-main/receptors/output44.pdbqt\n"
     ]
    },
    {
     "data": {
      "application/vnd.jupyter.widget-view+json": {
       "model_id": "0ef49933fb0e4dc993d0c7bf8e634fe8",
       "version_major": 2,
       "version_minor": 0
      },
      "text/plain": [
       "  0%|          | 0/1 [00:00<?, ?it/s]"
      ]
     },
     "metadata": {},
     "output_type": "display_data"
    },
    {
     "name": "stderr",
     "output_type": "stream",
     "text": [
      "\r",
      "Processing ligands: 460it [01:43,  4.49it/s]"
     ]
    },
    {
     "name": "stdout",
     "output_type": "stream",
     "text": [
      "/media/lmeuret/Seagate Portable Drive/result_docking/DOCKING_project/Conan-main/results_SMINA/DOCKED/ligand32/output44_ligand32_2023-11-22-15_52/best.pdbqt\n",
      "/media/lmeuret/Seagate Portable Drive/result_docking/DOCKING_project/Conan-main/receptors/output44.pdbqt\n"
     ]
    },
    {
     "data": {
      "application/vnd.jupyter.widget-view+json": {
       "model_id": "9293bba5b09b4994aa240a1814102976",
       "version_major": 2,
       "version_minor": 0
      },
      "text/plain": [
       "  0%|          | 0/1 [00:00<?, ?it/s]"
      ]
     },
     "metadata": {},
     "output_type": "display_data"
    },
    {
     "name": "stderr",
     "output_type": "stream",
     "text": [
      "\r",
      "Processing ligands: 461it [01:44,  4.39it/s]"
     ]
    },
    {
     "name": "stdout",
     "output_type": "stream",
     "text": [
      "/media/lmeuret/Seagate Portable Drive/result_docking/DOCKING_project/Conan-main/results_SMINA/DOCKED/ligand320/output44_ligand320_2023-11-22-15_52/best.pdbqt\n",
      "/media/lmeuret/Seagate Portable Drive/result_docking/DOCKING_project/Conan-main/receptors/output44.pdbqt\n"
     ]
    },
    {
     "data": {
      "application/vnd.jupyter.widget-view+json": {
       "model_id": "b055b9e19796415f98919753dda03986",
       "version_major": 2,
       "version_minor": 0
      },
      "text/plain": [
       "  0%|          | 0/1 [00:00<?, ?it/s]"
      ]
     },
     "metadata": {},
     "output_type": "display_data"
    },
    {
     "name": "stderr",
     "output_type": "stream",
     "text": [
      "\r",
      "Processing ligands: 462it [01:44,  4.50it/s]"
     ]
    },
    {
     "name": "stdout",
     "output_type": "stream",
     "text": [
      "/media/lmeuret/Seagate Portable Drive/result_docking/DOCKING_project/Conan-main/results_SMINA/DOCKED/ligand321/output44_ligand321_2023-11-22-15_52/best.pdbqt\n",
      "/media/lmeuret/Seagate Portable Drive/result_docking/DOCKING_project/Conan-main/receptors/output44.pdbqt\n"
     ]
    },
    {
     "data": {
      "application/vnd.jupyter.widget-view+json": {
       "model_id": "f8adccdb28ef477499e2a41781cff417",
       "version_major": 2,
       "version_minor": 0
      },
      "text/plain": [
       "  0%|          | 0/1 [00:00<?, ?it/s]"
      ]
     },
     "metadata": {},
     "output_type": "display_data"
    },
    {
     "name": "stderr",
     "output_type": "stream",
     "text": [
      "\r",
      "Processing ligands: 463it [01:44,  4.52it/s]"
     ]
    },
    {
     "name": "stdout",
     "output_type": "stream",
     "text": [
      "/media/lmeuret/Seagate Portable Drive/result_docking/DOCKING_project/Conan-main/results_SMINA/DOCKED/ligand322/output44_ligand322_2023-11-22-15_52/best.pdbqt\n",
      "/media/lmeuret/Seagate Portable Drive/result_docking/DOCKING_project/Conan-main/receptors/output44.pdbqt\n"
     ]
    },
    {
     "data": {
      "application/vnd.jupyter.widget-view+json": {
       "model_id": "e99c7b3d6a194a90b2126adad08173aa",
       "version_major": 2,
       "version_minor": 0
      },
      "text/plain": [
       "  0%|          | 0/1 [00:00<?, ?it/s]"
      ]
     },
     "metadata": {},
     "output_type": "display_data"
    },
    {
     "name": "stderr",
     "output_type": "stream",
     "text": [
      "\r",
      "Processing ligands: 464it [01:44,  4.50it/s]"
     ]
    },
    {
     "name": "stdout",
     "output_type": "stream",
     "text": [
      "/media/lmeuret/Seagate Portable Drive/result_docking/DOCKING_project/Conan-main/results_SMINA/DOCKED/ligand323/output44_ligand323_2023-11-22-15_52/best.pdbqt\n",
      "/media/lmeuret/Seagate Portable Drive/result_docking/DOCKING_project/Conan-main/receptors/output44.pdbqt\n"
     ]
    },
    {
     "data": {
      "application/vnd.jupyter.widget-view+json": {
       "model_id": "70c324fea53f45778a3fb9a90d3bfedb",
       "version_major": 2,
       "version_minor": 0
      },
      "text/plain": [
       "  0%|          | 0/1 [00:00<?, ?it/s]"
      ]
     },
     "metadata": {},
     "output_type": "display_data"
    },
    {
     "name": "stderr",
     "output_type": "stream",
     "text": [
      "\r",
      "Processing ligands: 465it [01:44,  4.64it/s]"
     ]
    },
    {
     "name": "stdout",
     "output_type": "stream",
     "text": [
      "/media/lmeuret/Seagate Portable Drive/result_docking/DOCKING_project/Conan-main/results_SMINA/DOCKED/ligand325/output44_ligand325_2023-11-22-15_52/best.pdbqt\n",
      "/media/lmeuret/Seagate Portable Drive/result_docking/DOCKING_project/Conan-main/receptors/output44.pdbqt\n"
     ]
    },
    {
     "data": {
      "application/vnd.jupyter.widget-view+json": {
       "model_id": "9dd6d7ee75134dfd848bb1c8bc8e9ce9",
       "version_major": 2,
       "version_minor": 0
      },
      "text/plain": [
       "  0%|          | 0/1 [00:00<?, ?it/s]"
      ]
     },
     "metadata": {},
     "output_type": "display_data"
    },
    {
     "name": "stderr",
     "output_type": "stream",
     "text": [
      "\r",
      "Processing ligands: 466it [01:45,  4.58it/s]"
     ]
    },
    {
     "name": "stdout",
     "output_type": "stream",
     "text": [
      "/media/lmeuret/Seagate Portable Drive/result_docking/DOCKING_project/Conan-main/results_SMINA/DOCKED/ligand326/output44_ligand326_2023-11-22-15_52/best.pdbqt\n",
      "/media/lmeuret/Seagate Portable Drive/result_docking/DOCKING_project/Conan-main/receptors/output44.pdbqt\n"
     ]
    },
    {
     "data": {
      "application/vnd.jupyter.widget-view+json": {
       "model_id": "31ecbd9c3e9b4e778e4b22e03ce8573d",
       "version_major": 2,
       "version_minor": 0
      },
      "text/plain": [
       "  0%|          | 0/1 [00:00<?, ?it/s]"
      ]
     },
     "metadata": {},
     "output_type": "display_data"
    },
    {
     "name": "stderr",
     "output_type": "stream",
     "text": [
      "\r",
      "Processing ligands: 467it [01:45,  4.40it/s]"
     ]
    },
    {
     "name": "stdout",
     "output_type": "stream",
     "text": [
      "/media/lmeuret/Seagate Portable Drive/result_docking/DOCKING_project/Conan-main/results_SMINA/DOCKED/ligand327/output44_ligand327_2023-11-22-15_52/best.pdbqt\n",
      "/media/lmeuret/Seagate Portable Drive/result_docking/DOCKING_project/Conan-main/receptors/output44.pdbqt\n"
     ]
    },
    {
     "data": {
      "application/vnd.jupyter.widget-view+json": {
       "model_id": "b0bb3b599ada496395594d5f6f68d842",
       "version_major": 2,
       "version_minor": 0
      },
      "text/plain": [
       "  0%|          | 0/1 [00:00<?, ?it/s]"
      ]
     },
     "metadata": {},
     "output_type": "display_data"
    },
    {
     "name": "stderr",
     "output_type": "stream",
     "text": [
      "\r",
      "Processing ligands: 468it [01:45,  4.36it/s]"
     ]
    },
    {
     "name": "stdout",
     "output_type": "stream",
     "text": [
      "/media/lmeuret/Seagate Portable Drive/result_docking/DOCKING_project/Conan-main/results_SMINA/DOCKED/ligand328/output44_ligand328_2023-11-22-15_52/best.pdbqt\n",
      "/media/lmeuret/Seagate Portable Drive/result_docking/DOCKING_project/Conan-main/receptors/output44.pdbqt\n"
     ]
    },
    {
     "data": {
      "application/vnd.jupyter.widget-view+json": {
       "model_id": "b24baa6b75234991bc43745a15a7d769",
       "version_major": 2,
       "version_minor": 0
      },
      "text/plain": [
       "  0%|          | 0/1 [00:00<?, ?it/s]"
      ]
     },
     "metadata": {},
     "output_type": "display_data"
    },
    {
     "name": "stderr",
     "output_type": "stream",
     "text": [
      "\r",
      "Processing ligands: 469it [01:45,  4.48it/s]"
     ]
    },
    {
     "name": "stdout",
     "output_type": "stream",
     "text": [
      "/media/lmeuret/Seagate Portable Drive/result_docking/DOCKING_project/Conan-main/results_SMINA/DOCKED/ligand329/output44_ligand329_2023-11-22-15_52/best.pdbqt\n",
      "/media/lmeuret/Seagate Portable Drive/result_docking/DOCKING_project/Conan-main/receptors/output44.pdbqt\n"
     ]
    },
    {
     "data": {
      "application/vnd.jupyter.widget-view+json": {
       "model_id": "79e473c3a17148c5a11860e7453e6195",
       "version_major": 2,
       "version_minor": 0
      },
      "text/plain": [
       "  0%|          | 0/1 [00:00<?, ?it/s]"
      ]
     },
     "metadata": {},
     "output_type": "display_data"
    },
    {
     "name": "stderr",
     "output_type": "stream",
     "text": [
      "\r",
      "Processing ligands: 470it [01:46,  4.48it/s]"
     ]
    },
    {
     "name": "stdout",
     "output_type": "stream",
     "text": [
      "/media/lmeuret/Seagate Portable Drive/result_docking/DOCKING_project/Conan-main/results_SMINA/DOCKED/ligand33/output44_ligand33_2023-11-22-15_52/best.pdbqt\n",
      "/media/lmeuret/Seagate Portable Drive/result_docking/DOCKING_project/Conan-main/receptors/output44.pdbqt\n"
     ]
    },
    {
     "data": {
      "application/vnd.jupyter.widget-view+json": {
       "model_id": "69a3521e5a004d038feeb499d7cb37af",
       "version_major": 2,
       "version_minor": 0
      },
      "text/plain": [
       "  0%|          | 0/1 [00:00<?, ?it/s]"
      ]
     },
     "metadata": {},
     "output_type": "display_data"
    },
    {
     "name": "stderr",
     "output_type": "stream",
     "text": [
      "\r",
      "Processing ligands: 471it [01:46,  4.54it/s]"
     ]
    },
    {
     "name": "stdout",
     "output_type": "stream",
     "text": [
      "/media/lmeuret/Seagate Portable Drive/result_docking/DOCKING_project/Conan-main/results_SMINA/DOCKED/ligand330/output44_ligand330_2023-11-22-15_52/best.pdbqt\n",
      "/media/lmeuret/Seagate Portable Drive/result_docking/DOCKING_project/Conan-main/receptors/output44.pdbqt\n"
     ]
    },
    {
     "data": {
      "application/vnd.jupyter.widget-view+json": {
       "model_id": "1ae75a30f88542cfbe4d823c37c2d6ef",
       "version_major": 2,
       "version_minor": 0
      },
      "text/plain": [
       "  0%|          | 0/1 [00:00<?, ?it/s]"
      ]
     },
     "metadata": {},
     "output_type": "display_data"
    },
    {
     "name": "stderr",
     "output_type": "stream",
     "text": [
      "\r",
      "Processing ligands: 472it [01:46,  4.63it/s]"
     ]
    },
    {
     "name": "stdout",
     "output_type": "stream",
     "text": [
      "/media/lmeuret/Seagate Portable Drive/result_docking/DOCKING_project/Conan-main/results_SMINA/DOCKED/ligand331/output44_ligand331_2023-11-22-15_52/best.pdbqt\n",
      "/media/lmeuret/Seagate Portable Drive/result_docking/DOCKING_project/Conan-main/receptors/output44.pdbqt\n"
     ]
    },
    {
     "data": {
      "application/vnd.jupyter.widget-view+json": {
       "model_id": "ddb4bd376a5341d5aa1f7e64d4dbcba5",
       "version_major": 2,
       "version_minor": 0
      },
      "text/plain": [
       "  0%|          | 0/1 [00:00<?, ?it/s]"
      ]
     },
     "metadata": {},
     "output_type": "display_data"
    },
    {
     "name": "stderr",
     "output_type": "stream",
     "text": [
      "\r",
      "Processing ligands: 473it [01:46,  4.64it/s]"
     ]
    },
    {
     "name": "stdout",
     "output_type": "stream",
     "text": [
      "/media/lmeuret/Seagate Portable Drive/result_docking/DOCKING_project/Conan-main/results_SMINA/DOCKED/ligand332/output44_ligand332_2023-11-22-15_52/best.pdbqt\n",
      "/media/lmeuret/Seagate Portable Drive/result_docking/DOCKING_project/Conan-main/receptors/output44.pdbqt\n"
     ]
    },
    {
     "data": {
      "application/vnd.jupyter.widget-view+json": {
       "model_id": "a7aa5b2bf3dd49a0b45c809dac0b6ce1",
       "version_major": 2,
       "version_minor": 0
      },
      "text/plain": [
       "  0%|          | 0/1 [00:00<?, ?it/s]"
      ]
     },
     "metadata": {},
     "output_type": "display_data"
    },
    {
     "name": "stderr",
     "output_type": "stream",
     "text": [
      "\r",
      "Processing ligands: 474it [01:46,  4.57it/s]"
     ]
    },
    {
     "name": "stdout",
     "output_type": "stream",
     "text": [
      "/media/lmeuret/Seagate Portable Drive/result_docking/DOCKING_project/Conan-main/results_SMINA/DOCKED/ligand333/output44_ligand333_2023-11-22-15_52/best.pdbqt\n",
      "/media/lmeuret/Seagate Portable Drive/result_docking/DOCKING_project/Conan-main/receptors/output44.pdbqt\n"
     ]
    },
    {
     "data": {
      "application/vnd.jupyter.widget-view+json": {
       "model_id": "7c32b8e234474662b8e2e6a7362e6b2e",
       "version_major": 2,
       "version_minor": 0
      },
      "text/plain": [
       "  0%|          | 0/1 [00:00<?, ?it/s]"
      ]
     },
     "metadata": {},
     "output_type": "display_data"
    },
    {
     "name": "stderr",
     "output_type": "stream",
     "text": [
      "\r",
      "Processing ligands: 475it [01:47,  4.45it/s]"
     ]
    },
    {
     "name": "stdout",
     "output_type": "stream",
     "text": [
      "/media/lmeuret/Seagate Portable Drive/result_docking/DOCKING_project/Conan-main/results_SMINA/DOCKED/ligand334/output44_ligand334_2023-11-22-15_52/best.pdbqt\n",
      "/media/lmeuret/Seagate Portable Drive/result_docking/DOCKING_project/Conan-main/receptors/output44.pdbqt\n"
     ]
    },
    {
     "data": {
      "application/vnd.jupyter.widget-view+json": {
       "model_id": "d241a515ef294bd0ab4fb817ca02b4ef",
       "version_major": 2,
       "version_minor": 0
      },
      "text/plain": [
       "  0%|          | 0/1 [00:00<?, ?it/s]"
      ]
     },
     "metadata": {},
     "output_type": "display_data"
    },
    {
     "name": "stderr",
     "output_type": "stream",
     "text": [
      "\r",
      "Processing ligands: 476it [01:47,  4.38it/s]"
     ]
    },
    {
     "name": "stdout",
     "output_type": "stream",
     "text": [
      "/media/lmeuret/Seagate Portable Drive/result_docking/DOCKING_project/Conan-main/results_SMINA/DOCKED/ligand229/output44_ligand229_2023-11-22-15_52/best.pdbqt\n",
      "/media/lmeuret/Seagate Portable Drive/result_docking/DOCKING_project/Conan-main/receptors/output44.pdbqt\n"
     ]
    },
    {
     "data": {
      "application/vnd.jupyter.widget-view+json": {
       "model_id": "08033726bf6f45cf951b18aa759c4750",
       "version_major": 2,
       "version_minor": 0
      },
      "text/plain": [
       "  0%|          | 0/1 [00:00<?, ?it/s]"
      ]
     },
     "metadata": {},
     "output_type": "display_data"
    },
    {
     "name": "stderr",
     "output_type": "stream",
     "text": [
      "\r",
      "Processing ligands: 477it [01:47,  4.52it/s]"
     ]
    },
    {
     "name": "stdout",
     "output_type": "stream",
     "text": [
      "/media/lmeuret/Seagate Portable Drive/result_docking/DOCKING_project/Conan-main/results_SMINA/DOCKED/ligand23/output44_ligand23_2023-11-22-15_52/best.pdbqt\n",
      "/media/lmeuret/Seagate Portable Drive/result_docking/DOCKING_project/Conan-main/receptors/output44.pdbqt\n"
     ]
    },
    {
     "data": {
      "application/vnd.jupyter.widget-view+json": {
       "model_id": "f92433cd80dc407c9fb947ae7fb9a5cf",
       "version_major": 2,
       "version_minor": 0
      },
      "text/plain": [
       "  0%|          | 0/1 [00:00<?, ?it/s]"
      ]
     },
     "metadata": {},
     "output_type": "display_data"
    },
    {
     "name": "stderr",
     "output_type": "stream",
     "text": [
      "\r",
      "Processing ligands: 478it [01:47,  4.62it/s]"
     ]
    },
    {
     "name": "stdout",
     "output_type": "stream",
     "text": [
      "/media/lmeuret/Seagate Portable Drive/result_docking/DOCKING_project/Conan-main/results_SMINA/DOCKED/ligand230/output44_ligand230_2023-11-22-15_52/best.pdbqt\n",
      "/media/lmeuret/Seagate Portable Drive/result_docking/DOCKING_project/Conan-main/receptors/output44.pdbqt\n"
     ]
    },
    {
     "data": {
      "application/vnd.jupyter.widget-view+json": {
       "model_id": "df99011a87ca45d2b1c2907b6742bfc0",
       "version_major": 2,
       "version_minor": 0
      },
      "text/plain": [
       "  0%|          | 0/1 [00:00<?, ?it/s]"
      ]
     },
     "metadata": {},
     "output_type": "display_data"
    },
    {
     "name": "stderr",
     "output_type": "stream",
     "text": [
      "\r",
      "Processing ligands: 479it [01:48,  4.70it/s]"
     ]
    },
    {
     "name": "stdout",
     "output_type": "stream",
     "text": [
      "/media/lmeuret/Seagate Portable Drive/result_docking/DOCKING_project/Conan-main/results_SMINA/DOCKED/ligand231/output44_ligand231_2023-11-22-15_52/best.pdbqt\n",
      "/media/lmeuret/Seagate Portable Drive/result_docking/DOCKING_project/Conan-main/receptors/output44.pdbqt\n"
     ]
    },
    {
     "data": {
      "application/vnd.jupyter.widget-view+json": {
       "model_id": "d0d2f55abb1d44639fb1cdccfe559a92",
       "version_major": 2,
       "version_minor": 0
      },
      "text/plain": [
       "  0%|          | 0/1 [00:00<?, ?it/s]"
      ]
     },
     "metadata": {},
     "output_type": "display_data"
    },
    {
     "name": "stderr",
     "output_type": "stream",
     "text": [
      "\r",
      "Processing ligands: 480it [01:48,  4.72it/s]"
     ]
    },
    {
     "name": "stdout",
     "output_type": "stream",
     "text": [
      "/media/lmeuret/Seagate Portable Drive/result_docking/DOCKING_project/Conan-main/results_SMINA/DOCKED/ligand232/output44_ligand232_2023-11-22-15_52/best.pdbqt\n",
      "/media/lmeuret/Seagate Portable Drive/result_docking/DOCKING_project/Conan-main/receptors/output44.pdbqt\n"
     ]
    },
    {
     "data": {
      "application/vnd.jupyter.widget-view+json": {
       "model_id": "ce35d15a0f824bc989d99122a6f5fb97",
       "version_major": 2,
       "version_minor": 0
      },
      "text/plain": [
       "  0%|          | 0/1 [00:00<?, ?it/s]"
      ]
     },
     "metadata": {},
     "output_type": "display_data"
    },
    {
     "name": "stderr",
     "output_type": "stream",
     "text": [
      "\r",
      "Processing ligands: 481it [01:48,  4.57it/s]"
     ]
    },
    {
     "name": "stdout",
     "output_type": "stream",
     "text": [
      "/media/lmeuret/Seagate Portable Drive/result_docking/DOCKING_project/Conan-main/results_SMINA/DOCKED/ligand233/output44_ligand233_2023-11-22-15_52/best.pdbqt\n",
      "/media/lmeuret/Seagate Portable Drive/result_docking/DOCKING_project/Conan-main/receptors/output44.pdbqt\n"
     ]
    },
    {
     "data": {
      "application/vnd.jupyter.widget-view+json": {
       "model_id": "cce42fbd00634535b076870ba3dcff81",
       "version_major": 2,
       "version_minor": 0
      },
      "text/plain": [
       "  0%|          | 0/1 [00:00<?, ?it/s]"
      ]
     },
     "metadata": {},
     "output_type": "display_data"
    },
    {
     "name": "stderr",
     "output_type": "stream",
     "text": [
      "\r",
      "Processing ligands: 482it [01:48,  4.45it/s]"
     ]
    },
    {
     "name": "stdout",
     "output_type": "stream",
     "text": [
      "/media/lmeuret/Seagate Portable Drive/result_docking/DOCKING_project/Conan-main/results_SMINA/DOCKED/ligand234/output44_ligand234_2023-11-22-15_52/best.pdbqt\n",
      "/media/lmeuret/Seagate Portable Drive/result_docking/DOCKING_project/Conan-main/receptors/output44.pdbqt\n"
     ]
    },
    {
     "data": {
      "application/vnd.jupyter.widget-view+json": {
       "model_id": "c50b2cd600d445588060ee285f8ff2bf",
       "version_major": 2,
       "version_minor": 0
      },
      "text/plain": [
       "  0%|          | 0/1 [00:00<?, ?it/s]"
      ]
     },
     "metadata": {},
     "output_type": "display_data"
    },
    {
     "name": "stderr",
     "output_type": "stream",
     "text": [
      "\r",
      "Processing ligands: 483it [01:48,  4.43it/s]"
     ]
    },
    {
     "name": "stdout",
     "output_type": "stream",
     "text": [
      "/media/lmeuret/Seagate Portable Drive/result_docking/DOCKING_project/Conan-main/results_SMINA/DOCKED/ligand235/output44_ligand235_2023-11-22-15_52/best.pdbqt\n",
      "/media/lmeuret/Seagate Portable Drive/result_docking/DOCKING_project/Conan-main/receptors/output44.pdbqt\n"
     ]
    },
    {
     "data": {
      "application/vnd.jupyter.widget-view+json": {
       "model_id": "2d07010bdd9a4fa8b9a9688e62b57098",
       "version_major": 2,
       "version_minor": 0
      },
      "text/plain": [
       "  0%|          | 0/1 [00:00<?, ?it/s]"
      ]
     },
     "metadata": {},
     "output_type": "display_data"
    },
    {
     "name": "stderr",
     "output_type": "stream",
     "text": [
      "\r",
      "Processing ligands: 484it [01:49,  4.26it/s]"
     ]
    },
    {
     "name": "stdout",
     "output_type": "stream",
     "text": [
      "/media/lmeuret/Seagate Portable Drive/result_docking/DOCKING_project/Conan-main/results_SMINA/DOCKED/ligand236/output44_ligand236_2023-11-22-15_52/best.pdbqt\n",
      "/media/lmeuret/Seagate Portable Drive/result_docking/DOCKING_project/Conan-main/receptors/output44.pdbqt\n"
     ]
    },
    {
     "data": {
      "application/vnd.jupyter.widget-view+json": {
       "model_id": "0bb2f44f14b34437abbea4bb39170018",
       "version_major": 2,
       "version_minor": 0
      },
      "text/plain": [
       "  0%|          | 0/1 [00:00<?, ?it/s]"
      ]
     },
     "metadata": {},
     "output_type": "display_data"
    },
    {
     "name": "stderr",
     "output_type": "stream",
     "text": [
      "\r",
      "Processing ligands: 485it [01:49,  4.29it/s]"
     ]
    },
    {
     "name": "stdout",
     "output_type": "stream",
     "text": [
      "/media/lmeuret/Seagate Portable Drive/result_docking/DOCKING_project/Conan-main/results_SMINA/DOCKED/ligand238/output44_ligand238_2023-11-22-15_52/best.pdbqt\n",
      "/media/lmeuret/Seagate Portable Drive/result_docking/DOCKING_project/Conan-main/receptors/output44.pdbqt\n"
     ]
    },
    {
     "data": {
      "application/vnd.jupyter.widget-view+json": {
       "model_id": "fd030e3f7c0a482792342f1f408995f3",
       "version_major": 2,
       "version_minor": 0
      },
      "text/plain": [
       "  0%|          | 0/1 [00:00<?, ?it/s]"
      ]
     },
     "metadata": {},
     "output_type": "display_data"
    },
    {
     "name": "stderr",
     "output_type": "stream",
     "text": [
      "\r",
      "Processing ligands: 486it [01:49,  4.18it/s]"
     ]
    },
    {
     "name": "stdout",
     "output_type": "stream",
     "text": [
      "/media/lmeuret/Seagate Portable Drive/result_docking/DOCKING_project/Conan-main/results_SMINA/DOCKED/ligand239/output44_ligand239_2023-11-22-15_52/best.pdbqt\n",
      "/media/lmeuret/Seagate Portable Drive/result_docking/DOCKING_project/Conan-main/receptors/output44.pdbqt\n"
     ]
    },
    {
     "data": {
      "application/vnd.jupyter.widget-view+json": {
       "model_id": "3a3b38251c194b49802f59f98f5da20f",
       "version_major": 2,
       "version_minor": 0
      },
      "text/plain": [
       "  0%|          | 0/1 [00:00<?, ?it/s]"
      ]
     },
     "metadata": {},
     "output_type": "display_data"
    },
    {
     "name": "stderr",
     "output_type": "stream",
     "text": [
      "\r",
      "Processing ligands: 487it [01:49,  4.23it/s]"
     ]
    },
    {
     "name": "stdout",
     "output_type": "stream",
     "text": [
      "/media/lmeuret/Seagate Portable Drive/result_docking/DOCKING_project/Conan-main/results_SMINA/DOCKED/ligand24/output44_ligand24_2023-11-22-15_52/best.pdbqt\n",
      "/media/lmeuret/Seagate Portable Drive/result_docking/DOCKING_project/Conan-main/receptors/output44.pdbqt\n"
     ]
    },
    {
     "data": {
      "application/vnd.jupyter.widget-view+json": {
       "model_id": "80ec1f204d354a51971e1c040b1fdc7b",
       "version_major": 2,
       "version_minor": 0
      },
      "text/plain": [
       "  0%|          | 0/1 [00:00<?, ?it/s]"
      ]
     },
     "metadata": {},
     "output_type": "display_data"
    },
    {
     "name": "stderr",
     "output_type": "stream",
     "text": [
      "\r",
      "Processing ligands: 488it [01:50,  4.29it/s]"
     ]
    },
    {
     "name": "stdout",
     "output_type": "stream",
     "text": [
      "/media/lmeuret/Seagate Portable Drive/result_docking/DOCKING_project/Conan-main/results_SMINA/DOCKED/ligand240/output44_ligand240_2023-11-22-15_52/best.pdbqt\n",
      "/media/lmeuret/Seagate Portable Drive/result_docking/DOCKING_project/Conan-main/receptors/output44.pdbqt\n"
     ]
    },
    {
     "data": {
      "application/vnd.jupyter.widget-view+json": {
       "model_id": "d352271e573847f682c4ad54da9c4315",
       "version_major": 2,
       "version_minor": 0
      },
      "text/plain": [
       "  0%|          | 0/1 [00:00<?, ?it/s]"
      ]
     },
     "metadata": {},
     "output_type": "display_data"
    },
    {
     "name": "stderr",
     "output_type": "stream",
     "text": [
      "\r",
      "Processing ligands: 489it [01:50,  4.24it/s]"
     ]
    },
    {
     "name": "stdout",
     "output_type": "stream",
     "text": [
      "/media/lmeuret/Seagate Portable Drive/result_docking/DOCKING_project/Conan-main/results_SMINA/DOCKED/ligand241/output44_ligand241_2023-11-22-15_52/best.pdbqt\n",
      "/media/lmeuret/Seagate Portable Drive/result_docking/DOCKING_project/Conan-main/receptors/output44.pdbqt\n"
     ]
    },
    {
     "data": {
      "application/vnd.jupyter.widget-view+json": {
       "model_id": "2572e86d786440da9fd1bd8f1ba01018",
       "version_major": 2,
       "version_minor": 0
      },
      "text/plain": [
       "  0%|          | 0/1 [00:00<?, ?it/s]"
      ]
     },
     "metadata": {},
     "output_type": "display_data"
    },
    {
     "name": "stderr",
     "output_type": "stream",
     "text": [
      "\r",
      "Processing ligands: 490it [01:50,  4.21it/s]"
     ]
    },
    {
     "name": "stdout",
     "output_type": "stream",
     "text": [
      "/media/lmeuret/Seagate Portable Drive/result_docking/DOCKING_project/Conan-main/results_SMINA/DOCKED/ligand242/output44_ligand242_2023-11-22-15_52/best.pdbqt\n",
      "/media/lmeuret/Seagate Portable Drive/result_docking/DOCKING_project/Conan-main/receptors/output44.pdbqt\n"
     ]
    },
    {
     "data": {
      "application/vnd.jupyter.widget-view+json": {
       "model_id": "bf7afd912e9847c8a2bcb3c6bbb81e4a",
       "version_major": 2,
       "version_minor": 0
      },
      "text/plain": [
       "  0%|          | 0/1 [00:00<?, ?it/s]"
      ]
     },
     "metadata": {},
     "output_type": "display_data"
    },
    {
     "name": "stderr",
     "output_type": "stream",
     "text": [
      "\r",
      "Processing ligands: 491it [01:50,  4.31it/s]"
     ]
    },
    {
     "name": "stdout",
     "output_type": "stream",
     "text": [
      "/media/lmeuret/Seagate Portable Drive/result_docking/DOCKING_project/Conan-main/results_SMINA/DOCKED/ligand243/output44_ligand243_2023-11-22-15_52/best.pdbqt\n",
      "/media/lmeuret/Seagate Portable Drive/result_docking/DOCKING_project/Conan-main/receptors/output44.pdbqt\n"
     ]
    },
    {
     "data": {
      "application/vnd.jupyter.widget-view+json": {
       "model_id": "ab6380bbb3994a1e86c4b5aa3e932f2d",
       "version_major": 2,
       "version_minor": 0
      },
      "text/plain": [
       "  0%|          | 0/1 [00:00<?, ?it/s]"
      ]
     },
     "metadata": {},
     "output_type": "display_data"
    },
    {
     "name": "stderr",
     "output_type": "stream",
     "text": [
      "\r",
      "Processing ligands: 492it [01:51,  4.39it/s]"
     ]
    },
    {
     "name": "stdout",
     "output_type": "stream",
     "text": [
      "/media/lmeuret/Seagate Portable Drive/result_docking/DOCKING_project/Conan-main/results_SMINA/DOCKED/ligand244/output44_ligand244_2023-11-22-15_52/best.pdbqt\n",
      "/media/lmeuret/Seagate Portable Drive/result_docking/DOCKING_project/Conan-main/receptors/output44.pdbqt\n"
     ]
    },
    {
     "data": {
      "application/vnd.jupyter.widget-view+json": {
       "model_id": "022b4243084643a6bf361c27cdaa72ad",
       "version_major": 2,
       "version_minor": 0
      },
      "text/plain": [
       "  0%|          | 0/1 [00:00<?, ?it/s]"
      ]
     },
     "metadata": {},
     "output_type": "display_data"
    },
    {
     "name": "stderr",
     "output_type": "stream",
     "text": [
      "\r",
      "Processing ligands: 493it [01:51,  4.34it/s]"
     ]
    },
    {
     "name": "stdout",
     "output_type": "stream",
     "text": [
      "/media/lmeuret/Seagate Portable Drive/result_docking/DOCKING_project/Conan-main/results_SMINA/DOCKED/ligand245/output44_ligand245_2023-11-22-15_52/best.pdbqt\n",
      "/media/lmeuret/Seagate Portable Drive/result_docking/DOCKING_project/Conan-main/receptors/output44.pdbqt\n"
     ]
    },
    {
     "data": {
      "application/vnd.jupyter.widget-view+json": {
       "model_id": "5f6a8aa28b474cd1a65545c61d5ce634",
       "version_major": 2,
       "version_minor": 0
      },
      "text/plain": [
       "  0%|          | 0/1 [00:00<?, ?it/s]"
      ]
     },
     "metadata": {},
     "output_type": "display_data"
    },
    {
     "name": "stderr",
     "output_type": "stream",
     "text": [
      "\r",
      "Processing ligands: 494it [01:51,  4.38it/s]"
     ]
    },
    {
     "name": "stdout",
     "output_type": "stream",
     "text": [
      "/media/lmeuret/Seagate Portable Drive/result_docking/DOCKING_project/Conan-main/results_SMINA/DOCKED/ligand246/output44_ligand246_2023-11-22-15_52/best.pdbqt\n",
      "/media/lmeuret/Seagate Portable Drive/result_docking/DOCKING_project/Conan-main/receptors/output44.pdbqt\n"
     ]
    },
    {
     "data": {
      "application/vnd.jupyter.widget-view+json": {
       "model_id": "aa4a365b338c4623a39554a9e1a536cc",
       "version_major": 2,
       "version_minor": 0
      },
      "text/plain": [
       "  0%|          | 0/1 [00:00<?, ?it/s]"
      ]
     },
     "metadata": {},
     "output_type": "display_data"
    },
    {
     "name": "stderr",
     "output_type": "stream",
     "text": [
      "\r",
      "Processing ligands: 495it [01:51,  4.32it/s]"
     ]
    },
    {
     "name": "stdout",
     "output_type": "stream",
     "text": [
      "/media/lmeuret/Seagate Portable Drive/result_docking/DOCKING_project/Conan-main/results_SMINA/DOCKED/ligand247/output44_ligand247_2023-11-22-15_52/best.pdbqt\n",
      "/media/lmeuret/Seagate Portable Drive/result_docking/DOCKING_project/Conan-main/receptors/output44.pdbqt\n"
     ]
    },
    {
     "data": {
      "application/vnd.jupyter.widget-view+json": {
       "model_id": "5be4ad71c2af485ebb436d5fce3f636c",
       "version_major": 2,
       "version_minor": 0
      },
      "text/plain": [
       "  0%|          | 0/1 [00:00<?, ?it/s]"
      ]
     },
     "metadata": {},
     "output_type": "display_data"
    },
    {
     "name": "stderr",
     "output_type": "stream",
     "text": [
      "\r",
      "Processing ligands: 496it [01:51,  4.41it/s]"
     ]
    },
    {
     "name": "stdout",
     "output_type": "stream",
     "text": [
      "/media/lmeuret/Seagate Portable Drive/result_docking/DOCKING_project/Conan-main/results_SMINA/DOCKED/ligand248/output44_ligand248_2023-11-22-15_52/best.pdbqt\n",
      "/media/lmeuret/Seagate Portable Drive/result_docking/DOCKING_project/Conan-main/receptors/output44.pdbqt\n"
     ]
    },
    {
     "data": {
      "application/vnd.jupyter.widget-view+json": {
       "model_id": "5d854fcc32ef4400bbaab593d89d2d07",
       "version_major": 2,
       "version_minor": 0
      },
      "text/plain": [
       "  0%|          | 0/1 [00:00<?, ?it/s]"
      ]
     },
     "metadata": {},
     "output_type": "display_data"
    },
    {
     "name": "stderr",
     "output_type": "stream",
     "text": [
      "\r",
      "Processing ligands: 497it [01:52,  4.36it/s]"
     ]
    },
    {
     "name": "stdout",
     "output_type": "stream",
     "text": [
      "/media/lmeuret/Seagate Portable Drive/result_docking/DOCKING_project/Conan-main/results_SMINA/DOCKED/ligand607/output44_ligand607_2023-11-22-15_52/best.pdbqt\n",
      "/media/lmeuret/Seagate Portable Drive/result_docking/DOCKING_project/Conan-main/receptors/output44.pdbqt\n"
     ]
    },
    {
     "data": {
      "application/vnd.jupyter.widget-view+json": {
       "model_id": "47e8a5960aa14cd2ad1555f6fc8a3bf1",
       "version_major": 2,
       "version_minor": 0
      },
      "text/plain": [
       "  0%|          | 0/1 [00:00<?, ?it/s]"
      ]
     },
     "metadata": {},
     "output_type": "display_data"
    },
    {
     "name": "stderr",
     "output_type": "stream",
     "text": [
      "\r",
      "Processing ligands: 498it [01:52,  4.36it/s]"
     ]
    },
    {
     "name": "stdout",
     "output_type": "stream",
     "text": [
      "/media/lmeuret/Seagate Portable Drive/result_docking/DOCKING_project/Conan-main/results_SMINA/DOCKED/ligand608/output44_ligand608_2023-11-22-15_52/best.pdbqt\n",
      "/media/lmeuret/Seagate Portable Drive/result_docking/DOCKING_project/Conan-main/receptors/output44.pdbqt\n"
     ]
    },
    {
     "data": {
      "application/vnd.jupyter.widget-view+json": {
       "model_id": "58e7a73e4e574e9ba1f14833d5b42bee",
       "version_major": 2,
       "version_minor": 0
      },
      "text/plain": [
       "  0%|          | 0/1 [00:00<?, ?it/s]"
      ]
     },
     "metadata": {},
     "output_type": "display_data"
    },
    {
     "name": "stderr",
     "output_type": "stream",
     "text": [
      "\r",
      "Processing ligands: 499it [01:52,  4.44it/s]"
     ]
    },
    {
     "name": "stdout",
     "output_type": "stream",
     "text": [
      "/media/lmeuret/Seagate Portable Drive/result_docking/DOCKING_project/Conan-main/results_SMINA/DOCKED/ligand609/output44_ligand609_2023-11-22-15_52/best.pdbqt\n",
      "/media/lmeuret/Seagate Portable Drive/result_docking/DOCKING_project/Conan-main/receptors/output44.pdbqt\n"
     ]
    },
    {
     "data": {
      "application/vnd.jupyter.widget-view+json": {
       "model_id": "54c65470475c4d92b54c191d06b3d040",
       "version_major": 2,
       "version_minor": 0
      },
      "text/plain": [
       "  0%|          | 0/1 [00:00<?, ?it/s]"
      ]
     },
     "metadata": {},
     "output_type": "display_data"
    },
    {
     "name": "stderr",
     "output_type": "stream",
     "text": [
      "\r",
      "Processing ligands: 500it [01:52,  4.52it/s]"
     ]
    },
    {
     "name": "stdout",
     "output_type": "stream",
     "text": [
      "/media/lmeuret/Seagate Portable Drive/result_docking/DOCKING_project/Conan-main/results_SMINA/DOCKED/ligand61/output44_ligand61_2023-11-22-15_52/best.pdbqt\n",
      "/media/lmeuret/Seagate Portable Drive/result_docking/DOCKING_project/Conan-main/receptors/output44.pdbqt\n"
     ]
    },
    {
     "data": {
      "application/vnd.jupyter.widget-view+json": {
       "model_id": "a8800387f9604e7d8d33dadb510b6c30",
       "version_major": 2,
       "version_minor": 0
      },
      "text/plain": [
       "  0%|          | 0/1 [00:00<?, ?it/s]"
      ]
     },
     "metadata": {},
     "output_type": "display_data"
    },
    {
     "name": "stderr",
     "output_type": "stream",
     "text": [
      "\r",
      "Processing ligands: 501it [01:53,  4.49it/s]"
     ]
    },
    {
     "name": "stdout",
     "output_type": "stream",
     "text": [
      "/media/lmeuret/Seagate Portable Drive/result_docking/DOCKING_project/Conan-main/results_SMINA/DOCKED/ligand610/output44_ligand610_2023-11-22-15_52/best.pdbqt\n",
      "/media/lmeuret/Seagate Portable Drive/result_docking/DOCKING_project/Conan-main/receptors/output44.pdbqt\n"
     ]
    },
    {
     "data": {
      "application/vnd.jupyter.widget-view+json": {
       "model_id": "9f768e10c9aa4bb7b7e0d97930ccb085",
       "version_major": 2,
       "version_minor": 0
      },
      "text/plain": [
       "  0%|          | 0/1 [00:00<?, ?it/s]"
      ]
     },
     "metadata": {},
     "output_type": "display_data"
    },
    {
     "name": "stderr",
     "output_type": "stream",
     "text": [
      "\r",
      "Processing ligands: 502it [01:53,  4.50it/s]"
     ]
    },
    {
     "name": "stdout",
     "output_type": "stream",
     "text": [
      "/media/lmeuret/Seagate Portable Drive/result_docking/DOCKING_project/Conan-main/results_SMINA/DOCKED/ligand611/output44_ligand611_2023-11-22-15_52/best.pdbqt\n",
      "/media/lmeuret/Seagate Portable Drive/result_docking/DOCKING_project/Conan-main/receptors/output44.pdbqt\n"
     ]
    },
    {
     "data": {
      "application/vnd.jupyter.widget-view+json": {
       "model_id": "18199af5b1cd4fc38e12a3c36661057e",
       "version_major": 2,
       "version_minor": 0
      },
      "text/plain": [
       "  0%|          | 0/1 [00:00<?, ?it/s]"
      ]
     },
     "metadata": {},
     "output_type": "display_data"
    },
    {
     "name": "stderr",
     "output_type": "stream",
     "text": [
      "\r",
      "Processing ligands: 503it [01:53,  4.56it/s]"
     ]
    },
    {
     "name": "stdout",
     "output_type": "stream",
     "text": [
      "/media/lmeuret/Seagate Portable Drive/result_docking/DOCKING_project/Conan-main/results_SMINA/DOCKED/ligand612/output44_ligand612_2023-11-22-15_52/best.pdbqt\n",
      "/media/lmeuret/Seagate Portable Drive/result_docking/DOCKING_project/Conan-main/receptors/output44.pdbqt\n"
     ]
    },
    {
     "data": {
      "application/vnd.jupyter.widget-view+json": {
       "model_id": "33091380592b45d19941ebdb1dad965d",
       "version_major": 2,
       "version_minor": 0
      },
      "text/plain": [
       "  0%|          | 0/1 [00:00<?, ?it/s]"
      ]
     },
     "metadata": {},
     "output_type": "display_data"
    },
    {
     "name": "stderr",
     "output_type": "stream",
     "text": [
      "\r",
      "Processing ligands: 504it [01:53,  4.46it/s]"
     ]
    },
    {
     "name": "stdout",
     "output_type": "stream",
     "text": [
      "/media/lmeuret/Seagate Portable Drive/result_docking/DOCKING_project/Conan-main/results_SMINA/DOCKED/ligand613/output44_ligand613_2023-11-22-15_52/best.pdbqt\n",
      "/media/lmeuret/Seagate Portable Drive/result_docking/DOCKING_project/Conan-main/receptors/output44.pdbqt\n"
     ]
    },
    {
     "data": {
      "application/vnd.jupyter.widget-view+json": {
       "model_id": "390256a736694efc95f31656da696998",
       "version_major": 2,
       "version_minor": 0
      },
      "text/plain": [
       "  0%|          | 0/1 [00:00<?, ?it/s]"
      ]
     },
     "metadata": {},
     "output_type": "display_data"
    },
    {
     "name": "stderr",
     "output_type": "stream",
     "text": [
      "\r",
      "Processing ligands: 505it [01:53,  4.56it/s]"
     ]
    },
    {
     "name": "stdout",
     "output_type": "stream",
     "text": [
      "/media/lmeuret/Seagate Portable Drive/result_docking/DOCKING_project/Conan-main/results_SMINA/DOCKED/ligand614/output44_ligand614_2023-11-22-15_52/best.pdbqt\n",
      "/media/lmeuret/Seagate Portable Drive/result_docking/DOCKING_project/Conan-main/receptors/output44.pdbqt\n"
     ]
    },
    {
     "data": {
      "application/vnd.jupyter.widget-view+json": {
       "model_id": "a8d3fb2daace416d80580da654a51241",
       "version_major": 2,
       "version_minor": 0
      },
      "text/plain": [
       "  0%|          | 0/1 [00:00<?, ?it/s]"
      ]
     },
     "metadata": {},
     "output_type": "display_data"
    },
    {
     "name": "stderr",
     "output_type": "stream",
     "text": [
      "\r",
      "Processing ligands: 506it [01:54,  4.51it/s]"
     ]
    },
    {
     "name": "stdout",
     "output_type": "stream",
     "text": [
      "/media/lmeuret/Seagate Portable Drive/result_docking/DOCKING_project/Conan-main/results_SMINA/DOCKED/ligand615/output44_ligand615_2023-11-22-15_52/best.pdbqt\n",
      "/media/lmeuret/Seagate Portable Drive/result_docking/DOCKING_project/Conan-main/receptors/output44.pdbqt\n"
     ]
    },
    {
     "data": {
      "application/vnd.jupyter.widget-view+json": {
       "model_id": "ebdc52fb8bff433ba6b9b6c2b5ba6adb",
       "version_major": 2,
       "version_minor": 0
      },
      "text/plain": [
       "  0%|          | 0/1 [00:00<?, ?it/s]"
      ]
     },
     "metadata": {},
     "output_type": "display_data"
    },
    {
     "name": "stderr",
     "output_type": "stream",
     "text": [
      "\r",
      "Processing ligands: 507it [01:54,  4.18it/s]"
     ]
    },
    {
     "name": "stdout",
     "output_type": "stream",
     "text": [
      "/media/lmeuret/Seagate Portable Drive/result_docking/DOCKING_project/Conan-main/results_SMINA/DOCKED/ligand616/output44_ligand616_2023-11-22-15_52/best.pdbqt\n",
      "/media/lmeuret/Seagate Portable Drive/result_docking/DOCKING_project/Conan-main/receptors/output44.pdbqt\n"
     ]
    },
    {
     "data": {
      "application/vnd.jupyter.widget-view+json": {
       "model_id": "2434b33bf70c467386e425c802da470a",
       "version_major": 2,
       "version_minor": 0
      },
      "text/plain": [
       "  0%|          | 0/1 [00:00<?, ?it/s]"
      ]
     },
     "metadata": {},
     "output_type": "display_data"
    },
    {
     "name": "stderr",
     "output_type": "stream",
     "text": [
      "\r",
      "Processing ligands: 508it [01:54,  4.12it/s]"
     ]
    },
    {
     "name": "stdout",
     "output_type": "stream",
     "text": [
      "/media/lmeuret/Seagate Portable Drive/result_docking/DOCKING_project/Conan-main/results_SMINA/DOCKED/ligand617/output44_ligand617_2023-11-22-15_52/best.pdbqt\n",
      "/media/lmeuret/Seagate Portable Drive/result_docking/DOCKING_project/Conan-main/receptors/output44.pdbqt\n"
     ]
    },
    {
     "data": {
      "application/vnd.jupyter.widget-view+json": {
       "model_id": "1b5c7b3c8f09489285582401047e106f",
       "version_major": 2,
       "version_minor": 0
      },
      "text/plain": [
       "  0%|          | 0/1 [00:00<?, ?it/s]"
      ]
     },
     "metadata": {},
     "output_type": "display_data"
    },
    {
     "name": "stderr",
     "output_type": "stream",
     "text": [
      "\r",
      "Processing ligands: 509it [01:54,  4.12it/s]"
     ]
    },
    {
     "name": "stdout",
     "output_type": "stream",
     "text": [
      "/media/lmeuret/Seagate Portable Drive/result_docking/DOCKING_project/Conan-main/results_SMINA/DOCKED/ligand618/output44_ligand618_2023-11-22-15_52/best.pdbqt\n",
      "/media/lmeuret/Seagate Portable Drive/result_docking/DOCKING_project/Conan-main/receptors/output44.pdbqt\n"
     ]
    },
    {
     "data": {
      "application/vnd.jupyter.widget-view+json": {
       "model_id": "d38a7c1814934bbd9a44cae9efb6d46d",
       "version_major": 2,
       "version_minor": 0
      },
      "text/plain": [
       "  0%|          | 0/1 [00:00<?, ?it/s]"
      ]
     },
     "metadata": {},
     "output_type": "display_data"
    },
    {
     "name": "stderr",
     "output_type": "stream",
     "text": [
      "\r",
      "Processing ligands: 510it [01:55,  4.26it/s]"
     ]
    },
    {
     "name": "stdout",
     "output_type": "stream",
     "text": [
      "/media/lmeuret/Seagate Portable Drive/result_docking/DOCKING_project/Conan-main/results_SMINA/DOCKED/ligand619/output44_ligand619_2023-11-22-15_52/best.pdbqt\n",
      "/media/lmeuret/Seagate Portable Drive/result_docking/DOCKING_project/Conan-main/receptors/output44.pdbqt\n"
     ]
    },
    {
     "data": {
      "application/vnd.jupyter.widget-view+json": {
       "model_id": "e98be29ec20d48c09ac114b5710d373b",
       "version_major": 2,
       "version_minor": 0
      },
      "text/plain": [
       "  0%|          | 0/1 [00:00<?, ?it/s]"
      ]
     },
     "metadata": {},
     "output_type": "display_data"
    },
    {
     "name": "stderr",
     "output_type": "stream",
     "text": [
      "\r",
      "Processing ligands: 511it [01:55,  4.11it/s]"
     ]
    },
    {
     "name": "stdout",
     "output_type": "stream",
     "text": [
      "/media/lmeuret/Seagate Portable Drive/result_docking/DOCKING_project/Conan-main/results_SMINA/DOCKED/ligand62/output44_ligand62_2023-11-22-15_52/best.pdbqt\n",
      "/media/lmeuret/Seagate Portable Drive/result_docking/DOCKING_project/Conan-main/receptors/output44.pdbqt\n"
     ]
    },
    {
     "data": {
      "application/vnd.jupyter.widget-view+json": {
       "model_id": "5a50d1977c2a49f783a16c6d54ddf6ca",
       "version_major": 2,
       "version_minor": 0
      },
      "text/plain": [
       "  0%|          | 0/1 [00:00<?, ?it/s]"
      ]
     },
     "metadata": {},
     "output_type": "display_data"
    },
    {
     "name": "stderr",
     "output_type": "stream",
     "text": [
      "\r",
      "Processing ligands: 512it [01:55,  3.97it/s]"
     ]
    },
    {
     "name": "stdout",
     "output_type": "stream",
     "text": [
      "/media/lmeuret/Seagate Portable Drive/result_docking/DOCKING_project/Conan-main/results_SMINA/DOCKED/ligand620/output44_ligand620_2023-11-22-15_52/best.pdbqt\n",
      "/media/lmeuret/Seagate Portable Drive/result_docking/DOCKING_project/Conan-main/receptors/output44.pdbqt\n"
     ]
    },
    {
     "data": {
      "application/vnd.jupyter.widget-view+json": {
       "model_id": "77f96289b7c9452184020e0785ca802f",
       "version_major": 2,
       "version_minor": 0
      },
      "text/plain": [
       "  0%|          | 0/1 [00:00<?, ?it/s]"
      ]
     },
     "metadata": {},
     "output_type": "display_data"
    },
    {
     "name": "stderr",
     "output_type": "stream",
     "text": [
      "\r",
      "Processing ligands: 513it [01:55,  4.08it/s]"
     ]
    },
    {
     "name": "stdout",
     "output_type": "stream",
     "text": [
      "/media/lmeuret/Seagate Portable Drive/result_docking/DOCKING_project/Conan-main/results_SMINA/DOCKED/ligand621/output44_ligand621_2023-11-22-15_52/best.pdbqt\n",
      "/media/lmeuret/Seagate Portable Drive/result_docking/DOCKING_project/Conan-main/receptors/output44.pdbqt\n"
     ]
    },
    {
     "data": {
      "application/vnd.jupyter.widget-view+json": {
       "model_id": "10c12580a3d94a978b96cf2afaa703d2",
       "version_major": 2,
       "version_minor": 0
      },
      "text/plain": [
       "  0%|          | 0/1 [00:00<?, ?it/s]"
      ]
     },
     "metadata": {},
     "output_type": "display_data"
    },
    {
     "name": "stderr",
     "output_type": "stream",
     "text": [
      "\r",
      "Processing ligands: 514it [01:56,  4.13it/s]"
     ]
    },
    {
     "name": "stdout",
     "output_type": "stream",
     "text": [
      "/media/lmeuret/Seagate Portable Drive/result_docking/DOCKING_project/Conan-main/results_SMINA/DOCKED/ligand622/output44_ligand622_2023-11-22-15_52/best.pdbqt\n",
      "/media/lmeuret/Seagate Portable Drive/result_docking/DOCKING_project/Conan-main/receptors/output44.pdbqt\n"
     ]
    },
    {
     "data": {
      "application/vnd.jupyter.widget-view+json": {
       "model_id": "b80c4aa9d9b84bbb99f5beea2d33c82e",
       "version_major": 2,
       "version_minor": 0
      },
      "text/plain": [
       "  0%|          | 0/1 [00:00<?, ?it/s]"
      ]
     },
     "metadata": {},
     "output_type": "display_data"
    },
    {
     "name": "stderr",
     "output_type": "stream",
     "text": [
      "\r",
      "Processing ligands: 515it [01:56,  4.03it/s]"
     ]
    },
    {
     "name": "stdout",
     "output_type": "stream",
     "text": [
      "/media/lmeuret/Seagate Portable Drive/result_docking/DOCKING_project/Conan-main/results_SMINA/DOCKED/ligand623/output44_ligand623_2023-11-22-15_52/best.pdbqt\n",
      "/media/lmeuret/Seagate Portable Drive/result_docking/DOCKING_project/Conan-main/receptors/output44.pdbqt\n"
     ]
    },
    {
     "data": {
      "application/vnd.jupyter.widget-view+json": {
       "model_id": "7db3a6f1738040fcbaa3abd1da3b4cbe",
       "version_major": 2,
       "version_minor": 0
      },
      "text/plain": [
       "  0%|          | 0/1 [00:00<?, ?it/s]"
      ]
     },
     "metadata": {},
     "output_type": "display_data"
    },
    {
     "name": "stderr",
     "output_type": "stream",
     "text": [
      "\r",
      "Processing ligands: 516it [01:56,  4.06it/s]"
     ]
    },
    {
     "name": "stdout",
     "output_type": "stream",
     "text": [
      "/media/lmeuret/Seagate Portable Drive/result_docking/DOCKING_project/Conan-main/results_SMINA/DOCKED/ligand624/output44_ligand624_2023-11-22-15_52/best.pdbqt\n",
      "/media/lmeuret/Seagate Portable Drive/result_docking/DOCKING_project/Conan-main/receptors/output44.pdbqt\n"
     ]
    },
    {
     "data": {
      "application/vnd.jupyter.widget-view+json": {
       "model_id": "c61afee8249f42b4954f65bfdbda1edc",
       "version_major": 2,
       "version_minor": 0
      },
      "text/plain": [
       "  0%|          | 0/1 [00:00<?, ?it/s]"
      ]
     },
     "metadata": {},
     "output_type": "display_data"
    },
    {
     "name": "stderr",
     "output_type": "stream",
     "text": [
      "\r",
      "Processing ligands: 517it [01:56,  4.16it/s]"
     ]
    },
    {
     "name": "stdout",
     "output_type": "stream",
     "text": [
      "/media/lmeuret/Seagate Portable Drive/result_docking/DOCKING_project/Conan-main/results_SMINA/DOCKED/ligand625/output44_ligand625_2023-11-22-15_52/best.pdbqt\n",
      "/media/lmeuret/Seagate Portable Drive/result_docking/DOCKING_project/Conan-main/receptors/output44.pdbqt\n"
     ]
    },
    {
     "data": {
      "application/vnd.jupyter.widget-view+json": {
       "model_id": "67def56d170d4f26b9c551747c755191",
       "version_major": 2,
       "version_minor": 0
      },
      "text/plain": [
       "  0%|          | 0/1 [00:00<?, ?it/s]"
      ]
     },
     "metadata": {},
     "output_type": "display_data"
    },
    {
     "name": "stderr",
     "output_type": "stream",
     "text": [
      "\r",
      "Processing ligands: 518it [01:57,  4.10it/s]"
     ]
    },
    {
     "name": "stdout",
     "output_type": "stream",
     "text": [
      "/media/lmeuret/Seagate Portable Drive/result_docking/DOCKING_project/Conan-main/results_SMINA/DOCKED/ligand626/output44_ligand626_2023-11-22-15_52/best.pdbqt\n",
      "/media/lmeuret/Seagate Portable Drive/result_docking/DOCKING_project/Conan-main/receptors/output44.pdbqt\n"
     ]
    },
    {
     "data": {
      "application/vnd.jupyter.widget-view+json": {
       "model_id": "3a1d7fd73fd74b91b28f4cd3df9bd9ce",
       "version_major": 2,
       "version_minor": 0
      },
      "text/plain": [
       "  0%|          | 0/1 [00:00<?, ?it/s]"
      ]
     },
     "metadata": {},
     "output_type": "display_data"
    },
    {
     "name": "stderr",
     "output_type": "stream",
     "text": [
      "\r",
      "Processing ligands: 519it [01:57,  4.16it/s]"
     ]
    },
    {
     "name": "stdout",
     "output_type": "stream",
     "text": [
      "/media/lmeuret/Seagate Portable Drive/result_docking/DOCKING_project/Conan-main/results_SMINA/DOCKED/ligand627/output44_ligand627_2023-11-22-15_52/best.pdbqt\n",
      "/media/lmeuret/Seagate Portable Drive/result_docking/DOCKING_project/Conan-main/receptors/output44.pdbqt\n"
     ]
    },
    {
     "data": {
      "application/vnd.jupyter.widget-view+json": {
       "model_id": "5935978130724ff08e5f84888faee99d",
       "version_major": 2,
       "version_minor": 0
      },
      "text/plain": [
       "  0%|          | 0/1 [00:00<?, ?it/s]"
      ]
     },
     "metadata": {},
     "output_type": "display_data"
    },
    {
     "name": "stderr",
     "output_type": "stream",
     "text": [
      "\r",
      "Processing ligands: 520it [01:57,  4.26it/s]"
     ]
    },
    {
     "name": "stdout",
     "output_type": "stream",
     "text": [
      "/media/lmeuret/Seagate Portable Drive/result_docking/DOCKING_project/Conan-main/results_SMINA/DOCKED/ligand628/output44_ligand628_2023-11-22-15_52/best.pdbqt\n",
      "/media/lmeuret/Seagate Portable Drive/result_docking/DOCKING_project/Conan-main/receptors/output44.pdbqt\n"
     ]
    },
    {
     "data": {
      "application/vnd.jupyter.widget-view+json": {
       "model_id": "29e43e7d3cb84d03b0ff45806a4267fb",
       "version_major": 2,
       "version_minor": 0
      },
      "text/plain": [
       "  0%|          | 0/1 [00:00<?, ?it/s]"
      ]
     },
     "metadata": {},
     "output_type": "display_data"
    },
    {
     "name": "stderr",
     "output_type": "stream",
     "text": [
      "\r",
      "Processing ligands: 521it [01:57,  4.19it/s]"
     ]
    },
    {
     "name": "stdout",
     "output_type": "stream",
     "text": [
      "/media/lmeuret/Seagate Portable Drive/result_docking/DOCKING_project/Conan-main/results_SMINA/DOCKED/ligand629/output44_ligand629_2023-11-22-15_52/best.pdbqt\n",
      "/media/lmeuret/Seagate Portable Drive/result_docking/DOCKING_project/Conan-main/receptors/output44.pdbqt\n"
     ]
    },
    {
     "data": {
      "application/vnd.jupyter.widget-view+json": {
       "model_id": "deb90b61e8934475b86a7bbc62385774",
       "version_major": 2,
       "version_minor": 0
      },
      "text/plain": [
       "  0%|          | 0/1 [00:00<?, ?it/s]"
      ]
     },
     "metadata": {},
     "output_type": "display_data"
    },
    {
     "name": "stderr",
     "output_type": "stream",
     "text": [
      "\r",
      "Processing ligands: 522it [01:58,  4.20it/s]"
     ]
    },
    {
     "name": "stdout",
     "output_type": "stream",
     "text": [
      "/media/lmeuret/Seagate Portable Drive/result_docking/DOCKING_project/Conan-main/results_SMINA/DOCKED/ligand63/output44_ligand63_2023-11-22-15_52/best.pdbqt\n",
      "/media/lmeuret/Seagate Portable Drive/result_docking/DOCKING_project/Conan-main/receptors/output44.pdbqt\n"
     ]
    },
    {
     "data": {
      "application/vnd.jupyter.widget-view+json": {
       "model_id": "09e4dd446c7d49f9bd6f38e8a6952385",
       "version_major": 2,
       "version_minor": 0
      },
      "text/plain": [
       "  0%|          | 0/1 [00:00<?, ?it/s]"
      ]
     },
     "metadata": {},
     "output_type": "display_data"
    },
    {
     "name": "stderr",
     "output_type": "stream",
     "text": [
      "\r",
      "Processing ligands: 523it [01:58,  4.14it/s]"
     ]
    },
    {
     "name": "stdout",
     "output_type": "stream",
     "text": [
      "/media/lmeuret/Seagate Portable Drive/result_docking/DOCKING_project/Conan-main/results_SMINA/DOCKED/ligand630/output44_ligand630_2023-11-22-15_52/best.pdbqt\n",
      "/media/lmeuret/Seagate Portable Drive/result_docking/DOCKING_project/Conan-main/receptors/output44.pdbqt\n"
     ]
    },
    {
     "data": {
      "application/vnd.jupyter.widget-view+json": {
       "model_id": "9c9fa1a3b857460481efa4d648acf9b2",
       "version_major": 2,
       "version_minor": 0
      },
      "text/plain": [
       "  0%|          | 0/1 [00:00<?, ?it/s]"
      ]
     },
     "metadata": {},
     "output_type": "display_data"
    },
    {
     "name": "stderr",
     "output_type": "stream",
     "text": [
      "\r",
      "Processing ligands: 524it [01:58,  4.15it/s]"
     ]
    },
    {
     "name": "stdout",
     "output_type": "stream",
     "text": [
      "/media/lmeuret/Seagate Portable Drive/result_docking/DOCKING_project/Conan-main/results_SMINA/DOCKED/ligand631/output44_ligand631_2023-11-22-15_52/best.pdbqt\n",
      "/media/lmeuret/Seagate Portable Drive/result_docking/DOCKING_project/Conan-main/receptors/output44.pdbqt\n"
     ]
    },
    {
     "data": {
      "application/vnd.jupyter.widget-view+json": {
       "model_id": "3dd04faac149456cb0e49f968e8baa1f",
       "version_major": 2,
       "version_minor": 0
      },
      "text/plain": [
       "  0%|          | 0/1 [00:00<?, ?it/s]"
      ]
     },
     "metadata": {},
     "output_type": "display_data"
    },
    {
     "name": "stderr",
     "output_type": "stream",
     "text": [
      "\r",
      "Processing ligands: 525it [01:58,  4.11it/s]"
     ]
    },
    {
     "name": "stdout",
     "output_type": "stream",
     "text": [
      "/media/lmeuret/Seagate Portable Drive/result_docking/DOCKING_project/Conan-main/results_SMINA/DOCKED/ligand632/output44_ligand632_2023-11-22-15_52/best.pdbqt\n",
      "/media/lmeuret/Seagate Portable Drive/result_docking/DOCKING_project/Conan-main/receptors/output44.pdbqt\n"
     ]
    },
    {
     "data": {
      "application/vnd.jupyter.widget-view+json": {
       "model_id": "91cc303cd3e34b33b47a3b23cceaf1ce",
       "version_major": 2,
       "version_minor": 0
      },
      "text/plain": [
       "  0%|          | 0/1 [00:00<?, ?it/s]"
      ]
     },
     "metadata": {},
     "output_type": "display_data"
    },
    {
     "name": "stderr",
     "output_type": "stream",
     "text": [
      "\r",
      "Processing ligands: 526it [01:59,  3.94it/s]"
     ]
    },
    {
     "name": "stdout",
     "output_type": "stream",
     "text": [
      "/media/lmeuret/Seagate Portable Drive/result_docking/DOCKING_project/Conan-main/results_SMINA/DOCKED/ligand633/output44_ligand633_2023-11-22-15_52/best.pdbqt\n",
      "/media/lmeuret/Seagate Portable Drive/result_docking/DOCKING_project/Conan-main/receptors/output44.pdbqt\n"
     ]
    },
    {
     "data": {
      "application/vnd.jupyter.widget-view+json": {
       "model_id": "991a0a9c149043518d9d6b2020701bb8",
       "version_major": 2,
       "version_minor": 0
      },
      "text/plain": [
       "  0%|          | 0/1 [00:00<?, ?it/s]"
      ]
     },
     "metadata": {},
     "output_type": "display_data"
    },
    {
     "name": "stderr",
     "output_type": "stream",
     "text": [
      "\r",
      "Processing ligands: 527it [01:59,  3.98it/s]"
     ]
    },
    {
     "name": "stdout",
     "output_type": "stream",
     "text": [
      "/media/lmeuret/Seagate Portable Drive/result_docking/DOCKING_project/Conan-main/results_SMINA/DOCKED/ligand634/output44_ligand634_2023-11-22-15_52/best.pdbqt\n",
      "/media/lmeuret/Seagate Portable Drive/result_docking/DOCKING_project/Conan-main/receptors/output44.pdbqt\n"
     ]
    },
    {
     "data": {
      "application/vnd.jupyter.widget-view+json": {
       "model_id": "021e74a6012e4f05bc21c78ef434eea4",
       "version_major": 2,
       "version_minor": 0
      },
      "text/plain": [
       "  0%|          | 0/1 [00:00<?, ?it/s]"
      ]
     },
     "metadata": {},
     "output_type": "display_data"
    },
    {
     "name": "stderr",
     "output_type": "stream",
     "text": [
      "\r",
      "Processing ligands: 528it [01:59,  4.06it/s]"
     ]
    },
    {
     "name": "stdout",
     "output_type": "stream",
     "text": [
      "/media/lmeuret/Seagate Portable Drive/result_docking/DOCKING_project/Conan-main/results_SMINA/DOCKED/ligand635/output44_ligand635_2023-11-22-15_52/best.pdbqt\n",
      "/media/lmeuret/Seagate Portable Drive/result_docking/DOCKING_project/Conan-main/receptors/output44.pdbqt\n"
     ]
    },
    {
     "data": {
      "application/vnd.jupyter.widget-view+json": {
       "model_id": "d42ff0fbe31a4f2e85cf48cb1edfaeb5",
       "version_major": 2,
       "version_minor": 0
      },
      "text/plain": [
       "  0%|          | 0/1 [00:00<?, ?it/s]"
      ]
     },
     "metadata": {},
     "output_type": "display_data"
    },
    {
     "name": "stderr",
     "output_type": "stream",
     "text": [
      "\r",
      "Processing ligands: 529it [01:59,  4.06it/s]"
     ]
    },
    {
     "name": "stdout",
     "output_type": "stream",
     "text": [
      "/media/lmeuret/Seagate Portable Drive/result_docking/DOCKING_project/Conan-main/results_SMINA/DOCKED/ligand636/output44_ligand636_2023-11-22-15_52/best.pdbqt\n",
      "/media/lmeuret/Seagate Portable Drive/result_docking/DOCKING_project/Conan-main/receptors/output44.pdbqt\n"
     ]
    },
    {
     "data": {
      "application/vnd.jupyter.widget-view+json": {
       "model_id": "a8ed7f8b80d6415a9111c7adfa750bc1",
       "version_major": 2,
       "version_minor": 0
      },
      "text/plain": [
       "  0%|          | 0/1 [00:00<?, ?it/s]"
      ]
     },
     "metadata": {},
     "output_type": "display_data"
    },
    {
     "name": "stderr",
     "output_type": "stream",
     "text": [
      "\r",
      "Processing ligands: 530it [02:00,  4.10it/s]"
     ]
    },
    {
     "name": "stdout",
     "output_type": "stream",
     "text": [
      "/media/lmeuret/Seagate Portable Drive/result_docking/DOCKING_project/Conan-main/results_SMINA/DOCKED/ligand637/output44_ligand637_2023-11-22-15_52/best.pdbqt\n",
      "/media/lmeuret/Seagate Portable Drive/result_docking/DOCKING_project/Conan-main/receptors/output44.pdbqt\n"
     ]
    },
    {
     "data": {
      "application/vnd.jupyter.widget-view+json": {
       "model_id": "e64c402cc1c54a438bd6869c326b88c8",
       "version_major": 2,
       "version_minor": 0
      },
      "text/plain": [
       "  0%|          | 0/1 [00:00<?, ?it/s]"
      ]
     },
     "metadata": {},
     "output_type": "display_data"
    },
    {
     "name": "stderr",
     "output_type": "stream",
     "text": [
      "\r",
      "Processing ligands: 531it [02:00,  4.04it/s]"
     ]
    },
    {
     "name": "stdout",
     "output_type": "stream",
     "text": [
      "/media/lmeuret/Seagate Portable Drive/result_docking/DOCKING_project/Conan-main/results_SMINA/DOCKED/ligand638/output44_ligand638_2023-11-22-15_52/best.pdbqt\n",
      "/media/lmeuret/Seagate Portable Drive/result_docking/DOCKING_project/Conan-main/receptors/output44.pdbqt\n"
     ]
    },
    {
     "data": {
      "application/vnd.jupyter.widget-view+json": {
       "model_id": "557aded43b32482faa1eb125e94bb0f2",
       "version_major": 2,
       "version_minor": 0
      },
      "text/plain": [
       "  0%|          | 0/1 [00:00<?, ?it/s]"
      ]
     },
     "metadata": {},
     "output_type": "display_data"
    },
    {
     "name": "stderr",
     "output_type": "stream",
     "text": [
      "\r",
      "Processing ligands: 532it [02:00,  4.17it/s]"
     ]
    },
    {
     "name": "stdout",
     "output_type": "stream",
     "text": [
      "/media/lmeuret/Seagate Portable Drive/result_docking/DOCKING_project/Conan-main/results_SMINA/DOCKED/ligand639/output44_ligand639_2023-11-22-15_52/best.pdbqt\n",
      "/media/lmeuret/Seagate Portable Drive/result_docking/DOCKING_project/Conan-main/receptors/output44.pdbqt\n"
     ]
    },
    {
     "data": {
      "application/vnd.jupyter.widget-view+json": {
       "model_id": "9b812811d34c4dc19e451a1aa6a2ad5b",
       "version_major": 2,
       "version_minor": 0
      },
      "text/plain": [
       "  0%|          | 0/1 [00:00<?, ?it/s]"
      ]
     },
     "metadata": {},
     "output_type": "display_data"
    },
    {
     "name": "stderr",
     "output_type": "stream",
     "text": [
      "\r",
      "Processing ligands: 533it [02:00,  4.10it/s]"
     ]
    },
    {
     "name": "stdout",
     "output_type": "stream",
     "text": [
      "/media/lmeuret/Seagate Portable Drive/result_docking/DOCKING_project/Conan-main/results_SMINA/DOCKED/ligand64/output44_ligand64_2023-11-22-15_52/best.pdbqt\n",
      "/media/lmeuret/Seagate Portable Drive/result_docking/DOCKING_project/Conan-main/receptors/output44.pdbqt\n"
     ]
    },
    {
     "data": {
      "application/vnd.jupyter.widget-view+json": {
       "model_id": "1f5081d05dc5400683fb06f238902c5f",
       "version_major": 2,
       "version_minor": 0
      },
      "text/plain": [
       "  0%|          | 0/1 [00:00<?, ?it/s]"
      ]
     },
     "metadata": {},
     "output_type": "display_data"
    },
    {
     "name": "stderr",
     "output_type": "stream",
     "text": [
      "\r",
      "Processing ligands: 534it [02:01,  4.21it/s]"
     ]
    },
    {
     "name": "stdout",
     "output_type": "stream",
     "text": [
      "/media/lmeuret/Seagate Portable Drive/result_docking/DOCKING_project/Conan-main/results_SMINA/DOCKED/ligand388/output44_ligand388_2023-11-22-15_52/best.pdbqt\n",
      "/media/lmeuret/Seagate Portable Drive/result_docking/DOCKING_project/Conan-main/receptors/output44.pdbqt\n"
     ]
    },
    {
     "data": {
      "application/vnd.jupyter.widget-view+json": {
       "model_id": "853449a705a24d769460cfbf582ee060",
       "version_major": 2,
       "version_minor": 0
      },
      "text/plain": [
       "  0%|          | 0/1 [00:00<?, ?it/s]"
      ]
     },
     "metadata": {},
     "output_type": "display_data"
    },
    {
     "name": "stderr",
     "output_type": "stream",
     "text": [
      "\r",
      "Processing ligands: 535it [02:01,  4.13it/s]"
     ]
    },
    {
     "name": "stdout",
     "output_type": "stream",
     "text": [
      "/media/lmeuret/Seagate Portable Drive/result_docking/DOCKING_project/Conan-main/results_SMINA/DOCKED/ligand389/output44_ligand389_2023-11-22-15_52/best.pdbqt\n",
      "/media/lmeuret/Seagate Portable Drive/result_docking/DOCKING_project/Conan-main/receptors/output44.pdbqt\n"
     ]
    },
    {
     "data": {
      "application/vnd.jupyter.widget-view+json": {
       "model_id": "2336994e9fa1411197cbcc7e83b6a716",
       "version_major": 2,
       "version_minor": 0
      },
      "text/plain": [
       "  0%|          | 0/1 [00:00<?, ?it/s]"
      ]
     },
     "metadata": {},
     "output_type": "display_data"
    },
    {
     "name": "stderr",
     "output_type": "stream",
     "text": [
      "\r",
      "Processing ligands: 536it [02:01,  4.16it/s]"
     ]
    },
    {
     "name": "stdout",
     "output_type": "stream",
     "text": [
      "/media/lmeuret/Seagate Portable Drive/result_docking/DOCKING_project/Conan-main/results_SMINA/DOCKED/ligand39/output44_ligand39_2023-11-22-15_52/best.pdbqt\n",
      "/media/lmeuret/Seagate Portable Drive/result_docking/DOCKING_project/Conan-main/receptors/output44.pdbqt\n"
     ]
    },
    {
     "data": {
      "application/vnd.jupyter.widget-view+json": {
       "model_id": "8a87a6d831cb4785aacba3a4c16a6420",
       "version_major": 2,
       "version_minor": 0
      },
      "text/plain": [
       "  0%|          | 0/1 [00:00<?, ?it/s]"
      ]
     },
     "metadata": {},
     "output_type": "display_data"
    },
    {
     "name": "stderr",
     "output_type": "stream",
     "text": [
      "\r",
      "Processing ligands: 537it [02:01,  3.91it/s]"
     ]
    },
    {
     "name": "stdout",
     "output_type": "stream",
     "text": [
      "/media/lmeuret/Seagate Portable Drive/result_docking/DOCKING_project/Conan-main/results_SMINA/DOCKED/ligand390/output44_ligand390_2023-11-22-15_52/best.pdbqt\n",
      "/media/lmeuret/Seagate Portable Drive/result_docking/DOCKING_project/Conan-main/receptors/output44.pdbqt\n"
     ]
    },
    {
     "data": {
      "application/vnd.jupyter.widget-view+json": {
       "model_id": "f43fb6ba0ef24243b6f9654d2a48519d",
       "version_major": 2,
       "version_minor": 0
      },
      "text/plain": [
       "  0%|          | 0/1 [00:00<?, ?it/s]"
      ]
     },
     "metadata": {},
     "output_type": "display_data"
    },
    {
     "name": "stderr",
     "output_type": "stream",
     "text": [
      "\r",
      "Processing ligands: 538it [02:02,  3.87it/s]"
     ]
    },
    {
     "name": "stdout",
     "output_type": "stream",
     "text": [
      "/media/lmeuret/Seagate Portable Drive/result_docking/DOCKING_project/Conan-main/results_SMINA/DOCKED/ligand391/output44_ligand391_2023-11-22-15_52/best.pdbqt\n",
      "/media/lmeuret/Seagate Portable Drive/result_docking/DOCKING_project/Conan-main/receptors/output44.pdbqt\n"
     ]
    },
    {
     "data": {
      "application/vnd.jupyter.widget-view+json": {
       "model_id": "581382f7b7e946c083643059581fc31f",
       "version_major": 2,
       "version_minor": 0
      },
      "text/plain": [
       "  0%|          | 0/1 [00:00<?, ?it/s]"
      ]
     },
     "metadata": {},
     "output_type": "display_data"
    },
    {
     "name": "stderr",
     "output_type": "stream",
     "text": [
      "\r",
      "Processing ligands: 539it [02:02,  3.69it/s]"
     ]
    },
    {
     "name": "stdout",
     "output_type": "stream",
     "text": [
      "/media/lmeuret/Seagate Portable Drive/result_docking/DOCKING_project/Conan-main/results_SMINA/DOCKED/ligand392/output44_ligand392_2023-11-22-15_52/best.pdbqt\n",
      "/media/lmeuret/Seagate Portable Drive/result_docking/DOCKING_project/Conan-main/receptors/output44.pdbqt\n"
     ]
    },
    {
     "data": {
      "application/vnd.jupyter.widget-view+json": {
       "model_id": "583ac3bc9163405fbfa0b565cb366170",
       "version_major": 2,
       "version_minor": 0
      },
      "text/plain": [
       "  0%|          | 0/1 [00:00<?, ?it/s]"
      ]
     },
     "metadata": {},
     "output_type": "display_data"
    },
    {
     "name": "stderr",
     "output_type": "stream",
     "text": [
      "\r",
      "Processing ligands: 540it [02:02,  3.60it/s]"
     ]
    },
    {
     "name": "stdout",
     "output_type": "stream",
     "text": [
      "/media/lmeuret/Seagate Portable Drive/result_docking/DOCKING_project/Conan-main/results_SMINA/DOCKED/ligand393/output44_ligand393_2023-11-22-15_52/best.pdbqt\n",
      "/media/lmeuret/Seagate Portable Drive/result_docking/DOCKING_project/Conan-main/receptors/output44.pdbqt\n"
     ]
    },
    {
     "data": {
      "application/vnd.jupyter.widget-view+json": {
       "model_id": "044fc3a8544047adb8000f0bf5145683",
       "version_major": 2,
       "version_minor": 0
      },
      "text/plain": [
       "  0%|          | 0/1 [00:00<?, ?it/s]"
      ]
     },
     "metadata": {},
     "output_type": "display_data"
    },
    {
     "name": "stderr",
     "output_type": "stream",
     "text": [
      "\r",
      "Processing ligands: 541it [02:03,  3.48it/s]"
     ]
    },
    {
     "name": "stdout",
     "output_type": "stream",
     "text": [
      "/media/lmeuret/Seagate Portable Drive/result_docking/DOCKING_project/Conan-main/results_SMINA/DOCKED/ligand394/output44_ligand394_2023-11-22-15_52/best.pdbqt\n",
      "/media/lmeuret/Seagate Portable Drive/result_docking/DOCKING_project/Conan-main/receptors/output44.pdbqt\n"
     ]
    },
    {
     "data": {
      "application/vnd.jupyter.widget-view+json": {
       "model_id": "70b145a3aa814496955680e6059e0137",
       "version_major": 2,
       "version_minor": 0
      },
      "text/plain": [
       "  0%|          | 0/1 [00:00<?, ?it/s]"
      ]
     },
     "metadata": {},
     "output_type": "display_data"
    },
    {
     "name": "stderr",
     "output_type": "stream",
     "text": [
      "\r",
      "Processing ligands: 542it [02:03,  3.51it/s]"
     ]
    },
    {
     "name": "stdout",
     "output_type": "stream",
     "text": [
      "/media/lmeuret/Seagate Portable Drive/result_docking/DOCKING_project/Conan-main/results_SMINA/DOCKED/ligand395/output44_ligand395_2023-11-22-15_52/best.pdbqt\n",
      "/media/lmeuret/Seagate Portable Drive/result_docking/DOCKING_project/Conan-main/receptors/output44.pdbqt\n"
     ]
    },
    {
     "data": {
      "application/vnd.jupyter.widget-view+json": {
       "model_id": "a46cc21664c2405f9e2f48f034a9bf01",
       "version_major": 2,
       "version_minor": 0
      },
      "text/plain": [
       "  0%|          | 0/1 [00:00<?, ?it/s]"
      ]
     },
     "metadata": {},
     "output_type": "display_data"
    },
    {
     "name": "stderr",
     "output_type": "stream",
     "text": [
      "\r",
      "Processing ligands: 543it [02:03,  3.55it/s]"
     ]
    },
    {
     "name": "stdout",
     "output_type": "stream",
     "text": [
      "/media/lmeuret/Seagate Portable Drive/result_docking/DOCKING_project/Conan-main/results_SMINA/DOCKED/ligand396/output44_ligand396_2023-11-22-15_52/best.pdbqt\n",
      "/media/lmeuret/Seagate Portable Drive/result_docking/DOCKING_project/Conan-main/receptors/output44.pdbqt\n"
     ]
    },
    {
     "data": {
      "application/vnd.jupyter.widget-view+json": {
       "model_id": "7c5df859cc1d42a79be620434aac8ee6",
       "version_major": 2,
       "version_minor": 0
      },
      "text/plain": [
       "  0%|          | 0/1 [00:00<?, ?it/s]"
      ]
     },
     "metadata": {},
     "output_type": "display_data"
    },
    {
     "name": "stderr",
     "output_type": "stream",
     "text": [
      "\r",
      "Processing ligands: 544it [02:03,  3.48it/s]"
     ]
    },
    {
     "name": "stdout",
     "output_type": "stream",
     "text": [
      "/media/lmeuret/Seagate Portable Drive/result_docking/DOCKING_project/Conan-main/results_SMINA/DOCKED/ligand397/output44_ligand397_2023-11-22-15_52/best.pdbqt\n",
      "/media/lmeuret/Seagate Portable Drive/result_docking/DOCKING_project/Conan-main/receptors/output44.pdbqt\n"
     ]
    },
    {
     "data": {
      "application/vnd.jupyter.widget-view+json": {
       "model_id": "54f205fd7a7c449b933e0d3650eedde2",
       "version_major": 2,
       "version_minor": 0
      },
      "text/plain": [
       "  0%|          | 0/1 [00:00<?, ?it/s]"
      ]
     },
     "metadata": {},
     "output_type": "display_data"
    },
    {
     "name": "stderr",
     "output_type": "stream",
     "text": [
      "\r",
      "Processing ligands: 545it [02:04,  3.57it/s]"
     ]
    },
    {
     "name": "stdout",
     "output_type": "stream",
     "text": [
      "/media/lmeuret/Seagate Portable Drive/result_docking/DOCKING_project/Conan-main/results_SMINA/DOCKED/ligand398/output44_ligand398_2023-11-22-15_52/best.pdbqt\n",
      "/media/lmeuret/Seagate Portable Drive/result_docking/DOCKING_project/Conan-main/receptors/output44.pdbqt\n"
     ]
    },
    {
     "data": {
      "application/vnd.jupyter.widget-view+json": {
       "model_id": "22f48d3b1328417ebe5fcf19d0212dfc",
       "version_major": 2,
       "version_minor": 0
      },
      "text/plain": [
       "  0%|          | 0/1 [00:00<?, ?it/s]"
      ]
     },
     "metadata": {},
     "output_type": "display_data"
    },
    {
     "name": "stderr",
     "output_type": "stream",
     "text": [
      "\r",
      "Processing ligands: 546it [02:04,  3.68it/s]"
     ]
    },
    {
     "name": "stdout",
     "output_type": "stream",
     "text": [
      "/media/lmeuret/Seagate Portable Drive/result_docking/DOCKING_project/Conan-main/results_SMINA/DOCKED/ligand399/output44_ligand399_2023-11-22-15_52/best.pdbqt\n",
      "/media/lmeuret/Seagate Portable Drive/result_docking/DOCKING_project/Conan-main/receptors/output44.pdbqt\n"
     ]
    },
    {
     "data": {
      "application/vnd.jupyter.widget-view+json": {
       "model_id": "ad89e641b6cb48e5b943430c8f185e0b",
       "version_major": 2,
       "version_minor": 0
      },
      "text/plain": [
       "  0%|          | 0/1 [00:00<?, ?it/s]"
      ]
     },
     "metadata": {},
     "output_type": "display_data"
    },
    {
     "name": "stderr",
     "output_type": "stream",
     "text": [
      "\r",
      "Processing ligands: 547it [02:04,  3.82it/s]"
     ]
    },
    {
     "name": "stdout",
     "output_type": "stream",
     "text": [
      "/media/lmeuret/Seagate Portable Drive/result_docking/DOCKING_project/Conan-main/results_SMINA/DOCKED/ligand4/output44_ligand4_2023-11-22-15_52/best.pdbqt\n",
      "/media/lmeuret/Seagate Portable Drive/result_docking/DOCKING_project/Conan-main/receptors/output44.pdbqt\n"
     ]
    },
    {
     "data": {
      "application/vnd.jupyter.widget-view+json": {
       "model_id": "d2902bf92423412aaa84cc942c4b8ecb",
       "version_major": 2,
       "version_minor": 0
      },
      "text/plain": [
       "  0%|          | 0/1 [00:00<?, ?it/s]"
      ]
     },
     "metadata": {},
     "output_type": "display_data"
    },
    {
     "name": "stderr",
     "output_type": "stream",
     "text": [
      "\r",
      "Processing ligands: 548it [02:04,  3.89it/s]"
     ]
    },
    {
     "name": "stdout",
     "output_type": "stream",
     "text": [
      "/media/lmeuret/Seagate Portable Drive/result_docking/DOCKING_project/Conan-main/results_SMINA/DOCKED/ligand40/output44_ligand40_2023-11-22-15_52/best.pdbqt\n",
      "/media/lmeuret/Seagate Portable Drive/result_docking/DOCKING_project/Conan-main/receptors/output44.pdbqt\n"
     ]
    },
    {
     "data": {
      "application/vnd.jupyter.widget-view+json": {
       "model_id": "42101e0c913a4dd49853d716fca5abad",
       "version_major": 2,
       "version_minor": 0
      },
      "text/plain": [
       "  0%|          | 0/1 [00:00<?, ?it/s]"
      ]
     },
     "metadata": {},
     "output_type": "display_data"
    },
    {
     "name": "stderr",
     "output_type": "stream",
     "text": [
      "\r",
      "Processing ligands: 549it [02:05,  3.97it/s]"
     ]
    },
    {
     "name": "stdout",
     "output_type": "stream",
     "text": [
      "/media/lmeuret/Seagate Portable Drive/result_docking/DOCKING_project/Conan-main/results_SMINA/DOCKED/ligand400/output44_ligand400_2023-11-22-15_52/best.pdbqt\n",
      "/media/lmeuret/Seagate Portable Drive/result_docking/DOCKING_project/Conan-main/receptors/output44.pdbqt\n"
     ]
    },
    {
     "data": {
      "application/vnd.jupyter.widget-view+json": {
       "model_id": "21c8092fb75f4ef8ba74ab5a75d4458f",
       "version_major": 2,
       "version_minor": 0
      },
      "text/plain": [
       "  0%|          | 0/1 [00:00<?, ?it/s]"
      ]
     },
     "metadata": {},
     "output_type": "display_data"
    },
    {
     "name": "stderr",
     "output_type": "stream",
     "text": [
      "\r",
      "Processing ligands: 550it [02:05,  3.86it/s]"
     ]
    },
    {
     "name": "stdout",
     "output_type": "stream",
     "text": [
      "/media/lmeuret/Seagate Portable Drive/result_docking/DOCKING_project/Conan-main/results_SMINA/DOCKED/ligand402/output44_ligand402_2023-11-22-15_52/best.pdbqt\n",
      "/media/lmeuret/Seagate Portable Drive/result_docking/DOCKING_project/Conan-main/receptors/output44.pdbqt\n"
     ]
    },
    {
     "data": {
      "application/vnd.jupyter.widget-view+json": {
       "model_id": "eaad5616864149528038702255965aad",
       "version_major": 2,
       "version_minor": 0
      },
      "text/plain": [
       "  0%|          | 0/1 [00:00<?, ?it/s]"
      ]
     },
     "metadata": {},
     "output_type": "display_data"
    },
    {
     "name": "stderr",
     "output_type": "stream",
     "text": [
      "\r",
      "Processing ligands: 551it [02:05,  3.82it/s]"
     ]
    },
    {
     "name": "stdout",
     "output_type": "stream",
     "text": [
      "/media/lmeuret/Seagate Portable Drive/result_docking/DOCKING_project/Conan-main/results_SMINA/DOCKED/ligand403/output44_ligand403_2023-11-22-15_52/best.pdbqt\n",
      "/media/lmeuret/Seagate Portable Drive/result_docking/DOCKING_project/Conan-main/receptors/output44.pdbqt\n"
     ]
    },
    {
     "data": {
      "application/vnd.jupyter.widget-view+json": {
       "model_id": "4362ce0cdb284801964401a2ae11b306",
       "version_major": 2,
       "version_minor": 0
      },
      "text/plain": [
       "  0%|          | 0/1 [00:00<?, ?it/s]"
      ]
     },
     "metadata": {},
     "output_type": "display_data"
    },
    {
     "name": "stderr",
     "output_type": "stream",
     "text": [
      "\r",
      "Processing ligands: 552it [02:05,  3.79it/s]"
     ]
    },
    {
     "name": "stdout",
     "output_type": "stream",
     "text": [
      "/media/lmeuret/Seagate Portable Drive/result_docking/DOCKING_project/Conan-main/results_SMINA/DOCKED/ligand404/output44_ligand404_2023-11-22-15_52/best.pdbqt\n",
      "/media/lmeuret/Seagate Portable Drive/result_docking/DOCKING_project/Conan-main/receptors/output44.pdbqt\n"
     ]
    },
    {
     "data": {
      "application/vnd.jupyter.widget-view+json": {
       "model_id": "3eabaa875bb04a3e86f7eaa7fe6d9c70",
       "version_major": 2,
       "version_minor": 0
      },
      "text/plain": [
       "  0%|          | 0/1 [00:00<?, ?it/s]"
      ]
     },
     "metadata": {},
     "output_type": "display_data"
    },
    {
     "name": "stderr",
     "output_type": "stream",
     "text": [
      "\r",
      "Processing ligands: 553it [02:06,  3.87it/s]"
     ]
    },
    {
     "name": "stdout",
     "output_type": "stream",
     "text": [
      "/media/lmeuret/Seagate Portable Drive/result_docking/DOCKING_project/Conan-main/results_SMINA/DOCKED/ligand405/output44_ligand405_2023-11-22-15_52/best.pdbqt\n",
      "/media/lmeuret/Seagate Portable Drive/result_docking/DOCKING_project/Conan-main/receptors/output44.pdbqt\n"
     ]
    },
    {
     "data": {
      "application/vnd.jupyter.widget-view+json": {
       "model_id": "2cca526f324b4c3a94a933e9b90c7e97",
       "version_major": 2,
       "version_minor": 0
      },
      "text/plain": [
       "  0%|          | 0/1 [00:00<?, ?it/s]"
      ]
     },
     "metadata": {},
     "output_type": "display_data"
    },
    {
     "name": "stderr",
     "output_type": "stream",
     "text": [
      "\r",
      "Processing ligands: 554it [02:06,  4.00it/s]"
     ]
    },
    {
     "name": "stdout",
     "output_type": "stream",
     "text": [
      "/media/lmeuret/Seagate Portable Drive/result_docking/DOCKING_project/Conan-main/results_SMINA/DOCKED/ligand406/output44_ligand406_2023-11-22-15_52/best.pdbqt\n",
      "/media/lmeuret/Seagate Portable Drive/result_docking/DOCKING_project/Conan-main/receptors/output44.pdbqt\n"
     ]
    },
    {
     "data": {
      "application/vnd.jupyter.widget-view+json": {
       "model_id": "7ea7fee5bfaa49eea73d86000a849454",
       "version_major": 2,
       "version_minor": 0
      },
      "text/plain": [
       "  0%|          | 0/1 [00:00<?, ?it/s]"
      ]
     },
     "metadata": {},
     "output_type": "display_data"
    },
    {
     "name": "stderr",
     "output_type": "stream",
     "text": [
      "\r",
      "Processing ligands: 555it [02:06,  4.06it/s]"
     ]
    },
    {
     "name": "stdout",
     "output_type": "stream",
     "text": [
      "/media/lmeuret/Seagate Portable Drive/result_docking/DOCKING_project/Conan-main/results_SMINA/DOCKED/ligand407/output44_ligand407_2023-11-22-15_52/best.pdbqt\n",
      "/media/lmeuret/Seagate Portable Drive/result_docking/DOCKING_project/Conan-main/receptors/output44.pdbqt\n"
     ]
    },
    {
     "data": {
      "application/vnd.jupyter.widget-view+json": {
       "model_id": "8e6abb78ff0d4d409c86f1b6115dbc53",
       "version_major": 2,
       "version_minor": 0
      },
      "text/plain": [
       "  0%|          | 0/1 [00:00<?, ?it/s]"
      ]
     },
     "metadata": {},
     "output_type": "display_data"
    },
    {
     "name": "stderr",
     "output_type": "stream",
     "text": [
      "\r",
      "Processing ligands: 556it [02:06,  4.04it/s]"
     ]
    },
    {
     "name": "stdout",
     "output_type": "stream",
     "text": [
      "/media/lmeuret/Seagate Portable Drive/result_docking/DOCKING_project/Conan-main/results_SMINA/DOCKED/ligand408/output44_ligand408_2023-11-22-15_52/best.pdbqt\n",
      "/media/lmeuret/Seagate Portable Drive/result_docking/DOCKING_project/Conan-main/receptors/output44.pdbqt\n"
     ]
    },
    {
     "data": {
      "application/vnd.jupyter.widget-view+json": {
       "model_id": "8a6c8cca2c79400d8ecd538b103752d1",
       "version_major": 2,
       "version_minor": 0
      },
      "text/plain": [
       "  0%|          | 0/1 [00:00<?, ?it/s]"
      ]
     },
     "metadata": {},
     "output_type": "display_data"
    },
    {
     "name": "stderr",
     "output_type": "stream",
     "text": [
      "\r",
      "Processing ligands: 557it [02:07,  4.23it/s]"
     ]
    },
    {
     "name": "stdout",
     "output_type": "stream",
     "text": [
      "/media/lmeuret/Seagate Portable Drive/result_docking/DOCKING_project/Conan-main/results_SMINA/DOCKED/ligand409/output44_ligand409_2023-11-22-15_52/best.pdbqt\n",
      "/media/lmeuret/Seagate Portable Drive/result_docking/DOCKING_project/Conan-main/receptors/output44.pdbqt\n"
     ]
    },
    {
     "data": {
      "application/vnd.jupyter.widget-view+json": {
       "model_id": "e7b9b79b19844cc2bd066304e613741a",
       "version_major": 2,
       "version_minor": 0
      },
      "text/plain": [
       "  0%|          | 0/1 [00:00<?, ?it/s]"
      ]
     },
     "metadata": {},
     "output_type": "display_data"
    },
    {
     "name": "stderr",
     "output_type": "stream",
     "text": [
      "\r",
      "Processing ligands: 558it [02:07,  4.14it/s]"
     ]
    },
    {
     "name": "stdout",
     "output_type": "stream",
     "text": [
      "/media/lmeuret/Seagate Portable Drive/result_docking/DOCKING_project/Conan-main/results_SMINA/DOCKED/ligand41/output44_ligand41_2023-11-22-15_52/best.pdbqt\n",
      "/media/lmeuret/Seagate Portable Drive/result_docking/DOCKING_project/Conan-main/receptors/output44.pdbqt\n"
     ]
    },
    {
     "data": {
      "application/vnd.jupyter.widget-view+json": {
       "model_id": "ccf9b99d225a4142a2031e311231dfd1",
       "version_major": 2,
       "version_minor": 0
      },
      "text/plain": [
       "  0%|          | 0/1 [00:00<?, ?it/s]"
      ]
     },
     "metadata": {},
     "output_type": "display_data"
    },
    {
     "name": "stderr",
     "output_type": "stream",
     "text": [
      "\r",
      "Processing ligands: 559it [02:07,  4.21it/s]"
     ]
    },
    {
     "name": "stdout",
     "output_type": "stream",
     "text": [
      "/media/lmeuret/Seagate Portable Drive/result_docking/DOCKING_project/Conan-main/results_SMINA/DOCKED/ligand410/output44_ligand410_2023-11-22-15_52/best.pdbqt\n",
      "/media/lmeuret/Seagate Portable Drive/result_docking/DOCKING_project/Conan-main/receptors/output44.pdbqt\n"
     ]
    },
    {
     "data": {
      "application/vnd.jupyter.widget-view+json": {
       "model_id": "ccb5295b5c854eb8bb4dbfae128ce6e9",
       "version_major": 2,
       "version_minor": 0
      },
      "text/plain": [
       "  0%|          | 0/1 [00:00<?, ?it/s]"
      ]
     },
     "metadata": {},
     "output_type": "display_data"
    },
    {
     "name": "stderr",
     "output_type": "stream",
     "text": [
      "\r",
      "Processing ligands: 560it [02:07,  4.24it/s]"
     ]
    },
    {
     "name": "stdout",
     "output_type": "stream",
     "text": [
      "/media/lmeuret/Seagate Portable Drive/result_docking/DOCKING_project/Conan-main/results_SMINA/DOCKED/ligand411/output44_ligand411_2023-11-22-15_52/best.pdbqt\n",
      "/media/lmeuret/Seagate Portable Drive/result_docking/DOCKING_project/Conan-main/receptors/output44.pdbqt\n"
     ]
    },
    {
     "data": {
      "application/vnd.jupyter.widget-view+json": {
       "model_id": "9b4d2cb390c54057a69a53a80234b187",
       "version_major": 2,
       "version_minor": 0
      },
      "text/plain": [
       "  0%|          | 0/1 [00:00<?, ?it/s]"
      ]
     },
     "metadata": {},
     "output_type": "display_data"
    },
    {
     "name": "stderr",
     "output_type": "stream",
     "text": [
      "\r",
      "Processing ligands: 561it [02:08,  4.29it/s]"
     ]
    },
    {
     "name": "stdout",
     "output_type": "stream",
     "text": [
      "/media/lmeuret/Seagate Portable Drive/result_docking/DOCKING_project/Conan-main/results_SMINA/DOCKED/ligand538/output44_ligand538_2023-11-22-15_52/best.pdbqt\n",
      "/media/lmeuret/Seagate Portable Drive/result_docking/DOCKING_project/Conan-main/receptors/output44.pdbqt\n"
     ]
    },
    {
     "data": {
      "application/vnd.jupyter.widget-view+json": {
       "model_id": "81651481ff4f4d778164772e6fdfaa8b",
       "version_major": 2,
       "version_minor": 0
      },
      "text/plain": [
       "  0%|          | 0/1 [00:00<?, ?it/s]"
      ]
     },
     "metadata": {},
     "output_type": "display_data"
    },
    {
     "name": "stderr",
     "output_type": "stream",
     "text": [
      "\r",
      "Processing ligands: 562it [02:08,  4.08it/s]"
     ]
    },
    {
     "name": "stdout",
     "output_type": "stream",
     "text": [
      "/media/lmeuret/Seagate Portable Drive/result_docking/DOCKING_project/Conan-main/results_SMINA/DOCKED/ligand539/output44_ligand539_2023-11-22-15_52/best.pdbqt\n",
      "/media/lmeuret/Seagate Portable Drive/result_docking/DOCKING_project/Conan-main/receptors/output44.pdbqt\n"
     ]
    },
    {
     "data": {
      "application/vnd.jupyter.widget-view+json": {
       "model_id": "ac6b766cc6be4c1abf42cbaac0765822",
       "version_major": 2,
       "version_minor": 0
      },
      "text/plain": [
       "  0%|          | 0/1 [00:00<?, ?it/s]"
      ]
     },
     "metadata": {},
     "output_type": "display_data"
    },
    {
     "name": "stderr",
     "output_type": "stream",
     "text": [
      "\r",
      "Processing ligands: 563it [02:08,  4.23it/s]"
     ]
    },
    {
     "name": "stdout",
     "output_type": "stream",
     "text": [
      "/media/lmeuret/Seagate Portable Drive/result_docking/DOCKING_project/Conan-main/results_SMINA/DOCKED/ligand54/output44_ligand54_2023-11-22-15_52/best.pdbqt\n",
      "/media/lmeuret/Seagate Portable Drive/result_docking/DOCKING_project/Conan-main/receptors/output44.pdbqt\n"
     ]
    },
    {
     "data": {
      "application/vnd.jupyter.widget-view+json": {
       "model_id": "101152c7102c40a4ae1a5ffaf9102609",
       "version_major": 2,
       "version_minor": 0
      },
      "text/plain": [
       "  0%|          | 0/1 [00:00<?, ?it/s]"
      ]
     },
     "metadata": {},
     "output_type": "display_data"
    },
    {
     "name": "stderr",
     "output_type": "stream",
     "text": [
      "\r",
      "Processing ligands: 564it [02:08,  4.08it/s]"
     ]
    },
    {
     "name": "stdout",
     "output_type": "stream",
     "text": [
      "/media/lmeuret/Seagate Portable Drive/result_docking/DOCKING_project/Conan-main/results_SMINA/DOCKED/ligand540/output44_ligand540_2023-11-22-15_52/best.pdbqt\n",
      "/media/lmeuret/Seagate Portable Drive/result_docking/DOCKING_project/Conan-main/receptors/output44.pdbqt\n"
     ]
    },
    {
     "data": {
      "application/vnd.jupyter.widget-view+json": {
       "model_id": "d731ba04ba0e45f0a3bae5ad46ee395b",
       "version_major": 2,
       "version_minor": 0
      },
      "text/plain": [
       "  0%|          | 0/1 [00:00<?, ?it/s]"
      ]
     },
     "metadata": {},
     "output_type": "display_data"
    },
    {
     "name": "stderr",
     "output_type": "stream",
     "text": [
      "\r",
      "Processing ligands: 565it [02:09,  4.06it/s]"
     ]
    },
    {
     "name": "stdout",
     "output_type": "stream",
     "text": [
      "/media/lmeuret/Seagate Portable Drive/result_docking/DOCKING_project/Conan-main/results_SMINA/DOCKED/ligand541/output44_ligand541_2023-11-22-15_52/best.pdbqt\n",
      "/media/lmeuret/Seagate Portable Drive/result_docking/DOCKING_project/Conan-main/receptors/output44.pdbqt\n"
     ]
    },
    {
     "data": {
      "application/vnd.jupyter.widget-view+json": {
       "model_id": "e9af644b25bc4a6db9d953321ff3b45b",
       "version_major": 2,
       "version_minor": 0
      },
      "text/plain": [
       "  0%|          | 0/1 [00:00<?, ?it/s]"
      ]
     },
     "metadata": {},
     "output_type": "display_data"
    },
    {
     "name": "stderr",
     "output_type": "stream",
     "text": [
      "\r",
      "Processing ligands: 566it [02:09,  4.13it/s]"
     ]
    },
    {
     "name": "stdout",
     "output_type": "stream",
     "text": [
      "/media/lmeuret/Seagate Portable Drive/result_docking/DOCKING_project/Conan-main/results_SMINA/DOCKED/ligand542/output44_ligand542_2023-11-22-15_52/best.pdbqt\n",
      "/media/lmeuret/Seagate Portable Drive/result_docking/DOCKING_project/Conan-main/receptors/output44.pdbqt\n"
     ]
    },
    {
     "data": {
      "application/vnd.jupyter.widget-view+json": {
       "model_id": "646d7dbed8c24df8b13b95160b83780c",
       "version_major": 2,
       "version_minor": 0
      },
      "text/plain": [
       "  0%|          | 0/1 [00:00<?, ?it/s]"
      ]
     },
     "metadata": {},
     "output_type": "display_data"
    },
    {
     "name": "stderr",
     "output_type": "stream",
     "text": [
      "\r",
      "Processing ligands: 567it [02:09,  4.19it/s]"
     ]
    },
    {
     "name": "stdout",
     "output_type": "stream",
     "text": [
      "/media/lmeuret/Seagate Portable Drive/result_docking/DOCKING_project/Conan-main/results_SMINA/DOCKED/ligand543/output44_ligand543_2023-11-22-15_52/best.pdbqt\n",
      "/media/lmeuret/Seagate Portable Drive/result_docking/DOCKING_project/Conan-main/receptors/output44.pdbqt\n"
     ]
    },
    {
     "data": {
      "application/vnd.jupyter.widget-view+json": {
       "model_id": "16f35581d5084913bf1aaa1667a27107",
       "version_major": 2,
       "version_minor": 0
      },
      "text/plain": [
       "  0%|          | 0/1 [00:00<?, ?it/s]"
      ]
     },
     "metadata": {},
     "output_type": "display_data"
    },
    {
     "name": "stderr",
     "output_type": "stream",
     "text": [
      "\r",
      "Processing ligands: 568it [02:09,  4.24it/s]"
     ]
    },
    {
     "name": "stdout",
     "output_type": "stream",
     "text": [
      "/media/lmeuret/Seagate Portable Drive/result_docking/DOCKING_project/Conan-main/results_SMINA/DOCKED/ligand544/output44_ligand544_2023-11-22-15_52/best.pdbqt\n",
      "/media/lmeuret/Seagate Portable Drive/result_docking/DOCKING_project/Conan-main/receptors/output44.pdbqt\n"
     ]
    },
    {
     "data": {
      "application/vnd.jupyter.widget-view+json": {
       "model_id": "04e93d638422409a9835e940304f985c",
       "version_major": 2,
       "version_minor": 0
      },
      "text/plain": [
       "  0%|          | 0/1 [00:00<?, ?it/s]"
      ]
     },
     "metadata": {},
     "output_type": "display_data"
    },
    {
     "name": "stderr",
     "output_type": "stream",
     "text": [
      "\r",
      "Processing ligands: 569it [02:09,  4.32it/s]"
     ]
    },
    {
     "name": "stdout",
     "output_type": "stream",
     "text": [
      "/media/lmeuret/Seagate Portable Drive/result_docking/DOCKING_project/Conan-main/results_SMINA/DOCKED/ligand545/output44_ligand545_2023-11-22-15_52/best.pdbqt\n",
      "/media/lmeuret/Seagate Portable Drive/result_docking/DOCKING_project/Conan-main/receptors/output44.pdbqt\n"
     ]
    },
    {
     "data": {
      "application/vnd.jupyter.widget-view+json": {
       "model_id": "94f54be60d7a49c2a195db5ed1e5f98e",
       "version_major": 2,
       "version_minor": 0
      },
      "text/plain": [
       "  0%|          | 0/1 [00:00<?, ?it/s]"
      ]
     },
     "metadata": {},
     "output_type": "display_data"
    },
    {
     "name": "stderr",
     "output_type": "stream",
     "text": [
      "\r",
      "Processing ligands: 570it [02:10,  4.42it/s]"
     ]
    },
    {
     "name": "stdout",
     "output_type": "stream",
     "text": [
      "/media/lmeuret/Seagate Portable Drive/result_docking/DOCKING_project/Conan-main/results_SMINA/DOCKED/ligand546/output44_ligand546_2023-11-22-15_52/best.pdbqt\n",
      "/media/lmeuret/Seagate Portable Drive/result_docking/DOCKING_project/Conan-main/receptors/output44.pdbqt\n"
     ]
    },
    {
     "data": {
      "application/vnd.jupyter.widget-view+json": {
       "model_id": "dec1869452ac45999ac84f7c079cae53",
       "version_major": 2,
       "version_minor": 0
      },
      "text/plain": [
       "  0%|          | 0/1 [00:00<?, ?it/s]"
      ]
     },
     "metadata": {},
     "output_type": "display_data"
    },
    {
     "name": "stderr",
     "output_type": "stream",
     "text": [
      "\r",
      "Processing ligands: 571it [02:10,  4.35it/s]"
     ]
    },
    {
     "name": "stdout",
     "output_type": "stream",
     "text": [
      "/media/lmeuret/Seagate Portable Drive/result_docking/DOCKING_project/Conan-main/results_SMINA/DOCKED/ligand547/output44_ligand547_2023-11-22-15_52/best.pdbqt\n",
      "/media/lmeuret/Seagate Portable Drive/result_docking/DOCKING_project/Conan-main/receptors/output44.pdbqt\n"
     ]
    },
    {
     "data": {
      "application/vnd.jupyter.widget-view+json": {
       "model_id": "96ebd3246596491ebda90adb7fa3e90e",
       "version_major": 2,
       "version_minor": 0
      },
      "text/plain": [
       "  0%|          | 0/1 [00:00<?, ?it/s]"
      ]
     },
     "metadata": {},
     "output_type": "display_data"
    },
    {
     "name": "stderr",
     "output_type": "stream",
     "text": [
      "\r",
      "Processing ligands: 572it [02:10,  3.76it/s]"
     ]
    },
    {
     "name": "stdout",
     "output_type": "stream",
     "text": [
      "/media/lmeuret/Seagate Portable Drive/result_docking/DOCKING_project/Conan-main/results_SMINA/DOCKED/ligand548/output44_ligand548_2023-11-22-15_52/best.pdbqt\n",
      "/media/lmeuret/Seagate Portable Drive/result_docking/DOCKING_project/Conan-main/receptors/output44.pdbqt\n"
     ]
    },
    {
     "data": {
      "application/vnd.jupyter.widget-view+json": {
       "model_id": "60518c97299f43a8b2c39da7e13e8852",
       "version_major": 2,
       "version_minor": 0
      },
      "text/plain": [
       "  0%|          | 0/1 [00:00<?, ?it/s]"
      ]
     },
     "metadata": {},
     "output_type": "display_data"
    },
    {
     "name": "stderr",
     "output_type": "stream",
     "text": [
      "\r",
      "Processing ligands: 573it [02:10,  3.89it/s]"
     ]
    },
    {
     "name": "stdout",
     "output_type": "stream",
     "text": [
      "/media/lmeuret/Seagate Portable Drive/result_docking/DOCKING_project/Conan-main/results_SMINA/DOCKED/ligand549/output44_ligand549_2023-11-22-15_52/best.pdbqt\n",
      "/media/lmeuret/Seagate Portable Drive/result_docking/DOCKING_project/Conan-main/receptors/output44.pdbqt\n"
     ]
    },
    {
     "data": {
      "application/vnd.jupyter.widget-view+json": {
       "model_id": "5514dae3f8aa4a559428da2a20d7d3ab",
       "version_major": 2,
       "version_minor": 0
      },
      "text/plain": [
       "  0%|          | 0/1 [00:00<?, ?it/s]"
      ]
     },
     "metadata": {},
     "output_type": "display_data"
    },
    {
     "name": "stderr",
     "output_type": "stream",
     "text": [
      "\r",
      "Processing ligands: 574it [02:11,  3.96it/s]"
     ]
    },
    {
     "name": "stdout",
     "output_type": "stream",
     "text": [
      "/media/lmeuret/Seagate Portable Drive/result_docking/DOCKING_project/Conan-main/results_SMINA/DOCKED/ligand55/output44_ligand55_2023-11-22-15_52/best.pdbqt\n",
      "/media/lmeuret/Seagate Portable Drive/result_docking/DOCKING_project/Conan-main/receptors/output44.pdbqt\n"
     ]
    },
    {
     "data": {
      "application/vnd.jupyter.widget-view+json": {
       "model_id": "e99ee16daea74dd6a1a20c42c4d243c5",
       "version_major": 2,
       "version_minor": 0
      },
      "text/plain": [
       "  0%|          | 0/1 [00:00<?, ?it/s]"
      ]
     },
     "metadata": {},
     "output_type": "display_data"
    },
    {
     "name": "stderr",
     "output_type": "stream",
     "text": [
      "\r",
      "Processing ligands: 575it [02:11,  4.05it/s]"
     ]
    },
    {
     "name": "stdout",
     "output_type": "stream",
     "text": [
      "/media/lmeuret/Seagate Portable Drive/result_docking/DOCKING_project/Conan-main/results_SMINA/DOCKED/ligand550/output44_ligand550_2023-11-22-15_52/best.pdbqt\n",
      "/media/lmeuret/Seagate Portable Drive/result_docking/DOCKING_project/Conan-main/receptors/output44.pdbqt\n"
     ]
    },
    {
     "data": {
      "application/vnd.jupyter.widget-view+json": {
       "model_id": "0427848df4ed497e9408f421ecb2449f",
       "version_major": 2,
       "version_minor": 0
      },
      "text/plain": [
       "  0%|          | 0/1 [00:00<?, ?it/s]"
      ]
     },
     "metadata": {},
     "output_type": "display_data"
    },
    {
     "name": "stderr",
     "output_type": "stream",
     "text": [
      "\r",
      "Processing ligands: 576it [02:11,  4.13it/s]"
     ]
    },
    {
     "name": "stdout",
     "output_type": "stream",
     "text": [
      "/media/lmeuret/Seagate Portable Drive/result_docking/DOCKING_project/Conan-main/results_SMINA/DOCKED/ligand551/output44_ligand551_2023-11-22-15_52/best.pdbqt\n",
      "/media/lmeuret/Seagate Portable Drive/result_docking/DOCKING_project/Conan-main/receptors/output44.pdbqt\n"
     ]
    },
    {
     "data": {
      "application/vnd.jupyter.widget-view+json": {
       "model_id": "557b6e6720a6485fbaf3784a2d34c0ca",
       "version_major": 2,
       "version_minor": 0
      },
      "text/plain": [
       "  0%|          | 0/1 [00:00<?, ?it/s]"
      ]
     },
     "metadata": {},
     "output_type": "display_data"
    },
    {
     "name": "stderr",
     "output_type": "stream",
     "text": [
      "\r",
      "Processing ligands: 577it [02:11,  4.20it/s]"
     ]
    },
    {
     "name": "stdout",
     "output_type": "stream",
     "text": [
      "/media/lmeuret/Seagate Portable Drive/result_docking/DOCKING_project/Conan-main/results_SMINA/DOCKED/ligand552/output44_ligand552_2023-11-22-15_52/best.pdbqt\n",
      "/media/lmeuret/Seagate Portable Drive/result_docking/DOCKING_project/Conan-main/receptors/output44.pdbqt\n"
     ]
    },
    {
     "data": {
      "application/vnd.jupyter.widget-view+json": {
       "model_id": "6525b85ae9e9414aa56b2dacf4424fc6",
       "version_major": 2,
       "version_minor": 0
      },
      "text/plain": [
       "  0%|          | 0/1 [00:00<?, ?it/s]"
      ]
     },
     "metadata": {},
     "output_type": "display_data"
    },
    {
     "name": "stderr",
     "output_type": "stream",
     "text": [
      "\r",
      "Processing ligands: 578it [02:12,  4.32it/s]"
     ]
    },
    {
     "name": "stdout",
     "output_type": "stream",
     "text": [
      "/media/lmeuret/Seagate Portable Drive/result_docking/DOCKING_project/Conan-main/results_SMINA/DOCKED/ligand553/output44_ligand553_2023-11-22-15_52/best.pdbqt\n",
      "/media/lmeuret/Seagate Portable Drive/result_docking/DOCKING_project/Conan-main/receptors/output44.pdbqt\n"
     ]
    },
    {
     "data": {
      "application/vnd.jupyter.widget-view+json": {
       "model_id": "542ae926eed64e1c8d7212d960bb45c0",
       "version_major": 2,
       "version_minor": 0
      },
      "text/plain": [
       "  0%|          | 0/1 [00:00<?, ?it/s]"
      ]
     },
     "metadata": {},
     "output_type": "display_data"
    },
    {
     "name": "stderr",
     "output_type": "stream",
     "text": [
      "\r",
      "Processing ligands: 579it [02:12,  4.13it/s]"
     ]
    },
    {
     "name": "stdout",
     "output_type": "stream",
     "text": [
      "/media/lmeuret/Seagate Portable Drive/result_docking/DOCKING_project/Conan-main/results_SMINA/DOCKED/ligand554/output44_ligand554_2023-11-22-15_52/best.pdbqt\n",
      "/media/lmeuret/Seagate Portable Drive/result_docking/DOCKING_project/Conan-main/receptors/output44.pdbqt\n"
     ]
    },
    {
     "data": {
      "application/vnd.jupyter.widget-view+json": {
       "model_id": "868484e722bb4e56b736811e3d70f25c",
       "version_major": 2,
       "version_minor": 0
      },
      "text/plain": [
       "  0%|          | 0/1 [00:00<?, ?it/s]"
      ]
     },
     "metadata": {},
     "output_type": "display_data"
    },
    {
     "name": "stderr",
     "output_type": "stream",
     "text": [
      "\r",
      "Processing ligands: 580it [02:12,  4.16it/s]"
     ]
    },
    {
     "name": "stdout",
     "output_type": "stream",
     "text": [
      "/media/lmeuret/Seagate Portable Drive/result_docking/DOCKING_project/Conan-main/results_SMINA/DOCKED/ligand555/output44_ligand555_2023-11-22-15_52/best.pdbqt\n",
      "/media/lmeuret/Seagate Portable Drive/result_docking/DOCKING_project/Conan-main/receptors/output44.pdbqt\n"
     ]
    },
    {
     "data": {
      "application/vnd.jupyter.widget-view+json": {
       "model_id": "3214970b5cfa4fb893ecca0b932454ff",
       "version_major": 2,
       "version_minor": 0
      },
      "text/plain": [
       "  0%|          | 0/1 [00:00<?, ?it/s]"
      ]
     },
     "metadata": {},
     "output_type": "display_data"
    },
    {
     "name": "stderr",
     "output_type": "stream",
     "text": [
      "\r",
      "Processing ligands: 581it [02:12,  4.33it/s]"
     ]
    },
    {
     "name": "stdout",
     "output_type": "stream",
     "text": [
      "/media/lmeuret/Seagate Portable Drive/result_docking/DOCKING_project/Conan-main/results_SMINA/DOCKED/ligand556/output44_ligand556_2023-11-22-15_52/best.pdbqt\n",
      "/media/lmeuret/Seagate Portable Drive/result_docking/DOCKING_project/Conan-main/receptors/output44.pdbqt\n"
     ]
    },
    {
     "data": {
      "application/vnd.jupyter.widget-view+json": {
       "model_id": "4fd886b474cf40b395177ec1bf934c21",
       "version_major": 2,
       "version_minor": 0
      },
      "text/plain": [
       "  0%|          | 0/1 [00:00<?, ?it/s]"
      ]
     },
     "metadata": {},
     "output_type": "display_data"
    },
    {
     "name": "stderr",
     "output_type": "stream",
     "text": [
      "\r",
      "Processing ligands: 582it [02:13,  4.28it/s]"
     ]
    },
    {
     "name": "stdout",
     "output_type": "stream",
     "text": [
      "/media/lmeuret/Seagate Portable Drive/result_docking/DOCKING_project/Conan-main/results_SMINA/DOCKED/ligand557/output44_ligand557_2023-11-22-15_52/best.pdbqt\n",
      "/media/lmeuret/Seagate Portable Drive/result_docking/DOCKING_project/Conan-main/receptors/output44.pdbqt\n"
     ]
    },
    {
     "data": {
      "application/vnd.jupyter.widget-view+json": {
       "model_id": "1f203728e11f40c09be32d1226f2ba8b",
       "version_major": 2,
       "version_minor": 0
      },
      "text/plain": [
       "  0%|          | 0/1 [00:00<?, ?it/s]"
      ]
     },
     "metadata": {},
     "output_type": "display_data"
    },
    {
     "name": "stderr",
     "output_type": "stream",
     "text": [
      "\r",
      "Processing ligands: 583it [02:13,  4.38it/s]"
     ]
    },
    {
     "name": "stdout",
     "output_type": "stream",
     "text": [
      "/media/lmeuret/Seagate Portable Drive/result_docking/DOCKING_project/Conan-main/results_SMINA/DOCKED/ligand558/output44_ligand558_2023-11-22-15_52/best.pdbqt\n",
      "/media/lmeuret/Seagate Portable Drive/result_docking/DOCKING_project/Conan-main/receptors/output44.pdbqt\n"
     ]
    },
    {
     "data": {
      "application/vnd.jupyter.widget-view+json": {
       "model_id": "8574d4b5cc47497bbae93c5265a04700",
       "version_major": 2,
       "version_minor": 0
      },
      "text/plain": [
       "  0%|          | 0/1 [00:00<?, ?it/s]"
      ]
     },
     "metadata": {},
     "output_type": "display_data"
    },
    {
     "name": "stderr",
     "output_type": "stream",
     "text": [
      "\r",
      "Processing ligands: 584it [02:13,  4.44it/s]"
     ]
    },
    {
     "name": "stdout",
     "output_type": "stream",
     "text": [
      "/media/lmeuret/Seagate Portable Drive/result_docking/DOCKING_project/Conan-main/results_SMINA/DOCKED/ligand559/output44_ligand559_2023-11-22-15_52/best.pdbqt\n",
      "/media/lmeuret/Seagate Portable Drive/result_docking/DOCKING_project/Conan-main/receptors/output44.pdbqt\n"
     ]
    },
    {
     "data": {
      "application/vnd.jupyter.widget-view+json": {
       "model_id": "9bdf5bc0a0d848afaedbf5a17beb783a",
       "version_major": 2,
       "version_minor": 0
      },
      "text/plain": [
       "  0%|          | 0/1 [00:00<?, ?it/s]"
      ]
     },
     "metadata": {},
     "output_type": "display_data"
    },
    {
     "name": "stderr",
     "output_type": "stream",
     "text": [
      "\r",
      "Processing ligands: 585it [02:13,  4.48it/s]"
     ]
    },
    {
     "name": "stdout",
     "output_type": "stream",
     "text": [
      "/media/lmeuret/Seagate Portable Drive/result_docking/DOCKING_project/Conan-main/results_SMINA/DOCKED/ligand56/output44_ligand56_2023-11-22-15_52/best.pdbqt\n",
      "/media/lmeuret/Seagate Portable Drive/result_docking/DOCKING_project/Conan-main/receptors/output44.pdbqt\n"
     ]
    },
    {
     "data": {
      "application/vnd.jupyter.widget-view+json": {
       "model_id": "7df785fd33914d42acd0eb2c593f1082",
       "version_major": 2,
       "version_minor": 0
      },
      "text/plain": [
       "  0%|          | 0/1 [00:00<?, ?it/s]"
      ]
     },
     "metadata": {},
     "output_type": "display_data"
    },
    {
     "name": "stderr",
     "output_type": "stream",
     "text": [
      "\r",
      "Processing ligands: 586it [02:13,  4.25it/s]"
     ]
    },
    {
     "name": "stdout",
     "output_type": "stream",
     "text": [
      "/media/lmeuret/Seagate Portable Drive/result_docking/DOCKING_project/Conan-main/results_SMINA/DOCKED/ligand560/output44_ligand560_2023-11-22-15_52/best.pdbqt\n",
      "/media/lmeuret/Seagate Portable Drive/result_docking/DOCKING_project/Conan-main/receptors/output44.pdbqt\n"
     ]
    },
    {
     "data": {
      "application/vnd.jupyter.widget-view+json": {
       "model_id": "e4921b95df1b4a4da3d574b02b9c4153",
       "version_major": 2,
       "version_minor": 0
      },
      "text/plain": [
       "  0%|          | 0/1 [00:00<?, ?it/s]"
      ]
     },
     "metadata": {},
     "output_type": "display_data"
    },
    {
     "name": "stderr",
     "output_type": "stream",
     "text": [
      "\r",
      "Processing ligands: 587it [02:14,  4.10it/s]"
     ]
    },
    {
     "name": "stdout",
     "output_type": "stream",
     "text": [
      "/media/lmeuret/Seagate Portable Drive/result_docking/DOCKING_project/Conan-main/results_SMINA/DOCKED/ligand561/output44_ligand561_2023-11-22-15_52/best.pdbqt\n",
      "/media/lmeuret/Seagate Portable Drive/result_docking/DOCKING_project/Conan-main/receptors/output44.pdbqt\n"
     ]
    },
    {
     "data": {
      "application/vnd.jupyter.widget-view+json": {
       "model_id": "a267a45f8fc644a7af4e57bae049742f",
       "version_major": 2,
       "version_minor": 0
      },
      "text/plain": [
       "  0%|          | 0/1 [00:00<?, ?it/s]"
      ]
     },
     "metadata": {},
     "output_type": "display_data"
    },
    {
     "name": "stderr",
     "output_type": "stream",
     "text": [
      "\r",
      "Processing ligands: 588it [02:14,  4.14it/s]"
     ]
    },
    {
     "name": "stdout",
     "output_type": "stream",
     "text": [
      "/media/lmeuret/Seagate Portable Drive/result_docking/DOCKING_project/Conan-main/results_SMINA/DOCKED/ligand562/output44_ligand562_2023-11-22-15_52/best.pdbqt\n",
      "/media/lmeuret/Seagate Portable Drive/result_docking/DOCKING_project/Conan-main/receptors/output44.pdbqt\n"
     ]
    },
    {
     "data": {
      "application/vnd.jupyter.widget-view+json": {
       "model_id": "00c1c6420d7f4496bb501369fd5e056a",
       "version_major": 2,
       "version_minor": 0
      },
      "text/plain": [
       "  0%|          | 0/1 [00:00<?, ?it/s]"
      ]
     },
     "metadata": {},
     "output_type": "display_data"
    },
    {
     "name": "stderr",
     "output_type": "stream",
     "text": [
      "\r",
      "Processing ligands: 589it [02:14,  4.26it/s]"
     ]
    },
    {
     "name": "stdout",
     "output_type": "stream",
     "text": [
      "/media/lmeuret/Seagate Portable Drive/result_docking/DOCKING_project/Conan-main/results_SMINA/DOCKED/ligand563/output44_ligand563_2023-11-22-15_52/best.pdbqt\n",
      "/media/lmeuret/Seagate Portable Drive/result_docking/DOCKING_project/Conan-main/receptors/output44.pdbqt\n"
     ]
    },
    {
     "data": {
      "application/vnd.jupyter.widget-view+json": {
       "model_id": "e7af552e5de44b2785277a87228659c4",
       "version_major": 2,
       "version_minor": 0
      },
      "text/plain": [
       "  0%|          | 0/1 [00:00<?, ?it/s]"
      ]
     },
     "metadata": {},
     "output_type": "display_data"
    },
    {
     "name": "stderr",
     "output_type": "stream",
     "text": [
      "\r",
      "Processing ligands: 590it [02:14,  4.21it/s]"
     ]
    },
    {
     "name": "stdout",
     "output_type": "stream",
     "text": [
      "/media/lmeuret/Seagate Portable Drive/result_docking/DOCKING_project/Conan-main/results_SMINA/DOCKED/ligand564/output44_ligand564_2023-11-22-15_52/best.pdbqt\n",
      "/media/lmeuret/Seagate Portable Drive/result_docking/DOCKING_project/Conan-main/receptors/output44.pdbqt\n"
     ]
    },
    {
     "data": {
      "application/vnd.jupyter.widget-view+json": {
       "model_id": "23eb5c98ba264e8d816800140e9cd7bf",
       "version_major": 2,
       "version_minor": 0
      },
      "text/plain": [
       "  0%|          | 0/1 [00:00<?, ?it/s]"
      ]
     },
     "metadata": {},
     "output_type": "display_data"
    },
    {
     "name": "stderr",
     "output_type": "stream",
     "text": [
      "\r",
      "Processing ligands: 591it [02:15,  4.11it/s]"
     ]
    },
    {
     "name": "stdout",
     "output_type": "stream",
     "text": [
      "/media/lmeuret/Seagate Portable Drive/result_docking/DOCKING_project/Conan-main/results_SMINA/DOCKED/ligand565/output44_ligand565_2023-11-22-15_52/best.pdbqt\n",
      "/media/lmeuret/Seagate Portable Drive/result_docking/DOCKING_project/Conan-main/receptors/output44.pdbqt\n"
     ]
    },
    {
     "data": {
      "application/vnd.jupyter.widget-view+json": {
       "model_id": "7ee54e69c4af40c69f7b350da8685e44",
       "version_major": 2,
       "version_minor": 0
      },
      "text/plain": [
       "  0%|          | 0/1 [00:00<?, ?it/s]"
      ]
     },
     "metadata": {},
     "output_type": "display_data"
    },
    {
     "name": "stderr",
     "output_type": "stream",
     "text": [
      "\r",
      "Processing ligands: 592it [02:15,  3.98it/s]"
     ]
    },
    {
     "name": "stdout",
     "output_type": "stream",
     "text": [
      "/media/lmeuret/Seagate Portable Drive/result_docking/DOCKING_project/Conan-main/results_SMINA/DOCKED/ligand566/output44_ligand566_2023-11-22-15_52/best.pdbqt\n",
      "/media/lmeuret/Seagate Portable Drive/result_docking/DOCKING_project/Conan-main/receptors/output44.pdbqt\n"
     ]
    },
    {
     "data": {
      "application/vnd.jupyter.widget-view+json": {
       "model_id": "763d8472aa6b4d02b8d6e653eb6c4de2",
       "version_major": 2,
       "version_minor": 0
      },
      "text/plain": [
       "  0%|          | 0/1 [00:00<?, ?it/s]"
      ]
     },
     "metadata": {},
     "output_type": "display_data"
    },
    {
     "name": "stderr",
     "output_type": "stream",
     "text": [
      "\r",
      "Processing ligands: 593it [02:15,  3.93it/s]"
     ]
    },
    {
     "name": "stdout",
     "output_type": "stream",
     "text": [
      "/media/lmeuret/Seagate Portable Drive/result_docking/DOCKING_project/Conan-main/results_SMINA/DOCKED/ligand567/output44_ligand567_2023-11-22-15_52/best.pdbqt\n",
      "/media/lmeuret/Seagate Portable Drive/result_docking/DOCKING_project/Conan-main/receptors/output44.pdbqt\n"
     ]
    },
    {
     "data": {
      "application/vnd.jupyter.widget-view+json": {
       "model_id": "354af10d798443a498bd445b74e912d2",
       "version_major": 2,
       "version_minor": 0
      },
      "text/plain": [
       "  0%|          | 0/1 [00:00<?, ?it/s]"
      ]
     },
     "metadata": {},
     "output_type": "display_data"
    },
    {
     "name": "stderr",
     "output_type": "stream",
     "text": [
      "\r",
      "Processing ligands: 594it [02:15,  4.07it/s]"
     ]
    },
    {
     "name": "stdout",
     "output_type": "stream",
     "text": [
      "/media/lmeuret/Seagate Portable Drive/result_docking/DOCKING_project/Conan-main/results_SMINA/DOCKED/ligand568/output44_ligand568_2023-11-22-15_52/best.pdbqt\n",
      "/media/lmeuret/Seagate Portable Drive/result_docking/DOCKING_project/Conan-main/receptors/output44.pdbqt\n"
     ]
    },
    {
     "data": {
      "application/vnd.jupyter.widget-view+json": {
       "model_id": "79e52eb6e70948c0806609df1afaf97b",
       "version_major": 2,
       "version_minor": 0
      },
      "text/plain": [
       "  0%|          | 0/1 [00:00<?, ?it/s]"
      ]
     },
     "metadata": {},
     "output_type": "display_data"
    },
    {
     "name": "stderr",
     "output_type": "stream",
     "text": [
      "\r",
      "Processing ligands: 595it [02:16,  4.01it/s]"
     ]
    },
    {
     "name": "stdout",
     "output_type": "stream",
     "text": [
      "/media/lmeuret/Seagate Portable Drive/result_docking/DOCKING_project/Conan-main/results_SMINA/DOCKED/ligand569/output44_ligand569_2023-11-22-15_52/best.pdbqt\n",
      "/media/lmeuret/Seagate Portable Drive/result_docking/DOCKING_project/Conan-main/receptors/output44.pdbqt\n"
     ]
    },
    {
     "data": {
      "application/vnd.jupyter.widget-view+json": {
       "model_id": "ae266803f4d64cadad8e015f7d4c5f04",
       "version_major": 2,
       "version_minor": 0
      },
      "text/plain": [
       "  0%|          | 0/1 [00:00<?, ?it/s]"
      ]
     },
     "metadata": {},
     "output_type": "display_data"
    },
    {
     "name": "stderr",
     "output_type": "stream",
     "text": [
      "\r",
      "Processing ligands: 596it [02:16,  3.74it/s]"
     ]
    },
    {
     "name": "stdout",
     "output_type": "stream",
     "text": [
      "/media/lmeuret/Seagate Portable Drive/result_docking/DOCKING_project/Conan-main/results_SMINA/DOCKED/ligand746/output44_ligand746_2023-11-22-15_52/best.pdbqt\n",
      "/media/lmeuret/Seagate Portable Drive/result_docking/DOCKING_project/Conan-main/receptors/output44.pdbqt\n"
     ]
    },
    {
     "data": {
      "application/vnd.jupyter.widget-view+json": {
       "model_id": "40375aa4ac32444f9ed4766030313334",
       "version_major": 2,
       "version_minor": 0
      },
      "text/plain": [
       "  0%|          | 0/1 [00:00<?, ?it/s]"
      ]
     },
     "metadata": {},
     "output_type": "display_data"
    },
    {
     "name": "stderr",
     "output_type": "stream",
     "text": [
      "\r",
      "Processing ligands: 597it [02:16,  3.79it/s]"
     ]
    },
    {
     "name": "stdout",
     "output_type": "stream",
     "text": [
      "/media/lmeuret/Seagate Portable Drive/result_docking/DOCKING_project/Conan-main/results_SMINA/DOCKED/ligand747/output44_ligand747_2023-11-22-15_52/best.pdbqt\n",
      "/media/lmeuret/Seagate Portable Drive/result_docking/DOCKING_project/Conan-main/receptors/output44.pdbqt\n"
     ]
    },
    {
     "data": {
      "application/vnd.jupyter.widget-view+json": {
       "model_id": "e328993d2ed445e98340fb9a6009f95e",
       "version_major": 2,
       "version_minor": 0
      },
      "text/plain": [
       "  0%|          | 0/1 [00:00<?, ?it/s]"
      ]
     },
     "metadata": {},
     "output_type": "display_data"
    },
    {
     "name": "stderr",
     "output_type": "stream",
     "text": [
      "\r",
      "Processing ligands: 598it [02:17,  3.92it/s]"
     ]
    },
    {
     "name": "stdout",
     "output_type": "stream",
     "text": [
      "/media/lmeuret/Seagate Portable Drive/result_docking/DOCKING_project/Conan-main/results_SMINA/DOCKED/ligand748/output44_ligand748_2023-11-22-15_52/best.pdbqt\n",
      "/media/lmeuret/Seagate Portable Drive/result_docking/DOCKING_project/Conan-main/receptors/output44.pdbqt\n"
     ]
    },
    {
     "data": {
      "application/vnd.jupyter.widget-view+json": {
       "model_id": "aa931a97ccf84336959812013fae0a34",
       "version_major": 2,
       "version_minor": 0
      },
      "text/plain": [
       "  0%|          | 0/1 [00:00<?, ?it/s]"
      ]
     },
     "metadata": {},
     "output_type": "display_data"
    },
    {
     "name": "stderr",
     "output_type": "stream",
     "text": [
      "\r",
      "Processing ligands: 599it [02:17,  3.98it/s]"
     ]
    },
    {
     "name": "stdout",
     "output_type": "stream",
     "text": [
      "/media/lmeuret/Seagate Portable Drive/result_docking/DOCKING_project/Conan-main/results_SMINA/DOCKED/ligand749/output44_ligand749_2023-11-22-15_52/best.pdbqt\n",
      "/media/lmeuret/Seagate Portable Drive/result_docking/DOCKING_project/Conan-main/receptors/output44.pdbqt\n"
     ]
    },
    {
     "data": {
      "application/vnd.jupyter.widget-view+json": {
       "model_id": "267e14bb6613423fac053bfdb352961f",
       "version_major": 2,
       "version_minor": 0
      },
      "text/plain": [
       "  0%|          | 0/1 [00:00<?, ?it/s]"
      ]
     },
     "metadata": {},
     "output_type": "display_data"
    },
    {
     "name": "stderr",
     "output_type": "stream",
     "text": [
      "\r",
      "Processing ligands: 600it [02:17,  3.99it/s]"
     ]
    },
    {
     "name": "stdout",
     "output_type": "stream",
     "text": [
      "/media/lmeuret/Seagate Portable Drive/result_docking/DOCKING_project/Conan-main/results_SMINA/DOCKED/ligand75/output44_ligand75_2023-11-22-15_52/best.pdbqt\n",
      "/media/lmeuret/Seagate Portable Drive/result_docking/DOCKING_project/Conan-main/receptors/output44.pdbqt\n"
     ]
    },
    {
     "data": {
      "application/vnd.jupyter.widget-view+json": {
       "model_id": "727ab71a2d98407b9b0ae78acd7d9f9b",
       "version_major": 2,
       "version_minor": 0
      },
      "text/plain": [
       "  0%|          | 0/1 [00:00<?, ?it/s]"
      ]
     },
     "metadata": {},
     "output_type": "display_data"
    },
    {
     "name": "stderr",
     "output_type": "stream",
     "text": [
      "\r",
      "Processing ligands: 601it [02:17,  4.00it/s]"
     ]
    },
    {
     "name": "stdout",
     "output_type": "stream",
     "text": [
      "/media/lmeuret/Seagate Portable Drive/result_docking/DOCKING_project/Conan-main/results_SMINA/DOCKED/ligand750/output44_ligand750_2023-11-22-15_52/best.pdbqt\n",
      "/media/lmeuret/Seagate Portable Drive/result_docking/DOCKING_project/Conan-main/receptors/output44.pdbqt\n"
     ]
    },
    {
     "data": {
      "application/vnd.jupyter.widget-view+json": {
       "model_id": "a490d703b1124ef7b0fcddf15b28f131",
       "version_major": 2,
       "version_minor": 0
      },
      "text/plain": [
       "  0%|          | 0/1 [00:00<?, ?it/s]"
      ]
     },
     "metadata": {},
     "output_type": "display_data"
    },
    {
     "name": "stderr",
     "output_type": "stream",
     "text": [
      "\r",
      "Processing ligands: 602it [02:18,  4.05it/s]"
     ]
    },
    {
     "name": "stdout",
     "output_type": "stream",
     "text": [
      "/media/lmeuret/Seagate Portable Drive/result_docking/DOCKING_project/Conan-main/results_SMINA/DOCKED/ligand751/output44_ligand751_2023-11-22-15_52/best.pdbqt\n",
      "/media/lmeuret/Seagate Portable Drive/result_docking/DOCKING_project/Conan-main/receptors/output44.pdbqt\n"
     ]
    },
    {
     "data": {
      "application/vnd.jupyter.widget-view+json": {
       "model_id": "67c7db1ea7194e63bb67dfcefec9f1e0",
       "version_major": 2,
       "version_minor": 0
      },
      "text/plain": [
       "  0%|          | 0/1 [00:00<?, ?it/s]"
      ]
     },
     "metadata": {},
     "output_type": "display_data"
    },
    {
     "name": "stderr",
     "output_type": "stream",
     "text": [
      "\r",
      "Processing ligands: 603it [02:18,  4.03it/s]"
     ]
    },
    {
     "name": "stdout",
     "output_type": "stream",
     "text": [
      "/media/lmeuret/Seagate Portable Drive/result_docking/DOCKING_project/Conan-main/results_SMINA/DOCKED/ligand752/output44_ligand752_2023-11-22-15_52/best.pdbqt\n",
      "/media/lmeuret/Seagate Portable Drive/result_docking/DOCKING_project/Conan-main/receptors/output44.pdbqt\n"
     ]
    },
    {
     "data": {
      "application/vnd.jupyter.widget-view+json": {
       "model_id": "598b6bbe302744a1bd721fdcf7ca90e3",
       "version_major": 2,
       "version_minor": 0
      },
      "text/plain": [
       "  0%|          | 0/1 [00:00<?, ?it/s]"
      ]
     },
     "metadata": {},
     "output_type": "display_data"
    },
    {
     "name": "stderr",
     "output_type": "stream",
     "text": [
      "\r",
      "Processing ligands: 604it [02:18,  3.96it/s]"
     ]
    },
    {
     "name": "stdout",
     "output_type": "stream",
     "text": [
      "/media/lmeuret/Seagate Portable Drive/result_docking/DOCKING_project/Conan-main/results_SMINA/DOCKED/ligand753/output44_ligand753_2023-11-22-15_52/best.pdbqt\n",
      "/media/lmeuret/Seagate Portable Drive/result_docking/DOCKING_project/Conan-main/receptors/output44.pdbqt\n"
     ]
    },
    {
     "data": {
      "application/vnd.jupyter.widget-view+json": {
       "model_id": "148cd48f2107446b8cba705382580cd2",
       "version_major": 2,
       "version_minor": 0
      },
      "text/plain": [
       "  0%|          | 0/1 [00:00<?, ?it/s]"
      ]
     },
     "metadata": {},
     "output_type": "display_data"
    },
    {
     "name": "stderr",
     "output_type": "stream",
     "text": [
      "\r",
      "Processing ligands: 605it [02:18,  4.00it/s]"
     ]
    },
    {
     "name": "stdout",
     "output_type": "stream",
     "text": [
      "/media/lmeuret/Seagate Portable Drive/result_docking/DOCKING_project/Conan-main/results_SMINA/DOCKED/ligand754/output44_ligand754_2023-11-22-15_52/best.pdbqt\n",
      "/media/lmeuret/Seagate Portable Drive/result_docking/DOCKING_project/Conan-main/receptors/output44.pdbqt\n"
     ]
    },
    {
     "data": {
      "application/vnd.jupyter.widget-view+json": {
       "model_id": "99249c793dd747f4b2a8d6c4bb1dbff3",
       "version_major": 2,
       "version_minor": 0
      },
      "text/plain": [
       "  0%|          | 0/1 [00:00<?, ?it/s]"
      ]
     },
     "metadata": {},
     "output_type": "display_data"
    },
    {
     "name": "stderr",
     "output_type": "stream",
     "text": [
      "\r",
      "Processing ligands: 606it [02:19,  3.99it/s]"
     ]
    },
    {
     "name": "stdout",
     "output_type": "stream",
     "text": [
      "/media/lmeuret/Seagate Portable Drive/result_docking/DOCKING_project/Conan-main/results_SMINA/DOCKED/ligand755/output44_ligand755_2023-11-22-15_52/best.pdbqt\n",
      "/media/lmeuret/Seagate Portable Drive/result_docking/DOCKING_project/Conan-main/receptors/output44.pdbqt\n"
     ]
    },
    {
     "data": {
      "application/vnd.jupyter.widget-view+json": {
       "model_id": "3546b57e8f9749c7ba57f1ef84d287d0",
       "version_major": 2,
       "version_minor": 0
      },
      "text/plain": [
       "  0%|          | 0/1 [00:00<?, ?it/s]"
      ]
     },
     "metadata": {},
     "output_type": "display_data"
    },
    {
     "name": "stderr",
     "output_type": "stream",
     "text": [
      "\r",
      "Processing ligands: 607it [02:19,  3.87it/s]"
     ]
    },
    {
     "name": "stdout",
     "output_type": "stream",
     "text": [
      "/media/lmeuret/Seagate Portable Drive/result_docking/DOCKING_project/Conan-main/results_SMINA/DOCKED/ligand756/output44_ligand756_2023-11-22-15_52/best.pdbqt\n",
      "/media/lmeuret/Seagate Portable Drive/result_docking/DOCKING_project/Conan-main/receptors/output44.pdbqt\n"
     ]
    },
    {
     "data": {
      "application/vnd.jupyter.widget-view+json": {
       "model_id": "05cd0e690591493e9869ca2775a49d38",
       "version_major": 2,
       "version_minor": 0
      },
      "text/plain": [
       "  0%|          | 0/1 [00:00<?, ?it/s]"
      ]
     },
     "metadata": {},
     "output_type": "display_data"
    },
    {
     "name": "stderr",
     "output_type": "stream",
     "text": [
      "\r",
      "Processing ligands: 608it [02:19,  4.06it/s]"
     ]
    },
    {
     "name": "stdout",
     "output_type": "stream",
     "text": [
      "/media/lmeuret/Seagate Portable Drive/result_docking/DOCKING_project/Conan-main/results_SMINA/DOCKED/ligand757/output44_ligand757_2023-11-22-15_52/best.pdbqt\n",
      "/media/lmeuret/Seagate Portable Drive/result_docking/DOCKING_project/Conan-main/receptors/output44.pdbqt\n"
     ]
    },
    {
     "data": {
      "application/vnd.jupyter.widget-view+json": {
       "model_id": "6889906023634bd4a7fc887fce95cf72",
       "version_major": 2,
       "version_minor": 0
      },
      "text/plain": [
       "  0%|          | 0/1 [00:00<?, ?it/s]"
      ]
     },
     "metadata": {},
     "output_type": "display_data"
    },
    {
     "name": "stderr",
     "output_type": "stream",
     "text": [
      "\r",
      "Processing ligands: 609it [02:19,  4.12it/s]"
     ]
    },
    {
     "name": "stdout",
     "output_type": "stream",
     "text": [
      "/media/lmeuret/Seagate Portable Drive/result_docking/DOCKING_project/Conan-main/results_SMINA/DOCKED/ligand758/output44_ligand758_2023-11-22-15_52/best.pdbqt\n",
      "/media/lmeuret/Seagate Portable Drive/result_docking/DOCKING_project/Conan-main/receptors/output44.pdbqt\n"
     ]
    },
    {
     "data": {
      "application/vnd.jupyter.widget-view+json": {
       "model_id": "599c0da2d4f34d2ca8927361ea437363",
       "version_major": 2,
       "version_minor": 0
      },
      "text/plain": [
       "  0%|          | 0/1 [00:00<?, ?it/s]"
      ]
     },
     "metadata": {},
     "output_type": "display_data"
    },
    {
     "name": "stderr",
     "output_type": "stream",
     "text": [
      "\r",
      "Processing ligands: 610it [02:19,  4.12it/s]"
     ]
    },
    {
     "name": "stdout",
     "output_type": "stream",
     "text": [
      "/media/lmeuret/Seagate Portable Drive/result_docking/DOCKING_project/Conan-main/results_SMINA/DOCKED/ligand759/output44_ligand759_2023-11-22-15_52/best.pdbqt\n",
      "/media/lmeuret/Seagate Portable Drive/result_docking/DOCKING_project/Conan-main/receptors/output44.pdbqt\n"
     ]
    },
    {
     "data": {
      "application/vnd.jupyter.widget-view+json": {
       "model_id": "fc525219ed40473e9fbe8b9e65667493",
       "version_major": 2,
       "version_minor": 0
      },
      "text/plain": [
       "  0%|          | 0/1 [00:00<?, ?it/s]"
      ]
     },
     "metadata": {},
     "output_type": "display_data"
    },
    {
     "name": "stderr",
     "output_type": "stream",
     "text": [
      "\r",
      "Processing ligands: 611it [02:20,  4.18it/s]"
     ]
    },
    {
     "name": "stdout",
     "output_type": "stream",
     "text": [
      "/media/lmeuret/Seagate Portable Drive/result_docking/DOCKING_project/Conan-main/results_SMINA/DOCKED/ligand76/output44_ligand76_2023-11-22-15_52/best.pdbqt\n",
      "/media/lmeuret/Seagate Portable Drive/result_docking/DOCKING_project/Conan-main/receptors/output44.pdbqt\n"
     ]
    },
    {
     "data": {
      "application/vnd.jupyter.widget-view+json": {
       "model_id": "ec3858969adf4fcc901676e153668be9",
       "version_major": 2,
       "version_minor": 0
      },
      "text/plain": [
       "  0%|          | 0/1 [00:00<?, ?it/s]"
      ]
     },
     "metadata": {},
     "output_type": "display_data"
    },
    {
     "name": "stderr",
     "output_type": "stream",
     "text": [
      "\r",
      "Processing ligands: 612it [02:20,  4.20it/s]"
     ]
    },
    {
     "name": "stdout",
     "output_type": "stream",
     "text": [
      "/media/lmeuret/Seagate Portable Drive/result_docking/DOCKING_project/Conan-main/results_SMINA/DOCKED/ligand760/output44_ligand760_2023-11-22-15_52/best.pdbqt\n",
      "/media/lmeuret/Seagate Portable Drive/result_docking/DOCKING_project/Conan-main/receptors/output44.pdbqt\n"
     ]
    },
    {
     "data": {
      "application/vnd.jupyter.widget-view+json": {
       "model_id": "cfaf2c2cce0a40e9ab636150fc61a509",
       "version_major": 2,
       "version_minor": 0
      },
      "text/plain": [
       "  0%|          | 0/1 [00:00<?, ?it/s]"
      ]
     },
     "metadata": {},
     "output_type": "display_data"
    },
    {
     "name": "stderr",
     "output_type": "stream",
     "text": [
      "\r",
      "Processing ligands: 613it [02:20,  4.21it/s]"
     ]
    },
    {
     "name": "stdout",
     "output_type": "stream",
     "text": [
      "/media/lmeuret/Seagate Portable Drive/result_docking/DOCKING_project/Conan-main/results_SMINA/DOCKED/ligand761/output44_ligand761_2023-11-22-15_52/best.pdbqt\n",
      "/media/lmeuret/Seagate Portable Drive/result_docking/DOCKING_project/Conan-main/receptors/output44.pdbqt\n"
     ]
    },
    {
     "data": {
      "application/vnd.jupyter.widget-view+json": {
       "model_id": "4f5345e8306a415786edfc0a2c67a1a3",
       "version_major": 2,
       "version_minor": 0
      },
      "text/plain": [
       "  0%|          | 0/1 [00:00<?, ?it/s]"
      ]
     },
     "metadata": {},
     "output_type": "display_data"
    },
    {
     "name": "stderr",
     "output_type": "stream",
     "text": [
      "\r",
      "Processing ligands: 614it [02:20,  4.09it/s]"
     ]
    },
    {
     "name": "stdout",
     "output_type": "stream",
     "text": [
      "/media/lmeuret/Seagate Portable Drive/result_docking/DOCKING_project/Conan-main/results_SMINA/DOCKED/ligand762/output44_ligand762_2023-11-22-15_52/best.pdbqt\n",
      "/media/lmeuret/Seagate Portable Drive/result_docking/DOCKING_project/Conan-main/receptors/output44.pdbqt\n"
     ]
    },
    {
     "data": {
      "application/vnd.jupyter.widget-view+json": {
       "model_id": "d61ac484d1624491902efe6225e25616",
       "version_major": 2,
       "version_minor": 0
      },
      "text/plain": [
       "  0%|          | 0/1 [00:00<?, ?it/s]"
      ]
     },
     "metadata": {},
     "output_type": "display_data"
    },
    {
     "name": "stderr",
     "output_type": "stream",
     "text": [
      "\r",
      "Processing ligands: 615it [02:21,  3.93it/s]"
     ]
    },
    {
     "name": "stdout",
     "output_type": "stream",
     "text": [
      "/media/lmeuret/Seagate Portable Drive/result_docking/DOCKING_project/Conan-main/results_SMINA/DOCKED/ligand763/output44_ligand763_2023-11-22-15_52/best.pdbqt\n",
      "/media/lmeuret/Seagate Portable Drive/result_docking/DOCKING_project/Conan-main/receptors/output44.pdbqt\n"
     ]
    },
    {
     "data": {
      "application/vnd.jupyter.widget-view+json": {
       "model_id": "b728fd2020404cffba8a7567faaf636f",
       "version_major": 2,
       "version_minor": 0
      },
      "text/plain": [
       "  0%|          | 0/1 [00:00<?, ?it/s]"
      ]
     },
     "metadata": {},
     "output_type": "display_data"
    },
    {
     "name": "stderr",
     "output_type": "stream",
     "text": [
      "\r",
      "Processing ligands: 616it [02:21,  3.95it/s]"
     ]
    },
    {
     "name": "stdout",
     "output_type": "stream",
     "text": [
      "/media/lmeuret/Seagate Portable Drive/result_docking/DOCKING_project/Conan-main/results_SMINA/DOCKED/ligand764/output44_ligand764_2023-11-22-15_52/best.pdbqt\n",
      "/media/lmeuret/Seagate Portable Drive/result_docking/DOCKING_project/Conan-main/receptors/output44.pdbqt\n"
     ]
    },
    {
     "data": {
      "application/vnd.jupyter.widget-view+json": {
       "model_id": "bd4be8a47375456bae5e5ac2ad0b61c5",
       "version_major": 2,
       "version_minor": 0
      },
      "text/plain": [
       "  0%|          | 0/1 [00:00<?, ?it/s]"
      ]
     },
     "metadata": {},
     "output_type": "display_data"
    },
    {
     "name": "stderr",
     "output_type": "stream",
     "text": [
      "\r",
      "Processing ligands: 617it [02:21,  4.02it/s]"
     ]
    },
    {
     "name": "stdout",
     "output_type": "stream",
     "text": [
      "/media/lmeuret/Seagate Portable Drive/result_docking/DOCKING_project/Conan-main/results_SMINA/DOCKED/ligand765/output44_ligand765_2023-11-22-15_52/best.pdbqt\n",
      "/media/lmeuret/Seagate Portable Drive/result_docking/DOCKING_project/Conan-main/receptors/output44.pdbqt\n"
     ]
    },
    {
     "data": {
      "application/vnd.jupyter.widget-view+json": {
       "model_id": "c8cce7cba0a94fa7b714061dc28cbd28",
       "version_major": 2,
       "version_minor": 0
      },
      "text/plain": [
       "  0%|          | 0/1 [00:00<?, ?it/s]"
      ]
     },
     "metadata": {},
     "output_type": "display_data"
    },
    {
     "name": "stderr",
     "output_type": "stream",
     "text": [
      "\r",
      "Processing ligands: 618it [02:21,  3.99it/s]"
     ]
    },
    {
     "name": "stdout",
     "output_type": "stream",
     "text": [
      "/media/lmeuret/Seagate Portable Drive/result_docking/DOCKING_project/Conan-main/results_SMINA/DOCKED/ligand766/output44_ligand766_2023-11-22-15_52/best.pdbqt\n",
      "/media/lmeuret/Seagate Portable Drive/result_docking/DOCKING_project/Conan-main/receptors/output44.pdbqt\n"
     ]
    },
    {
     "data": {
      "application/vnd.jupyter.widget-view+json": {
       "model_id": "4aafbee0c1d24bde929a5befbfebcd1c",
       "version_major": 2,
       "version_minor": 0
      },
      "text/plain": [
       "  0%|          | 0/1 [00:00<?, ?it/s]"
      ]
     },
     "metadata": {},
     "output_type": "display_data"
    },
    {
     "name": "stderr",
     "output_type": "stream",
     "text": [
      "\r",
      "Processing ligands: 619it [02:22,  3.94it/s]"
     ]
    },
    {
     "name": "stdout",
     "output_type": "stream",
     "text": [
      "/media/lmeuret/Seagate Portable Drive/result_docking/DOCKING_project/Conan-main/results_SMINA/DOCKED/ligand767/output44_ligand767_2023-11-22-15_52/best.pdbqt\n",
      "/media/lmeuret/Seagate Portable Drive/result_docking/DOCKING_project/Conan-main/receptors/output44.pdbqt\n"
     ]
    },
    {
     "data": {
      "application/vnd.jupyter.widget-view+json": {
       "model_id": "58086605711640ffa4da37a0d1f925ad",
       "version_major": 2,
       "version_minor": 0
      },
      "text/plain": [
       "  0%|          | 0/1 [00:00<?, ?it/s]"
      ]
     },
     "metadata": {},
     "output_type": "display_data"
    },
    {
     "name": "stderr",
     "output_type": "stream",
     "text": [
      "\r",
      "Processing ligands: 620it [02:22,  4.02it/s]"
     ]
    },
    {
     "name": "stdout",
     "output_type": "stream",
     "text": [
      "/media/lmeuret/Seagate Portable Drive/result_docking/DOCKING_project/Conan-main/results_SMINA/DOCKED/ligand768/output44_ligand768_2023-11-22-15_52/best.pdbqt\n",
      "/media/lmeuret/Seagate Portable Drive/result_docking/DOCKING_project/Conan-main/receptors/output44.pdbqt\n"
     ]
    },
    {
     "data": {
      "application/vnd.jupyter.widget-view+json": {
       "model_id": "90e6a1f8b9f04dab93c2b01fcc6d7d8c",
       "version_major": 2,
       "version_minor": 0
      },
      "text/plain": [
       "  0%|          | 0/1 [00:00<?, ?it/s]"
      ]
     },
     "metadata": {},
     "output_type": "display_data"
    },
    {
     "name": "stderr",
     "output_type": "stream",
     "text": [
      "\r",
      "Processing ligands: 621it [02:22,  4.01it/s]"
     ]
    },
    {
     "name": "stdout",
     "output_type": "stream",
     "text": [
      "/media/lmeuret/Seagate Portable Drive/result_docking/DOCKING_project/Conan-main/results_SMINA/DOCKED/ligand769/output44_ligand769_2023-11-22-15_52/best.pdbqt\n",
      "/media/lmeuret/Seagate Portable Drive/result_docking/DOCKING_project/Conan-main/receptors/output44.pdbqt\n"
     ]
    },
    {
     "data": {
      "application/vnd.jupyter.widget-view+json": {
       "model_id": "471a12cca0594845834c030193fc8a44",
       "version_major": 2,
       "version_minor": 0
      },
      "text/plain": [
       "  0%|          | 0/1 [00:00<?, ?it/s]"
      ]
     },
     "metadata": {},
     "output_type": "display_data"
    },
    {
     "name": "stderr",
     "output_type": "stream",
     "text": [
      "\r",
      "Processing ligands: 622it [02:22,  3.94it/s]"
     ]
    },
    {
     "name": "stdout",
     "output_type": "stream",
     "text": [
      "/media/lmeuret/Seagate Portable Drive/result_docking/DOCKING_project/Conan-main/results_SMINA/DOCKED/ligand77/output44_ligand77_2023-11-22-15_52/best.pdbqt\n",
      "/media/lmeuret/Seagate Portable Drive/result_docking/DOCKING_project/Conan-main/receptors/output44.pdbqt\n"
     ]
    },
    {
     "data": {
      "application/vnd.jupyter.widget-view+json": {
       "model_id": "e756d2efed144811904569e5ce1e384f",
       "version_major": 2,
       "version_minor": 0
      },
      "text/plain": [
       "  0%|          | 0/1 [00:00<?, ?it/s]"
      ]
     },
     "metadata": {},
     "output_type": "display_data"
    },
    {
     "name": "stderr",
     "output_type": "stream",
     "text": [
      "\r",
      "Processing ligands: 623it [02:23,  3.81it/s]"
     ]
    },
    {
     "name": "stdout",
     "output_type": "stream",
     "text": [
      "/media/lmeuret/Seagate Portable Drive/result_docking/DOCKING_project/Conan-main/results_SMINA/DOCKED/ligand770/output44_ligand770_2023-11-22-15_52/best.pdbqt\n",
      "/media/lmeuret/Seagate Portable Drive/result_docking/DOCKING_project/Conan-main/receptors/output44.pdbqt\n"
     ]
    },
    {
     "data": {
      "application/vnd.jupyter.widget-view+json": {
       "model_id": "57f21480137c4ad699bdbd594c411e75",
       "version_major": 2,
       "version_minor": 0
      },
      "text/plain": [
       "  0%|          | 0/1 [00:00<?, ?it/s]"
      ]
     },
     "metadata": {},
     "output_type": "display_data"
    },
    {
     "name": "stderr",
     "output_type": "stream",
     "text": [
      "\r",
      "Processing ligands: 624it [02:23,  3.79it/s]"
     ]
    },
    {
     "name": "stdout",
     "output_type": "stream",
     "text": [
      "/media/lmeuret/Seagate Portable Drive/result_docking/DOCKING_project/Conan-main/results_SMINA/DOCKED/ligand771/output44_ligand771_2023-11-22-15_52/best.pdbqt\n",
      "/media/lmeuret/Seagate Portable Drive/result_docking/DOCKING_project/Conan-main/receptors/output44.pdbqt\n"
     ]
    },
    {
     "data": {
      "application/vnd.jupyter.widget-view+json": {
       "model_id": "85e8e5cc24284d69b416d5433a94a83a",
       "version_major": 2,
       "version_minor": 0
      },
      "text/plain": [
       "  0%|          | 0/1 [00:00<?, ?it/s]"
      ]
     },
     "metadata": {},
     "output_type": "display_data"
    },
    {
     "name": "stderr",
     "output_type": "stream",
     "text": [
      "\r",
      "Processing ligands: 625it [02:23,  3.81it/s]"
     ]
    },
    {
     "name": "stdout",
     "output_type": "stream",
     "text": [
      "/media/lmeuret/Seagate Portable Drive/result_docking/DOCKING_project/Conan-main/results_SMINA/DOCKED/ligand772/output44_ligand772_2023-11-22-15_52/best.pdbqt\n",
      "/media/lmeuret/Seagate Portable Drive/result_docking/DOCKING_project/Conan-main/receptors/output44.pdbqt\n"
     ]
    },
    {
     "data": {
      "application/vnd.jupyter.widget-view+json": {
       "model_id": "6dc0c86a1af74e0da0277c39f7b1f752",
       "version_major": 2,
       "version_minor": 0
      },
      "text/plain": [
       "  0%|          | 0/1 [00:00<?, ?it/s]"
      ]
     },
     "metadata": {},
     "output_type": "display_data"
    },
    {
     "name": "stderr",
     "output_type": "stream",
     "text": [
      "\r",
      "Processing ligands: 626it [02:24,  3.95it/s]"
     ]
    },
    {
     "name": "stdout",
     "output_type": "stream",
     "text": [
      "/media/lmeuret/Seagate Portable Drive/result_docking/DOCKING_project/Conan-main/results_SMINA/DOCKED/ligand681/output44_ligand681_2023-11-22-15_52/best.pdbqt\n",
      "/media/lmeuret/Seagate Portable Drive/result_docking/DOCKING_project/Conan-main/receptors/output44.pdbqt\n"
     ]
    },
    {
     "data": {
      "application/vnd.jupyter.widget-view+json": {
       "model_id": "f87e5010a38443bdab2bca87a698abeb",
       "version_major": 2,
       "version_minor": 0
      },
      "text/plain": [
       "  0%|          | 0/1 [00:00<?, ?it/s]"
      ]
     },
     "metadata": {},
     "output_type": "display_data"
    },
    {
     "name": "stderr",
     "output_type": "stream",
     "text": [
      "\r",
      "Processing ligands: 627it [02:24,  3.95it/s]"
     ]
    },
    {
     "name": "stdout",
     "output_type": "stream",
     "text": [
      "/media/lmeuret/Seagate Portable Drive/result_docking/DOCKING_project/Conan-main/results_SMINA/DOCKED/ligand682/output44_ligand682_2023-11-22-15_52/best.pdbqt\n",
      "/media/lmeuret/Seagate Portable Drive/result_docking/DOCKING_project/Conan-main/receptors/output44.pdbqt\n"
     ]
    },
    {
     "data": {
      "application/vnd.jupyter.widget-view+json": {
       "model_id": "db516f97bf3c47beacd2e44d25fb9eb8",
       "version_major": 2,
       "version_minor": 0
      },
      "text/plain": [
       "  0%|          | 0/1 [00:00<?, ?it/s]"
      ]
     },
     "metadata": {},
     "output_type": "display_data"
    },
    {
     "name": "stderr",
     "output_type": "stream",
     "text": [
      "\r",
      "Processing ligands: 628it [02:24,  4.00it/s]"
     ]
    },
    {
     "name": "stdout",
     "output_type": "stream",
     "text": [
      "/media/lmeuret/Seagate Portable Drive/result_docking/DOCKING_project/Conan-main/results_SMINA/DOCKED/ligand683/output44_ligand683_2023-11-22-15_52/best.pdbqt\n",
      "/media/lmeuret/Seagate Portable Drive/result_docking/DOCKING_project/Conan-main/receptors/output44.pdbqt\n"
     ]
    },
    {
     "data": {
      "application/vnd.jupyter.widget-view+json": {
       "model_id": "32cb5f056b0a4dfcbf460939a394480e",
       "version_major": 2,
       "version_minor": 0
      },
      "text/plain": [
       "  0%|          | 0/1 [00:00<?, ?it/s]"
      ]
     },
     "metadata": {},
     "output_type": "display_data"
    },
    {
     "name": "stderr",
     "output_type": "stream",
     "text": [
      "\r",
      "Processing ligands: 629it [02:24,  3.90it/s]"
     ]
    },
    {
     "name": "stdout",
     "output_type": "stream",
     "text": [
      "/media/lmeuret/Seagate Portable Drive/result_docking/DOCKING_project/Conan-main/results_SMINA/DOCKED/ligand684/output44_ligand684_2023-11-22-15_52/best.pdbqt\n",
      "/media/lmeuret/Seagate Portable Drive/result_docking/DOCKING_project/Conan-main/receptors/output44.pdbqt\n"
     ]
    },
    {
     "data": {
      "application/vnd.jupyter.widget-view+json": {
       "model_id": "17576c55c4d54e31b774393fc0fb87d5",
       "version_major": 2,
       "version_minor": 0
      },
      "text/plain": [
       "  0%|          | 0/1 [00:00<?, ?it/s]"
      ]
     },
     "metadata": {},
     "output_type": "display_data"
    },
    {
     "name": "stderr",
     "output_type": "stream",
     "text": [
      "\r",
      "Processing ligands: 630it [02:25,  3.86it/s]"
     ]
    },
    {
     "name": "stdout",
     "output_type": "stream",
     "text": [
      "/media/lmeuret/Seagate Portable Drive/result_docking/DOCKING_project/Conan-main/results_SMINA/DOCKED/ligand685/output44_ligand685_2023-11-22-15_52/best.pdbqt\n",
      "/media/lmeuret/Seagate Portable Drive/result_docking/DOCKING_project/Conan-main/receptors/output44.pdbqt\n"
     ]
    },
    {
     "data": {
      "application/vnd.jupyter.widget-view+json": {
       "model_id": "ab48f390d7554b708d3cd3f1d310d61d",
       "version_major": 2,
       "version_minor": 0
      },
      "text/plain": [
       "  0%|          | 0/1 [00:00<?, ?it/s]"
      ]
     },
     "metadata": {},
     "output_type": "display_data"
    },
    {
     "name": "stderr",
     "output_type": "stream",
     "text": [
      "\r",
      "Processing ligands: 631it [02:25,  3.96it/s]"
     ]
    },
    {
     "name": "stdout",
     "output_type": "stream",
     "text": [
      "/media/lmeuret/Seagate Portable Drive/result_docking/DOCKING_project/Conan-main/results_SMINA/DOCKED/ligand686/output44_ligand686_2023-11-22-15_52/best.pdbqt\n",
      "/media/lmeuret/Seagate Portable Drive/result_docking/DOCKING_project/Conan-main/receptors/output44.pdbqt\n"
     ]
    },
    {
     "data": {
      "application/vnd.jupyter.widget-view+json": {
       "model_id": "d32bbabbec6b4ca0b279cea53127858d",
       "version_major": 2,
       "version_minor": 0
      },
      "text/plain": [
       "  0%|          | 0/1 [00:00<?, ?it/s]"
      ]
     },
     "metadata": {},
     "output_type": "display_data"
    },
    {
     "name": "stderr",
     "output_type": "stream",
     "text": [
      "\r",
      "Processing ligands: 632it [02:25,  3.97it/s]"
     ]
    },
    {
     "name": "stdout",
     "output_type": "stream",
     "text": [
      "/media/lmeuret/Seagate Portable Drive/result_docking/DOCKING_project/Conan-main/results_SMINA/DOCKED/ligand687/output44_ligand687_2023-11-22-15_52/best.pdbqt\n",
      "/media/lmeuret/Seagate Portable Drive/result_docking/DOCKING_project/Conan-main/receptors/output44.pdbqt\n"
     ]
    },
    {
     "data": {
      "application/vnd.jupyter.widget-view+json": {
       "model_id": "29e4faef51ea4b669b27de85142849ed",
       "version_major": 2,
       "version_minor": 0
      },
      "text/plain": [
       "  0%|          | 0/1 [00:00<?, ?it/s]"
      ]
     },
     "metadata": {},
     "output_type": "display_data"
    },
    {
     "name": "stderr",
     "output_type": "stream",
     "text": [
      "\r",
      "Processing ligands: 633it [02:25,  3.95it/s]"
     ]
    },
    {
     "name": "stdout",
     "output_type": "stream",
     "text": [
      "/media/lmeuret/Seagate Portable Drive/result_docking/DOCKING_project/Conan-main/results_SMINA/DOCKED/ligand688/output44_ligand688_2023-11-22-15_52/best.pdbqt\n",
      "/media/lmeuret/Seagate Portable Drive/result_docking/DOCKING_project/Conan-main/receptors/output44.pdbqt\n"
     ]
    },
    {
     "data": {
      "application/vnd.jupyter.widget-view+json": {
       "model_id": "725dac96d89c4fc3926fb958a5d1799d",
       "version_major": 2,
       "version_minor": 0
      },
      "text/plain": [
       "  0%|          | 0/1 [00:00<?, ?it/s]"
      ]
     },
     "metadata": {},
     "output_type": "display_data"
    },
    {
     "name": "stderr",
     "output_type": "stream",
     "text": [
      "\r",
      "Processing ligands: 634it [02:26,  3.76it/s]"
     ]
    },
    {
     "name": "stdout",
     "output_type": "stream",
     "text": [
      "/media/lmeuret/Seagate Portable Drive/result_docking/DOCKING_project/Conan-main/results_SMINA/DOCKED/ligand689/output44_ligand689_2023-11-22-15_52/best.pdbqt\n",
      "/media/lmeuret/Seagate Portable Drive/result_docking/DOCKING_project/Conan-main/receptors/output44.pdbqt\n"
     ]
    },
    {
     "data": {
      "application/vnd.jupyter.widget-view+json": {
       "model_id": "ddfd4faa8fc849aebe26459dc8cf5cc2",
       "version_major": 2,
       "version_minor": 0
      },
      "text/plain": [
       "  0%|          | 0/1 [00:00<?, ?it/s]"
      ]
     },
     "metadata": {},
     "output_type": "display_data"
    },
    {
     "name": "stderr",
     "output_type": "stream",
     "text": [
      "\r",
      "Processing ligands: 635it [02:26,  3.77it/s]"
     ]
    },
    {
     "name": "stdout",
     "output_type": "stream",
     "text": [
      "/media/lmeuret/Seagate Portable Drive/result_docking/DOCKING_project/Conan-main/results_SMINA/DOCKED/ligand69/output44_ligand69_2023-11-22-15_52/best.pdbqt\n",
      "/media/lmeuret/Seagate Portable Drive/result_docking/DOCKING_project/Conan-main/receptors/output44.pdbqt\n"
     ]
    },
    {
     "data": {
      "application/vnd.jupyter.widget-view+json": {
       "model_id": "7e9626a90a354f5194290ea1674dae01",
       "version_major": 2,
       "version_minor": 0
      },
      "text/plain": [
       "  0%|          | 0/1 [00:00<?, ?it/s]"
      ]
     },
     "metadata": {},
     "output_type": "display_data"
    },
    {
     "name": "stderr",
     "output_type": "stream",
     "text": [
      "\r",
      "Processing ligands: 636it [02:26,  3.83it/s]"
     ]
    },
    {
     "name": "stdout",
     "output_type": "stream",
     "text": [
      "/media/lmeuret/Seagate Portable Drive/result_docking/DOCKING_project/Conan-main/results_SMINA/DOCKED/ligand690/output44_ligand690_2023-11-22-15_52/best.pdbqt\n",
      "/media/lmeuret/Seagate Portable Drive/result_docking/DOCKING_project/Conan-main/receptors/output44.pdbqt\n"
     ]
    },
    {
     "data": {
      "application/vnd.jupyter.widget-view+json": {
       "model_id": "c1c1caa5650f4ab8b3ba0c4abb3c84cb",
       "version_major": 2,
       "version_minor": 0
      },
      "text/plain": [
       "  0%|          | 0/1 [00:00<?, ?it/s]"
      ]
     },
     "metadata": {},
     "output_type": "display_data"
    },
    {
     "name": "stderr",
     "output_type": "stream",
     "text": [
      "\r",
      "Processing ligands: 637it [02:26,  3.93it/s]"
     ]
    },
    {
     "name": "stdout",
     "output_type": "stream",
     "text": [
      "/media/lmeuret/Seagate Portable Drive/result_docking/DOCKING_project/Conan-main/results_SMINA/DOCKED/ligand691/output44_ligand691_2023-11-22-15_52/best.pdbqt\n",
      "/media/lmeuret/Seagate Portable Drive/result_docking/DOCKING_project/Conan-main/receptors/output44.pdbqt\n"
     ]
    },
    {
     "data": {
      "application/vnd.jupyter.widget-view+json": {
       "model_id": "9bdf7a81591d46a8b00a70e9ef7a7499",
       "version_major": 2,
       "version_minor": 0
      },
      "text/plain": [
       "  0%|          | 0/1 [00:00<?, ?it/s]"
      ]
     },
     "metadata": {},
     "output_type": "display_data"
    },
    {
     "name": "stderr",
     "output_type": "stream",
     "text": [
      "\r",
      "Processing ligands: 638it [02:27,  4.00it/s]"
     ]
    },
    {
     "name": "stdout",
     "output_type": "stream",
     "text": [
      "/media/lmeuret/Seagate Portable Drive/result_docking/DOCKING_project/Conan-main/results_SMINA/DOCKED/ligand692/output44_ligand692_2023-11-22-15_52/best.pdbqt\n",
      "/media/lmeuret/Seagate Portable Drive/result_docking/DOCKING_project/Conan-main/receptors/output44.pdbqt\n"
     ]
    },
    {
     "data": {
      "application/vnd.jupyter.widget-view+json": {
       "model_id": "66c9e97477db4fb3975eaf5c7a308f67",
       "version_major": 2,
       "version_minor": 0
      },
      "text/plain": [
       "  0%|          | 0/1 [00:00<?, ?it/s]"
      ]
     },
     "metadata": {},
     "output_type": "display_data"
    },
    {
     "name": "stderr",
     "output_type": "stream",
     "text": [
      "\r",
      "Processing ligands: 639it [02:27,  4.05it/s]"
     ]
    },
    {
     "name": "stdout",
     "output_type": "stream",
     "text": [
      "/media/lmeuret/Seagate Portable Drive/result_docking/DOCKING_project/Conan-main/results_SMINA/DOCKED/ligand693/output44_ligand693_2023-11-22-15_52/best.pdbqt\n",
      "/media/lmeuret/Seagate Portable Drive/result_docking/DOCKING_project/Conan-main/receptors/output44.pdbqt\n"
     ]
    },
    {
     "data": {
      "application/vnd.jupyter.widget-view+json": {
       "model_id": "ac82db5fcdfc42e887425a1acb79e90f",
       "version_major": 2,
       "version_minor": 0
      },
      "text/plain": [
       "  0%|          | 0/1 [00:00<?, ?it/s]"
      ]
     },
     "metadata": {},
     "output_type": "display_data"
    },
    {
     "name": "stderr",
     "output_type": "stream",
     "text": [
      "\r",
      "Processing ligands: 640it [02:27,  4.13it/s]"
     ]
    },
    {
     "name": "stdout",
     "output_type": "stream",
     "text": [
      "/media/lmeuret/Seagate Portable Drive/result_docking/DOCKING_project/Conan-main/results_SMINA/DOCKED/ligand694/output44_ligand694_2023-11-22-15_52/best.pdbqt\n",
      "/media/lmeuret/Seagate Portable Drive/result_docking/DOCKING_project/Conan-main/receptors/output44.pdbqt\n"
     ]
    },
    {
     "data": {
      "application/vnd.jupyter.widget-view+json": {
       "model_id": "d3ffc79e20c14be78e5a4ddfd778b185",
       "version_major": 2,
       "version_minor": 0
      },
      "text/plain": [
       "  0%|          | 0/1 [00:00<?, ?it/s]"
      ]
     },
     "metadata": {},
     "output_type": "display_data"
    },
    {
     "name": "stderr",
     "output_type": "stream",
     "text": [
      "\r",
      "Processing ligands: 641it [02:27,  4.12it/s]"
     ]
    },
    {
     "name": "stdout",
     "output_type": "stream",
     "text": [
      "/media/lmeuret/Seagate Portable Drive/result_docking/DOCKING_project/Conan-main/results_SMINA/DOCKED/ligand695/output44_ligand695_2023-11-22-15_52/best.pdbqt\n",
      "/media/lmeuret/Seagate Portable Drive/result_docking/DOCKING_project/Conan-main/receptors/output44.pdbqt\n"
     ]
    },
    {
     "data": {
      "application/vnd.jupyter.widget-view+json": {
       "model_id": "2709aaed2e9d41209c62f7f066b39b81",
       "version_major": 2,
       "version_minor": 0
      },
      "text/plain": [
       "  0%|          | 0/1 [00:00<?, ?it/s]"
      ]
     },
     "metadata": {},
     "output_type": "display_data"
    },
    {
     "name": "stderr",
     "output_type": "stream",
     "text": [
      "\r",
      "Processing ligands: 642it [02:28,  4.20it/s]"
     ]
    },
    {
     "name": "stdout",
     "output_type": "stream",
     "text": [
      "/media/lmeuret/Seagate Portable Drive/result_docking/DOCKING_project/Conan-main/results_SMINA/DOCKED/ligand696/output44_ligand696_2023-11-22-15_52/best.pdbqt\n",
      "/media/lmeuret/Seagate Portable Drive/result_docking/DOCKING_project/Conan-main/receptors/output44.pdbqt\n"
     ]
    },
    {
     "data": {
      "application/vnd.jupyter.widget-view+json": {
       "model_id": "5e09a9cb3aa84cbe9af36ab0b35cdc1a",
       "version_major": 2,
       "version_minor": 0
      },
      "text/plain": [
       "  0%|          | 0/1 [00:00<?, ?it/s]"
      ]
     },
     "metadata": {},
     "output_type": "display_data"
    },
    {
     "name": "stderr",
     "output_type": "stream",
     "text": [
      "\r",
      "Processing ligands: 643it [02:28,  4.31it/s]"
     ]
    },
    {
     "name": "stdout",
     "output_type": "stream",
     "text": [
      "/media/lmeuret/Seagate Portable Drive/result_docking/DOCKING_project/Conan-main/results_SMINA/DOCKED/ligand697/output44_ligand697_2023-11-22-15_52/best.pdbqt\n",
      "/media/lmeuret/Seagate Portable Drive/result_docking/DOCKING_project/Conan-main/receptors/output44.pdbqt\n"
     ]
    },
    {
     "data": {
      "application/vnd.jupyter.widget-view+json": {
       "model_id": "6b93a11cb73b4ba29ed8e903557e549a",
       "version_major": 2,
       "version_minor": 0
      },
      "text/plain": [
       "  0%|          | 0/1 [00:00<?, ?it/s]"
      ]
     },
     "metadata": {},
     "output_type": "display_data"
    },
    {
     "name": "stderr",
     "output_type": "stream",
     "text": [
      "\r",
      "Processing ligands: 644it [02:28,  4.36it/s]"
     ]
    },
    {
     "name": "stdout",
     "output_type": "stream",
     "text": [
      "/media/lmeuret/Seagate Portable Drive/result_docking/DOCKING_project/Conan-main/results_SMINA/DOCKED/ligand698/output44_ligand698_2023-11-22-15_52/best.pdbqt\n",
      "/media/lmeuret/Seagate Portable Drive/result_docking/DOCKING_project/Conan-main/receptors/output44.pdbqt\n"
     ]
    },
    {
     "data": {
      "application/vnd.jupyter.widget-view+json": {
       "model_id": "929cb594b353401d9a8504d3fe3d58c3",
       "version_major": 2,
       "version_minor": 0
      },
      "text/plain": [
       "  0%|          | 0/1 [00:00<?, ?it/s]"
      ]
     },
     "metadata": {},
     "output_type": "display_data"
    },
    {
     "name": "stderr",
     "output_type": "stream",
     "text": [
      "\r",
      "Processing ligands: 645it [02:28,  4.49it/s]"
     ]
    },
    {
     "name": "stdout",
     "output_type": "stream",
     "text": [
      "/media/lmeuret/Seagate Portable Drive/result_docking/DOCKING_project/Conan-main/results_SMINA/DOCKED/ligand699/output44_ligand699_2023-11-22-15_52/best.pdbqt\n",
      "/media/lmeuret/Seagate Portable Drive/result_docking/DOCKING_project/Conan-main/receptors/output44.pdbqt\n"
     ]
    },
    {
     "data": {
      "application/vnd.jupyter.widget-view+json": {
       "model_id": "b9762e81b85744578729bf7e6a7f2c20",
       "version_major": 2,
       "version_minor": 0
      },
      "text/plain": [
       "  0%|          | 0/1 [00:00<?, ?it/s]"
      ]
     },
     "metadata": {},
     "output_type": "display_data"
    },
    {
     "name": "stderr",
     "output_type": "stream",
     "text": [
      "\r",
      "Processing ligands: 646it [02:28,  4.47it/s]"
     ]
    },
    {
     "name": "stdout",
     "output_type": "stream",
     "text": [
      "/media/lmeuret/Seagate Portable Drive/result_docking/DOCKING_project/Conan-main/results_SMINA/DOCKED/ligand7/output44_ligand7_2023-11-22-15_52/best.pdbqt\n",
      "/media/lmeuret/Seagate Portable Drive/result_docking/DOCKING_project/Conan-main/receptors/output44.pdbqt\n"
     ]
    },
    {
     "data": {
      "application/vnd.jupyter.widget-view+json": {
       "model_id": "33f6feb7d18a4f6aa6979812a6da8b7b",
       "version_major": 2,
       "version_minor": 0
      },
      "text/plain": [
       "  0%|          | 0/1 [00:00<?, ?it/s]"
      ]
     },
     "metadata": {},
     "output_type": "display_data"
    },
    {
     "name": "stderr",
     "output_type": "stream",
     "text": [
      "\r",
      "Processing ligands: 647it [02:29,  4.34it/s]"
     ]
    },
    {
     "name": "stdout",
     "output_type": "stream",
     "text": [
      "/media/lmeuret/Seagate Portable Drive/result_docking/DOCKING_project/Conan-main/results_SMINA/DOCKED/ligand70/output44_ligand70_2023-11-22-15_52/best.pdbqt\n",
      "/media/lmeuret/Seagate Portable Drive/result_docking/DOCKING_project/Conan-main/receptors/output44.pdbqt\n"
     ]
    },
    {
     "data": {
      "application/vnd.jupyter.widget-view+json": {
       "model_id": "c07d2cfd0dac4929b2eb1732b228cfed",
       "version_major": 2,
       "version_minor": 0
      },
      "text/plain": [
       "  0%|          | 0/1 [00:00<?, ?it/s]"
      ]
     },
     "metadata": {},
     "output_type": "display_data"
    },
    {
     "name": "stderr",
     "output_type": "stream",
     "text": [
      "\r",
      "Processing ligands: 648it [02:29,  4.32it/s]"
     ]
    },
    {
     "name": "stdout",
     "output_type": "stream",
     "text": [
      "/media/lmeuret/Seagate Portable Drive/result_docking/DOCKING_project/Conan-main/results_SMINA/DOCKED/ligand700/output44_ligand700_2023-11-22-15_52/best.pdbqt\n",
      "/media/lmeuret/Seagate Portable Drive/result_docking/DOCKING_project/Conan-main/receptors/output44.pdbqt\n"
     ]
    },
    {
     "data": {
      "application/vnd.jupyter.widget-view+json": {
       "model_id": "c8b5ad0cb091494a886f4ec9f2090766",
       "version_major": 2,
       "version_minor": 0
      },
      "text/plain": [
       "  0%|          | 0/1 [00:00<?, ?it/s]"
      ]
     },
     "metadata": {},
     "output_type": "display_data"
    },
    {
     "name": "stderr",
     "output_type": "stream",
     "text": [
      "\r",
      "Processing ligands: 649it [02:29,  4.37it/s]"
     ]
    },
    {
     "name": "stdout",
     "output_type": "stream",
     "text": [
      "/media/lmeuret/Seagate Portable Drive/result_docking/DOCKING_project/Conan-main/results_SMINA/DOCKED/ligand701/output44_ligand701_2023-11-22-15_52/best.pdbqt\n",
      "/media/lmeuret/Seagate Portable Drive/result_docking/DOCKING_project/Conan-main/receptors/output44.pdbqt\n"
     ]
    },
    {
     "data": {
      "application/vnd.jupyter.widget-view+json": {
       "model_id": "e3a91abf3977495f9d40d0e074986b96",
       "version_major": 2,
       "version_minor": 0
      },
      "text/plain": [
       "  0%|          | 0/1 [00:00<?, ?it/s]"
      ]
     },
     "metadata": {},
     "output_type": "display_data"
    },
    {
     "name": "stderr",
     "output_type": "stream",
     "text": [
      "\r",
      "Processing ligands: 650it [02:29,  4.25it/s]"
     ]
    },
    {
     "name": "stdout",
     "output_type": "stream",
     "text": [
      "/media/lmeuret/Seagate Portable Drive/result_docking/DOCKING_project/Conan-main/results_SMINA/DOCKED/ligand702/output44_ligand702_2023-11-22-15_52/best.pdbqt\n",
      "/media/lmeuret/Seagate Portable Drive/result_docking/DOCKING_project/Conan-main/receptors/output44.pdbqt\n"
     ]
    },
    {
     "data": {
      "application/vnd.jupyter.widget-view+json": {
       "model_id": "823d9db01dbc4a66bdad0456da2ea457",
       "version_major": 2,
       "version_minor": 0
      },
      "text/plain": [
       "  0%|          | 0/1 [00:00<?, ?it/s]"
      ]
     },
     "metadata": {},
     "output_type": "display_data"
    },
    {
     "name": "stderr",
     "output_type": "stream",
     "text": [
      "\r",
      "Processing ligands: 651it [02:30,  4.34it/s]"
     ]
    },
    {
     "name": "stdout",
     "output_type": "stream",
     "text": [
      "/media/lmeuret/Seagate Portable Drive/result_docking/DOCKING_project/Conan-main/results_SMINA/DOCKED/ligand703/output44_ligand703_2023-11-22-15_52/best.pdbqt\n",
      "/media/lmeuret/Seagate Portable Drive/result_docking/DOCKING_project/Conan-main/receptors/output44.pdbqt\n"
     ]
    },
    {
     "data": {
      "application/vnd.jupyter.widget-view+json": {
       "model_id": "bd6a49d3b51749e789c7f1a1a6e6bddf",
       "version_major": 2,
       "version_minor": 0
      },
      "text/plain": [
       "  0%|          | 0/1 [00:00<?, ?it/s]"
      ]
     },
     "metadata": {},
     "output_type": "display_data"
    },
    {
     "name": "stderr",
     "output_type": "stream",
     "text": [
      "\r",
      "Processing ligands: 652it [02:30,  4.26it/s]"
     ]
    },
    {
     "name": "stdout",
     "output_type": "stream",
     "text": [
      "/media/lmeuret/Seagate Portable Drive/result_docking/DOCKING_project/Conan-main/results_SMINA/DOCKED/ligand704/output44_ligand704_2023-11-22-15_52/best.pdbqt\n",
      "/media/lmeuret/Seagate Portable Drive/result_docking/DOCKING_project/Conan-main/receptors/output44.pdbqt\n"
     ]
    },
    {
     "data": {
      "application/vnd.jupyter.widget-view+json": {
       "model_id": "f008024f798043eeb5cbc7d419fa9d21",
       "version_major": 2,
       "version_minor": 0
      },
      "text/plain": [
       "  0%|          | 0/1 [00:00<?, ?it/s]"
      ]
     },
     "metadata": {},
     "output_type": "display_data"
    },
    {
     "name": "stderr",
     "output_type": "stream",
     "text": [
      "\r",
      "Processing ligands: 653it [02:30,  4.27it/s]"
     ]
    },
    {
     "name": "stdout",
     "output_type": "stream",
     "text": [
      "/media/lmeuret/Seagate Portable Drive/result_docking/DOCKING_project/Conan-main/results_SMINA/DOCKED/ligand705/output44_ligand705_2023-11-22-15_52/best.pdbqt\n",
      "/media/lmeuret/Seagate Portable Drive/result_docking/DOCKING_project/Conan-main/receptors/output44.pdbqt\n"
     ]
    },
    {
     "data": {
      "application/vnd.jupyter.widget-view+json": {
       "model_id": "7cd3e7c7780b42ed8bd8118bfda13cdd",
       "version_major": 2,
       "version_minor": 0
      },
      "text/plain": [
       "  0%|          | 0/1 [00:00<?, ?it/s]"
      ]
     },
     "metadata": {},
     "output_type": "display_data"
    },
    {
     "name": "stderr",
     "output_type": "stream",
     "text": [
      "\r",
      "Processing ligands: 654it [02:30,  4.21it/s]"
     ]
    },
    {
     "name": "stdout",
     "output_type": "stream",
     "text": [
      "/media/lmeuret/Seagate Portable Drive/result_docking/DOCKING_project/Conan-main/results_SMINA/DOCKED/ligand706/output44_ligand706_2023-11-22-15_52/best.pdbqt\n",
      "/media/lmeuret/Seagate Portable Drive/result_docking/DOCKING_project/Conan-main/receptors/output44.pdbqt\n"
     ]
    },
    {
     "data": {
      "application/vnd.jupyter.widget-view+json": {
       "model_id": "eab8d3559824472eaeee47c3ffb54651",
       "version_major": 2,
       "version_minor": 0
      },
      "text/plain": [
       "  0%|          | 0/1 [00:00<?, ?it/s]"
      ]
     },
     "metadata": {},
     "output_type": "display_data"
    },
    {
     "name": "stderr",
     "output_type": "stream",
     "text": [
      "\r",
      "Processing ligands: 655it [02:31,  4.16it/s]"
     ]
    },
    {
     "name": "stdout",
     "output_type": "stream",
     "text": [
      "/media/lmeuret/Seagate Portable Drive/result_docking/DOCKING_project/Conan-main/results_SMINA/DOCKED/ligand707/output44_ligand707_2023-11-22-15_52/best.pdbqt\n",
      "/media/lmeuret/Seagate Portable Drive/result_docking/DOCKING_project/Conan-main/receptors/output44.pdbqt\n"
     ]
    },
    {
     "data": {
      "application/vnd.jupyter.widget-view+json": {
       "model_id": "56655db5bec049f590ebbe46d2c94bd9",
       "version_major": 2,
       "version_minor": 0
      },
      "text/plain": [
       "  0%|          | 0/1 [00:00<?, ?it/s]"
      ]
     },
     "metadata": {},
     "output_type": "display_data"
    },
    {
     "name": "stderr",
     "output_type": "stream",
     "text": [
      "\r",
      "Processing ligands: 656it [02:31,  4.15it/s]"
     ]
    },
    {
     "name": "stdout",
     "output_type": "stream",
     "text": [
      "/media/lmeuret/Seagate Portable Drive/result_docking/DOCKING_project/Conan-main/results_SMINA/DOCKED/ligand48/output44_ligand48_2023-11-22-15_52/best.pdbqt\n",
      "/media/lmeuret/Seagate Portable Drive/result_docking/DOCKING_project/Conan-main/receptors/output44.pdbqt\n"
     ]
    },
    {
     "data": {
      "application/vnd.jupyter.widget-view+json": {
       "model_id": "ff4e3f434b4440b9a2dd535ef0a1a363",
       "version_major": 2,
       "version_minor": 0
      },
      "text/plain": [
       "  0%|          | 0/1 [00:00<?, ?it/s]"
      ]
     },
     "metadata": {},
     "output_type": "display_data"
    },
    {
     "name": "stderr",
     "output_type": "stream",
     "text": [
      "\r",
      "Processing ligands: 657it [02:31,  4.05it/s]"
     ]
    },
    {
     "name": "stdout",
     "output_type": "stream",
     "text": [
      "/media/lmeuret/Seagate Portable Drive/result_docking/DOCKING_project/Conan-main/results_SMINA/DOCKED/ligand480/output44_ligand480_2023-11-22-15_52/best.pdbqt\n",
      "/media/lmeuret/Seagate Portable Drive/result_docking/DOCKING_project/Conan-main/receptors/output44.pdbqt\n"
     ]
    },
    {
     "data": {
      "application/vnd.jupyter.widget-view+json": {
       "model_id": "a8109a59a8414810a7c51954e7fd7790",
       "version_major": 2,
       "version_minor": 0
      },
      "text/plain": [
       "  0%|          | 0/1 [00:00<?, ?it/s]"
      ]
     },
     "metadata": {},
     "output_type": "display_data"
    },
    {
     "name": "stderr",
     "output_type": "stream",
     "text": [
      "\r",
      "Processing ligands: 658it [02:31,  4.12it/s]"
     ]
    },
    {
     "name": "stdout",
     "output_type": "stream",
     "text": [
      "/media/lmeuret/Seagate Portable Drive/result_docking/DOCKING_project/Conan-main/results_SMINA/DOCKED/ligand481/output44_ligand481_2023-11-22-15_52/best.pdbqt\n",
      "/media/lmeuret/Seagate Portable Drive/result_docking/DOCKING_project/Conan-main/receptors/output44.pdbqt\n"
     ]
    },
    {
     "data": {
      "application/vnd.jupyter.widget-view+json": {
       "model_id": "88cc0c1366134e83ae1569574d8ef408",
       "version_major": 2,
       "version_minor": 0
      },
      "text/plain": [
       "  0%|          | 0/1 [00:00<?, ?it/s]"
      ]
     },
     "metadata": {},
     "output_type": "display_data"
    },
    {
     "name": "stderr",
     "output_type": "stream",
     "text": [
      "\r",
      "Processing ligands: 659it [02:32,  3.99it/s]"
     ]
    },
    {
     "name": "stdout",
     "output_type": "stream",
     "text": [
      "/media/lmeuret/Seagate Portable Drive/result_docking/DOCKING_project/Conan-main/results_SMINA/DOCKED/ligand482/output44_ligand482_2023-11-22-15_52/best.pdbqt\n",
      "/media/lmeuret/Seagate Portable Drive/result_docking/DOCKING_project/Conan-main/receptors/output44.pdbqt\n"
     ]
    },
    {
     "data": {
      "application/vnd.jupyter.widget-view+json": {
       "model_id": "c9163531052246f9a8304f46370f6b78",
       "version_major": 2,
       "version_minor": 0
      },
      "text/plain": [
       "  0%|          | 0/1 [00:00<?, ?it/s]"
      ]
     },
     "metadata": {},
     "output_type": "display_data"
    },
    {
     "name": "stderr",
     "output_type": "stream",
     "text": [
      "\r",
      "Processing ligands: 660it [02:32,  4.12it/s]"
     ]
    },
    {
     "name": "stdout",
     "output_type": "stream",
     "text": [
      "/media/lmeuret/Seagate Portable Drive/result_docking/DOCKING_project/Conan-main/results_SMINA/DOCKED/ligand483/output44_ligand483_2023-11-22-15_52/best.pdbqt\n",
      "/media/lmeuret/Seagate Portable Drive/result_docking/DOCKING_project/Conan-main/receptors/output44.pdbqt\n"
     ]
    },
    {
     "data": {
      "application/vnd.jupyter.widget-view+json": {
       "model_id": "3d7ed07951a64c70828163f32015dcd7",
       "version_major": 2,
       "version_minor": 0
      },
      "text/plain": [
       "  0%|          | 0/1 [00:00<?, ?it/s]"
      ]
     },
     "metadata": {},
     "output_type": "display_data"
    },
    {
     "name": "stderr",
     "output_type": "stream",
     "text": [
      "\r",
      "Processing ligands: 661it [02:32,  4.00it/s]"
     ]
    },
    {
     "name": "stdout",
     "output_type": "stream",
     "text": [
      "/media/lmeuret/Seagate Portable Drive/result_docking/DOCKING_project/Conan-main/results_SMINA/DOCKED/ligand484/output44_ligand484_2023-11-22-15_52/best.pdbqt\n",
      "/media/lmeuret/Seagate Portable Drive/result_docking/DOCKING_project/Conan-main/receptors/output44.pdbqt\n"
     ]
    },
    {
     "data": {
      "application/vnd.jupyter.widget-view+json": {
       "model_id": "5989d75ff8054831b92786fcf7759641",
       "version_major": 2,
       "version_minor": 0
      },
      "text/plain": [
       "  0%|          | 0/1 [00:00<?, ?it/s]"
      ]
     },
     "metadata": {},
     "output_type": "display_data"
    },
    {
     "name": "stderr",
     "output_type": "stream",
     "text": [
      "\r",
      "Processing ligands: 662it [02:32,  3.99it/s]"
     ]
    },
    {
     "name": "stdout",
     "output_type": "stream",
     "text": [
      "/media/lmeuret/Seagate Portable Drive/result_docking/DOCKING_project/Conan-main/results_SMINA/DOCKED/ligand485/output44_ligand485_2023-11-22-15_52/best.pdbqt\n",
      "/media/lmeuret/Seagate Portable Drive/result_docking/DOCKING_project/Conan-main/receptors/output44.pdbqt\n"
     ]
    },
    {
     "data": {
      "application/vnd.jupyter.widget-view+json": {
       "model_id": "ff3d784e51744ed7a35f519fd72abbf7",
       "version_major": 2,
       "version_minor": 0
      },
      "text/plain": [
       "  0%|          | 0/1 [00:00<?, ?it/s]"
      ]
     },
     "metadata": {},
     "output_type": "display_data"
    },
    {
     "name": "stderr",
     "output_type": "stream",
     "text": [
      "\r",
      "Processing ligands: 663it [02:33,  4.08it/s]"
     ]
    },
    {
     "name": "stdout",
     "output_type": "stream",
     "text": [
      "/media/lmeuret/Seagate Portable Drive/result_docking/DOCKING_project/Conan-main/results_SMINA/DOCKED/ligand486/output44_ligand486_2023-11-22-15_52/best.pdbqt\n",
      "/media/lmeuret/Seagate Portable Drive/result_docking/DOCKING_project/Conan-main/receptors/output44.pdbqt\n"
     ]
    },
    {
     "data": {
      "application/vnd.jupyter.widget-view+json": {
       "model_id": "b5fa289b8f454f04a0d4049de395e7d3",
       "version_major": 2,
       "version_minor": 0
      },
      "text/plain": [
       "  0%|          | 0/1 [00:00<?, ?it/s]"
      ]
     },
     "metadata": {},
     "output_type": "display_data"
    },
    {
     "name": "stderr",
     "output_type": "stream",
     "text": [
      "\r",
      "Processing ligands: 664it [02:33,  4.01it/s]"
     ]
    },
    {
     "name": "stdout",
     "output_type": "stream",
     "text": [
      "/media/lmeuret/Seagate Portable Drive/result_docking/DOCKING_project/Conan-main/results_SMINA/DOCKED/ligand487/output44_ligand487_2023-11-22-15_52/best.pdbqt\n",
      "/media/lmeuret/Seagate Portable Drive/result_docking/DOCKING_project/Conan-main/receptors/output44.pdbqt\n"
     ]
    },
    {
     "data": {
      "application/vnd.jupyter.widget-view+json": {
       "model_id": "80a02db909e34de2addb7fd504fce83d",
       "version_major": 2,
       "version_minor": 0
      },
      "text/plain": [
       "  0%|          | 0/1 [00:00<?, ?it/s]"
      ]
     },
     "metadata": {},
     "output_type": "display_data"
    },
    {
     "name": "stderr",
     "output_type": "stream",
     "text": [
      "\r",
      "Processing ligands: 665it [02:33,  4.03it/s]"
     ]
    },
    {
     "name": "stdout",
     "output_type": "stream",
     "text": [
      "/media/lmeuret/Seagate Portable Drive/result_docking/DOCKING_project/Conan-main/results_SMINA/DOCKED/ligand488/output44_ligand488_2023-11-22-15_52/best.pdbqt\n",
      "/media/lmeuret/Seagate Portable Drive/result_docking/DOCKING_project/Conan-main/receptors/output44.pdbqt\n"
     ]
    },
    {
     "data": {
      "application/vnd.jupyter.widget-view+json": {
       "model_id": "6c5a1fdab59546a5a27392342e4b3d80",
       "version_major": 2,
       "version_minor": 0
      },
      "text/plain": [
       "  0%|          | 0/1 [00:00<?, ?it/s]"
      ]
     },
     "metadata": {},
     "output_type": "display_data"
    },
    {
     "name": "stderr",
     "output_type": "stream",
     "text": [
      "\r",
      "Processing ligands: 666it [02:33,  3.97it/s]"
     ]
    },
    {
     "name": "stdout",
     "output_type": "stream",
     "text": [
      "/media/lmeuret/Seagate Portable Drive/result_docking/DOCKING_project/Conan-main/results_SMINA/DOCKED/ligand489/output44_ligand489_2023-11-22-15_52/best.pdbqt\n",
      "/media/lmeuret/Seagate Portable Drive/result_docking/DOCKING_project/Conan-main/receptors/output44.pdbqt\n"
     ]
    },
    {
     "data": {
      "application/vnd.jupyter.widget-view+json": {
       "model_id": "a95a3ecc93eb4913a6fa52a57a647074",
       "version_major": 2,
       "version_minor": 0
      },
      "text/plain": [
       "  0%|          | 0/1 [00:00<?, ?it/s]"
      ]
     },
     "metadata": {},
     "output_type": "display_data"
    },
    {
     "name": "stderr",
     "output_type": "stream",
     "text": [
      "\r",
      "Processing ligands: 667it [02:34,  3.99it/s]"
     ]
    },
    {
     "name": "stdout",
     "output_type": "stream",
     "text": [
      "/media/lmeuret/Seagate Portable Drive/result_docking/DOCKING_project/Conan-main/results_SMINA/DOCKED/ligand49/output44_ligand49_2023-11-22-15_52/best.pdbqt\n",
      "/media/lmeuret/Seagate Portable Drive/result_docking/DOCKING_project/Conan-main/receptors/output44.pdbqt\n"
     ]
    },
    {
     "data": {
      "application/vnd.jupyter.widget-view+json": {
       "model_id": "db123b3091eb4c9781ce945a2fb5d4bf",
       "version_major": 2,
       "version_minor": 0
      },
      "text/plain": [
       "  0%|          | 0/1 [00:00<?, ?it/s]"
      ]
     },
     "metadata": {},
     "output_type": "display_data"
    },
    {
     "name": "stderr",
     "output_type": "stream",
     "text": [
      "\r",
      "Processing ligands: 668it [02:34,  4.18it/s]"
     ]
    },
    {
     "name": "stdout",
     "output_type": "stream",
     "text": [
      "/media/lmeuret/Seagate Portable Drive/result_docking/DOCKING_project/Conan-main/results_SMINA/DOCKED/ligand490/output44_ligand490_2023-11-22-15_52/best.pdbqt\n",
      "/media/lmeuret/Seagate Portable Drive/result_docking/DOCKING_project/Conan-main/receptors/output44.pdbqt\n"
     ]
    },
    {
     "data": {
      "application/vnd.jupyter.widget-view+json": {
       "model_id": "3c559294b4004e7da45c9388ec43df36",
       "version_major": 2,
       "version_minor": 0
      },
      "text/plain": [
       "  0%|          | 0/1 [00:00<?, ?it/s]"
      ]
     },
     "metadata": {},
     "output_type": "display_data"
    },
    {
     "name": "stderr",
     "output_type": "stream",
     "text": [
      "\r",
      "Processing ligands: 669it [02:34,  4.12it/s]"
     ]
    },
    {
     "name": "stdout",
     "output_type": "stream",
     "text": [
      "/media/lmeuret/Seagate Portable Drive/result_docking/DOCKING_project/Conan-main/results_SMINA/DOCKED/ligand491/output44_ligand491_2023-11-22-15_52/best.pdbqt\n",
      "/media/lmeuret/Seagate Portable Drive/result_docking/DOCKING_project/Conan-main/receptors/output44.pdbqt\n"
     ]
    },
    {
     "data": {
      "application/vnd.jupyter.widget-view+json": {
       "model_id": "04a5e3df40244cf29b7e331f143a9eca",
       "version_major": 2,
       "version_minor": 0
      },
      "text/plain": [
       "  0%|          | 0/1 [00:00<?, ?it/s]"
      ]
     },
     "metadata": {},
     "output_type": "display_data"
    },
    {
     "name": "stderr",
     "output_type": "stream",
     "text": [
      "\r",
      "Processing ligands: 670it [02:34,  4.04it/s]"
     ]
    },
    {
     "name": "stdout",
     "output_type": "stream",
     "text": [
      "/media/lmeuret/Seagate Portable Drive/result_docking/DOCKING_project/Conan-main/results_SMINA/DOCKED/ligand492/output44_ligand492_2023-11-22-15_52/best.pdbqt\n",
      "/media/lmeuret/Seagate Portable Drive/result_docking/DOCKING_project/Conan-main/receptors/output44.pdbqt\n"
     ]
    },
    {
     "data": {
      "application/vnd.jupyter.widget-view+json": {
       "model_id": "5d424739c4e6492592d57e322cf6070f",
       "version_major": 2,
       "version_minor": 0
      },
      "text/plain": [
       "  0%|          | 0/1 [00:00<?, ?it/s]"
      ]
     },
     "metadata": {},
     "output_type": "display_data"
    },
    {
     "name": "stderr",
     "output_type": "stream",
     "text": [
      "\r",
      "Processing ligands: 671it [02:35,  4.00it/s]"
     ]
    },
    {
     "name": "stdout",
     "output_type": "stream",
     "text": [
      "/media/lmeuret/Seagate Portable Drive/result_docking/DOCKING_project/Conan-main/results_SMINA/DOCKED/ligand493/output44_ligand493_2023-11-22-15_52/best.pdbqt\n",
      "/media/lmeuret/Seagate Portable Drive/result_docking/DOCKING_project/Conan-main/receptors/output44.pdbqt\n"
     ]
    },
    {
     "data": {
      "application/vnd.jupyter.widget-view+json": {
       "model_id": "fb80f024fee5442cb3925e171c84afd0",
       "version_major": 2,
       "version_minor": 0
      },
      "text/plain": [
       "  0%|          | 0/1 [00:00<?, ?it/s]"
      ]
     },
     "metadata": {},
     "output_type": "display_data"
    },
    {
     "name": "stderr",
     "output_type": "stream",
     "text": [
      "\r",
      "Processing ligands: 672it [02:35,  4.02it/s]"
     ]
    },
    {
     "name": "stdout",
     "output_type": "stream",
     "text": [
      "/media/lmeuret/Seagate Portable Drive/result_docking/DOCKING_project/Conan-main/results_SMINA/DOCKED/ligand494/output44_ligand494_2023-11-22-15_52/best.pdbqt\n",
      "/media/lmeuret/Seagate Portable Drive/result_docking/DOCKING_project/Conan-main/receptors/output44.pdbqt\n"
     ]
    },
    {
     "data": {
      "application/vnd.jupyter.widget-view+json": {
       "model_id": "bc1880c0396e4d128f40aa27ce975693",
       "version_major": 2,
       "version_minor": 0
      },
      "text/plain": [
       "  0%|          | 0/1 [00:00<?, ?it/s]"
      ]
     },
     "metadata": {},
     "output_type": "display_data"
    },
    {
     "name": "stderr",
     "output_type": "stream",
     "text": [
      "\r",
      "Processing ligands: 673it [02:35,  4.00it/s]"
     ]
    },
    {
     "name": "stdout",
     "output_type": "stream",
     "text": [
      "/media/lmeuret/Seagate Portable Drive/result_docking/DOCKING_project/Conan-main/results_SMINA/DOCKED/ligand495/output44_ligand495_2023-11-22-15_52/best.pdbqt\n",
      "/media/lmeuret/Seagate Portable Drive/result_docking/DOCKING_project/Conan-main/receptors/output44.pdbqt\n"
     ]
    },
    {
     "data": {
      "application/vnd.jupyter.widget-view+json": {
       "model_id": "bbd5983153a04be5af240b54a791af17",
       "version_major": 2,
       "version_minor": 0
      },
      "text/plain": [
       "  0%|          | 0/1 [00:00<?, ?it/s]"
      ]
     },
     "metadata": {},
     "output_type": "display_data"
    },
    {
     "name": "stderr",
     "output_type": "stream",
     "text": [
      "\r",
      "Processing ligands: 674it [02:35,  4.03it/s]"
     ]
    },
    {
     "name": "stdout",
     "output_type": "stream",
     "text": [
      "/media/lmeuret/Seagate Portable Drive/result_docking/DOCKING_project/Conan-main/results_SMINA/DOCKED/ligand496/output44_ligand496_2023-11-22-15_52/best.pdbqt\n",
      "/media/lmeuret/Seagate Portable Drive/result_docking/DOCKING_project/Conan-main/receptors/output44.pdbqt\n"
     ]
    },
    {
     "data": {
      "application/vnd.jupyter.widget-view+json": {
       "model_id": "23397a57fbb5452094dd89a01286cb53",
       "version_major": 2,
       "version_minor": 0
      },
      "text/plain": [
       "  0%|          | 0/1 [00:00<?, ?it/s]"
      ]
     },
     "metadata": {},
     "output_type": "display_data"
    },
    {
     "name": "stderr",
     "output_type": "stream",
     "text": [
      "\r",
      "Processing ligands: 675it [02:36,  4.09it/s]"
     ]
    },
    {
     "name": "stdout",
     "output_type": "stream",
     "text": [
      "/media/lmeuret/Seagate Portable Drive/result_docking/DOCKING_project/Conan-main/results_SMINA/DOCKED/ligand497/output44_ligand497_2023-11-22-15_52/best.pdbqt\n",
      "/media/lmeuret/Seagate Portable Drive/result_docking/DOCKING_project/Conan-main/receptors/output44.pdbqt\n"
     ]
    },
    {
     "data": {
      "application/vnd.jupyter.widget-view+json": {
       "model_id": "1fd7871f5b9b42a78af666b4251fc503",
       "version_major": 2,
       "version_minor": 0
      },
      "text/plain": [
       "  0%|          | 0/1 [00:00<?, ?it/s]"
      ]
     },
     "metadata": {},
     "output_type": "display_data"
    },
    {
     "name": "stderr",
     "output_type": "stream",
     "text": [
      "\r",
      "Processing ligands: 676it [02:36,  4.17it/s]"
     ]
    },
    {
     "name": "stdout",
     "output_type": "stream",
     "text": [
      "/media/lmeuret/Seagate Portable Drive/result_docking/DOCKING_project/Conan-main/results_SMINA/DOCKED/ligand498/output44_ligand498_2023-11-22-15_52/best.pdbqt\n",
      "/media/lmeuret/Seagate Portable Drive/result_docking/DOCKING_project/Conan-main/receptors/output44.pdbqt\n"
     ]
    },
    {
     "data": {
      "application/vnd.jupyter.widget-view+json": {
       "model_id": "1fe9a0ce73544b8780e1f609e47b91a4",
       "version_major": 2,
       "version_minor": 0
      },
      "text/plain": [
       "  0%|          | 0/1 [00:00<?, ?it/s]"
      ]
     },
     "metadata": {},
     "output_type": "display_data"
    },
    {
     "name": "stderr",
     "output_type": "stream",
     "text": [
      "\r",
      "Processing ligands: 677it [02:36,  4.12it/s]"
     ]
    },
    {
     "name": "stdout",
     "output_type": "stream",
     "text": [
      "/media/lmeuret/Seagate Portable Drive/result_docking/DOCKING_project/Conan-main/results_SMINA/DOCKED/ligand499/output44_ligand499_2023-11-22-15_52/best.pdbqt\n",
      "/media/lmeuret/Seagate Portable Drive/result_docking/DOCKING_project/Conan-main/receptors/output44.pdbqt\n"
     ]
    },
    {
     "data": {
      "application/vnd.jupyter.widget-view+json": {
       "model_id": "0d6fd9e62ea044089a5fbb0238cdb5a9",
       "version_major": 2,
       "version_minor": 0
      },
      "text/plain": [
       "  0%|          | 0/1 [00:00<?, ?it/s]"
      ]
     },
     "metadata": {},
     "output_type": "display_data"
    },
    {
     "name": "stderr",
     "output_type": "stream",
     "text": [
      "\r",
      "Processing ligands: 678it [02:36,  4.13it/s]"
     ]
    },
    {
     "name": "stdout",
     "output_type": "stream",
     "text": [
      "/media/lmeuret/Seagate Portable Drive/result_docking/DOCKING_project/Conan-main/results_SMINA/DOCKED/ligand5/output44_ligand5_2023-11-22-15_52/best.pdbqt\n",
      "/media/lmeuret/Seagate Portable Drive/result_docking/DOCKING_project/Conan-main/receptors/output44.pdbqt\n"
     ]
    },
    {
     "data": {
      "application/vnd.jupyter.widget-view+json": {
       "model_id": "152098621d884846b7fc649d89f231f0",
       "version_major": 2,
       "version_minor": 0
      },
      "text/plain": [
       "  0%|          | 0/1 [00:00<?, ?it/s]"
      ]
     },
     "metadata": {},
     "output_type": "display_data"
    },
    {
     "name": "stderr",
     "output_type": "stream",
     "text": [
      "\r",
      "Processing ligands: 679it [02:36,  4.17it/s]"
     ]
    },
    {
     "name": "stdout",
     "output_type": "stream",
     "text": [
      "/media/lmeuret/Seagate Portable Drive/result_docking/DOCKING_project/Conan-main/results_SMINA/DOCKED/ligand50/output44_ligand50_2023-11-22-15_52/best.pdbqt\n",
      "/media/lmeuret/Seagate Portable Drive/result_docking/DOCKING_project/Conan-main/receptors/output44.pdbqt\n"
     ]
    },
    {
     "data": {
      "application/vnd.jupyter.widget-view+json": {
       "model_id": "355785fbe80740f9b84c5c4eead2c8d4",
       "version_major": 2,
       "version_minor": 0
      },
      "text/plain": [
       "  0%|          | 0/1 [00:00<?, ?it/s]"
      ]
     },
     "metadata": {},
     "output_type": "display_data"
    },
    {
     "name": "stderr",
     "output_type": "stream",
     "text": [
      "\r",
      "Processing ligands: 680it [02:37,  4.18it/s]"
     ]
    },
    {
     "name": "stdout",
     "output_type": "stream",
     "text": [
      "/media/lmeuret/Seagate Portable Drive/result_docking/DOCKING_project/Conan-main/results_SMINA/DOCKED/ligand500/output44_ligand500_2023-11-22-15_52/best.pdbqt\n",
      "/media/lmeuret/Seagate Portable Drive/result_docking/DOCKING_project/Conan-main/receptors/output44.pdbqt\n"
     ]
    },
    {
     "data": {
      "application/vnd.jupyter.widget-view+json": {
       "model_id": "5ba6a4bcea1e4719acbfa90142769095",
       "version_major": 2,
       "version_minor": 0
      },
      "text/plain": [
       "  0%|          | 0/1 [00:00<?, ?it/s]"
      ]
     },
     "metadata": {},
     "output_type": "display_data"
    },
    {
     "name": "stderr",
     "output_type": "stream",
     "text": [
      "\r",
      "Processing ligands: 681it [02:37,  4.26it/s]"
     ]
    },
    {
     "name": "stdout",
     "output_type": "stream",
     "text": [
      "/media/lmeuret/Seagate Portable Drive/result_docking/DOCKING_project/Conan-main/results_SMINA/DOCKED/ligand501/output44_ligand501_2023-11-22-15_52/best.pdbqt\n",
      "/media/lmeuret/Seagate Portable Drive/result_docking/DOCKING_project/Conan-main/receptors/output44.pdbqt\n"
     ]
    },
    {
     "data": {
      "application/vnd.jupyter.widget-view+json": {
       "model_id": "3ef8ead1b39c4a00b197f4a2871af03b",
       "version_major": 2,
       "version_minor": 0
      },
      "text/plain": [
       "  0%|          | 0/1 [00:00<?, ?it/s]"
      ]
     },
     "metadata": {},
     "output_type": "display_data"
    },
    {
     "name": "stderr",
     "output_type": "stream",
     "text": [
      "\r",
      "Processing ligands: 682it [02:37,  4.27it/s]"
     ]
    },
    {
     "name": "stdout",
     "output_type": "stream",
     "text": [
      "/media/lmeuret/Seagate Portable Drive/result_docking/DOCKING_project/Conan-main/results_SMINA/DOCKED/ligand502/output44_ligand502_2023-11-22-15_52/best.pdbqt\n",
      "/media/lmeuret/Seagate Portable Drive/result_docking/DOCKING_project/Conan-main/receptors/output44.pdbqt\n"
     ]
    },
    {
     "data": {
      "application/vnd.jupyter.widget-view+json": {
       "model_id": "0169269e34ea4575af820fb31dddcafe",
       "version_major": 2,
       "version_minor": 0
      },
      "text/plain": [
       "  0%|          | 0/1 [00:00<?, ?it/s]"
      ]
     },
     "metadata": {},
     "output_type": "display_data"
    },
    {
     "name": "stderr",
     "output_type": "stream",
     "text": [
      "\r",
      "Processing ligands: 683it [02:37,  4.29it/s]"
     ]
    },
    {
     "name": "stdout",
     "output_type": "stream",
     "text": [
      "/media/lmeuret/Seagate Portable Drive/result_docking/DOCKING_project/Conan-main/results_SMINA/DOCKED/ligand503/output44_ligand503_2023-11-22-15_52/best.pdbqt\n",
      "/media/lmeuret/Seagate Portable Drive/result_docking/DOCKING_project/Conan-main/receptors/output44.pdbqt\n"
     ]
    },
    {
     "data": {
      "application/vnd.jupyter.widget-view+json": {
       "model_id": "b9df32191bf3458faad0ac3aebe73785",
       "version_major": 2,
       "version_minor": 0
      },
      "text/plain": [
       "  0%|          | 0/1 [00:00<?, ?it/s]"
      ]
     },
     "metadata": {},
     "output_type": "display_data"
    },
    {
     "name": "stderr",
     "output_type": "stream",
     "text": [
      "\r",
      "Processing ligands: 684it [02:38,  4.26it/s]"
     ]
    },
    {
     "name": "stdout",
     "output_type": "stream",
     "text": [
      "/media/lmeuret/Seagate Portable Drive/result_docking/DOCKING_project/Conan-main/results_SMINA/DOCKED/ligand504/output44_ligand504_2023-11-22-15_52/best.pdbqt\n",
      "/media/lmeuret/Seagate Portable Drive/result_docking/DOCKING_project/Conan-main/receptors/output44.pdbqt\n"
     ]
    },
    {
     "data": {
      "application/vnd.jupyter.widget-view+json": {
       "model_id": "23df85f1668a41438478705140d3a508",
       "version_major": 2,
       "version_minor": 0
      },
      "text/plain": [
       "  0%|          | 0/1 [00:00<?, ?it/s]"
      ]
     },
     "metadata": {},
     "output_type": "display_data"
    },
    {
     "name": "stderr",
     "output_type": "stream",
     "text": [
      "\r",
      "Processing ligands: 685it [02:38,  4.26it/s]"
     ]
    },
    {
     "name": "stdout",
     "output_type": "stream",
     "text": [
      "/media/lmeuret/Seagate Portable Drive/result_docking/DOCKING_project/Conan-main/results_SMINA/DOCKED/ligand806/output44_ligand806_2023-11-22-15_52/best.pdbqt\n",
      "/media/lmeuret/Seagate Portable Drive/result_docking/DOCKING_project/Conan-main/receptors/output44.pdbqt\n"
     ]
    },
    {
     "data": {
      "application/vnd.jupyter.widget-view+json": {
       "model_id": "6fa8d78843144b938f912be403496cd1",
       "version_major": 2,
       "version_minor": 0
      },
      "text/plain": [
       "  0%|          | 0/1 [00:00<?, ?it/s]"
      ]
     },
     "metadata": {},
     "output_type": "display_data"
    },
    {
     "name": "stderr",
     "output_type": "stream",
     "text": [
      "\r",
      "Processing ligands: 686it [02:38,  4.40it/s]"
     ]
    },
    {
     "name": "stdout",
     "output_type": "stream",
     "text": [
      "/media/lmeuret/Seagate Portable Drive/result_docking/DOCKING_project/Conan-main/results_SMINA/DOCKED/ligand807/output44_ligand807_2023-11-22-15_52/best.pdbqt\n",
      "/media/lmeuret/Seagate Portable Drive/result_docking/DOCKING_project/Conan-main/receptors/output44.pdbqt\n"
     ]
    },
    {
     "data": {
      "application/vnd.jupyter.widget-view+json": {
       "model_id": "33eaa32467b4415e93b3ea5e719626e9",
       "version_major": 2,
       "version_minor": 0
      },
      "text/plain": [
       "  0%|          | 0/1 [00:00<?, ?it/s]"
      ]
     },
     "metadata": {},
     "output_type": "display_data"
    },
    {
     "name": "stderr",
     "output_type": "stream",
     "text": [
      "\r",
      "Processing ligands: 687it [02:38,  4.30it/s]"
     ]
    },
    {
     "name": "stdout",
     "output_type": "stream",
     "text": [
      "/media/lmeuret/Seagate Portable Drive/result_docking/DOCKING_project/Conan-main/results_SMINA/DOCKED/ligand808/output44_ligand808_2023-11-22-15_52/best.pdbqt\n",
      "/media/lmeuret/Seagate Portable Drive/result_docking/DOCKING_project/Conan-main/receptors/output44.pdbqt\n"
     ]
    },
    {
     "data": {
      "application/vnd.jupyter.widget-view+json": {
       "model_id": "ed0043aa007f41c3a48abc8a095e8b73",
       "version_major": 2,
       "version_minor": 0
      },
      "text/plain": [
       "  0%|          | 0/1 [00:00<?, ?it/s]"
      ]
     },
     "metadata": {},
     "output_type": "display_data"
    },
    {
     "name": "stderr",
     "output_type": "stream",
     "text": [
      "\r",
      "Processing ligands: 688it [02:39,  4.28it/s]"
     ]
    },
    {
     "name": "stdout",
     "output_type": "stream",
     "text": [
      "/media/lmeuret/Seagate Portable Drive/result_docking/DOCKING_project/Conan-main/results_SMINA/DOCKED/ligand81/output44_ligand81_2023-11-22-15_52/best.pdbqt\n",
      "/media/lmeuret/Seagate Portable Drive/result_docking/DOCKING_project/Conan-main/receptors/output44.pdbqt\n"
     ]
    },
    {
     "data": {
      "application/vnd.jupyter.widget-view+json": {
       "model_id": "cf2a48ccc38549dfac7983a61b24e142",
       "version_major": 2,
       "version_minor": 0
      },
      "text/plain": [
       "  0%|          | 0/1 [00:00<?, ?it/s]"
      ]
     },
     "metadata": {},
     "output_type": "display_data"
    },
    {
     "name": "stderr",
     "output_type": "stream",
     "text": [
      "\r",
      "Processing ligands: 689it [02:39,  4.21it/s]"
     ]
    },
    {
     "name": "stdout",
     "output_type": "stream",
     "text": [
      "/media/lmeuret/Seagate Portable Drive/result_docking/DOCKING_project/Conan-main/results_SMINA/DOCKED/ligand810/output44_ligand810_2023-11-22-15_52/best.pdbqt\n",
      "/media/lmeuret/Seagate Portable Drive/result_docking/DOCKING_project/Conan-main/receptors/output44.pdbqt\n"
     ]
    },
    {
     "data": {
      "application/vnd.jupyter.widget-view+json": {
       "model_id": "23b8799fa57444dfa6374896d51e101b",
       "version_major": 2,
       "version_minor": 0
      },
      "text/plain": [
       "  0%|          | 0/1 [00:00<?, ?it/s]"
      ]
     },
     "metadata": {},
     "output_type": "display_data"
    },
    {
     "name": "stderr",
     "output_type": "stream",
     "text": [
      "\r",
      "Processing ligands: 690it [02:39,  4.20it/s]"
     ]
    },
    {
     "name": "stdout",
     "output_type": "stream",
     "text": [
      "/media/lmeuret/Seagate Portable Drive/result_docking/DOCKING_project/Conan-main/results_SMINA/DOCKED/ligand811/output44_ligand811_2023-11-22-15_52/best.pdbqt\n",
      "/media/lmeuret/Seagate Portable Drive/result_docking/DOCKING_project/Conan-main/receptors/output44.pdbqt\n"
     ]
    },
    {
     "data": {
      "application/vnd.jupyter.widget-view+json": {
       "model_id": "f48695d571ac427a96354bff9f3dad42",
       "version_major": 2,
       "version_minor": 0
      },
      "text/plain": [
       "  0%|          | 0/1 [00:00<?, ?it/s]"
      ]
     },
     "metadata": {},
     "output_type": "display_data"
    },
    {
     "name": "stderr",
     "output_type": "stream",
     "text": [
      "\r",
      "Processing ligands: 691it [02:39,  4.23it/s]"
     ]
    },
    {
     "name": "stdout",
     "output_type": "stream",
     "text": [
      "/media/lmeuret/Seagate Portable Drive/result_docking/DOCKING_project/Conan-main/results_SMINA/DOCKED/ligand812/output44_ligand812_2023-11-22-15_52/best.pdbqt\n",
      "/media/lmeuret/Seagate Portable Drive/result_docking/DOCKING_project/Conan-main/receptors/output44.pdbqt\n"
     ]
    },
    {
     "data": {
      "application/vnd.jupyter.widget-view+json": {
       "model_id": "f41f19ed1cd245888c6a8b25ee29af38",
       "version_major": 2,
       "version_minor": 0
      },
      "text/plain": [
       "  0%|          | 0/1 [00:00<?, ?it/s]"
      ]
     },
     "metadata": {},
     "output_type": "display_data"
    },
    {
     "name": "stderr",
     "output_type": "stream",
     "text": [
      "\r",
      "Processing ligands: 692it [02:40,  4.06it/s]"
     ]
    },
    {
     "name": "stdout",
     "output_type": "stream",
     "text": [
      "/media/lmeuret/Seagate Portable Drive/result_docking/DOCKING_project/Conan-main/results_SMINA/DOCKED/ligand813/output44_ligand813_2023-11-22-15_52/best.pdbqt\n",
      "/media/lmeuret/Seagate Portable Drive/result_docking/DOCKING_project/Conan-main/receptors/output44.pdbqt\n"
     ]
    },
    {
     "data": {
      "application/vnd.jupyter.widget-view+json": {
       "model_id": "cefbb139f9164f1193752ff4e42800b0",
       "version_major": 2,
       "version_minor": 0
      },
      "text/plain": [
       "  0%|          | 0/1 [00:00<?, ?it/s]"
      ]
     },
     "metadata": {},
     "output_type": "display_data"
    },
    {
     "name": "stderr",
     "output_type": "stream",
     "text": [
      "\r",
      "Processing ligands: 693it [02:40,  4.10it/s]"
     ]
    },
    {
     "name": "stdout",
     "output_type": "stream",
     "text": [
      "/media/lmeuret/Seagate Portable Drive/result_docking/DOCKING_project/Conan-main/results_SMINA/DOCKED/ligand814/output44_ligand814_2023-11-22-15_52/best.pdbqt\n",
      "/media/lmeuret/Seagate Portable Drive/result_docking/DOCKING_project/Conan-main/receptors/output44.pdbqt\n"
     ]
    },
    {
     "data": {
      "application/vnd.jupyter.widget-view+json": {
       "model_id": "3d3795f57d2c478a9864046766f378b0",
       "version_major": 2,
       "version_minor": 0
      },
      "text/plain": [
       "  0%|          | 0/1 [00:00<?, ?it/s]"
      ]
     },
     "metadata": {},
     "output_type": "display_data"
    },
    {
     "name": "stderr",
     "output_type": "stream",
     "text": [
      "\r",
      "Processing ligands: 694it [02:40,  4.15it/s]"
     ]
    },
    {
     "name": "stdout",
     "output_type": "stream",
     "text": [
      "/media/lmeuret/Seagate Portable Drive/result_docking/DOCKING_project/Conan-main/results_SMINA/DOCKED/ligand815/output44_ligand815_2023-11-22-15_52/best.pdbqt\n",
      "/media/lmeuret/Seagate Portable Drive/result_docking/DOCKING_project/Conan-main/receptors/output44.pdbqt\n"
     ]
    },
    {
     "data": {
      "application/vnd.jupyter.widget-view+json": {
       "model_id": "acea111b4af340f4af04b26360a4729f",
       "version_major": 2,
       "version_minor": 0
      },
      "text/plain": [
       "  0%|          | 0/1 [00:00<?, ?it/s]"
      ]
     },
     "metadata": {},
     "output_type": "display_data"
    },
    {
     "name": "stderr",
     "output_type": "stream",
     "text": [
      "\r",
      "Processing ligands: 695it [02:40,  4.10it/s]"
     ]
    },
    {
     "name": "stdout",
     "output_type": "stream",
     "text": [
      "/media/lmeuret/Seagate Portable Drive/result_docking/DOCKING_project/Conan-main/results_SMINA/DOCKED/ligand817/output44_ligand817_2023-11-22-15_52/best.pdbqt\n",
      "/media/lmeuret/Seagate Portable Drive/result_docking/DOCKING_project/Conan-main/receptors/output44.pdbqt\n"
     ]
    },
    {
     "data": {
      "application/vnd.jupyter.widget-view+json": {
       "model_id": "14ac50810bdc4bf2a1ffe43915da2bbf",
       "version_major": 2,
       "version_minor": 0
      },
      "text/plain": [
       "  0%|          | 0/1 [00:00<?, ?it/s]"
      ]
     },
     "metadata": {},
     "output_type": "display_data"
    },
    {
     "name": "stderr",
     "output_type": "stream",
     "text": [
      "\r",
      "Processing ligands: 696it [02:41,  3.90it/s]"
     ]
    },
    {
     "name": "stdout",
     "output_type": "stream",
     "text": [
      "/media/lmeuret/Seagate Portable Drive/result_docking/DOCKING_project/Conan-main/results_SMINA/DOCKED/ligand818/output44_ligand818_2023-11-22-15_52/best.pdbqt\n",
      "/media/lmeuret/Seagate Portable Drive/result_docking/DOCKING_project/Conan-main/receptors/output44.pdbqt\n"
     ]
    },
    {
     "data": {
      "application/vnd.jupyter.widget-view+json": {
       "model_id": "0ca4ec80e9944a5db038241781e30a27",
       "version_major": 2,
       "version_minor": 0
      },
      "text/plain": [
       "  0%|          | 0/1 [00:00<?, ?it/s]"
      ]
     },
     "metadata": {},
     "output_type": "display_data"
    },
    {
     "name": "stderr",
     "output_type": "stream",
     "text": [
      "\r",
      "Processing ligands: 697it [02:41,  3.93it/s]"
     ]
    },
    {
     "name": "stdout",
     "output_type": "stream",
     "text": [
      "/media/lmeuret/Seagate Portable Drive/result_docking/DOCKING_project/Conan-main/results_SMINA/DOCKED/ligand819/output44_ligand819_2023-11-22-15_52/best.pdbqt\n",
      "/media/lmeuret/Seagate Portable Drive/result_docking/DOCKING_project/Conan-main/receptors/output44.pdbqt\n"
     ]
    },
    {
     "data": {
      "application/vnd.jupyter.widget-view+json": {
       "model_id": "e5847c53577247ac8faaf50c9fe92882",
       "version_major": 2,
       "version_minor": 0
      },
      "text/plain": [
       "  0%|          | 0/1 [00:00<?, ?it/s]"
      ]
     },
     "metadata": {},
     "output_type": "display_data"
    },
    {
     "name": "stderr",
     "output_type": "stream",
     "text": [
      "\r",
      "Processing ligands: 698it [02:41,  3.87it/s]"
     ]
    },
    {
     "name": "stdout",
     "output_type": "stream",
     "text": [
      "/media/lmeuret/Seagate Portable Drive/result_docking/DOCKING_project/Conan-main/results_SMINA/DOCKED/ligand82/output44_ligand82_2023-11-22-15_52/best.pdbqt\n",
      "/media/lmeuret/Seagate Portable Drive/result_docking/DOCKING_project/Conan-main/receptors/output44.pdbqt\n"
     ]
    },
    {
     "data": {
      "application/vnd.jupyter.widget-view+json": {
       "model_id": "01afa349f6cf4274b627fcbe1e2a319d",
       "version_major": 2,
       "version_minor": 0
      },
      "text/plain": [
       "  0%|          | 0/1 [00:00<?, ?it/s]"
      ]
     },
     "metadata": {},
     "output_type": "display_data"
    },
    {
     "name": "stderr",
     "output_type": "stream",
     "text": [
      "\r",
      "Processing ligands: 699it [02:41,  3.91it/s]"
     ]
    },
    {
     "name": "stdout",
     "output_type": "stream",
     "text": [
      "/media/lmeuret/Seagate Portable Drive/result_docking/DOCKING_project/Conan-main/results_SMINA/DOCKED/ligand820/output44_ligand820_2023-11-22-15_52/best.pdbqt\n",
      "/media/lmeuret/Seagate Portable Drive/result_docking/DOCKING_project/Conan-main/receptors/output44.pdbqt\n"
     ]
    },
    {
     "data": {
      "application/vnd.jupyter.widget-view+json": {
       "model_id": "20dab597e02a41bb81f184fac65c173d",
       "version_major": 2,
       "version_minor": 0
      },
      "text/plain": [
       "  0%|          | 0/1 [00:00<?, ?it/s]"
      ]
     },
     "metadata": {},
     "output_type": "display_data"
    },
    {
     "name": "stderr",
     "output_type": "stream",
     "text": [
      "\r",
      "Processing ligands: 700it [02:42,  4.03it/s]"
     ]
    },
    {
     "name": "stdout",
     "output_type": "stream",
     "text": [
      "/media/lmeuret/Seagate Portable Drive/result_docking/DOCKING_project/Conan-main/results_SMINA/DOCKED/ligand821/output44_ligand821_2023-11-22-15_52/best.pdbqt\n",
      "/media/lmeuret/Seagate Portable Drive/result_docking/DOCKING_project/Conan-main/receptors/output44.pdbqt\n"
     ]
    },
    {
     "data": {
      "application/vnd.jupyter.widget-view+json": {
       "model_id": "14149e888138468488cdac2958278a65",
       "version_major": 2,
       "version_minor": 0
      },
      "text/plain": [
       "  0%|          | 0/1 [00:00<?, ?it/s]"
      ]
     },
     "metadata": {},
     "output_type": "display_data"
    },
    {
     "name": "stderr",
     "output_type": "stream",
     "text": [
      "\r",
      "Processing ligands: 701it [02:42,  4.18it/s]"
     ]
    },
    {
     "name": "stdout",
     "output_type": "stream",
     "text": [
      "/media/lmeuret/Seagate Portable Drive/result_docking/DOCKING_project/Conan-main/results_SMINA/DOCKED/ligand822/output44_ligand822_2023-11-22-15_52/best.pdbqt\n",
      "/media/lmeuret/Seagate Portable Drive/result_docking/DOCKING_project/Conan-main/receptors/output44.pdbqt\n"
     ]
    },
    {
     "data": {
      "application/vnd.jupyter.widget-view+json": {
       "model_id": "5c586cd4fa1344f9968a0f1139102647",
       "version_major": 2,
       "version_minor": 0
      },
      "text/plain": [
       "  0%|          | 0/1 [00:00<?, ?it/s]"
      ]
     },
     "metadata": {},
     "output_type": "display_data"
    },
    {
     "name": "stderr",
     "output_type": "stream",
     "text": [
      "\r",
      "Processing ligands: 702it [02:42,  4.23it/s]"
     ]
    },
    {
     "name": "stdout",
     "output_type": "stream",
     "text": [
      "/media/lmeuret/Seagate Portable Drive/result_docking/DOCKING_project/Conan-main/results_SMINA/DOCKED/ligand823/output44_ligand823_2023-11-22-15_52/best.pdbqt\n",
      "/media/lmeuret/Seagate Portable Drive/result_docking/DOCKING_project/Conan-main/receptors/output44.pdbqt\n"
     ]
    },
    {
     "data": {
      "application/vnd.jupyter.widget-view+json": {
       "model_id": "b192677deaec488c8d33c14d57c885f6",
       "version_major": 2,
       "version_minor": 0
      },
      "text/plain": [
       "  0%|          | 0/1 [00:00<?, ?it/s]"
      ]
     },
     "metadata": {},
     "output_type": "display_data"
    },
    {
     "name": "stderr",
     "output_type": "stream",
     "text": [
      "\r",
      "Processing ligands: 703it [02:42,  4.17it/s]"
     ]
    },
    {
     "name": "stdout",
     "output_type": "stream",
     "text": [
      "/media/lmeuret/Seagate Portable Drive/result_docking/DOCKING_project/Conan-main/results_SMINA/DOCKED/ligand824/output44_ligand824_2023-11-22-15_52/best.pdbqt\n",
      "/media/lmeuret/Seagate Portable Drive/result_docking/DOCKING_project/Conan-main/receptors/output44.pdbqt\n"
     ]
    },
    {
     "data": {
      "application/vnd.jupyter.widget-view+json": {
       "model_id": "938eec1d29914a559397dacac6c3378c",
       "version_major": 2,
       "version_minor": 0
      },
      "text/plain": [
       "  0%|          | 0/1 [00:00<?, ?it/s]"
      ]
     },
     "metadata": {},
     "output_type": "display_data"
    },
    {
     "name": "stderr",
     "output_type": "stream",
     "text": [
      "\r",
      "Processing ligands: 704it [02:43,  4.02it/s]"
     ]
    },
    {
     "name": "stdout",
     "output_type": "stream",
     "text": [
      "/media/lmeuret/Seagate Portable Drive/result_docking/DOCKING_project/Conan-main/results_SMINA/DOCKED/ligand825/output44_ligand825_2023-11-22-15_52/best.pdbqt\n",
      "/media/lmeuret/Seagate Portable Drive/result_docking/DOCKING_project/Conan-main/receptors/output44.pdbqt\n"
     ]
    },
    {
     "data": {
      "application/vnd.jupyter.widget-view+json": {
       "model_id": "2da1ae8f76a247bc9eb788f26a744166",
       "version_major": 2,
       "version_minor": 0
      },
      "text/plain": [
       "  0%|          | 0/1 [00:00<?, ?it/s]"
      ]
     },
     "metadata": {},
     "output_type": "display_data"
    },
    {
     "name": "stderr",
     "output_type": "stream",
     "text": [
      "\r",
      "Processing ligands: 705it [02:43,  4.05it/s]"
     ]
    },
    {
     "name": "stdout",
     "output_type": "stream",
     "text": [
      "/media/lmeuret/Seagate Portable Drive/result_docking/DOCKING_project/Conan-main/results_SMINA/DOCKED/ligand826/output44_ligand826_2023-11-22-15_52/best.pdbqt\n",
      "/media/lmeuret/Seagate Portable Drive/result_docking/DOCKING_project/Conan-main/receptors/output44.pdbqt\n"
     ]
    },
    {
     "data": {
      "application/vnd.jupyter.widget-view+json": {
       "model_id": "2a221359460547dd9f647c52ecb3e5d5",
       "version_major": 2,
       "version_minor": 0
      },
      "text/plain": [
       "  0%|          | 0/1 [00:00<?, ?it/s]"
      ]
     },
     "metadata": {},
     "output_type": "display_data"
    },
    {
     "name": "stderr",
     "output_type": "stream",
     "text": [
      "\r",
      "Processing ligands: 706it [02:43,  4.11it/s]"
     ]
    },
    {
     "name": "stdout",
     "output_type": "stream",
     "text": [
      "/media/lmeuret/Seagate Portable Drive/result_docking/DOCKING_project/Conan-main/results_SMINA/DOCKED/ligand827/output44_ligand827_2023-11-22-15_52/best.pdbqt\n",
      "/media/lmeuret/Seagate Portable Drive/result_docking/DOCKING_project/Conan-main/receptors/output44.pdbqt\n"
     ]
    },
    {
     "data": {
      "application/vnd.jupyter.widget-view+json": {
       "model_id": "876dd52abb2a4f9cac59077a3ee3c6a8",
       "version_major": 2,
       "version_minor": 0
      },
      "text/plain": [
       "  0%|          | 0/1 [00:00<?, ?it/s]"
      ]
     },
     "metadata": {},
     "output_type": "display_data"
    },
    {
     "name": "stderr",
     "output_type": "stream",
     "text": [
      "\r",
      "Processing ligands: 707it [02:43,  4.24it/s]"
     ]
    },
    {
     "name": "stdout",
     "output_type": "stream",
     "text": [
      "/media/lmeuret/Seagate Portable Drive/result_docking/DOCKING_project/Conan-main/results_SMINA/DOCKED/ligand828/output44_ligand828_2023-11-22-15_52/best.pdbqt\n",
      "/media/lmeuret/Seagate Portable Drive/result_docking/DOCKING_project/Conan-main/receptors/output44.pdbqt\n"
     ]
    },
    {
     "data": {
      "application/vnd.jupyter.widget-view+json": {
       "model_id": "b8183c9d939f48cc9d42fe0a43d5ad2b",
       "version_major": 2,
       "version_minor": 0
      },
      "text/plain": [
       "  0%|          | 0/1 [00:00<?, ?it/s]"
      ]
     },
     "metadata": {},
     "output_type": "display_data"
    },
    {
     "name": "stderr",
     "output_type": "stream",
     "text": [
      "\r",
      "Processing ligands: 708it [02:43,  4.01it/s]"
     ]
    },
    {
     "name": "stdout",
     "output_type": "stream",
     "text": [
      "/media/lmeuret/Seagate Portable Drive/result_docking/DOCKING_project/Conan-main/results_SMINA/DOCKED/ligand829/output44_ligand829_2023-11-22-15_52/best.pdbqt\n",
      "/media/lmeuret/Seagate Portable Drive/result_docking/DOCKING_project/Conan-main/receptors/output44.pdbqt\n"
     ]
    },
    {
     "data": {
      "application/vnd.jupyter.widget-view+json": {
       "model_id": "8782cdff9a8844078279ee48a894b5b6",
       "version_major": 2,
       "version_minor": 0
      },
      "text/plain": [
       "  0%|          | 0/1 [00:00<?, ?it/s]"
      ]
     },
     "metadata": {},
     "output_type": "display_data"
    },
    {
     "name": "stderr",
     "output_type": "stream",
     "text": [
      "\r",
      "Processing ligands: 709it [02:44,  3.93it/s]"
     ]
    },
    {
     "name": "stdout",
     "output_type": "stream",
     "text": [
      "/media/lmeuret/Seagate Portable Drive/result_docking/DOCKING_project/Conan-main/results_SMINA/DOCKED/ligand83/output44_ligand83_2023-11-22-15_52/best.pdbqt\n",
      "/media/lmeuret/Seagate Portable Drive/result_docking/DOCKING_project/Conan-main/receptors/output44.pdbqt\n"
     ]
    },
    {
     "data": {
      "application/vnd.jupyter.widget-view+json": {
       "model_id": "6fb08936647e4f5f89571efea466e6eb",
       "version_major": 2,
       "version_minor": 0
      },
      "text/plain": [
       "  0%|          | 0/1 [00:00<?, ?it/s]"
      ]
     },
     "metadata": {},
     "output_type": "display_data"
    },
    {
     "name": "stderr",
     "output_type": "stream",
     "text": [
      "\r",
      "Processing ligands: 710it [02:44,  3.96it/s]"
     ]
    },
    {
     "name": "stdout",
     "output_type": "stream",
     "text": [
      "/media/lmeuret/Seagate Portable Drive/result_docking/DOCKING_project/Conan-main/results_SMINA/DOCKED/ligand830/output44_ligand830_2023-11-22-15_52/best.pdbqt\n",
      "/media/lmeuret/Seagate Portable Drive/result_docking/DOCKING_project/Conan-main/receptors/output44.pdbqt\n"
     ]
    },
    {
     "data": {
      "application/vnd.jupyter.widget-view+json": {
       "model_id": "337830ebc32546f198c024c02a73623e",
       "version_major": 2,
       "version_minor": 0
      },
      "text/plain": [
       "  0%|          | 0/1 [00:00<?, ?it/s]"
      ]
     },
     "metadata": {},
     "output_type": "display_data"
    },
    {
     "name": "stderr",
     "output_type": "stream",
     "text": [
      "\r",
      "Processing ligands: 711it [02:44,  4.08it/s]"
     ]
    },
    {
     "name": "stdout",
     "output_type": "stream",
     "text": [
      "/media/lmeuret/Seagate Portable Drive/result_docking/DOCKING_project/Conan-main/results_SMINA/DOCKED/ligand831/output44_ligand831_2023-11-22-15_52/best.pdbqt\n",
      "/media/lmeuret/Seagate Portable Drive/result_docking/DOCKING_project/Conan-main/receptors/output44.pdbqt\n"
     ]
    },
    {
     "data": {
      "application/vnd.jupyter.widget-view+json": {
       "model_id": "cc8ea058f0bd43088ecd4f6e966d8c2d",
       "version_major": 2,
       "version_minor": 0
      },
      "text/plain": [
       "  0%|          | 0/1 [00:00<?, ?it/s]"
      ]
     },
     "metadata": {},
     "output_type": "display_data"
    },
    {
     "name": "stderr",
     "output_type": "stream",
     "text": [
      "\r",
      "Processing ligands: 712it [02:45,  3.96it/s]"
     ]
    },
    {
     "name": "stdout",
     "output_type": "stream",
     "text": [
      "/media/lmeuret/Seagate Portable Drive/result_docking/DOCKING_project/Conan-main/results_SMINA/DOCKED/ligand832/output44_ligand832_2023-11-22-15_52/best.pdbqt\n",
      "/media/lmeuret/Seagate Portable Drive/result_docking/DOCKING_project/Conan-main/receptors/output44.pdbqt\n"
     ]
    },
    {
     "data": {
      "application/vnd.jupyter.widget-view+json": {
       "model_id": "eb729da2b29646cc9b08fe97ecc766a5",
       "version_major": 2,
       "version_minor": 0
      },
      "text/plain": [
       "  0%|          | 0/1 [00:00<?, ?it/s]"
      ]
     },
     "metadata": {},
     "output_type": "display_data"
    },
    {
     "name": "stderr",
     "output_type": "stream",
     "text": [
      "\r",
      "Processing ligands: 713it [02:45,  4.06it/s]"
     ]
    },
    {
     "name": "stdout",
     "output_type": "stream",
     "text": [
      "/media/lmeuret/Seagate Portable Drive/result_docking/DOCKING_project/Conan-main/results_SMINA/DOCKED/ligand833/output44_ligand833_2023-11-22-15_52/best.pdbqt\n",
      "/media/lmeuret/Seagate Portable Drive/result_docking/DOCKING_project/Conan-main/receptors/output44.pdbqt\n"
     ]
    },
    {
     "data": {
      "application/vnd.jupyter.widget-view+json": {
       "model_id": "96aba4ac42de42a7b03c3da43308d367",
       "version_major": 2,
       "version_minor": 0
      },
      "text/plain": [
       "  0%|          | 0/1 [00:00<?, ?it/s]"
      ]
     },
     "metadata": {},
     "output_type": "display_data"
    },
    {
     "name": "stderr",
     "output_type": "stream",
     "text": [
      "\r",
      "Processing ligands: 714it [02:45,  4.11it/s]"
     ]
    },
    {
     "name": "stdout",
     "output_type": "stream",
     "text": [
      "/media/lmeuret/Seagate Portable Drive/result_docking/DOCKING_project/Conan-main/results_SMINA/DOCKED/ligand834/output44_ligand834_2023-11-22-15_52/best.pdbqt\n",
      "/media/lmeuret/Seagate Portable Drive/result_docking/DOCKING_project/Conan-main/receptors/output44.pdbqt\n"
     ]
    },
    {
     "data": {
      "application/vnd.jupyter.widget-view+json": {
       "model_id": "b13d62af88104495946df7c8bd93aa7d",
       "version_major": 2,
       "version_minor": 0
      },
      "text/plain": [
       "  0%|          | 0/1 [00:00<?, ?it/s]"
      ]
     },
     "metadata": {},
     "output_type": "display_data"
    },
    {
     "name": "stderr",
     "output_type": "stream",
     "text": [
      "\r",
      "Processing ligands: 715it [02:45,  4.18it/s]"
     ]
    },
    {
     "name": "stdout",
     "output_type": "stream",
     "text": [
      "/media/lmeuret/Seagate Portable Drive/result_docking/DOCKING_project/Conan-main/results_SMINA/DOCKED/ligand835/output44_ligand835_2023-11-22-15_52/best.pdbqt\n",
      "/media/lmeuret/Seagate Portable Drive/result_docking/DOCKING_project/Conan-main/receptors/output44.pdbqt\n"
     ]
    },
    {
     "data": {
      "application/vnd.jupyter.widget-view+json": {
       "model_id": "efec9477bf21454e9cbe94e60b0b8fab",
       "version_major": 2,
       "version_minor": 0
      },
      "text/plain": [
       "  0%|          | 0/1 [00:00<?, ?it/s]"
      ]
     },
     "metadata": {},
     "output_type": "display_data"
    },
    {
     "name": "stderr",
     "output_type": "stream",
     "text": [
      "\r",
      "Processing ligands: 716it [02:45,  4.18it/s]"
     ]
    },
    {
     "name": "stdout",
     "output_type": "stream",
     "text": [
      "/media/lmeuret/Seagate Portable Drive/result_docking/DOCKING_project/Conan-main/results_SMINA/DOCKED/ligand836/output44_ligand836_2023-11-22-15_52/best.pdbqt\n",
      "/media/lmeuret/Seagate Portable Drive/result_docking/DOCKING_project/Conan-main/receptors/output44.pdbqt\n"
     ]
    },
    {
     "data": {
      "application/vnd.jupyter.widget-view+json": {
       "model_id": "3582be0ed7d344ee82e0df9c018a11ba",
       "version_major": 2,
       "version_minor": 0
      },
      "text/plain": [
       "  0%|          | 0/1 [00:00<?, ?it/s]"
      ]
     },
     "metadata": {},
     "output_type": "display_data"
    },
    {
     "name": "stderr",
     "output_type": "stream",
     "text": [
      "\r",
      "Processing ligands: 717it [02:46,  4.27it/s]"
     ]
    },
    {
     "name": "stdout",
     "output_type": "stream",
     "text": [
      "/media/lmeuret/Seagate Portable Drive/result_docking/DOCKING_project/Conan-main/results_SMINA/DOCKED/ligand837/output44_ligand837_2023-11-22-15_52/best.pdbqt\n",
      "/media/lmeuret/Seagate Portable Drive/result_docking/DOCKING_project/Conan-main/receptors/output44.pdbqt\n"
     ]
    },
    {
     "data": {
      "application/vnd.jupyter.widget-view+json": {
       "model_id": "aecf567cd9fc47ffa372349c160b00a2",
       "version_major": 2,
       "version_minor": 0
      },
      "text/plain": [
       "  0%|          | 0/1 [00:00<?, ?it/s]"
      ]
     },
     "metadata": {},
     "output_type": "display_data"
    },
    {
     "name": "stderr",
     "output_type": "stream",
     "text": [
      "\r",
      "Processing ligands: 718it [02:46,  4.14it/s]"
     ]
    },
    {
     "name": "stdout",
     "output_type": "stream",
     "text": [
      "/media/lmeuret/Seagate Portable Drive/result_docking/DOCKING_project/Conan-main/results_SMINA/DOCKED/ligand838/output44_ligand838_2023-11-22-15_52/best.pdbqt\n",
      "/media/lmeuret/Seagate Portable Drive/result_docking/DOCKING_project/Conan-main/receptors/output44.pdbqt\n"
     ]
    },
    {
     "data": {
      "application/vnd.jupyter.widget-view+json": {
       "model_id": "05a73fc17446431d973b73497e0eac45",
       "version_major": 2,
       "version_minor": 0
      },
      "text/plain": [
       "  0%|          | 0/1 [00:00<?, ?it/s]"
      ]
     },
     "metadata": {},
     "output_type": "display_data"
    },
    {
     "name": "stderr",
     "output_type": "stream",
     "text": [
      "\r",
      "Processing ligands: 719it [02:46,  4.24it/s]"
     ]
    },
    {
     "name": "stdout",
     "output_type": "stream",
     "text": [
      "/media/lmeuret/Seagate Portable Drive/result_docking/DOCKING_project/Conan-main/results_SMINA/DOCKED/ligand839/output44_ligand839_2023-11-22-15_52/best.pdbqt\n",
      "/media/lmeuret/Seagate Portable Drive/result_docking/DOCKING_project/Conan-main/receptors/output44.pdbqt\n"
     ]
    },
    {
     "data": {
      "application/vnd.jupyter.widget-view+json": {
       "model_id": "79e0dd96bdf843d5b7947f645e13967d",
       "version_major": 2,
       "version_minor": 0
      },
      "text/plain": [
       "  0%|          | 0/1 [00:00<?, ?it/s]"
      ]
     },
     "metadata": {},
     "output_type": "display_data"
    },
    {
     "name": "stderr",
     "output_type": "stream",
     "text": [
      "\r",
      "Processing ligands: 720it [02:46,  4.33it/s]"
     ]
    },
    {
     "name": "stdout",
     "output_type": "stream",
     "text": [
      "/media/lmeuret/Seagate Portable Drive/result_docking/DOCKING_project/Conan-main/results_SMINA/DOCKED/ligand84/output44_ligand84_2023-11-22-15_52/best.pdbqt\n",
      "/media/lmeuret/Seagate Portable Drive/result_docking/DOCKING_project/Conan-main/receptors/output44.pdbqt\n"
     ]
    },
    {
     "data": {
      "application/vnd.jupyter.widget-view+json": {
       "model_id": "6a6dad72e0084fc3b5eb5a26e0555c20",
       "version_major": 2,
       "version_minor": 0
      },
      "text/plain": [
       "  0%|          | 0/1 [00:00<?, ?it/s]"
      ]
     },
     "metadata": {},
     "output_type": "display_data"
    },
    {
     "name": "stderr",
     "output_type": "stream",
     "text": [
      "\r",
      "Processing ligands: 721it [02:47,  4.21it/s]"
     ]
    },
    {
     "name": "stdout",
     "output_type": "stream",
     "text": [
      "/media/lmeuret/Seagate Portable Drive/result_docking/DOCKING_project/Conan-main/results_SMINA/DOCKED/ligand840/output44_ligand840_2023-11-22-15_52/best.pdbqt\n",
      "/media/lmeuret/Seagate Portable Drive/result_docking/DOCKING_project/Conan-main/receptors/output44.pdbqt\n"
     ]
    },
    {
     "data": {
      "application/vnd.jupyter.widget-view+json": {
       "model_id": "c3da42731e624056971d7a2a2a1ca033",
       "version_major": 2,
       "version_minor": 0
      },
      "text/plain": [
       "  0%|          | 0/1 [00:00<?, ?it/s]"
      ]
     },
     "metadata": {},
     "output_type": "display_data"
    },
    {
     "name": "stderr",
     "output_type": "stream",
     "text": [
      "\r",
      "Processing ligands: 722it [02:47,  3.83it/s]"
     ]
    },
    {
     "name": "stdout",
     "output_type": "stream",
     "text": [
      "/media/lmeuret/Seagate Portable Drive/result_docking/DOCKING_project/Conan-main/results_SMINA/DOCKED/ligand841/output44_ligand841_2023-11-22-15_52/best.pdbqt\n",
      "/media/lmeuret/Seagate Portable Drive/result_docking/DOCKING_project/Conan-main/receptors/output44.pdbqt\n"
     ]
    },
    {
     "data": {
      "application/vnd.jupyter.widget-view+json": {
       "model_id": "31a0f46124df4babb25ba60f56f12b89",
       "version_major": 2,
       "version_minor": 0
      },
      "text/plain": [
       "  0%|          | 0/1 [00:00<?, ?it/s]"
      ]
     },
     "metadata": {},
     "output_type": "display_data"
    },
    {
     "name": "stderr",
     "output_type": "stream",
     "text": [
      "\r",
      "Processing ligands: 723it [02:47,  3.86it/s]"
     ]
    },
    {
     "name": "stdout",
     "output_type": "stream",
     "text": [
      "/media/lmeuret/Seagate Portable Drive/result_docking/DOCKING_project/Conan-main/results_SMINA/DOCKED/ligand882/output44_ligand882_2023-11-22-15_52/best.pdbqt\n",
      "/media/lmeuret/Seagate Portable Drive/result_docking/DOCKING_project/Conan-main/receptors/output44.pdbqt\n"
     ]
    },
    {
     "data": {
      "application/vnd.jupyter.widget-view+json": {
       "model_id": "798a7727994c41faa10efd2596f1bf23",
       "version_major": 2,
       "version_minor": 0
      },
      "text/plain": [
       "  0%|          | 0/1 [00:00<?, ?it/s]"
      ]
     },
     "metadata": {},
     "output_type": "display_data"
    },
    {
     "name": "stderr",
     "output_type": "stream",
     "text": [
      "\r",
      "Processing ligands: 724it [02:47,  3.95it/s]"
     ]
    },
    {
     "name": "stdout",
     "output_type": "stream",
     "text": [
      "/media/lmeuret/Seagate Portable Drive/result_docking/DOCKING_project/Conan-main/results_SMINA/DOCKED/ligand883/output44_ligand883_2023-11-22-15_52/best.pdbqt\n",
      "/media/lmeuret/Seagate Portable Drive/result_docking/DOCKING_project/Conan-main/receptors/output44.pdbqt\n"
     ]
    },
    {
     "data": {
      "application/vnd.jupyter.widget-view+json": {
       "model_id": "231e104dad4942e8806e3e82ea52a637",
       "version_major": 2,
       "version_minor": 0
      },
      "text/plain": [
       "  0%|          | 0/1 [00:00<?, ?it/s]"
      ]
     },
     "metadata": {},
     "output_type": "display_data"
    },
    {
     "name": "stderr",
     "output_type": "stream",
     "text": [
      "\r",
      "Processing ligands: 725it [02:48,  3.79it/s]"
     ]
    },
    {
     "name": "stdout",
     "output_type": "stream",
     "text": [
      "/media/lmeuret/Seagate Portable Drive/result_docking/DOCKING_project/Conan-main/results_SMINA/DOCKED/ligand884/output44_ligand884_2023-11-22-15_52/best.pdbqt\n",
      "/media/lmeuret/Seagate Portable Drive/result_docking/DOCKING_project/Conan-main/receptors/output44.pdbqt\n"
     ]
    },
    {
     "data": {
      "application/vnd.jupyter.widget-view+json": {
       "model_id": "e4137efb6e9646c7949945cad6c1177c",
       "version_major": 2,
       "version_minor": 0
      },
      "text/plain": [
       "  0%|          | 0/1 [00:00<?, ?it/s]"
      ]
     },
     "metadata": {},
     "output_type": "display_data"
    },
    {
     "name": "stderr",
     "output_type": "stream",
     "text": [
      "\r",
      "Processing ligands: 726it [02:48,  3.90it/s]"
     ]
    },
    {
     "name": "stdout",
     "output_type": "stream",
     "text": [
      "/media/lmeuret/Seagate Portable Drive/result_docking/DOCKING_project/Conan-main/results_SMINA/DOCKED/ligand885/output44_ligand885_2023-11-22-15_52/best.pdbqt\n",
      "/media/lmeuret/Seagate Portable Drive/result_docking/DOCKING_project/Conan-main/receptors/output44.pdbqt\n"
     ]
    },
    {
     "data": {
      "application/vnd.jupyter.widget-view+json": {
       "model_id": "30eec538216a427e8f0d6b87b6f8699a",
       "version_major": 2,
       "version_minor": 0
      },
      "text/plain": [
       "  0%|          | 0/1 [00:00<?, ?it/s]"
      ]
     },
     "metadata": {},
     "output_type": "display_data"
    },
    {
     "name": "stderr",
     "output_type": "stream",
     "text": [
      "\r",
      "Processing ligands: 727it [02:48,  4.01it/s]"
     ]
    },
    {
     "name": "stdout",
     "output_type": "stream",
     "text": [
      "/media/lmeuret/Seagate Portable Drive/result_docking/DOCKING_project/Conan-main/results_SMINA/DOCKED/ligand886/output44_ligand886_2023-11-22-15_52/best.pdbqt\n",
      "/media/lmeuret/Seagate Portable Drive/result_docking/DOCKING_project/Conan-main/receptors/output44.pdbqt\n"
     ]
    },
    {
     "data": {
      "application/vnd.jupyter.widget-view+json": {
       "model_id": "b0d63c61446044ceb7fb1589196bfd48",
       "version_major": 2,
       "version_minor": 0
      },
      "text/plain": [
       "  0%|          | 0/1 [00:00<?, ?it/s]"
      ]
     },
     "metadata": {},
     "output_type": "display_data"
    },
    {
     "name": "stderr",
     "output_type": "stream",
     "text": [
      "\r",
      "Processing ligands: 728it [02:48,  4.04it/s]"
     ]
    },
    {
     "name": "stdout",
     "output_type": "stream",
     "text": [
      "/media/lmeuret/Seagate Portable Drive/result_docking/DOCKING_project/Conan-main/results_SMINA/DOCKED/ligand887/output44_ligand887_2023-11-22-15_52/best.pdbqt\n",
      "/media/lmeuret/Seagate Portable Drive/result_docking/DOCKING_project/Conan-main/receptors/output44.pdbqt\n"
     ]
    },
    {
     "data": {
      "application/vnd.jupyter.widget-view+json": {
       "model_id": "6b888dde9dd94ac3b0155486ac198ebf",
       "version_major": 2,
       "version_minor": 0
      },
      "text/plain": [
       "  0%|          | 0/1 [00:00<?, ?it/s]"
      ]
     },
     "metadata": {},
     "output_type": "display_data"
    },
    {
     "name": "stderr",
     "output_type": "stream",
     "text": [
      "\r",
      "Processing ligands: 729it [02:49,  3.99it/s]"
     ]
    },
    {
     "name": "stdout",
     "output_type": "stream",
     "text": [
      "/media/lmeuret/Seagate Portable Drive/result_docking/DOCKING_project/Conan-main/results_SMINA/DOCKED/ligand888/output44_ligand888_2023-11-22-15_52/best.pdbqt\n",
      "/media/lmeuret/Seagate Portable Drive/result_docking/DOCKING_project/Conan-main/receptors/output44.pdbqt\n"
     ]
    },
    {
     "data": {
      "application/vnd.jupyter.widget-view+json": {
       "model_id": "3cf401ff1f4049ef9ccb9c14088b9ecd",
       "version_major": 2,
       "version_minor": 0
      },
      "text/plain": [
       "  0%|          | 0/1 [00:00<?, ?it/s]"
      ]
     },
     "metadata": {},
     "output_type": "display_data"
    },
    {
     "name": "stderr",
     "output_type": "stream",
     "text": [
      "\r",
      "Processing ligands: 730it [02:49,  4.14it/s]"
     ]
    },
    {
     "name": "stdout",
     "output_type": "stream",
     "text": [
      "/media/lmeuret/Seagate Portable Drive/result_docking/DOCKING_project/Conan-main/results_SMINA/DOCKED/ligand889/output44_ligand889_2023-11-22-15_52/best.pdbqt\n",
      "/media/lmeuret/Seagate Portable Drive/result_docking/DOCKING_project/Conan-main/receptors/output44.pdbqt\n"
     ]
    },
    {
     "data": {
      "application/vnd.jupyter.widget-view+json": {
       "model_id": "6746a94393914c7383a03c302a9c9a1f",
       "version_major": 2,
       "version_minor": 0
      },
      "text/plain": [
       "  0%|          | 0/1 [00:00<?, ?it/s]"
      ]
     },
     "metadata": {},
     "output_type": "display_data"
    },
    {
     "name": "stderr",
     "output_type": "stream",
     "text": [
      "\r",
      "Processing ligands: 731it [02:49,  4.19it/s]"
     ]
    },
    {
     "name": "stdout",
     "output_type": "stream",
     "text": [
      "/media/lmeuret/Seagate Portable Drive/result_docking/DOCKING_project/Conan-main/results_SMINA/DOCKED/ligand89/output44_ligand89_2023-11-22-15_52/best.pdbqt\n",
      "/media/lmeuret/Seagate Portable Drive/result_docking/DOCKING_project/Conan-main/receptors/output44.pdbqt\n"
     ]
    },
    {
     "data": {
      "application/vnd.jupyter.widget-view+json": {
       "model_id": "967ea545e09d4e00af327ae016b026d9",
       "version_major": 2,
       "version_minor": 0
      },
      "text/plain": [
       "  0%|          | 0/1 [00:00<?, ?it/s]"
      ]
     },
     "metadata": {},
     "output_type": "display_data"
    },
    {
     "name": "stderr",
     "output_type": "stream",
     "text": [
      "\r",
      "Processing ligands: 732it [02:49,  4.25it/s]"
     ]
    },
    {
     "name": "stdout",
     "output_type": "stream",
     "text": [
      "/media/lmeuret/Seagate Portable Drive/result_docking/DOCKING_project/Conan-main/results_SMINA/DOCKED/ligand890/output44_ligand890_2023-11-22-15_52/best.pdbqt\n",
      "/media/lmeuret/Seagate Portable Drive/result_docking/DOCKING_project/Conan-main/receptors/output44.pdbqt\n"
     ]
    },
    {
     "data": {
      "application/vnd.jupyter.widget-view+json": {
       "model_id": "0a5a40c474cc41e38df1e8c676411385",
       "version_major": 2,
       "version_minor": 0
      },
      "text/plain": [
       "  0%|          | 0/1 [00:00<?, ?it/s]"
      ]
     },
     "metadata": {},
     "output_type": "display_data"
    },
    {
     "name": "stderr",
     "output_type": "stream",
     "text": [
      "\r",
      "Processing ligands: 733it [02:50,  4.35it/s]"
     ]
    },
    {
     "name": "stdout",
     "output_type": "stream",
     "text": [
      "/media/lmeuret/Seagate Portable Drive/result_docking/DOCKING_project/Conan-main/results_SMINA/DOCKED/ligand891/output44_ligand891_2023-11-22-15_52/best.pdbqt\n",
      "/media/lmeuret/Seagate Portable Drive/result_docking/DOCKING_project/Conan-main/receptors/output44.pdbqt\n"
     ]
    },
    {
     "data": {
      "application/vnd.jupyter.widget-view+json": {
       "model_id": "4abbd328ee894264a963d582c8c03301",
       "version_major": 2,
       "version_minor": 0
      },
      "text/plain": [
       "  0%|          | 0/1 [00:00<?, ?it/s]"
      ]
     },
     "metadata": {},
     "output_type": "display_data"
    },
    {
     "name": "stderr",
     "output_type": "stream",
     "text": [
      "\r",
      "Processing ligands: 734it [02:50,  4.27it/s]"
     ]
    },
    {
     "name": "stdout",
     "output_type": "stream",
     "text": [
      "/media/lmeuret/Seagate Portable Drive/result_docking/DOCKING_project/Conan-main/results_SMINA/DOCKED/ligand892/output44_ligand892_2023-11-22-15_52/best.pdbqt\n",
      "/media/lmeuret/Seagate Portable Drive/result_docking/DOCKING_project/Conan-main/receptors/output44.pdbqt\n"
     ]
    },
    {
     "data": {
      "application/vnd.jupyter.widget-view+json": {
       "model_id": "875dbd7981a5487e9c7c7f8bce0a8e55",
       "version_major": 2,
       "version_minor": 0
      },
      "text/plain": [
       "  0%|          | 0/1 [00:00<?, ?it/s]"
      ]
     },
     "metadata": {},
     "output_type": "display_data"
    },
    {
     "name": "stderr",
     "output_type": "stream",
     "text": [
      "\r",
      "Processing ligands: 735it [02:50,  4.29it/s]"
     ]
    },
    {
     "name": "stdout",
     "output_type": "stream",
     "text": [
      "/media/lmeuret/Seagate Portable Drive/result_docking/DOCKING_project/Conan-main/results_SMINA/DOCKED/ligand893/output44_ligand893_2023-11-22-15_52/best.pdbqt\n",
      "/media/lmeuret/Seagate Portable Drive/result_docking/DOCKING_project/Conan-main/receptors/output44.pdbqt\n"
     ]
    },
    {
     "data": {
      "application/vnd.jupyter.widget-view+json": {
       "model_id": "4acee667ce224e97895d097dac639d92",
       "version_major": 2,
       "version_minor": 0
      },
      "text/plain": [
       "  0%|          | 0/1 [00:00<?, ?it/s]"
      ]
     },
     "metadata": {},
     "output_type": "display_data"
    },
    {
     "name": "stderr",
     "output_type": "stream",
     "text": [
      "\r",
      "Processing ligands: 736it [02:50,  4.35it/s]"
     ]
    },
    {
     "name": "stdout",
     "output_type": "stream",
     "text": [
      "/media/lmeuret/Seagate Portable Drive/result_docking/DOCKING_project/Conan-main/results_SMINA/DOCKED/ligand894/output44_ligand894_2023-11-22-15_52/best.pdbqt\n",
      "/media/lmeuret/Seagate Portable Drive/result_docking/DOCKING_project/Conan-main/receptors/output44.pdbqt\n"
     ]
    },
    {
     "data": {
      "application/vnd.jupyter.widget-view+json": {
       "model_id": "a8b3e9536fd14da4b68277fa9deb1020",
       "version_major": 2,
       "version_minor": 0
      },
      "text/plain": [
       "  0%|          | 0/1 [00:00<?, ?it/s]"
      ]
     },
     "metadata": {},
     "output_type": "display_data"
    },
    {
     "name": "stderr",
     "output_type": "stream",
     "text": [
      "\r",
      "Processing ligands: 737it [02:51,  4.39it/s]"
     ]
    },
    {
     "name": "stdout",
     "output_type": "stream",
     "text": [
      "/media/lmeuret/Seagate Portable Drive/result_docking/DOCKING_project/Conan-main/results_SMINA/DOCKED/ligand895/output44_ligand895_2023-11-22-15_52/best.pdbqt\n",
      "/media/lmeuret/Seagate Portable Drive/result_docking/DOCKING_project/Conan-main/receptors/output44.pdbqt\n"
     ]
    },
    {
     "data": {
      "application/vnd.jupyter.widget-view+json": {
       "model_id": "e3d1669684a1498e88f66b0c73de5fc4",
       "version_major": 2,
       "version_minor": 0
      },
      "text/plain": [
       "  0%|          | 0/1 [00:00<?, ?it/s]"
      ]
     },
     "metadata": {},
     "output_type": "display_data"
    },
    {
     "name": "stderr",
     "output_type": "stream",
     "text": [
      "\r",
      "Processing ligands: 738it [02:51,  4.52it/s]"
     ]
    },
    {
     "name": "stdout",
     "output_type": "stream",
     "text": [
      "/media/lmeuret/Seagate Portable Drive/result_docking/DOCKING_project/Conan-main/results_SMINA/DOCKED/ligand896/output44_ligand896_2023-11-22-15_52/best.pdbqt\n",
      "/media/lmeuret/Seagate Portable Drive/result_docking/DOCKING_project/Conan-main/receptors/output44.pdbqt\n"
     ]
    },
    {
     "data": {
      "application/vnd.jupyter.widget-view+json": {
       "model_id": "09f5e72b9a2d405d8d659d94bd3e8ec3",
       "version_major": 2,
       "version_minor": 0
      },
      "text/plain": [
       "  0%|          | 0/1 [00:00<?, ?it/s]"
      ]
     },
     "metadata": {},
     "output_type": "display_data"
    },
    {
     "name": "stderr",
     "output_type": "stream",
     "text": [
      "\r",
      "Processing ligands: 739it [02:51,  4.50it/s]"
     ]
    },
    {
     "name": "stdout",
     "output_type": "stream",
     "text": [
      "/media/lmeuret/Seagate Portable Drive/result_docking/DOCKING_project/Conan-main/results_SMINA/DOCKED/ligand897/output44_ligand897_2023-11-22-15_52/best.pdbqt\n",
      "/media/lmeuret/Seagate Portable Drive/result_docking/DOCKING_project/Conan-main/receptors/output44.pdbqt\n"
     ]
    },
    {
     "data": {
      "application/vnd.jupyter.widget-view+json": {
       "model_id": "d470f725cd304f1ba638862f06e76a70",
       "version_major": 2,
       "version_minor": 0
      },
      "text/plain": [
       "  0%|          | 0/1 [00:00<?, ?it/s]"
      ]
     },
     "metadata": {},
     "output_type": "display_data"
    },
    {
     "name": "stderr",
     "output_type": "stream",
     "text": [
      "\r",
      "Processing ligands: 740it [02:51,  3.85it/s]"
     ]
    },
    {
     "name": "stdout",
     "output_type": "stream",
     "text": [
      "/media/lmeuret/Seagate Portable Drive/result_docking/DOCKING_project/Conan-main/results_SMINA/DOCKED/ligand898/output44_ligand898_2023-11-22-15_52/best.pdbqt\n",
      "/media/lmeuret/Seagate Portable Drive/result_docking/DOCKING_project/Conan-main/receptors/output44.pdbqt\n"
     ]
    },
    {
     "data": {
      "application/vnd.jupyter.widget-view+json": {
       "model_id": "b0273b142d884f718010ee78502930aa",
       "version_major": 2,
       "version_minor": 0
      },
      "text/plain": [
       "  0%|          | 0/1 [00:00<?, ?it/s]"
      ]
     },
     "metadata": {},
     "output_type": "display_data"
    },
    {
     "name": "stderr",
     "output_type": "stream",
     "text": [
      "\r",
      "Processing ligands: 741it [02:52,  4.03it/s]"
     ]
    },
    {
     "name": "stdout",
     "output_type": "stream",
     "text": [
      "/media/lmeuret/Seagate Portable Drive/result_docking/DOCKING_project/Conan-main/results_SMINA/DOCKED/ligand899/output44_ligand899_2023-11-22-15_52/best.pdbqt\n",
      "/media/lmeuret/Seagate Portable Drive/result_docking/DOCKING_project/Conan-main/receptors/output44.pdbqt\n"
     ]
    },
    {
     "data": {
      "application/vnd.jupyter.widget-view+json": {
       "model_id": "66d7ec5645514a9a941bb722eee41e56",
       "version_major": 2,
       "version_minor": 0
      },
      "text/plain": [
       "  0%|          | 0/1 [00:00<?, ?it/s]"
      ]
     },
     "metadata": {},
     "output_type": "display_data"
    },
    {
     "name": "stderr",
     "output_type": "stream",
     "text": [
      "\r",
      "Processing ligands: 742it [02:52,  4.04it/s]"
     ]
    },
    {
     "name": "stdout",
     "output_type": "stream",
     "text": [
      "/media/lmeuret/Seagate Portable Drive/result_docking/DOCKING_project/Conan-main/results_SMINA/DOCKED/ligand9/output44_ligand9_2023-11-22-15_52/best.pdbqt\n",
      "/media/lmeuret/Seagate Portable Drive/result_docking/DOCKING_project/Conan-main/receptors/output44.pdbqt\n"
     ]
    },
    {
     "data": {
      "application/vnd.jupyter.widget-view+json": {
       "model_id": "9b0773dfd60a4ad8a345d81ff97aa04f",
       "version_major": 2,
       "version_minor": 0
      },
      "text/plain": [
       "  0%|          | 0/1 [00:00<?, ?it/s]"
      ]
     },
     "metadata": {},
     "output_type": "display_data"
    },
    {
     "name": "stderr",
     "output_type": "stream",
     "text": [
      "\r",
      "Processing ligands: 743it [02:52,  4.01it/s]"
     ]
    },
    {
     "name": "stdout",
     "output_type": "stream",
     "text": [
      "/media/lmeuret/Seagate Portable Drive/result_docking/DOCKING_project/Conan-main/results_SMINA/DOCKED/ligand90/output44_ligand90_2023-11-22-15_52/best.pdbqt\n",
      "/media/lmeuret/Seagate Portable Drive/result_docking/DOCKING_project/Conan-main/receptors/output44.pdbqt\n"
     ]
    },
    {
     "data": {
      "application/vnd.jupyter.widget-view+json": {
       "model_id": "7b7e360395d34b38a23ad7210ba5e3cb",
       "version_major": 2,
       "version_minor": 0
      },
      "text/plain": [
       "  0%|          | 0/1 [00:00<?, ?it/s]"
      ]
     },
     "metadata": {},
     "output_type": "display_data"
    },
    {
     "name": "stderr",
     "output_type": "stream",
     "text": [
      "\r",
      "Processing ligands: 744it [02:52,  4.08it/s]"
     ]
    },
    {
     "name": "stdout",
     "output_type": "stream",
     "text": [
      "/media/lmeuret/Seagate Portable Drive/result_docking/DOCKING_project/Conan-main/results_SMINA/DOCKED/ligand900/output44_ligand900_2023-11-22-15_52/best.pdbqt\n",
      "/media/lmeuret/Seagate Portable Drive/result_docking/DOCKING_project/Conan-main/receptors/output44.pdbqt\n"
     ]
    },
    {
     "data": {
      "application/vnd.jupyter.widget-view+json": {
       "model_id": "cab022627a54421a939fd15370cdcdf2",
       "version_major": 2,
       "version_minor": 0
      },
      "text/plain": [
       "  0%|          | 0/1 [00:00<?, ?it/s]"
      ]
     },
     "metadata": {},
     "output_type": "display_data"
    },
    {
     "name": "stderr",
     "output_type": "stream",
     "text": [
      "\r",
      "Processing ligands: 745it [02:52,  4.27it/s]"
     ]
    },
    {
     "name": "stdout",
     "output_type": "stream",
     "text": [
      "/media/lmeuret/Seagate Portable Drive/result_docking/DOCKING_project/Conan-main/results_SMINA/DOCKED/ligand901/output44_ligand901_2023-11-22-15_52/best.pdbqt\n",
      "/media/lmeuret/Seagate Portable Drive/result_docking/DOCKING_project/Conan-main/receptors/output44.pdbqt\n"
     ]
    },
    {
     "data": {
      "application/vnd.jupyter.widget-view+json": {
       "model_id": "bd5b215b43234bce828b8338843b0e50",
       "version_major": 2,
       "version_minor": 0
      },
      "text/plain": [
       "  0%|          | 0/1 [00:00<?, ?it/s]"
      ]
     },
     "metadata": {},
     "output_type": "display_data"
    },
    {
     "name": "stderr",
     "output_type": "stream",
     "text": [
      "\r",
      "Processing ligands: 746it [02:53,  4.29it/s]"
     ]
    },
    {
     "name": "stdout",
     "output_type": "stream",
     "text": [
      "/media/lmeuret/Seagate Portable Drive/result_docking/DOCKING_project/Conan-main/results_SMINA/DOCKED/ligand902/output44_ligand902_2023-11-22-15_52/best.pdbqt\n",
      "/media/lmeuret/Seagate Portable Drive/result_docking/DOCKING_project/Conan-main/receptors/output44.pdbqt\n"
     ]
    },
    {
     "data": {
      "application/vnd.jupyter.widget-view+json": {
       "model_id": "eed627aa0bbc41bb9e856024477fc8c3",
       "version_major": 2,
       "version_minor": 0
      },
      "text/plain": [
       "  0%|          | 0/1 [00:00<?, ?it/s]"
      ]
     },
     "metadata": {},
     "output_type": "display_data"
    },
    {
     "name": "stderr",
     "output_type": "stream",
     "text": [
      "\r",
      "Processing ligands: 747it [02:53,  4.19it/s]"
     ]
    },
    {
     "name": "stdout",
     "output_type": "stream",
     "text": [
      "/media/lmeuret/Seagate Portable Drive/result_docking/DOCKING_project/Conan-main/results_SMINA/DOCKED/ligand903/output44_ligand903_2023-11-22-15_52/best.pdbqt\n",
      "/media/lmeuret/Seagate Portable Drive/result_docking/DOCKING_project/Conan-main/receptors/output44.pdbqt\n"
     ]
    },
    {
     "data": {
      "application/vnd.jupyter.widget-view+json": {
       "model_id": "95e5b56180d648baa4f70d3ed777e4ec",
       "version_major": 2,
       "version_minor": 0
      },
      "text/plain": [
       "  0%|          | 0/1 [00:00<?, ?it/s]"
      ]
     },
     "metadata": {},
     "output_type": "display_data"
    },
    {
     "name": "stderr",
     "output_type": "stream",
     "text": [
      "\r",
      "Processing ligands: 748it [02:53,  4.12it/s]"
     ]
    },
    {
     "name": "stdout",
     "output_type": "stream",
     "text": [
      "/media/lmeuret/Seagate Portable Drive/result_docking/DOCKING_project/Conan-main/results_SMINA/DOCKED/ligand904/output44_ligand904_2023-11-22-15_52/best.pdbqt\n",
      "/media/lmeuret/Seagate Portable Drive/result_docking/DOCKING_project/Conan-main/receptors/output44.pdbqt\n"
     ]
    },
    {
     "data": {
      "application/vnd.jupyter.widget-view+json": {
       "model_id": "de83d8ae8ecc46c8b3606337d80cad0b",
       "version_major": 2,
       "version_minor": 0
      },
      "text/plain": [
       "  0%|          | 0/1 [00:00<?, ?it/s]"
      ]
     },
     "metadata": {},
     "output_type": "display_data"
    },
    {
     "name": "stderr",
     "output_type": "stream",
     "text": [
      "\r",
      "Processing ligands: 749it [02:53,  4.01it/s]"
     ]
    },
    {
     "name": "stdout",
     "output_type": "stream",
     "text": [
      "/media/lmeuret/Seagate Portable Drive/result_docking/DOCKING_project/Conan-main/results_SMINA/DOCKED/ligand905/output44_ligand905_2023-11-22-15_52/best.pdbqt\n",
      "/media/lmeuret/Seagate Portable Drive/result_docking/DOCKING_project/Conan-main/receptors/output44.pdbqt\n"
     ]
    },
    {
     "data": {
      "application/vnd.jupyter.widget-view+json": {
       "model_id": "5ed081d0b1304d6d9ce9797b1f84b895",
       "version_major": 2,
       "version_minor": 0
      },
      "text/plain": [
       "  0%|          | 0/1 [00:00<?, ?it/s]"
      ]
     },
     "metadata": {},
     "output_type": "display_data"
    },
    {
     "name": "stderr",
     "output_type": "stream",
     "text": [
      "\r",
      "Processing ligands: 750it [02:54,  3.93it/s]"
     ]
    },
    {
     "name": "stdout",
     "output_type": "stream",
     "text": [
      "/media/lmeuret/Seagate Portable Drive/result_docking/DOCKING_project/Conan-main/results_SMINA/DOCKED/ligand972/output44_ligand972_2023-11-22-15_52/best.pdbqt\n",
      "/media/lmeuret/Seagate Portable Drive/result_docking/DOCKING_project/Conan-main/receptors/output44.pdbqt\n"
     ]
    },
    {
     "data": {
      "application/vnd.jupyter.widget-view+json": {
       "model_id": "21c9cba339364f50b19688c7ea06284e",
       "version_major": 2,
       "version_minor": 0
      },
      "text/plain": [
       "  0%|          | 0/1 [00:00<?, ?it/s]"
      ]
     },
     "metadata": {},
     "output_type": "display_data"
    },
    {
     "name": "stderr",
     "output_type": "stream",
     "text": [
      "\r",
      "Processing ligands: 751it [02:54,  4.04it/s]"
     ]
    },
    {
     "name": "stdout",
     "output_type": "stream",
     "text": [
      "/media/lmeuret/Seagate Portable Drive/result_docking/DOCKING_project/Conan-main/results_SMINA/DOCKED/ligand973/output44_ligand973_2023-11-22-15_52/best.pdbqt\n",
      "/media/lmeuret/Seagate Portable Drive/result_docking/DOCKING_project/Conan-main/receptors/output44.pdbqt\n"
     ]
    },
    {
     "data": {
      "application/vnd.jupyter.widget-view+json": {
       "model_id": "9a2b2cd3f1b04182a64832710d01c5b2",
       "version_major": 2,
       "version_minor": 0
      },
      "text/plain": [
       "  0%|          | 0/1 [00:00<?, ?it/s]"
      ]
     },
     "metadata": {},
     "output_type": "display_data"
    },
    {
     "name": "stderr",
     "output_type": "stream",
     "text": [
      "\r",
      "Processing ligands: 752it [02:54,  4.14it/s]"
     ]
    },
    {
     "name": "stdout",
     "output_type": "stream",
     "text": [
      "/media/lmeuret/Seagate Portable Drive/result_docking/DOCKING_project/Conan-main/results_SMINA/DOCKED/ligand974/output44_ligand974_2023-11-22-15_52/best.pdbqt\n",
      "/media/lmeuret/Seagate Portable Drive/result_docking/DOCKING_project/Conan-main/receptors/output44.pdbqt\n"
     ]
    },
    {
     "data": {
      "application/vnd.jupyter.widget-view+json": {
       "model_id": "524653f1c7a8478db896631a0411cb76",
       "version_major": 2,
       "version_minor": 0
      },
      "text/plain": [
       "  0%|          | 0/1 [00:00<?, ?it/s]"
      ]
     },
     "metadata": {},
     "output_type": "display_data"
    },
    {
     "name": "stderr",
     "output_type": "stream",
     "text": [
      "\r",
      "Processing ligands: 753it [02:54,  4.11it/s]"
     ]
    },
    {
     "name": "stdout",
     "output_type": "stream",
     "text": [
      "/media/lmeuret/Seagate Portable Drive/result_docking/DOCKING_project/Conan-main/results_SMINA/DOCKED/ligand975/output44_ligand975_2023-11-22-15_52/best.pdbqt\n",
      "/media/lmeuret/Seagate Portable Drive/result_docking/DOCKING_project/Conan-main/receptors/output44.pdbqt\n"
     ]
    },
    {
     "data": {
      "application/vnd.jupyter.widget-view+json": {
       "model_id": "e8a36fdf10aa45a49ffc5570f8d77e4a",
       "version_major": 2,
       "version_minor": 0
      },
      "text/plain": [
       "  0%|          | 0/1 [00:00<?, ?it/s]"
      ]
     },
     "metadata": {},
     "output_type": "display_data"
    },
    {
     "name": "stderr",
     "output_type": "stream",
     "text": [
      "\r",
      "Processing ligands: 754it [02:55,  4.09it/s]"
     ]
    },
    {
     "name": "stdout",
     "output_type": "stream",
     "text": [
      "/media/lmeuret/Seagate Portable Drive/result_docking/DOCKING_project/Conan-main/results_SMINA/DOCKED/ligand976/output44_ligand976_2023-11-22-15_52/best.pdbqt\n",
      "/media/lmeuret/Seagate Portable Drive/result_docking/DOCKING_project/Conan-main/receptors/output44.pdbqt\n"
     ]
    },
    {
     "data": {
      "application/vnd.jupyter.widget-view+json": {
       "model_id": "cd67c775fb204c29a1641924a2810c99",
       "version_major": 2,
       "version_minor": 0
      },
      "text/plain": [
       "  0%|          | 0/1 [00:00<?, ?it/s]"
      ]
     },
     "metadata": {},
     "output_type": "display_data"
    },
    {
     "name": "stderr",
     "output_type": "stream",
     "text": [
      "\r",
      "Processing ligands: 755it [02:55,  4.12it/s]"
     ]
    },
    {
     "name": "stdout",
     "output_type": "stream",
     "text": [
      "/media/lmeuret/Seagate Portable Drive/result_docking/DOCKING_project/Conan-main/results_SMINA/DOCKED/ligand977/output44_ligand977_2023-11-22-15_52/best.pdbqt\n",
      "/media/lmeuret/Seagate Portable Drive/result_docking/DOCKING_project/Conan-main/receptors/output44.pdbqt\n"
     ]
    },
    {
     "data": {
      "application/vnd.jupyter.widget-view+json": {
       "model_id": "7d8464097e304210b17f406296d816b4",
       "version_major": 2,
       "version_minor": 0
      },
      "text/plain": [
       "  0%|          | 0/1 [00:00<?, ?it/s]"
      ]
     },
     "metadata": {},
     "output_type": "display_data"
    },
    {
     "name": "stderr",
     "output_type": "stream",
     "text": [
      "\r",
      "Processing ligands: 756it [02:55,  4.21it/s]"
     ]
    },
    {
     "name": "stdout",
     "output_type": "stream",
     "text": [
      "/media/lmeuret/Seagate Portable Drive/result_docking/DOCKING_project/Conan-main/results_SMINA/DOCKED/ligand978/output44_ligand978_2023-11-22-15_52/best.pdbqt\n",
      "/media/lmeuret/Seagate Portable Drive/result_docking/DOCKING_project/Conan-main/receptors/output44.pdbqt\n"
     ]
    },
    {
     "data": {
      "application/vnd.jupyter.widget-view+json": {
       "model_id": "f0615490459f4886bff2f364506b040f",
       "version_major": 2,
       "version_minor": 0
      },
      "text/plain": [
       "  0%|          | 0/1 [00:00<?, ?it/s]"
      ]
     },
     "metadata": {},
     "output_type": "display_data"
    },
    {
     "name": "stderr",
     "output_type": "stream",
     "text": [
      "\r",
      "Processing ligands: 757it [02:55,  4.15it/s]"
     ]
    },
    {
     "name": "stdout",
     "output_type": "stream",
     "text": [
      "/media/lmeuret/Seagate Portable Drive/result_docking/DOCKING_project/Conan-main/results_SMINA/DOCKED/ligand979/output44_ligand979_2023-11-22-15_52/best.pdbqt\n",
      "/media/lmeuret/Seagate Portable Drive/result_docking/DOCKING_project/Conan-main/receptors/output44.pdbqt\n"
     ]
    },
    {
     "data": {
      "application/vnd.jupyter.widget-view+json": {
       "model_id": "ffa22f7eaf9444bf8d7940e11db6d3e4",
       "version_major": 2,
       "version_minor": 0
      },
      "text/plain": [
       "  0%|          | 0/1 [00:00<?, ?it/s]"
      ]
     },
     "metadata": {},
     "output_type": "display_data"
    },
    {
     "name": "stderr",
     "output_type": "stream",
     "text": [
      "\r",
      "Processing ligands: 758it [02:56,  4.18it/s]"
     ]
    },
    {
     "name": "stdout",
     "output_type": "stream",
     "text": [
      "/media/lmeuret/Seagate Portable Drive/result_docking/DOCKING_project/Conan-main/results_SMINA/DOCKED/ligand98/output44_ligand98_2023-11-22-15_52/best.pdbqt\n",
      "/media/lmeuret/Seagate Portable Drive/result_docking/DOCKING_project/Conan-main/receptors/output44.pdbqt\n"
     ]
    },
    {
     "data": {
      "application/vnd.jupyter.widget-view+json": {
       "model_id": "87a44c811cce4523b3169b014883f986",
       "version_major": 2,
       "version_minor": 0
      },
      "text/plain": [
       "  0%|          | 0/1 [00:00<?, ?it/s]"
      ]
     },
     "metadata": {},
     "output_type": "display_data"
    },
    {
     "name": "stderr",
     "output_type": "stream",
     "text": [
      "\r",
      "Processing ligands: 759it [02:56,  4.16it/s]"
     ]
    },
    {
     "name": "stdout",
     "output_type": "stream",
     "text": [
      "/media/lmeuret/Seagate Portable Drive/result_docking/DOCKING_project/Conan-main/results_SMINA/DOCKED/ligand980/output44_ligand980_2023-11-22-15_52/best.pdbqt\n",
      "/media/lmeuret/Seagate Portable Drive/result_docking/DOCKING_project/Conan-main/receptors/output44.pdbqt\n"
     ]
    },
    {
     "data": {
      "application/vnd.jupyter.widget-view+json": {
       "model_id": "8a088b033bea4cfcb972663e3de3b385",
       "version_major": 2,
       "version_minor": 0
      },
      "text/plain": [
       "  0%|          | 0/1 [00:00<?, ?it/s]"
      ]
     },
     "metadata": {},
     "output_type": "display_data"
    },
    {
     "name": "stderr",
     "output_type": "stream",
     "text": [
      "\r",
      "Processing ligands: 760it [02:56,  4.33it/s]"
     ]
    },
    {
     "name": "stdout",
     "output_type": "stream",
     "text": [
      "/media/lmeuret/Seagate Portable Drive/result_docking/DOCKING_project/Conan-main/results_SMINA/DOCKED/ligand981/output44_ligand981_2023-11-22-15_52/best.pdbqt\n",
      "/media/lmeuret/Seagate Portable Drive/result_docking/DOCKING_project/Conan-main/receptors/output44.pdbqt\n"
     ]
    },
    {
     "data": {
      "application/vnd.jupyter.widget-view+json": {
       "model_id": "0f2f2fc4e45a41cbb1099924a686def9",
       "version_major": 2,
       "version_minor": 0
      },
      "text/plain": [
       "  0%|          | 0/1 [00:00<?, ?it/s]"
      ]
     },
     "metadata": {},
     "output_type": "display_data"
    },
    {
     "name": "stderr",
     "output_type": "stream",
     "text": [
      "\r",
      "Processing ligands: 761it [02:56,  4.26it/s]"
     ]
    },
    {
     "name": "stdout",
     "output_type": "stream",
     "text": [
      "/media/lmeuret/Seagate Portable Drive/result_docking/DOCKING_project/Conan-main/results_SMINA/DOCKED/ligand982/output44_ligand982_2023-11-22-15_52/best.pdbqt\n",
      "/media/lmeuret/Seagate Portable Drive/result_docking/DOCKING_project/Conan-main/receptors/output44.pdbqt\n"
     ]
    },
    {
     "data": {
      "application/vnd.jupyter.widget-view+json": {
       "model_id": "db44222f880b4e50bdf8da1433bc29f2",
       "version_major": 2,
       "version_minor": 0
      },
      "text/plain": [
       "  0%|          | 0/1 [00:00<?, ?it/s]"
      ]
     },
     "metadata": {},
     "output_type": "display_data"
    },
    {
     "name": "stderr",
     "output_type": "stream",
     "text": [
      "\r",
      "Processing ligands: 762it [02:57,  4.25it/s]"
     ]
    },
    {
     "name": "stdout",
     "output_type": "stream",
     "text": [
      "/media/lmeuret/Seagate Portable Drive/result_docking/DOCKING_project/Conan-main/results_SMINA/DOCKED/ligand983/output44_ligand983_2023-11-22-15_52/best.pdbqt\n",
      "/media/lmeuret/Seagate Portable Drive/result_docking/DOCKING_project/Conan-main/receptors/output44.pdbqt\n"
     ]
    },
    {
     "data": {
      "application/vnd.jupyter.widget-view+json": {
       "model_id": "be06101c54b4438ca93358902cb07bb5",
       "version_major": 2,
       "version_minor": 0
      },
      "text/plain": [
       "  0%|          | 0/1 [00:00<?, ?it/s]"
      ]
     },
     "metadata": {},
     "output_type": "display_data"
    },
    {
     "name": "stderr",
     "output_type": "stream",
     "text": [
      "\r",
      "Processing ligands: 763it [02:57,  4.31it/s]"
     ]
    },
    {
     "name": "stdout",
     "output_type": "stream",
     "text": [
      "/media/lmeuret/Seagate Portable Drive/result_docking/DOCKING_project/Conan-main/results_SMINA/DOCKED/ligand984/output44_ligand984_2023-11-22-15_52/best.pdbqt\n",
      "/media/lmeuret/Seagate Portable Drive/result_docking/DOCKING_project/Conan-main/receptors/output44.pdbqt\n"
     ]
    },
    {
     "data": {
      "application/vnd.jupyter.widget-view+json": {
       "model_id": "cb65603d1509471dae7c01e36dce1698",
       "version_major": 2,
       "version_minor": 0
      },
      "text/plain": [
       "  0%|          | 0/1 [00:00<?, ?it/s]"
      ]
     },
     "metadata": {},
     "output_type": "display_data"
    },
    {
     "name": "stderr",
     "output_type": "stream",
     "text": [
      "\r",
      "Processing ligands: 764it [02:57,  4.32it/s]"
     ]
    },
    {
     "name": "stdout",
     "output_type": "stream",
     "text": [
      "/media/lmeuret/Seagate Portable Drive/result_docking/DOCKING_project/Conan-main/results_SMINA/DOCKED/ligand985/output44_ligand985_2023-11-22-15_52/best.pdbqt\n",
      "/media/lmeuret/Seagate Portable Drive/result_docking/DOCKING_project/Conan-main/receptors/output44.pdbqt\n"
     ]
    },
    {
     "data": {
      "application/vnd.jupyter.widget-view+json": {
       "model_id": "c30f634d57a44a60b1a44cadc8db1bc0",
       "version_major": 2,
       "version_minor": 0
      },
      "text/plain": [
       "  0%|          | 0/1 [00:00<?, ?it/s]"
      ]
     },
     "metadata": {},
     "output_type": "display_data"
    },
    {
     "name": "stderr",
     "output_type": "stream",
     "text": [
      "\r",
      "Processing ligands: 765it [02:57,  4.33it/s]"
     ]
    },
    {
     "name": "stdout",
     "output_type": "stream",
     "text": [
      "/media/lmeuret/Seagate Portable Drive/result_docking/DOCKING_project/Conan-main/results_SMINA/DOCKED/ligand986/output44_ligand986_2023-11-22-15_52/best.pdbqt\n",
      "/media/lmeuret/Seagate Portable Drive/result_docking/DOCKING_project/Conan-main/receptors/output44.pdbqt\n"
     ]
    },
    {
     "data": {
      "application/vnd.jupyter.widget-view+json": {
       "model_id": "62d436b063064aebb4a42d1dc1966fd5",
       "version_major": 2,
       "version_minor": 0
      },
      "text/plain": [
       "  0%|          | 0/1 [00:00<?, ?it/s]"
      ]
     },
     "metadata": {},
     "output_type": "display_data"
    },
    {
     "name": "stderr",
     "output_type": "stream",
     "text": [
      "\r",
      "Processing ligands: 766it [02:57,  4.23it/s]"
     ]
    },
    {
     "name": "stdout",
     "output_type": "stream",
     "text": [
      "/media/lmeuret/Seagate Portable Drive/result_docking/DOCKING_project/Conan-main/results_SMINA/DOCKED/ligand987/output44_ligand987_2023-11-22-15_52/best.pdbqt\n",
      "/media/lmeuret/Seagate Portable Drive/result_docking/DOCKING_project/Conan-main/receptors/output44.pdbqt\n"
     ]
    },
    {
     "data": {
      "application/vnd.jupyter.widget-view+json": {
       "model_id": "94cf9455e9874fbe9bd5fec77a352f53",
       "version_major": 2,
       "version_minor": 0
      },
      "text/plain": [
       "  0%|          | 0/1 [00:00<?, ?it/s]"
      ]
     },
     "metadata": {},
     "output_type": "display_data"
    },
    {
     "name": "stderr",
     "output_type": "stream",
     "text": [
      "\r",
      "Processing ligands: 767it [02:58,  4.18it/s]"
     ]
    },
    {
     "name": "stdout",
     "output_type": "stream",
     "text": [
      "/media/lmeuret/Seagate Portable Drive/result_docking/DOCKING_project/Conan-main/results_SMINA/DOCKED/ligand988/output44_ligand988_2023-11-22-15_52/best.pdbqt\n",
      "/media/lmeuret/Seagate Portable Drive/result_docking/DOCKING_project/Conan-main/receptors/output44.pdbqt\n"
     ]
    },
    {
     "data": {
      "application/vnd.jupyter.widget-view+json": {
       "model_id": "dc51fe764a3c4eedb87c42c54fc58849",
       "version_major": 2,
       "version_minor": 0
      },
      "text/plain": [
       "  0%|          | 0/1 [00:00<?, ?it/s]"
      ]
     },
     "metadata": {},
     "output_type": "display_data"
    },
    {
     "name": "stderr",
     "output_type": "stream",
     "text": [
      "\r",
      "Processing ligands: 768it [02:58,  4.23it/s]"
     ]
    },
    {
     "name": "stdout",
     "output_type": "stream",
     "text": [
      "/media/lmeuret/Seagate Portable Drive/result_docking/DOCKING_project/Conan-main/results_SMINA/DOCKED/ligand989/output44_ligand989_2023-11-22-15_52/best.pdbqt\n",
      "/media/lmeuret/Seagate Portable Drive/result_docking/DOCKING_project/Conan-main/receptors/output44.pdbqt\n"
     ]
    },
    {
     "data": {
      "application/vnd.jupyter.widget-view+json": {
       "model_id": "eded2f4ee4ba4c12b44658cc76ac117d",
       "version_major": 2,
       "version_minor": 0
      },
      "text/plain": [
       "  0%|          | 0/1 [00:00<?, ?it/s]"
      ]
     },
     "metadata": {},
     "output_type": "display_data"
    },
    {
     "name": "stderr",
     "output_type": "stream",
     "text": [
      "\r",
      "Processing ligands: 769it [02:58,  4.20it/s]"
     ]
    },
    {
     "name": "stdout",
     "output_type": "stream",
     "text": [
      "/media/lmeuret/Seagate Portable Drive/result_docking/DOCKING_project/Conan-main/results_SMINA/DOCKED/ligand99/output44_ligand99_2023-11-22-15_52/best.pdbqt\n",
      "/media/lmeuret/Seagate Portable Drive/result_docking/DOCKING_project/Conan-main/receptors/output44.pdbqt\n"
     ]
    },
    {
     "data": {
      "application/vnd.jupyter.widget-view+json": {
       "model_id": "e3cf87191f7a4a7d962f248ce7cd2715",
       "version_major": 2,
       "version_minor": 0
      },
      "text/plain": [
       "  0%|          | 0/1 [00:00<?, ?it/s]"
      ]
     },
     "metadata": {},
     "output_type": "display_data"
    },
    {
     "name": "stderr",
     "output_type": "stream",
     "text": [
      "\r",
      "Processing ligands: 770it [02:58,  4.29it/s]"
     ]
    },
    {
     "name": "stdout",
     "output_type": "stream",
     "text": [
      "/media/lmeuret/Seagate Portable Drive/result_docking/DOCKING_project/Conan-main/results_SMINA/DOCKED/ligand990/output44_ligand990_2023-11-22-15_52/best.pdbqt\n",
      "/media/lmeuret/Seagate Portable Drive/result_docking/DOCKING_project/Conan-main/receptors/output44.pdbqt\n"
     ]
    },
    {
     "data": {
      "application/vnd.jupyter.widget-view+json": {
       "model_id": "dcf8c04d44674d438933ce8a5ee7c29b",
       "version_major": 2,
       "version_minor": 0
      },
      "text/plain": [
       "  0%|          | 0/1 [00:00<?, ?it/s]"
      ]
     },
     "metadata": {},
     "output_type": "display_data"
    },
    {
     "name": "stderr",
     "output_type": "stream",
     "text": [
      "\r",
      "Processing ligands: 771it [02:59,  4.29it/s]"
     ]
    },
    {
     "name": "stdout",
     "output_type": "stream",
     "text": [
      "/media/lmeuret/Seagate Portable Drive/result_docking/DOCKING_project/Conan-main/results_SMINA/DOCKED/ligand991/output44_ligand991_2023-11-22-15_52/best.pdbqt\n",
      "/media/lmeuret/Seagate Portable Drive/result_docking/DOCKING_project/Conan-main/receptors/output44.pdbqt\n"
     ]
    },
    {
     "data": {
      "application/vnd.jupyter.widget-view+json": {
       "model_id": "e2c28d8cca3841eaa686fa6cfb33d486",
       "version_major": 2,
       "version_minor": 0
      },
      "text/plain": [
       "  0%|          | 0/1 [00:00<?, ?it/s]"
      ]
     },
     "metadata": {},
     "output_type": "display_data"
    },
    {
     "name": "stderr",
     "output_type": "stream",
     "text": [
      "\r",
      "Processing ligands: 772it [02:59,  4.23it/s]"
     ]
    },
    {
     "name": "stdout",
     "output_type": "stream",
     "text": [
      "/media/lmeuret/Seagate Portable Drive/result_docking/DOCKING_project/Conan-main/results_SMINA/DOCKED/ligand992/output44_ligand992_2023-11-22-15_52/best.pdbqt\n",
      "/media/lmeuret/Seagate Portable Drive/result_docking/DOCKING_project/Conan-main/receptors/output44.pdbqt\n"
     ]
    },
    {
     "data": {
      "application/vnd.jupyter.widget-view+json": {
       "model_id": "87f6d42034c042b590f5c94d9f71ddee",
       "version_major": 2,
       "version_minor": 0
      },
      "text/plain": [
       "  0%|          | 0/1 [00:00<?, ?it/s]"
      ]
     },
     "metadata": {},
     "output_type": "display_data"
    },
    {
     "name": "stderr",
     "output_type": "stream",
     "text": [
      "\r",
      "Processing ligands: 773it [02:59,  4.31it/s]"
     ]
    },
    {
     "name": "stdout",
     "output_type": "stream",
     "text": [
      "/media/lmeuret/Seagate Portable Drive/result_docking/DOCKING_project/Conan-main/results_SMINA/DOCKED/ligand993/output44_ligand993_2023-11-22-15_52/best.pdbqt\n",
      "/media/lmeuret/Seagate Portable Drive/result_docking/DOCKING_project/Conan-main/receptors/output44.pdbqt\n"
     ]
    },
    {
     "data": {
      "application/vnd.jupyter.widget-view+json": {
       "model_id": "2ef31c8d47804eb4bf8ace9be2fce46b",
       "version_major": 2,
       "version_minor": 0
      },
      "text/plain": [
       "  0%|          | 0/1 [00:00<?, ?it/s]"
      ]
     },
     "metadata": {},
     "output_type": "display_data"
    },
    {
     "name": "stderr",
     "output_type": "stream",
     "text": [
      "\r",
      "Processing ligands: 774it [02:59,  4.37it/s]"
     ]
    },
    {
     "name": "stdout",
     "output_type": "stream",
     "text": [
      "/media/lmeuret/Seagate Portable Drive/result_docking/DOCKING_project/Conan-main/results_SMINA/DOCKED/ligand994/output44_ligand994_2023-11-22-15_52/best.pdbqt\n",
      "/media/lmeuret/Seagate Portable Drive/result_docking/DOCKING_project/Conan-main/receptors/output44.pdbqt\n"
     ]
    },
    {
     "data": {
      "application/vnd.jupyter.widget-view+json": {
       "model_id": "9a51bbee62a240579ae7772f805ac18f",
       "version_major": 2,
       "version_minor": 0
      },
      "text/plain": [
       "  0%|          | 0/1 [00:00<?, ?it/s]"
      ]
     },
     "metadata": {},
     "output_type": "display_data"
    },
    {
     "name": "stderr",
     "output_type": "stream",
     "text": [
      "\r",
      "Processing ligands: 775it [03:00,  4.59it/s]"
     ]
    },
    {
     "name": "stdout",
     "output_type": "stream",
     "text": [
      "/media/lmeuret/Seagate Portable Drive/result_docking/DOCKING_project/Conan-main/results_SMINA/DOCKED/ligand995/output44_ligand995_2023-11-22-15_52/best.pdbqt\n",
      "/media/lmeuret/Seagate Portable Drive/result_docking/DOCKING_project/Conan-main/receptors/output44.pdbqt\n"
     ]
    },
    {
     "data": {
      "application/vnd.jupyter.widget-view+json": {
       "model_id": "41d9c496831a4203bc638744034359af",
       "version_major": 2,
       "version_minor": 0
      },
      "text/plain": [
       "  0%|          | 0/1 [00:00<?, ?it/s]"
      ]
     },
     "metadata": {},
     "output_type": "display_data"
    },
    {
     "name": "stderr",
     "output_type": "stream",
     "text": [
      "\r",
      "Processing ligands: 776it [03:00,  4.63it/s]"
     ]
    },
    {
     "name": "stdout",
     "output_type": "stream",
     "text": [
      "/media/lmeuret/Seagate Portable Drive/result_docking/DOCKING_project/Conan-main/results_SMINA/DOCKED/ligand996/output44_ligand996_2023-11-22-15_52/best.pdbqt\n",
      "/media/lmeuret/Seagate Portable Drive/result_docking/DOCKING_project/Conan-main/receptors/output44.pdbqt\n"
     ]
    },
    {
     "data": {
      "application/vnd.jupyter.widget-view+json": {
       "model_id": "bc78ca811e2e4d45bb6994bf4b4e8db1",
       "version_major": 2,
       "version_minor": 0
      },
      "text/plain": [
       "  0%|          | 0/1 [00:00<?, ?it/s]"
      ]
     },
     "metadata": {},
     "output_type": "display_data"
    },
    {
     "name": "stderr",
     "output_type": "stream",
     "text": [
      "\r",
      "Processing ligands: 777it [03:00,  4.31it/s]"
     ]
    },
    {
     "name": "stdout",
     "output_type": "stream",
     "text": [
      "/media/lmeuret/Seagate Portable Drive/result_docking/DOCKING_project/Conan-main/results_SMINA/DOCKED/ligand997/output44_ligand997_2023-11-22-15_52/best.pdbqt\n",
      "/media/lmeuret/Seagate Portable Drive/result_docking/DOCKING_project/Conan-main/receptors/output44.pdbqt\n"
     ]
    },
    {
     "data": {
      "application/vnd.jupyter.widget-view+json": {
       "model_id": "0447f31688974a92bbc176a1c9bfc8cf",
       "version_major": 2,
       "version_minor": 0
      },
      "text/plain": [
       "  0%|          | 0/1 [00:00<?, ?it/s]"
      ]
     },
     "metadata": {},
     "output_type": "display_data"
    },
    {
     "name": "stderr",
     "output_type": "stream",
     "text": [
      "\r",
      "Processing ligands: 778it [03:00,  4.44it/s]"
     ]
    },
    {
     "name": "stdout",
     "output_type": "stream",
     "text": [
      "/media/lmeuret/Seagate Portable Drive/result_docking/DOCKING_project/Conan-main/results_SMINA/DOCKED/ligand998/output44_ligand998_2023-11-22-15_52/best.pdbqt\n",
      "/media/lmeuret/Seagate Portable Drive/result_docking/DOCKING_project/Conan-main/receptors/output44.pdbqt\n"
     ]
    },
    {
     "data": {
      "application/vnd.jupyter.widget-view+json": {
       "model_id": "089499abed7e48f1a706d8afa51a6c4e",
       "version_major": 2,
       "version_minor": 0
      },
      "text/plain": [
       "  0%|          | 0/1 [00:00<?, ?it/s]"
      ]
     },
     "metadata": {},
     "output_type": "display_data"
    },
    {
     "name": "stderr",
     "output_type": "stream",
     "text": [
      "\r",
      "Processing ligands: 779it [03:00,  4.54it/s]"
     ]
    },
    {
     "name": "stdout",
     "output_type": "stream",
     "text": [
      "/media/lmeuret/Seagate Portable Drive/result_docking/DOCKING_project/Conan-main/results_SMINA/DOCKED/ligand999/output44_ligand999_2023-11-22-15_52/best.pdbqt\n",
      "/media/lmeuret/Seagate Portable Drive/result_docking/DOCKING_project/Conan-main/receptors/output44.pdbqt\n"
     ]
    },
    {
     "data": {
      "application/vnd.jupyter.widget-view+json": {
       "model_id": "8b88414cd22d482eb67f7a91401aceec",
       "version_major": 2,
       "version_minor": 0
      },
      "text/plain": [
       "  0%|          | 0/1 [00:00<?, ?it/s]"
      ]
     },
     "metadata": {},
     "output_type": "display_data"
    },
    {
     "name": "stderr",
     "output_type": "stream",
     "text": [
      "\r",
      "Processing ligands: 780it [03:01,  4.55it/s]"
     ]
    },
    {
     "name": "stdout",
     "output_type": "stream",
     "text": [
      "/media/lmeuret/Seagate Portable Drive/result_docking/DOCKING_project/Conan-main/results_SMINA/DOCKED/ligand292/output44_ligand292_2023-11-22-15_52/best.pdbqt\n",
      "/media/lmeuret/Seagate Portable Drive/result_docking/DOCKING_project/Conan-main/receptors/output44.pdbqt\n"
     ]
    },
    {
     "data": {
      "application/vnd.jupyter.widget-view+json": {
       "model_id": "b34520ddb79741a2a8d36f868050a95d",
       "version_major": 2,
       "version_minor": 0
      },
      "text/plain": [
       "  0%|          | 0/1 [00:00<?, ?it/s]"
      ]
     },
     "metadata": {},
     "output_type": "display_data"
    },
    {
     "name": "stderr",
     "output_type": "stream",
     "text": [
      "\r",
      "Processing ligands: 781it [03:01,  4.35it/s]"
     ]
    },
    {
     "name": "stdout",
     "output_type": "stream",
     "text": [
      "/media/lmeuret/Seagate Portable Drive/result_docking/DOCKING_project/Conan-main/results_SMINA/DOCKED/ligand293/output44_ligand293_2023-11-22-15_52/best.pdbqt\n",
      "/media/lmeuret/Seagate Portable Drive/result_docking/DOCKING_project/Conan-main/receptors/output44.pdbqt\n"
     ]
    },
    {
     "data": {
      "application/vnd.jupyter.widget-view+json": {
       "model_id": "3ca6398cacaa43f7969894b783ff4b49",
       "version_major": 2,
       "version_minor": 0
      },
      "text/plain": [
       "  0%|          | 0/1 [00:00<?, ?it/s]"
      ]
     },
     "metadata": {},
     "output_type": "display_data"
    },
    {
     "name": "stderr",
     "output_type": "stream",
     "text": [
      "\r",
      "Processing ligands: 782it [03:01,  4.31it/s]"
     ]
    },
    {
     "name": "stdout",
     "output_type": "stream",
     "text": [
      "/media/lmeuret/Seagate Portable Drive/result_docking/DOCKING_project/Conan-main/results_SMINA/DOCKED/ligand294/output44_ligand294_2023-11-22-15_52/best.pdbqt\n",
      "/media/lmeuret/Seagate Portable Drive/result_docking/DOCKING_project/Conan-main/receptors/output44.pdbqt\n"
     ]
    },
    {
     "data": {
      "application/vnd.jupyter.widget-view+json": {
       "model_id": "d1cffdec79574640ac08532cf2d5bf28",
       "version_major": 2,
       "version_minor": 0
      },
      "text/plain": [
       "  0%|          | 0/1 [00:00<?, ?it/s]"
      ]
     },
     "metadata": {},
     "output_type": "display_data"
    },
    {
     "name": "stderr",
     "output_type": "stream",
     "text": [
      "\r",
      "Processing ligands: 783it [03:01,  4.27it/s]"
     ]
    },
    {
     "name": "stdout",
     "output_type": "stream",
     "text": [
      "/media/lmeuret/Seagate Portable Drive/result_docking/DOCKING_project/Conan-main/results_SMINA/DOCKED/ligand295/output44_ligand295_2023-11-22-15_52/best.pdbqt\n",
      "/media/lmeuret/Seagate Portable Drive/result_docking/DOCKING_project/Conan-main/receptors/output44.pdbqt\n"
     ]
    },
    {
     "data": {
      "application/vnd.jupyter.widget-view+json": {
       "model_id": "c12052cc7bd042c79d9c9fded15f7a6d",
       "version_major": 2,
       "version_minor": 0
      },
      "text/plain": [
       "  0%|          | 0/1 [00:00<?, ?it/s]"
      ]
     },
     "metadata": {},
     "output_type": "display_data"
    },
    {
     "name": "stderr",
     "output_type": "stream",
     "text": [
      "\r",
      "Processing ligands: 784it [03:02,  4.30it/s]"
     ]
    },
    {
     "name": "stdout",
     "output_type": "stream",
     "text": [
      "/media/lmeuret/Seagate Portable Drive/result_docking/DOCKING_project/Conan-main/results_SMINA/DOCKED/ligand296/output44_ligand296_2023-11-22-15_52/best.pdbqt\n",
      "/media/lmeuret/Seagate Portable Drive/result_docking/DOCKING_project/Conan-main/receptors/output44.pdbqt\n"
     ]
    },
    {
     "data": {
      "application/vnd.jupyter.widget-view+json": {
       "model_id": "2e15447fbc3a4219abb3aa3eb8fbf9e2",
       "version_major": 2,
       "version_minor": 0
      },
      "text/plain": [
       "  0%|          | 0/1 [00:00<?, ?it/s]"
      ]
     },
     "metadata": {},
     "output_type": "display_data"
    },
    {
     "name": "stderr",
     "output_type": "stream",
     "text": [
      "\r",
      "Processing ligands: 785it [03:02,  4.30it/s]"
     ]
    },
    {
     "name": "stdout",
     "output_type": "stream",
     "text": [
      "/media/lmeuret/Seagate Portable Drive/result_docking/DOCKING_project/Conan-main/results_SMINA/DOCKED/ligand297/output44_ligand297_2023-11-22-15_52/best.pdbqt\n",
      "/media/lmeuret/Seagate Portable Drive/result_docking/DOCKING_project/Conan-main/receptors/output44.pdbqt\n"
     ]
    },
    {
     "data": {
      "application/vnd.jupyter.widget-view+json": {
       "model_id": "158f08fa4beb4746a7c7ab719d63645f",
       "version_major": 2,
       "version_minor": 0
      },
      "text/plain": [
       "  0%|          | 0/1 [00:00<?, ?it/s]"
      ]
     },
     "metadata": {},
     "output_type": "display_data"
    },
    {
     "name": "stderr",
     "output_type": "stream",
     "text": [
      "\r",
      "Processing ligands: 786it [03:02,  4.18it/s]"
     ]
    },
    {
     "name": "stdout",
     "output_type": "stream",
     "text": [
      "/media/lmeuret/Seagate Portable Drive/result_docking/DOCKING_project/Conan-main/results_SMINA/DOCKED/ligand298/output44_ligand298_2023-11-22-15_52/best.pdbqt\n",
      "/media/lmeuret/Seagate Portable Drive/result_docking/DOCKING_project/Conan-main/receptors/output44.pdbqt\n"
     ]
    },
    {
     "data": {
      "application/vnd.jupyter.widget-view+json": {
       "model_id": "a63fd0d25d354ba3885e93fa2575e149",
       "version_major": 2,
       "version_minor": 0
      },
      "text/plain": [
       "  0%|          | 0/1 [00:00<?, ?it/s]"
      ]
     },
     "metadata": {},
     "output_type": "display_data"
    },
    {
     "name": "stderr",
     "output_type": "stream",
     "text": [
      "\r",
      "Processing ligands: 787it [03:02,  4.15it/s]"
     ]
    },
    {
     "name": "stdout",
     "output_type": "stream",
     "text": [
      "/media/lmeuret/Seagate Portable Drive/result_docking/DOCKING_project/Conan-main/results_SMINA/DOCKED/ligand299/output44_ligand299_2023-11-22-15_52/best.pdbqt\n",
      "/media/lmeuret/Seagate Portable Drive/result_docking/DOCKING_project/Conan-main/receptors/output44.pdbqt\n"
     ]
    },
    {
     "data": {
      "application/vnd.jupyter.widget-view+json": {
       "model_id": "d795c083598e40a0828c9369bc6d4f05",
       "version_major": 2,
       "version_minor": 0
      },
      "text/plain": [
       "  0%|          | 0/1 [00:00<?, ?it/s]"
      ]
     },
     "metadata": {},
     "output_type": "display_data"
    },
    {
     "name": "stderr",
     "output_type": "stream",
     "text": [
      "\r",
      "Processing ligands: 788it [03:03,  4.21it/s]"
     ]
    },
    {
     "name": "stdout",
     "output_type": "stream",
     "text": [
      "/media/lmeuret/Seagate Portable Drive/result_docking/DOCKING_project/Conan-main/results_SMINA/DOCKED/ligand3/output44_ligand3_2023-11-22-15_52/best.pdbqt\n",
      "/media/lmeuret/Seagate Portable Drive/result_docking/DOCKING_project/Conan-main/receptors/output44.pdbqt\n"
     ]
    },
    {
     "data": {
      "application/vnd.jupyter.widget-view+json": {
       "model_id": "44cc1e2fc3434b918f956071bced8e22",
       "version_major": 2,
       "version_minor": 0
      },
      "text/plain": [
       "  0%|          | 0/1 [00:00<?, ?it/s]"
      ]
     },
     "metadata": {},
     "output_type": "display_data"
    },
    {
     "name": "stderr",
     "output_type": "stream",
     "text": [
      "\r",
      "Processing ligands: 789it [03:03,  4.07it/s]"
     ]
    },
    {
     "name": "stdout",
     "output_type": "stream",
     "text": [
      "/media/lmeuret/Seagate Portable Drive/result_docking/DOCKING_project/Conan-main/results_SMINA/DOCKED/ligand30/output44_ligand30_2023-11-22-15_52/best.pdbqt\n",
      "/media/lmeuret/Seagate Portable Drive/result_docking/DOCKING_project/Conan-main/receptors/output44.pdbqt\n"
     ]
    },
    {
     "data": {
      "application/vnd.jupyter.widget-view+json": {
       "model_id": "3751451291fc4915ac2fdf43ce0f573d",
       "version_major": 2,
       "version_minor": 0
      },
      "text/plain": [
       "  0%|          | 0/1 [00:00<?, ?it/s]"
      ]
     },
     "metadata": {},
     "output_type": "display_data"
    },
    {
     "name": "stderr",
     "output_type": "stream",
     "text": [
      "\r",
      "Processing ligands: 790it [03:03,  4.09it/s]"
     ]
    },
    {
     "name": "stdout",
     "output_type": "stream",
     "text": [
      "/media/lmeuret/Seagate Portable Drive/result_docking/DOCKING_project/Conan-main/results_SMINA/DOCKED/ligand300/output44_ligand300_2023-11-22-15_52/best.pdbqt\n",
      "/media/lmeuret/Seagate Portable Drive/result_docking/DOCKING_project/Conan-main/receptors/output44.pdbqt\n"
     ]
    },
    {
     "data": {
      "application/vnd.jupyter.widget-view+json": {
       "model_id": "fdc87e56cf2a4942b9c0a7252952c2b6",
       "version_major": 2,
       "version_minor": 0
      },
      "text/plain": [
       "  0%|          | 0/1 [00:00<?, ?it/s]"
      ]
     },
     "metadata": {},
     "output_type": "display_data"
    },
    {
     "name": "stderr",
     "output_type": "stream",
     "text": [
      "\r",
      "Processing ligands: 791it [03:03,  4.14it/s]"
     ]
    },
    {
     "name": "stdout",
     "output_type": "stream",
     "text": [
      "/media/lmeuret/Seagate Portable Drive/result_docking/DOCKING_project/Conan-main/results_SMINA/DOCKED/ligand301/output44_ligand301_2023-11-22-15_52/best.pdbqt\n",
      "/media/lmeuret/Seagate Portable Drive/result_docking/DOCKING_project/Conan-main/receptors/output44.pdbqt\n"
     ]
    },
    {
     "data": {
      "application/vnd.jupyter.widget-view+json": {
       "model_id": "47b10097931e4ff6a3f569bdafb58702",
       "version_major": 2,
       "version_minor": 0
      },
      "text/plain": [
       "  0%|          | 0/1 [00:00<?, ?it/s]"
      ]
     },
     "metadata": {},
     "output_type": "display_data"
    },
    {
     "name": "stderr",
     "output_type": "stream",
     "text": [
      "\r",
      "Processing ligands: 792it [03:04,  4.02it/s]"
     ]
    },
    {
     "name": "stdout",
     "output_type": "stream",
     "text": [
      "/media/lmeuret/Seagate Portable Drive/result_docking/DOCKING_project/Conan-main/results_SMINA/DOCKED/ligand302/output44_ligand302_2023-11-22-15_52/best.pdbqt\n",
      "/media/lmeuret/Seagate Portable Drive/result_docking/DOCKING_project/Conan-main/receptors/output44.pdbqt\n"
     ]
    },
    {
     "data": {
      "application/vnd.jupyter.widget-view+json": {
       "model_id": "60866fa3c6e243ec95c07670103d51d7",
       "version_major": 2,
       "version_minor": 0
      },
      "text/plain": [
       "  0%|          | 0/1 [00:00<?, ?it/s]"
      ]
     },
     "metadata": {},
     "output_type": "display_data"
    },
    {
     "name": "stderr",
     "output_type": "stream",
     "text": [
      "\r",
      "Processing ligands: 793it [03:04,  4.11it/s]"
     ]
    },
    {
     "name": "stdout",
     "output_type": "stream",
     "text": [
      "/media/lmeuret/Seagate Portable Drive/result_docking/DOCKING_project/Conan-main/results_SMINA/DOCKED/ligand303/output44_ligand303_2023-11-22-15_52/best.pdbqt\n",
      "/media/lmeuret/Seagate Portable Drive/result_docking/DOCKING_project/Conan-main/receptors/output44.pdbqt\n"
     ]
    },
    {
     "data": {
      "application/vnd.jupyter.widget-view+json": {
       "model_id": "819d3f7c9a744680abfc2965f2f07baf",
       "version_major": 2,
       "version_minor": 0
      },
      "text/plain": [
       "  0%|          | 0/1 [00:00<?, ?it/s]"
      ]
     },
     "metadata": {},
     "output_type": "display_data"
    },
    {
     "name": "stderr",
     "output_type": "stream",
     "text": [
      "\r",
      "Processing ligands: 794it [03:04,  4.06it/s]"
     ]
    },
    {
     "name": "stdout",
     "output_type": "stream",
     "text": [
      "/media/lmeuret/Seagate Portable Drive/result_docking/DOCKING_project/Conan-main/results_SMINA/DOCKED/ligand304/output44_ligand304_2023-11-22-15_52/best.pdbqt\n",
      "/media/lmeuret/Seagate Portable Drive/result_docking/DOCKING_project/Conan-main/receptors/output44.pdbqt\n"
     ]
    },
    {
     "data": {
      "application/vnd.jupyter.widget-view+json": {
       "model_id": "c3295930572c444ea73e60d96e3147b1",
       "version_major": 2,
       "version_minor": 0
      },
      "text/plain": [
       "  0%|          | 0/1 [00:00<?, ?it/s]"
      ]
     },
     "metadata": {},
     "output_type": "display_data"
    },
    {
     "name": "stderr",
     "output_type": "stream",
     "text": [
      "\r",
      "Processing ligands: 795it [03:04,  4.11it/s]"
     ]
    },
    {
     "name": "stdout",
     "output_type": "stream",
     "text": [
      "/media/lmeuret/Seagate Portable Drive/result_docking/DOCKING_project/Conan-main/results_SMINA/DOCKED/ligand305/output44_ligand305_2023-11-22-15_52/best.pdbqt\n",
      "/media/lmeuret/Seagate Portable Drive/result_docking/DOCKING_project/Conan-main/receptors/output44.pdbqt\n"
     ]
    },
    {
     "data": {
      "application/vnd.jupyter.widget-view+json": {
       "model_id": "e6d67d01302643b69b11870c0ffc6e97",
       "version_major": 2,
       "version_minor": 0
      },
      "text/plain": [
       "  0%|          | 0/1 [00:00<?, ?it/s]"
      ]
     },
     "metadata": {},
     "output_type": "display_data"
    },
    {
     "name": "stderr",
     "output_type": "stream",
     "text": [
      "\r",
      "Processing ligands: 796it [03:05,  3.92it/s]"
     ]
    },
    {
     "name": "stdout",
     "output_type": "stream",
     "text": [
      "/media/lmeuret/Seagate Portable Drive/result_docking/DOCKING_project/Conan-main/results_SMINA/DOCKED/ligand306/output44_ligand306_2023-11-22-15_52/best.pdbqt\n",
      "/media/lmeuret/Seagate Portable Drive/result_docking/DOCKING_project/Conan-main/receptors/output44.pdbqt\n"
     ]
    },
    {
     "data": {
      "application/vnd.jupyter.widget-view+json": {
       "model_id": "7c9b6073f860433fb2e9da4083d007bc",
       "version_major": 2,
       "version_minor": 0
      },
      "text/plain": [
       "  0%|          | 0/1 [00:00<?, ?it/s]"
      ]
     },
     "metadata": {},
     "output_type": "display_data"
    },
    {
     "name": "stderr",
     "output_type": "stream",
     "text": [
      "\r",
      "Processing ligands: 797it [03:05,  4.01it/s]"
     ]
    },
    {
     "name": "stdout",
     "output_type": "stream",
     "text": [
      "/media/lmeuret/Seagate Portable Drive/result_docking/DOCKING_project/Conan-main/results_SMINA/DOCKED/ligand307/output44_ligand307_2023-11-22-15_52/best.pdbqt\n",
      "/media/lmeuret/Seagate Portable Drive/result_docking/DOCKING_project/Conan-main/receptors/output44.pdbqt\n"
     ]
    },
    {
     "data": {
      "application/vnd.jupyter.widget-view+json": {
       "model_id": "97bb65c297144dac90365adea6d32b72",
       "version_major": 2,
       "version_minor": 0
      },
      "text/plain": [
       "  0%|          | 0/1 [00:00<?, ?it/s]"
      ]
     },
     "metadata": {},
     "output_type": "display_data"
    },
    {
     "name": "stderr",
     "output_type": "stream",
     "text": [
      "\r",
      "Processing ligands: 798it [03:05,  4.11it/s]"
     ]
    },
    {
     "name": "stdout",
     "output_type": "stream",
     "text": [
      "/media/lmeuret/Seagate Portable Drive/result_docking/DOCKING_project/Conan-main/results_SMINA/DOCKED/ligand308/output44_ligand308_2023-11-22-15_52/best.pdbqt\n",
      "/media/lmeuret/Seagate Portable Drive/result_docking/DOCKING_project/Conan-main/receptors/output44.pdbqt\n"
     ]
    },
    {
     "data": {
      "application/vnd.jupyter.widget-view+json": {
       "model_id": "29bd1b9ab26741f18a866f3b5e898bae",
       "version_major": 2,
       "version_minor": 0
      },
      "text/plain": [
       "  0%|          | 0/1 [00:00<?, ?it/s]"
      ]
     },
     "metadata": {},
     "output_type": "display_data"
    },
    {
     "name": "stderr",
     "output_type": "stream",
     "text": [
      "\r",
      "Processing ligands: 799it [03:05,  4.02it/s]"
     ]
    },
    {
     "name": "stdout",
     "output_type": "stream",
     "text": [
      "/media/lmeuret/Seagate Portable Drive/result_docking/DOCKING_project/Conan-main/results_SMINA/DOCKED/ligand309/output44_ligand309_2023-11-22-15_52/best.pdbqt\n",
      "/media/lmeuret/Seagate Portable Drive/result_docking/DOCKING_project/Conan-main/receptors/output44.pdbqt\n"
     ]
    },
    {
     "data": {
      "application/vnd.jupyter.widget-view+json": {
       "model_id": "b1169f5fea0242afb32615af3e5abf75",
       "version_major": 2,
       "version_minor": 0
      },
      "text/plain": [
       "  0%|          | 0/1 [00:00<?, ?it/s]"
      ]
     },
     "metadata": {},
     "output_type": "display_data"
    },
    {
     "name": "stderr",
     "output_type": "stream",
     "text": [
      "\r",
      "Processing ligands: 800it [03:06,  3.85it/s]"
     ]
    },
    {
     "name": "stdout",
     "output_type": "stream",
     "text": [
      "/media/lmeuret/Seagate Portable Drive/result_docking/DOCKING_project/Conan-main/results_SMINA/DOCKED/ligand31/output44_ligand31_2023-11-22-15_52/best.pdbqt\n",
      "/media/lmeuret/Seagate Portable Drive/result_docking/DOCKING_project/Conan-main/receptors/output44.pdbqt\n"
     ]
    },
    {
     "data": {
      "application/vnd.jupyter.widget-view+json": {
       "model_id": "f62f2a1928284e80808560afb0dba7a4",
       "version_major": 2,
       "version_minor": 0
      },
      "text/plain": [
       "  0%|          | 0/1 [00:00<?, ?it/s]"
      ]
     },
     "metadata": {},
     "output_type": "display_data"
    },
    {
     "name": "stderr",
     "output_type": "stream",
     "text": [
      "\r",
      "Processing ligands: 801it [03:06,  3.88it/s]"
     ]
    },
    {
     "name": "stdout",
     "output_type": "stream",
     "text": [
      "/media/lmeuret/Seagate Portable Drive/result_docking/DOCKING_project/Conan-main/results_SMINA/DOCKED/ligand310/output44_ligand310_2023-11-22-15_52/best.pdbqt\n",
      "/media/lmeuret/Seagate Portable Drive/result_docking/DOCKING_project/Conan-main/receptors/output44.pdbqt\n"
     ]
    },
    {
     "data": {
      "application/vnd.jupyter.widget-view+json": {
       "model_id": "57d6ad0ad6ac403cb754d090cf66c2e0",
       "version_major": 2,
       "version_minor": 0
      },
      "text/plain": [
       "  0%|          | 0/1 [00:00<?, ?it/s]"
      ]
     },
     "metadata": {},
     "output_type": "display_data"
    },
    {
     "name": "stderr",
     "output_type": "stream",
     "text": [
      "\r",
      "Processing ligands: 802it [03:06,  3.99it/s]"
     ]
    },
    {
     "name": "stdout",
     "output_type": "stream",
     "text": [
      "/media/lmeuret/Seagate Portable Drive/result_docking/DOCKING_project/Conan-main/results_SMINA/DOCKED/ligand311/output44_ligand311_2023-11-22-15_52/best.pdbqt\n",
      "/media/lmeuret/Seagate Portable Drive/result_docking/DOCKING_project/Conan-main/receptors/output44.pdbqt\n"
     ]
    },
    {
     "data": {
      "application/vnd.jupyter.widget-view+json": {
       "model_id": "11161c02bed14de2a123fa8988d31ff2",
       "version_major": 2,
       "version_minor": 0
      },
      "text/plain": [
       "  0%|          | 0/1 [00:00<?, ?it/s]"
      ]
     },
     "metadata": {},
     "output_type": "display_data"
    },
    {
     "name": "stderr",
     "output_type": "stream",
     "text": [
      "\r",
      "Processing ligands: 803it [03:06,  4.07it/s]"
     ]
    },
    {
     "name": "stdout",
     "output_type": "stream",
     "text": [
      "/media/lmeuret/Seagate Portable Drive/result_docking/DOCKING_project/Conan-main/results_SMINA/DOCKED/ligand312/output44_ligand312_2023-11-22-15_52/best.pdbqt\n",
      "/media/lmeuret/Seagate Portable Drive/result_docking/DOCKING_project/Conan-main/receptors/output44.pdbqt\n"
     ]
    },
    {
     "data": {
      "application/vnd.jupyter.widget-view+json": {
       "model_id": "ad57e94292754858b8b8a3aedcb09298",
       "version_major": 2,
       "version_minor": 0
      },
      "text/plain": [
       "  0%|          | 0/1 [00:00<?, ?it/s]"
      ]
     },
     "metadata": {},
     "output_type": "display_data"
    },
    {
     "name": "stderr",
     "output_type": "stream",
     "text": [
      "\r",
      "Processing ligands: 804it [03:07,  4.11it/s]"
     ]
    },
    {
     "name": "stdout",
     "output_type": "stream",
     "text": [
      "/media/lmeuret/Seagate Portable Drive/result_docking/DOCKING_project/Conan-main/results_SMINA/DOCKED/ligand206/output44_ligand206_2023-11-22-15_52/best.pdbqt\n",
      "/media/lmeuret/Seagate Portable Drive/result_docking/DOCKING_project/Conan-main/receptors/output44.pdbqt\n"
     ]
    },
    {
     "data": {
      "application/vnd.jupyter.widget-view+json": {
       "model_id": "cf7eb51737db44ab92896764c6a2b023",
       "version_major": 2,
       "version_minor": 0
      },
      "text/plain": [
       "  0%|          | 0/1 [00:00<?, ?it/s]"
      ]
     },
     "metadata": {},
     "output_type": "display_data"
    },
    {
     "name": "stderr",
     "output_type": "stream",
     "text": [
      "\r",
      "Processing ligands: 805it [03:07,  3.92it/s]"
     ]
    },
    {
     "name": "stdout",
     "output_type": "stream",
     "text": [
      "/media/lmeuret/Seagate Portable Drive/result_docking/DOCKING_project/Conan-main/results_SMINA/DOCKED/ligand208/output44_ligand208_2023-11-22-15_52/best.pdbqt\n",
      "/media/lmeuret/Seagate Portable Drive/result_docking/DOCKING_project/Conan-main/receptors/output44.pdbqt\n"
     ]
    },
    {
     "data": {
      "application/vnd.jupyter.widget-view+json": {
       "model_id": "131d933028624c12848b6fb2badf9493",
       "version_major": 2,
       "version_minor": 0
      },
      "text/plain": [
       "  0%|          | 0/1 [00:00<?, ?it/s]"
      ]
     },
     "metadata": {},
     "output_type": "display_data"
    },
    {
     "name": "stderr",
     "output_type": "stream",
     "text": [
      "\r",
      "Processing ligands: 806it [03:07,  4.09it/s]"
     ]
    },
    {
     "name": "stdout",
     "output_type": "stream",
     "text": [
      "/media/lmeuret/Seagate Portable Drive/result_docking/DOCKING_project/Conan-main/results_SMINA/DOCKED/ligand209/output44_ligand209_2023-11-22-15_52/best.pdbqt\n",
      "/media/lmeuret/Seagate Portable Drive/result_docking/DOCKING_project/Conan-main/receptors/output44.pdbqt\n"
     ]
    },
    {
     "data": {
      "application/vnd.jupyter.widget-view+json": {
       "model_id": "7644771fa63e4b4a8d0f8489ea1fb8ce",
       "version_major": 2,
       "version_minor": 0
      },
      "text/plain": [
       "  0%|          | 0/1 [00:00<?, ?it/s]"
      ]
     },
     "metadata": {},
     "output_type": "display_data"
    },
    {
     "name": "stderr",
     "output_type": "stream",
     "text": [
      "\r",
      "Processing ligands: 807it [03:07,  4.12it/s]"
     ]
    },
    {
     "name": "stdout",
     "output_type": "stream",
     "text": [
      "/media/lmeuret/Seagate Portable Drive/result_docking/DOCKING_project/Conan-main/results_SMINA/DOCKED/ligand21/output44_ligand21_2023-11-22-15_52/best.pdbqt\n",
      "/media/lmeuret/Seagate Portable Drive/result_docking/DOCKING_project/Conan-main/receptors/output44.pdbqt\n"
     ]
    },
    {
     "data": {
      "application/vnd.jupyter.widget-view+json": {
       "model_id": "74d04c254f8e49afa9984715b548c945",
       "version_major": 2,
       "version_minor": 0
      },
      "text/plain": [
       "  0%|          | 0/1 [00:00<?, ?it/s]"
      ]
     },
     "metadata": {},
     "output_type": "display_data"
    },
    {
     "name": "stderr",
     "output_type": "stream",
     "text": [
      "\r",
      "Processing ligands: 808it [03:08,  4.10it/s]"
     ]
    },
    {
     "name": "stdout",
     "output_type": "stream",
     "text": [
      "/media/lmeuret/Seagate Portable Drive/result_docking/DOCKING_project/Conan-main/results_SMINA/DOCKED/ligand210/output44_ligand210_2023-11-22-15_52/best.pdbqt\n",
      "/media/lmeuret/Seagate Portable Drive/result_docking/DOCKING_project/Conan-main/receptors/output44.pdbqt\n"
     ]
    },
    {
     "data": {
      "application/vnd.jupyter.widget-view+json": {
       "model_id": "b69169b52d424fcca43875a427b8eb75",
       "version_major": 2,
       "version_minor": 0
      },
      "text/plain": [
       "  0%|          | 0/1 [00:00<?, ?it/s]"
      ]
     },
     "metadata": {},
     "output_type": "display_data"
    },
    {
     "name": "stderr",
     "output_type": "stream",
     "text": [
      "\r",
      "Processing ligands: 809it [03:08,  4.07it/s]"
     ]
    },
    {
     "name": "stdout",
     "output_type": "stream",
     "text": [
      "/media/lmeuret/Seagate Portable Drive/result_docking/DOCKING_project/Conan-main/results_SMINA/DOCKED/ligand211/output44_ligand211_2023-11-22-15_52/best.pdbqt\n",
      "/media/lmeuret/Seagate Portable Drive/result_docking/DOCKING_project/Conan-main/receptors/output44.pdbqt\n"
     ]
    },
    {
     "data": {
      "application/vnd.jupyter.widget-view+json": {
       "model_id": "a98d4b6c5b9e430fa1679213f7d4192f",
       "version_major": 2,
       "version_minor": 0
      },
      "text/plain": [
       "  0%|          | 0/1 [00:00<?, ?it/s]"
      ]
     },
     "metadata": {},
     "output_type": "display_data"
    },
    {
     "name": "stderr",
     "output_type": "stream",
     "text": [
      "\r",
      "Processing ligands: 810it [03:08,  4.08it/s]"
     ]
    },
    {
     "name": "stdout",
     "output_type": "stream",
     "text": [
      "/media/lmeuret/Seagate Portable Drive/result_docking/DOCKING_project/Conan-main/results_SMINA/DOCKED/ligand212/output44_ligand212_2023-11-22-15_52/best.pdbqt\n",
      "/media/lmeuret/Seagate Portable Drive/result_docking/DOCKING_project/Conan-main/receptors/output44.pdbqt\n"
     ]
    },
    {
     "data": {
      "application/vnd.jupyter.widget-view+json": {
       "model_id": "a37fc660cebd4707a62bcae0d1d3e740",
       "version_major": 2,
       "version_minor": 0
      },
      "text/plain": [
       "  0%|          | 0/1 [00:00<?, ?it/s]"
      ]
     },
     "metadata": {},
     "output_type": "display_data"
    },
    {
     "name": "stderr",
     "output_type": "stream",
     "text": [
      "\r",
      "Processing ligands: 811it [03:08,  4.06it/s]"
     ]
    },
    {
     "name": "stdout",
     "output_type": "stream",
     "text": [
      "/media/lmeuret/Seagate Portable Drive/result_docking/DOCKING_project/Conan-main/results_SMINA/DOCKED/ligand213/output44_ligand213_2023-11-22-15_52/best.pdbqt\n",
      "/media/lmeuret/Seagate Portable Drive/result_docking/DOCKING_project/Conan-main/receptors/output44.pdbqt\n"
     ]
    },
    {
     "data": {
      "application/vnd.jupyter.widget-view+json": {
       "model_id": "dd3c923b75414b85818275377305d3a8",
       "version_major": 2,
       "version_minor": 0
      },
      "text/plain": [
       "  0%|          | 0/1 [00:00<?, ?it/s]"
      ]
     },
     "metadata": {},
     "output_type": "display_data"
    },
    {
     "name": "stderr",
     "output_type": "stream",
     "text": [
      "\r",
      "Processing ligands: 812it [03:09,  4.05it/s]"
     ]
    },
    {
     "name": "stdout",
     "output_type": "stream",
     "text": [
      "/media/lmeuret/Seagate Portable Drive/result_docking/DOCKING_project/Conan-main/results_SMINA/DOCKED/ligand214/output44_ligand214_2023-11-22-15_52/best.pdbqt\n",
      "/media/lmeuret/Seagate Portable Drive/result_docking/DOCKING_project/Conan-main/receptors/output44.pdbqt\n"
     ]
    },
    {
     "data": {
      "application/vnd.jupyter.widget-view+json": {
       "model_id": "4e8d2dd5e5f54f66a502a23f21cb59b9",
       "version_major": 2,
       "version_minor": 0
      },
      "text/plain": [
       "  0%|          | 0/1 [00:00<?, ?it/s]"
      ]
     },
     "metadata": {},
     "output_type": "display_data"
    },
    {
     "name": "stderr",
     "output_type": "stream",
     "text": [
      "\r",
      "Processing ligands: 813it [03:09,  4.06it/s]"
     ]
    },
    {
     "name": "stdout",
     "output_type": "stream",
     "text": [
      "/media/lmeuret/Seagate Portable Drive/result_docking/DOCKING_project/Conan-main/results_SMINA/DOCKED/ligand215/output44_ligand215_2023-11-22-15_52/best.pdbqt\n",
      "/media/lmeuret/Seagate Portable Drive/result_docking/DOCKING_project/Conan-main/receptors/output44.pdbqt\n"
     ]
    },
    {
     "data": {
      "application/vnd.jupyter.widget-view+json": {
       "model_id": "9b9a4683167d4687a35e3d9302c4a435",
       "version_major": 2,
       "version_minor": 0
      },
      "text/plain": [
       "  0%|          | 0/1 [00:00<?, ?it/s]"
      ]
     },
     "metadata": {},
     "output_type": "display_data"
    },
    {
     "name": "stderr",
     "output_type": "stream",
     "text": [
      "\r",
      "Processing ligands: 814it [03:09,  4.20it/s]"
     ]
    },
    {
     "name": "stdout",
     "output_type": "stream",
     "text": [
      "/media/lmeuret/Seagate Portable Drive/result_docking/DOCKING_project/Conan-main/results_SMINA/DOCKED/ligand216/output44_ligand216_2023-11-22-15_52/best.pdbqt\n",
      "/media/lmeuret/Seagate Portable Drive/result_docking/DOCKING_project/Conan-main/receptors/output44.pdbqt\n"
     ]
    },
    {
     "data": {
      "application/vnd.jupyter.widget-view+json": {
       "model_id": "21d51f255006416ab15acb5131ffa7c6",
       "version_major": 2,
       "version_minor": 0
      },
      "text/plain": [
       "  0%|          | 0/1 [00:00<?, ?it/s]"
      ]
     },
     "metadata": {},
     "output_type": "display_data"
    },
    {
     "name": "stderr",
     "output_type": "stream",
     "text": [
      "\r",
      "Processing ligands: 815it [03:09,  4.20it/s]"
     ]
    },
    {
     "name": "stdout",
     "output_type": "stream",
     "text": [
      "/media/lmeuret/Seagate Portable Drive/result_docking/DOCKING_project/Conan-main/results_SMINA/DOCKED/ligand217/output44_ligand217_2023-11-22-15_52/best.pdbqt\n",
      "/media/lmeuret/Seagate Portable Drive/result_docking/DOCKING_project/Conan-main/receptors/output44.pdbqt\n"
     ]
    },
    {
     "data": {
      "application/vnd.jupyter.widget-view+json": {
       "model_id": "6245027f693648399679b0e55ac86f5d",
       "version_major": 2,
       "version_minor": 0
      },
      "text/plain": [
       "  0%|          | 0/1 [00:00<?, ?it/s]"
      ]
     },
     "metadata": {},
     "output_type": "display_data"
    },
    {
     "name": "stderr",
     "output_type": "stream",
     "text": [
      "\r",
      "Processing ligands: 816it [03:09,  4.08it/s]"
     ]
    },
    {
     "name": "stdout",
     "output_type": "stream",
     "text": [
      "/media/lmeuret/Seagate Portable Drive/result_docking/DOCKING_project/Conan-main/results_SMINA/DOCKED/ligand218/output44_ligand218_2023-11-22-15_52/best.pdbqt\n",
      "/media/lmeuret/Seagate Portable Drive/result_docking/DOCKING_project/Conan-main/receptors/output44.pdbqt\n"
     ]
    },
    {
     "data": {
      "application/vnd.jupyter.widget-view+json": {
       "model_id": "87a18f6afe36416fb13144fc66ef37cd",
       "version_major": 2,
       "version_minor": 0
      },
      "text/plain": [
       "  0%|          | 0/1 [00:00<?, ?it/s]"
      ]
     },
     "metadata": {},
     "output_type": "display_data"
    },
    {
     "name": "stderr",
     "output_type": "stream",
     "text": [
      "\r",
      "Processing ligands: 817it [03:10,  4.19it/s]"
     ]
    },
    {
     "name": "stdout",
     "output_type": "stream",
     "text": [
      "/media/lmeuret/Seagate Portable Drive/result_docking/DOCKING_project/Conan-main/results_SMINA/DOCKED/ligand219/output44_ligand219_2023-11-22-15_52/best.pdbqt\n",
      "/media/lmeuret/Seagate Portable Drive/result_docking/DOCKING_project/Conan-main/receptors/output44.pdbqt\n"
     ]
    },
    {
     "data": {
      "application/vnd.jupyter.widget-view+json": {
       "model_id": "3d61f5f5bfc34a0fa6d243dedaa5550c",
       "version_major": 2,
       "version_minor": 0
      },
      "text/plain": [
       "  0%|          | 0/1 [00:00<?, ?it/s]"
      ]
     },
     "metadata": {},
     "output_type": "display_data"
    },
    {
     "name": "stderr",
     "output_type": "stream",
     "text": [
      "\r",
      "Processing ligands: 818it [03:10,  4.26it/s]"
     ]
    },
    {
     "name": "stdout",
     "output_type": "stream",
     "text": [
      "/media/lmeuret/Seagate Portable Drive/result_docking/DOCKING_project/Conan-main/results_SMINA/DOCKED/ligand22/output44_ligand22_2023-11-22-15_52/best.pdbqt\n",
      "/media/lmeuret/Seagate Portable Drive/result_docking/DOCKING_project/Conan-main/receptors/output44.pdbqt\n"
     ]
    },
    {
     "data": {
      "application/vnd.jupyter.widget-view+json": {
       "model_id": "36993f553cd64eca8076961f94405102",
       "version_major": 2,
       "version_minor": 0
      },
      "text/plain": [
       "  0%|          | 0/1 [00:00<?, ?it/s]"
      ]
     },
     "metadata": {},
     "output_type": "display_data"
    },
    {
     "name": "stderr",
     "output_type": "stream",
     "text": [
      "\r",
      "Processing ligands: 819it [03:10,  3.90it/s]"
     ]
    },
    {
     "name": "stdout",
     "output_type": "stream",
     "text": [
      "/media/lmeuret/Seagate Portable Drive/result_docking/DOCKING_project/Conan-main/results_SMINA/DOCKED/ligand220/output44_ligand220_2023-11-22-15_52/best.pdbqt\n",
      "/media/lmeuret/Seagate Portable Drive/result_docking/DOCKING_project/Conan-main/receptors/output44.pdbqt\n"
     ]
    },
    {
     "data": {
      "application/vnd.jupyter.widget-view+json": {
       "model_id": "b58f11c380c442d1bb0133e4b6184222",
       "version_major": 2,
       "version_minor": 0
      },
      "text/plain": [
       "  0%|          | 0/1 [00:00<?, ?it/s]"
      ]
     },
     "metadata": {},
     "output_type": "display_data"
    },
    {
     "name": "stderr",
     "output_type": "stream",
     "text": [
      "\r",
      "Processing ligands: 820it [03:10,  3.93it/s]"
     ]
    },
    {
     "name": "stdout",
     "output_type": "stream",
     "text": [
      "/media/lmeuret/Seagate Portable Drive/result_docking/DOCKING_project/Conan-main/results_SMINA/DOCKED/ligand221/output44_ligand221_2023-11-22-15_52/best.pdbqt\n",
      "/media/lmeuret/Seagate Portable Drive/result_docking/DOCKING_project/Conan-main/receptors/output44.pdbqt\n"
     ]
    },
    {
     "data": {
      "application/vnd.jupyter.widget-view+json": {
       "model_id": "a207d821051c4f9b8ee159c6240770d5",
       "version_major": 2,
       "version_minor": 0
      },
      "text/plain": [
       "  0%|          | 0/1 [00:00<?, ?it/s]"
      ]
     },
     "metadata": {},
     "output_type": "display_data"
    },
    {
     "name": "stderr",
     "output_type": "stream",
     "text": [
      "\r",
      "Processing ligands: 821it [03:11,  4.01it/s]"
     ]
    },
    {
     "name": "stdout",
     "output_type": "stream",
     "text": [
      "/media/lmeuret/Seagate Portable Drive/result_docking/DOCKING_project/Conan-main/results_SMINA/DOCKED/ligand222/output44_ligand222_2023-11-22-15_52/best.pdbqt\n",
      "/media/lmeuret/Seagate Portable Drive/result_docking/DOCKING_project/Conan-main/receptors/output44.pdbqt\n"
     ]
    },
    {
     "data": {
      "application/vnd.jupyter.widget-view+json": {
       "model_id": "dbc1c3f20bbe4419978ada7f68bea3a4",
       "version_major": 2,
       "version_minor": 0
      },
      "text/plain": [
       "  0%|          | 0/1 [00:00<?, ?it/s]"
      ]
     },
     "metadata": {},
     "output_type": "display_data"
    },
    {
     "name": "stderr",
     "output_type": "stream",
     "text": [
      "\r",
      "Processing ligands: 822it [03:11,  3.96it/s]"
     ]
    },
    {
     "name": "stdout",
     "output_type": "stream",
     "text": [
      "/media/lmeuret/Seagate Portable Drive/result_docking/DOCKING_project/Conan-main/results_SMINA/DOCKED/ligand223/output44_ligand223_2023-11-22-15_52/best.pdbqt\n",
      "/media/lmeuret/Seagate Portable Drive/result_docking/DOCKING_project/Conan-main/receptors/output44.pdbqt\n"
     ]
    },
    {
     "data": {
      "application/vnd.jupyter.widget-view+json": {
       "model_id": "fa404504950a4e50a57085dc6794d994",
       "version_major": 2,
       "version_minor": 0
      },
      "text/plain": [
       "  0%|          | 0/1 [00:00<?, ?it/s]"
      ]
     },
     "metadata": {},
     "output_type": "display_data"
    },
    {
     "name": "stderr",
     "output_type": "stream",
     "text": [
      "\r",
      "Processing ligands: 823it [03:11,  3.96it/s]"
     ]
    },
    {
     "name": "stdout",
     "output_type": "stream",
     "text": [
      "/media/lmeuret/Seagate Portable Drive/result_docking/DOCKING_project/Conan-main/results_SMINA/DOCKED/ligand224/output44_ligand224_2023-11-22-15_52/best.pdbqt\n",
      "/media/lmeuret/Seagate Portable Drive/result_docking/DOCKING_project/Conan-main/receptors/output44.pdbqt\n"
     ]
    },
    {
     "data": {
      "application/vnd.jupyter.widget-view+json": {
       "model_id": "e163b14fd700484a81f1b5c9e2d132e5",
       "version_major": 2,
       "version_minor": 0
      },
      "text/plain": [
       "  0%|          | 0/1 [00:00<?, ?it/s]"
      ]
     },
     "metadata": {},
     "output_type": "display_data"
    },
    {
     "name": "stderr",
     "output_type": "stream",
     "text": [
      "\r",
      "Processing ligands: 824it [03:12,  3.89it/s]"
     ]
    },
    {
     "name": "stdout",
     "output_type": "stream",
     "text": [
      "/media/lmeuret/Seagate Portable Drive/result_docking/DOCKING_project/Conan-main/results_SMINA/DOCKED/ligand225/output44_ligand225_2023-11-22-15_52/best.pdbqt\n",
      "/media/lmeuret/Seagate Portable Drive/result_docking/DOCKING_project/Conan-main/receptors/output44.pdbqt\n"
     ]
    },
    {
     "data": {
      "application/vnd.jupyter.widget-view+json": {
       "model_id": "74f5c06be3634bd3b5edaeb4ff7790bd",
       "version_major": 2,
       "version_minor": 0
      },
      "text/plain": [
       "  0%|          | 0/1 [00:00<?, ?it/s]"
      ]
     },
     "metadata": {},
     "output_type": "display_data"
    },
    {
     "name": "stderr",
     "output_type": "stream",
     "text": [
      "\r",
      "Processing ligands: 825it [03:12,  3.93it/s]"
     ]
    },
    {
     "name": "stdout",
     "output_type": "stream",
     "text": [
      "/media/lmeuret/Seagate Portable Drive/result_docking/DOCKING_project/Conan-main/results_SMINA/DOCKED/ligand226/output44_ligand226_2023-11-22-15_52/best.pdbqt\n",
      "/media/lmeuret/Seagate Portable Drive/result_docking/DOCKING_project/Conan-main/receptors/output44.pdbqt\n"
     ]
    },
    {
     "data": {
      "application/vnd.jupyter.widget-view+json": {
       "model_id": "d3e6247c0ede4583a80372d88d01824d",
       "version_major": 2,
       "version_minor": 0
      },
      "text/plain": [
       "  0%|          | 0/1 [00:00<?, ?it/s]"
      ]
     },
     "metadata": {},
     "output_type": "display_data"
    },
    {
     "name": "stderr",
     "output_type": "stream",
     "text": [
      "\r",
      "Processing ligands: 826it [03:12,  3.88it/s]"
     ]
    },
    {
     "name": "stdout",
     "output_type": "stream",
     "text": [
      "/media/lmeuret/Seagate Portable Drive/result_docking/DOCKING_project/Conan-main/results_SMINA/DOCKED/ligand227/output44_ligand227_2023-11-22-15_52/best.pdbqt\n",
      "/media/lmeuret/Seagate Portable Drive/result_docking/DOCKING_project/Conan-main/receptors/output44.pdbqt\n"
     ]
    },
    {
     "data": {
      "application/vnd.jupyter.widget-view+json": {
       "model_id": "5df9c9f27cf64cdf95ba34b8ae34534d",
       "version_major": 2,
       "version_minor": 0
      },
      "text/plain": [
       "  0%|          | 0/1 [00:00<?, ?it/s]"
      ]
     },
     "metadata": {},
     "output_type": "display_data"
    },
    {
     "name": "stderr",
     "output_type": "stream",
     "text": [
      "\r",
      "Processing ligands: 827it [03:12,  4.09it/s]"
     ]
    },
    {
     "name": "stdout",
     "output_type": "stream",
     "text": [
      "/media/lmeuret/Seagate Portable Drive/result_docking/DOCKING_project/Conan-main/results_SMINA/DOCKED/ligand162/output44_ligand162_2023-11-22-15_52/best.pdbqt\n",
      "/media/lmeuret/Seagate Portable Drive/result_docking/DOCKING_project/Conan-main/receptors/output44.pdbqt\n"
     ]
    },
    {
     "data": {
      "application/vnd.jupyter.widget-view+json": {
       "model_id": "2930f31edd254979ad2f5807c077aa99",
       "version_major": 2,
       "version_minor": 0
      },
      "text/plain": [
       "  0%|          | 0/1 [00:00<?, ?it/s]"
      ]
     },
     "metadata": {},
     "output_type": "display_data"
    },
    {
     "name": "stderr",
     "output_type": "stream",
     "text": [
      "\r",
      "Processing ligands: 828it [03:12,  4.13it/s]"
     ]
    },
    {
     "name": "stdout",
     "output_type": "stream",
     "text": [
      "/media/lmeuret/Seagate Portable Drive/result_docking/DOCKING_project/Conan-main/results_SMINA/DOCKED/ligand163/output44_ligand163_2023-11-22-15_52/best.pdbqt\n",
      "/media/lmeuret/Seagate Portable Drive/result_docking/DOCKING_project/Conan-main/receptors/output44.pdbqt\n"
     ]
    },
    {
     "data": {
      "application/vnd.jupyter.widget-view+json": {
       "model_id": "afabe305b969445db52abfa76d6cf5b8",
       "version_major": 2,
       "version_minor": 0
      },
      "text/plain": [
       "  0%|          | 0/1 [00:00<?, ?it/s]"
      ]
     },
     "metadata": {},
     "output_type": "display_data"
    },
    {
     "name": "stderr",
     "output_type": "stream",
     "text": [
      "\r",
      "Processing ligands: 829it [03:13,  4.03it/s]"
     ]
    },
    {
     "name": "stdout",
     "output_type": "stream",
     "text": [
      "/media/lmeuret/Seagate Portable Drive/result_docking/DOCKING_project/Conan-main/results_SMINA/DOCKED/ligand164/output44_ligand164_2023-11-22-15_52/best.pdbqt\n",
      "/media/lmeuret/Seagate Portable Drive/result_docking/DOCKING_project/Conan-main/receptors/output44.pdbqt\n"
     ]
    },
    {
     "data": {
      "application/vnd.jupyter.widget-view+json": {
       "model_id": "e82b90fbf9024c00b426b6d65cdedfc4",
       "version_major": 2,
       "version_minor": 0
      },
      "text/plain": [
       "  0%|          | 0/1 [00:00<?, ?it/s]"
      ]
     },
     "metadata": {},
     "output_type": "display_data"
    },
    {
     "name": "stderr",
     "output_type": "stream",
     "text": [
      "\r",
      "Processing ligands: 830it [03:13,  4.06it/s]"
     ]
    },
    {
     "name": "stdout",
     "output_type": "stream",
     "text": [
      "/media/lmeuret/Seagate Portable Drive/result_docking/DOCKING_project/Conan-main/results_SMINA/DOCKED/ligand165/output44_ligand165_2023-11-22-15_52/best.pdbqt\n",
      "/media/lmeuret/Seagate Portable Drive/result_docking/DOCKING_project/Conan-main/receptors/output44.pdbqt\n"
     ]
    },
    {
     "data": {
      "application/vnd.jupyter.widget-view+json": {
       "model_id": "1717be63fc8443aa9aa808730498fc3c",
       "version_major": 2,
       "version_minor": 0
      },
      "text/plain": [
       "  0%|          | 0/1 [00:00<?, ?it/s]"
      ]
     },
     "metadata": {},
     "output_type": "display_data"
    },
    {
     "name": "stderr",
     "output_type": "stream",
     "text": [
      "\r",
      "Processing ligands: 831it [03:13,  4.04it/s]"
     ]
    },
    {
     "name": "stdout",
     "output_type": "stream",
     "text": [
      "/media/lmeuret/Seagate Portable Drive/result_docking/DOCKING_project/Conan-main/results_SMINA/DOCKED/ligand166/output44_ligand166_2023-11-22-15_52/best.pdbqt\n",
      "/media/lmeuret/Seagate Portable Drive/result_docking/DOCKING_project/Conan-main/receptors/output44.pdbqt\n"
     ]
    },
    {
     "data": {
      "application/vnd.jupyter.widget-view+json": {
       "model_id": "6b07a22481cc4242ba60cc9710f7f016",
       "version_major": 2,
       "version_minor": 0
      },
      "text/plain": [
       "  0%|          | 0/1 [00:00<?, ?it/s]"
      ]
     },
     "metadata": {},
     "output_type": "display_data"
    },
    {
     "name": "stderr",
     "output_type": "stream",
     "text": [
      "\r",
      "Processing ligands: 832it [03:13,  4.15it/s]"
     ]
    },
    {
     "name": "stdout",
     "output_type": "stream",
     "text": [
      "/media/lmeuret/Seagate Portable Drive/result_docking/DOCKING_project/Conan-main/results_SMINA/DOCKED/ligand167/output44_ligand167_2023-11-22-15_52/best.pdbqt\n",
      "/media/lmeuret/Seagate Portable Drive/result_docking/DOCKING_project/Conan-main/receptors/output44.pdbqt\n"
     ]
    },
    {
     "data": {
      "application/vnd.jupyter.widget-view+json": {
       "model_id": "54eb9eb3b9a84f6da6db071dcf87c1ca",
       "version_major": 2,
       "version_minor": 0
      },
      "text/plain": [
       "  0%|          | 0/1 [00:00<?, ?it/s]"
      ]
     },
     "metadata": {},
     "output_type": "display_data"
    },
    {
     "name": "stderr",
     "output_type": "stream",
     "text": [
      "\r",
      "Processing ligands: 833it [03:14,  4.20it/s]"
     ]
    },
    {
     "name": "stdout",
     "output_type": "stream",
     "text": [
      "/media/lmeuret/Seagate Portable Drive/result_docking/DOCKING_project/Conan-main/results_SMINA/DOCKED/ligand168/output44_ligand168_2023-11-22-15_52/best.pdbqt\n",
      "/media/lmeuret/Seagate Portable Drive/result_docking/DOCKING_project/Conan-main/receptors/output44.pdbqt\n"
     ]
    },
    {
     "data": {
      "application/vnd.jupyter.widget-view+json": {
       "model_id": "e70f5ba6b8864be1b7759d42d1bbf664",
       "version_major": 2,
       "version_minor": 0
      },
      "text/plain": [
       "  0%|          | 0/1 [00:00<?, ?it/s]"
      ]
     },
     "metadata": {},
     "output_type": "display_data"
    },
    {
     "name": "stderr",
     "output_type": "stream",
     "text": [
      "\r",
      "Processing ligands: 834it [03:14,  4.32it/s]"
     ]
    },
    {
     "name": "stdout",
     "output_type": "stream",
     "text": [
      "/media/lmeuret/Seagate Portable Drive/result_docking/DOCKING_project/Conan-main/results_SMINA/DOCKED/ligand169/output44_ligand169_2023-11-22-15_52/best.pdbqt\n",
      "/media/lmeuret/Seagate Portable Drive/result_docking/DOCKING_project/Conan-main/receptors/output44.pdbqt\n"
     ]
    },
    {
     "data": {
      "application/vnd.jupyter.widget-view+json": {
       "model_id": "cc6199ecc2e14857b7a9ea1d418b9c09",
       "version_major": 2,
       "version_minor": 0
      },
      "text/plain": [
       "  0%|          | 0/1 [00:00<?, ?it/s]"
      ]
     },
     "metadata": {},
     "output_type": "display_data"
    },
    {
     "name": "stderr",
     "output_type": "stream",
     "text": [
      "\r",
      "Processing ligands: 835it [03:14,  4.25it/s]"
     ]
    },
    {
     "name": "stdout",
     "output_type": "stream",
     "text": [
      "/media/lmeuret/Seagate Portable Drive/result_docking/DOCKING_project/Conan-main/results_SMINA/DOCKED/ligand17/output44_ligand17_2023-11-22-15_52/best.pdbqt\n",
      "/media/lmeuret/Seagate Portable Drive/result_docking/DOCKING_project/Conan-main/receptors/output44.pdbqt\n"
     ]
    },
    {
     "data": {
      "application/vnd.jupyter.widget-view+json": {
       "model_id": "eb1f07ca7e7b43e492566a846bb761cd",
       "version_major": 2,
       "version_minor": 0
      },
      "text/plain": [
       "  0%|          | 0/1 [00:00<?, ?it/s]"
      ]
     },
     "metadata": {},
     "output_type": "display_data"
    },
    {
     "name": "stderr",
     "output_type": "stream",
     "text": [
      "\r",
      "Processing ligands: 836it [03:14,  4.31it/s]"
     ]
    },
    {
     "name": "stdout",
     "output_type": "stream",
     "text": [
      "/media/lmeuret/Seagate Portable Drive/result_docking/DOCKING_project/Conan-main/results_SMINA/DOCKED/ligand170/output44_ligand170_2023-11-22-15_52/best.pdbqt\n",
      "/media/lmeuret/Seagate Portable Drive/result_docking/DOCKING_project/Conan-main/receptors/output44.pdbqt\n"
     ]
    },
    {
     "data": {
      "application/vnd.jupyter.widget-view+json": {
       "model_id": "f660fccc2a674da3a05247352da44f01",
       "version_major": 2,
       "version_minor": 0
      },
      "text/plain": [
       "  0%|          | 0/1 [00:00<?, ?it/s]"
      ]
     },
     "metadata": {},
     "output_type": "display_data"
    },
    {
     "name": "stderr",
     "output_type": "stream",
     "text": [
      "\r",
      "Processing ligands: 837it [03:15,  4.26it/s]"
     ]
    },
    {
     "name": "stdout",
     "output_type": "stream",
     "text": [
      "/media/lmeuret/Seagate Portable Drive/result_docking/DOCKING_project/Conan-main/results_SMINA/DOCKED/ligand171/output44_ligand171_2023-11-22-15_52/best.pdbqt\n",
      "/media/lmeuret/Seagate Portable Drive/result_docking/DOCKING_project/Conan-main/receptors/output44.pdbqt\n"
     ]
    },
    {
     "data": {
      "application/vnd.jupyter.widget-view+json": {
       "model_id": "eeb550c6844f4941b59b4551ead73102",
       "version_major": 2,
       "version_minor": 0
      },
      "text/plain": [
       "  0%|          | 0/1 [00:00<?, ?it/s]"
      ]
     },
     "metadata": {},
     "output_type": "display_data"
    },
    {
     "name": "stderr",
     "output_type": "stream",
     "text": [
      "\r",
      "Processing ligands: 838it [03:15,  4.24it/s]"
     ]
    },
    {
     "name": "stdout",
     "output_type": "stream",
     "text": [
      "/media/lmeuret/Seagate Portable Drive/result_docking/DOCKING_project/Conan-main/results_SMINA/DOCKED/ligand172/output44_ligand172_2023-11-22-15_52/best.pdbqt\n",
      "/media/lmeuret/Seagate Portable Drive/result_docking/DOCKING_project/Conan-main/receptors/output44.pdbqt\n"
     ]
    },
    {
     "data": {
      "application/vnd.jupyter.widget-view+json": {
       "model_id": "b2c2515d30a04f228ddbb77ff37524e4",
       "version_major": 2,
       "version_minor": 0
      },
      "text/plain": [
       "  0%|          | 0/1 [00:00<?, ?it/s]"
      ]
     },
     "metadata": {},
     "output_type": "display_data"
    },
    {
     "name": "stderr",
     "output_type": "stream",
     "text": [
      "\r",
      "Processing ligands: 839it [03:15,  4.17it/s]"
     ]
    },
    {
     "name": "stdout",
     "output_type": "stream",
     "text": [
      "/media/lmeuret/Seagate Portable Drive/result_docking/DOCKING_project/Conan-main/results_SMINA/DOCKED/ligand173/output44_ligand173_2023-11-22-15_52/best.pdbqt\n",
      "/media/lmeuret/Seagate Portable Drive/result_docking/DOCKING_project/Conan-main/receptors/output44.pdbqt\n"
     ]
    },
    {
     "data": {
      "application/vnd.jupyter.widget-view+json": {
       "model_id": "40d3fd8ed514455faa050da2d2ab9363",
       "version_major": 2,
       "version_minor": 0
      },
      "text/plain": [
       "  0%|          | 0/1 [00:00<?, ?it/s]"
      ]
     },
     "metadata": {},
     "output_type": "display_data"
    },
    {
     "name": "stderr",
     "output_type": "stream",
     "text": [
      "\r",
      "Processing ligands: 840it [03:15,  4.12it/s]"
     ]
    },
    {
     "name": "stdout",
     "output_type": "stream",
     "text": [
      "/media/lmeuret/Seagate Portable Drive/result_docking/DOCKING_project/Conan-main/results_SMINA/DOCKED/ligand174/output44_ligand174_2023-11-22-15_52/best.pdbqt\n",
      "/media/lmeuret/Seagate Portable Drive/result_docking/DOCKING_project/Conan-main/receptors/output44.pdbqt\n"
     ]
    },
    {
     "data": {
      "application/vnd.jupyter.widget-view+json": {
       "model_id": "1d21a17d99f8409db96c458c2ec15e6c",
       "version_major": 2,
       "version_minor": 0
      },
      "text/plain": [
       "  0%|          | 0/1 [00:00<?, ?it/s]"
      ]
     },
     "metadata": {},
     "output_type": "display_data"
    },
    {
     "name": "stderr",
     "output_type": "stream",
     "text": [
      "\r",
      "Processing ligands: 841it [03:16,  4.14it/s]"
     ]
    },
    {
     "name": "stdout",
     "output_type": "stream",
     "text": [
      "/media/lmeuret/Seagate Portable Drive/result_docking/DOCKING_project/Conan-main/results_SMINA/DOCKED/ligand175/output44_ligand175_2023-11-22-15_52/best.pdbqt\n",
      "/media/lmeuret/Seagate Portable Drive/result_docking/DOCKING_project/Conan-main/receptors/output44.pdbqt\n"
     ]
    },
    {
     "data": {
      "application/vnd.jupyter.widget-view+json": {
       "model_id": "8aded1362c094ad88f51b7dec0caa7ef",
       "version_major": 2,
       "version_minor": 0
      },
      "text/plain": [
       "  0%|          | 0/1 [00:00<?, ?it/s]"
      ]
     },
     "metadata": {},
     "output_type": "display_data"
    },
    {
     "name": "stderr",
     "output_type": "stream",
     "text": [
      "\r",
      "Processing ligands: 842it [03:16,  4.11it/s]"
     ]
    },
    {
     "name": "stdout",
     "output_type": "stream",
     "text": [
      "/media/lmeuret/Seagate Portable Drive/result_docking/DOCKING_project/Conan-main/results_SMINA/DOCKED/ligand176/output44_ligand176_2023-11-22-15_52/best.pdbqt\n",
      "/media/lmeuret/Seagate Portable Drive/result_docking/DOCKING_project/Conan-main/receptors/output44.pdbqt\n"
     ]
    },
    {
     "data": {
      "application/vnd.jupyter.widget-view+json": {
       "model_id": "6880ddfed59640f583bfaee1de0ee608",
       "version_major": 2,
       "version_minor": 0
      },
      "text/plain": [
       "  0%|          | 0/1 [00:00<?, ?it/s]"
      ]
     },
     "metadata": {},
     "output_type": "display_data"
    },
    {
     "name": "stderr",
     "output_type": "stream",
     "text": [
      "\r",
      "Processing ligands: 843it [03:16,  4.13it/s]"
     ]
    },
    {
     "name": "stdout",
     "output_type": "stream",
     "text": [
      "/media/lmeuret/Seagate Portable Drive/result_docking/DOCKING_project/Conan-main/results_SMINA/DOCKED/ligand177/output44_ligand177_2023-11-22-15_52/best.pdbqt\n",
      "/media/lmeuret/Seagate Portable Drive/result_docking/DOCKING_project/Conan-main/receptors/output44.pdbqt\n"
     ]
    },
    {
     "data": {
      "application/vnd.jupyter.widget-view+json": {
       "model_id": "439a5e4648544776a336eb2c0666f6b8",
       "version_major": 2,
       "version_minor": 0
      },
      "text/plain": [
       "  0%|          | 0/1 [00:00<?, ?it/s]"
      ]
     },
     "metadata": {},
     "output_type": "display_data"
    },
    {
     "name": "stderr",
     "output_type": "stream",
     "text": [
      "\r",
      "Processing ligands: 844it [03:16,  4.22it/s]"
     ]
    },
    {
     "name": "stdout",
     "output_type": "stream",
     "text": [
      "/media/lmeuret/Seagate Portable Drive/result_docking/DOCKING_project/Conan-main/results_SMINA/DOCKED/ligand178/output44_ligand178_2023-11-22-15_52/best.pdbqt\n",
      "/media/lmeuret/Seagate Portable Drive/result_docking/DOCKING_project/Conan-main/receptors/output44.pdbqt\n"
     ]
    },
    {
     "data": {
      "application/vnd.jupyter.widget-view+json": {
       "model_id": "6736339c76e44c66951b7f735af62cea",
       "version_major": 2,
       "version_minor": 0
      },
      "text/plain": [
       "  0%|          | 0/1 [00:00<?, ?it/s]"
      ]
     },
     "metadata": {},
     "output_type": "display_data"
    },
    {
     "name": "stderr",
     "output_type": "stream",
     "text": [
      "\r",
      "Processing ligands: 845it [03:17,  3.92it/s]"
     ]
    },
    {
     "name": "stdout",
     "output_type": "stream",
     "text": [
      "/media/lmeuret/Seagate Portable Drive/result_docking/DOCKING_project/Conan-main/results_SMINA/DOCKED/ligand179/output44_ligand179_2023-11-22-15_52/best.pdbqt\n",
      "/media/lmeuret/Seagate Portable Drive/result_docking/DOCKING_project/Conan-main/receptors/output44.pdbqt\n"
     ]
    },
    {
     "data": {
      "application/vnd.jupyter.widget-view+json": {
       "model_id": "03a4843f44404a30a3a3a6795fa925b3",
       "version_major": 2,
       "version_minor": 0
      },
      "text/plain": [
       "  0%|          | 0/1 [00:00<?, ?it/s]"
      ]
     },
     "metadata": {},
     "output_type": "display_data"
    },
    {
     "name": "stderr",
     "output_type": "stream",
     "text": [
      "\r",
      "Processing ligands: 846it [03:17,  3.94it/s]"
     ]
    },
    {
     "name": "stdout",
     "output_type": "stream",
     "text": [
      "/media/lmeuret/Seagate Portable Drive/result_docking/DOCKING_project/Conan-main/results_SMINA/DOCKED/ligand18/output44_ligand18_2023-11-22-15_52/best.pdbqt\n",
      "/media/lmeuret/Seagate Portable Drive/result_docking/DOCKING_project/Conan-main/receptors/output44.pdbqt\n"
     ]
    },
    {
     "data": {
      "application/vnd.jupyter.widget-view+json": {
       "model_id": "c039413101b44e14b1fedc05dd3e2665",
       "version_major": 2,
       "version_minor": 0
      },
      "text/plain": [
       "  0%|          | 0/1 [00:00<?, ?it/s]"
      ]
     },
     "metadata": {},
     "output_type": "display_data"
    },
    {
     "name": "stderr",
     "output_type": "stream",
     "text": [
      "\r",
      "Processing ligands: 847it [03:17,  3.90it/s]"
     ]
    },
    {
     "name": "stdout",
     "output_type": "stream",
     "text": [
      "/media/lmeuret/Seagate Portable Drive/result_docking/DOCKING_project/Conan-main/results_SMINA/DOCKED/ligand180/output44_ligand180_2023-11-22-15_52/best.pdbqt\n",
      "/media/lmeuret/Seagate Portable Drive/result_docking/DOCKING_project/Conan-main/receptors/output44.pdbqt\n"
     ]
    },
    {
     "data": {
      "application/vnd.jupyter.widget-view+json": {
       "model_id": "bc5e55cc55c243b7b3f0015ed70bf1d8",
       "version_major": 2,
       "version_minor": 0
      },
      "text/plain": [
       "  0%|          | 0/1 [00:00<?, ?it/s]"
      ]
     },
     "metadata": {},
     "output_type": "display_data"
    },
    {
     "name": "stderr",
     "output_type": "stream",
     "text": [
      "\r",
      "Processing ligands: 848it [03:17,  3.89it/s]"
     ]
    },
    {
     "name": "stdout",
     "output_type": "stream",
     "text": [
      "/media/lmeuret/Seagate Portable Drive/result_docking/DOCKING_project/Conan-main/results_SMINA/DOCKED/ligand181/output44_ligand181_2023-11-22-15_52/best.pdbqt\n",
      "/media/lmeuret/Seagate Portable Drive/result_docking/DOCKING_project/Conan-main/receptors/output44.pdbqt\n"
     ]
    },
    {
     "data": {
      "application/vnd.jupyter.widget-view+json": {
       "model_id": "5ea20974ca714305b6c7f3f636b0b635",
       "version_major": 2,
       "version_minor": 0
      },
      "text/plain": [
       "  0%|          | 0/1 [00:00<?, ?it/s]"
      ]
     },
     "metadata": {},
     "output_type": "display_data"
    },
    {
     "name": "stderr",
     "output_type": "stream",
     "text": [
      "\r",
      "Processing ligands: 849it [03:18,  3.95it/s]"
     ]
    },
    {
     "name": "stdout",
     "output_type": "stream",
     "text": [
      "/media/lmeuret/Seagate Portable Drive/result_docking/DOCKING_project/Conan-main/results_SMINA/DOCKED/ligand863/output44_ligand863_2023-11-22-15_52/best.pdbqt\n",
      "/media/lmeuret/Seagate Portable Drive/result_docking/DOCKING_project/Conan-main/receptors/output44.pdbqt\n"
     ]
    },
    {
     "data": {
      "application/vnd.jupyter.widget-view+json": {
       "model_id": "bb9da53520f744b595017d5ab41836fb",
       "version_major": 2,
       "version_minor": 0
      },
      "text/plain": [
       "  0%|          | 0/1 [00:00<?, ?it/s]"
      ]
     },
     "metadata": {},
     "output_type": "display_data"
    },
    {
     "name": "stderr",
     "output_type": "stream",
     "text": [
      "\r",
      "Processing ligands: 850it [03:18,  3.93it/s]"
     ]
    },
    {
     "name": "stdout",
     "output_type": "stream",
     "text": [
      "/media/lmeuret/Seagate Portable Drive/result_docking/DOCKING_project/Conan-main/results_SMINA/DOCKED/ligand864/output44_ligand864_2023-11-22-15_52/best.pdbqt\n",
      "/media/lmeuret/Seagate Portable Drive/result_docking/DOCKING_project/Conan-main/receptors/output44.pdbqt\n"
     ]
    },
    {
     "data": {
      "application/vnd.jupyter.widget-view+json": {
       "model_id": "4a6a76b4615b47f48e0223e448ae1616",
       "version_major": 2,
       "version_minor": 0
      },
      "text/plain": [
       "  0%|          | 0/1 [00:00<?, ?it/s]"
      ]
     },
     "metadata": {},
     "output_type": "display_data"
    },
    {
     "name": "stderr",
     "output_type": "stream",
     "text": [
      "\r",
      "Processing ligands: 851it [03:18,  4.02it/s]"
     ]
    },
    {
     "name": "stdout",
     "output_type": "stream",
     "text": [
      "/media/lmeuret/Seagate Portable Drive/result_docking/DOCKING_project/Conan-main/results_SMINA/DOCKED/ligand865/output44_ligand865_2023-11-22-15_52/best.pdbqt\n",
      "/media/lmeuret/Seagate Portable Drive/result_docking/DOCKING_project/Conan-main/receptors/output44.pdbqt\n"
     ]
    },
    {
     "data": {
      "application/vnd.jupyter.widget-view+json": {
       "model_id": "e7d6a0a74faf4871ae56cb2899f76c81",
       "version_major": 2,
       "version_minor": 0
      },
      "text/plain": [
       "  0%|          | 0/1 [00:00<?, ?it/s]"
      ]
     },
     "metadata": {},
     "output_type": "display_data"
    },
    {
     "name": "stderr",
     "output_type": "stream",
     "text": [
      "\r",
      "Processing ligands: 852it [03:18,  4.10it/s]"
     ]
    },
    {
     "name": "stdout",
     "output_type": "stream",
     "text": [
      "/media/lmeuret/Seagate Portable Drive/result_docking/DOCKING_project/Conan-main/results_SMINA/DOCKED/ligand866/output44_ligand866_2023-11-22-15_52/best.pdbqt\n",
      "/media/lmeuret/Seagate Portable Drive/result_docking/DOCKING_project/Conan-main/receptors/output44.pdbqt\n"
     ]
    },
    {
     "data": {
      "application/vnd.jupyter.widget-view+json": {
       "model_id": "53384e935a554574893c18c25deb18b2",
       "version_major": 2,
       "version_minor": 0
      },
      "text/plain": [
       "  0%|          | 0/1 [00:00<?, ?it/s]"
      ]
     },
     "metadata": {},
     "output_type": "display_data"
    },
    {
     "name": "stderr",
     "output_type": "stream",
     "text": [
      "\r",
      "Processing ligands: 853it [03:19,  4.06it/s]"
     ]
    },
    {
     "name": "stdout",
     "output_type": "stream",
     "text": [
      "/media/lmeuret/Seagate Portable Drive/result_docking/DOCKING_project/Conan-main/results_SMINA/DOCKED/ligand867/output44_ligand867_2023-11-22-15_52/best.pdbqt\n",
      "/media/lmeuret/Seagate Portable Drive/result_docking/DOCKING_project/Conan-main/receptors/output44.pdbqt\n"
     ]
    },
    {
     "data": {
      "application/vnd.jupyter.widget-view+json": {
       "model_id": "bbec2114d1894127aaef690862d6bdd0",
       "version_major": 2,
       "version_minor": 0
      },
      "text/plain": [
       "  0%|          | 0/1 [00:00<?, ?it/s]"
      ]
     },
     "metadata": {},
     "output_type": "display_data"
    },
    {
     "name": "stderr",
     "output_type": "stream",
     "text": [
      "\r",
      "Processing ligands: 854it [03:19,  3.99it/s]"
     ]
    },
    {
     "name": "stdout",
     "output_type": "stream",
     "text": [
      "/media/lmeuret/Seagate Portable Drive/result_docking/DOCKING_project/Conan-main/results_SMINA/DOCKED/ligand868/output44_ligand868_2023-11-22-15_52/best.pdbqt\n",
      "/media/lmeuret/Seagate Portable Drive/result_docking/DOCKING_project/Conan-main/receptors/output44.pdbqt\n"
     ]
    },
    {
     "data": {
      "application/vnd.jupyter.widget-view+json": {
       "model_id": "b7ec4fb472b249f6bf0492af2b1b2b98",
       "version_major": 2,
       "version_minor": 0
      },
      "text/plain": [
       "  0%|          | 0/1 [00:00<?, ?it/s]"
      ]
     },
     "metadata": {},
     "output_type": "display_data"
    },
    {
     "name": "stderr",
     "output_type": "stream",
     "text": [
      "\r",
      "Processing ligands: 855it [03:19,  4.09it/s]"
     ]
    },
    {
     "name": "stdout",
     "output_type": "stream",
     "text": [
      "/media/lmeuret/Seagate Portable Drive/result_docking/DOCKING_project/Conan-main/results_SMINA/DOCKED/ligand869/output44_ligand869_2023-11-22-15_52/best.pdbqt\n",
      "/media/lmeuret/Seagate Portable Drive/result_docking/DOCKING_project/Conan-main/receptors/output44.pdbqt\n"
     ]
    },
    {
     "data": {
      "application/vnd.jupyter.widget-view+json": {
       "model_id": "71efed1e9742423286d51b1a58eda721",
       "version_major": 2,
       "version_minor": 0
      },
      "text/plain": [
       "  0%|          | 0/1 [00:00<?, ?it/s]"
      ]
     },
     "metadata": {},
     "output_type": "display_data"
    },
    {
     "name": "stderr",
     "output_type": "stream",
     "text": [
      "\r",
      "Processing ligands: 856it [03:19,  4.23it/s]"
     ]
    },
    {
     "name": "stdout",
     "output_type": "stream",
     "text": [
      "/media/lmeuret/Seagate Portable Drive/result_docking/DOCKING_project/Conan-main/results_SMINA/DOCKED/ligand87/output44_ligand87_2023-11-22-15_52/best.pdbqt\n",
      "/media/lmeuret/Seagate Portable Drive/result_docking/DOCKING_project/Conan-main/receptors/output44.pdbqt\n"
     ]
    },
    {
     "data": {
      "application/vnd.jupyter.widget-view+json": {
       "model_id": "e5c2f3975c1c4137b91a9b923a28ae63",
       "version_major": 2,
       "version_minor": 0
      },
      "text/plain": [
       "  0%|          | 0/1 [00:00<?, ?it/s]"
      ]
     },
     "metadata": {},
     "output_type": "display_data"
    },
    {
     "name": "stderr",
     "output_type": "stream",
     "text": [
      "\r",
      "Processing ligands: 857it [03:20,  4.35it/s]"
     ]
    },
    {
     "name": "stdout",
     "output_type": "stream",
     "text": [
      "/media/lmeuret/Seagate Portable Drive/result_docking/DOCKING_project/Conan-main/results_SMINA/DOCKED/ligand870/output44_ligand870_2023-11-22-15_52/best.pdbqt\n",
      "/media/lmeuret/Seagate Portable Drive/result_docking/DOCKING_project/Conan-main/receptors/output44.pdbqt\n"
     ]
    },
    {
     "data": {
      "application/vnd.jupyter.widget-view+json": {
       "model_id": "7fcc1a5132134b6caceefc3b9458c31a",
       "version_major": 2,
       "version_minor": 0
      },
      "text/plain": [
       "  0%|          | 0/1 [00:00<?, ?it/s]"
      ]
     },
     "metadata": {},
     "output_type": "display_data"
    },
    {
     "name": "stderr",
     "output_type": "stream",
     "text": [
      "\r",
      "Processing ligands: 858it [03:20,  4.43it/s]"
     ]
    },
    {
     "name": "stdout",
     "output_type": "stream",
     "text": [
      "/media/lmeuret/Seagate Portable Drive/result_docking/DOCKING_project/Conan-main/results_SMINA/DOCKED/ligand871/output44_ligand871_2023-11-22-15_52/best.pdbqt\n",
      "/media/lmeuret/Seagate Portable Drive/result_docking/DOCKING_project/Conan-main/receptors/output44.pdbqt\n"
     ]
    },
    {
     "data": {
      "application/vnd.jupyter.widget-view+json": {
       "model_id": "ae15fe84866a446f948c5b4373a211db",
       "version_major": 2,
       "version_minor": 0
      },
      "text/plain": [
       "  0%|          | 0/1 [00:00<?, ?it/s]"
      ]
     },
     "metadata": {},
     "output_type": "display_data"
    },
    {
     "name": "stderr",
     "output_type": "stream",
     "text": [
      "\r",
      "Processing ligands: 859it [03:20,  3.84it/s]"
     ]
    },
    {
     "name": "stdout",
     "output_type": "stream",
     "text": [
      "/media/lmeuret/Seagate Portable Drive/result_docking/DOCKING_project/Conan-main/results_SMINA/DOCKED/ligand872/output44_ligand872_2023-11-22-15_52/best.pdbqt\n",
      "/media/lmeuret/Seagate Portable Drive/result_docking/DOCKING_project/Conan-main/receptors/output44.pdbqt\n"
     ]
    },
    {
     "data": {
      "application/vnd.jupyter.widget-view+json": {
       "model_id": "2d1fed49646e458fbc6ce27d98bc0515",
       "version_major": 2,
       "version_minor": 0
      },
      "text/plain": [
       "  0%|          | 0/1 [00:00<?, ?it/s]"
      ]
     },
     "metadata": {},
     "output_type": "display_data"
    },
    {
     "name": "stderr",
     "output_type": "stream",
     "text": [
      "\r",
      "Processing ligands: 860it [03:20,  3.89it/s]"
     ]
    },
    {
     "name": "stdout",
     "output_type": "stream",
     "text": [
      "/media/lmeuret/Seagate Portable Drive/result_docking/DOCKING_project/Conan-main/results_SMINA/DOCKED/ligand873/output44_ligand873_2023-11-22-15_52/best.pdbqt\n",
      "/media/lmeuret/Seagate Portable Drive/result_docking/DOCKING_project/Conan-main/receptors/output44.pdbqt\n"
     ]
    },
    {
     "data": {
      "application/vnd.jupyter.widget-view+json": {
       "model_id": "17f35735b4604bb7b994adb51fa40037",
       "version_major": 2,
       "version_minor": 0
      },
      "text/plain": [
       "  0%|          | 0/1 [00:00<?, ?it/s]"
      ]
     },
     "metadata": {},
     "output_type": "display_data"
    },
    {
     "name": "stderr",
     "output_type": "stream",
     "text": [
      "\r",
      "Processing ligands: 861it [03:21,  3.89it/s]"
     ]
    },
    {
     "name": "stdout",
     "output_type": "stream",
     "text": [
      "/media/lmeuret/Seagate Portable Drive/result_docking/DOCKING_project/Conan-main/results_SMINA/DOCKED/ligand874/output44_ligand874_2023-11-22-15_52/best.pdbqt\n",
      "/media/lmeuret/Seagate Portable Drive/result_docking/DOCKING_project/Conan-main/receptors/output44.pdbqt\n"
     ]
    },
    {
     "data": {
      "application/vnd.jupyter.widget-view+json": {
       "model_id": "38f4e61ff3a34098a361c7f3627b0f30",
       "version_major": 2,
       "version_minor": 0
      },
      "text/plain": [
       "  0%|          | 0/1 [00:00<?, ?it/s]"
      ]
     },
     "metadata": {},
     "output_type": "display_data"
    },
    {
     "name": "stderr",
     "output_type": "stream",
     "text": [
      "\r",
      "Processing ligands: 862it [03:21,  3.89it/s]"
     ]
    },
    {
     "name": "stdout",
     "output_type": "stream",
     "text": [
      "/media/lmeuret/Seagate Portable Drive/result_docking/DOCKING_project/Conan-main/results_SMINA/DOCKED/ligand875/output44_ligand875_2023-11-22-15_52/best.pdbqt\n",
      "/media/lmeuret/Seagate Portable Drive/result_docking/DOCKING_project/Conan-main/receptors/output44.pdbqt\n"
     ]
    },
    {
     "data": {
      "application/vnd.jupyter.widget-view+json": {
       "model_id": "9f0266f75b0f4ad7830997fac40b5c66",
       "version_major": 2,
       "version_minor": 0
      },
      "text/plain": [
       "  0%|          | 0/1 [00:00<?, ?it/s]"
      ]
     },
     "metadata": {},
     "output_type": "display_data"
    },
    {
     "name": "stderr",
     "output_type": "stream",
     "text": [
      "\r",
      "Processing ligands: 863it [03:21,  3.93it/s]"
     ]
    },
    {
     "name": "stdout",
     "output_type": "stream",
     "text": [
      "/media/lmeuret/Seagate Portable Drive/result_docking/DOCKING_project/Conan-main/results_SMINA/DOCKED/ligand876/output44_ligand876_2023-11-22-15_52/best.pdbqt\n",
      "/media/lmeuret/Seagate Portable Drive/result_docking/DOCKING_project/Conan-main/receptors/output44.pdbqt\n"
     ]
    },
    {
     "data": {
      "application/vnd.jupyter.widget-view+json": {
       "model_id": "0bbc504643fd4078bd2cd0f2e642e30a",
       "version_major": 2,
       "version_minor": 0
      },
      "text/plain": [
       "  0%|          | 0/1 [00:00<?, ?it/s]"
      ]
     },
     "metadata": {},
     "output_type": "display_data"
    },
    {
     "name": "stderr",
     "output_type": "stream",
     "text": [
      "\r",
      "Processing ligands: 864it [03:21,  3.99it/s]"
     ]
    },
    {
     "name": "stdout",
     "output_type": "stream",
     "text": [
      "/media/lmeuret/Seagate Portable Drive/result_docking/DOCKING_project/Conan-main/results_SMINA/DOCKED/ligand877/output44_ligand877_2023-11-22-15_52/best.pdbqt\n",
      "/media/lmeuret/Seagate Portable Drive/result_docking/DOCKING_project/Conan-main/receptors/output44.pdbqt\n"
     ]
    },
    {
     "data": {
      "application/vnd.jupyter.widget-view+json": {
       "model_id": "b263542938ae40bf85f9f2e5082be75c",
       "version_major": 2,
       "version_minor": 0
      },
      "text/plain": [
       "  0%|          | 0/1 [00:00<?, ?it/s]"
      ]
     },
     "metadata": {},
     "output_type": "display_data"
    },
    {
     "name": "stderr",
     "output_type": "stream",
     "text": [
      "\r",
      "Processing ligands: 865it [03:22,  4.06it/s]"
     ]
    },
    {
     "name": "stdout",
     "output_type": "stream",
     "text": [
      "/media/lmeuret/Seagate Portable Drive/result_docking/DOCKING_project/Conan-main/results_SMINA/DOCKED/ligand878/output44_ligand878_2023-11-22-15_52/best.pdbqt\n",
      "/media/lmeuret/Seagate Portable Drive/result_docking/DOCKING_project/Conan-main/receptors/output44.pdbqt\n"
     ]
    },
    {
     "data": {
      "application/vnd.jupyter.widget-view+json": {
       "model_id": "72bf10530967402db407ed4574afdbd4",
       "version_major": 2,
       "version_minor": 0
      },
      "text/plain": [
       "  0%|          | 0/1 [00:00<?, ?it/s]"
      ]
     },
     "metadata": {},
     "output_type": "display_data"
    },
    {
     "name": "stderr",
     "output_type": "stream",
     "text": [
      "\r",
      "Processing ligands: 866it [03:22,  4.09it/s]"
     ]
    },
    {
     "name": "stdout",
     "output_type": "stream",
     "text": [
      "/media/lmeuret/Seagate Portable Drive/result_docking/DOCKING_project/Conan-main/results_SMINA/DOCKED/ligand879/output44_ligand879_2023-11-22-15_52/best.pdbqt\n",
      "/media/lmeuret/Seagate Portable Drive/result_docking/DOCKING_project/Conan-main/receptors/output44.pdbqt\n"
     ]
    },
    {
     "data": {
      "application/vnd.jupyter.widget-view+json": {
       "model_id": "2e0f672beca24b4d939759a9c0fc5c15",
       "version_major": 2,
       "version_minor": 0
      },
      "text/plain": [
       "  0%|          | 0/1 [00:00<?, ?it/s]"
      ]
     },
     "metadata": {},
     "output_type": "display_data"
    },
    {
     "name": "stderr",
     "output_type": "stream",
     "text": [
      "\r",
      "Processing ligands: 867it [03:22,  4.14it/s]"
     ]
    },
    {
     "name": "stdout",
     "output_type": "stream",
     "text": [
      "/media/lmeuret/Seagate Portable Drive/result_docking/DOCKING_project/Conan-main/results_SMINA/DOCKED/ligand88/output44_ligand88_2023-11-22-15_52/best.pdbqt\n",
      "/media/lmeuret/Seagate Portable Drive/result_docking/DOCKING_project/Conan-main/receptors/output44.pdbqt\n"
     ]
    },
    {
     "data": {
      "application/vnd.jupyter.widget-view+json": {
       "model_id": "c18898b755224cccb159b17662d22ad9",
       "version_major": 2,
       "version_minor": 0
      },
      "text/plain": [
       "  0%|          | 0/1 [00:00<?, ?it/s]"
      ]
     },
     "metadata": {},
     "output_type": "display_data"
    },
    {
     "name": "stderr",
     "output_type": "stream",
     "text": [
      "\r",
      "Processing ligands: 868it [03:22,  4.02it/s]"
     ]
    },
    {
     "name": "stdout",
     "output_type": "stream",
     "text": [
      "/media/lmeuret/Seagate Portable Drive/result_docking/DOCKING_project/Conan-main/results_SMINA/DOCKED/ligand880/output44_ligand880_2023-11-22-15_52/best.pdbqt\n",
      "/media/lmeuret/Seagate Portable Drive/result_docking/DOCKING_project/Conan-main/receptors/output44.pdbqt\n"
     ]
    },
    {
     "data": {
      "application/vnd.jupyter.widget-view+json": {
       "model_id": "0632abdb460b4422bdf4dde69cf2ac6f",
       "version_major": 2,
       "version_minor": 0
      },
      "text/plain": [
       "  0%|          | 0/1 [00:00<?, ?it/s]"
      ]
     },
     "metadata": {},
     "output_type": "display_data"
    },
    {
     "name": "stderr",
     "output_type": "stream",
     "text": [
      "\r",
      "Processing ligands: 869it [03:23,  3.96it/s]"
     ]
    },
    {
     "name": "stdout",
     "output_type": "stream",
     "text": [
      "/media/lmeuret/Seagate Portable Drive/result_docking/DOCKING_project/Conan-main/results_SMINA/DOCKED/ligand589/output44_ligand589_2023-11-22-15_52/best.pdbqt\n",
      "/media/lmeuret/Seagate Portable Drive/result_docking/DOCKING_project/Conan-main/receptors/output44.pdbqt\n"
     ]
    },
    {
     "data": {
      "application/vnd.jupyter.widget-view+json": {
       "model_id": "9873a7c8512c42708abaad4bb00905e9",
       "version_major": 2,
       "version_minor": 0
      },
      "text/plain": [
       "  0%|          | 0/1 [00:00<?, ?it/s]"
      ]
     },
     "metadata": {},
     "output_type": "display_data"
    },
    {
     "name": "stderr",
     "output_type": "stream",
     "text": [
      "\r",
      "Processing ligands: 870it [03:23,  3.88it/s]"
     ]
    },
    {
     "name": "stdout",
     "output_type": "stream",
     "text": [
      "/media/lmeuret/Seagate Portable Drive/result_docking/DOCKING_project/Conan-main/results_SMINA/DOCKED/ligand59/output44_ligand59_2023-11-22-15_52/best.pdbqt\n",
      "/media/lmeuret/Seagate Portable Drive/result_docking/DOCKING_project/Conan-main/receptors/output44.pdbqt\n"
     ]
    },
    {
     "data": {
      "application/vnd.jupyter.widget-view+json": {
       "model_id": "fa56586bbd3540a6b01dd64209768111",
       "version_major": 2,
       "version_minor": 0
      },
      "text/plain": [
       "  0%|          | 0/1 [00:00<?, ?it/s]"
      ]
     },
     "metadata": {},
     "output_type": "display_data"
    },
    {
     "name": "stderr",
     "output_type": "stream",
     "text": [
      "\r",
      "Processing ligands: 871it [03:23,  3.84it/s]"
     ]
    },
    {
     "name": "stdout",
     "output_type": "stream",
     "text": [
      "/media/lmeuret/Seagate Portable Drive/result_docking/DOCKING_project/Conan-main/results_SMINA/DOCKED/ligand590/output44_ligand590_2023-11-22-15_52/best.pdbqt\n",
      "/media/lmeuret/Seagate Portable Drive/result_docking/DOCKING_project/Conan-main/receptors/output44.pdbqt\n"
     ]
    },
    {
     "data": {
      "application/vnd.jupyter.widget-view+json": {
       "model_id": "041a212c44b342338794d9d9cc9fc4c4",
       "version_major": 2,
       "version_minor": 0
      },
      "text/plain": [
       "  0%|          | 0/1 [00:00<?, ?it/s]"
      ]
     },
     "metadata": {},
     "output_type": "display_data"
    },
    {
     "name": "stderr",
     "output_type": "stream",
     "text": [
      "\r",
      "Processing ligands: 872it [03:23,  3.84it/s]"
     ]
    },
    {
     "name": "stdout",
     "output_type": "stream",
     "text": [
      "/media/lmeuret/Seagate Portable Drive/result_docking/DOCKING_project/Conan-main/results_SMINA/DOCKED/ligand591/output44_ligand591_2023-11-22-15_52/best.pdbqt\n",
      "/media/lmeuret/Seagate Portable Drive/result_docking/DOCKING_project/Conan-main/receptors/output44.pdbqt\n"
     ]
    },
    {
     "data": {
      "application/vnd.jupyter.widget-view+json": {
       "model_id": "056e1c81953c47d4a7e8b5da19dcb378",
       "version_major": 2,
       "version_minor": 0
      },
      "text/plain": [
       "  0%|          | 0/1 [00:00<?, ?it/s]"
      ]
     },
     "metadata": {},
     "output_type": "display_data"
    },
    {
     "name": "stderr",
     "output_type": "stream",
     "text": [
      "\r",
      "Processing ligands: 873it [03:24,  3.89it/s]"
     ]
    },
    {
     "name": "stdout",
     "output_type": "stream",
     "text": [
      "/media/lmeuret/Seagate Portable Drive/result_docking/DOCKING_project/Conan-main/results_SMINA/DOCKED/ligand592/output44_ligand592_2023-11-22-15_52/best.pdbqt\n",
      "/media/lmeuret/Seagate Portable Drive/result_docking/DOCKING_project/Conan-main/receptors/output44.pdbqt\n"
     ]
    },
    {
     "data": {
      "application/vnd.jupyter.widget-view+json": {
       "model_id": "3faf81dca61f49d6aef83aea95912b0a",
       "version_major": 2,
       "version_minor": 0
      },
      "text/plain": [
       "  0%|          | 0/1 [00:00<?, ?it/s]"
      ]
     },
     "metadata": {},
     "output_type": "display_data"
    },
    {
     "name": "stderr",
     "output_type": "stream",
     "text": [
      "\r",
      "Processing ligands: 874it [03:24,  3.76it/s]"
     ]
    },
    {
     "name": "stdout",
     "output_type": "stream",
     "text": [
      "/media/lmeuret/Seagate Portable Drive/result_docking/DOCKING_project/Conan-main/results_SMINA/DOCKED/ligand593/output44_ligand593_2023-11-22-15_52/best.pdbqt\n",
      "/media/lmeuret/Seagate Portable Drive/result_docking/DOCKING_project/Conan-main/receptors/output44.pdbqt\n"
     ]
    },
    {
     "data": {
      "application/vnd.jupyter.widget-view+json": {
       "model_id": "2e3d7f1938d44c79b758e4d46f000ea9",
       "version_major": 2,
       "version_minor": 0
      },
      "text/plain": [
       "  0%|          | 0/1 [00:00<?, ?it/s]"
      ]
     },
     "metadata": {},
     "output_type": "display_data"
    },
    {
     "name": "stderr",
     "output_type": "stream",
     "text": [
      "\r",
      "Processing ligands: 875it [03:24,  3.78it/s]"
     ]
    },
    {
     "name": "stdout",
     "output_type": "stream",
     "text": [
      "/media/lmeuret/Seagate Portable Drive/result_docking/DOCKING_project/Conan-main/results_SMINA/DOCKED/ligand594/output44_ligand594_2023-11-22-15_52/best.pdbqt\n",
      "/media/lmeuret/Seagate Portable Drive/result_docking/DOCKING_project/Conan-main/receptors/output44.pdbqt\n"
     ]
    },
    {
     "data": {
      "application/vnd.jupyter.widget-view+json": {
       "model_id": "d269235256a1493f8941127f72581dfb",
       "version_major": 2,
       "version_minor": 0
      },
      "text/plain": [
       "  0%|          | 0/1 [00:00<?, ?it/s]"
      ]
     },
     "metadata": {},
     "output_type": "display_data"
    },
    {
     "name": "stderr",
     "output_type": "stream",
     "text": [
      "\r",
      "Processing ligands: 876it [03:24,  3.68it/s]"
     ]
    },
    {
     "name": "stdout",
     "output_type": "stream",
     "text": [
      "/media/lmeuret/Seagate Portable Drive/result_docking/DOCKING_project/Conan-main/results_SMINA/DOCKED/ligand595/output44_ligand595_2023-11-22-15_52/best.pdbqt\n",
      "/media/lmeuret/Seagate Portable Drive/result_docking/DOCKING_project/Conan-main/receptors/output44.pdbqt\n"
     ]
    },
    {
     "data": {
      "application/vnd.jupyter.widget-view+json": {
       "model_id": "75f6347b442446049d71e9b930599a6c",
       "version_major": 2,
       "version_minor": 0
      },
      "text/plain": [
       "  0%|          | 0/1 [00:00<?, ?it/s]"
      ]
     },
     "metadata": {},
     "output_type": "display_data"
    },
    {
     "name": "stderr",
     "output_type": "stream",
     "text": [
      "\r",
      "Processing ligands: 877it [03:25,  3.79it/s]"
     ]
    },
    {
     "name": "stdout",
     "output_type": "stream",
     "text": [
      "/media/lmeuret/Seagate Portable Drive/result_docking/DOCKING_project/Conan-main/results_SMINA/DOCKED/ligand596/output44_ligand596_2023-11-22-15_52/best.pdbqt\n",
      "/media/lmeuret/Seagate Portable Drive/result_docking/DOCKING_project/Conan-main/receptors/output44.pdbqt\n"
     ]
    },
    {
     "data": {
      "application/vnd.jupyter.widget-view+json": {
       "model_id": "56e39ea293b64f699e6197dd19c43654",
       "version_major": 2,
       "version_minor": 0
      },
      "text/plain": [
       "  0%|          | 0/1 [00:00<?, ?it/s]"
      ]
     },
     "metadata": {},
     "output_type": "display_data"
    },
    {
     "name": "stderr",
     "output_type": "stream",
     "text": [
      "\r",
      "Processing ligands: 878it [03:25,  3.93it/s]"
     ]
    },
    {
     "name": "stdout",
     "output_type": "stream",
     "text": [
      "/media/lmeuret/Seagate Portable Drive/result_docking/DOCKING_project/Conan-main/results_SMINA/DOCKED/ligand597/output44_ligand597_2023-11-22-15_52/best.pdbqt\n",
      "/media/lmeuret/Seagate Portable Drive/result_docking/DOCKING_project/Conan-main/receptors/output44.pdbqt\n"
     ]
    },
    {
     "data": {
      "application/vnd.jupyter.widget-view+json": {
       "model_id": "7191cebce32249b99e91f27e070d3769",
       "version_major": 2,
       "version_minor": 0
      },
      "text/plain": [
       "  0%|          | 0/1 [00:00<?, ?it/s]"
      ]
     },
     "metadata": {},
     "output_type": "display_data"
    },
    {
     "name": "stderr",
     "output_type": "stream",
     "text": [
      "\r",
      "Processing ligands: 879it [03:25,  3.97it/s]"
     ]
    },
    {
     "name": "stdout",
     "output_type": "stream",
     "text": [
      "/media/lmeuret/Seagate Portable Drive/result_docking/DOCKING_project/Conan-main/results_SMINA/DOCKED/ligand598/output44_ligand598_2023-11-22-15_52/best.pdbqt\n",
      "/media/lmeuret/Seagate Portable Drive/result_docking/DOCKING_project/Conan-main/receptors/output44.pdbqt\n"
     ]
    },
    {
     "data": {
      "application/vnd.jupyter.widget-view+json": {
       "model_id": "f940775d4252463d837652d8a3750f2a",
       "version_major": 2,
       "version_minor": 0
      },
      "text/plain": [
       "  0%|          | 0/1 [00:00<?, ?it/s]"
      ]
     },
     "metadata": {},
     "output_type": "display_data"
    },
    {
     "name": "stderr",
     "output_type": "stream",
     "text": [
      "\r",
      "Processing ligands: 880it [03:25,  3.90it/s]"
     ]
    },
    {
     "name": "stdout",
     "output_type": "stream",
     "text": [
      "/media/lmeuret/Seagate Portable Drive/result_docking/DOCKING_project/Conan-main/results_SMINA/DOCKED/ligand599/output44_ligand599_2023-11-22-15_52/best.pdbqt\n",
      "/media/lmeuret/Seagate Portable Drive/result_docking/DOCKING_project/Conan-main/receptors/output44.pdbqt\n"
     ]
    },
    {
     "data": {
      "application/vnd.jupyter.widget-view+json": {
       "model_id": "4de83715a5904a60b4c7fa257a2f6b22",
       "version_major": 2,
       "version_minor": 0
      },
      "text/plain": [
       "  0%|          | 0/1 [00:00<?, ?it/s]"
      ]
     },
     "metadata": {},
     "output_type": "display_data"
    },
    {
     "name": "stderr",
     "output_type": "stream",
     "text": [
      "\r",
      "Processing ligands: 881it [03:26,  3.93it/s]"
     ]
    },
    {
     "name": "stdout",
     "output_type": "stream",
     "text": [
      "/media/lmeuret/Seagate Portable Drive/result_docking/DOCKING_project/Conan-main/results_SMINA/DOCKED/ligand6/output44_ligand6_2023-11-22-15_52/best.pdbqt\n",
      "/media/lmeuret/Seagate Portable Drive/result_docking/DOCKING_project/Conan-main/receptors/output44.pdbqt\n"
     ]
    },
    {
     "data": {
      "application/vnd.jupyter.widget-view+json": {
       "model_id": "8b9f5a239bb746e3b97a54e93b30acd4",
       "version_major": 2,
       "version_minor": 0
      },
      "text/plain": [
       "  0%|          | 0/1 [00:00<?, ?it/s]"
      ]
     },
     "metadata": {},
     "output_type": "display_data"
    },
    {
     "name": "stderr",
     "output_type": "stream",
     "text": [
      "\r",
      "Processing ligands: 882it [03:26,  3.98it/s]"
     ]
    },
    {
     "name": "stdout",
     "output_type": "stream",
     "text": [
      "/media/lmeuret/Seagate Portable Drive/result_docking/DOCKING_project/Conan-main/results_SMINA/DOCKED/ligand60/output44_ligand60_2023-11-22-15_52/best.pdbqt\n",
      "/media/lmeuret/Seagate Portable Drive/result_docking/DOCKING_project/Conan-main/receptors/output44.pdbqt\n"
     ]
    },
    {
     "data": {
      "application/vnd.jupyter.widget-view+json": {
       "model_id": "031f88aabfae4ffa8649aef674a0fa9c",
       "version_major": 2,
       "version_minor": 0
      },
      "text/plain": [
       "  0%|          | 0/1 [00:00<?, ?it/s]"
      ]
     },
     "metadata": {},
     "output_type": "display_data"
    },
    {
     "name": "stderr",
     "output_type": "stream",
     "text": [
      "\r",
      "Processing ligands: 883it [03:26,  3.94it/s]"
     ]
    },
    {
     "name": "stdout",
     "output_type": "stream",
     "text": [
      "/media/lmeuret/Seagate Portable Drive/result_docking/DOCKING_project/Conan-main/results_SMINA/DOCKED/ligand600/output44_ligand600_2023-11-22-15_52/best.pdbqt\n",
      "/media/lmeuret/Seagate Portable Drive/result_docking/DOCKING_project/Conan-main/receptors/output44.pdbqt\n"
     ]
    },
    {
     "data": {
      "application/vnd.jupyter.widget-view+json": {
       "model_id": "126c48bc74824b98a818a7d10dfc6728",
       "version_major": 2,
       "version_minor": 0
      },
      "text/plain": [
       "  0%|          | 0/1 [00:00<?, ?it/s]"
      ]
     },
     "metadata": {},
     "output_type": "display_data"
    },
    {
     "name": "stderr",
     "output_type": "stream",
     "text": [
      "\r",
      "Processing ligands: 884it [03:26,  4.05it/s]"
     ]
    },
    {
     "name": "stdout",
     "output_type": "stream",
     "text": [
      "/media/lmeuret/Seagate Portable Drive/result_docking/DOCKING_project/Conan-main/results_SMINA/DOCKED/ligand601/output44_ligand601_2023-11-22-15_52/best.pdbqt\n",
      "/media/lmeuret/Seagate Portable Drive/result_docking/DOCKING_project/Conan-main/receptors/output44.pdbqt\n"
     ]
    },
    {
     "data": {
      "application/vnd.jupyter.widget-view+json": {
       "model_id": "39a6fbd1c89a481887d7640090e87a77",
       "version_major": 2,
       "version_minor": 0
      },
      "text/plain": [
       "  0%|          | 0/1 [00:00<?, ?it/s]"
      ]
     },
     "metadata": {},
     "output_type": "display_data"
    },
    {
     "name": "stderr",
     "output_type": "stream",
     "text": [
      "\r",
      "Processing ligands: 885it [03:27,  4.12it/s]"
     ]
    },
    {
     "name": "stdout",
     "output_type": "stream",
     "text": [
      "/media/lmeuret/Seagate Portable Drive/result_docking/DOCKING_project/Conan-main/results_SMINA/DOCKED/ligand602/output44_ligand602_2023-11-22-15_52/best.pdbqt\n",
      "/media/lmeuret/Seagate Portable Drive/result_docking/DOCKING_project/Conan-main/receptors/output44.pdbqt\n"
     ]
    },
    {
     "data": {
      "application/vnd.jupyter.widget-view+json": {
       "model_id": "be2c0c9b84ea4cfaa8275d1f2457815d",
       "version_major": 2,
       "version_minor": 0
      },
      "text/plain": [
       "  0%|          | 0/1 [00:00<?, ?it/s]"
      ]
     },
     "metadata": {},
     "output_type": "display_data"
    },
    {
     "name": "stderr",
     "output_type": "stream",
     "text": [
      "\r",
      "Processing ligands: 886it [03:27,  4.18it/s]"
     ]
    },
    {
     "name": "stdout",
     "output_type": "stream",
     "text": [
      "/media/lmeuret/Seagate Portable Drive/result_docking/DOCKING_project/Conan-main/results_SMINA/DOCKED/ligand603/output44_ligand603_2023-11-22-15_52/best.pdbqt\n",
      "/media/lmeuret/Seagate Portable Drive/result_docking/DOCKING_project/Conan-main/receptors/output44.pdbqt\n"
     ]
    },
    {
     "data": {
      "application/vnd.jupyter.widget-view+json": {
       "model_id": "5ad9073ff9cf4a719035c123e69e6a6d",
       "version_major": 2,
       "version_minor": 0
      },
      "text/plain": [
       "  0%|          | 0/1 [00:00<?, ?it/s]"
      ]
     },
     "metadata": {},
     "output_type": "display_data"
    },
    {
     "name": "stderr",
     "output_type": "stream",
     "text": [
      "\r",
      "Processing ligands: 887it [03:27,  4.23it/s]"
     ]
    },
    {
     "name": "stdout",
     "output_type": "stream",
     "text": [
      "/media/lmeuret/Seagate Portable Drive/result_docking/DOCKING_project/Conan-main/results_SMINA/DOCKED/ligand604/output44_ligand604_2023-11-22-15_52/best.pdbqt\n",
      "/media/lmeuret/Seagate Portable Drive/result_docking/DOCKING_project/Conan-main/receptors/output44.pdbqt\n"
     ]
    },
    {
     "data": {
      "application/vnd.jupyter.widget-view+json": {
       "model_id": "b3fdeee3f6a348f0b9ad700fcb4024d4",
       "version_major": 2,
       "version_minor": 0
      },
      "text/plain": [
       "  0%|          | 0/1 [00:00<?, ?it/s]"
      ]
     },
     "metadata": {},
     "output_type": "display_data"
    },
    {
     "name": "stderr",
     "output_type": "stream",
     "text": [
      "\r",
      "Processing ligands: 888it [03:27,  4.23it/s]"
     ]
    },
    {
     "name": "stdout",
     "output_type": "stream",
     "text": [
      "/media/lmeuret/Seagate Portable Drive/result_docking/DOCKING_project/Conan-main/results_SMINA/DOCKED/ligand605/output44_ligand605_2023-11-22-15_52/best.pdbqt\n",
      "/media/lmeuret/Seagate Portable Drive/result_docking/DOCKING_project/Conan-main/receptors/output44.pdbqt\n"
     ]
    },
    {
     "data": {
      "application/vnd.jupyter.widget-view+json": {
       "model_id": "0ac5ca3191e94bbe9f2821db01313e51",
       "version_major": 2,
       "version_minor": 0
      },
      "text/plain": [
       "  0%|          | 0/1 [00:00<?, ?it/s]"
      ]
     },
     "metadata": {},
     "output_type": "display_data"
    },
    {
     "name": "stderr",
     "output_type": "stream",
     "text": [
      "\r",
      "Processing ligands: 889it [03:28,  4.26it/s]"
     ]
    },
    {
     "name": "stdout",
     "output_type": "stream",
     "text": [
      "/media/lmeuret/Seagate Portable Drive/result_docking/DOCKING_project/Conan-main/results_SMINA/DOCKED/ligand336/output44_ligand336_2023-11-22-15_52/best.pdbqt\n",
      "/media/lmeuret/Seagate Portable Drive/result_docking/DOCKING_project/Conan-main/receptors/output44.pdbqt\n"
     ]
    },
    {
     "data": {
      "application/vnd.jupyter.widget-view+json": {
       "model_id": "55e9e66e72e84566a0b2229fe8b0b941",
       "version_major": 2,
       "version_minor": 0
      },
      "text/plain": [
       "  0%|          | 0/1 [00:00<?, ?it/s]"
      ]
     },
     "metadata": {},
     "output_type": "display_data"
    },
    {
     "name": "stderr",
     "output_type": "stream",
     "text": [
      "\r",
      "Processing ligands: 890it [03:28,  4.15it/s]"
     ]
    },
    {
     "name": "stdout",
     "output_type": "stream",
     "text": [
      "/media/lmeuret/Seagate Portable Drive/result_docking/DOCKING_project/Conan-main/results_SMINA/DOCKED/ligand337/output44_ligand337_2023-11-22-15_52/best.pdbqt\n",
      "/media/lmeuret/Seagate Portable Drive/result_docking/DOCKING_project/Conan-main/receptors/output44.pdbqt\n"
     ]
    },
    {
     "data": {
      "application/vnd.jupyter.widget-view+json": {
       "model_id": "0b3e00bb6ee846afa27ec42738db1dfa",
       "version_major": 2,
       "version_minor": 0
      },
      "text/plain": [
       "  0%|          | 0/1 [00:00<?, ?it/s]"
      ]
     },
     "metadata": {},
     "output_type": "display_data"
    },
    {
     "name": "stderr",
     "output_type": "stream",
     "text": [
      "\r",
      "Processing ligands: 891it [03:28,  4.19it/s]"
     ]
    },
    {
     "name": "stdout",
     "output_type": "stream",
     "text": [
      "/media/lmeuret/Seagate Portable Drive/result_docking/DOCKING_project/Conan-main/results_SMINA/DOCKED/ligand338/output44_ligand338_2023-11-22-15_52/best.pdbqt\n",
      "/media/lmeuret/Seagate Portable Drive/result_docking/DOCKING_project/Conan-main/receptors/output44.pdbqt\n"
     ]
    },
    {
     "data": {
      "application/vnd.jupyter.widget-view+json": {
       "model_id": "11230982d5314d75bfb8d177a4f54c36",
       "version_major": 2,
       "version_minor": 0
      },
      "text/plain": [
       "  0%|          | 0/1 [00:00<?, ?it/s]"
      ]
     },
     "metadata": {},
     "output_type": "display_data"
    },
    {
     "name": "stderr",
     "output_type": "stream",
     "text": [
      "\r",
      "Processing ligands: 892it [03:28,  4.17it/s]"
     ]
    },
    {
     "name": "stdout",
     "output_type": "stream",
     "text": [
      "/media/lmeuret/Seagate Portable Drive/result_docking/DOCKING_project/Conan-main/results_SMINA/DOCKED/ligand339/output44_ligand339_2023-11-22-15_52/best.pdbqt\n",
      "/media/lmeuret/Seagate Portable Drive/result_docking/DOCKING_project/Conan-main/receptors/output44.pdbqt\n"
     ]
    },
    {
     "data": {
      "application/vnd.jupyter.widget-view+json": {
       "model_id": "d0a0a91bda5040dea68b547efca2cdf9",
       "version_major": 2,
       "version_minor": 0
      },
      "text/plain": [
       "  0%|          | 0/1 [00:00<?, ?it/s]"
      ]
     },
     "metadata": {},
     "output_type": "display_data"
    },
    {
     "name": "stderr",
     "output_type": "stream",
     "text": [
      "\r",
      "Processing ligands: 893it [03:29,  4.09it/s]"
     ]
    },
    {
     "name": "stdout",
     "output_type": "stream",
     "text": [
      "/media/lmeuret/Seagate Portable Drive/result_docking/DOCKING_project/Conan-main/results_SMINA/DOCKED/ligand34/output44_ligand34_2023-11-22-15_52/best.pdbqt\n",
      "/media/lmeuret/Seagate Portable Drive/result_docking/DOCKING_project/Conan-main/receptors/output44.pdbqt\n"
     ]
    },
    {
     "data": {
      "application/vnd.jupyter.widget-view+json": {
       "model_id": "b002f1b501384104bbff8e4e3fdf5933",
       "version_major": 2,
       "version_minor": 0
      },
      "text/plain": [
       "  0%|          | 0/1 [00:00<?, ?it/s]"
      ]
     },
     "metadata": {},
     "output_type": "display_data"
    },
    {
     "name": "stderr",
     "output_type": "stream",
     "text": [
      "\r",
      "Processing ligands: 894it [03:29,  4.13it/s]"
     ]
    },
    {
     "name": "stdout",
     "output_type": "stream",
     "text": [
      "/media/lmeuret/Seagate Portable Drive/result_docking/DOCKING_project/Conan-main/results_SMINA/DOCKED/ligand340/output44_ligand340_2023-11-22-15_52/best.pdbqt\n",
      "/media/lmeuret/Seagate Portable Drive/result_docking/DOCKING_project/Conan-main/receptors/output44.pdbqt\n"
     ]
    },
    {
     "data": {
      "application/vnd.jupyter.widget-view+json": {
       "model_id": "1159d81b90eb416badcd0860613bde76",
       "version_major": 2,
       "version_minor": 0
      },
      "text/plain": [
       "  0%|          | 0/1 [00:00<?, ?it/s]"
      ]
     },
     "metadata": {},
     "output_type": "display_data"
    },
    {
     "name": "stderr",
     "output_type": "stream",
     "text": [
      "\r",
      "Processing ligands: 895it [03:29,  4.16it/s]"
     ]
    },
    {
     "name": "stdout",
     "output_type": "stream",
     "text": [
      "/media/lmeuret/Seagate Portable Drive/result_docking/DOCKING_project/Conan-main/results_SMINA/DOCKED/ligand341/output44_ligand341_2023-11-22-15_52/best.pdbqt\n",
      "/media/lmeuret/Seagate Portable Drive/result_docking/DOCKING_project/Conan-main/receptors/output44.pdbqt\n"
     ]
    },
    {
     "data": {
      "application/vnd.jupyter.widget-view+json": {
       "model_id": "68cf8ef4c1f54c7588eef1a2a2513c87",
       "version_major": 2,
       "version_minor": 0
      },
      "text/plain": [
       "  0%|          | 0/1 [00:00<?, ?it/s]"
      ]
     },
     "metadata": {},
     "output_type": "display_data"
    },
    {
     "name": "stderr",
     "output_type": "stream",
     "text": [
      "\r",
      "Processing ligands: 896it [03:29,  4.25it/s]"
     ]
    },
    {
     "name": "stdout",
     "output_type": "stream",
     "text": [
      "/media/lmeuret/Seagate Portable Drive/result_docking/DOCKING_project/Conan-main/results_SMINA/DOCKED/ligand342/output44_ligand342_2023-11-22-15_52/best.pdbqt\n",
      "/media/lmeuret/Seagate Portable Drive/result_docking/DOCKING_project/Conan-main/receptors/output44.pdbqt\n"
     ]
    },
    {
     "data": {
      "application/vnd.jupyter.widget-view+json": {
       "model_id": "23a35732cd394b35a616213a29dae312",
       "version_major": 2,
       "version_minor": 0
      },
      "text/plain": [
       "  0%|          | 0/1 [00:00<?, ?it/s]"
      ]
     },
     "metadata": {},
     "output_type": "display_data"
    },
    {
     "name": "stderr",
     "output_type": "stream",
     "text": [
      "\r",
      "Processing ligands: 897it [03:30,  4.20it/s]"
     ]
    },
    {
     "name": "stdout",
     "output_type": "stream",
     "text": [
      "/media/lmeuret/Seagate Portable Drive/result_docking/DOCKING_project/Conan-main/results_SMINA/DOCKED/ligand343/output44_ligand343_2023-11-22-15_52/best.pdbqt\n",
      "/media/lmeuret/Seagate Portable Drive/result_docking/DOCKING_project/Conan-main/receptors/output44.pdbqt\n"
     ]
    },
    {
     "data": {
      "application/vnd.jupyter.widget-view+json": {
       "model_id": "4e37e2173f5e4306be21a5ceedf6aa6d",
       "version_major": 2,
       "version_minor": 0
      },
      "text/plain": [
       "  0%|          | 0/1 [00:00<?, ?it/s]"
      ]
     },
     "metadata": {},
     "output_type": "display_data"
    },
    {
     "name": "stderr",
     "output_type": "stream",
     "text": [
      "\r",
      "Processing ligands: 898it [03:30,  4.19it/s]"
     ]
    },
    {
     "name": "stdout",
     "output_type": "stream",
     "text": [
      "/media/lmeuret/Seagate Portable Drive/result_docking/DOCKING_project/Conan-main/results_SMINA/DOCKED/ligand344/output44_ligand344_2023-11-22-15_52/best.pdbqt\n",
      "/media/lmeuret/Seagate Portable Drive/result_docking/DOCKING_project/Conan-main/receptors/output44.pdbqt\n"
     ]
    },
    {
     "data": {
      "application/vnd.jupyter.widget-view+json": {
       "model_id": "7076fb64f3634777ad62017ac6afae32",
       "version_major": 2,
       "version_minor": 0
      },
      "text/plain": [
       "  0%|          | 0/1 [00:00<?, ?it/s]"
      ]
     },
     "metadata": {},
     "output_type": "display_data"
    },
    {
     "name": "stderr",
     "output_type": "stream",
     "text": [
      "\r",
      "Processing ligands: 899it [03:30,  4.02it/s]"
     ]
    },
    {
     "name": "stdout",
     "output_type": "stream",
     "text": [
      "/media/lmeuret/Seagate Portable Drive/result_docking/DOCKING_project/Conan-main/results_SMINA/DOCKED/ligand345/output44_ligand345_2023-11-22-15_52/best.pdbqt\n",
      "/media/lmeuret/Seagate Portable Drive/result_docking/DOCKING_project/Conan-main/receptors/output44.pdbqt\n"
     ]
    },
    {
     "data": {
      "application/vnd.jupyter.widget-view+json": {
       "model_id": "d424f15c89544c64b8df414a46810361",
       "version_major": 2,
       "version_minor": 0
      },
      "text/plain": [
       "  0%|          | 0/1 [00:00<?, ?it/s]"
      ]
     },
     "metadata": {},
     "output_type": "display_data"
    },
    {
     "name": "stderr",
     "output_type": "stream",
     "text": [
      "\r",
      "Processing ligands: 900it [03:30,  4.01it/s]"
     ]
    },
    {
     "name": "stdout",
     "output_type": "stream",
     "text": [
      "/media/lmeuret/Seagate Portable Drive/result_docking/DOCKING_project/Conan-main/results_SMINA/DOCKED/ligand346/output44_ligand346_2023-11-22-15_52/best.pdbqt\n",
      "/media/lmeuret/Seagate Portable Drive/result_docking/DOCKING_project/Conan-main/receptors/output44.pdbqt\n"
     ]
    },
    {
     "data": {
      "application/vnd.jupyter.widget-view+json": {
       "model_id": "33ad0a99ae9549c5a643a2482e83469c",
       "version_major": 2,
       "version_minor": 0
      },
      "text/plain": [
       "  0%|          | 0/1 [00:00<?, ?it/s]"
      ]
     },
     "metadata": {},
     "output_type": "display_data"
    },
    {
     "name": "stderr",
     "output_type": "stream",
     "text": [
      "\r",
      "Processing ligands: 901it [03:31,  3.99it/s]"
     ]
    },
    {
     "name": "stdout",
     "output_type": "stream",
     "text": [
      "/media/lmeuret/Seagate Portable Drive/result_docking/DOCKING_project/Conan-main/results_SMINA/DOCKED/ligand347/output44_ligand347_2023-11-22-15_52/best.pdbqt\n",
      "/media/lmeuret/Seagate Portable Drive/result_docking/DOCKING_project/Conan-main/receptors/output44.pdbqt\n"
     ]
    },
    {
     "data": {
      "application/vnd.jupyter.widget-view+json": {
       "model_id": "7440211b9a1b46ada8741bec601822a7",
       "version_major": 2,
       "version_minor": 0
      },
      "text/plain": [
       "  0%|          | 0/1 [00:00<?, ?it/s]"
      ]
     },
     "metadata": {},
     "output_type": "display_data"
    },
    {
     "name": "stderr",
     "output_type": "stream",
     "text": [
      "\r",
      "Processing ligands: 902it [03:31,  4.02it/s]"
     ]
    },
    {
     "name": "stdout",
     "output_type": "stream",
     "text": [
      "/media/lmeuret/Seagate Portable Drive/result_docking/DOCKING_project/Conan-main/results_SMINA/DOCKED/ligand348/output44_ligand348_2023-11-22-15_52/best.pdbqt\n",
      "/media/lmeuret/Seagate Portable Drive/result_docking/DOCKING_project/Conan-main/receptors/output44.pdbqt\n"
     ]
    },
    {
     "data": {
      "application/vnd.jupyter.widget-view+json": {
       "model_id": "7a655cd7b4984a549dacd20daa1b6df5",
       "version_major": 2,
       "version_minor": 0
      },
      "text/plain": [
       "  0%|          | 0/1 [00:00<?, ?it/s]"
      ]
     },
     "metadata": {},
     "output_type": "display_data"
    },
    {
     "name": "stderr",
     "output_type": "stream",
     "text": [
      "\r",
      "Processing ligands: 903it [03:31,  3.96it/s]"
     ]
    },
    {
     "name": "stdout",
     "output_type": "stream",
     "text": [
      "/media/lmeuret/Seagate Portable Drive/result_docking/DOCKING_project/Conan-main/results_SMINA/DOCKED/ligand349/output44_ligand349_2023-11-22-15_52/best.pdbqt\n",
      "/media/lmeuret/Seagate Portable Drive/result_docking/DOCKING_project/Conan-main/receptors/output44.pdbqt\n"
     ]
    },
    {
     "data": {
      "application/vnd.jupyter.widget-view+json": {
       "model_id": "433279fcf01c4a8bb0b278a31ddaf03e",
       "version_major": 2,
       "version_minor": 0
      },
      "text/plain": [
       "  0%|          | 0/1 [00:00<?, ?it/s]"
      ]
     },
     "metadata": {},
     "output_type": "display_data"
    },
    {
     "name": "stderr",
     "output_type": "stream",
     "text": [
      "\r",
      "Processing ligands: 904it [03:31,  3.96it/s]"
     ]
    },
    {
     "name": "stdout",
     "output_type": "stream",
     "text": [
      "/media/lmeuret/Seagate Portable Drive/result_docking/DOCKING_project/Conan-main/results_SMINA/DOCKED/ligand35/output44_ligand35_2023-11-22-15_52/best.pdbqt\n",
      "/media/lmeuret/Seagate Portable Drive/result_docking/DOCKING_project/Conan-main/receptors/output44.pdbqt\n"
     ]
    },
    {
     "data": {
      "application/vnd.jupyter.widget-view+json": {
       "model_id": "b6a1c5d292d94dd688920e891276f720",
       "version_major": 2,
       "version_minor": 0
      },
      "text/plain": [
       "  0%|          | 0/1 [00:00<?, ?it/s]"
      ]
     },
     "metadata": {},
     "output_type": "display_data"
    },
    {
     "name": "stderr",
     "output_type": "stream",
     "text": [
      "\r",
      "Processing ligands: 905it [03:32,  3.98it/s]"
     ]
    },
    {
     "name": "stdout",
     "output_type": "stream",
     "text": [
      "/media/lmeuret/Seagate Portable Drive/result_docking/DOCKING_project/Conan-main/results_SMINA/DOCKED/ligand350/output44_ligand350_2023-11-22-15_52/best.pdbqt\n",
      "/media/lmeuret/Seagate Portable Drive/result_docking/DOCKING_project/Conan-main/receptors/output44.pdbqt\n"
     ]
    },
    {
     "data": {
      "application/vnd.jupyter.widget-view+json": {
       "model_id": "63f34356464f443799338f97e3f7b6f0",
       "version_major": 2,
       "version_minor": 0
      },
      "text/plain": [
       "  0%|          | 0/1 [00:00<?, ?it/s]"
      ]
     },
     "metadata": {},
     "output_type": "display_data"
    },
    {
     "name": "stderr",
     "output_type": "stream",
     "text": [
      "\r",
      "Processing ligands: 906it [03:32,  3.93it/s]"
     ]
    },
    {
     "name": "stdout",
     "output_type": "stream",
     "text": [
      "/media/lmeuret/Seagate Portable Drive/result_docking/DOCKING_project/Conan-main/results_SMINA/DOCKED/ligand351/output44_ligand351_2023-11-22-15_52/best.pdbqt\n",
      "/media/lmeuret/Seagate Portable Drive/result_docking/DOCKING_project/Conan-main/receptors/output44.pdbqt\n"
     ]
    },
    {
     "data": {
      "application/vnd.jupyter.widget-view+json": {
       "model_id": "1ef6d5a317714b559779e937b6ed4db3",
       "version_major": 2,
       "version_minor": 0
      },
      "text/plain": [
       "  0%|          | 0/1 [00:00<?, ?it/s]"
      ]
     },
     "metadata": {},
     "output_type": "display_data"
    },
    {
     "name": "stderr",
     "output_type": "stream",
     "text": [
      "\r",
      "Processing ligands: 907it [03:32,  3.89it/s]"
     ]
    },
    {
     "name": "stdout",
     "output_type": "stream",
     "text": [
      "/media/lmeuret/Seagate Portable Drive/result_docking/DOCKING_project/Conan-main/results_SMINA/DOCKED/ligand352/output44_ligand352_2023-11-22-15_52/best.pdbqt\n",
      "/media/lmeuret/Seagate Portable Drive/result_docking/DOCKING_project/Conan-main/receptors/output44.pdbqt\n"
     ]
    },
    {
     "data": {
      "application/vnd.jupyter.widget-view+json": {
       "model_id": "4a87869b7c40444da5c72507664f723c",
       "version_major": 2,
       "version_minor": 0
      },
      "text/plain": [
       "  0%|          | 0/1 [00:00<?, ?it/s]"
      ]
     },
     "metadata": {},
     "output_type": "display_data"
    },
    {
     "name": "stderr",
     "output_type": "stream",
     "text": [
      "\r",
      "Processing ligands: 908it [03:32,  3.92it/s]"
     ]
    },
    {
     "name": "stdout",
     "output_type": "stream",
     "text": [
      "/media/lmeuret/Seagate Portable Drive/result_docking/DOCKING_project/Conan-main/results_SMINA/DOCKED/ligand353/output44_ligand353_2023-11-22-15_52/best.pdbqt\n",
      "/media/lmeuret/Seagate Portable Drive/result_docking/DOCKING_project/Conan-main/receptors/output44.pdbqt\n"
     ]
    },
    {
     "data": {
      "application/vnd.jupyter.widget-view+json": {
       "model_id": "8e5ddc2c2f4e4976a97e94681dcf32c9",
       "version_major": 2,
       "version_minor": 0
      },
      "text/plain": [
       "  0%|          | 0/1 [00:00<?, ?it/s]"
      ]
     },
     "metadata": {},
     "output_type": "display_data"
    },
    {
     "name": "stderr",
     "output_type": "stream",
     "text": [
      "\r",
      "Processing ligands: 909it [03:33,  4.03it/s]"
     ]
    },
    {
     "name": "stdout",
     "output_type": "stream",
     "text": [
      "/media/lmeuret/Seagate Portable Drive/result_docking/DOCKING_project/Conan-main/results_SMINA/DOCKED/ligand354/output44_ligand354_2023-11-22-15_52/best.pdbqt\n",
      "/media/lmeuret/Seagate Portable Drive/result_docking/DOCKING_project/Conan-main/receptors/output44.pdbqt\n"
     ]
    },
    {
     "data": {
      "application/vnd.jupyter.widget-view+json": {
       "model_id": "8737b00fd4a74618821ae1a1b1e7a8a1",
       "version_major": 2,
       "version_minor": 0
      },
      "text/plain": [
       "  0%|          | 0/1 [00:00<?, ?it/s]"
      ]
     },
     "metadata": {},
     "output_type": "display_data"
    },
    {
     "name": "stderr",
     "output_type": "stream",
     "text": [
      "\r",
      "Processing ligands: 910it [03:33,  4.09it/s]"
     ]
    },
    {
     "name": "stdout",
     "output_type": "stream",
     "text": [
      "/media/lmeuret/Seagate Portable Drive/result_docking/DOCKING_project/Conan-main/results_SMINA/DOCKED/ligand25/output44_ligand25_2023-11-22-15_52/best.pdbqt\n",
      "/media/lmeuret/Seagate Portable Drive/result_docking/DOCKING_project/Conan-main/receptors/output44.pdbqt\n"
     ]
    },
    {
     "data": {
      "application/vnd.jupyter.widget-view+json": {
       "model_id": "6636c8c7d8cf4b2c86fc39bb33528972",
       "version_major": 2,
       "version_minor": 0
      },
      "text/plain": [
       "  0%|          | 0/1 [00:00<?, ?it/s]"
      ]
     },
     "metadata": {},
     "output_type": "display_data"
    },
    {
     "name": "stderr",
     "output_type": "stream",
     "text": [
      "\r",
      "Processing ligands: 911it [03:33,  3.98it/s]"
     ]
    },
    {
     "name": "stdout",
     "output_type": "stream",
     "text": [
      "/media/lmeuret/Seagate Portable Drive/result_docking/DOCKING_project/Conan-main/results_SMINA/DOCKED/ligand250/output44_ligand250_2023-11-22-15_52/best.pdbqt\n",
      "/media/lmeuret/Seagate Portable Drive/result_docking/DOCKING_project/Conan-main/receptors/output44.pdbqt\n"
     ]
    },
    {
     "data": {
      "application/vnd.jupyter.widget-view+json": {
       "model_id": "eab17edc8b9748c0975f86d7ebd03b92",
       "version_major": 2,
       "version_minor": 0
      },
      "text/plain": [
       "  0%|          | 0/1 [00:00<?, ?it/s]"
      ]
     },
     "metadata": {},
     "output_type": "display_data"
    },
    {
     "name": "stderr",
     "output_type": "stream",
     "text": [
      "\r",
      "Processing ligands: 912it [03:33,  4.10it/s]"
     ]
    },
    {
     "name": "stdout",
     "output_type": "stream",
     "text": [
      "/media/lmeuret/Seagate Portable Drive/result_docking/DOCKING_project/Conan-main/results_SMINA/DOCKED/ligand251/output44_ligand251_2023-11-22-15_52/best.pdbqt\n",
      "/media/lmeuret/Seagate Portable Drive/result_docking/DOCKING_project/Conan-main/receptors/output44.pdbqt\n"
     ]
    },
    {
     "data": {
      "application/vnd.jupyter.widget-view+json": {
       "model_id": "414819e892cf42d29d98e8123a697615",
       "version_major": 2,
       "version_minor": 0
      },
      "text/plain": [
       "  0%|          | 0/1 [00:00<?, ?it/s]"
      ]
     },
     "metadata": {},
     "output_type": "display_data"
    },
    {
     "name": "stderr",
     "output_type": "stream",
     "text": [
      "\r",
      "Processing ligands: 913it [03:34,  4.06it/s]"
     ]
    },
    {
     "name": "stdout",
     "output_type": "stream",
     "text": [
      "/media/lmeuret/Seagate Portable Drive/result_docking/DOCKING_project/Conan-main/results_SMINA/DOCKED/ligand252/output44_ligand252_2023-11-22-15_52/best.pdbqt\n",
      "/media/lmeuret/Seagate Portable Drive/result_docking/DOCKING_project/Conan-main/receptors/output44.pdbqt\n"
     ]
    },
    {
     "data": {
      "application/vnd.jupyter.widget-view+json": {
       "model_id": "9dfd8f0594c340a4b1b00fc08c82f0f8",
       "version_major": 2,
       "version_minor": 0
      },
      "text/plain": [
       "  0%|          | 0/1 [00:00<?, ?it/s]"
      ]
     },
     "metadata": {},
     "output_type": "display_data"
    },
    {
     "name": "stderr",
     "output_type": "stream",
     "text": [
      "\r",
      "Processing ligands: 914it [03:34,  3.87it/s]"
     ]
    },
    {
     "name": "stdout",
     "output_type": "stream",
     "text": [
      "/media/lmeuret/Seagate Portable Drive/result_docking/DOCKING_project/Conan-main/results_SMINA/DOCKED/ligand253/output44_ligand253_2023-11-22-15_52/best.pdbqt\n",
      "/media/lmeuret/Seagate Portable Drive/result_docking/DOCKING_project/Conan-main/receptors/output44.pdbqt\n"
     ]
    },
    {
     "data": {
      "application/vnd.jupyter.widget-view+json": {
       "model_id": "2b041687b57544288cd61ea764f18ae3",
       "version_major": 2,
       "version_minor": 0
      },
      "text/plain": [
       "  0%|          | 0/1 [00:00<?, ?it/s]"
      ]
     },
     "metadata": {},
     "output_type": "display_data"
    },
    {
     "name": "stderr",
     "output_type": "stream",
     "text": [
      "\r",
      "Processing ligands: 915it [03:34,  3.86it/s]"
     ]
    },
    {
     "name": "stdout",
     "output_type": "stream",
     "text": [
      "/media/lmeuret/Seagate Portable Drive/result_docking/DOCKING_project/Conan-main/results_SMINA/DOCKED/ligand254/output44_ligand254_2023-11-22-15_52/best.pdbqt\n",
      "/media/lmeuret/Seagate Portable Drive/result_docking/DOCKING_project/Conan-main/receptors/output44.pdbqt\n"
     ]
    },
    {
     "data": {
      "application/vnd.jupyter.widget-view+json": {
       "model_id": "669cc7a58b3549329a123aa8b5c7c8f8",
       "version_major": 2,
       "version_minor": 0
      },
      "text/plain": [
       "  0%|          | 0/1 [00:00<?, ?it/s]"
      ]
     },
     "metadata": {},
     "output_type": "display_data"
    },
    {
     "name": "stderr",
     "output_type": "stream",
     "text": [
      "\r",
      "Processing ligands: 916it [03:34,  3.84it/s]"
     ]
    },
    {
     "name": "stdout",
     "output_type": "stream",
     "text": [
      "/media/lmeuret/Seagate Portable Drive/result_docking/DOCKING_project/Conan-main/results_SMINA/DOCKED/ligand255/output44_ligand255_2023-11-22-15_52/best.pdbqt\n",
      "/media/lmeuret/Seagate Portable Drive/result_docking/DOCKING_project/Conan-main/receptors/output44.pdbqt\n"
     ]
    },
    {
     "data": {
      "application/vnd.jupyter.widget-view+json": {
       "model_id": "9093e3d384d9400c9437ec54a234c746",
       "version_major": 2,
       "version_minor": 0
      },
      "text/plain": [
       "  0%|          | 0/1 [00:00<?, ?it/s]"
      ]
     },
     "metadata": {},
     "output_type": "display_data"
    },
    {
     "name": "stderr",
     "output_type": "stream",
     "text": [
      "\r",
      "Processing ligands: 917it [03:35,  3.80it/s]"
     ]
    },
    {
     "name": "stdout",
     "output_type": "stream",
     "text": [
      "/media/lmeuret/Seagate Portable Drive/result_docking/DOCKING_project/Conan-main/results_SMINA/DOCKED/ligand256/output44_ligand256_2023-11-22-15_52/best.pdbqt\n",
      "/media/lmeuret/Seagate Portable Drive/result_docking/DOCKING_project/Conan-main/receptors/output44.pdbqt\n"
     ]
    },
    {
     "data": {
      "application/vnd.jupyter.widget-view+json": {
       "model_id": "302aa0bdec954bda867057d912049f6c",
       "version_major": 2,
       "version_minor": 0
      },
      "text/plain": [
       "  0%|          | 0/1 [00:00<?, ?it/s]"
      ]
     },
     "metadata": {},
     "output_type": "display_data"
    },
    {
     "name": "stderr",
     "output_type": "stream",
     "text": [
      "\r",
      "Processing ligands: 918it [03:35,  3.75it/s]"
     ]
    },
    {
     "name": "stdout",
     "output_type": "stream",
     "text": [
      "/media/lmeuret/Seagate Portable Drive/result_docking/DOCKING_project/Conan-main/results_SMINA/DOCKED/ligand257/output44_ligand257_2023-11-22-15_52/best.pdbqt\n",
      "/media/lmeuret/Seagate Portable Drive/result_docking/DOCKING_project/Conan-main/receptors/output44.pdbqt\n"
     ]
    },
    {
     "data": {
      "application/vnd.jupyter.widget-view+json": {
       "model_id": "89018401aed54976976e95eabfc4a3a1",
       "version_major": 2,
       "version_minor": 0
      },
      "text/plain": [
       "  0%|          | 0/1 [00:00<?, ?it/s]"
      ]
     },
     "metadata": {},
     "output_type": "display_data"
    },
    {
     "name": "stderr",
     "output_type": "stream",
     "text": [
      "\r",
      "Processing ligands: 919it [03:35,  3.73it/s]"
     ]
    },
    {
     "name": "stdout",
     "output_type": "stream",
     "text": [
      "/media/lmeuret/Seagate Portable Drive/result_docking/DOCKING_project/Conan-main/results_SMINA/DOCKED/ligand258/output44_ligand258_2023-11-22-15_52/best.pdbqt\n",
      "/media/lmeuret/Seagate Portable Drive/result_docking/DOCKING_project/Conan-main/receptors/output44.pdbqt\n"
     ]
    },
    {
     "data": {
      "application/vnd.jupyter.widget-view+json": {
       "model_id": "3d3860f2b4a5454d886f5b5490fc456f",
       "version_major": 2,
       "version_minor": 0
      },
      "text/plain": [
       "  0%|          | 0/1 [00:00<?, ?it/s]"
      ]
     },
     "metadata": {},
     "output_type": "display_data"
    },
    {
     "name": "stderr",
     "output_type": "stream",
     "text": [
      "\r",
      "Processing ligands: 920it [03:35,  3.72it/s]"
     ]
    },
    {
     "name": "stdout",
     "output_type": "stream",
     "text": [
      "/media/lmeuret/Seagate Portable Drive/result_docking/DOCKING_project/Conan-main/results_SMINA/DOCKED/ligand259/output44_ligand259_2023-11-22-15_52/best.pdbqt\n",
      "/media/lmeuret/Seagate Portable Drive/result_docking/DOCKING_project/Conan-main/receptors/output44.pdbqt\n"
     ]
    },
    {
     "data": {
      "application/vnd.jupyter.widget-view+json": {
       "model_id": "973f815ba00e49aa9a48d3db12e3a040",
       "version_major": 2,
       "version_minor": 0
      },
      "text/plain": [
       "  0%|          | 0/1 [00:00<?, ?it/s]"
      ]
     },
     "metadata": {},
     "output_type": "display_data"
    },
    {
     "name": "stderr",
     "output_type": "stream",
     "text": [
      "\r",
      "Processing ligands: 921it [03:36,  3.81it/s]"
     ]
    },
    {
     "name": "stdout",
     "output_type": "stream",
     "text": [
      "/media/lmeuret/Seagate Portable Drive/result_docking/DOCKING_project/Conan-main/results_SMINA/DOCKED/ligand26/output44_ligand26_2023-11-22-15_52/best.pdbqt\n",
      "/media/lmeuret/Seagate Portable Drive/result_docking/DOCKING_project/Conan-main/receptors/output44.pdbqt\n"
     ]
    },
    {
     "data": {
      "application/vnd.jupyter.widget-view+json": {
       "model_id": "ea099aa6028d44d582ce07bd86e97e22",
       "version_major": 2,
       "version_minor": 0
      },
      "text/plain": [
       "  0%|          | 0/1 [00:00<?, ?it/s]"
      ]
     },
     "metadata": {},
     "output_type": "display_data"
    },
    {
     "name": "stderr",
     "output_type": "stream",
     "text": [
      "\r",
      "Processing ligands: 922it [03:36,  3.64it/s]"
     ]
    },
    {
     "name": "stdout",
     "output_type": "stream",
     "text": [
      "/media/lmeuret/Seagate Portable Drive/result_docking/DOCKING_project/Conan-main/results_SMINA/DOCKED/ligand260/output44_ligand260_2023-11-22-15_52/best.pdbqt\n",
      "/media/lmeuret/Seagate Portable Drive/result_docking/DOCKING_project/Conan-main/receptors/output44.pdbqt\n"
     ]
    },
    {
     "data": {
      "application/vnd.jupyter.widget-view+json": {
       "model_id": "a94edc6a6e164a96b5b10543a585ed41",
       "version_major": 2,
       "version_minor": 0
      },
      "text/plain": [
       "  0%|          | 0/1 [00:00<?, ?it/s]"
      ]
     },
     "metadata": {},
     "output_type": "display_data"
    },
    {
     "name": "stderr",
     "output_type": "stream",
     "text": [
      "\r",
      "Processing ligands: 923it [03:36,  3.81it/s]"
     ]
    },
    {
     "name": "stdout",
     "output_type": "stream",
     "text": [
      "/media/lmeuret/Seagate Portable Drive/result_docking/DOCKING_project/Conan-main/results_SMINA/DOCKED/ligand261/output44_ligand261_2023-11-22-15_52/best.pdbqt\n",
      "/media/lmeuret/Seagate Portable Drive/result_docking/DOCKING_project/Conan-main/receptors/output44.pdbqt\n"
     ]
    },
    {
     "data": {
      "application/vnd.jupyter.widget-view+json": {
       "model_id": "29fdd95f3ddd4d388a41cb62bbc6ffd6",
       "version_major": 2,
       "version_minor": 0
      },
      "text/plain": [
       "  0%|          | 0/1 [00:00<?, ?it/s]"
      ]
     },
     "metadata": {},
     "output_type": "display_data"
    },
    {
     "name": "stderr",
     "output_type": "stream",
     "text": [
      "\r",
      "Processing ligands: 924it [03:36,  3.95it/s]"
     ]
    },
    {
     "name": "stdout",
     "output_type": "stream",
     "text": [
      "/media/lmeuret/Seagate Portable Drive/result_docking/DOCKING_project/Conan-main/results_SMINA/DOCKED/ligand262/output44_ligand262_2023-11-22-15_52/best.pdbqt\n",
      "/media/lmeuret/Seagate Portable Drive/result_docking/DOCKING_project/Conan-main/receptors/output44.pdbqt\n"
     ]
    },
    {
     "data": {
      "application/vnd.jupyter.widget-view+json": {
       "model_id": "bcda4644349143f5a6a72bc33cffb6b0",
       "version_major": 2,
       "version_minor": 0
      },
      "text/plain": [
       "  0%|          | 0/1 [00:00<?, ?it/s]"
      ]
     },
     "metadata": {},
     "output_type": "display_data"
    },
    {
     "name": "stderr",
     "output_type": "stream",
     "text": [
      "\r",
      "Processing ligands: 925it [03:37,  4.01it/s]"
     ]
    },
    {
     "name": "stdout",
     "output_type": "stream",
     "text": [
      "/media/lmeuret/Seagate Portable Drive/result_docking/DOCKING_project/Conan-main/results_SMINA/DOCKED/ligand263/output44_ligand263_2023-11-22-15_52/best.pdbqt\n",
      "/media/lmeuret/Seagate Portable Drive/result_docking/DOCKING_project/Conan-main/receptors/output44.pdbqt\n"
     ]
    },
    {
     "data": {
      "application/vnd.jupyter.widget-view+json": {
       "model_id": "03f81cec167d46a1b08192b6d25e858e",
       "version_major": 2,
       "version_minor": 0
      },
      "text/plain": [
       "  0%|          | 0/1 [00:00<?, ?it/s]"
      ]
     },
     "metadata": {},
     "output_type": "display_data"
    },
    {
     "name": "stderr",
     "output_type": "stream",
     "text": [
      "\r",
      "Processing ligands: 926it [03:37,  4.01it/s]"
     ]
    },
    {
     "name": "stdout",
     "output_type": "stream",
     "text": [
      "/media/lmeuret/Seagate Portable Drive/result_docking/DOCKING_project/Conan-main/results_SMINA/DOCKED/ligand264/output44_ligand264_2023-11-22-15_52/best.pdbqt\n",
      "/media/lmeuret/Seagate Portable Drive/result_docking/DOCKING_project/Conan-main/receptors/output44.pdbqt\n"
     ]
    },
    {
     "data": {
      "application/vnd.jupyter.widget-view+json": {
       "model_id": "4ed315d83fcd4fb9b1045c8e67be4496",
       "version_major": 2,
       "version_minor": 0
      },
      "text/plain": [
       "  0%|          | 0/1 [00:00<?, ?it/s]"
      ]
     },
     "metadata": {},
     "output_type": "display_data"
    },
    {
     "name": "stderr",
     "output_type": "stream",
     "text": [
      "\r",
      "Processing ligands: 927it [03:37,  4.10it/s]"
     ]
    },
    {
     "name": "stdout",
     "output_type": "stream",
     "text": [
      "/media/lmeuret/Seagate Portable Drive/result_docking/DOCKING_project/Conan-main/results_SMINA/DOCKED/ligand265/output44_ligand265_2023-11-22-15_52/best.pdbqt\n",
      "/media/lmeuret/Seagate Portable Drive/result_docking/DOCKING_project/Conan-main/receptors/output44.pdbqt\n"
     ]
    },
    {
     "data": {
      "application/vnd.jupyter.widget-view+json": {
       "model_id": "f1bc17299da04e99837d7e04577fcfec",
       "version_major": 2,
       "version_minor": 0
      },
      "text/plain": [
       "  0%|          | 0/1 [00:00<?, ?it/s]"
      ]
     },
     "metadata": {},
     "output_type": "display_data"
    },
    {
     "name": "stderr",
     "output_type": "stream",
     "text": [
      "\r",
      "Processing ligands: 928it [03:37,  3.94it/s]"
     ]
    },
    {
     "name": "stdout",
     "output_type": "stream",
     "text": [
      "/media/lmeuret/Seagate Portable Drive/result_docking/DOCKING_project/Conan-main/results_SMINA/DOCKED/ligand266/output44_ligand266_2023-11-22-15_52/best.pdbqt\n",
      "/media/lmeuret/Seagate Portable Drive/result_docking/DOCKING_project/Conan-main/receptors/output44.pdbqt\n"
     ]
    },
    {
     "data": {
      "application/vnd.jupyter.widget-view+json": {
       "model_id": "cea7723e558e4431be538dd1349c3367",
       "version_major": 2,
       "version_minor": 0
      },
      "text/plain": [
       "  0%|          | 0/1 [00:00<?, ?it/s]"
      ]
     },
     "metadata": {},
     "output_type": "display_data"
    },
    {
     "name": "stderr",
     "output_type": "stream",
     "text": [
      "\r",
      "Processing ligands: 929it [03:38,  4.02it/s]"
     ]
    },
    {
     "name": "stdout",
     "output_type": "stream",
     "text": [
      "/media/lmeuret/Seagate Portable Drive/result_docking/DOCKING_project/Conan-main/results_SMINA/DOCKED/ligand267/output44_ligand267_2023-11-22-15_52/best.pdbqt\n",
      "/media/lmeuret/Seagate Portable Drive/result_docking/DOCKING_project/Conan-main/receptors/output44.pdbqt\n"
     ]
    },
    {
     "data": {
      "application/vnd.jupyter.widget-view+json": {
       "model_id": "2aaaf5fb5cd14439865b9436082fcd04",
       "version_major": 2,
       "version_minor": 0
      },
      "text/plain": [
       "  0%|          | 0/1 [00:00<?, ?it/s]"
      ]
     },
     "metadata": {},
     "output_type": "display_data"
    },
    {
     "name": "stderr",
     "output_type": "stream",
     "text": [
      "\r",
      "Processing ligands: 930it [03:38,  4.07it/s]"
     ]
    },
    {
     "name": "stdout",
     "output_type": "stream",
     "text": [
      "/media/lmeuret/Seagate Portable Drive/result_docking/DOCKING_project/Conan-main/results_SMINA/DOCKED/ligand662/output44_ligand662_2023-11-22-15_52/best.pdbqt\n",
      "/media/lmeuret/Seagate Portable Drive/result_docking/DOCKING_project/Conan-main/receptors/output44.pdbqt\n"
     ]
    },
    {
     "data": {
      "application/vnd.jupyter.widget-view+json": {
       "model_id": "cd9805e71e3b4d52bd8d1d8aa79301b9",
       "version_major": 2,
       "version_minor": 0
      },
      "text/plain": [
       "  0%|          | 0/1 [00:00<?, ?it/s]"
      ]
     },
     "metadata": {},
     "output_type": "display_data"
    },
    {
     "name": "stderr",
     "output_type": "stream",
     "text": [
      "\r",
      "Processing ligands: 931it [03:38,  4.03it/s]"
     ]
    },
    {
     "name": "stdout",
     "output_type": "stream",
     "text": [
      "/media/lmeuret/Seagate Portable Drive/result_docking/DOCKING_project/Conan-main/results_SMINA/DOCKED/ligand663/output44_ligand663_2023-11-22-15_52/best.pdbqt\n",
      "/media/lmeuret/Seagate Portable Drive/result_docking/DOCKING_project/Conan-main/receptors/output44.pdbqt\n"
     ]
    },
    {
     "data": {
      "application/vnd.jupyter.widget-view+json": {
       "model_id": "28ca728ee0a74afdb4f6745125fd7717",
       "version_major": 2,
       "version_minor": 0
      },
      "text/plain": [
       "  0%|          | 0/1 [00:00<?, ?it/s]"
      ]
     },
     "metadata": {},
     "output_type": "display_data"
    },
    {
     "name": "stderr",
     "output_type": "stream",
     "text": [
      "\r",
      "Processing ligands: 932it [03:38,  3.93it/s]"
     ]
    },
    {
     "name": "stdout",
     "output_type": "stream",
     "text": [
      "/media/lmeuret/Seagate Portable Drive/result_docking/DOCKING_project/Conan-main/results_SMINA/DOCKED/ligand664/output44_ligand664_2023-11-22-15_52/best.pdbqt\n",
      "/media/lmeuret/Seagate Portable Drive/result_docking/DOCKING_project/Conan-main/receptors/output44.pdbqt\n"
     ]
    },
    {
     "data": {
      "application/vnd.jupyter.widget-view+json": {
       "model_id": "33ec68e5e54243dea0954a28746b81bd",
       "version_major": 2,
       "version_minor": 0
      },
      "text/plain": [
       "  0%|          | 0/1 [00:00<?, ?it/s]"
      ]
     },
     "metadata": {},
     "output_type": "display_data"
    },
    {
     "name": "stderr",
     "output_type": "stream",
     "text": [
      "\r",
      "Processing ligands: 933it [03:39,  3.84it/s]"
     ]
    },
    {
     "name": "stdout",
     "output_type": "stream",
     "text": [
      "/media/lmeuret/Seagate Portable Drive/result_docking/DOCKING_project/Conan-main/results_SMINA/DOCKED/ligand665/output44_ligand665_2023-11-22-15_52/best.pdbqt\n",
      "/media/lmeuret/Seagate Portable Drive/result_docking/DOCKING_project/Conan-main/receptors/output44.pdbqt\n"
     ]
    },
    {
     "data": {
      "application/vnd.jupyter.widget-view+json": {
       "model_id": "5308f0e6671e4018b20c112e8c282a19",
       "version_major": 2,
       "version_minor": 0
      },
      "text/plain": [
       "  0%|          | 0/1 [00:00<?, ?it/s]"
      ]
     },
     "metadata": {},
     "output_type": "display_data"
    },
    {
     "name": "stderr",
     "output_type": "stream",
     "text": [
      "\r",
      "Processing ligands: 934it [03:39,  3.79it/s]"
     ]
    },
    {
     "name": "stdout",
     "output_type": "stream",
     "text": [
      "/media/lmeuret/Seagate Portable Drive/result_docking/DOCKING_project/Conan-main/results_SMINA/DOCKED/ligand666/output44_ligand666_2023-11-22-15_52/best.pdbqt\n",
      "/media/lmeuret/Seagate Portable Drive/result_docking/DOCKING_project/Conan-main/receptors/output44.pdbqt\n"
     ]
    },
    {
     "data": {
      "application/vnd.jupyter.widget-view+json": {
       "model_id": "9eddaebec8b7448baa5d843ce9a2a7c2",
       "version_major": 2,
       "version_minor": 0
      },
      "text/plain": [
       "  0%|          | 0/1 [00:00<?, ?it/s]"
      ]
     },
     "metadata": {},
     "output_type": "display_data"
    },
    {
     "name": "stderr",
     "output_type": "stream",
     "text": [
      "\r",
      "Processing ligands: 935it [03:39,  3.70it/s]"
     ]
    },
    {
     "name": "stdout",
     "output_type": "stream",
     "text": [
      "/media/lmeuret/Seagate Portable Drive/result_docking/DOCKING_project/Conan-main/results_SMINA/DOCKED/ligand667/output44_ligand667_2023-11-22-15_52/best.pdbqt\n",
      "/media/lmeuret/Seagate Portable Drive/result_docking/DOCKING_project/Conan-main/receptors/output44.pdbqt\n"
     ]
    },
    {
     "data": {
      "application/vnd.jupyter.widget-view+json": {
       "model_id": "40e8fad8e8a24cf8a0112133971cb0a0",
       "version_major": 2,
       "version_minor": 0
      },
      "text/plain": [
       "  0%|          | 0/1 [00:00<?, ?it/s]"
      ]
     },
     "metadata": {},
     "output_type": "display_data"
    },
    {
     "name": "stderr",
     "output_type": "stream",
     "text": [
      "\r",
      "Processing ligands: 936it [03:40,  3.77it/s]"
     ]
    },
    {
     "name": "stdout",
     "output_type": "stream",
     "text": [
      "/media/lmeuret/Seagate Portable Drive/result_docking/DOCKING_project/Conan-main/results_SMINA/DOCKED/ligand668/output44_ligand668_2023-11-22-15_52/best.pdbqt\n",
      "/media/lmeuret/Seagate Portable Drive/result_docking/DOCKING_project/Conan-main/receptors/output44.pdbqt\n"
     ]
    },
    {
     "data": {
      "application/vnd.jupyter.widget-view+json": {
       "model_id": "be6fa6173a85431285b0df34ae8adc5e",
       "version_major": 2,
       "version_minor": 0
      },
      "text/plain": [
       "  0%|          | 0/1 [00:00<?, ?it/s]"
      ]
     },
     "metadata": {},
     "output_type": "display_data"
    },
    {
     "name": "stderr",
     "output_type": "stream",
     "text": [
      "\r",
      "Processing ligands: 937it [03:40,  3.79it/s]"
     ]
    },
    {
     "name": "stdout",
     "output_type": "stream",
     "text": [
      "/media/lmeuret/Seagate Portable Drive/result_docking/DOCKING_project/Conan-main/results_SMINA/DOCKED/ligand669/output44_ligand669_2023-11-22-15_52/best.pdbqt\n",
      "/media/lmeuret/Seagate Portable Drive/result_docking/DOCKING_project/Conan-main/receptors/output44.pdbqt\n"
     ]
    },
    {
     "data": {
      "application/vnd.jupyter.widget-view+json": {
       "model_id": "cebfc9f73ea240b8a2b096a85125b34e",
       "version_major": 2,
       "version_minor": 0
      },
      "text/plain": [
       "  0%|          | 0/1 [00:00<?, ?it/s]"
      ]
     },
     "metadata": {},
     "output_type": "display_data"
    },
    {
     "name": "stderr",
     "output_type": "stream",
     "text": [
      "\r",
      "Processing ligands: 938it [03:40,  3.83it/s]"
     ]
    },
    {
     "name": "stdout",
     "output_type": "stream",
     "text": [
      "/media/lmeuret/Seagate Portable Drive/result_docking/DOCKING_project/Conan-main/results_SMINA/DOCKED/ligand67/output44_ligand67_2023-11-22-15_52/best.pdbqt\n",
      "/media/lmeuret/Seagate Portable Drive/result_docking/DOCKING_project/Conan-main/receptors/output44.pdbqt\n"
     ]
    },
    {
     "data": {
      "application/vnd.jupyter.widget-view+json": {
       "model_id": "5c5135ac4e1b46c18d25efe16fa867ab",
       "version_major": 2,
       "version_minor": 0
      },
      "text/plain": [
       "  0%|          | 0/1 [00:00<?, ?it/s]"
      ]
     },
     "metadata": {},
     "output_type": "display_data"
    },
    {
     "name": "stderr",
     "output_type": "stream",
     "text": [
      "\r",
      "Processing ligands: 939it [03:40,  3.91it/s]"
     ]
    },
    {
     "name": "stdout",
     "output_type": "stream",
     "text": [
      "/media/lmeuret/Seagate Portable Drive/result_docking/DOCKING_project/Conan-main/results_SMINA/DOCKED/ligand670/output44_ligand670_2023-11-22-15_52/best.pdbqt\n",
      "/media/lmeuret/Seagate Portable Drive/result_docking/DOCKING_project/Conan-main/receptors/output44.pdbqt\n"
     ]
    },
    {
     "data": {
      "application/vnd.jupyter.widget-view+json": {
       "model_id": "d5b3d16eb7994268b0f6c05ba66b441e",
       "version_major": 2,
       "version_minor": 0
      },
      "text/plain": [
       "  0%|          | 0/1 [00:00<?, ?it/s]"
      ]
     },
     "metadata": {},
     "output_type": "display_data"
    },
    {
     "name": "stderr",
     "output_type": "stream",
     "text": [
      "\r",
      "Processing ligands: 940it [03:41,  3.89it/s]"
     ]
    },
    {
     "name": "stdout",
     "output_type": "stream",
     "text": [
      "/media/lmeuret/Seagate Portable Drive/result_docking/DOCKING_project/Conan-main/results_SMINA/DOCKED/ligand671/output44_ligand671_2023-11-22-15_52/best.pdbqt\n",
      "/media/lmeuret/Seagate Portable Drive/result_docking/DOCKING_project/Conan-main/receptors/output44.pdbqt\n"
     ]
    },
    {
     "data": {
      "application/vnd.jupyter.widget-view+json": {
       "model_id": "d1e971d533fa4ac0afa24a3a37311324",
       "version_major": 2,
       "version_minor": 0
      },
      "text/plain": [
       "  0%|          | 0/1 [00:00<?, ?it/s]"
      ]
     },
     "metadata": {},
     "output_type": "display_data"
    },
    {
     "name": "stderr",
     "output_type": "stream",
     "text": [
      "\r",
      "Processing ligands: 941it [03:41,  3.96it/s]"
     ]
    },
    {
     "name": "stdout",
     "output_type": "stream",
     "text": [
      "/media/lmeuret/Seagate Portable Drive/result_docking/DOCKING_project/Conan-main/results_SMINA/DOCKED/ligand672/output44_ligand672_2023-11-22-15_52/best.pdbqt\n",
      "/media/lmeuret/Seagate Portable Drive/result_docking/DOCKING_project/Conan-main/receptors/output44.pdbqt\n"
     ]
    },
    {
     "data": {
      "application/vnd.jupyter.widget-view+json": {
       "model_id": "e5139181dd8244669e4fe4b197d9c3e9",
       "version_major": 2,
       "version_minor": 0
      },
      "text/plain": [
       "  0%|          | 0/1 [00:00<?, ?it/s]"
      ]
     },
     "metadata": {},
     "output_type": "display_data"
    },
    {
     "name": "stderr",
     "output_type": "stream",
     "text": [
      "\r",
      "Processing ligands: 942it [03:41,  4.08it/s]"
     ]
    },
    {
     "name": "stdout",
     "output_type": "stream",
     "text": [
      "/media/lmeuret/Seagate Portable Drive/result_docking/DOCKING_project/Conan-main/results_SMINA/DOCKED/ligand673/output44_ligand673_2023-11-22-15_52/best.pdbqt\n",
      "/media/lmeuret/Seagate Portable Drive/result_docking/DOCKING_project/Conan-main/receptors/output44.pdbqt\n"
     ]
    },
    {
     "data": {
      "application/vnd.jupyter.widget-view+json": {
       "model_id": "ed7d68449e5147d8a5262124d239b629",
       "version_major": 2,
       "version_minor": 0
      },
      "text/plain": [
       "  0%|          | 0/1 [00:00<?, ?it/s]"
      ]
     },
     "metadata": {},
     "output_type": "display_data"
    },
    {
     "name": "stderr",
     "output_type": "stream",
     "text": [
      "\r",
      "Processing ligands: 943it [03:41,  4.03it/s]"
     ]
    },
    {
     "name": "stdout",
     "output_type": "stream",
     "text": [
      "/media/lmeuret/Seagate Portable Drive/result_docking/DOCKING_project/Conan-main/results_SMINA/DOCKED/ligand674/output44_ligand674_2023-11-22-15_52/best.pdbqt\n",
      "/media/lmeuret/Seagate Portable Drive/result_docking/DOCKING_project/Conan-main/receptors/output44.pdbqt\n"
     ]
    },
    {
     "data": {
      "application/vnd.jupyter.widget-view+json": {
       "model_id": "a4255089498c4823bbd0a8806834781c",
       "version_major": 2,
       "version_minor": 0
      },
      "text/plain": [
       "  0%|          | 0/1 [00:00<?, ?it/s]"
      ]
     },
     "metadata": {},
     "output_type": "display_data"
    },
    {
     "name": "stderr",
     "output_type": "stream",
     "text": [
      "\r",
      "Processing ligands: 944it [03:42,  4.01it/s]"
     ]
    },
    {
     "name": "stdout",
     "output_type": "stream",
     "text": [
      "/media/lmeuret/Seagate Portable Drive/result_docking/DOCKING_project/Conan-main/results_SMINA/DOCKED/ligand675/output44_ligand675_2023-11-22-15_52/best.pdbqt\n",
      "/media/lmeuret/Seagate Portable Drive/result_docking/DOCKING_project/Conan-main/receptors/output44.pdbqt\n"
     ]
    },
    {
     "data": {
      "application/vnd.jupyter.widget-view+json": {
       "model_id": "64ec14fbc0294654bf98f813827ba88c",
       "version_major": 2,
       "version_minor": 0
      },
      "text/plain": [
       "  0%|          | 0/1 [00:00<?, ?it/s]"
      ]
     },
     "metadata": {},
     "output_type": "display_data"
    },
    {
     "name": "stderr",
     "output_type": "stream",
     "text": [
      "\r",
      "Processing ligands: 945it [03:42,  3.94it/s]"
     ]
    },
    {
     "name": "stdout",
     "output_type": "stream",
     "text": [
      "/media/lmeuret/Seagate Portable Drive/result_docking/DOCKING_project/Conan-main/results_SMINA/DOCKED/ligand676/output44_ligand676_2023-11-22-15_52/best.pdbqt\n",
      "/media/lmeuret/Seagate Portable Drive/result_docking/DOCKING_project/Conan-main/receptors/output44.pdbqt\n"
     ]
    },
    {
     "data": {
      "application/vnd.jupyter.widget-view+json": {
       "model_id": "113e773eb6cf4b7ba33ac8ab79151c4a",
       "version_major": 2,
       "version_minor": 0
      },
      "text/plain": [
       "  0%|          | 0/1 [00:00<?, ?it/s]"
      ]
     },
     "metadata": {},
     "output_type": "display_data"
    },
    {
     "name": "stderr",
     "output_type": "stream",
     "text": [
      "\r",
      "Processing ligands: 946it [03:42,  4.09it/s]"
     ]
    },
    {
     "name": "stdout",
     "output_type": "stream",
     "text": [
      "/media/lmeuret/Seagate Portable Drive/result_docking/DOCKING_project/Conan-main/results_SMINA/DOCKED/ligand677/output44_ligand677_2023-11-22-15_52/best.pdbqt\n",
      "/media/lmeuret/Seagate Portable Drive/result_docking/DOCKING_project/Conan-main/receptors/output44.pdbqt\n"
     ]
    },
    {
     "data": {
      "application/vnd.jupyter.widget-view+json": {
       "model_id": "420175df135c4768a35663c732774559",
       "version_major": 2,
       "version_minor": 0
      },
      "text/plain": [
       "  0%|          | 0/1 [00:00<?, ?it/s]"
      ]
     },
     "metadata": {},
     "output_type": "display_data"
    },
    {
     "name": "stderr",
     "output_type": "stream",
     "text": [
      "\r",
      "Processing ligands: 947it [03:42,  4.10it/s]"
     ]
    },
    {
     "name": "stdout",
     "output_type": "stream",
     "text": [
      "/media/lmeuret/Seagate Portable Drive/result_docking/DOCKING_project/Conan-main/results_SMINA/DOCKED/ligand678/output44_ligand678_2023-11-22-15_52/best.pdbqt\n",
      "/media/lmeuret/Seagate Portable Drive/result_docking/DOCKING_project/Conan-main/receptors/output44.pdbqt\n"
     ]
    },
    {
     "data": {
      "application/vnd.jupyter.widget-view+json": {
       "model_id": "edd30d1a6ef94ad7975da18b4b1bbb99",
       "version_major": 2,
       "version_minor": 0
      },
      "text/plain": [
       "  0%|          | 0/1 [00:00<?, ?it/s]"
      ]
     },
     "metadata": {},
     "output_type": "display_data"
    },
    {
     "name": "stderr",
     "output_type": "stream",
     "text": [
      "\r",
      "Processing ligands: 948it [03:42,  4.15it/s]"
     ]
    },
    {
     "name": "stdout",
     "output_type": "stream",
     "text": [
      "/media/lmeuret/Seagate Portable Drive/result_docking/DOCKING_project/Conan-main/results_SMINA/DOCKED/ligand679/output44_ligand679_2023-11-22-15_52/best.pdbqt\n",
      "/media/lmeuret/Seagate Portable Drive/result_docking/DOCKING_project/Conan-main/receptors/output44.pdbqt\n"
     ]
    },
    {
     "data": {
      "application/vnd.jupyter.widget-view+json": {
       "model_id": "e6ceb7bd4d7643fa9c61f2bf4636e9f8",
       "version_major": 2,
       "version_minor": 0
      },
      "text/plain": [
       "  0%|          | 0/1 [00:00<?, ?it/s]"
      ]
     },
     "metadata": {},
     "output_type": "display_data"
    },
    {
     "name": "stderr",
     "output_type": "stream",
     "text": [
      "\r",
      "Processing ligands: 949it [03:43,  3.98it/s]"
     ]
    },
    {
     "name": "stdout",
     "output_type": "stream",
     "text": [
      "/media/lmeuret/Seagate Portable Drive/result_docking/DOCKING_project/Conan-main/results_SMINA/DOCKED/ligand68/output44_ligand68_2023-11-22-15_52/best.pdbqt\n",
      "/media/lmeuret/Seagate Portable Drive/result_docking/DOCKING_project/Conan-main/receptors/output44.pdbqt\n"
     ]
    },
    {
     "data": {
      "application/vnd.jupyter.widget-view+json": {
       "model_id": "a86d8fa5c2c644b689c88393fda6869a",
       "version_major": 2,
       "version_minor": 0
      },
      "text/plain": [
       "  0%|          | 0/1 [00:00<?, ?it/s]"
      ]
     },
     "metadata": {},
     "output_type": "display_data"
    },
    {
     "name": "stderr",
     "output_type": "stream",
     "text": [
      "\r",
      "Processing ligands: 950it [03:43,  3.98it/s]"
     ]
    },
    {
     "name": "stdout",
     "output_type": "stream",
     "text": [
      "/media/lmeuret/Seagate Portable Drive/result_docking/DOCKING_project/Conan-main/results_SMINA/DOCKED/ligand12/output44_ligand12_2023-11-22-15_52/best.pdbqt\n",
      "/media/lmeuret/Seagate Portable Drive/result_docking/DOCKING_project/Conan-main/receptors/output44.pdbqt\n"
     ]
    },
    {
     "data": {
      "application/vnd.jupyter.widget-view+json": {
       "model_id": "4cad568bc22547cd9a865d0390ce3fbc",
       "version_major": 2,
       "version_minor": 0
      },
      "text/plain": [
       "  0%|          | 0/1 [00:00<?, ?it/s]"
      ]
     },
     "metadata": {},
     "output_type": "display_data"
    },
    {
     "name": "stderr",
     "output_type": "stream",
     "text": [
      "\r",
      "Processing ligands: 951it [03:43,  4.06it/s]"
     ]
    },
    {
     "name": "stdout",
     "output_type": "stream",
     "text": [
      "/media/lmeuret/Seagate Portable Drive/result_docking/DOCKING_project/Conan-main/results_SMINA/DOCKED/ligand120/output44_ligand120_2023-11-22-15_52/best.pdbqt\n",
      "/media/lmeuret/Seagate Portable Drive/result_docking/DOCKING_project/Conan-main/receptors/output44.pdbqt\n"
     ]
    },
    {
     "data": {
      "application/vnd.jupyter.widget-view+json": {
       "model_id": "01e4d4df15c8467a9bdc0729ba0531ff",
       "version_major": 2,
       "version_minor": 0
      },
      "text/plain": [
       "  0%|          | 0/1 [00:00<?, ?it/s]"
      ]
     },
     "metadata": {},
     "output_type": "display_data"
    },
    {
     "name": "stderr",
     "output_type": "stream",
     "text": [
      "\r",
      "Processing ligands: 952it [03:43,  4.11it/s]"
     ]
    },
    {
     "name": "stdout",
     "output_type": "stream",
     "text": [
      "/media/lmeuret/Seagate Portable Drive/result_docking/DOCKING_project/Conan-main/results_SMINA/DOCKED/ligand121/output44_ligand121_2023-11-22-15_52/best.pdbqt\n",
      "/media/lmeuret/Seagate Portable Drive/result_docking/DOCKING_project/Conan-main/receptors/output44.pdbqt\n"
     ]
    },
    {
     "data": {
      "application/vnd.jupyter.widget-view+json": {
       "model_id": "e23f92bdfe644e2f88cbb9eabd0ed251",
       "version_major": 2,
       "version_minor": 0
      },
      "text/plain": [
       "  0%|          | 0/1 [00:00<?, ?it/s]"
      ]
     },
     "metadata": {},
     "output_type": "display_data"
    },
    {
     "name": "stderr",
     "output_type": "stream",
     "text": [
      "\r",
      "Processing ligands: 953it [03:44,  4.05it/s]"
     ]
    },
    {
     "name": "stdout",
     "output_type": "stream",
     "text": [
      "/media/lmeuret/Seagate Portable Drive/result_docking/DOCKING_project/Conan-main/results_SMINA/DOCKED/ligand122/output44_ligand122_2023-11-22-15_52/best.pdbqt\n",
      "/media/lmeuret/Seagate Portable Drive/result_docking/DOCKING_project/Conan-main/receptors/output44.pdbqt\n"
     ]
    },
    {
     "data": {
      "application/vnd.jupyter.widget-view+json": {
       "model_id": "354eba80c92c4ee19d4d53fe586f0011",
       "version_major": 2,
       "version_minor": 0
      },
      "text/plain": [
       "  0%|          | 0/1 [00:00<?, ?it/s]"
      ]
     },
     "metadata": {},
     "output_type": "display_data"
    },
    {
     "name": "stderr",
     "output_type": "stream",
     "text": [
      "\r",
      "Processing ligands: 954it [03:44,  3.99it/s]"
     ]
    },
    {
     "name": "stdout",
     "output_type": "stream",
     "text": [
      "/media/lmeuret/Seagate Portable Drive/result_docking/DOCKING_project/Conan-main/results_SMINA/DOCKED/ligand123/output44_ligand123_2023-11-22-15_52/best.pdbqt\n",
      "/media/lmeuret/Seagate Portable Drive/result_docking/DOCKING_project/Conan-main/receptors/output44.pdbqt\n"
     ]
    },
    {
     "data": {
      "application/vnd.jupyter.widget-view+json": {
       "model_id": "83d0995d788a4c1fa06fa8586134c5e7",
       "version_major": 2,
       "version_minor": 0
      },
      "text/plain": [
       "  0%|          | 0/1 [00:00<?, ?it/s]"
      ]
     },
     "metadata": {},
     "output_type": "display_data"
    },
    {
     "name": "stderr",
     "output_type": "stream",
     "text": [
      "\r",
      "Processing ligands: 955it [03:44,  3.89it/s]"
     ]
    },
    {
     "name": "stdout",
     "output_type": "stream",
     "text": [
      "/media/lmeuret/Seagate Portable Drive/result_docking/DOCKING_project/Conan-main/results_SMINA/DOCKED/ligand124/output44_ligand124_2023-11-22-15_52/best.pdbqt\n",
      "/media/lmeuret/Seagate Portable Drive/result_docking/DOCKING_project/Conan-main/receptors/output44.pdbqt\n"
     ]
    },
    {
     "data": {
      "application/vnd.jupyter.widget-view+json": {
       "model_id": "4b0e31d27645479aa78a7cccef821a84",
       "version_major": 2,
       "version_minor": 0
      },
      "text/plain": [
       "  0%|          | 0/1 [00:00<?, ?it/s]"
      ]
     },
     "metadata": {},
     "output_type": "display_data"
    },
    {
     "name": "stderr",
     "output_type": "stream",
     "text": [
      "\r",
      "Processing ligands: 956it [03:45,  3.98it/s]"
     ]
    },
    {
     "name": "stdout",
     "output_type": "stream",
     "text": [
      "/media/lmeuret/Seagate Portable Drive/result_docking/DOCKING_project/Conan-main/results_SMINA/DOCKED/ligand125/output44_ligand125_2023-11-22-15_52/best.pdbqt\n",
      "/media/lmeuret/Seagate Portable Drive/result_docking/DOCKING_project/Conan-main/receptors/output44.pdbqt\n"
     ]
    },
    {
     "data": {
      "application/vnd.jupyter.widget-view+json": {
       "model_id": "5b3763d9e796432da2e4b009f081af66",
       "version_major": 2,
       "version_minor": 0
      },
      "text/plain": [
       "  0%|          | 0/1 [00:00<?, ?it/s]"
      ]
     },
     "metadata": {},
     "output_type": "display_data"
    },
    {
     "name": "stderr",
     "output_type": "stream",
     "text": [
      "\r",
      "Processing ligands: 957it [03:45,  4.03it/s]"
     ]
    },
    {
     "name": "stdout",
     "output_type": "stream",
     "text": [
      "/media/lmeuret/Seagate Portable Drive/result_docking/DOCKING_project/Conan-main/results_SMINA/DOCKED/ligand126/output44_ligand126_2023-11-22-15_52/best.pdbqt\n",
      "/media/lmeuret/Seagate Portable Drive/result_docking/DOCKING_project/Conan-main/receptors/output44.pdbqt\n"
     ]
    },
    {
     "data": {
      "application/vnd.jupyter.widget-view+json": {
       "model_id": "813489d1f158489fb603594e7decd055",
       "version_major": 2,
       "version_minor": 0
      },
      "text/plain": [
       "  0%|          | 0/1 [00:00<?, ?it/s]"
      ]
     },
     "metadata": {},
     "output_type": "display_data"
    },
    {
     "name": "stderr",
     "output_type": "stream",
     "text": [
      "\r",
      "Processing ligands: 958it [03:45,  4.04it/s]"
     ]
    },
    {
     "name": "stdout",
     "output_type": "stream",
     "text": [
      "/media/lmeuret/Seagate Portable Drive/result_docking/DOCKING_project/Conan-main/results_SMINA/DOCKED/ligand127/output44_ligand127_2023-11-22-15_52/best.pdbqt\n",
      "/media/lmeuret/Seagate Portable Drive/result_docking/DOCKING_project/Conan-main/receptors/output44.pdbqt\n"
     ]
    },
    {
     "data": {
      "application/vnd.jupyter.widget-view+json": {
       "model_id": "34f60814285349e9816faafd416e69f1",
       "version_major": 2,
       "version_minor": 0
      },
      "text/plain": [
       "  0%|          | 0/1 [00:00<?, ?it/s]"
      ]
     },
     "metadata": {},
     "output_type": "display_data"
    },
    {
     "name": "stderr",
     "output_type": "stream",
     "text": [
      "\r",
      "Processing ligands: 959it [03:45,  3.91it/s]"
     ]
    },
    {
     "name": "stdout",
     "output_type": "stream",
     "text": [
      "/media/lmeuret/Seagate Portable Drive/result_docking/DOCKING_project/Conan-main/results_SMINA/DOCKED/ligand128/output44_ligand128_2023-11-22-15_52/best.pdbqt\n",
      "/media/lmeuret/Seagate Portable Drive/result_docking/DOCKING_project/Conan-main/receptors/output44.pdbqt\n"
     ]
    },
    {
     "data": {
      "application/vnd.jupyter.widget-view+json": {
       "model_id": "fa9a26ba976247b9a9c62bf187652abb",
       "version_major": 2,
       "version_minor": 0
      },
      "text/plain": [
       "  0%|          | 0/1 [00:00<?, ?it/s]"
      ]
     },
     "metadata": {},
     "output_type": "display_data"
    },
    {
     "name": "stderr",
     "output_type": "stream",
     "text": [
      "\r",
      "Processing ligands: 960it [03:46,  3.93it/s]"
     ]
    },
    {
     "name": "stdout",
     "output_type": "stream",
     "text": [
      "/media/lmeuret/Seagate Portable Drive/result_docking/DOCKING_project/Conan-main/results_SMINA/DOCKED/ligand129/output44_ligand129_2023-11-22-15_52/best.pdbqt\n",
      "/media/lmeuret/Seagate Portable Drive/result_docking/DOCKING_project/Conan-main/receptors/output44.pdbqt\n"
     ]
    },
    {
     "data": {
      "application/vnd.jupyter.widget-view+json": {
       "model_id": "0103835db4b549f1865ec660f389b3bb",
       "version_major": 2,
       "version_minor": 0
      },
      "text/plain": [
       "  0%|          | 0/1 [00:00<?, ?it/s]"
      ]
     },
     "metadata": {},
     "output_type": "display_data"
    },
    {
     "name": "stderr",
     "output_type": "stream",
     "text": [
      "\r",
      "Processing ligands: 961it [03:46,  3.78it/s]"
     ]
    },
    {
     "name": "stdout",
     "output_type": "stream",
     "text": [
      "/media/lmeuret/Seagate Portable Drive/result_docking/DOCKING_project/Conan-main/results_SMINA/DOCKED/ligand13/output44_ligand13_2023-11-22-15_52/best.pdbqt\n",
      "/media/lmeuret/Seagate Portable Drive/result_docking/DOCKING_project/Conan-main/receptors/output44.pdbqt\n"
     ]
    },
    {
     "data": {
      "application/vnd.jupyter.widget-view+json": {
       "model_id": "0ae9bfe2fd8f41faa257dd9e9f03d482",
       "version_major": 2,
       "version_minor": 0
      },
      "text/plain": [
       "  0%|          | 0/1 [00:00<?, ?it/s]"
      ]
     },
     "metadata": {},
     "output_type": "display_data"
    },
    {
     "name": "stderr",
     "output_type": "stream",
     "text": [
      "\r",
      "Processing ligands: 962it [03:46,  3.93it/s]"
     ]
    },
    {
     "name": "stdout",
     "output_type": "stream",
     "text": [
      "/media/lmeuret/Seagate Portable Drive/result_docking/DOCKING_project/Conan-main/results_SMINA/DOCKED/ligand130/output44_ligand130_2023-11-22-15_52/best.pdbqt\n",
      "/media/lmeuret/Seagate Portable Drive/result_docking/DOCKING_project/Conan-main/receptors/output44.pdbqt\n"
     ]
    },
    {
     "data": {
      "application/vnd.jupyter.widget-view+json": {
       "model_id": "cd68241657fb4c48bf5030d03c0b7a1f",
       "version_major": 2,
       "version_minor": 0
      },
      "text/plain": [
       "  0%|          | 0/1 [00:00<?, ?it/s]"
      ]
     },
     "metadata": {},
     "output_type": "display_data"
    },
    {
     "name": "stderr",
     "output_type": "stream",
     "text": [
      "\r",
      "Processing ligands: 963it [03:46,  3.91it/s]"
     ]
    },
    {
     "name": "stdout",
     "output_type": "stream",
     "text": [
      "/media/lmeuret/Seagate Portable Drive/result_docking/DOCKING_project/Conan-main/results_SMINA/DOCKED/ligand131/output44_ligand131_2023-11-22-15_52/best.pdbqt\n",
      "/media/lmeuret/Seagate Portable Drive/result_docking/DOCKING_project/Conan-main/receptors/output44.pdbqt\n"
     ]
    },
    {
     "data": {
      "application/vnd.jupyter.widget-view+json": {
       "model_id": "62eb388747704097af9ac38f09da5264",
       "version_major": 2,
       "version_minor": 0
      },
      "text/plain": [
       "  0%|          | 0/1 [00:00<?, ?it/s]"
      ]
     },
     "metadata": {},
     "output_type": "display_data"
    },
    {
     "name": "stderr",
     "output_type": "stream",
     "text": [
      "\r",
      "Processing ligands: 964it [03:47,  3.82it/s]"
     ]
    },
    {
     "name": "stdout",
     "output_type": "stream",
     "text": [
      "/media/lmeuret/Seagate Portable Drive/result_docking/DOCKING_project/Conan-main/results_SMINA/DOCKED/ligand132/output44_ligand132_2023-11-22-15_52/best.pdbqt\n",
      "/media/lmeuret/Seagate Portable Drive/result_docking/DOCKING_project/Conan-main/receptors/output44.pdbqt\n"
     ]
    },
    {
     "data": {
      "application/vnd.jupyter.widget-view+json": {
       "model_id": "2d069fa66533491b8d567185bc7545aa",
       "version_major": 2,
       "version_minor": 0
      },
      "text/plain": [
       "  0%|          | 0/1 [00:00<?, ?it/s]"
      ]
     },
     "metadata": {},
     "output_type": "display_data"
    },
    {
     "name": "stderr",
     "output_type": "stream",
     "text": [
      "\r",
      "Processing ligands: 965it [03:47,  3.81it/s]"
     ]
    },
    {
     "name": "stdout",
     "output_type": "stream",
     "text": [
      "/media/lmeuret/Seagate Portable Drive/result_docking/DOCKING_project/Conan-main/results_SMINA/DOCKED/ligand133/output44_ligand133_2023-11-22-15_52/best.pdbqt\n",
      "/media/lmeuret/Seagate Portable Drive/result_docking/DOCKING_project/Conan-main/receptors/output44.pdbqt\n"
     ]
    },
    {
     "data": {
      "application/vnd.jupyter.widget-view+json": {
       "model_id": "716bc141ca7b4fbda5311a701f0446d0",
       "version_major": 2,
       "version_minor": 0
      },
      "text/plain": [
       "  0%|          | 0/1 [00:00<?, ?it/s]"
      ]
     },
     "metadata": {},
     "output_type": "display_data"
    },
    {
     "name": "stderr",
     "output_type": "stream",
     "text": [
      "\r",
      "Processing ligands: 966it [03:47,  3.77it/s]"
     ]
    },
    {
     "name": "stdout",
     "output_type": "stream",
     "text": [
      "/media/lmeuret/Seagate Portable Drive/result_docking/DOCKING_project/Conan-main/results_SMINA/DOCKED/ligand134/output44_ligand134_2023-11-22-15_52/best.pdbqt\n",
      "/media/lmeuret/Seagate Portable Drive/result_docking/DOCKING_project/Conan-main/receptors/output44.pdbqt\n"
     ]
    },
    {
     "data": {
      "application/vnd.jupyter.widget-view+json": {
       "model_id": "1799b8dad5404276a365e81183bf4935",
       "version_major": 2,
       "version_minor": 0
      },
      "text/plain": [
       "  0%|          | 0/1 [00:00<?, ?it/s]"
      ]
     },
     "metadata": {},
     "output_type": "display_data"
    },
    {
     "name": "stderr",
     "output_type": "stream",
     "text": [
      "\r",
      "Processing ligands: 967it [03:47,  3.79it/s]"
     ]
    },
    {
     "name": "stdout",
     "output_type": "stream",
     "text": [
      "/media/lmeuret/Seagate Portable Drive/result_docking/DOCKING_project/Conan-main/results_SMINA/DOCKED/ligand135/output44_ligand135_2023-11-22-15_52/best.pdbqt\n",
      "/media/lmeuret/Seagate Portable Drive/result_docking/DOCKING_project/Conan-main/receptors/output44.pdbqt\n"
     ]
    },
    {
     "data": {
      "application/vnd.jupyter.widget-view+json": {
       "model_id": "a5f5badc2ba54220914cfd214e2267f8",
       "version_major": 2,
       "version_minor": 0
      },
      "text/plain": [
       "  0%|          | 0/1 [00:00<?, ?it/s]"
      ]
     },
     "metadata": {},
     "output_type": "display_data"
    },
    {
     "name": "stderr",
     "output_type": "stream",
     "text": [
      "\r",
      "Processing ligands: 968it [03:48,  3.89it/s]"
     ]
    },
    {
     "name": "stdout",
     "output_type": "stream",
     "text": [
      "/media/lmeuret/Seagate Portable Drive/result_docking/DOCKING_project/Conan-main/results_SMINA/DOCKED/ligand136/output44_ligand136_2023-11-22-15_52/best.pdbqt\n",
      "/media/lmeuret/Seagate Portable Drive/result_docking/DOCKING_project/Conan-main/receptors/output44.pdbqt\n"
     ]
    },
    {
     "data": {
      "application/vnd.jupyter.widget-view+json": {
       "model_id": "b4bf2e8f44e545389f27fafb634b360f",
       "version_major": 2,
       "version_minor": 0
      },
      "text/plain": [
       "  0%|          | 0/1 [00:00<?, ?it/s]"
      ]
     },
     "metadata": {},
     "output_type": "display_data"
    },
    {
     "name": "stderr",
     "output_type": "stream",
     "text": [
      "\r",
      "Processing ligands: 969it [03:48,  3.92it/s]"
     ]
    },
    {
     "name": "stdout",
     "output_type": "stream",
     "text": [
      "/media/lmeuret/Seagate Portable Drive/result_docking/DOCKING_project/Conan-main/results_SMINA/DOCKED/ligand927/output44_ligand927_2023-11-22-15_52/best.pdbqt\n",
      "/media/lmeuret/Seagate Portable Drive/result_docking/DOCKING_project/Conan-main/receptors/output44.pdbqt\n"
     ]
    },
    {
     "data": {
      "application/vnd.jupyter.widget-view+json": {
       "model_id": "2bdb67d2a9a74653aa893a1c166813e3",
       "version_major": 2,
       "version_minor": 0
      },
      "text/plain": [
       "  0%|          | 0/1 [00:00<?, ?it/s]"
      ]
     },
     "metadata": {},
     "output_type": "display_data"
    },
    {
     "name": "stderr",
     "output_type": "stream",
     "text": [
      "\r",
      "Processing ligands: 970it [03:48,  3.91it/s]"
     ]
    },
    {
     "name": "stdout",
     "output_type": "stream",
     "text": [
      "/media/lmeuret/Seagate Portable Drive/result_docking/DOCKING_project/Conan-main/results_SMINA/DOCKED/ligand928/output44_ligand928_2023-11-22-15_52/best.pdbqt\n",
      "/media/lmeuret/Seagate Portable Drive/result_docking/DOCKING_project/Conan-main/receptors/output44.pdbqt\n"
     ]
    },
    {
     "data": {
      "application/vnd.jupyter.widget-view+json": {
       "model_id": "196b353b55cb42538c9b7d215bd07f06",
       "version_major": 2,
       "version_minor": 0
      },
      "text/plain": [
       "  0%|          | 0/1 [00:00<?, ?it/s]"
      ]
     },
     "metadata": {},
     "output_type": "display_data"
    },
    {
     "name": "stderr",
     "output_type": "stream",
     "text": [
      "\r",
      "Processing ligands: 971it [03:48,  4.08it/s]"
     ]
    },
    {
     "name": "stdout",
     "output_type": "stream",
     "text": [
      "/media/lmeuret/Seagate Portable Drive/result_docking/DOCKING_project/Conan-main/results_SMINA/DOCKED/ligand929/output44_ligand929_2023-11-22-15_52/best.pdbqt\n",
      "/media/lmeuret/Seagate Portable Drive/result_docking/DOCKING_project/Conan-main/receptors/output44.pdbqt\n"
     ]
    },
    {
     "data": {
      "application/vnd.jupyter.widget-view+json": {
       "model_id": "51d4cdd200d24b86bd616b9bebf7d2a2",
       "version_major": 2,
       "version_minor": 0
      },
      "text/plain": [
       "  0%|          | 0/1 [00:00<?, ?it/s]"
      ]
     },
     "metadata": {},
     "output_type": "display_data"
    },
    {
     "name": "stderr",
     "output_type": "stream",
     "text": [
      "\r",
      "Processing ligands: 972it [03:49,  4.12it/s]"
     ]
    },
    {
     "name": "stdout",
     "output_type": "stream",
     "text": [
      "/media/lmeuret/Seagate Portable Drive/result_docking/DOCKING_project/Conan-main/results_SMINA/DOCKED/ligand93/output44_ligand93_2023-11-22-15_52/best.pdbqt\n",
      "/media/lmeuret/Seagate Portable Drive/result_docking/DOCKING_project/Conan-main/receptors/output44.pdbqt\n"
     ]
    },
    {
     "data": {
      "application/vnd.jupyter.widget-view+json": {
       "model_id": "740f424e84bf4d95b2761e261887a23b",
       "version_major": 2,
       "version_minor": 0
      },
      "text/plain": [
       "  0%|          | 0/1 [00:00<?, ?it/s]"
      ]
     },
     "metadata": {},
     "output_type": "display_data"
    },
    {
     "name": "stderr",
     "output_type": "stream",
     "text": [
      "\r",
      "Processing ligands: 973it [03:49,  4.15it/s]"
     ]
    },
    {
     "name": "stdout",
     "output_type": "stream",
     "text": [
      "/media/lmeuret/Seagate Portable Drive/result_docking/DOCKING_project/Conan-main/results_SMINA/DOCKED/ligand930/output44_ligand930_2023-11-22-15_52/best.pdbqt\n",
      "/media/lmeuret/Seagate Portable Drive/result_docking/DOCKING_project/Conan-main/receptors/output44.pdbqt\n"
     ]
    },
    {
     "data": {
      "application/vnd.jupyter.widget-view+json": {
       "model_id": "e7d4ffd43a1b47f3be5b39b103c6f352",
       "version_major": 2,
       "version_minor": 0
      },
      "text/plain": [
       "  0%|          | 0/1 [00:00<?, ?it/s]"
      ]
     },
     "metadata": {},
     "output_type": "display_data"
    },
    {
     "name": "stderr",
     "output_type": "stream",
     "text": [
      "\r",
      "Processing ligands: 974it [03:49,  3.69it/s]"
     ]
    },
    {
     "name": "stdout",
     "output_type": "stream",
     "text": [
      "/media/lmeuret/Seagate Portable Drive/result_docking/DOCKING_project/Conan-main/results_SMINA/DOCKED/ligand931/output44_ligand931_2023-11-22-15_52/best.pdbqt\n",
      "/media/lmeuret/Seagate Portable Drive/result_docking/DOCKING_project/Conan-main/receptors/output44.pdbqt\n"
     ]
    },
    {
     "data": {
      "application/vnd.jupyter.widget-view+json": {
       "model_id": "5714cbd9d9674aa6a6fa72fbd2adf8a6",
       "version_major": 2,
       "version_minor": 0
      },
      "text/plain": [
       "  0%|          | 0/1 [00:00<?, ?it/s]"
      ]
     },
     "metadata": {},
     "output_type": "display_data"
    },
    {
     "name": "stderr",
     "output_type": "stream",
     "text": [
      "\r",
      "Processing ligands: 975it [03:49,  3.81it/s]"
     ]
    },
    {
     "name": "stdout",
     "output_type": "stream",
     "text": [
      "/media/lmeuret/Seagate Portable Drive/result_docking/DOCKING_project/Conan-main/results_SMINA/DOCKED/ligand932/output44_ligand932_2023-11-22-15_52/best.pdbqt\n",
      "/media/lmeuret/Seagate Portable Drive/result_docking/DOCKING_project/Conan-main/receptors/output44.pdbqt\n"
     ]
    },
    {
     "data": {
      "application/vnd.jupyter.widget-view+json": {
       "model_id": "004af048e2634c4692f4329d953ce6ac",
       "version_major": 2,
       "version_minor": 0
      },
      "text/plain": [
       "  0%|          | 0/1 [00:00<?, ?it/s]"
      ]
     },
     "metadata": {},
     "output_type": "display_data"
    },
    {
     "name": "stderr",
     "output_type": "stream",
     "text": [
      "\r",
      "Processing ligands: 976it [03:50,  3.91it/s]"
     ]
    },
    {
     "name": "stdout",
     "output_type": "stream",
     "text": [
      "/media/lmeuret/Seagate Portable Drive/result_docking/DOCKING_project/Conan-main/results_SMINA/DOCKED/ligand933/output44_ligand933_2023-11-22-15_52/best.pdbqt\n",
      "/media/lmeuret/Seagate Portable Drive/result_docking/DOCKING_project/Conan-main/receptors/output44.pdbqt\n"
     ]
    },
    {
     "data": {
      "application/vnd.jupyter.widget-view+json": {
       "model_id": "34cb5f09d9c94181b2bd7356d600494f",
       "version_major": 2,
       "version_minor": 0
      },
      "text/plain": [
       "  0%|          | 0/1 [00:00<?, ?it/s]"
      ]
     },
     "metadata": {},
     "output_type": "display_data"
    },
    {
     "name": "stderr",
     "output_type": "stream",
     "text": [
      "\r",
      "Processing ligands: 977it [03:50,  3.97it/s]"
     ]
    },
    {
     "name": "stdout",
     "output_type": "stream",
     "text": [
      "/media/lmeuret/Seagate Portable Drive/result_docking/DOCKING_project/Conan-main/results_SMINA/DOCKED/ligand934/output44_ligand934_2023-11-22-15_52/best.pdbqt\n",
      "/media/lmeuret/Seagate Portable Drive/result_docking/DOCKING_project/Conan-main/receptors/output44.pdbqt\n"
     ]
    },
    {
     "data": {
      "application/vnd.jupyter.widget-view+json": {
       "model_id": "a92f2d3e68084463b29a661d2874d809",
       "version_major": 2,
       "version_minor": 0
      },
      "text/plain": [
       "  0%|          | 0/1 [00:00<?, ?it/s]"
      ]
     },
     "metadata": {},
     "output_type": "display_data"
    },
    {
     "name": "stderr",
     "output_type": "stream",
     "text": [
      "\r",
      "Processing ligands: 978it [03:50,  4.12it/s]"
     ]
    },
    {
     "name": "stdout",
     "output_type": "stream",
     "text": [
      "/media/lmeuret/Seagate Portable Drive/result_docking/DOCKING_project/Conan-main/results_SMINA/DOCKED/ligand935/output44_ligand935_2023-11-22-15_52/best.pdbqt\n",
      "/media/lmeuret/Seagate Portable Drive/result_docking/DOCKING_project/Conan-main/receptors/output44.pdbqt\n"
     ]
    },
    {
     "data": {
      "application/vnd.jupyter.widget-view+json": {
       "model_id": "a6251663384a48d4b4251b91e8e9c78b",
       "version_major": 2,
       "version_minor": 0
      },
      "text/plain": [
       "  0%|          | 0/1 [00:00<?, ?it/s]"
      ]
     },
     "metadata": {},
     "output_type": "display_data"
    },
    {
     "name": "stderr",
     "output_type": "stream",
     "text": [
      "\r",
      "Processing ligands: 979it [03:50,  4.12it/s]"
     ]
    },
    {
     "name": "stdout",
     "output_type": "stream",
     "text": [
      "/media/lmeuret/Seagate Portable Drive/result_docking/DOCKING_project/Conan-main/results_SMINA/DOCKED/ligand936/output44_ligand936_2023-11-22-15_52/best.pdbqt\n",
      "/media/lmeuret/Seagate Portable Drive/result_docking/DOCKING_project/Conan-main/receptors/output44.pdbqt\n"
     ]
    },
    {
     "data": {
      "application/vnd.jupyter.widget-view+json": {
       "model_id": "636eaa6f36b541ed8e36e0a69b43c7cf",
       "version_major": 2,
       "version_minor": 0
      },
      "text/plain": [
       "  0%|          | 0/1 [00:00<?, ?it/s]"
      ]
     },
     "metadata": {},
     "output_type": "display_data"
    },
    {
     "name": "stderr",
     "output_type": "stream",
     "text": [
      "\r",
      "Processing ligands: 980it [03:51,  4.11it/s]"
     ]
    },
    {
     "name": "stdout",
     "output_type": "stream",
     "text": [
      "/media/lmeuret/Seagate Portable Drive/result_docking/DOCKING_project/Conan-main/results_SMINA/DOCKED/ligand937/output44_ligand937_2023-11-22-15_52/best.pdbqt\n",
      "/media/lmeuret/Seagate Portable Drive/result_docking/DOCKING_project/Conan-main/receptors/output44.pdbqt\n"
     ]
    },
    {
     "data": {
      "application/vnd.jupyter.widget-view+json": {
       "model_id": "710139fcf9f943299b67eb0a5dd3d4c3",
       "version_major": 2,
       "version_minor": 0
      },
      "text/plain": [
       "  0%|          | 0/1 [00:00<?, ?it/s]"
      ]
     },
     "metadata": {},
     "output_type": "display_data"
    },
    {
     "name": "stderr",
     "output_type": "stream",
     "text": [
      "\r",
      "Processing ligands: 981it [03:51,  4.04it/s]"
     ]
    },
    {
     "name": "stdout",
     "output_type": "stream",
     "text": [
      "/media/lmeuret/Seagate Portable Drive/result_docking/DOCKING_project/Conan-main/results_SMINA/DOCKED/ligand938/output44_ligand938_2023-11-22-15_52/best.pdbqt\n",
      "/media/lmeuret/Seagate Portable Drive/result_docking/DOCKING_project/Conan-main/receptors/output44.pdbqt\n"
     ]
    },
    {
     "data": {
      "application/vnd.jupyter.widget-view+json": {
       "model_id": "d40b1d002e5645ebaf998c046e83d106",
       "version_major": 2,
       "version_minor": 0
      },
      "text/plain": [
       "  0%|          | 0/1 [00:00<?, ?it/s]"
      ]
     },
     "metadata": {},
     "output_type": "display_data"
    },
    {
     "name": "stderr",
     "output_type": "stream",
     "text": [
      "\r",
      "Processing ligands: 982it [03:51,  4.06it/s]"
     ]
    },
    {
     "name": "stdout",
     "output_type": "stream",
     "text": [
      "/media/lmeuret/Seagate Portable Drive/result_docking/DOCKING_project/Conan-main/results_SMINA/DOCKED/ligand939/output44_ligand939_2023-11-22-15_52/best.pdbqt\n",
      "/media/lmeuret/Seagate Portable Drive/result_docking/DOCKING_project/Conan-main/receptors/output44.pdbqt\n"
     ]
    },
    {
     "data": {
      "application/vnd.jupyter.widget-view+json": {
       "model_id": "dc238984023c4fec819e2306ffed3ce6",
       "version_major": 2,
       "version_minor": 0
      },
      "text/plain": [
       "  0%|          | 0/1 [00:00<?, ?it/s]"
      ]
     },
     "metadata": {},
     "output_type": "display_data"
    },
    {
     "name": "stderr",
     "output_type": "stream",
     "text": [
      "\r",
      "Processing ligands: 983it [03:51,  4.05it/s]"
     ]
    },
    {
     "name": "stdout",
     "output_type": "stream",
     "text": [
      "/media/lmeuret/Seagate Portable Drive/result_docking/DOCKING_project/Conan-main/results_SMINA/DOCKED/ligand94/output44_ligand94_2023-11-22-15_52/best.pdbqt\n",
      "/media/lmeuret/Seagate Portable Drive/result_docking/DOCKING_project/Conan-main/receptors/output44.pdbqt\n"
     ]
    },
    {
     "data": {
      "application/vnd.jupyter.widget-view+json": {
       "model_id": "2ff82dd108494eb7b2a7306c464cb5fa",
       "version_major": 2,
       "version_minor": 0
      },
      "text/plain": [
       "  0%|          | 0/1 [00:00<?, ?it/s]"
      ]
     },
     "metadata": {},
     "output_type": "display_data"
    },
    {
     "name": "stderr",
     "output_type": "stream",
     "text": [
      "\r",
      "Processing ligands: 984it [03:52,  4.00it/s]"
     ]
    },
    {
     "name": "stdout",
     "output_type": "stream",
     "text": [
      "/media/lmeuret/Seagate Portable Drive/result_docking/DOCKING_project/Conan-main/results_SMINA/DOCKED/ligand940/output44_ligand940_2023-11-22-15_52/best.pdbqt\n",
      "/media/lmeuret/Seagate Portable Drive/result_docking/DOCKING_project/Conan-main/receptors/output44.pdbqt\n"
     ]
    },
    {
     "data": {
      "application/vnd.jupyter.widget-view+json": {
       "model_id": "0edd7dc0961c4e67ba51045079a994bc",
       "version_major": 2,
       "version_minor": 0
      },
      "text/plain": [
       "  0%|          | 0/1 [00:00<?, ?it/s]"
      ]
     },
     "metadata": {},
     "output_type": "display_data"
    },
    {
     "name": "stderr",
     "output_type": "stream",
     "text": [
      "\r",
      "Processing ligands: 985it [03:52,  3.83it/s]"
     ]
    },
    {
     "name": "stdout",
     "output_type": "stream",
     "text": [
      "/media/lmeuret/Seagate Portable Drive/result_docking/DOCKING_project/Conan-main/results_SMINA/DOCKED/ligand941/output44_ligand941_2023-11-22-15_52/best.pdbqt\n",
      "/media/lmeuret/Seagate Portable Drive/result_docking/DOCKING_project/Conan-main/receptors/output44.pdbqt\n"
     ]
    },
    {
     "data": {
      "application/vnd.jupyter.widget-view+json": {
       "model_id": "08ea4603c6174cf5bed0a04579d799cb",
       "version_major": 2,
       "version_minor": 0
      },
      "text/plain": [
       "  0%|          | 0/1 [00:00<?, ?it/s]"
      ]
     },
     "metadata": {},
     "output_type": "display_data"
    },
    {
     "name": "stderr",
     "output_type": "stream",
     "text": [
      "\r",
      "Processing ligands: 986it [03:52,  3.96it/s]"
     ]
    },
    {
     "name": "stdout",
     "output_type": "stream",
     "text": [
      "/media/lmeuret/Seagate Portable Drive/result_docking/DOCKING_project/Conan-main/results_SMINA/DOCKED/ligand942/output44_ligand942_2023-11-22-15_52/best.pdbqt\n",
      "/media/lmeuret/Seagate Portable Drive/result_docking/DOCKING_project/Conan-main/receptors/output44.pdbqt\n"
     ]
    },
    {
     "data": {
      "application/vnd.jupyter.widget-view+json": {
       "model_id": "e7ec6f3980f74b118d325d90ec5831aa",
       "version_major": 2,
       "version_minor": 0
      },
      "text/plain": [
       "  0%|          | 0/1 [00:00<?, ?it/s]"
      ]
     },
     "metadata": {},
     "output_type": "display_data"
    },
    {
     "name": "stderr",
     "output_type": "stream",
     "text": [
      "Processing ligands: 987it [03:52,  4.24it/s]\n"
     ]
    }
   ],
   "source": [
    "# Use tqdm to add a progress bar\n",
    "interaction_counts = {}\n",
    "\n",
    "for index, ligand in tqdm(enumerate(ligand_list), desc=\"Processing ligands\"):\n",
    "    pathlig = ligand\n",
    "    interaction_counts[index] = get_interaction_count(pathlig, receptor_path)\n",
    "\n"
   ]
  },
  {
   "cell_type": "code",
   "execution_count": 4,
   "id": "568ce50d",
   "metadata": {},
   "outputs": [
    {
     "data": {
      "text/html": [
       "<div>\n",
       "<style scoped>\n",
       "    .dataframe tbody tr th:only-of-type {\n",
       "        vertical-align: middle;\n",
       "    }\n",
       "\n",
       "    .dataframe tbody tr th {\n",
       "        vertical-align: top;\n",
       "    }\n",
       "\n",
       "    .dataframe thead tr th {\n",
       "        text-align: left;\n",
       "    }\n",
       "\n",
       "    .dataframe thead tr:last-of-type th {\n",
       "        text-align: right;\n",
       "    }\n",
       "</style>\n",
       "<table border=\"1\" class=\"dataframe\">\n",
       "  <thead>\n",
       "    <tr>\n",
       "      <th></th>\n",
       "      <th>ligand</th>\n",
       "      <th colspan=\"10\" halign=\"left\">UNL1.</th>\n",
       "      <th>...</th>\n",
       "      <th colspan=\"5\" halign=\"left\">UNK0.A</th>\n",
       "      <th colspan=\"2\" halign=\"left\">ALA1.A</th>\n",
       "      <th colspan=\"2\" halign=\"left\">UNK2.A</th>\n",
       "      <th>UNL1.</th>\n",
       "    </tr>\n",
       "    <tr>\n",
       "      <th></th>\n",
       "      <th>protein</th>\n",
       "      <th>ALA53.A</th>\n",
       "      <th>PHE57.A</th>\n",
       "      <th>TYR61.A</th>\n",
       "      <th colspan=\"2\" halign=\"left\">PHE65.A</th>\n",
       "      <th>LEU90.A</th>\n",
       "      <th>VAL101.A</th>\n",
       "      <th>PHE57.A</th>\n",
       "      <th>TYR61.A</th>\n",
       "      <th>GLY98.A</th>\n",
       "      <th>...</th>\n",
       "      <th colspan=\"2\" halign=\"left\">PHE65.A</th>\n",
       "      <th>LEU68.A</th>\n",
       "      <th>ARG99.A</th>\n",
       "      <th>ALA102.A</th>\n",
       "      <th colspan=\"2\" halign=\"left\">ARG99.A</th>\n",
       "      <th>LEU90.A</th>\n",
       "      <th>ARG99.A</th>\n",
       "      <th>ARG60.A</th>\n",
       "    </tr>\n",
       "    <tr>\n",
       "      <th></th>\n",
       "      <th>interaction</th>\n",
       "      <th>VdWContact</th>\n",
       "      <th>VdWContact</th>\n",
       "      <th>Hydrophobic</th>\n",
       "      <th>Hydrophobic</th>\n",
       "      <th>VdWContact</th>\n",
       "      <th>VdWContact</th>\n",
       "      <th>VdWContact</th>\n",
       "      <th>Hydrophobic</th>\n",
       "      <th>VdWContact</th>\n",
       "      <th>VdWContact</th>\n",
       "      <th>...</th>\n",
       "      <th>Hydrophobic</th>\n",
       "      <th>VdWContact</th>\n",
       "      <th>VdWContact</th>\n",
       "      <th>VdWContact</th>\n",
       "      <th>VdWContact</th>\n",
       "      <th>HBAcceptor</th>\n",
       "      <th>VdWContact</th>\n",
       "      <th>VdWContact</th>\n",
       "      <th>VdWContact</th>\n",
       "      <th>VdWContact</th>\n",
       "    </tr>\n",
       "    <tr>\n",
       "      <th></th>\n",
       "      <th>Frame</th>\n",
       "      <th></th>\n",
       "      <th></th>\n",
       "      <th></th>\n",
       "      <th></th>\n",
       "      <th></th>\n",
       "      <th></th>\n",
       "      <th></th>\n",
       "      <th></th>\n",
       "      <th></th>\n",
       "      <th></th>\n",
       "      <th></th>\n",
       "      <th></th>\n",
       "      <th></th>\n",
       "      <th></th>\n",
       "      <th></th>\n",
       "      <th></th>\n",
       "      <th></th>\n",
       "      <th></th>\n",
       "      <th></th>\n",
       "      <th></th>\n",
       "      <th></th>\n",
       "    </tr>\n",
       "  </thead>\n",
       "  <tbody>\n",
       "    <tr>\n",
       "      <th>/media/lmeuret/Seagate Portable Drive/result_docking/DOCKING_project/Conan-main/results_SMINA/DOCKED/ligand1/output44_ligand1_2023-11-22-15_52/best.pdbqt</th>\n",
       "      <th>0</th>\n",
       "      <td>1.0</td>\n",
       "      <td>4.0</td>\n",
       "      <td>2.0</td>\n",
       "      <td>2.0</td>\n",
       "      <td>2.0</td>\n",
       "      <td>2.0</td>\n",
       "      <td>1.0</td>\n",
       "      <td>NaN</td>\n",
       "      <td>NaN</td>\n",
       "      <td>NaN</td>\n",
       "      <td>...</td>\n",
       "      <td>NaN</td>\n",
       "      <td>NaN</td>\n",
       "      <td>NaN</td>\n",
       "      <td>NaN</td>\n",
       "      <td>NaN</td>\n",
       "      <td>NaN</td>\n",
       "      <td>NaN</td>\n",
       "      <td>NaN</td>\n",
       "      <td>NaN</td>\n",
       "      <td>NaN</td>\n",
       "    </tr>\n",
       "    <tr>\n",
       "      <th>/media/lmeuret/Seagate Portable Drive/result_docking/DOCKING_project/Conan-main/results_SMINA/DOCKED/ligand10/output44_ligand10_2023-11-22-15_52/best.pdbqt</th>\n",
       "      <th>0</th>\n",
       "      <td>NaN</td>\n",
       "      <td>1.0</td>\n",
       "      <td>4.0</td>\n",
       "      <td>NaN</td>\n",
       "      <td>2.0</td>\n",
       "      <td>NaN</td>\n",
       "      <td>NaN</td>\n",
       "      <td>1.0</td>\n",
       "      <td>1.0</td>\n",
       "      <td>1.0</td>\n",
       "      <td>...</td>\n",
       "      <td>NaN</td>\n",
       "      <td>NaN</td>\n",
       "      <td>NaN</td>\n",
       "      <td>NaN</td>\n",
       "      <td>NaN</td>\n",
       "      <td>NaN</td>\n",
       "      <td>NaN</td>\n",
       "      <td>NaN</td>\n",
       "      <td>NaN</td>\n",
       "      <td>NaN</td>\n",
       "    </tr>\n",
       "    <tr>\n",
       "      <th>/media/lmeuret/Seagate Portable Drive/result_docking/DOCKING_project/Conan-main/results_SMINA/DOCKED/ligand100/output44_ligand100_2023-11-22-15_52/best.pdbqt</th>\n",
       "      <th>0</th>\n",
       "      <td>NaN</td>\n",
       "      <td>2.0</td>\n",
       "      <td>NaN</td>\n",
       "      <td>2.0</td>\n",
       "      <td>2.0</td>\n",
       "      <td>NaN</td>\n",
       "      <td>NaN</td>\n",
       "      <td>NaN</td>\n",
       "      <td>1.0</td>\n",
       "      <td>NaN</td>\n",
       "      <td>...</td>\n",
       "      <td>NaN</td>\n",
       "      <td>NaN</td>\n",
       "      <td>NaN</td>\n",
       "      <td>NaN</td>\n",
       "      <td>NaN</td>\n",
       "      <td>NaN</td>\n",
       "      <td>NaN</td>\n",
       "      <td>NaN</td>\n",
       "      <td>NaN</td>\n",
       "      <td>NaN</td>\n",
       "    </tr>\n",
       "    <tr>\n",
       "      <th>/media/lmeuret/Seagate Portable Drive/result_docking/DOCKING_project/Conan-main/results_SMINA/DOCKED/ligand1000/output44_ligand1000_2023-11-22-15_52/best.pdbqt</th>\n",
       "      <th>0</th>\n",
       "      <td>NaN</td>\n",
       "      <td>5.0</td>\n",
       "      <td>5.0</td>\n",
       "      <td>NaN</td>\n",
       "      <td>1.0</td>\n",
       "      <td>2.0</td>\n",
       "      <td>NaN</td>\n",
       "      <td>NaN</td>\n",
       "      <td>NaN</td>\n",
       "      <td>2.0</td>\n",
       "      <td>...</td>\n",
       "      <td>NaN</td>\n",
       "      <td>NaN</td>\n",
       "      <td>NaN</td>\n",
       "      <td>NaN</td>\n",
       "      <td>NaN</td>\n",
       "      <td>NaN</td>\n",
       "      <td>NaN</td>\n",
       "      <td>NaN</td>\n",
       "      <td>NaN</td>\n",
       "      <td>NaN</td>\n",
       "    </tr>\n",
       "    <tr>\n",
       "      <th>/media/lmeuret/Seagate Portable Drive/result_docking/DOCKING_project/Conan-main/results_SMINA/DOCKED/ligand101/output44_ligand101_2023-11-22-15_52/best.pdbqt</th>\n",
       "      <th>0</th>\n",
       "      <td>NaN</td>\n",
       "      <td>NaN</td>\n",
       "      <td>7.0</td>\n",
       "      <td>NaN</td>\n",
       "      <td>NaN</td>\n",
       "      <td>2.0</td>\n",
       "      <td>NaN</td>\n",
       "      <td>NaN</td>\n",
       "      <td>1.0</td>\n",
       "      <td>2.0</td>\n",
       "      <td>...</td>\n",
       "      <td>NaN</td>\n",
       "      <td>NaN</td>\n",
       "      <td>NaN</td>\n",
       "      <td>NaN</td>\n",
       "      <td>NaN</td>\n",
       "      <td>NaN</td>\n",
       "      <td>NaN</td>\n",
       "      <td>NaN</td>\n",
       "      <td>NaN</td>\n",
       "      <td>NaN</td>\n",
       "    </tr>\n",
       "    <tr>\n",
       "      <th>...</th>\n",
       "      <th>...</th>\n",
       "      <td>...</td>\n",
       "      <td>...</td>\n",
       "      <td>...</td>\n",
       "      <td>...</td>\n",
       "      <td>...</td>\n",
       "      <td>...</td>\n",
       "      <td>...</td>\n",
       "      <td>...</td>\n",
       "      <td>...</td>\n",
       "      <td>...</td>\n",
       "      <td>...</td>\n",
       "      <td>...</td>\n",
       "      <td>...</td>\n",
       "      <td>...</td>\n",
       "      <td>...</td>\n",
       "      <td>...</td>\n",
       "      <td>...</td>\n",
       "      <td>...</td>\n",
       "      <td>...</td>\n",
       "      <td>...</td>\n",
       "      <td>...</td>\n",
       "    </tr>\n",
       "    <tr>\n",
       "      <th>/media/lmeuret/Seagate Portable Drive/result_docking/DOCKING_project/Conan-main/results_SMINA/DOCKED/ligand939/output44_ligand939_2023-11-22-15_52/best.pdbqt</th>\n",
       "      <th>0</th>\n",
       "      <td>NaN</td>\n",
       "      <td>1.0</td>\n",
       "      <td>1.0</td>\n",
       "      <td>NaN</td>\n",
       "      <td>1.0</td>\n",
       "      <td>NaN</td>\n",
       "      <td>NaN</td>\n",
       "      <td>NaN</td>\n",
       "      <td>2.0</td>\n",
       "      <td>1.0</td>\n",
       "      <td>...</td>\n",
       "      <td>NaN</td>\n",
       "      <td>NaN</td>\n",
       "      <td>NaN</td>\n",
       "      <td>NaN</td>\n",
       "      <td>NaN</td>\n",
       "      <td>NaN</td>\n",
       "      <td>NaN</td>\n",
       "      <td>NaN</td>\n",
       "      <td>NaN</td>\n",
       "      <td>NaN</td>\n",
       "    </tr>\n",
       "    <tr>\n",
       "      <th>/media/lmeuret/Seagate Portable Drive/result_docking/DOCKING_project/Conan-main/results_SMINA/DOCKED/ligand94/output44_ligand94_2023-11-22-15_52/best.pdbqt</th>\n",
       "      <th>0</th>\n",
       "      <td>NaN</td>\n",
       "      <td>2.0</td>\n",
       "      <td>8.0</td>\n",
       "      <td>NaN</td>\n",
       "      <td>3.0</td>\n",
       "      <td>1.0</td>\n",
       "      <td>NaN</td>\n",
       "      <td>2.0</td>\n",
       "      <td>2.0</td>\n",
       "      <td>2.0</td>\n",
       "      <td>...</td>\n",
       "      <td>NaN</td>\n",
       "      <td>NaN</td>\n",
       "      <td>NaN</td>\n",
       "      <td>NaN</td>\n",
       "      <td>NaN</td>\n",
       "      <td>NaN</td>\n",
       "      <td>NaN</td>\n",
       "      <td>NaN</td>\n",
       "      <td>NaN</td>\n",
       "      <td>NaN</td>\n",
       "    </tr>\n",
       "    <tr>\n",
       "      <th>/media/lmeuret/Seagate Portable Drive/result_docking/DOCKING_project/Conan-main/results_SMINA/DOCKED/ligand940/output44_ligand940_2023-11-22-15_52/best.pdbqt</th>\n",
       "      <th>0</th>\n",
       "      <td>NaN</td>\n",
       "      <td>2.0</td>\n",
       "      <td>3.0</td>\n",
       "      <td>1.0</td>\n",
       "      <td>NaN</td>\n",
       "      <td>1.0</td>\n",
       "      <td>NaN</td>\n",
       "      <td>1.0</td>\n",
       "      <td>1.0</td>\n",
       "      <td>2.0</td>\n",
       "      <td>...</td>\n",
       "      <td>NaN</td>\n",
       "      <td>NaN</td>\n",
       "      <td>NaN</td>\n",
       "      <td>NaN</td>\n",
       "      <td>NaN</td>\n",
       "      <td>NaN</td>\n",
       "      <td>NaN</td>\n",
       "      <td>NaN</td>\n",
       "      <td>NaN</td>\n",
       "      <td>NaN</td>\n",
       "    </tr>\n",
       "    <tr>\n",
       "      <th>/media/lmeuret/Seagate Portable Drive/result_docking/DOCKING_project/Conan-main/results_SMINA/DOCKED/ligand941/output44_ligand941_2023-11-22-15_52/best.pdbqt</th>\n",
       "      <th>0</th>\n",
       "      <td>NaN</td>\n",
       "      <td>1.0</td>\n",
       "      <td>2.0</td>\n",
       "      <td>NaN</td>\n",
       "      <td>1.0</td>\n",
       "      <td>NaN</td>\n",
       "      <td>NaN</td>\n",
       "      <td>1.0</td>\n",
       "      <td>NaN</td>\n",
       "      <td>NaN</td>\n",
       "      <td>...</td>\n",
       "      <td>NaN</td>\n",
       "      <td>NaN</td>\n",
       "      <td>NaN</td>\n",
       "      <td>NaN</td>\n",
       "      <td>NaN</td>\n",
       "      <td>NaN</td>\n",
       "      <td>NaN</td>\n",
       "      <td>NaN</td>\n",
       "      <td>NaN</td>\n",
       "      <td>NaN</td>\n",
       "    </tr>\n",
       "    <tr>\n",
       "      <th>/media/lmeuret/Seagate Portable Drive/result_docking/DOCKING_project/Conan-main/results_SMINA/DOCKED/ligand942/output44_ligand942_2023-11-22-15_52/best.pdbqt</th>\n",
       "      <th>0</th>\n",
       "      <td>NaN</td>\n",
       "      <td>4.0</td>\n",
       "      <td>7.0</td>\n",
       "      <td>NaN</td>\n",
       "      <td>NaN</td>\n",
       "      <td>NaN</td>\n",
       "      <td>NaN</td>\n",
       "      <td>NaN</td>\n",
       "      <td>NaN</td>\n",
       "      <td>NaN</td>\n",
       "      <td>...</td>\n",
       "      <td>NaN</td>\n",
       "      <td>NaN</td>\n",
       "      <td>NaN</td>\n",
       "      <td>NaN</td>\n",
       "      <td>NaN</td>\n",
       "      <td>NaN</td>\n",
       "      <td>NaN</td>\n",
       "      <td>NaN</td>\n",
       "      <td>NaN</td>\n",
       "      <td>NaN</td>\n",
       "    </tr>\n",
       "  </tbody>\n",
       "</table>\n",
       "<p>987 rows × 100 columns</p>\n",
       "</div>"
      ],
      "text/plain": [
       "ligand                                                       UNL1.   \\\n",
       "protein                                                     ALA53.A   \n",
       "interaction                                              VdWContact   \n",
       "                                                   Frame              \n",
       "/media/lmeuret/Seagate Portable Drive/result_do... 0            1.0   \n",
       "/media/lmeuret/Seagate Portable Drive/result_do... 0            NaN   \n",
       "/media/lmeuret/Seagate Portable Drive/result_do... 0            NaN   \n",
       "/media/lmeuret/Seagate Portable Drive/result_do... 0            NaN   \n",
       "/media/lmeuret/Seagate Portable Drive/result_do... 0            NaN   \n",
       "...                                                             ...   \n",
       "/media/lmeuret/Seagate Portable Drive/result_do... 0            NaN   \n",
       "/media/lmeuret/Seagate Portable Drive/result_do... 0            NaN   \n",
       "/media/lmeuret/Seagate Portable Drive/result_do... 0            NaN   \n",
       "/media/lmeuret/Seagate Portable Drive/result_do... 0            NaN   \n",
       "/media/lmeuret/Seagate Portable Drive/result_do... 0            NaN   \n",
       "\n",
       "ligand                                                               \\\n",
       "protein                                                     PHE57.A   \n",
       "interaction                                              VdWContact   \n",
       "                                                   Frame              \n",
       "/media/lmeuret/Seagate Portable Drive/result_do... 0            4.0   \n",
       "/media/lmeuret/Seagate Portable Drive/result_do... 0            1.0   \n",
       "/media/lmeuret/Seagate Portable Drive/result_do... 0            2.0   \n",
       "/media/lmeuret/Seagate Portable Drive/result_do... 0            5.0   \n",
       "/media/lmeuret/Seagate Portable Drive/result_do... 0            NaN   \n",
       "...                                                             ...   \n",
       "/media/lmeuret/Seagate Portable Drive/result_do... 0            1.0   \n",
       "/media/lmeuret/Seagate Portable Drive/result_do... 0            2.0   \n",
       "/media/lmeuret/Seagate Portable Drive/result_do... 0            2.0   \n",
       "/media/lmeuret/Seagate Portable Drive/result_do... 0            1.0   \n",
       "/media/lmeuret/Seagate Portable Drive/result_do... 0            4.0   \n",
       "\n",
       "ligand                                                                \\\n",
       "protein                                                      TYR61.A   \n",
       "interaction                                              Hydrophobic   \n",
       "                                                   Frame               \n",
       "/media/lmeuret/Seagate Portable Drive/result_do... 0             2.0   \n",
       "/media/lmeuret/Seagate Portable Drive/result_do... 0             4.0   \n",
       "/media/lmeuret/Seagate Portable Drive/result_do... 0             NaN   \n",
       "/media/lmeuret/Seagate Portable Drive/result_do... 0             5.0   \n",
       "/media/lmeuret/Seagate Portable Drive/result_do... 0             7.0   \n",
       "...                                                              ...   \n",
       "/media/lmeuret/Seagate Portable Drive/result_do... 0             1.0   \n",
       "/media/lmeuret/Seagate Portable Drive/result_do... 0             8.0   \n",
       "/media/lmeuret/Seagate Portable Drive/result_do... 0             3.0   \n",
       "/media/lmeuret/Seagate Portable Drive/result_do... 0             2.0   \n",
       "/media/lmeuret/Seagate Portable Drive/result_do... 0             7.0   \n",
       "\n",
       "ligand                                                                \\\n",
       "protein                                                      PHE65.A   \n",
       "interaction                                              Hydrophobic   \n",
       "                                                   Frame               \n",
       "/media/lmeuret/Seagate Portable Drive/result_do... 0             2.0   \n",
       "/media/lmeuret/Seagate Portable Drive/result_do... 0             NaN   \n",
       "/media/lmeuret/Seagate Portable Drive/result_do... 0             2.0   \n",
       "/media/lmeuret/Seagate Portable Drive/result_do... 0             NaN   \n",
       "/media/lmeuret/Seagate Portable Drive/result_do... 0             NaN   \n",
       "...                                                              ...   \n",
       "/media/lmeuret/Seagate Portable Drive/result_do... 0             NaN   \n",
       "/media/lmeuret/Seagate Portable Drive/result_do... 0             NaN   \n",
       "/media/lmeuret/Seagate Portable Drive/result_do... 0             1.0   \n",
       "/media/lmeuret/Seagate Portable Drive/result_do... 0             NaN   \n",
       "/media/lmeuret/Seagate Portable Drive/result_do... 0             NaN   \n",
       "\n",
       "ligand                                                               \\\n",
       "protein                                                               \n",
       "interaction                                              VdWContact   \n",
       "                                                   Frame              \n",
       "/media/lmeuret/Seagate Portable Drive/result_do... 0            2.0   \n",
       "/media/lmeuret/Seagate Portable Drive/result_do... 0            2.0   \n",
       "/media/lmeuret/Seagate Portable Drive/result_do... 0            2.0   \n",
       "/media/lmeuret/Seagate Portable Drive/result_do... 0            1.0   \n",
       "/media/lmeuret/Seagate Portable Drive/result_do... 0            NaN   \n",
       "...                                                             ...   \n",
       "/media/lmeuret/Seagate Portable Drive/result_do... 0            1.0   \n",
       "/media/lmeuret/Seagate Portable Drive/result_do... 0            3.0   \n",
       "/media/lmeuret/Seagate Portable Drive/result_do... 0            NaN   \n",
       "/media/lmeuret/Seagate Portable Drive/result_do... 0            1.0   \n",
       "/media/lmeuret/Seagate Portable Drive/result_do... 0            NaN   \n",
       "\n",
       "ligand                                                               \\\n",
       "protein                                                     LEU90.A   \n",
       "interaction                                              VdWContact   \n",
       "                                                   Frame              \n",
       "/media/lmeuret/Seagate Portable Drive/result_do... 0            2.0   \n",
       "/media/lmeuret/Seagate Portable Drive/result_do... 0            NaN   \n",
       "/media/lmeuret/Seagate Portable Drive/result_do... 0            NaN   \n",
       "/media/lmeuret/Seagate Portable Drive/result_do... 0            2.0   \n",
       "/media/lmeuret/Seagate Portable Drive/result_do... 0            2.0   \n",
       "...                                                             ...   \n",
       "/media/lmeuret/Seagate Portable Drive/result_do... 0            NaN   \n",
       "/media/lmeuret/Seagate Portable Drive/result_do... 0            1.0   \n",
       "/media/lmeuret/Seagate Portable Drive/result_do... 0            1.0   \n",
       "/media/lmeuret/Seagate Portable Drive/result_do... 0            NaN   \n",
       "/media/lmeuret/Seagate Portable Drive/result_do... 0            NaN   \n",
       "\n",
       "ligand                                                               \\\n",
       "protein                                                    VAL101.A   \n",
       "interaction                                              VdWContact   \n",
       "                                                   Frame              \n",
       "/media/lmeuret/Seagate Portable Drive/result_do... 0            1.0   \n",
       "/media/lmeuret/Seagate Portable Drive/result_do... 0            NaN   \n",
       "/media/lmeuret/Seagate Portable Drive/result_do... 0            NaN   \n",
       "/media/lmeuret/Seagate Portable Drive/result_do... 0            NaN   \n",
       "/media/lmeuret/Seagate Portable Drive/result_do... 0            NaN   \n",
       "...                                                             ...   \n",
       "/media/lmeuret/Seagate Portable Drive/result_do... 0            NaN   \n",
       "/media/lmeuret/Seagate Portable Drive/result_do... 0            NaN   \n",
       "/media/lmeuret/Seagate Portable Drive/result_do... 0            NaN   \n",
       "/media/lmeuret/Seagate Portable Drive/result_do... 0            NaN   \n",
       "/media/lmeuret/Seagate Portable Drive/result_do... 0            NaN   \n",
       "\n",
       "ligand                                                                \\\n",
       "protein                                                      PHE57.A   \n",
       "interaction                                              Hydrophobic   \n",
       "                                                   Frame               \n",
       "/media/lmeuret/Seagate Portable Drive/result_do... 0             NaN   \n",
       "/media/lmeuret/Seagate Portable Drive/result_do... 0             1.0   \n",
       "/media/lmeuret/Seagate Portable Drive/result_do... 0             NaN   \n",
       "/media/lmeuret/Seagate Portable Drive/result_do... 0             NaN   \n",
       "/media/lmeuret/Seagate Portable Drive/result_do... 0             NaN   \n",
       "...                                                              ...   \n",
       "/media/lmeuret/Seagate Portable Drive/result_do... 0             NaN   \n",
       "/media/lmeuret/Seagate Portable Drive/result_do... 0             2.0   \n",
       "/media/lmeuret/Seagate Portable Drive/result_do... 0             1.0   \n",
       "/media/lmeuret/Seagate Portable Drive/result_do... 0             1.0   \n",
       "/media/lmeuret/Seagate Portable Drive/result_do... 0             NaN   \n",
       "\n",
       "ligand                                                               \\\n",
       "protein                                                     TYR61.A   \n",
       "interaction                                              VdWContact   \n",
       "                                                   Frame              \n",
       "/media/lmeuret/Seagate Portable Drive/result_do... 0            NaN   \n",
       "/media/lmeuret/Seagate Portable Drive/result_do... 0            1.0   \n",
       "/media/lmeuret/Seagate Portable Drive/result_do... 0            1.0   \n",
       "/media/lmeuret/Seagate Portable Drive/result_do... 0            NaN   \n",
       "/media/lmeuret/Seagate Portable Drive/result_do... 0            1.0   \n",
       "...                                                             ...   \n",
       "/media/lmeuret/Seagate Portable Drive/result_do... 0            2.0   \n",
       "/media/lmeuret/Seagate Portable Drive/result_do... 0            2.0   \n",
       "/media/lmeuret/Seagate Portable Drive/result_do... 0            1.0   \n",
       "/media/lmeuret/Seagate Portable Drive/result_do... 0            NaN   \n",
       "/media/lmeuret/Seagate Portable Drive/result_do... 0            NaN   \n",
       "\n",
       "ligand                                                               ...  \\\n",
       "protein                                                     GLY98.A  ...   \n",
       "interaction                                              VdWContact  ...   \n",
       "                                                   Frame             ...   \n",
       "/media/lmeuret/Seagate Portable Drive/result_do... 0            NaN  ...   \n",
       "/media/lmeuret/Seagate Portable Drive/result_do... 0            1.0  ...   \n",
       "/media/lmeuret/Seagate Portable Drive/result_do... 0            NaN  ...   \n",
       "/media/lmeuret/Seagate Portable Drive/result_do... 0            2.0  ...   \n",
       "/media/lmeuret/Seagate Portable Drive/result_do... 0            2.0  ...   \n",
       "...                                                             ...  ...   \n",
       "/media/lmeuret/Seagate Portable Drive/result_do... 0            1.0  ...   \n",
       "/media/lmeuret/Seagate Portable Drive/result_do... 0            2.0  ...   \n",
       "/media/lmeuret/Seagate Portable Drive/result_do... 0            2.0  ...   \n",
       "/media/lmeuret/Seagate Portable Drive/result_do... 0            NaN  ...   \n",
       "/media/lmeuret/Seagate Portable Drive/result_do... 0            NaN  ...   \n",
       "\n",
       "ligand                                                        UNK0.A  \\\n",
       "protein                                                      PHE65.A   \n",
       "interaction                                              Hydrophobic   \n",
       "                                                   Frame               \n",
       "/media/lmeuret/Seagate Portable Drive/result_do... 0             NaN   \n",
       "/media/lmeuret/Seagate Portable Drive/result_do... 0             NaN   \n",
       "/media/lmeuret/Seagate Portable Drive/result_do... 0             NaN   \n",
       "/media/lmeuret/Seagate Portable Drive/result_do... 0             NaN   \n",
       "/media/lmeuret/Seagate Portable Drive/result_do... 0             NaN   \n",
       "...                                                              ...   \n",
       "/media/lmeuret/Seagate Portable Drive/result_do... 0             NaN   \n",
       "/media/lmeuret/Seagate Portable Drive/result_do... 0             NaN   \n",
       "/media/lmeuret/Seagate Portable Drive/result_do... 0             NaN   \n",
       "/media/lmeuret/Seagate Portable Drive/result_do... 0             NaN   \n",
       "/media/lmeuret/Seagate Portable Drive/result_do... 0             NaN   \n",
       "\n",
       "ligand                                                               \\\n",
       "protein                                                               \n",
       "interaction                                              VdWContact   \n",
       "                                                   Frame              \n",
       "/media/lmeuret/Seagate Portable Drive/result_do... 0            NaN   \n",
       "/media/lmeuret/Seagate Portable Drive/result_do... 0            NaN   \n",
       "/media/lmeuret/Seagate Portable Drive/result_do... 0            NaN   \n",
       "/media/lmeuret/Seagate Portable Drive/result_do... 0            NaN   \n",
       "/media/lmeuret/Seagate Portable Drive/result_do... 0            NaN   \n",
       "...                                                             ...   \n",
       "/media/lmeuret/Seagate Portable Drive/result_do... 0            NaN   \n",
       "/media/lmeuret/Seagate Portable Drive/result_do... 0            NaN   \n",
       "/media/lmeuret/Seagate Portable Drive/result_do... 0            NaN   \n",
       "/media/lmeuret/Seagate Portable Drive/result_do... 0            NaN   \n",
       "/media/lmeuret/Seagate Portable Drive/result_do... 0            NaN   \n",
       "\n",
       "ligand                                                               \\\n",
       "protein                                                     LEU68.A   \n",
       "interaction                                              VdWContact   \n",
       "                                                   Frame              \n",
       "/media/lmeuret/Seagate Portable Drive/result_do... 0            NaN   \n",
       "/media/lmeuret/Seagate Portable Drive/result_do... 0            NaN   \n",
       "/media/lmeuret/Seagate Portable Drive/result_do... 0            NaN   \n",
       "/media/lmeuret/Seagate Portable Drive/result_do... 0            NaN   \n",
       "/media/lmeuret/Seagate Portable Drive/result_do... 0            NaN   \n",
       "...                                                             ...   \n",
       "/media/lmeuret/Seagate Portable Drive/result_do... 0            NaN   \n",
       "/media/lmeuret/Seagate Portable Drive/result_do... 0            NaN   \n",
       "/media/lmeuret/Seagate Portable Drive/result_do... 0            NaN   \n",
       "/media/lmeuret/Seagate Portable Drive/result_do... 0            NaN   \n",
       "/media/lmeuret/Seagate Portable Drive/result_do... 0            NaN   \n",
       "\n",
       "ligand                                                               \\\n",
       "protein                                                     ARG99.A   \n",
       "interaction                                              VdWContact   \n",
       "                                                   Frame              \n",
       "/media/lmeuret/Seagate Portable Drive/result_do... 0            NaN   \n",
       "/media/lmeuret/Seagate Portable Drive/result_do... 0            NaN   \n",
       "/media/lmeuret/Seagate Portable Drive/result_do... 0            NaN   \n",
       "/media/lmeuret/Seagate Portable Drive/result_do... 0            NaN   \n",
       "/media/lmeuret/Seagate Portable Drive/result_do... 0            NaN   \n",
       "...                                                             ...   \n",
       "/media/lmeuret/Seagate Portable Drive/result_do... 0            NaN   \n",
       "/media/lmeuret/Seagate Portable Drive/result_do... 0            NaN   \n",
       "/media/lmeuret/Seagate Portable Drive/result_do... 0            NaN   \n",
       "/media/lmeuret/Seagate Portable Drive/result_do... 0            NaN   \n",
       "/media/lmeuret/Seagate Portable Drive/result_do... 0            NaN   \n",
       "\n",
       "ligand                                                               \\\n",
       "protein                                                    ALA102.A   \n",
       "interaction                                              VdWContact   \n",
       "                                                   Frame              \n",
       "/media/lmeuret/Seagate Portable Drive/result_do... 0            NaN   \n",
       "/media/lmeuret/Seagate Portable Drive/result_do... 0            NaN   \n",
       "/media/lmeuret/Seagate Portable Drive/result_do... 0            NaN   \n",
       "/media/lmeuret/Seagate Portable Drive/result_do... 0            NaN   \n",
       "/media/lmeuret/Seagate Portable Drive/result_do... 0            NaN   \n",
       "...                                                             ...   \n",
       "/media/lmeuret/Seagate Portable Drive/result_do... 0            NaN   \n",
       "/media/lmeuret/Seagate Portable Drive/result_do... 0            NaN   \n",
       "/media/lmeuret/Seagate Portable Drive/result_do... 0            NaN   \n",
       "/media/lmeuret/Seagate Portable Drive/result_do... 0            NaN   \n",
       "/media/lmeuret/Seagate Portable Drive/result_do... 0            NaN   \n",
       "\n",
       "ligand                                                       ALA1.A  \\\n",
       "protein                                                     ARG99.A   \n",
       "interaction                                              HBAcceptor   \n",
       "                                                   Frame              \n",
       "/media/lmeuret/Seagate Portable Drive/result_do... 0            NaN   \n",
       "/media/lmeuret/Seagate Portable Drive/result_do... 0            NaN   \n",
       "/media/lmeuret/Seagate Portable Drive/result_do... 0            NaN   \n",
       "/media/lmeuret/Seagate Portable Drive/result_do... 0            NaN   \n",
       "/media/lmeuret/Seagate Portable Drive/result_do... 0            NaN   \n",
       "...                                                             ...   \n",
       "/media/lmeuret/Seagate Portable Drive/result_do... 0            NaN   \n",
       "/media/lmeuret/Seagate Portable Drive/result_do... 0            NaN   \n",
       "/media/lmeuret/Seagate Portable Drive/result_do... 0            NaN   \n",
       "/media/lmeuret/Seagate Portable Drive/result_do... 0            NaN   \n",
       "/media/lmeuret/Seagate Portable Drive/result_do... 0            NaN   \n",
       "\n",
       "ligand                                                               \\\n",
       "protein                                                               \n",
       "interaction                                              VdWContact   \n",
       "                                                   Frame              \n",
       "/media/lmeuret/Seagate Portable Drive/result_do... 0            NaN   \n",
       "/media/lmeuret/Seagate Portable Drive/result_do... 0            NaN   \n",
       "/media/lmeuret/Seagate Portable Drive/result_do... 0            NaN   \n",
       "/media/lmeuret/Seagate Portable Drive/result_do... 0            NaN   \n",
       "/media/lmeuret/Seagate Portable Drive/result_do... 0            NaN   \n",
       "...                                                             ...   \n",
       "/media/lmeuret/Seagate Portable Drive/result_do... 0            NaN   \n",
       "/media/lmeuret/Seagate Portable Drive/result_do... 0            NaN   \n",
       "/media/lmeuret/Seagate Portable Drive/result_do... 0            NaN   \n",
       "/media/lmeuret/Seagate Portable Drive/result_do... 0            NaN   \n",
       "/media/lmeuret/Seagate Portable Drive/result_do... 0            NaN   \n",
       "\n",
       "ligand                                                       UNK2.A  \\\n",
       "protein                                                     LEU90.A   \n",
       "interaction                                              VdWContact   \n",
       "                                                   Frame              \n",
       "/media/lmeuret/Seagate Portable Drive/result_do... 0            NaN   \n",
       "/media/lmeuret/Seagate Portable Drive/result_do... 0            NaN   \n",
       "/media/lmeuret/Seagate Portable Drive/result_do... 0            NaN   \n",
       "/media/lmeuret/Seagate Portable Drive/result_do... 0            NaN   \n",
       "/media/lmeuret/Seagate Portable Drive/result_do... 0            NaN   \n",
       "...                                                             ...   \n",
       "/media/lmeuret/Seagate Portable Drive/result_do... 0            NaN   \n",
       "/media/lmeuret/Seagate Portable Drive/result_do... 0            NaN   \n",
       "/media/lmeuret/Seagate Portable Drive/result_do... 0            NaN   \n",
       "/media/lmeuret/Seagate Portable Drive/result_do... 0            NaN   \n",
       "/media/lmeuret/Seagate Portable Drive/result_do... 0            NaN   \n",
       "\n",
       "ligand                                                                  UNL1.   \n",
       "protein                                                     ARG99.A    ARG60.A  \n",
       "interaction                                              VdWContact VdWContact  \n",
       "                                                   Frame                        \n",
       "/media/lmeuret/Seagate Portable Drive/result_do... 0            NaN        NaN  \n",
       "/media/lmeuret/Seagate Portable Drive/result_do... 0            NaN        NaN  \n",
       "/media/lmeuret/Seagate Portable Drive/result_do... 0            NaN        NaN  \n",
       "/media/lmeuret/Seagate Portable Drive/result_do... 0            NaN        NaN  \n",
       "/media/lmeuret/Seagate Portable Drive/result_do... 0            NaN        NaN  \n",
       "...                                                             ...        ...  \n",
       "/media/lmeuret/Seagate Portable Drive/result_do... 0            NaN        NaN  \n",
       "/media/lmeuret/Seagate Portable Drive/result_do... 0            NaN        NaN  \n",
       "/media/lmeuret/Seagate Portable Drive/result_do... 0            NaN        NaN  \n",
       "/media/lmeuret/Seagate Portable Drive/result_do... 0            NaN        NaN  \n",
       "/media/lmeuret/Seagate Portable Drive/result_do... 0            NaN        NaN  \n",
       "\n",
       "[987 rows x 100 columns]"
      ]
     },
     "execution_count": 4,
     "metadata": {},
     "output_type": "execute_result"
    }
   ],
   "source": [
    "# Concatenate the list of DataFrames into a single DataFrame\n",
    "df_interactions = pd.concat(interaction_counts.values(), keys=ligand_list)\n",
    "\n",
    "# Display the resulting DataFrame\n",
    "df_interactions"
   ]
  },
  {
   "cell_type": "code",
   "execution_count": 5,
   "id": "b0be6fa0",
   "metadata": {},
   "outputs": [
    {
     "name": "stderr",
     "output_type": "stream",
     "text": [
      "/tmp/ipykernel_6350/3171851070.py:1: FutureWarning: Using the level keyword in DataFrame and Series aggregations is deprecated and will be removed in a future version. Use groupby instead. df.sum(level=1) should use df.groupby(level=1).sum().\n",
      "  df_interaction_sum = df_interactions.sum(level=1)\n"
     ]
    }
   ],
   "source": [
    "df_interaction_sum = df_interactions.sum(level=1)\n",
    "#df_interaction_sum['bfactor'] = df_interaction_sum.index.map(lambda x: interaction_counts[x] if x in interaction_counts else 0)\n",
    "\n"
   ]
  },
  {
   "cell_type": "code",
   "execution_count": 6,
   "id": "72a7fd74",
   "metadata": {},
   "outputs": [
    {
     "name": "stdout",
     "output_type": "stream",
     "text": [
      "ligand          UNL1.                                                 \\\n",
      "protein        ALA53.A    PHE57.A     TYR61.A     PHE65.A              \n",
      "interaction VdWContact VdWContact Hydrophobic Hydrophobic VdWContact   \n",
      "count              1.0        1.0         1.0         1.0        1.0   \n",
      "mean              44.0     1212.0      3095.0      1207.0     1446.0   \n",
      "std                NaN        NaN         NaN         NaN        NaN   \n",
      "min               44.0     1212.0      3095.0      1207.0     1446.0   \n",
      "25%               44.0     1212.0      3095.0      1207.0     1446.0   \n",
      "50%               44.0     1212.0      3095.0      1207.0     1446.0   \n",
      "75%               44.0     1212.0      3095.0      1207.0     1446.0   \n",
      "max               44.0     1212.0      3095.0      1207.0     1446.0   \n",
      "\n",
      "ligand                                                               ...  \\\n",
      "protein        LEU90.A   VAL101.A     PHE57.A    TYR61.A    GLY98.A  ...   \n",
      "interaction VdWContact VdWContact Hydrophobic VdWContact VdWContact  ...   \n",
      "count              1.0        1.0         1.0        1.0        1.0  ...   \n",
      "mean             810.0       29.0       384.0     1225.0      769.0  ...   \n",
      "std                NaN        NaN         NaN        NaN        NaN  ...   \n",
      "min              810.0       29.0       384.0     1225.0      769.0  ...   \n",
      "25%              810.0       29.0       384.0     1225.0      769.0  ...   \n",
      "50%              810.0       29.0       384.0     1225.0      769.0  ...   \n",
      "75%              810.0       29.0       384.0     1225.0      769.0  ...   \n",
      "max              810.0       29.0       384.0     1225.0      769.0  ...   \n",
      "\n",
      "ligand           UNK0.A                                              \\\n",
      "protein         PHE65.A               LEU68.A    ARG99.A   ALA102.A   \n",
      "interaction Hydrophobic VdWContact VdWContact VdWContact VdWContact   \n",
      "count               1.0        1.0        1.0        1.0        1.0   \n",
      "mean                2.0        4.0        2.0        1.0        1.0   \n",
      "std                 NaN        NaN        NaN        NaN        NaN   \n",
      "min                 2.0        4.0        2.0        1.0        1.0   \n",
      "25%                 2.0        4.0        2.0        1.0        1.0   \n",
      "50%                 2.0        4.0        2.0        1.0        1.0   \n",
      "75%                 2.0        4.0        2.0        1.0        1.0   \n",
      "max                 2.0        4.0        2.0        1.0        1.0   \n",
      "\n",
      "ligand          ALA1.A                UNK2.A                UNL1.   \n",
      "protein        ARG99.A               LEU90.A    ARG99.A    ARG60.A  \n",
      "interaction HBAcceptor VdWContact VdWContact VdWContact VdWContact  \n",
      "count              1.0        1.0        1.0        1.0        1.0  \n",
      "mean               1.0        3.0        1.0        1.0        2.0  \n",
      "std                NaN        NaN        NaN        NaN        NaN  \n",
      "min                1.0        3.0        1.0        1.0        2.0  \n",
      "25%                1.0        3.0        1.0        1.0        2.0  \n",
      "50%                1.0        3.0        1.0        1.0        2.0  \n",
      "75%                1.0        3.0        1.0        1.0        2.0  \n",
      "max                1.0        3.0        1.0        1.0        2.0  \n",
      "\n",
      "[8 rows x 100 columns]\n"
     ]
    }
   ],
   "source": [
    "print(df_interaction_sum.describe())\n"
   ]
  },
  {
   "cell_type": "code",
   "execution_count": 7,
   "id": "ea5e460b",
   "metadata": {},
   "outputs": [],
   "source": [
    "protein = []\n",
    "with open(\"/media/lmeuret/Seagate Portable Drive/docu/Bests_ligand/output44.pdb\", \"r\") as file:\n",
    "    for line in file:\n",
    "        if line.startswith(\"ATOM\"):\n",
    "            protein.append(line)\n",
    "import pandas as pd\n",
    "df_protein = pd.DataFrame([line.split() for line in protein], columns=[\"ATOM\", \"resid\", \"name\",\"resname\",\"chain\",\"res\",\"x\",\"y\",\"z\",\"r\",\"bfactor\",\"atm\"])\n",
    "\n",
    "\n"
   ]
  },
  {
   "cell_type": "code",
   "execution_count": 8,
   "id": "073079bc",
   "metadata": {
    "scrolled": true
   },
   "outputs": [
    {
     "name": "stdout",
     "output_type": "stream",
     "text": [
      "      ATOM resid  name resname chain  res       x       y       z     r  \\\n",
      "0     ATOM     1     N     MET     A    1  49.220  44.670  56.910  1.00   \n",
      "1     ATOM     2    H1     MET     A    1  48.320  45.150  56.920  1.00   \n",
      "2     ATOM     3    H2     MET     A    1  49.740  44.700  57.780  1.00   \n",
      "3     ATOM     4    H3     MET     A    1  49.650  45.140  56.130  1.00   \n",
      "4     ATOM     5    CA     MET     A    1  48.970  43.290  56.400  1.00   \n",
      "...    ...   ...   ...     ...   ...  ...     ...     ...     ...   ...   \n",
      "2639  ATOM  2640  HH21     ARG     A  169  25.670  41.620  34.800  1.00   \n",
      "2640  ATOM  2641  HH22     ARG     A  169  25.730  40.010  34.320  1.00   \n",
      "2641  ATOM  2642     C     ARG     A  169  22.590  47.080  30.460  1.00   \n",
      "2642  ATOM  2643    O1     ARG     A  169  23.070  47.340  29.320  1.00   \n",
      "2643  ATOM  2644    O2     ARG     A  169  23.130  47.690  31.420  1.00   \n",
      "\n",
      "     bfactor atm  \n",
      "0       0.00   N  \n",
      "1       0.00   H  \n",
      "2       0.00   H  \n",
      "3       0.00   H  \n",
      "4       0.00   C  \n",
      "...      ...  ..  \n",
      "2639    0.00   H  \n",
      "2640    0.00   H  \n",
      "2641    0.00   C  \n",
      "2642    0.00   O  \n",
      "2643    0.00   O  \n",
      "\n",
      "[2644 rows x 12 columns]\n"
     ]
    }
   ],
   "source": [
    "print(df_protein)"
   ]
  },
  {
   "cell_type": "code",
   "execution_count": 9,
   "id": "d8d8ebd4",
   "metadata": {},
   "outputs": [],
   "source": [
    "df_protein['id_i'] = 0\n",
    "\n",
    "for index, row in df_protein.iterrows():\n",
    "    df_protein.at[index, 'id_i'] = row['resname'] + row['res'] + \".\" + row['chain']\n",
    "\n"
   ]
  },
  {
   "cell_type": "code",
   "execution_count": 10,
   "id": "4004afac",
   "metadata": {
    "scrolled": true
   },
   "outputs": [
    {
     "name": "stdout",
     "output_type": "stream",
     "text": [
      "      ATOM resid  name resname chain  res       x       y       z     r  \\\n",
      "0     ATOM     1     N     MET     A    1  49.220  44.670  56.910  1.00   \n",
      "1     ATOM     2    H1     MET     A    1  48.320  45.150  56.920  1.00   \n",
      "2     ATOM     3    H2     MET     A    1  49.740  44.700  57.780  1.00   \n",
      "3     ATOM     4    H3     MET     A    1  49.650  45.140  56.130  1.00   \n",
      "4     ATOM     5    CA     MET     A    1  48.970  43.290  56.400  1.00   \n",
      "...    ...   ...   ...     ...   ...  ...     ...     ...     ...   ...   \n",
      "2639  ATOM  2640  HH21     ARG     A  169  25.670  41.620  34.800  1.00   \n",
      "2640  ATOM  2641  HH22     ARG     A  169  25.730  40.010  34.320  1.00   \n",
      "2641  ATOM  2642     C     ARG     A  169  22.590  47.080  30.460  1.00   \n",
      "2642  ATOM  2643    O1     ARG     A  169  23.070  47.340  29.320  1.00   \n",
      "2643  ATOM  2644    O2     ARG     A  169  23.130  47.690  31.420  1.00   \n",
      "\n",
      "     bfactor atm      id_i  \n",
      "0       0.00   N    MET1.A  \n",
      "1       0.00   H    MET1.A  \n",
      "2       0.00   H    MET1.A  \n",
      "3       0.00   H    MET1.A  \n",
      "4       0.00   C    MET1.A  \n",
      "...      ...  ..       ...  \n",
      "2639    0.00   H  ARG169.A  \n",
      "2640    0.00   H  ARG169.A  \n",
      "2641    0.00   C  ARG169.A  \n",
      "2642    0.00   O  ARG169.A  \n",
      "2643    0.00   O  ARG169.A  \n",
      "\n",
      "[2644 rows x 13 columns]\n"
     ]
    }
   ],
   "source": [
    "print(df_protein)"
   ]
  },
  {
   "cell_type": "code",
   "execution_count": 83,
   "id": "d13fbed6",
   "metadata": {},
   "outputs": [
    {
     "name": "stdout",
     "output_type": "stream",
     "text": [
      "VAL95.A\n",
      "0    0\n",
      "Name: Frame, dtype: int64\n",
      "r\n",
      "0    498.0\n",
      "Name: ALA102.A, dtype: float64\n",
      "L\n",
      "0    49.0\n",
      "Name: ALA53.A, dtype: float64\n",
      "L\n",
      "0    103.0\n",
      "Name: ALA64.A, dtype: float64\n",
      "L\n",
      "0    2.0\n",
      "Name: ARG60.A, dtype: float64\n",
      "R\n",
      "0    192.0\n",
      "Name: ARG92.A, dtype: float64\n",
      "R\n",
      "0    2814.0\n",
      "Name: ARG99.A, dtype: float64\n",
      "R\n",
      "0    166.0\n",
      "Name: ASN96.A, dtype: float64\n",
      "S\n",
      "0    212.0\n",
      "Name: ASP93.A, dtype: float64\n",
      "S\n",
      "0    44.0\n",
      "Name: GLN71.A, dtype: float64\n",
      "L\n",
      "0    195.0\n",
      "Name: GLU56.A, dtype: float64\n",
      "L\n",
      "0    255.0\n",
      "Name: GLU89.A, dtype: float64\n",
      "L\n",
      "0    3.0\n",
      "Name: GLY94.A, dtype: float64\n",
      "L\n",
      "0    789.0\n",
      "Name: GLY98.A, dtype: float64\n",
      "L\n",
      "0    18.0\n",
      "Name: LEU154.A, dtype: float64\n",
      "E\n",
      "0    887.0\n",
      "Name: LEU68.A, dtype: float64\n",
      "E\n",
      "0    2.0\n",
      "Name: LEU72.A, dtype: float64\n",
      "E\n",
      "0    942.0\n",
      "Name: LEU90.A, dtype: float64\n",
      "E\n",
      "0    1603.0\n",
      "Name: PHE57.A, dtype: float64\n",
      "H\n",
      "0    2672.0\n",
      "Name: PHE65.A, dtype: float64\n",
      "H\n",
      "0    1.0\n",
      "Name: PHE91.A, dtype: float64\n",
      "H\n",
      "0    40.0\n",
      "Name: THR69.A, dtype: float64\n",
      "H\n",
      "0    72.0\n",
      "Name: TRP97.A, dtype: float64\n",
      "R\n",
      "0    460.0\n",
      "Name: TYR155.A, dtype: float64\n",
      "Y\n",
      "0    4352.0\n",
      "Name: TYR61.A, dtype: float64\n",
      "Y\n",
      "0    29.0\n",
      "Name: VAL101.A, dtype: float64\n",
      "A\n",
      "0    1.0\n",
      "Name: VAL95.A, dtype: float64\n",
      "A\n"
     ]
    },
    {
     "name": "stderr",
     "output_type": "stream",
     "text": [
      "/tmp/ipykernel_6350/3717329830.py:9: FutureWarning: The frame.append method is deprecated and will be removed from pandas in a future version. Use pandas.concat instead.\n",
      "  df_final = df_final.append({'name': column, 'value': df_interaction_sum[column][0]}, ignore_index=True)\n",
      "/tmp/ipykernel_6350/3717329830.py:9: FutureWarning: The frame.append method is deprecated and will be removed from pandas in a future version. Use pandas.concat instead.\n",
      "  df_final = df_final.append({'name': column, 'value': df_interaction_sum[column][0]}, ignore_index=True)\n",
      "/tmp/ipykernel_6350/3717329830.py:9: FutureWarning: The frame.append method is deprecated and will be removed from pandas in a future version. Use pandas.concat instead.\n",
      "  df_final = df_final.append({'name': column, 'value': df_interaction_sum[column][0]}, ignore_index=True)\n",
      "/tmp/ipykernel_6350/3717329830.py:9: FutureWarning: The frame.append method is deprecated and will be removed from pandas in a future version. Use pandas.concat instead.\n",
      "  df_final = df_final.append({'name': column, 'value': df_interaction_sum[column][0]}, ignore_index=True)\n",
      "/tmp/ipykernel_6350/3717329830.py:9: FutureWarning: The frame.append method is deprecated and will be removed from pandas in a future version. Use pandas.concat instead.\n",
      "  df_final = df_final.append({'name': column, 'value': df_interaction_sum[column][0]}, ignore_index=True)\n",
      "/tmp/ipykernel_6350/3717329830.py:9: FutureWarning: The frame.append method is deprecated and will be removed from pandas in a future version. Use pandas.concat instead.\n",
      "  df_final = df_final.append({'name': column, 'value': df_interaction_sum[column][0]}, ignore_index=True)\n",
      "/tmp/ipykernel_6350/3717329830.py:9: FutureWarning: The frame.append method is deprecated and will be removed from pandas in a future version. Use pandas.concat instead.\n",
      "  df_final = df_final.append({'name': column, 'value': df_interaction_sum[column][0]}, ignore_index=True)\n",
      "/tmp/ipykernel_6350/3717329830.py:9: FutureWarning: The frame.append method is deprecated and will be removed from pandas in a future version. Use pandas.concat instead.\n",
      "  df_final = df_final.append({'name': column, 'value': df_interaction_sum[column][0]}, ignore_index=True)\n",
      "/tmp/ipykernel_6350/3717329830.py:9: FutureWarning: The frame.append method is deprecated and will be removed from pandas in a future version. Use pandas.concat instead.\n",
      "  df_final = df_final.append({'name': column, 'value': df_interaction_sum[column][0]}, ignore_index=True)\n",
      "/tmp/ipykernel_6350/3717329830.py:9: FutureWarning: The frame.append method is deprecated and will be removed from pandas in a future version. Use pandas.concat instead.\n",
      "  df_final = df_final.append({'name': column, 'value': df_interaction_sum[column][0]}, ignore_index=True)\n",
      "/tmp/ipykernel_6350/3717329830.py:9: FutureWarning: The frame.append method is deprecated and will be removed from pandas in a future version. Use pandas.concat instead.\n",
      "  df_final = df_final.append({'name': column, 'value': df_interaction_sum[column][0]}, ignore_index=True)\n",
      "/tmp/ipykernel_6350/3717329830.py:9: FutureWarning: The frame.append method is deprecated and will be removed from pandas in a future version. Use pandas.concat instead.\n",
      "  df_final = df_final.append({'name': column, 'value': df_interaction_sum[column][0]}, ignore_index=True)\n",
      "/tmp/ipykernel_6350/3717329830.py:9: FutureWarning: The frame.append method is deprecated and will be removed from pandas in a future version. Use pandas.concat instead.\n",
      "  df_final = df_final.append({'name': column, 'value': df_interaction_sum[column][0]}, ignore_index=True)\n",
      "/tmp/ipykernel_6350/3717329830.py:9: FutureWarning: The frame.append method is deprecated and will be removed from pandas in a future version. Use pandas.concat instead.\n",
      "  df_final = df_final.append({'name': column, 'value': df_interaction_sum[column][0]}, ignore_index=True)\n",
      "/tmp/ipykernel_6350/3717329830.py:9: FutureWarning: The frame.append method is deprecated and will be removed from pandas in a future version. Use pandas.concat instead.\n",
      "  df_final = df_final.append({'name': column, 'value': df_interaction_sum[column][0]}, ignore_index=True)\n",
      "/tmp/ipykernel_6350/3717329830.py:9: FutureWarning: The frame.append method is deprecated and will be removed from pandas in a future version. Use pandas.concat instead.\n",
      "  df_final = df_final.append({'name': column, 'value': df_interaction_sum[column][0]}, ignore_index=True)\n",
      "/tmp/ipykernel_6350/3717329830.py:9: FutureWarning: The frame.append method is deprecated and will be removed from pandas in a future version. Use pandas.concat instead.\n",
      "  df_final = df_final.append({'name': column, 'value': df_interaction_sum[column][0]}, ignore_index=True)\n",
      "/tmp/ipykernel_6350/3717329830.py:9: FutureWarning: The frame.append method is deprecated and will be removed from pandas in a future version. Use pandas.concat instead.\n",
      "  df_final = df_final.append({'name': column, 'value': df_interaction_sum[column][0]}, ignore_index=True)\n",
      "/tmp/ipykernel_6350/3717329830.py:9: FutureWarning: The frame.append method is deprecated and will be removed from pandas in a future version. Use pandas.concat instead.\n",
      "  df_final = df_final.append({'name': column, 'value': df_interaction_sum[column][0]}, ignore_index=True)\n",
      "/tmp/ipykernel_6350/3717329830.py:9: FutureWarning: The frame.append method is deprecated and will be removed from pandas in a future version. Use pandas.concat instead.\n",
      "  df_final = df_final.append({'name': column, 'value': df_interaction_sum[column][0]}, ignore_index=True)\n",
      "/tmp/ipykernel_6350/3717329830.py:9: FutureWarning: The frame.append method is deprecated and will be removed from pandas in a future version. Use pandas.concat instead.\n",
      "  df_final = df_final.append({'name': column, 'value': df_interaction_sum[column][0]}, ignore_index=True)\n",
      "/tmp/ipykernel_6350/3717329830.py:9: FutureWarning: The frame.append method is deprecated and will be removed from pandas in a future version. Use pandas.concat instead.\n",
      "  df_final = df_final.append({'name': column, 'value': df_interaction_sum[column][0]}, ignore_index=True)\n",
      "/tmp/ipykernel_6350/3717329830.py:9: FutureWarning: The frame.append method is deprecated and will be removed from pandas in a future version. Use pandas.concat instead.\n",
      "  df_final = df_final.append({'name': column, 'value': df_interaction_sum[column][0]}, ignore_index=True)\n",
      "/tmp/ipykernel_6350/3717329830.py:9: FutureWarning: The frame.append method is deprecated and will be removed from pandas in a future version. Use pandas.concat instead.\n",
      "  df_final = df_final.append({'name': column, 'value': df_interaction_sum[column][0]}, ignore_index=True)\n",
      "/tmp/ipykernel_6350/3717329830.py:9: FutureWarning: The frame.append method is deprecated and will be removed from pandas in a future version. Use pandas.concat instead.\n",
      "  df_final = df_final.append({'name': column, 'value': df_interaction_sum[column][0]}, ignore_index=True)\n",
      "/tmp/ipykernel_6350/3717329830.py:9: FutureWarning: The frame.append method is deprecated and will be removed from pandas in a future version. Use pandas.concat instead.\n",
      "  df_final = df_final.append({'name': column, 'value': df_interaction_sum[column][0]}, ignore_index=True)\n",
      "/tmp/ipykernel_6350/3717329830.py:9: FutureWarning: The frame.append method is deprecated and will be removed from pandas in a future version. Use pandas.concat instead.\n",
      "  df_final = df_final.append({'name': column, 'value': df_interaction_sum[column][0]}, ignore_index=True)\n"
     ]
    },
    {
     "data": {
      "text/html": [
       "<div>\n",
       "<style scoped>\n",
       "    .dataframe tbody tr th:only-of-type {\n",
       "        vertical-align: middle;\n",
       "    }\n",
       "\n",
       "    .dataframe tbody tr th {\n",
       "        vertical-align: top;\n",
       "    }\n",
       "\n",
       "    .dataframe thead th {\n",
       "        text-align: right;\n",
       "    }\n",
       "</style>\n",
       "<table border=\"1\" class=\"dataframe\">\n",
       "  <thead>\n",
       "    <tr style=\"text-align: right;\">\n",
       "      <th></th>\n",
       "      <th>name</th>\n",
       "      <th>value</th>\n",
       "    </tr>\n",
       "  </thead>\n",
       "  <tbody>\n",
       "    <tr>\n",
       "      <th>0</th>\n",
       "      <td>Frame</td>\n",
       "      <td>0</td>\n",
       "    </tr>\n",
       "    <tr>\n",
       "      <th>1</th>\n",
       "      <td>ALA102.A</td>\n",
       "      <td>498.0</td>\n",
       "    </tr>\n",
       "    <tr>\n",
       "      <th>2</th>\n",
       "      <td>ALA53.A</td>\n",
       "      <td>49.0</td>\n",
       "    </tr>\n",
       "    <tr>\n",
       "      <th>3</th>\n",
       "      <td>ALA64.A</td>\n",
       "      <td>103.0</td>\n",
       "    </tr>\n",
       "    <tr>\n",
       "      <th>4</th>\n",
       "      <td>ARG60.A</td>\n",
       "      <td>2.0</td>\n",
       "    </tr>\n",
       "    <tr>\n",
       "      <th>5</th>\n",
       "      <td>ARG92.A</td>\n",
       "      <td>192.0</td>\n",
       "    </tr>\n",
       "    <tr>\n",
       "      <th>6</th>\n",
       "      <td>ARG99.A</td>\n",
       "      <td>2814.0</td>\n",
       "    </tr>\n",
       "    <tr>\n",
       "      <th>7</th>\n",
       "      <td>ASN96.A</td>\n",
       "      <td>166.0</td>\n",
       "    </tr>\n",
       "    <tr>\n",
       "      <th>8</th>\n",
       "      <td>ASP93.A</td>\n",
       "      <td>212.0</td>\n",
       "    </tr>\n",
       "    <tr>\n",
       "      <th>9</th>\n",
       "      <td>GLN71.A</td>\n",
       "      <td>44.0</td>\n",
       "    </tr>\n",
       "    <tr>\n",
       "      <th>10</th>\n",
       "      <td>GLU56.A</td>\n",
       "      <td>195.0</td>\n",
       "    </tr>\n",
       "    <tr>\n",
       "      <th>11</th>\n",
       "      <td>GLU89.A</td>\n",
       "      <td>255.0</td>\n",
       "    </tr>\n",
       "    <tr>\n",
       "      <th>12</th>\n",
       "      <td>GLY94.A</td>\n",
       "      <td>3.0</td>\n",
       "    </tr>\n",
       "    <tr>\n",
       "      <th>13</th>\n",
       "      <td>GLY98.A</td>\n",
       "      <td>789.0</td>\n",
       "    </tr>\n",
       "    <tr>\n",
       "      <th>14</th>\n",
       "      <td>LEU154.A</td>\n",
       "      <td>18.0</td>\n",
       "    </tr>\n",
       "    <tr>\n",
       "      <th>15</th>\n",
       "      <td>LEU68.A</td>\n",
       "      <td>887.0</td>\n",
       "    </tr>\n",
       "    <tr>\n",
       "      <th>16</th>\n",
       "      <td>LEU72.A</td>\n",
       "      <td>2.0</td>\n",
       "    </tr>\n",
       "    <tr>\n",
       "      <th>17</th>\n",
       "      <td>LEU90.A</td>\n",
       "      <td>942.0</td>\n",
       "    </tr>\n",
       "    <tr>\n",
       "      <th>18</th>\n",
       "      <td>PHE57.A</td>\n",
       "      <td>1603.0</td>\n",
       "    </tr>\n",
       "    <tr>\n",
       "      <th>19</th>\n",
       "      <td>PHE65.A</td>\n",
       "      <td>2672.0</td>\n",
       "    </tr>\n",
       "    <tr>\n",
       "      <th>20</th>\n",
       "      <td>PHE91.A</td>\n",
       "      <td>1.0</td>\n",
       "    </tr>\n",
       "    <tr>\n",
       "      <th>21</th>\n",
       "      <td>THR69.A</td>\n",
       "      <td>40.0</td>\n",
       "    </tr>\n",
       "    <tr>\n",
       "      <th>22</th>\n",
       "      <td>TRP97.A</td>\n",
       "      <td>72.0</td>\n",
       "    </tr>\n",
       "    <tr>\n",
       "      <th>23</th>\n",
       "      <td>TYR155.A</td>\n",
       "      <td>460.0</td>\n",
       "    </tr>\n",
       "    <tr>\n",
       "      <th>24</th>\n",
       "      <td>TYR61.A</td>\n",
       "      <td>4352.0</td>\n",
       "    </tr>\n",
       "    <tr>\n",
       "      <th>25</th>\n",
       "      <td>VAL101.A</td>\n",
       "      <td>29.0</td>\n",
       "    </tr>\n",
       "    <tr>\n",
       "      <th>26</th>\n",
       "      <td>VAL95.A</td>\n",
       "      <td>1.0</td>\n",
       "    </tr>\n",
       "  </tbody>\n",
       "</table>\n",
       "</div>"
      ],
      "text/plain": [
       "        name   value\n",
       "0      Frame       0\n",
       "1   ALA102.A   498.0\n",
       "2    ALA53.A    49.0\n",
       "3    ALA64.A   103.0\n",
       "4    ARG60.A     2.0\n",
       "5    ARG92.A   192.0\n",
       "6    ARG99.A  2814.0\n",
       "7    ASN96.A   166.0\n",
       "8    ASP93.A   212.0\n",
       "9    GLN71.A    44.0\n",
       "10   GLU56.A   195.0\n",
       "11   GLU89.A   255.0\n",
       "12   GLY94.A     3.0\n",
       "13   GLY98.A   789.0\n",
       "14  LEU154.A    18.0\n",
       "15   LEU68.A   887.0\n",
       "16   LEU72.A     2.0\n",
       "17   LEU90.A   942.0\n",
       "18   PHE57.A  1603.0\n",
       "19   PHE65.A  2672.0\n",
       "20   PHE91.A     1.0\n",
       "21   THR69.A    40.0\n",
       "22   TRP97.A    72.0\n",
       "23  TYR155.A   460.0\n",
       "24   TYR61.A  4352.0\n",
       "25  VAL101.A    29.0\n",
       "26   VAL95.A     1.0"
      ]
     },
     "execution_count": 83,
     "metadata": {},
     "output_type": "execute_result"
    }
   ],
   "source": [
    "df_interaction_sum\n",
    "df_final = pd.DataFrame()\n",
    "df_final['name'] = None\n",
    "df_final['value'] = None\n",
    "print(column)\n",
    "for column in df_interaction_sum:\n",
    "    print(df_interaction_sum[column])\n",
    "    print(column[1])\n",
    "    df_final = df_final.append({'name': column, 'value': df_interaction_sum[column][0]}, ignore_index=True)\n",
    "    # Your code here\n",
    "\n",
    "df_final"
   ]
  },
  {
   "cell_type": "code",
   "execution_count": 43,
   "id": "13dea7aa",
   "metadata": {},
   "outputs": [
    {
     "data": {
      "text/html": [
       "<div>\n",
       "<style scoped>\n",
       "    .dataframe tbody tr th:only-of-type {\n",
       "        vertical-align: middle;\n",
       "    }\n",
       "\n",
       "    .dataframe tbody tr th {\n",
       "        vertical-align: top;\n",
       "    }\n",
       "\n",
       "    .dataframe thead th {\n",
       "        text-align: right;\n",
       "    }\n",
       "</style>\n",
       "<table border=\"1\" class=\"dataframe\">\n",
       "  <thead>\n",
       "    <tr style=\"text-align: right;\">\n",
       "      <th></th>\n",
       "      <th>Frame</th>\n",
       "      <th>ALA102.A</th>\n",
       "      <th>ALA53.A</th>\n",
       "      <th>ALA64.A</th>\n",
       "      <th>ARG60.A</th>\n",
       "      <th>ARG92.A</th>\n",
       "      <th>ARG99.A</th>\n",
       "      <th>ASN96.A</th>\n",
       "      <th>ASP93.A</th>\n",
       "      <th>GLN71.A</th>\n",
       "      <th>...</th>\n",
       "      <th>LEU90.A</th>\n",
       "      <th>PHE57.A</th>\n",
       "      <th>PHE65.A</th>\n",
       "      <th>PHE91.A</th>\n",
       "      <th>THR69.A</th>\n",
       "      <th>TRP97.A</th>\n",
       "      <th>TYR155.A</th>\n",
       "      <th>TYR61.A</th>\n",
       "      <th>VAL101.A</th>\n",
       "      <th>VAL95.A</th>\n",
       "    </tr>\n",
       "  </thead>\n",
       "  <tbody>\n",
       "    <tr>\n",
       "      <th>0</th>\n",
       "      <td>0</td>\n",
       "      <td>498.0</td>\n",
       "      <td>49.0</td>\n",
       "      <td>103.0</td>\n",
       "      <td>2.0</td>\n",
       "      <td>192.0</td>\n",
       "      <td>2814.0</td>\n",
       "      <td>166.0</td>\n",
       "      <td>212.0</td>\n",
       "      <td>44.0</td>\n",
       "      <td>...</td>\n",
       "      <td>942.0</td>\n",
       "      <td>1603.0</td>\n",
       "      <td>2672.0</td>\n",
       "      <td>1.0</td>\n",
       "      <td>40.0</td>\n",
       "      <td>72.0</td>\n",
       "      <td>460.0</td>\n",
       "      <td>4352.0</td>\n",
       "      <td>29.0</td>\n",
       "      <td>1.0</td>\n",
       "    </tr>\n",
       "  </tbody>\n",
       "</table>\n",
       "<p>1 rows × 27 columns</p>\n",
       "</div>"
      ],
      "text/plain": [
       "   Frame  ALA102.A  ALA53.A  ALA64.A  ARG60.A  ARG92.A  ARG99.A  ASN96.A  \\\n",
       "0      0     498.0     49.0    103.0      2.0    192.0   2814.0    166.0   \n",
       "\n",
       "   ASP93.A  GLN71.A  ...  LEU90.A  PHE57.A  PHE65.A  PHE91.A  THR69.A  \\\n",
       "0    212.0     44.0  ...    942.0   1603.0   2672.0      1.0     40.0   \n",
       "\n",
       "   TRP97.A  TYR155.A  TYR61.A  VAL101.A  VAL95.A  \n",
       "0     72.0     460.0   4352.0      29.0      1.0  \n",
       "\n",
       "[1 rows x 27 columns]"
      ]
     },
     "execution_count": 43,
     "metadata": {},
     "output_type": "execute_result"
    }
   ],
   "source": [
    "df_interaction_sum"
   ]
  },
  {
   "cell_type": "code",
   "execution_count": 37,
   "id": "a18e2f0f",
   "metadata": {},
   "outputs": [
    {
     "name": "stdout",
     "output_type": "stream",
     "text": [
      "   Frame  ALA102.A  ALA53.A  ALA64.A  ARG60.A  ARG92.A  ARG99.A  ASN96.A  \\\n",
      "0      0     498.0     49.0    103.0      2.0    192.0   2814.0    166.0   \n",
      "\n",
      "   ASP93.A  GLN71.A  ...  LEU90.A  PHE57.A  PHE65.A  PHE91.A  THR69.A  \\\n",
      "0    212.0     44.0  ...    942.0   1603.0   2672.0      1.0     40.0   \n",
      "\n",
      "   TRP97.A  TYR155.A  TYR61.A  VAL101.A  VAL95.A  \n",
      "0     72.0     460.0   4352.0      29.0      1.0  \n",
      "\n",
      "[1 rows x 27 columns]\n"
     ]
    }
   ],
   "source": [
    "import pandas as pd\n",
    "\n",
    "# Assuming df_interaction_sum is your DataFrame\n",
    "\n",
    "# Rename columns to keep only the second value of each tuple\n",
    "df_interaction_sum.columns = df_interaction_sum.columns.map(lambda x: x[1])\n",
    "\n",
    "# Merge columns with the same names (summing their values)\n",
    "df_interaction_sum = df_interaction_sum.groupby(df_interaction_sum.columns, axis=1).sum()\n",
    "\n",
    "# If you want to reset the index and set a new index name\n",
    "df_interaction_sum = df_interaction_sum.reset_index().rename(columns={'index': 'your_new_index_name'})\n",
    "\n",
    "# Access the merged DataFrame\n",
    "print(df_interaction_sum)\n"
   ]
  },
  {
   "cell_type": "code",
   "execution_count": 84,
   "id": "d35289ef",
   "metadata": {},
   "outputs": [],
   "source": [
    "df_final\n",
    "df_final = df_final[1:]\n",
    "\n"
   ]
  },
  {
   "cell_type": "code",
   "execution_count": 46,
   "id": "7e6ae32b",
   "metadata": {},
   "outputs": [],
   "source": [
    "df_final_norm = (df_final['value'] - df_final['value'].min()) / (df_final['value'].max() - df_final['value'].min())\n"
   ]
  },
  {
   "cell_type": "code",
   "execution_count": 47,
   "id": "a2211e6e",
   "metadata": {},
   "outputs": [
    {
     "name": "stdout",
     "output_type": "stream",
     "text": [
      "[0.   0.11 0.01 0.02 0.04 0.65 0.05 0.06 0.18 0.2  0.22 0.37 0.61 1.  ]\n"
     ]
    }
   ],
   "source": [
    "df_final['norm'] = df_final_norm\n",
    "df_final['norm'] = df_final['norm'].apply(lambda x: round(x,2))\n",
    "print(df_final['norm'].unique())\n"
   ]
  },
  {
   "cell_type": "code",
   "execution_count": 64,
   "id": "115b99a3",
   "metadata": {
    "scrolled": true
   },
   "outputs": [
    {
     "data": {
      "text/html": [
       "<div>\n",
       "<style scoped>\n",
       "    .dataframe tbody tr th:only-of-type {\n",
       "        vertical-align: middle;\n",
       "    }\n",
       "\n",
       "    .dataframe tbody tr th {\n",
       "        vertical-align: top;\n",
       "    }\n",
       "\n",
       "    .dataframe thead th {\n",
       "        text-align: right;\n",
       "    }\n",
       "</style>\n",
       "<table border=\"1\" class=\"dataframe\">\n",
       "  <thead>\n",
       "    <tr style=\"text-align: right;\">\n",
       "      <th></th>\n",
       "      <th>name</th>\n",
       "      <th>value</th>\n",
       "    </tr>\n",
       "  </thead>\n",
       "  <tbody>\n",
       "    <tr>\n",
       "      <th>1</th>\n",
       "      <td>ALA102.A</td>\n",
       "      <td>498.0</td>\n",
       "    </tr>\n",
       "    <tr>\n",
       "      <th>2</th>\n",
       "      <td>ALA53.A</td>\n",
       "      <td>49.0</td>\n",
       "    </tr>\n",
       "    <tr>\n",
       "      <th>3</th>\n",
       "      <td>ALA64.A</td>\n",
       "      <td>103.0</td>\n",
       "    </tr>\n",
       "    <tr>\n",
       "      <th>4</th>\n",
       "      <td>ARG60.A</td>\n",
       "      <td>2.0</td>\n",
       "    </tr>\n",
       "    <tr>\n",
       "      <th>5</th>\n",
       "      <td>ARG92.A</td>\n",
       "      <td>192.0</td>\n",
       "    </tr>\n",
       "    <tr>\n",
       "      <th>6</th>\n",
       "      <td>ARG99.A</td>\n",
       "      <td>2814.0</td>\n",
       "    </tr>\n",
       "    <tr>\n",
       "      <th>7</th>\n",
       "      <td>ASN96.A</td>\n",
       "      <td>166.0</td>\n",
       "    </tr>\n",
       "    <tr>\n",
       "      <th>8</th>\n",
       "      <td>ASP93.A</td>\n",
       "      <td>212.0</td>\n",
       "    </tr>\n",
       "    <tr>\n",
       "      <th>9</th>\n",
       "      <td>GLN71.A</td>\n",
       "      <td>44.0</td>\n",
       "    </tr>\n",
       "    <tr>\n",
       "      <th>10</th>\n",
       "      <td>GLU56.A</td>\n",
       "      <td>195.0</td>\n",
       "    </tr>\n",
       "    <tr>\n",
       "      <th>11</th>\n",
       "      <td>GLU89.A</td>\n",
       "      <td>255.0</td>\n",
       "    </tr>\n",
       "    <tr>\n",
       "      <th>12</th>\n",
       "      <td>GLY94.A</td>\n",
       "      <td>3.0</td>\n",
       "    </tr>\n",
       "    <tr>\n",
       "      <th>13</th>\n",
       "      <td>GLY98.A</td>\n",
       "      <td>789.0</td>\n",
       "    </tr>\n",
       "    <tr>\n",
       "      <th>14</th>\n",
       "      <td>LEU154.A</td>\n",
       "      <td>18.0</td>\n",
       "    </tr>\n",
       "    <tr>\n",
       "      <th>15</th>\n",
       "      <td>LEU68.A</td>\n",
       "      <td>887.0</td>\n",
       "    </tr>\n",
       "    <tr>\n",
       "      <th>16</th>\n",
       "      <td>LEU72.A</td>\n",
       "      <td>2.0</td>\n",
       "    </tr>\n",
       "    <tr>\n",
       "      <th>17</th>\n",
       "      <td>LEU90.A</td>\n",
       "      <td>942.0</td>\n",
       "    </tr>\n",
       "    <tr>\n",
       "      <th>18</th>\n",
       "      <td>PHE57.A</td>\n",
       "      <td>1603.0</td>\n",
       "    </tr>\n",
       "    <tr>\n",
       "      <th>19</th>\n",
       "      <td>PHE65.A</td>\n",
       "      <td>2672.0</td>\n",
       "    </tr>\n",
       "    <tr>\n",
       "      <th>20</th>\n",
       "      <td>PHE91.A</td>\n",
       "      <td>1.0</td>\n",
       "    </tr>\n",
       "    <tr>\n",
       "      <th>21</th>\n",
       "      <td>THR69.A</td>\n",
       "      <td>40.0</td>\n",
       "    </tr>\n",
       "    <tr>\n",
       "      <th>22</th>\n",
       "      <td>TRP97.A</td>\n",
       "      <td>72.0</td>\n",
       "    </tr>\n",
       "    <tr>\n",
       "      <th>23</th>\n",
       "      <td>TYR155.A</td>\n",
       "      <td>460.0</td>\n",
       "    </tr>\n",
       "    <tr>\n",
       "      <th>24</th>\n",
       "      <td>TYR61.A</td>\n",
       "      <td>4352.0</td>\n",
       "    </tr>\n",
       "    <tr>\n",
       "      <th>25</th>\n",
       "      <td>VAL101.A</td>\n",
       "      <td>29.0</td>\n",
       "    </tr>\n",
       "    <tr>\n",
       "      <th>26</th>\n",
       "      <td>VAL95.A</td>\n",
       "      <td>1.0</td>\n",
       "    </tr>\n",
       "  </tbody>\n",
       "</table>\n",
       "</div>"
      ],
      "text/plain": [
       "        name   value\n",
       "1   ALA102.A   498.0\n",
       "2    ALA53.A    49.0\n",
       "3    ALA64.A   103.0\n",
       "4    ARG60.A     2.0\n",
       "5    ARG92.A   192.0\n",
       "6    ARG99.A  2814.0\n",
       "7    ASN96.A   166.0\n",
       "8    ASP93.A   212.0\n",
       "9    GLN71.A    44.0\n",
       "10   GLU56.A   195.0\n",
       "11   GLU89.A   255.0\n",
       "12   GLY94.A     3.0\n",
       "13   GLY98.A   789.0\n",
       "14  LEU154.A    18.0\n",
       "15   LEU68.A   887.0\n",
       "16   LEU72.A     2.0\n",
       "17   LEU90.A   942.0\n",
       "18   PHE57.A  1603.0\n",
       "19   PHE65.A  2672.0\n",
       "20   PHE91.A     1.0\n",
       "21   THR69.A    40.0\n",
       "22   TRP97.A    72.0\n",
       "23  TYR155.A   460.0\n",
       "24   TYR61.A  4352.0\n",
       "25  VAL101.A    29.0\n",
       "26   VAL95.A     1.0"
      ]
     },
     "execution_count": 64,
     "metadata": {},
     "output_type": "execute_result"
    }
   ],
   "source": [
    "df_final"
   ]
  },
  {
   "cell_type": "code",
   "execution_count": 85,
   "id": "6a02223f",
   "metadata": {},
   "outputs": [
    {
     "name": "stderr",
     "output_type": "stream",
     "text": [
      "/tmp/ipykernel_6350/4137411233.py:11: SettingWithCopyWarning: \n",
      "A value is trying to be set on a copy of a slice from a DataFrame.\n",
      "Try using .loc[row_indexer,col_indexer] = value instead\n",
      "\n",
      "See the caveats in the documentation: https://pandas.pydata.org/pandas-docs/stable/user_guide/indexing.html#returning-a-view-versus-a-copy\n",
      "  df_final['value'] = pd.to_numeric(df_final['value'], errors='coerce')\n"
     ]
    }
   ],
   "source": [
    "import pandas as pd\n",
    "import seaborn as sns\n",
    "import matplotlib.pyplot as plt\n",
    "\n",
    "# Assuming df_final is your DataFrame with 'name' and 'value' columns\n",
    "\n",
    "# Set 'name' column as the index name\n",
    "df_final.set_index('name', inplace=True)\n",
    "\n",
    "# Try to convert 'value' column to numeric\n",
    "df_final['value'] = pd.to_numeric(df_final['value'], errors='coerce')\n",
    "\n",
    "# Drop rows with NaN values if any were created during conversion\n",
    "df_final = df_final.dropna(subset=['value'])\n",
    "\n",
    "# Sort the DataFrame by the 'value' column\n",
    "df_final_sorted = df_final.sort_values(by='value', ascending=False)\n",
    "\n",
    "# Create a heatmap with white text and alpha channel\n",
    "plt.figure(figsize=(10, 6))\n",
    "heatmap = sns.heatmap(df_final_sorted[['value']], annot=True, cmap='viridis', fmt=\".2f\", cbar_kws={'label': 'Number of interactions'})\n",
    "\n",
    "# Set the text color of the title to white\n",
    "heatmap.set_title('Number of interactions with each Amino acids', color='white')\n",
    "\n",
    "# Set the color of the axis labels and tick labels to white\n",
    "heatmap.set_xlabel('')  # Remove x-axis label\n",
    "heatmap.set_ylabel('')  # Remove y-axis label\n",
    "heatmap.tick_params(axis='both', colors='white')\n",
    "\n",
    "# Save the plot as a PNG file\n",
    "plt.savefig('heatmap.png', bbox_inches='tight', format='png', dpi=300, transparent=True)\n",
    "\n",
    "# Display the plot\n",
    "plt.show()\n",
    "\n"
   ]
  },
  {
   "cell_type": "code",
   "execution_count": null,
   "id": "3c3c7529",
   "metadata": {},
   "outputs": [],
   "source": []
  },
  {
   "cell_type": "code",
   "execution_count": 49,
   "id": "f5231727",
   "metadata": {},
   "outputs": [
    {
     "name": "stdout",
     "output_type": "stream",
     "text": [
      "Int64Index([], dtype='int64')\n",
      "Int64Index([1601, 1602, 1603, 1604, 1605, 1606, 1607, 1608, 1609, 1610], dtype='int64')\n",
      "Int64Index([817, 818, 819, 820, 821, 822, 823, 824, 825, 826], dtype='int64')\n",
      "Int64Index([1008, 1009, 1010, 1011, 1012, 1013, 1014, 1015, 1016, 1017], dtype='int64')\n",
      "Int64Index([915, 916, 917, 918, 919, 920, 921, 922, 923, 924, 925, 926, 927,\n",
      "            928, 929, 930, 931, 932, 933, 934, 935, 936, 937, 938],\n",
      "           dtype='int64')\n",
      "Int64Index([1438, 1439, 1440, 1441, 1442, 1443, 1444, 1445, 1446, 1447, 1448,\n",
      "            1449, 1450, 1451, 1452, 1453, 1454, 1455, 1456, 1457, 1458, 1459,\n",
      "            1460, 1461],\n",
      "           dtype='int64')\n",
      "Int64Index([1542, 1543, 1544, 1545, 1546, 1547, 1548, 1549, 1550, 1551, 1552,\n",
      "            1553, 1554, 1555, 1556, 1557, 1558, 1559, 1560, 1561, 1562, 1563,\n",
      "            1564, 1565],\n",
      "           dtype='int64')\n",
      "Int64Index([1497, 1498, 1499, 1500, 1501, 1502, 1503, 1504, 1505, 1506, 1507,\n",
      "            1508, 1509, 1510],\n",
      "           dtype='int64')\n",
      "Int64Index([1462, 1463, 1464, 1465, 1466, 1467, 1468, 1469, 1470, 1471, 1472,\n",
      "            1473],\n",
      "           dtype='int64')\n",
      "Int64Index([1105, 1106, 1107, 1108, 1109, 1110, 1111, 1112, 1113, 1114, 1115,\n",
      "            1116, 1117, 1118, 1119, 1120, 1121],\n",
      "           dtype='int64')\n",
      "Int64Index([846, 847, 848, 849, 850, 851, 852, 853, 854, 855, 856, 857, 858,\n",
      "            859, 860],\n",
      "           dtype='int64')\n",
      "Int64Index([1384, 1385, 1386, 1387, 1388, 1389, 1390, 1391, 1392, 1393, 1394,\n",
      "            1395, 1396, 1397, 1398],\n",
      "           dtype='int64')\n",
      "Int64Index([1474, 1475, 1476, 1477, 1478, 1479, 1480], dtype='int64')\n",
      "Int64Index([1535, 1536, 1537, 1538, 1539, 1540, 1541], dtype='int64')\n",
      "Int64Index([2403, 2404, 2405, 2406, 2407, 2408, 2409, 2410, 2411, 2412, 2413,\n",
      "            2414, 2415, 2416, 2417, 2418, 2419, 2420, 2421],\n",
      "           dtype='int64')\n",
      "Int64Index([1061, 1062, 1063, 1064, 1065, 1066, 1067, 1068, 1069, 1070, 1071,\n",
      "            1072, 1073, 1074, 1075, 1076, 1077, 1078, 1079],\n",
      "           dtype='int64')\n",
      "Int64Index([1122, 1123, 1124, 1125, 1126, 1127, 1128, 1129, 1130, 1131, 1132,\n",
      "            1133, 1134, 1135, 1136, 1137, 1138, 1139, 1140],\n",
      "           dtype='int64')\n",
      "Int64Index([1399, 1400, 1401, 1402, 1403, 1404, 1405, 1406, 1407, 1408, 1409,\n",
      "            1410, 1411, 1412, 1413, 1414, 1415, 1416, 1417],\n",
      "           dtype='int64')\n",
      "Int64Index([861, 862, 863, 864, 865, 866, 867, 868, 869, 870, 871, 872, 873,\n",
      "            874, 875, 876, 877, 878, 879, 880],\n",
      "           dtype='int64')\n",
      "Int64Index([1018, 1019, 1020, 1021, 1022, 1023, 1024, 1025, 1026, 1027, 1028,\n",
      "            1029, 1030, 1031, 1032, 1033, 1034, 1035, 1036, 1037],\n",
      "           dtype='int64')\n",
      "Int64Index([1418, 1419, 1420, 1421, 1422, 1423, 1424, 1425, 1426, 1427, 1428,\n",
      "            1429, 1430, 1431, 1432, 1433, 1434, 1435, 1436, 1437],\n",
      "           dtype='int64')\n",
      "Int64Index([1080, 1081, 1082, 1083, 1084, 1085, 1086, 1087, 1088, 1089, 1090,\n",
      "            1091, 1092, 1093],\n",
      "           dtype='int64')\n",
      "Int64Index([1511, 1512, 1513, 1514, 1515, 1516, 1517, 1518, 1519, 1520, 1521,\n",
      "            1522, 1523, 1524, 1525, 1526, 1527, 1528, 1529, 1530, 1531, 1532,\n",
      "            1533, 1534],\n",
      "           dtype='int64')\n",
      "Int64Index([2422, 2423, 2424, 2425, 2426, 2427, 2428, 2429, 2430, 2431, 2432,\n",
      "            2433, 2434, 2435, 2436, 2437, 2438, 2439, 2440, 2441, 2442],\n",
      "           dtype='int64')\n",
      "Int64Index([939, 940, 941, 942, 943, 944, 945, 946, 947, 948, 949, 950, 951,\n",
      "            952, 953, 954, 955, 956, 957, 958, 959],\n",
      "           dtype='int64')\n",
      "Int64Index([1585, 1586, 1587, 1588, 1589, 1590, 1591, 1592, 1593, 1594, 1595,\n",
      "            1596, 1597, 1598, 1599, 1600],\n",
      "           dtype='int64')\n",
      "Int64Index([1481, 1482, 1483, 1484, 1485, 1486, 1487, 1488, 1489, 1490, 1491,\n",
      "            1492, 1493, 1494, 1495, 1496],\n",
      "           dtype='int64')\n",
      "[0 '0.01' '0.04' '0.37' '0.0' '1.0' '0.02' '0.61' '0.2' '0.06' '0.22'\n",
      " '0.05' '0.18' '0.65' '0.11']\n"
     ]
    }
   ],
   "source": [
    "import os \n",
    "os.chdir(\"/media/lmeuret/Seagate Portable Drive/result_docking/DOCKING_project/Conan-main/Executions\")\n",
    "import copy\n",
    "from copy import deepcopy\n",
    "#del df_prot\n",
    "\n",
    "df_prot =copy.deepcopy(df_protein)\n",
    "df_prot.drop(columns=['bfactor'], inplace=True)\n",
    "df_prot['bfactor'] = 0\n",
    "df_final['norm'] = df_final['norm'].astype(float)\n",
    "\n",
    "\n",
    "for index, row in df_final.iterrows():\n",
    "    matching_row = df_prot[df_prot['id_i'] == row['name']]\n",
    "    print(matching_row.index)\n",
    "    if not matching_row.empty:\n",
    "        for index_value in matching_row.index:\n",
    "            #print(f\"Processing index: {index}, row['name']: {row['name']}, row['norm']: {row['norm']}\")\n",
    "            #print(f\"Updating df_prot.at[{index_value}, 'bfactor'] with {float(row['norm'])}\")\n",
    "            #print(type(row['norm']))\n",
    "            #print(int(row['norm']*1000))\n",
    "            df_prot.at[index_value, 'bfactor'] = str(round(row['norm'],2))\n",
    "            #df_prot.loc[index_value, 'bfactor'] = int(row['norm']*1000)\n",
    "            #print(df_prot['bfactor'].unique())\n",
    "\n",
    "\n",
    "# Check unique values in 'bfactor' column without rounding\n",
    "unique_bfactors = df_prot['bfactor'].unique()\n",
    "print(unique_bfactors)\n",
    "\n",
    "# Save the DataFrame to a PDB file\n",
    "def dataframe_to_pdb(df, output_file):\n",
    "    with open(output_file, 'w') as f:\n",
    "        for index, row in df.iterrows():\n",
    "            line = f\"{row['ATOM']:6} {row['resid']:5} {row['name']:4}{row['resname']:3} {row['chain']:1}{row['res']:4}    {float(row['x']):8.3f}{float(row['y']):8.3f}{float(row['z']):8.3f}{float(row['r']):6.2f}{float(row['bfactor']):6.2f}           {row['atm']:2}\\n\"\n",
    "            f.write(line)\n",
    "#[\"ATOM\", \"resid\", \"name\",\"resname\",\"chain\",\"res\",\"x\",\"y\",\"z\",\"r\",\"bfactor\",\"atm\"]\n",
    "# Specify the output file name\n",
    "output_file = 'output.pdb'\n",
    "\n",
    "\n",
    "# Convert DataFrame to PDB file\n",
    "dataframe_to_pdb(df_prot, output_file)\n"
   ]
  },
  {
   "cell_type": "code",
   "execution_count": 187,
   "id": "22b29505",
   "metadata": {},
   "outputs": [
    {
     "ename": "KeyError",
     "evalue": "'norm'",
     "output_type": "error",
     "traceback": [
      "\u001b[0;31m---------------------------------------------------------------------------\u001b[0m",
      "\u001b[0;31mKeyError\u001b[0m                                  Traceback (most recent call last)",
      "File \u001b[0;32m~/.local/lib/python3.10/site-packages/pandas/core/indexes/base.py:3621\u001b[0m, in \u001b[0;36mIndex.get_loc\u001b[0;34m(self, key, method, tolerance)\u001b[0m\n\u001b[1;32m   3620\u001b[0m \u001b[39mtry\u001b[39;00m:\n\u001b[0;32m-> 3621\u001b[0m     \u001b[39mreturn\u001b[39;00m \u001b[39mself\u001b[39;49m\u001b[39m.\u001b[39;49m_engine\u001b[39m.\u001b[39;49mget_loc(casted_key)\n\u001b[1;32m   3622\u001b[0m \u001b[39mexcept\u001b[39;00m \u001b[39mKeyError\u001b[39;00m \u001b[39mas\u001b[39;00m err:\n",
      "File \u001b[0;32m~/.local/lib/python3.10/site-packages/pandas/_libs/index.pyx:136\u001b[0m, in \u001b[0;36mpandas._libs.index.IndexEngine.get_loc\u001b[0;34m()\u001b[0m\n",
      "File \u001b[0;32m~/.local/lib/python3.10/site-packages/pandas/_libs/index.pyx:163\u001b[0m, in \u001b[0;36mpandas._libs.index.IndexEngine.get_loc\u001b[0;34m()\u001b[0m\n",
      "File \u001b[0;32mpandas/_libs/hashtable_class_helper.pxi:5198\u001b[0m, in \u001b[0;36mpandas._libs.hashtable.PyObjectHashTable.get_item\u001b[0;34m()\u001b[0m\n",
      "File \u001b[0;32mpandas/_libs/hashtable_class_helper.pxi:5206\u001b[0m, in \u001b[0;36mpandas._libs.hashtable.PyObjectHashTable.get_item\u001b[0;34m()\u001b[0m\n",
      "\u001b[0;31mKeyError\u001b[0m: 'norm'",
      "\nThe above exception was the direct cause of the following exception:\n",
      "\u001b[0;31mKeyError\u001b[0m                                  Traceback (most recent call last)",
      "\u001b[1;32m/media/cya/Seagate Portable Drive/result_docking/DOCKING_project/Conan-main/Executions/Untitled6.ipynb Cell 16\u001b[0m line \u001b[0;36m<cell line: 17>\u001b[0;34m()\u001b[0m\n\u001b[1;32m     <a href='vscode-notebook-cell:/media/cya/Seagate%20Portable%20Drive/result_docking/DOCKING_project/Conan-main/Executions/Untitled6.ipynb#X31sZmlsZQ%3D%3D?line=13'>14</a>\u001b[0m         df_prot\u001b[39m.\u001b[39mloc[row\u001b[39m.\u001b[39mname, \u001b[39m'\u001b[39m\u001b[39mbfactor\u001b[39m\u001b[39m'\u001b[39m] \u001b[39m=\u001b[39m \u001b[39mround\u001b[39m(row[\u001b[39m'\u001b[39m\u001b[39mnorm\u001b[39m\u001b[39m'\u001b[39m], \u001b[39m2\u001b[39m)\n\u001b[1;32m     <a href='vscode-notebook-cell:/media/cya/Seagate%20Portable%20Drive/result_docking/DOCKING_project/Conan-main/Executions/Untitled6.ipynb#X31sZmlsZQ%3D%3D?line=14'>15</a>\u001b[0m         \u001b[39mprint\u001b[39m(df_prot[\u001b[39m'\u001b[39m\u001b[39mbfactor\u001b[39m\u001b[39m'\u001b[39m]\u001b[39m.\u001b[39munique())\n\u001b[0;32m---> <a href='vscode-notebook-cell:/media/cya/Seagate%20Portable%20Drive/result_docking/DOCKING_project/Conan-main/Executions/Untitled6.ipynb#X31sZmlsZQ%3D%3D?line=16'>17</a>\u001b[0m matching_rows\u001b[39m.\u001b[39;49mapply(update_bfactor, axis\u001b[39m=\u001b[39;49m\u001b[39m1\u001b[39;49m)\n",
      "File \u001b[0;32m~/.local/lib/python3.10/site-packages/pandas/core/frame.py:8845\u001b[0m, in \u001b[0;36mDataFrame.apply\u001b[0;34m(self, func, axis, raw, result_type, args, **kwargs)\u001b[0m\n\u001b[1;32m   8834\u001b[0m \u001b[39mfrom\u001b[39;00m \u001b[39mpandas\u001b[39;00m\u001b[39m.\u001b[39;00m\u001b[39mcore\u001b[39;00m\u001b[39m.\u001b[39;00m\u001b[39mapply\u001b[39;00m \u001b[39mimport\u001b[39;00m frame_apply\n\u001b[1;32m   8836\u001b[0m op \u001b[39m=\u001b[39m frame_apply(\n\u001b[1;32m   8837\u001b[0m     \u001b[39mself\u001b[39m,\n\u001b[1;32m   8838\u001b[0m     func\u001b[39m=\u001b[39mfunc,\n\u001b[0;32m   (...)\u001b[0m\n\u001b[1;32m   8843\u001b[0m     kwargs\u001b[39m=\u001b[39mkwargs,\n\u001b[1;32m   8844\u001b[0m )\n\u001b[0;32m-> 8845\u001b[0m \u001b[39mreturn\u001b[39;00m op\u001b[39m.\u001b[39;49mapply()\u001b[39m.\u001b[39m__finalize__(\u001b[39mself\u001b[39m, method\u001b[39m=\u001b[39m\u001b[39m\"\u001b[39m\u001b[39mapply\u001b[39m\u001b[39m\"\u001b[39m)\n",
      "File \u001b[0;32m~/.local/lib/python3.10/site-packages/pandas/core/apply.py:733\u001b[0m, in \u001b[0;36mFrameApply.apply\u001b[0;34m(self)\u001b[0m\n\u001b[1;32m    730\u001b[0m \u001b[39melif\u001b[39;00m \u001b[39mself\u001b[39m\u001b[39m.\u001b[39mraw:\n\u001b[1;32m    731\u001b[0m     \u001b[39mreturn\u001b[39;00m \u001b[39mself\u001b[39m\u001b[39m.\u001b[39mapply_raw()\n\u001b[0;32m--> 733\u001b[0m \u001b[39mreturn\u001b[39;00m \u001b[39mself\u001b[39;49m\u001b[39m.\u001b[39;49mapply_standard()\n",
      "File \u001b[0;32m~/.local/lib/python3.10/site-packages/pandas/core/apply.py:857\u001b[0m, in \u001b[0;36mFrameApply.apply_standard\u001b[0;34m(self)\u001b[0m\n\u001b[1;32m    856\u001b[0m \u001b[39mdef\u001b[39;00m \u001b[39mapply_standard\u001b[39m(\u001b[39mself\u001b[39m):\n\u001b[0;32m--> 857\u001b[0m     results, res_index \u001b[39m=\u001b[39m \u001b[39mself\u001b[39;49m\u001b[39m.\u001b[39;49mapply_series_generator()\n\u001b[1;32m    859\u001b[0m     \u001b[39m# wrap results\u001b[39;00m\n\u001b[1;32m    860\u001b[0m     \u001b[39mreturn\u001b[39;00m \u001b[39mself\u001b[39m\u001b[39m.\u001b[39mwrap_results(results, res_index)\n",
      "File \u001b[0;32m~/.local/lib/python3.10/site-packages/pandas/core/apply.py:873\u001b[0m, in \u001b[0;36mFrameApply.apply_series_generator\u001b[0;34m(self)\u001b[0m\n\u001b[1;32m    870\u001b[0m \u001b[39mwith\u001b[39;00m option_context(\u001b[39m\"\u001b[39m\u001b[39mmode.chained_assignment\u001b[39m\u001b[39m\"\u001b[39m, \u001b[39mNone\u001b[39;00m):\n\u001b[1;32m    871\u001b[0m     \u001b[39mfor\u001b[39;00m i, v \u001b[39min\u001b[39;00m \u001b[39menumerate\u001b[39m(series_gen):\n\u001b[1;32m    872\u001b[0m         \u001b[39m# ignore SettingWithCopy here in case the user mutates\u001b[39;00m\n\u001b[0;32m--> 873\u001b[0m         results[i] \u001b[39m=\u001b[39m \u001b[39mself\u001b[39;49m\u001b[39m.\u001b[39;49mf(v)\n\u001b[1;32m    874\u001b[0m         \u001b[39mif\u001b[39;00m \u001b[39misinstance\u001b[39m(results[i], ABCSeries):\n\u001b[1;32m    875\u001b[0m             \u001b[39m# If we have a view on v, we need to make a copy because\u001b[39;00m\n\u001b[1;32m    876\u001b[0m             \u001b[39m#  series_generator will swap out the underlying data\u001b[39;00m\n\u001b[1;32m    877\u001b[0m             results[i] \u001b[39m=\u001b[39m results[i]\u001b[39m.\u001b[39mcopy(deep\u001b[39m=\u001b[39m\u001b[39mFalse\u001b[39;00m)\n",
      "\u001b[1;32m/media/cya/Seagate Portable Drive/result_docking/DOCKING_project/Conan-main/Executions/Untitled6.ipynb Cell 16\u001b[0m line \u001b[0;36mupdate_bfactor\u001b[0;34m(row)\u001b[0m\n\u001b[1;32m      <a href='vscode-notebook-cell:/media/cya/Seagate%20Portable%20Drive/result_docking/DOCKING_project/Conan-main/Executions/Untitled6.ipynb#X31sZmlsZQ%3D%3D?line=8'>9</a>\u001b[0m \u001b[39mif\u001b[39;00m \u001b[39mnot\u001b[39;00m matching_row\u001b[39m.\u001b[39mempty:\n\u001b[1;32m     <a href='vscode-notebook-cell:/media/cya/Seagate%20Portable%20Drive/result_docking/DOCKING_project/Conan-main/Executions/Untitled6.ipynb#X31sZmlsZQ%3D%3D?line=9'>10</a>\u001b[0m     index_value \u001b[39m=\u001b[39m matching_row\u001b[39m.\u001b[39mindex[\u001b[39m0\u001b[39m]\n\u001b[0;32m---> <a href='vscode-notebook-cell:/media/cya/Seagate%20Portable%20Drive/result_docking/DOCKING_project/Conan-main/Executions/Untitled6.ipynb#X31sZmlsZQ%3D%3D?line=10'>11</a>\u001b[0m     \u001b[39mprint\u001b[39m(\u001b[39mf\u001b[39m\u001b[39m\"\u001b[39m\u001b[39mProcessing index: \u001b[39m\u001b[39m{\u001b[39;00mrow\u001b[39m.\u001b[39mname\u001b[39m}\u001b[39;00m\u001b[39m, row[\u001b[39m\u001b[39m'\u001b[39m\u001b[39mname\u001b[39m\u001b[39m'\u001b[39m\u001b[39m]: \u001b[39m\u001b[39m{\u001b[39;00mrow[\u001b[39m'\u001b[39m\u001b[39mname\u001b[39m\u001b[39m'\u001b[39m]\u001b[39m}\u001b[39;00m\u001b[39m, row[\u001b[39m\u001b[39m'\u001b[39m\u001b[39mnorm\u001b[39m\u001b[39m'\u001b[39m\u001b[39m]: \u001b[39m\u001b[39m{\u001b[39;00mrow[\u001b[39m'\u001b[39m\u001b[39mnorm\u001b[39m\u001b[39m'\u001b[39m]\u001b[39m}\u001b[39;00m\u001b[39m\"\u001b[39m)\n\u001b[1;32m     <a href='vscode-notebook-cell:/media/cya/Seagate%20Portable%20Drive/result_docking/DOCKING_project/Conan-main/Executions/Untitled6.ipynb#X31sZmlsZQ%3D%3D?line=11'>12</a>\u001b[0m     \u001b[39mprint\u001b[39m(\u001b[39mf\u001b[39m\u001b[39m\"\u001b[39m\u001b[39mUpdating df_prot.at[\u001b[39m\u001b[39m{\u001b[39;00mindex_value\u001b[39m}\u001b[39;00m\u001b[39m, \u001b[39m\u001b[39m'\u001b[39m\u001b[39mbfactor\u001b[39m\u001b[39m'\u001b[39m\u001b[39m] with \u001b[39m\u001b[39m{\u001b[39;00m\u001b[39mfloat\u001b[39m(row[\u001b[39m'\u001b[39m\u001b[39mnorm\u001b[39m\u001b[39m'\u001b[39m])\u001b[39m}\u001b[39;00m\u001b[39m\"\u001b[39m)\n\u001b[1;32m     <a href='vscode-notebook-cell:/media/cya/Seagate%20Portable%20Drive/result_docking/DOCKING_project/Conan-main/Executions/Untitled6.ipynb#X31sZmlsZQ%3D%3D?line=12'>13</a>\u001b[0m     \u001b[39mprint\u001b[39m(\u001b[39mtype\u001b[39m(row[\u001b[39m'\u001b[39m\u001b[39mnorm\u001b[39m\u001b[39m'\u001b[39m]))\n",
      "File \u001b[0;32m~/.local/lib/python3.10/site-packages/pandas/core/series.py:958\u001b[0m, in \u001b[0;36mSeries.__getitem__\u001b[0;34m(self, key)\u001b[0m\n\u001b[1;32m    955\u001b[0m     \u001b[39mreturn\u001b[39;00m \u001b[39mself\u001b[39m\u001b[39m.\u001b[39m_values[key]\n\u001b[1;32m    957\u001b[0m \u001b[39melif\u001b[39;00m key_is_scalar:\n\u001b[0;32m--> 958\u001b[0m     \u001b[39mreturn\u001b[39;00m \u001b[39mself\u001b[39;49m\u001b[39m.\u001b[39;49m_get_value(key)\n\u001b[1;32m    960\u001b[0m \u001b[39mif\u001b[39;00m is_hashable(key):\n\u001b[1;32m    961\u001b[0m     \u001b[39m# Otherwise index.get_value will raise InvalidIndexError\u001b[39;00m\n\u001b[1;32m    962\u001b[0m     \u001b[39mtry\u001b[39;00m:\n\u001b[1;32m    963\u001b[0m         \u001b[39m# For labels that don't resolve as scalars like tuples and frozensets\u001b[39;00m\n",
      "File \u001b[0;32m~/.local/lib/python3.10/site-packages/pandas/core/series.py:1069\u001b[0m, in \u001b[0;36mSeries._get_value\u001b[0;34m(self, label, takeable)\u001b[0m\n\u001b[1;32m   1066\u001b[0m     \u001b[39mreturn\u001b[39;00m \u001b[39mself\u001b[39m\u001b[39m.\u001b[39m_values[label]\n\u001b[1;32m   1068\u001b[0m \u001b[39m# Similar to Index.get_value, but we do not fall back to positional\u001b[39;00m\n\u001b[0;32m-> 1069\u001b[0m loc \u001b[39m=\u001b[39m \u001b[39mself\u001b[39;49m\u001b[39m.\u001b[39;49mindex\u001b[39m.\u001b[39;49mget_loc(label)\n\u001b[1;32m   1070\u001b[0m \u001b[39mreturn\u001b[39;00m \u001b[39mself\u001b[39m\u001b[39m.\u001b[39mindex\u001b[39m.\u001b[39m_get_values_for_loc(\u001b[39mself\u001b[39m, loc, label)\n",
      "File \u001b[0;32m~/.local/lib/python3.10/site-packages/pandas/core/indexes/base.py:3623\u001b[0m, in \u001b[0;36mIndex.get_loc\u001b[0;34m(self, key, method, tolerance)\u001b[0m\n\u001b[1;32m   3621\u001b[0m     \u001b[39mreturn\u001b[39;00m \u001b[39mself\u001b[39m\u001b[39m.\u001b[39m_engine\u001b[39m.\u001b[39mget_loc(casted_key)\n\u001b[1;32m   3622\u001b[0m \u001b[39mexcept\u001b[39;00m \u001b[39mKeyError\u001b[39;00m \u001b[39mas\u001b[39;00m err:\n\u001b[0;32m-> 3623\u001b[0m     \u001b[39mraise\u001b[39;00m \u001b[39mKeyError\u001b[39;00m(key) \u001b[39mfrom\u001b[39;00m \u001b[39merr\u001b[39;00m\n\u001b[1;32m   3624\u001b[0m \u001b[39mexcept\u001b[39;00m \u001b[39mTypeError\u001b[39;00m:\n\u001b[1;32m   3625\u001b[0m     \u001b[39m# If we have a listlike key, _check_indexing_error will raise\u001b[39;00m\n\u001b[1;32m   3626\u001b[0m     \u001b[39m#  InvalidIndexError. Otherwise we fall through and re-raise\u001b[39;00m\n\u001b[1;32m   3627\u001b[0m     \u001b[39m#  the TypeError.\u001b[39;00m\n\u001b[1;32m   3628\u001b[0m     \u001b[39mself\u001b[39m\u001b[39m.\u001b[39m_check_indexing_error(key)\n",
      "\u001b[0;31mKeyError\u001b[0m: 'norm'"
     ]
    }
   ],
   "source": [
    "import pandas as pd\n",
    "\n",
    "# Assuming 'name' is a common column between df_final and df_prot\n",
    "df_prot['name'] = df_prot['id_i']  # Rename the 'id_i' column to 'name' for consistency\n",
    "matching_rows = df_prot[df_prot['name'].isin(df_final['name'])]\n",
    "\n",
    "def update_bfactor(row):\n",
    "    matching_row = df_final[df_final['name'] == row['name']]\n",
    "    if not matching_row.empty:\n",
    "        index_value = matching_row.index[0]\n",
    "        print(f\"Processing index: {row.name}, row['name']: {row['name']}, row['norm']: {row['norm']}\")\n",
    "        print(f\"Updating df_prot.at[{index_value}, 'bfactor'] with {float(row['norm'])}\")\n",
    "        print(type(row['norm']))\n",
    "        df_prot.loc[row.name, 'bfactor'] = round(row['norm'], 2)\n",
    "        print(df_prot['bfactor'].unique())\n",
    "\n",
    "matching_rows.apply(update_bfactor, axis=1)\n"
   ]
  },
  {
   "cell_type": "code",
   "execution_count": 175,
   "id": "5da7b2b1",
   "metadata": {},
   "outputs": [
    {
     "data": {
      "text/html": [
       "<div>\n",
       "<style scoped>\n",
       "    .dataframe tbody tr th:only-of-type {\n",
       "        vertical-align: middle;\n",
       "    }\n",
       "\n",
       "    .dataframe tbody tr th {\n",
       "        vertical-align: top;\n",
       "    }\n",
       "\n",
       "    .dataframe thead th {\n",
       "        text-align: right;\n",
       "    }\n",
       "</style>\n",
       "<table border=\"1\" class=\"dataframe\">\n",
       "  <thead>\n",
       "    <tr style=\"text-align: right;\">\n",
       "      <th></th>\n",
       "      <th>ATOM</th>\n",
       "      <th>resid</th>\n",
       "      <th>name</th>\n",
       "      <th>resname</th>\n",
       "      <th>chain</th>\n",
       "      <th>res</th>\n",
       "      <th>x</th>\n",
       "      <th>y</th>\n",
       "      <th>z</th>\n",
       "      <th>r</th>\n",
       "      <th>bfactor</th>\n",
       "      <th>atm</th>\n",
       "      <th>id_i</th>\n",
       "    </tr>\n",
       "  </thead>\n",
       "  <tbody>\n",
       "    <tr>\n",
       "      <th>0</th>\n",
       "      <td>ATOM</td>\n",
       "      <td>1</td>\n",
       "      <td>N</td>\n",
       "      <td>MET</td>\n",
       "      <td>A</td>\n",
       "      <td>1</td>\n",
       "      <td>49.220</td>\n",
       "      <td>44.670</td>\n",
       "      <td>56.910</td>\n",
       "      <td>1.00</td>\n",
       "      <td>0.00</td>\n",
       "      <td>N</td>\n",
       "      <td>MET1.A</td>\n",
       "    </tr>\n",
       "    <tr>\n",
       "      <th>1</th>\n",
       "      <td>ATOM</td>\n",
       "      <td>2</td>\n",
       "      <td>H1</td>\n",
       "      <td>MET</td>\n",
       "      <td>A</td>\n",
       "      <td>1</td>\n",
       "      <td>48.320</td>\n",
       "      <td>45.150</td>\n",
       "      <td>56.920</td>\n",
       "      <td>1.00</td>\n",
       "      <td>0.00</td>\n",
       "      <td>H</td>\n",
       "      <td>MET1.A</td>\n",
       "    </tr>\n",
       "    <tr>\n",
       "      <th>2</th>\n",
       "      <td>ATOM</td>\n",
       "      <td>3</td>\n",
       "      <td>H2</td>\n",
       "      <td>MET</td>\n",
       "      <td>A</td>\n",
       "      <td>1</td>\n",
       "      <td>49.740</td>\n",
       "      <td>44.700</td>\n",
       "      <td>57.780</td>\n",
       "      <td>1.00</td>\n",
       "      <td>0.00</td>\n",
       "      <td>H</td>\n",
       "      <td>MET1.A</td>\n",
       "    </tr>\n",
       "    <tr>\n",
       "      <th>3</th>\n",
       "      <td>ATOM</td>\n",
       "      <td>4</td>\n",
       "      <td>H3</td>\n",
       "      <td>MET</td>\n",
       "      <td>A</td>\n",
       "      <td>1</td>\n",
       "      <td>49.650</td>\n",
       "      <td>45.140</td>\n",
       "      <td>56.130</td>\n",
       "      <td>1.00</td>\n",
       "      <td>0.00</td>\n",
       "      <td>H</td>\n",
       "      <td>MET1.A</td>\n",
       "    </tr>\n",
       "    <tr>\n",
       "      <th>4</th>\n",
       "      <td>ATOM</td>\n",
       "      <td>5</td>\n",
       "      <td>CA</td>\n",
       "      <td>MET</td>\n",
       "      <td>A</td>\n",
       "      <td>1</td>\n",
       "      <td>48.970</td>\n",
       "      <td>43.290</td>\n",
       "      <td>56.400</td>\n",
       "      <td>1.00</td>\n",
       "      <td>0.00</td>\n",
       "      <td>C</td>\n",
       "      <td>MET1.A</td>\n",
       "    </tr>\n",
       "    <tr>\n",
       "      <th>...</th>\n",
       "      <td>...</td>\n",
       "      <td>...</td>\n",
       "      <td>...</td>\n",
       "      <td>...</td>\n",
       "      <td>...</td>\n",
       "      <td>...</td>\n",
       "      <td>...</td>\n",
       "      <td>...</td>\n",
       "      <td>...</td>\n",
       "      <td>...</td>\n",
       "      <td>...</td>\n",
       "      <td>...</td>\n",
       "      <td>...</td>\n",
       "    </tr>\n",
       "    <tr>\n",
       "      <th>2639</th>\n",
       "      <td>ATOM</td>\n",
       "      <td>2640</td>\n",
       "      <td>HH21</td>\n",
       "      <td>ARG</td>\n",
       "      <td>A</td>\n",
       "      <td>169</td>\n",
       "      <td>25.670</td>\n",
       "      <td>41.620</td>\n",
       "      <td>34.800</td>\n",
       "      <td>1.00</td>\n",
       "      <td>0.00</td>\n",
       "      <td>H</td>\n",
       "      <td>ARG169.A</td>\n",
       "    </tr>\n",
       "    <tr>\n",
       "      <th>2640</th>\n",
       "      <td>ATOM</td>\n",
       "      <td>2641</td>\n",
       "      <td>HH22</td>\n",
       "      <td>ARG</td>\n",
       "      <td>A</td>\n",
       "      <td>169</td>\n",
       "      <td>25.730</td>\n",
       "      <td>40.010</td>\n",
       "      <td>34.320</td>\n",
       "      <td>1.00</td>\n",
       "      <td>0.00</td>\n",
       "      <td>H</td>\n",
       "      <td>ARG169.A</td>\n",
       "    </tr>\n",
       "    <tr>\n",
       "      <th>2641</th>\n",
       "      <td>ATOM</td>\n",
       "      <td>2642</td>\n",
       "      <td>C</td>\n",
       "      <td>ARG</td>\n",
       "      <td>A</td>\n",
       "      <td>169</td>\n",
       "      <td>22.590</td>\n",
       "      <td>47.080</td>\n",
       "      <td>30.460</td>\n",
       "      <td>1.00</td>\n",
       "      <td>0.00</td>\n",
       "      <td>C</td>\n",
       "      <td>ARG169.A</td>\n",
       "    </tr>\n",
       "    <tr>\n",
       "      <th>2642</th>\n",
       "      <td>ATOM</td>\n",
       "      <td>2643</td>\n",
       "      <td>O1</td>\n",
       "      <td>ARG</td>\n",
       "      <td>A</td>\n",
       "      <td>169</td>\n",
       "      <td>23.070</td>\n",
       "      <td>47.340</td>\n",
       "      <td>29.320</td>\n",
       "      <td>1.00</td>\n",
       "      <td>0.00</td>\n",
       "      <td>O</td>\n",
       "      <td>ARG169.A</td>\n",
       "    </tr>\n",
       "    <tr>\n",
       "      <th>2643</th>\n",
       "      <td>ATOM</td>\n",
       "      <td>2644</td>\n",
       "      <td>O2</td>\n",
       "      <td>ARG</td>\n",
       "      <td>A</td>\n",
       "      <td>169</td>\n",
       "      <td>23.130</td>\n",
       "      <td>47.690</td>\n",
       "      <td>31.420</td>\n",
       "      <td>1.00</td>\n",
       "      <td>0.00</td>\n",
       "      <td>O</td>\n",
       "      <td>ARG169.A</td>\n",
       "    </tr>\n",
       "  </tbody>\n",
       "</table>\n",
       "<p>2644 rows × 13 columns</p>\n",
       "</div>"
      ],
      "text/plain": [
       "      ATOM resid  name resname chain  res       x       y       z     r  \\\n",
       "0     ATOM     1     N     MET     A    1  49.220  44.670  56.910  1.00   \n",
       "1     ATOM     2    H1     MET     A    1  48.320  45.150  56.920  1.00   \n",
       "2     ATOM     3    H2     MET     A    1  49.740  44.700  57.780  1.00   \n",
       "3     ATOM     4    H3     MET     A    1  49.650  45.140  56.130  1.00   \n",
       "4     ATOM     5    CA     MET     A    1  48.970  43.290  56.400  1.00   \n",
       "...    ...   ...   ...     ...   ...  ...     ...     ...     ...   ...   \n",
       "2639  ATOM  2640  HH21     ARG     A  169  25.670  41.620  34.800  1.00   \n",
       "2640  ATOM  2641  HH22     ARG     A  169  25.730  40.010  34.320  1.00   \n",
       "2641  ATOM  2642     C     ARG     A  169  22.590  47.080  30.460  1.00   \n",
       "2642  ATOM  2643    O1     ARG     A  169  23.070  47.340  29.320  1.00   \n",
       "2643  ATOM  2644    O2     ARG     A  169  23.130  47.690  31.420  1.00   \n",
       "\n",
       "     bfactor atm      id_i  \n",
       "0       0.00   N    MET1.A  \n",
       "1       0.00   H    MET1.A  \n",
       "2       0.00   H    MET1.A  \n",
       "3       0.00   H    MET1.A  \n",
       "4       0.00   C    MET1.A  \n",
       "...      ...  ..       ...  \n",
       "2639    0.00   H  ARG169.A  \n",
       "2640    0.00   H  ARG169.A  \n",
       "2641    0.00   C  ARG169.A  \n",
       "2642    0.00   O  ARG169.A  \n",
       "2643    0.00   O  ARG169.A  \n",
       "\n",
       "[2644 rows x 13 columns]"
      ]
     },
     "execution_count": 175,
     "metadata": {},
     "output_type": "execute_result"
    }
   ],
   "source": [
    "df_protein"
   ]
  },
  {
   "cell_type": "code",
   "execution_count": 98,
   "id": "165f4e7d",
   "metadata": {},
   "outputs": [],
   "source": [
    "df_tosave = df_protein.drop(columns=['bfactor'])\n",
    "\n",
    "import os"
   ]
  },
  {
   "cell_type": "code",
   "execution_count": 144,
   "id": "e14d9ef9",
   "metadata": {},
   "outputs": [],
   "source": [
    "# Save the DataFrame to a PDB file\n",
    "def dataframe_to_pdb(df, output_file):\n",
    "    with open(output_file, 'w') as f:\n",
    "        for index, row in df.iterrows():\n",
    "            line = f\"{row['ATOM']:6} {row['resid']:5} {row['name']:4}{row['resname']:3} {row['chain']:1}{row['res']:4}    {float(row['x']):8.3f}{float(row['y']):8.3f}{float(row['z']):8.3f}{float(row['r']):6.2f}  {float(row['bfactor']):6.2f}           {row['atm']:2}\\n\"\n",
    "            f.write(line)\n",
    "#[\"ATOM\", \"resid\", \"name\",\"resname\",\"chain\",\"res\",\"x\",\"y\",\"z\",\"r\",\"bfactor\",\"atm\"]\n",
    "# Specify the output file name\n",
    "output_file = 'output.pdb'\n",
    "\n",
    "# Convert DataFrame to PDB file\n",
    "dataframe_to_pdb(df_prot, output_file)\n"
   ]
  },
  {
   "cell_type": "code",
   "execution_count": 104,
   "id": "6c525cee",
   "metadata": {},
   "outputs": [],
   "source": [
    "import os"
   ]
  }
 ],
 "metadata": {
  "kernelspec": {
   "display_name": "Python 3 (ipykernel)",
   "language": "python",
   "name": "python3"
  },
  "language_info": {
   "codemirror_mode": {
    "name": "ipython",
    "version": 3
   },
   "file_extension": ".py",
   "mimetype": "text/x-python",
   "name": "python",
   "nbconvert_exporter": "python",
   "pygments_lexer": "ipython3",
   "version": "3.10.12"
  }
 },
 "nbformat": 4,
 "nbformat_minor": 5
}
