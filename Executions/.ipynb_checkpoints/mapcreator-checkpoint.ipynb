{
 "cells": [
  {
   "cell_type": "code",
   "execution_count": 11,
   "id": "ed6fb848",
   "metadata": {},
   "outputs": [],
   "source": [
    "import shutil, os"
   ]
  },
  {
   "cell_type": "code",
   "execution_count": 15,
   "id": "a94dc14d",
   "metadata": {},
   "outputs": [
    {
     "name": "stdout",
     "output_type": "stream",
     "text": [
      "Directory  /home/louis/SBVS/maps/receptor_multimer_270_256_283_100_100_100/  already exists\n"
     ]
    }
   ],
   "source": [
    "nptsx = \"100\"\n",
    "nptsy = \"100\"\n",
    "nptsz = \"100\"\n",
    "\n",
    "gridcenterx = \"270\"\n",
    "gridcentery = \"256\"\n",
    "gridcenterz = \"283\"\n",
    "\n",
    "nomreceptor = \"receptor_multimer\"\n",
    "adressereceptor = \"/home/louis/SBVS/receptor/\"\n",
    "\n",
    "createdirgpf = \"/home/louis/SBVS/maps/\"+nomreceptor+\"_\"+gridcenterx+\"_\"+gridcentery+\"_\"+gridcenterz+\"_\"+nptsx+\"_\"+nptsy+\"_\"+nptsz+\"/\"\n",
    "dirmaps = createdirgpf\n",
    "\n",
    "if not os.path.exists(createdirgpf):\n",
    "    os.mkdir(createdirgpf)\n",
    "    print(\"Directory \" , createdirgpf ,  \" Created \")\n",
    "else:    \n",
    "    print(\"Directory \" , createdirgpf ,  \" already exists\")\n",
    "    \n",
    "\n",
    "for x in range(1,4):\n",
    "    adresseGPF = \"/home/louis/SBVS/maps/GPF/DOCKING\"+str(x)+\".gpf\"\n",
    "    with open(adresseGPF, 'r+') as file:\n",
    "            # read a list of lines into data\n",
    "        data = file.readlines()\n",
    "    data[0] = \"npts \"+nptsx+\" \"+nptsy+\" \"+nptsz+\"\\n\"\n",
    "    data[5] = \"receptor \"+adressereceptor+nomreceptor+\".pdbqt\\n\"\n",
    "    data[6] = \"gridcenter \"+gridcenterx+\" \"+gridcentery+\" \"+gridcenterz+\"\\n\"\n",
    "    savegpf = dirmaps+\"DOCKING\"+str(x)+\".gpf\"\n",
    "    textfile = open(savegpf, \"w+\")\n",
    "    for element in data:\n",
    "\n",
    "        textfile.write(element)\n",
    "\n",
    "    textfile.close()   "
   ]
  },
  {
   "cell_type": "code",
   "execution_count": 7,
   "id": "1c3aef97",
   "metadata": {},
   "outputs": [
    {
     "ename": "NameError",
     "evalue": "name 'os' is not defined",
     "output_type": "error",
     "traceback": [
      "\u001b[0;31m---------------------------------------------------------------------------\u001b[0m",
      "\u001b[0;31mNameError\u001b[0m                                 Traceback (most recent call last)",
      "Input \u001b[0;32mIn [7]\u001b[0m, in \u001b[0;36m<cell line: 1>\u001b[0;34m()\u001b[0m\n\u001b[0;32m----> 1\u001b[0m \u001b[43mos\u001b[49m\u001b[38;5;241m.\u001b[39mchdir(\u001b[38;5;124m'\u001b[39m\u001b[38;5;124m/home/louis/SBVS/\u001b[39m\u001b[38;5;124m'\u001b[39m)\n\u001b[1;32m      2\u001b[0m gpfcreate \u001b[38;5;241m=\u001b[39m \u001b[38;5;124m\"\u001b[39m\u001b[38;5;124m./parametres/prepare_gpf4.py -l FMN.pdbqt -r receptormultimer.pdbqt -o /home/louis/testenv/docking/\u001b[39m\u001b[38;5;124m\"\u001b[39m\u001b[38;5;241m+\u001b[39mzincfilename\u001b[38;5;241m+\u001b[39m\u001b[38;5;124m\"\u001b[39m\u001b[38;5;124m/parametres/DOCKING.gpf -p npts=\u001b[39m\u001b[38;5;130;01m\\\"\u001b[39;00m\u001b[38;5;124m\"\u001b[39m\u001b[38;5;241m+\u001b[39mnptsx\u001b[38;5;241m+\u001b[39m\u001b[38;5;124m\"\u001b[39m\u001b[38;5;124m,\u001b[39m\u001b[38;5;124m\"\u001b[39m\u001b[38;5;241m+\u001b[39mnptsy\u001b[38;5;241m+\u001b[39m\u001b[38;5;124m\"\u001b[39m\u001b[38;5;124m,\u001b[39m\u001b[38;5;124m\"\u001b[39m\u001b[38;5;241m+\u001b[39mnptsz\u001b[38;5;241m+\u001b[39m\u001b[38;5;124m\"\u001b[39m\u001b[38;5;130;01m\\\"\u001b[39;00m\u001b[38;5;124m -p gridcenter=\u001b[39m\u001b[38;5;130;01m\\\"\u001b[39;00m\u001b[38;5;124m\"\u001b[39m\u001b[38;5;241m+\u001b[39mgridcenterx\u001b[38;5;241m+\u001b[39m\u001b[38;5;124m\"\u001b[39m\u001b[38;5;124m,\u001b[39m\u001b[38;5;124m\"\u001b[39m\u001b[38;5;241m+\u001b[39mgridcentery\u001b[38;5;241m+\u001b[39m\u001b[38;5;124m\"\u001b[39m\u001b[38;5;124m,\u001b[39m\u001b[38;5;124m\"\u001b[39m\u001b[38;5;241m+\u001b[39mgridcenterz\u001b[38;5;241m+\u001b[39m\u001b[38;5;124m\"\u001b[39m\u001b[38;5;130;01m\\\"\u001b[39;00m\u001b[38;5;124m\"\u001b[39m\n\u001b[1;32m      4\u001b[0m             \u001b[38;5;66;03m# autogrid4 setup + exec\u001b[39;00m\n",
      "\u001b[0;31mNameError\u001b[0m: name 'os' is not defined"
     ]
    }
   ],
   "source": [
    "os.chdir('/home/louis/SBVS/')\n",
    "gpfcreate = \"./parametres/prepare_gpf4.py -l FMN.pdbqt -r receptormultimer.pdbqt -o /home/louis/testenv/docking/\"+zincfilename+\"/parametres/DOCKING.gpf -p npts=\\\"\"+nptsx+\",\"+nptsy+\",\"+nptsz+\"\\\" -p gridcenter=\\\"\"+gridcenterx+\",\"+gridcentery+\",\"+gridcenterz+\"\\\"\"\n",
    "\n",
    "            # autogrid4 setup + exec\n",
    "os.system(gpfcreate)\n",
    "changedirparam = \"/home/louis/testenv/docking/\"+zincfilename+\"/parametres\"\n",
    "os.chdir(changedirparam)\n",
    "cpreceptor = \"/home/louis/testenv/docking/\"+zincfilename+\"/parametres/receptormultimer.pdbqt\"\n",
    "shutil.copyfile(\"/home/louis/testenv/receptormultimer.pdbqt\",cpreceptor)\n",
    "autogrid = \"autogrid4 -p /home/louis/testenv/docking/\"+zincfilename+\"/parametres/DOCKING.gpf >/dev/null\"\n",
    "os.system(autogrid)"
   ]
  },
  {
   "cell_type": "code",
   "execution_count": null,
   "id": "7a80eb15",
   "metadata": {},
   "outputs": [],
   "source": []
  }
 ],
 "metadata": {
  "kernelspec": {
   "display_name": "Python 3 (ipykernel)",
   "language": "python",
   "name": "python3"
  },
  "language_info": {
   "codemirror_mode": {
    "name": "ipython",
    "version": 3
   },
   "file_extension": ".py",
   "mimetype": "text/x-python",
   "name": "python",
   "nbconvert_exporter": "python",
   "pygments_lexer": "ipython3",
   "version": "3.9.2"
  }
 },
 "nbformat": 4,
 "nbformat_minor": 5
}
