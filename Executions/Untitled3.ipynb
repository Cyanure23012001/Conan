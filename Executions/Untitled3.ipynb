{
 "cells": [
  {
   "cell_type": "code",
   "execution_count": 2,
   "id": "8b95f62a-0630-4b11-8a0c-968ee66613eb",
   "metadata": {},
   "outputs": [],
   "source": [
    "import dearpygui.dearpygui as dpg\n",
    "import sys\n",
    "import glob\n",
    "import docklaunch as dckl\n",
    "import psutil\n"
   ]
  },
  {
   "cell_type": "code",
   "execution_count": 1,
   "id": "5c81dd1b-659c-45cd-8041-17b42d0bc9d7",
   "metadata": {},
   "outputs": [
    {
     "ename": "SystemError",
     "evalue": "<built-in function set_value> returned a result with an error set",
     "output_type": "error",
     "traceback": [
      "\u001b[0;31m---------------------------------------------------------------------------\u001b[0m",
      "\u001b[0;31mException\u001b[0m                                 Traceback (most recent call last)",
      "\u001b[0;31mException\u001b[0m: \nError:     [1005]\nCommand:   set_value\nItem:      0 \nLabel:     Not found\nItem Type: Unknown\nMessage:   Item not found: 0",
      "\nThe above exception was the direct cause of the following exception:\n",
      "\u001b[0;31mSystemError\u001b[0m                               Traceback (most recent call last)",
      "\u001b[0;32m/tmp/ipykernel_119884/674229562.py\u001b[0m in \u001b[0;36m<module>\u001b[0;34m\u001b[0m\n\u001b[1;32m     37\u001b[0m \u001b[0;34m\u001b[0m\u001b[0m\n\u001b[1;32m     38\u001b[0m     \u001b[0mdpg\u001b[0m\u001b[0;34m.\u001b[0m\u001b[0mrender_dearpygui_frame\u001b[0m\u001b[0;34m(\u001b[0m\u001b[0;34m)\u001b[0m\u001b[0;34m\u001b[0m\u001b[0;34m\u001b[0m\u001b[0m\n\u001b[0;32m---> 39\u001b[0;31m     \u001b[0mdpg\u001b[0m\u001b[0;34m.\u001b[0m\u001b[0mset_value\u001b[0m\u001b[0;34m(\u001b[0m\u001b[0;34m\"usage\"\u001b[0m\u001b[0;34m,\u001b[0m\u001b[0;34mf\"CPU usage:{psutil.cpu_percent()}%, Memory usage: {psutil.virtual_memory().percent}%\"\u001b[0m\u001b[0;34m)\u001b[0m\u001b[0;34m\u001b[0m\u001b[0;34m\u001b[0m\u001b[0m\n\u001b[0m\u001b[1;32m     40\u001b[0m \u001b[0;34m\u001b[0m\u001b[0m\n\u001b[1;32m     41\u001b[0m \u001b[0mdpg\u001b[0m\u001b[0;34m.\u001b[0m\u001b[0mstart_dearpygui\u001b[0m\u001b[0;34m(\u001b[0m\u001b[0;34m)\u001b[0m\u001b[0;34m\u001b[0m\u001b[0;34m\u001b[0m\u001b[0m\n",
      "\u001b[0;32m~/.local/lib/python3.9/site-packages/dearpygui/dearpygui.py\u001b[0m in \u001b[0;36mset_value\u001b[0;34m(item, value, **kwargs)\u001b[0m\n\u001b[1;32m   9111\u001b[0m \t\"\"\"\n\u001b[1;32m   9112\u001b[0m \u001b[0;34m\u001b[0m\u001b[0m\n\u001b[0;32m-> 9113\u001b[0;31m         \u001b[0;32mreturn\u001b[0m \u001b[0minternal_dpg\u001b[0m\u001b[0;34m.\u001b[0m\u001b[0mset_value\u001b[0m\u001b[0;34m(\u001b[0m\u001b[0mitem\u001b[0m\u001b[0;34m,\u001b[0m \u001b[0mvalue\u001b[0m\u001b[0;34m,\u001b[0m \u001b[0;34m**\u001b[0m\u001b[0mkwargs\u001b[0m\u001b[0;34m)\u001b[0m\u001b[0;34m\u001b[0m\u001b[0;34m\u001b[0m\u001b[0m\n\u001b[0m\u001b[1;32m   9114\u001b[0m \u001b[0;34m\u001b[0m\u001b[0m\n\u001b[1;32m   9115\u001b[0m \u001b[0;32mdef\u001b[0m \u001b[0mset_viewport_resize_callback\u001b[0m\u001b[0;34m(\u001b[0m\u001b[0mcallback\u001b[0m \u001b[0;34m:\u001b[0m \u001b[0mCallable\u001b[0m\u001b[0;34m,\u001b[0m \u001b[0;34m*\u001b[0m\u001b[0;34m,\u001b[0m \u001b[0muser_data\u001b[0m\u001b[0;34m:\u001b[0m \u001b[0mAny\u001b[0m \u001b[0;34m=\u001b[0m\u001b[0;32mNone\u001b[0m\u001b[0;34m,\u001b[0m \u001b[0;34m**\u001b[0m\u001b[0mkwargs\u001b[0m\u001b[0;34m)\u001b[0m \u001b[0;34m->\u001b[0m \u001b[0mstr\u001b[0m\u001b[0;34m:\u001b[0m\u001b[0;34m\u001b[0m\u001b[0;34m\u001b[0m\u001b[0m\n",
      "\u001b[0;31mSystemError\u001b[0m: <built-in function set_value> returned a result with an error set"
     ]
    }
   ],
   "source": [
    "import dearpygui.dearpygui as dpg\n",
    "import sys\n",
    "import glob\n",
    "import docklaunch as dckl\n",
    "import psutil\n",
    "dpg.create_context()\n",
    "dpg.create_viewport(title='Conan', width=800, height=500)\n",
    "def delete_second_window(sender):\n",
    "    dpg.delete_item(\"secondwindow\")\n",
    "\n",
    "def launch_window(sender):\n",
    "    with dpg.child_window(label=\"Running\", width=200, height=200, pos=(100, 100),parent=\"principal\",tag=\"secondwindow\"):\n",
    "        dpg.add_button(label=\"Delete second\",small=True,callback=delete_second_window)\n",
    "        \n",
    "        \n",
    "    \n",
    "with dpg.window(label=\"Parameters\",width=500,height=500,tag=\"principal\"):\n",
    "    #dpg.set_main_window_size(500,500)\n",
    "    dpg.add_text(\"Conan\")\n",
    "    dpg.add_button(label=\"Launch Window\",callback=launch_window)\n",
    "    #dpg.add_button(label=\"Launch Window\",callback=launch_window)\n",
    "    def launch_window(sender):\n",
    "        with dpg.window(label=\"Running\", width=200, height=200, pos=(100, 100),tag=\"secondwindow\"):\n",
    "            dpg.add_text(f\"CPU usage:{psutil.cpu_percent()}%, Memory usage: {psutil.virtual_memory().percent}%\", tag=\"usage\")\n",
    "    #dpg.add_button(label=\"Launch Window\",callback=launch_window)\n",
    "    #dpg.add_text(f\"CPU usage:{psutil.cpu_percent()}%, Memory usage: {psutil.virtual_memory().percent}%\", tag=\"usage\")\n",
    "    \n",
    "\n",
    "\n",
    "    \n",
    "dpg.setup_dearpygui()\n",
    "dpg.show_viewport()\n",
    "\n",
    "while dpg.is_dearpygui_running():\n",
    "    # insert here any code you would like to run in the render loop\n",
    "    # you can manually stop by using stop_dearpygui()\n",
    "\n",
    "    dpg.render_dearpygui_frame()\n",
    "    dpg.set_value(\"usage\",f\"CPU usage:{psutil.cpu_percent()}%, Memory usage: {psutil.virtual_memory().percent}%\")\n",
    "\n",
    "dpg.start_dearpygui()\n",
    "dpg.destroy_context()  "
   ]
  },
  {
   "cell_type": "code",
   "execution_count": 2,
   "id": "1fe7ea9b-8573-42af-8720-486731761c0a",
   "metadata": {},
   "outputs": [
    {
     "ename": "ModuleNotFoundError",
     "evalue": "No module named 'dearpygui.core'",
     "output_type": "error",
     "traceback": [
      "\u001b[0;31m---------------------------------------------------------------------------\u001b[0m",
      "\u001b[0;31mModuleNotFoundError\u001b[0m                       Traceback (most recent call last)",
      "\u001b[0;32m/tmp/ipykernel_85653/372312009.py\u001b[0m in \u001b[0;36m<module>\u001b[0;34m\u001b[0m\n\u001b[0;32m----> 1\u001b[0;31m \u001b[0;32mfrom\u001b[0m \u001b[0mdearpygui\u001b[0m\u001b[0;34m.\u001b[0m\u001b[0mcore\u001b[0m \u001b[0;32mimport\u001b[0m \u001b[0;34m*\u001b[0m\u001b[0;34m\u001b[0m\u001b[0;34m\u001b[0m\u001b[0m\n\u001b[0m\u001b[1;32m      2\u001b[0m \u001b[0;34m\u001b[0m\u001b[0m\n\u001b[1;32m      3\u001b[0m \u001b[0mset_main_window_size\u001b[0m\u001b[0;34m(\u001b[0m\u001b[0;36m800\u001b[0m\u001b[0;34m,\u001b[0m \u001b[0;36m800\u001b[0m\u001b[0;34m)\u001b[0m\u001b[0;34m\u001b[0m\u001b[0;34m\u001b[0m\u001b[0m\n\u001b[1;32m      4\u001b[0m \u001b[0mshow_about\u001b[0m\u001b[0;34m(\u001b[0m\u001b[0;34m)\u001b[0m\u001b[0;34m\u001b[0m\u001b[0;34m\u001b[0m\u001b[0m\n\u001b[1;32m      5\u001b[0m \u001b[0mshow_documentation\u001b[0m\u001b[0;34m(\u001b[0m\u001b[0;34m)\u001b[0m\u001b[0;34m\u001b[0m\u001b[0;34m\u001b[0m\u001b[0m\n",
      "\u001b[0;31mModuleNotFoundError\u001b[0m: No module named 'dearpygui.core'"
     ]
    }
   ],
   "source": [
    "from dearpygui.core import *\n",
    "\n",
    "set_main_window_size(800, 800)\n",
    "show_about()\n",
    "show_documentation()\n",
    "\n",
    "# when running this code please look at the about window and it will report which version of Dear PyGUI is running\n",
    "# Even if you just did a pip install please ensure you your environment is using the latest package\n",
    "start_dearpygui()"
   ]
  },
  {
   "cell_type": "code",
   "execution_count": 1,
   "id": "94d6ae32-7b31-48c8-bef9-5d1d0a7a7fe5",
   "metadata": {},
   "outputs": [],
   "source": [
    "import dearpygui.dearpygui as dpg\n",
    "\n",
    "dpg.create_context()\n",
    "\n",
    "def change_tab(sender, app_data):\n",
    "    #if the sender is the tag 100 ( Button 1 ) we set the value of the test_tab_bar to the test_tab_2\n",
    "    #if the sender isn't the tag 100 ( Button 1) we set the value of the test_tab_bar to the test_tab_1\n",
    "    if sender == 100:\n",
    "        dpg.set_value(\"test_tab_bar\", \"test_tab_2\")\n",
    "    else:\n",
    "        dpg.set_value(\"test_tab_bar\", \"test_tab_1\")\n",
    "\n",
    "\n",
    "with dpg.window(label=\"Window\", tag=\"window\"):\n",
    "    #creating the tab bar\n",
    "    with dpg.tab_bar(tag=\"test_tab_bar\") as tb:\n",
    "        #creating a tab with the tag test_tab_1\n",
    "        with dpg.tab(label=\"tab 1\", tag=\"test_tab_1\"):\n",
    "            #creating a button that executes the callback change_tab with the tag 100\n",
    "            dpg.add_button(label=\"activate tab 2\", callback=change_tab, tag=100)\n",
    "        #creating a tab with the tag test_tab_2\n",
    "        with dpg.tab(label=\"tab 2\", tag=\"test_tab_2\"):\n",
    "            #creating a button that executes the callback change_tab with the tag 200\n",
    "            dpg.add_button(label=\"activate tab 1\", tag=200, callback=change_tab,)\n",
    "\n",
    "dpg.create_viewport(title=\"Tab_bar switch\")\n",
    "dpg.set_primary_window(\"window\", True)\n",
    "dpg.setup_dearpygui()\n",
    "dpg.show_viewport()\n",
    "dpg.start_dearpygui()\n",
    "dpg.destroy_context()"
   ]
  },
  {
   "cell_type": "code",
   "execution_count": null,
   "id": "7267a94d-9087-495f-af89-a77af6f5fdac",
   "metadata": {},
   "outputs": [],
   "source": []
  }
 ],
 "metadata": {
  "kernelspec": {
   "display_name": "Python 3 (ipykernel)",
   "language": "python",
   "name": "python3"
  },
  "language_info": {
   "codemirror_mode": {
    "name": "ipython",
    "version": 3
   },
   "file_extension": ".py",
   "mimetype": "text/x-python",
   "name": "python",
   "nbconvert_exporter": "python",
   "pygments_lexer": "ipython3",
   "version": "3.9.7"
  }
 },
 "nbformat": 4,
 "nbformat_minor": 5
}
